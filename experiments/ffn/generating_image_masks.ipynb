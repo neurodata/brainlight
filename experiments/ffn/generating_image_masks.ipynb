{
 "cells": [
  {
   "cell_type": "code",
   "execution_count": 1,
   "metadata": {},
   "outputs": [
    {
     "name": "stderr",
     "output_type": "stream",
     "text": [
      "D:\\Anaconda3\\envs\\brainlit\\lib\\site-packages\\napari\\__init__.py:44: UserWarning: \n",
      "    napari was tested with QT library `>=5.12.3`.\n",
      "    The version installed is 5.9.6. Please report any issues with this\n",
      "    specific QT version at https://github.com/Napari/napari/issues.\n",
      "    \n",
      "  warn(message=warn_message)\n"
     ]
    }
   ],
   "source": [
    "from brainlit.utils import read_swc, df_to_graph, graph_to_paths\n",
    "from brainlit.viz.visualize import napari_viewer\n",
    "import numpy as np\n",
    "from skimage import io\n",
    "from scipy.ndimage.morphology import distance_transform_edt\n",
    "from pathlib import Path\n",
    "from brainlit.algorithms.image_processing import Bresenham3D\n",
    "from brainlit.utils.benchmarking_params import brain_offsets, vol_offsets, scales, type_to_date"
   ]
  },
  {
   "cell_type": "code",
   "execution_count": 2,
   "metadata": {},
   "outputs": [
    {
     "name": "stdout",
     "output_type": "stream",
     "text": [
      "D:\\Study\\Nuero Data Design\\brainlit\\benchmarking_datasets\\Images\\test_1-gfp.tif\n",
      "D:\\Study\\Nuero Data Design\\brainlit\\benchmarking_datasets\\Manual-GT\\8-01_test_1-5\\8-01_test_1\\tree_1.swc\n",
      "D:\\Study\\Nuero Data Design\\brainlit\\benchmarking_datasets\\Manual-GT\\8-01_test_1-5\\8-01_test_1\\tree_10.swc\n",
      "D:\\Study\\Nuero Data Design\\brainlit\\benchmarking_datasets\\Manual-GT\\8-01_test_1-5\\8-01_test_1\\tree_11.swc\n",
      "D:\\Study\\Nuero Data Design\\brainlit\\benchmarking_datasets\\Manual-GT\\8-01_test_1-5\\8-01_test_1\\tree_12.swc\n",
      "D:\\Study\\Nuero Data Design\\brainlit\\benchmarking_datasets\\Manual-GT\\8-01_test_1-5\\8-01_test_1\\tree_13.swc\n",
      "D:\\Study\\Nuero Data Design\\brainlit\\benchmarking_datasets\\Manual-GT\\8-01_test_1-5\\8-01_test_1\\tree_14.swc\n",
      "D:\\Study\\Nuero Data Design\\brainlit\\benchmarking_datasets\\Manual-GT\\8-01_test_1-5\\8-01_test_1\\tree_15.swc\n",
      "D:\\Study\\Nuero Data Design\\brainlit\\benchmarking_datasets\\Manual-GT\\8-01_test_1-5\\8-01_test_1\\tree_16.swc\n",
      "D:\\Study\\Nuero Data Design\\brainlit\\benchmarking_datasets\\Manual-GT\\8-01_test_1-5\\8-01_test_1\\tree_17.swc\n",
      "D:\\Study\\Nuero Data Design\\brainlit\\benchmarking_datasets\\Manual-GT\\8-01_test_1-5\\8-01_test_1\\tree_18.swc\n",
      "D:\\Study\\Nuero Data Design\\brainlit\\benchmarking_datasets\\Manual-GT\\8-01_test_1-5\\8-01_test_1\\tree_19.swc\n",
      "D:\\Study\\Nuero Data Design\\brainlit\\benchmarking_datasets\\Manual-GT\\8-01_test_1-5\\8-01_test_1\\tree_2.swc\n",
      "D:\\Study\\Nuero Data Design\\brainlit\\benchmarking_datasets\\Manual-GT\\8-01_test_1-5\\8-01_test_1\\tree_3.swc\n",
      "D:\\Study\\Nuero Data Design\\brainlit\\benchmarking_datasets\\Manual-GT\\8-01_test_1-5\\8-01_test_1\\tree_4.swc\n",
      "D:\\Study\\Nuero Data Design\\brainlit\\benchmarking_datasets\\Manual-GT\\8-01_test_1-5\\8-01_test_1\\tree_5.swc\n",
      "D:\\Study\\Nuero Data Design\\brainlit\\benchmarking_datasets\\Manual-GT\\8-01_test_1-5\\8-01_test_1\\tree_6.swc\n",
      "D:\\Study\\Nuero Data Design\\brainlit\\benchmarking_datasets\\Manual-GT\\8-01_test_1-5\\8-01_test_1\\tree_7.swc\n",
      "D:\\Study\\Nuero Data Design\\brainlit\\benchmarking_datasets\\Manual-GT\\8-01_test_1-5\\8-01_test_1\\tree_8.swc\n",
      "D:\\Study\\Nuero Data Design\\brainlit\\benchmarking_datasets\\Manual-GT\\8-01_test_1-5\\8-01_test_1\\tree_9.swc\n"
     ]
    },
    {
     "name": "stderr",
     "output_type": "stream",
     "text": [
      "D:\\Anaconda3\\envs\\brainlit\\lib\\site-packages\\ipykernel_launcher.py:80: UserWarning: D:\\Study\\Nuero Data Design\\brainlit\\benchmarking_masks\\test_1_mask.tif is a low contrast image\n"
     ]
    },
    {
     "name": "stdout",
     "output_type": "stream",
     "text": [
      "D:\\Study\\Nuero Data Design\\brainlit\\benchmarking_datasets\\Images\\test_10-gfp.tif\n",
      "D:\\Study\\Nuero Data Design\\brainlit\\benchmarking_datasets\\Manual-GT\\8-01_test_6-10\\8-01_test_10\\tree_1.swc\n",
      "D:\\Study\\Nuero Data Design\\brainlit\\benchmarking_datasets\\Manual-GT\\8-01_test_6-10\\8-01_test_10\\tree_2.swc\n",
      "D:\\Study\\Nuero Data Design\\brainlit\\benchmarking_datasets\\Manual-GT\\8-01_test_6-10\\8-01_test_10\\tree_3.swc\n",
      "D:\\Study\\Nuero Data Design\\brainlit\\benchmarking_datasets\\Manual-GT\\8-01_test_6-10\\8-01_test_10\\tree_4.swc\n",
      "D:\\Study\\Nuero Data Design\\brainlit\\benchmarking_datasets\\Manual-GT\\8-01_test_6-10\\8-01_test_10\\tree_5.swc\n",
      "D:\\Study\\Nuero Data Design\\brainlit\\benchmarking_datasets\\Manual-GT\\8-01_test_6-10\\8-01_test_10\\tree_6.swc\n",
      "D:\\Study\\Nuero Data Design\\brainlit\\benchmarking_datasets\\Manual-GT\\8-01_test_6-10\\8-01_test_10\\tree_7.swc\n",
      "D:\\Study\\Nuero Data Design\\brainlit\\benchmarking_datasets\\Manual-GT\\8-01_test_6-10\\8-01_test_10\\tree_8.swc\n",
      "D:\\Study\\Nuero Data Design\\brainlit\\benchmarking_datasets\\Manual-GT\\8-01_test_6-10\\8-01_test_10\\tree_9.swc\n"
     ]
    },
    {
     "name": "stderr",
     "output_type": "stream",
     "text": [
      "D:\\Anaconda3\\envs\\brainlit\\lib\\site-packages\\ipykernel_launcher.py:80: UserWarning: D:\\Study\\Nuero Data Design\\brainlit\\benchmarking_masks\\test_10_mask.tif is a low contrast image\n"
     ]
    },
    {
     "name": "stdout",
     "output_type": "stream",
     "text": [
      "D:\\Study\\Nuero Data Design\\brainlit\\benchmarking_datasets\\Images\\test_11-gfp.tif\n",
      "D:\\Study\\Nuero Data Design\\brainlit\\benchmarking_datasets\\Manual-GT\\8-01_test_11-15\\8-01_test_11\\tree_1.swc\n",
      "D:\\Study\\Nuero Data Design\\brainlit\\benchmarking_datasets\\Manual-GT\\8-01_test_11-15\\8-01_test_11\\tree_2.swc\n",
      "D:\\Study\\Nuero Data Design\\brainlit\\benchmarking_datasets\\Manual-GT\\8-01_test_11-15\\8-01_test_11\\tree_3.swc\n",
      "D:\\Study\\Nuero Data Design\\brainlit\\benchmarking_datasets\\Manual-GT\\8-01_test_11-15\\8-01_test_11\\tree_4.swc\n"
     ]
    },
    {
     "name": "stderr",
     "output_type": "stream",
     "text": [
      "D:\\Anaconda3\\envs\\brainlit\\lib\\site-packages\\ipykernel_launcher.py:80: UserWarning: D:\\Study\\Nuero Data Design\\brainlit\\benchmarking_masks\\test_11_mask.tif is a low contrast image\n"
     ]
    },
    {
     "name": "stdout",
     "output_type": "stream",
     "text": [
      "D:\\Study\\Nuero Data Design\\brainlit\\benchmarking_datasets\\Images\\test_12-gfp.tif\n",
      "D:\\Study\\Nuero Data Design\\brainlit\\benchmarking_datasets\\Manual-GT\\8-01_test_11-15\\8-01_test_12\\tree_1.swc\n",
      "D:\\Study\\Nuero Data Design\\brainlit\\benchmarking_datasets\\Manual-GT\\8-01_test_11-15\\8-01_test_12\\tree_10.swc\n",
      "D:\\Study\\Nuero Data Design\\brainlit\\benchmarking_datasets\\Manual-GT\\8-01_test_11-15\\8-01_test_12\\tree_11.swc\n",
      "D:\\Study\\Nuero Data Design\\brainlit\\benchmarking_datasets\\Manual-GT\\8-01_test_11-15\\8-01_test_12\\tree_12.swc\n",
      "D:\\Study\\Nuero Data Design\\brainlit\\benchmarking_datasets\\Manual-GT\\8-01_test_11-15\\8-01_test_12\\tree_13.swc\n",
      "D:\\Study\\Nuero Data Design\\brainlit\\benchmarking_datasets\\Manual-GT\\8-01_test_11-15\\8-01_test_12\\tree_2.swc\n",
      "D:\\Study\\Nuero Data Design\\brainlit\\benchmarking_datasets\\Manual-GT\\8-01_test_11-15\\8-01_test_12\\tree_3.swc\n",
      "D:\\Study\\Nuero Data Design\\brainlit\\benchmarking_datasets\\Manual-GT\\8-01_test_11-15\\8-01_test_12\\tree_4.swc\n",
      "D:\\Study\\Nuero Data Design\\brainlit\\benchmarking_datasets\\Manual-GT\\8-01_test_11-15\\8-01_test_12\\tree_5.swc\n",
      "D:\\Study\\Nuero Data Design\\brainlit\\benchmarking_datasets\\Manual-GT\\8-01_test_11-15\\8-01_test_12\\tree_6.swc\n",
      "D:\\Study\\Nuero Data Design\\brainlit\\benchmarking_datasets\\Manual-GT\\8-01_test_11-15\\8-01_test_12\\tree_7.swc\n",
      "D:\\Study\\Nuero Data Design\\brainlit\\benchmarking_datasets\\Manual-GT\\8-01_test_11-15\\8-01_test_12\\tree_8.swc\n",
      "D:\\Study\\Nuero Data Design\\brainlit\\benchmarking_datasets\\Manual-GT\\8-01_test_11-15\\8-01_test_12\\tree_9.swc\n"
     ]
    },
    {
     "name": "stderr",
     "output_type": "stream",
     "text": [
      "D:\\Anaconda3\\envs\\brainlit\\lib\\site-packages\\ipykernel_launcher.py:80: UserWarning: D:\\Study\\Nuero Data Design\\brainlit\\benchmarking_masks\\test_12_mask.tif is a low contrast image\n"
     ]
    },
    {
     "name": "stdout",
     "output_type": "stream",
     "text": [
      "D:\\Study\\Nuero Data Design\\brainlit\\benchmarking_datasets\\Images\\test_13-gfp.tif\n",
      "D:\\Study\\Nuero Data Design\\brainlit\\benchmarking_datasets\\Manual-GT\\8-01_test_11-15\\8-01_test_13\\tree_1.swc\n",
      "D:\\Study\\Nuero Data Design\\brainlit\\benchmarking_datasets\\Manual-GT\\8-01_test_11-15\\8-01_test_13\\tree_2.swc\n",
      "D:\\Study\\Nuero Data Design\\brainlit\\benchmarking_datasets\\Manual-GT\\8-01_test_11-15\\8-01_test_13\\tree_3.swc\n",
      "D:\\Study\\Nuero Data Design\\brainlit\\benchmarking_datasets\\Manual-GT\\8-01_test_11-15\\8-01_test_13\\tree_4.swc\n",
      "D:\\Study\\Nuero Data Design\\brainlit\\benchmarking_datasets\\Manual-GT\\8-01_test_11-15\\8-01_test_13\\tree_5.swc\n",
      "D:\\Study\\Nuero Data Design\\brainlit\\benchmarking_datasets\\Manual-GT\\8-01_test_11-15\\8-01_test_13\\tree_6.swc\n",
      "D:\\Study\\Nuero Data Design\\brainlit\\benchmarking_datasets\\Manual-GT\\8-01_test_11-15\\8-01_test_13\\tree_7.swc\n",
      "D:\\Study\\Nuero Data Design\\brainlit\\benchmarking_datasets\\Manual-GT\\8-01_test_11-15\\8-01_test_13\\tree_8.swc\n"
     ]
    },
    {
     "name": "stderr",
     "output_type": "stream",
     "text": [
      "D:\\Anaconda3\\envs\\brainlit\\lib\\site-packages\\ipykernel_launcher.py:80: UserWarning: D:\\Study\\Nuero Data Design\\brainlit\\benchmarking_masks\\test_13_mask.tif is a low contrast image\n"
     ]
    },
    {
     "name": "stdout",
     "output_type": "stream",
     "text": [
      "D:\\Study\\Nuero Data Design\\brainlit\\benchmarking_datasets\\Images\\test_14-gfp.tif\n",
      "D:\\Study\\Nuero Data Design\\brainlit\\benchmarking_datasets\\Manual-GT\\8-01_test_11-15\\8-01_test_14\\tree_1.swc\n",
      "D:\\Study\\Nuero Data Design\\brainlit\\benchmarking_datasets\\Manual-GT\\8-01_test_11-15\\8-01_test_14\\tree_2.swc\n",
      "D:\\Study\\Nuero Data Design\\brainlit\\benchmarking_datasets\\Manual-GT\\8-01_test_11-15\\8-01_test_14\\tree_3.swc\n",
      "D:\\Study\\Nuero Data Design\\brainlit\\benchmarking_datasets\\Manual-GT\\8-01_test_11-15\\8-01_test_14\\tree_4.swc\n",
      "D:\\Study\\Nuero Data Design\\brainlit\\benchmarking_datasets\\Manual-GT\\8-01_test_11-15\\8-01_test_14\\tree_5.swc\n",
      "D:\\Study\\Nuero Data Design\\brainlit\\benchmarking_datasets\\Manual-GT\\8-01_test_11-15\\8-01_test_14\\tree_6.swc\n",
      "D:\\Study\\Nuero Data Design\\brainlit\\benchmarking_datasets\\Manual-GT\\8-01_test_11-15\\8-01_test_14\\tree_7.swc\n"
     ]
    },
    {
     "name": "stderr",
     "output_type": "stream",
     "text": [
      "D:\\Anaconda3\\envs\\brainlit\\lib\\site-packages\\ipykernel_launcher.py:80: UserWarning: D:\\Study\\Nuero Data Design\\brainlit\\benchmarking_masks\\test_14_mask.tif is a low contrast image\n"
     ]
    },
    {
     "name": "stdout",
     "output_type": "stream",
     "text": [
      "D:\\Study\\Nuero Data Design\\brainlit\\benchmarking_datasets\\Images\\test_15-gfp.tif\n",
      "D:\\Study\\Nuero Data Design\\brainlit\\benchmarking_datasets\\Manual-GT\\8-01_test_11-15\\8-01_test_15\\tree_1.swc\n",
      "D:\\Study\\Nuero Data Design\\brainlit\\benchmarking_datasets\\Manual-GT\\8-01_test_11-15\\8-01_test_15\\tree_10.swc\n",
      "D:\\Study\\Nuero Data Design\\brainlit\\benchmarking_datasets\\Manual-GT\\8-01_test_11-15\\8-01_test_15\\tree_11.swc\n",
      "D:\\Study\\Nuero Data Design\\brainlit\\benchmarking_datasets\\Manual-GT\\8-01_test_11-15\\8-01_test_15\\tree_12.swc\n",
      "D:\\Study\\Nuero Data Design\\brainlit\\benchmarking_datasets\\Manual-GT\\8-01_test_11-15\\8-01_test_15\\tree_13.swc\n",
      "D:\\Study\\Nuero Data Design\\brainlit\\benchmarking_datasets\\Manual-GT\\8-01_test_11-15\\8-01_test_15\\tree_14.swc\n",
      "D:\\Study\\Nuero Data Design\\brainlit\\benchmarking_datasets\\Manual-GT\\8-01_test_11-15\\8-01_test_15\\tree_15.swc\n",
      "D:\\Study\\Nuero Data Design\\brainlit\\benchmarking_datasets\\Manual-GT\\8-01_test_11-15\\8-01_test_15\\tree_16.swc\n",
      "D:\\Study\\Nuero Data Design\\brainlit\\benchmarking_datasets\\Manual-GT\\8-01_test_11-15\\8-01_test_15\\tree_17.swc\n",
      "D:\\Study\\Nuero Data Design\\brainlit\\benchmarking_datasets\\Manual-GT\\8-01_test_11-15\\8-01_test_15\\tree_18.swc\n",
      "D:\\Study\\Nuero Data Design\\brainlit\\benchmarking_datasets\\Manual-GT\\8-01_test_11-15\\8-01_test_15\\tree_2.swc\n",
      "D:\\Study\\Nuero Data Design\\brainlit\\benchmarking_datasets\\Manual-GT\\8-01_test_11-15\\8-01_test_15\\tree_3.swc\n",
      "D:\\Study\\Nuero Data Design\\brainlit\\benchmarking_datasets\\Manual-GT\\8-01_test_11-15\\8-01_test_15\\tree_4.swc\n",
      "D:\\Study\\Nuero Data Design\\brainlit\\benchmarking_datasets\\Manual-GT\\8-01_test_11-15\\8-01_test_15\\tree_5.swc\n",
      "D:\\Study\\Nuero Data Design\\brainlit\\benchmarking_datasets\\Manual-GT\\8-01_test_11-15\\8-01_test_15\\tree_6.swc\n",
      "D:\\Study\\Nuero Data Design\\brainlit\\benchmarking_datasets\\Manual-GT\\8-01_test_11-15\\8-01_test_15\\tree_7.swc\n",
      "D:\\Study\\Nuero Data Design\\brainlit\\benchmarking_datasets\\Manual-GT\\8-01_test_11-15\\8-01_test_15\\tree_8.swc\n",
      "D:\\Study\\Nuero Data Design\\brainlit\\benchmarking_datasets\\Manual-GT\\8-01_test_11-15\\8-01_test_15\\tree_9.swc\n"
     ]
    },
    {
     "name": "stderr",
     "output_type": "stream",
     "text": [
      "D:\\Anaconda3\\envs\\brainlit\\lib\\site-packages\\ipykernel_launcher.py:80: UserWarning: D:\\Study\\Nuero Data Design\\brainlit\\benchmarking_masks\\test_15_mask.tif is a low contrast image\n"
     ]
    },
    {
     "name": "stdout",
     "output_type": "stream",
     "text": [
      "D:\\Study\\Nuero Data Design\\brainlit\\benchmarking_datasets\\Images\\test_16-gfp.tif\n",
      "D:\\Study\\Nuero Data Design\\brainlit\\benchmarking_datasets\\Manual-GT\\8-01_test_16-20\\8-01_test_16\\tree_1.swc\n",
      "D:\\Study\\Nuero Data Design\\brainlit\\benchmarking_datasets\\Manual-GT\\8-01_test_16-20\\8-01_test_16\\tree_10.swc\n",
      "D:\\Study\\Nuero Data Design\\brainlit\\benchmarking_datasets\\Manual-GT\\8-01_test_16-20\\8-01_test_16\\tree_2.swc\n",
      "D:\\Study\\Nuero Data Design\\brainlit\\benchmarking_datasets\\Manual-GT\\8-01_test_16-20\\8-01_test_16\\tree_3.swc\n",
      "D:\\Study\\Nuero Data Design\\brainlit\\benchmarking_datasets\\Manual-GT\\8-01_test_16-20\\8-01_test_16\\tree_4.swc\n",
      "D:\\Study\\Nuero Data Design\\brainlit\\benchmarking_datasets\\Manual-GT\\8-01_test_16-20\\8-01_test_16\\tree_5.swc\n",
      "D:\\Study\\Nuero Data Design\\brainlit\\benchmarking_datasets\\Manual-GT\\8-01_test_16-20\\8-01_test_16\\tree_6.swc\n",
      "D:\\Study\\Nuero Data Design\\brainlit\\benchmarking_datasets\\Manual-GT\\8-01_test_16-20\\8-01_test_16\\tree_7.swc\n",
      "D:\\Study\\Nuero Data Design\\brainlit\\benchmarking_datasets\\Manual-GT\\8-01_test_16-20\\8-01_test_16\\tree_8.swc\n",
      "D:\\Study\\Nuero Data Design\\brainlit\\benchmarking_datasets\\Manual-GT\\8-01_test_16-20\\8-01_test_16\\tree_9.swc\n"
     ]
    },
    {
     "name": "stderr",
     "output_type": "stream",
     "text": [
      "D:\\Anaconda3\\envs\\brainlit\\lib\\site-packages\\ipykernel_launcher.py:80: UserWarning: D:\\Study\\Nuero Data Design\\brainlit\\benchmarking_masks\\test_16_mask.tif is a low contrast image\n"
     ]
    },
    {
     "name": "stdout",
     "output_type": "stream",
     "text": [
      "D:\\Study\\Nuero Data Design\\brainlit\\benchmarking_datasets\\Images\\test_17-gfp.tif\n",
      "D:\\Study\\Nuero Data Design\\brainlit\\benchmarking_datasets\\Manual-GT\\8-01_test_16-20\\8-01_test_17\\tree_1.swc\n",
      "D:\\Study\\Nuero Data Design\\brainlit\\benchmarking_datasets\\Manual-GT\\8-01_test_16-20\\8-01_test_17\\tree_2.swc\n",
      "D:\\Study\\Nuero Data Design\\brainlit\\benchmarking_datasets\\Manual-GT\\8-01_test_16-20\\8-01_test_17\\tree_3.swc\n",
      "D:\\Study\\Nuero Data Design\\brainlit\\benchmarking_datasets\\Manual-GT\\8-01_test_16-20\\8-01_test_17\\tree_4.swc\n",
      "D:\\Study\\Nuero Data Design\\brainlit\\benchmarking_datasets\\Manual-GT\\8-01_test_16-20\\8-01_test_17\\tree_5.swc\n"
     ]
    },
    {
     "name": "stderr",
     "output_type": "stream",
     "text": [
      "D:\\Anaconda3\\envs\\brainlit\\lib\\site-packages\\ipykernel_launcher.py:80: UserWarning: D:\\Study\\Nuero Data Design\\brainlit\\benchmarking_masks\\test_17_mask.tif is a low contrast image\n"
     ]
    },
    {
     "name": "stdout",
     "output_type": "stream",
     "text": [
      "D:\\Study\\Nuero Data Design\\brainlit\\benchmarking_datasets\\Images\\test_18-gfp.tif\n",
      "D:\\Study\\Nuero Data Design\\brainlit\\benchmarking_datasets\\Manual-GT\\8-01_test_16-20\\8-01_test_18\\tree_1.swc\n",
      "D:\\Study\\Nuero Data Design\\brainlit\\benchmarking_datasets\\Manual-GT\\8-01_test_16-20\\8-01_test_18\\tree_10.swc\n",
      "D:\\Study\\Nuero Data Design\\brainlit\\benchmarking_datasets\\Manual-GT\\8-01_test_16-20\\8-01_test_18\\tree_11.swc\n",
      "D:\\Study\\Nuero Data Design\\brainlit\\benchmarking_datasets\\Manual-GT\\8-01_test_16-20\\8-01_test_18\\tree_12.swc\n",
      "D:\\Study\\Nuero Data Design\\brainlit\\benchmarking_datasets\\Manual-GT\\8-01_test_16-20\\8-01_test_18\\tree_13.swc\n",
      "D:\\Study\\Nuero Data Design\\brainlit\\benchmarking_datasets\\Manual-GT\\8-01_test_16-20\\8-01_test_18\\tree_14.swc\n",
      "D:\\Study\\Nuero Data Design\\brainlit\\benchmarking_datasets\\Manual-GT\\8-01_test_16-20\\8-01_test_18\\tree_15.swc\n",
      "D:\\Study\\Nuero Data Design\\brainlit\\benchmarking_datasets\\Manual-GT\\8-01_test_16-20\\8-01_test_18\\tree_16.swc\n",
      "D:\\Study\\Nuero Data Design\\brainlit\\benchmarking_datasets\\Manual-GT\\8-01_test_16-20\\8-01_test_18\\tree_17.swc\n",
      "D:\\Study\\Nuero Data Design\\brainlit\\benchmarking_datasets\\Manual-GT\\8-01_test_16-20\\8-01_test_18\\tree_18.swc\n",
      "D:\\Study\\Nuero Data Design\\brainlit\\benchmarking_datasets\\Manual-GT\\8-01_test_16-20\\8-01_test_18\\tree_19.swc\n",
      "D:\\Study\\Nuero Data Design\\brainlit\\benchmarking_datasets\\Manual-GT\\8-01_test_16-20\\8-01_test_18\\tree_2.swc\n",
      "D:\\Study\\Nuero Data Design\\brainlit\\benchmarking_datasets\\Manual-GT\\8-01_test_16-20\\8-01_test_18\\tree_20.swc\n",
      "D:\\Study\\Nuero Data Design\\brainlit\\benchmarking_datasets\\Manual-GT\\8-01_test_16-20\\8-01_test_18\\tree_21.swc\n",
      "D:\\Study\\Nuero Data Design\\brainlit\\benchmarking_datasets\\Manual-GT\\8-01_test_16-20\\8-01_test_18\\tree_22.swc\n",
      "D:\\Study\\Nuero Data Design\\brainlit\\benchmarking_datasets\\Manual-GT\\8-01_test_16-20\\8-01_test_18\\tree_23.swc\n",
      "D:\\Study\\Nuero Data Design\\brainlit\\benchmarking_datasets\\Manual-GT\\8-01_test_16-20\\8-01_test_18\\tree_24.swc\n",
      "D:\\Study\\Nuero Data Design\\brainlit\\benchmarking_datasets\\Manual-GT\\8-01_test_16-20\\8-01_test_18\\tree_25.swc\n",
      "D:\\Study\\Nuero Data Design\\brainlit\\benchmarking_datasets\\Manual-GT\\8-01_test_16-20\\8-01_test_18\\tree_26.swc\n",
      "D:\\Study\\Nuero Data Design\\brainlit\\benchmarking_datasets\\Manual-GT\\8-01_test_16-20\\8-01_test_18\\tree_27.swc\n",
      "D:\\Study\\Nuero Data Design\\brainlit\\benchmarking_datasets\\Manual-GT\\8-01_test_16-20\\8-01_test_18\\tree_3.swc\n",
      "D:\\Study\\Nuero Data Design\\brainlit\\benchmarking_datasets\\Manual-GT\\8-01_test_16-20\\8-01_test_18\\tree_4.swc\n",
      "D:\\Study\\Nuero Data Design\\brainlit\\benchmarking_datasets\\Manual-GT\\8-01_test_16-20\\8-01_test_18\\tree_5.swc\n",
      "D:\\Study\\Nuero Data Design\\brainlit\\benchmarking_datasets\\Manual-GT\\8-01_test_16-20\\8-01_test_18\\tree_6.swc\n",
      "D:\\Study\\Nuero Data Design\\brainlit\\benchmarking_datasets\\Manual-GT\\8-01_test_16-20\\8-01_test_18\\tree_7.swc\n",
      "D:\\Study\\Nuero Data Design\\brainlit\\benchmarking_datasets\\Manual-GT\\8-01_test_16-20\\8-01_test_18\\tree_8.swc\n",
      "D:\\Study\\Nuero Data Design\\brainlit\\benchmarking_datasets\\Manual-GT\\8-01_test_16-20\\8-01_test_18\\tree_9.swc\n"
     ]
    },
    {
     "name": "stderr",
     "output_type": "stream",
     "text": [
      "D:\\Anaconda3\\envs\\brainlit\\lib\\site-packages\\ipykernel_launcher.py:80: UserWarning: D:\\Study\\Nuero Data Design\\brainlit\\benchmarking_masks\\test_18_mask.tif is a low contrast image\n"
     ]
    },
    {
     "name": "stdout",
     "output_type": "stream",
     "text": [
      "D:\\Study\\Nuero Data Design\\brainlit\\benchmarking_datasets\\Images\\test_19-gfp.tif\n",
      "D:\\Study\\Nuero Data Design\\brainlit\\benchmarking_datasets\\Manual-GT\\8-01_test_16-20\\8-01_test_19\\tree_1.swc\n",
      "D:\\Study\\Nuero Data Design\\brainlit\\benchmarking_datasets\\Manual-GT\\8-01_test_16-20\\8-01_test_19\\tree_10.swc\n",
      "D:\\Study\\Nuero Data Design\\brainlit\\benchmarking_datasets\\Manual-GT\\8-01_test_16-20\\8-01_test_19\\tree_11.swc\n",
      "D:\\Study\\Nuero Data Design\\brainlit\\benchmarking_datasets\\Manual-GT\\8-01_test_16-20\\8-01_test_19\\tree_12.swc\n",
      "D:\\Study\\Nuero Data Design\\brainlit\\benchmarking_datasets\\Manual-GT\\8-01_test_16-20\\8-01_test_19\\tree_13.swc\n",
      "D:\\Study\\Nuero Data Design\\brainlit\\benchmarking_datasets\\Manual-GT\\8-01_test_16-20\\8-01_test_19\\tree_14.swc\n",
      "D:\\Study\\Nuero Data Design\\brainlit\\benchmarking_datasets\\Manual-GT\\8-01_test_16-20\\8-01_test_19\\tree_15.swc\n",
      "D:\\Study\\Nuero Data Design\\brainlit\\benchmarking_datasets\\Manual-GT\\8-01_test_16-20\\8-01_test_19\\tree_2.swc\n",
      "D:\\Study\\Nuero Data Design\\brainlit\\benchmarking_datasets\\Manual-GT\\8-01_test_16-20\\8-01_test_19\\tree_3.swc\n",
      "D:\\Study\\Nuero Data Design\\brainlit\\benchmarking_datasets\\Manual-GT\\8-01_test_16-20\\8-01_test_19\\tree_4.swc\n",
      "D:\\Study\\Nuero Data Design\\brainlit\\benchmarking_datasets\\Manual-GT\\8-01_test_16-20\\8-01_test_19\\tree_5.swc\n",
      "D:\\Study\\Nuero Data Design\\brainlit\\benchmarking_datasets\\Manual-GT\\8-01_test_16-20\\8-01_test_19\\tree_6.swc\n",
      "D:\\Study\\Nuero Data Design\\brainlit\\benchmarking_datasets\\Manual-GT\\8-01_test_16-20\\8-01_test_19\\tree_7.swc\n",
      "D:\\Study\\Nuero Data Design\\brainlit\\benchmarking_datasets\\Manual-GT\\8-01_test_16-20\\8-01_test_19\\tree_8.swc\n",
      "D:\\Study\\Nuero Data Design\\brainlit\\benchmarking_datasets\\Manual-GT\\8-01_test_16-20\\8-01_test_19\\tree_9.swc\n"
     ]
    },
    {
     "name": "stderr",
     "output_type": "stream",
     "text": [
      "D:\\Anaconda3\\envs\\brainlit\\lib\\site-packages\\ipykernel_launcher.py:80: UserWarning: D:\\Study\\Nuero Data Design\\brainlit\\benchmarking_masks\\test_19_mask.tif is a low contrast image\n"
     ]
    },
    {
     "name": "stdout",
     "output_type": "stream",
     "text": [
      "D:\\Study\\Nuero Data Design\\brainlit\\benchmarking_datasets\\Images\\test_2-gfp.tif\n",
      "D:\\Study\\Nuero Data Design\\brainlit\\benchmarking_datasets\\Manual-GT\\8-01_test_1-5\\8-01_test_2\\tree_1.swc\n",
      "D:\\Study\\Nuero Data Design\\brainlit\\benchmarking_datasets\\Manual-GT\\8-01_test_1-5\\8-01_test_2\\tree_2.swc\n",
      "D:\\Study\\Nuero Data Design\\brainlit\\benchmarking_datasets\\Manual-GT\\8-01_test_1-5\\8-01_test_2\\tree_3.swc\n"
     ]
    },
    {
     "name": "stderr",
     "output_type": "stream",
     "text": [
      "D:\\Anaconda3\\envs\\brainlit\\lib\\site-packages\\ipykernel_launcher.py:80: UserWarning: D:\\Study\\Nuero Data Design\\brainlit\\benchmarking_masks\\test_2_mask.tif is a low contrast image\n"
     ]
    },
    {
     "name": "stdout",
     "output_type": "stream",
     "text": [
      "D:\\Study\\Nuero Data Design\\brainlit\\benchmarking_datasets\\Images\\test_20-gfp.tif\n",
      "D:\\Study\\Nuero Data Design\\brainlit\\benchmarking_datasets\\Manual-GT\\8-01_test_16-20\\8-01_test_20\\tree_1.swc\n",
      "D:\\Study\\Nuero Data Design\\brainlit\\benchmarking_datasets\\Manual-GT\\8-01_test_16-20\\8-01_test_20\\tree_10.swc\n",
      "D:\\Study\\Nuero Data Design\\brainlit\\benchmarking_datasets\\Manual-GT\\8-01_test_16-20\\8-01_test_20\\tree_11.swc\n",
      "D:\\Study\\Nuero Data Design\\brainlit\\benchmarking_datasets\\Manual-GT\\8-01_test_16-20\\8-01_test_20\\tree_12.swc\n",
      "D:\\Study\\Nuero Data Design\\brainlit\\benchmarking_datasets\\Manual-GT\\8-01_test_16-20\\8-01_test_20\\tree_13.swc\n",
      "D:\\Study\\Nuero Data Design\\brainlit\\benchmarking_datasets\\Manual-GT\\8-01_test_16-20\\8-01_test_20\\tree_2.swc\n",
      "D:\\Study\\Nuero Data Design\\brainlit\\benchmarking_datasets\\Manual-GT\\8-01_test_16-20\\8-01_test_20\\tree_3.swc\n",
      "D:\\Study\\Nuero Data Design\\brainlit\\benchmarking_datasets\\Manual-GT\\8-01_test_16-20\\8-01_test_20\\tree_4.swc\n",
      "D:\\Study\\Nuero Data Design\\brainlit\\benchmarking_datasets\\Manual-GT\\8-01_test_16-20\\8-01_test_20\\tree_5.swc\n",
      "D:\\Study\\Nuero Data Design\\brainlit\\benchmarking_datasets\\Manual-GT\\8-01_test_16-20\\8-01_test_20\\tree_6.swc\n",
      "D:\\Study\\Nuero Data Design\\brainlit\\benchmarking_datasets\\Manual-GT\\8-01_test_16-20\\8-01_test_20\\tree_7.swc\n",
      "D:\\Study\\Nuero Data Design\\brainlit\\benchmarking_datasets\\Manual-GT\\8-01_test_16-20\\8-01_test_20\\tree_8.swc\n",
      "D:\\Study\\Nuero Data Design\\brainlit\\benchmarking_datasets\\Manual-GT\\8-01_test_16-20\\8-01_test_20\\tree_9.swc\n"
     ]
    },
    {
     "name": "stderr",
     "output_type": "stream",
     "text": [
      "D:\\Anaconda3\\envs\\brainlit\\lib\\site-packages\\ipykernel_launcher.py:80: UserWarning: D:\\Study\\Nuero Data Design\\brainlit\\benchmarking_masks\\test_20_mask.tif is a low contrast image\n"
     ]
    },
    {
     "name": "stdout",
     "output_type": "stream",
     "text": [
      "D:\\Study\\Nuero Data Design\\brainlit\\benchmarking_datasets\\Images\\test_21-gfp.tif\n",
      "D:\\Study\\Nuero Data Design\\brainlit\\benchmarking_datasets\\Manual-GT\\8-01_test_21-25\\8-01_test_21\\tree_1.swc\n",
      "D:\\Study\\Nuero Data Design\\brainlit\\benchmarking_datasets\\Manual-GT\\8-01_test_21-25\\8-01_test_21\\tree_2.swc\n",
      "D:\\Study\\Nuero Data Design\\brainlit\\benchmarking_datasets\\Manual-GT\\8-01_test_21-25\\8-01_test_21\\tree_3.swc\n",
      "D:\\Study\\Nuero Data Design\\brainlit\\benchmarking_datasets\\Manual-GT\\8-01_test_21-25\\8-01_test_21\\tree_4.swc\n",
      "D:\\Study\\Nuero Data Design\\brainlit\\benchmarking_datasets\\Manual-GT\\8-01_test_21-25\\8-01_test_21\\tree_5.swc\n"
     ]
    },
    {
     "name": "stderr",
     "output_type": "stream",
     "text": [
      "D:\\Anaconda3\\envs\\brainlit\\lib\\site-packages\\ipykernel_launcher.py:80: UserWarning: D:\\Study\\Nuero Data Design\\brainlit\\benchmarking_masks\\test_21_mask.tif is a low contrast image\n"
     ]
    },
    {
     "name": "stdout",
     "output_type": "stream",
     "text": [
      "D:\\Study\\Nuero Data Design\\brainlit\\benchmarking_datasets\\Images\\test_22-gfp.tif\n",
      "D:\\Study\\Nuero Data Design\\brainlit\\benchmarking_datasets\\Manual-GT\\8-01_test_21-25\\8-01_test_22\\tree_1.swc\n",
      "D:\\Study\\Nuero Data Design\\brainlit\\benchmarking_datasets\\Manual-GT\\8-01_test_21-25\\8-01_test_22\\tree_2.swc\n",
      "D:\\Study\\Nuero Data Design\\brainlit\\benchmarking_datasets\\Manual-GT\\8-01_test_21-25\\8-01_test_22\\tree_3.swc\n"
     ]
    },
    {
     "name": "stderr",
     "output_type": "stream",
     "text": [
      "D:\\Anaconda3\\envs\\brainlit\\lib\\site-packages\\ipykernel_launcher.py:80: UserWarning: D:\\Study\\Nuero Data Design\\brainlit\\benchmarking_masks\\test_22_mask.tif is a low contrast image\n"
     ]
    },
    {
     "name": "stdout",
     "output_type": "stream",
     "text": [
      "D:\\Study\\Nuero Data Design\\brainlit\\benchmarking_datasets\\Images\\test_23-gfp.tif\n",
      "D:\\Study\\Nuero Data Design\\brainlit\\benchmarking_datasets\\Manual-GT\\8-01_test_21-25\\8-01_test_23\\tree_1.swc\n",
      "D:\\Study\\Nuero Data Design\\brainlit\\benchmarking_datasets\\Manual-GT\\8-01_test_21-25\\8-01_test_23\\tree_2.swc\n",
      "D:\\Study\\Nuero Data Design\\brainlit\\benchmarking_datasets\\Manual-GT\\8-01_test_21-25\\8-01_test_23\\tree_3.swc\n"
     ]
    },
    {
     "name": "stderr",
     "output_type": "stream",
     "text": [
      "D:\\Anaconda3\\envs\\brainlit\\lib\\site-packages\\ipykernel_launcher.py:80: UserWarning: D:\\Study\\Nuero Data Design\\brainlit\\benchmarking_masks\\test_23_mask.tif is a low contrast image\n"
     ]
    },
    {
     "name": "stdout",
     "output_type": "stream",
     "text": [
      "D:\\Study\\Nuero Data Design\\brainlit\\benchmarking_datasets\\Images\\test_24-gfp.tif\n",
      "D:\\Study\\Nuero Data Design\\brainlit\\benchmarking_datasets\\Manual-GT\\8-01_test_21-25\\8-01_test_24\\tree_1.swc\n",
      "D:\\Study\\Nuero Data Design\\brainlit\\benchmarking_datasets\\Manual-GT\\8-01_test_21-25\\8-01_test_24\\tree_10.swc\n",
      "D:\\Study\\Nuero Data Design\\brainlit\\benchmarking_datasets\\Manual-GT\\8-01_test_21-25\\8-01_test_24\\tree_11.swc\n",
      "D:\\Study\\Nuero Data Design\\brainlit\\benchmarking_datasets\\Manual-GT\\8-01_test_21-25\\8-01_test_24\\tree_2.swc\n",
      "D:\\Study\\Nuero Data Design\\brainlit\\benchmarking_datasets\\Manual-GT\\8-01_test_21-25\\8-01_test_24\\tree_3.swc\n",
      "D:\\Study\\Nuero Data Design\\brainlit\\benchmarking_datasets\\Manual-GT\\8-01_test_21-25\\8-01_test_24\\tree_4.swc\n",
      "D:\\Study\\Nuero Data Design\\brainlit\\benchmarking_datasets\\Manual-GT\\8-01_test_21-25\\8-01_test_24\\tree_5.swc\n",
      "D:\\Study\\Nuero Data Design\\brainlit\\benchmarking_datasets\\Manual-GT\\8-01_test_21-25\\8-01_test_24\\tree_6.swc\n",
      "D:\\Study\\Nuero Data Design\\brainlit\\benchmarking_datasets\\Manual-GT\\8-01_test_21-25\\8-01_test_24\\tree_7.swc\n",
      "D:\\Study\\Nuero Data Design\\brainlit\\benchmarking_datasets\\Manual-GT\\8-01_test_21-25\\8-01_test_24\\tree_8.swc\n",
      "D:\\Study\\Nuero Data Design\\brainlit\\benchmarking_datasets\\Manual-GT\\8-01_test_21-25\\8-01_test_24\\tree_9.swc\n"
     ]
    },
    {
     "name": "stderr",
     "output_type": "stream",
     "text": [
      "D:\\Anaconda3\\envs\\brainlit\\lib\\site-packages\\ipykernel_launcher.py:80: UserWarning: D:\\Study\\Nuero Data Design\\brainlit\\benchmarking_masks\\test_24_mask.tif is a low contrast image\n"
     ]
    },
    {
     "name": "stdout",
     "output_type": "stream",
     "text": [
      "D:\\Study\\Nuero Data Design\\brainlit\\benchmarking_datasets\\Images\\test_25-gfp.tif\n",
      "D:\\Study\\Nuero Data Design\\brainlit\\benchmarking_datasets\\Manual-GT\\8-01_test_21-25\\8-01_test_25\\tree_1.swc\n",
      "D:\\Study\\Nuero Data Design\\brainlit\\benchmarking_datasets\\Manual-GT\\8-01_test_21-25\\8-01_test_25\\tree_10.swc\n",
      "D:\\Study\\Nuero Data Design\\brainlit\\benchmarking_datasets\\Manual-GT\\8-01_test_21-25\\8-01_test_25\\tree_11.swc\n",
      "D:\\Study\\Nuero Data Design\\brainlit\\benchmarking_datasets\\Manual-GT\\8-01_test_21-25\\8-01_test_25\\tree_12.swc\n",
      "D:\\Study\\Nuero Data Design\\brainlit\\benchmarking_datasets\\Manual-GT\\8-01_test_21-25\\8-01_test_25\\tree_13.swc\n",
      "D:\\Study\\Nuero Data Design\\brainlit\\benchmarking_datasets\\Manual-GT\\8-01_test_21-25\\8-01_test_25\\tree_14.swc\n",
      "D:\\Study\\Nuero Data Design\\brainlit\\benchmarking_datasets\\Manual-GT\\8-01_test_21-25\\8-01_test_25\\tree_15.swc\n",
      "D:\\Study\\Nuero Data Design\\brainlit\\benchmarking_datasets\\Manual-GT\\8-01_test_21-25\\8-01_test_25\\tree_16.swc\n",
      "D:\\Study\\Nuero Data Design\\brainlit\\benchmarking_datasets\\Manual-GT\\8-01_test_21-25\\8-01_test_25\\tree_17.swc\n",
      "D:\\Study\\Nuero Data Design\\brainlit\\benchmarking_datasets\\Manual-GT\\8-01_test_21-25\\8-01_test_25\\tree_18.swc\n",
      "D:\\Study\\Nuero Data Design\\brainlit\\benchmarking_datasets\\Manual-GT\\8-01_test_21-25\\8-01_test_25\\tree_19.swc\n",
      "D:\\Study\\Nuero Data Design\\brainlit\\benchmarking_datasets\\Manual-GT\\8-01_test_21-25\\8-01_test_25\\tree_2.swc\n",
      "D:\\Study\\Nuero Data Design\\brainlit\\benchmarking_datasets\\Manual-GT\\8-01_test_21-25\\8-01_test_25\\tree_20.swc\n",
      "D:\\Study\\Nuero Data Design\\brainlit\\benchmarking_datasets\\Manual-GT\\8-01_test_21-25\\8-01_test_25\\tree_21.swc\n",
      "D:\\Study\\Nuero Data Design\\brainlit\\benchmarking_datasets\\Manual-GT\\8-01_test_21-25\\8-01_test_25\\tree_3.swc\n",
      "D:\\Study\\Nuero Data Design\\brainlit\\benchmarking_datasets\\Manual-GT\\8-01_test_21-25\\8-01_test_25\\tree_4.swc\n",
      "D:\\Study\\Nuero Data Design\\brainlit\\benchmarking_datasets\\Manual-GT\\8-01_test_21-25\\8-01_test_25\\tree_5.swc\n",
      "D:\\Study\\Nuero Data Design\\brainlit\\benchmarking_datasets\\Manual-GT\\8-01_test_21-25\\8-01_test_25\\tree_6.swc\n",
      "D:\\Study\\Nuero Data Design\\brainlit\\benchmarking_datasets\\Manual-GT\\8-01_test_21-25\\8-01_test_25\\tree_7.swc\n",
      "D:\\Study\\Nuero Data Design\\brainlit\\benchmarking_datasets\\Manual-GT\\8-01_test_21-25\\8-01_test_25\\tree_8.swc\n",
      "D:\\Study\\Nuero Data Design\\brainlit\\benchmarking_datasets\\Manual-GT\\8-01_test_21-25\\8-01_test_25\\tree_9.swc\n"
     ]
    },
    {
     "name": "stderr",
     "output_type": "stream",
     "text": [
      "D:\\Anaconda3\\envs\\brainlit\\lib\\site-packages\\ipykernel_launcher.py:80: UserWarning: D:\\Study\\Nuero Data Design\\brainlit\\benchmarking_masks\\test_25_mask.tif is a low contrast image\n"
     ]
    },
    {
     "name": "stdout",
     "output_type": "stream",
     "text": [
      "D:\\Study\\Nuero Data Design\\brainlit\\benchmarking_datasets\\Images\\test_3-gfp.tif\n",
      "D:\\Study\\Nuero Data Design\\brainlit\\benchmarking_datasets\\Manual-GT\\8-01_test_1-5\\8-01_test_3\\tree_1.swc\n",
      "D:\\Study\\Nuero Data Design\\brainlit\\benchmarking_datasets\\Manual-GT\\8-01_test_1-5\\8-01_test_3\\tree_10.swc\n",
      "D:\\Study\\Nuero Data Design\\brainlit\\benchmarking_datasets\\Manual-GT\\8-01_test_1-5\\8-01_test_3\\tree_11.swc\n",
      "D:\\Study\\Nuero Data Design\\brainlit\\benchmarking_datasets\\Manual-GT\\8-01_test_1-5\\8-01_test_3\\tree_12.swc\n",
      "D:\\Study\\Nuero Data Design\\brainlit\\benchmarking_datasets\\Manual-GT\\8-01_test_1-5\\8-01_test_3\\tree_13.swc\n",
      "D:\\Study\\Nuero Data Design\\brainlit\\benchmarking_datasets\\Manual-GT\\8-01_test_1-5\\8-01_test_3\\tree_2.swc\n",
      "D:\\Study\\Nuero Data Design\\brainlit\\benchmarking_datasets\\Manual-GT\\8-01_test_1-5\\8-01_test_3\\tree_3.swc\n",
      "D:\\Study\\Nuero Data Design\\brainlit\\benchmarking_datasets\\Manual-GT\\8-01_test_1-5\\8-01_test_3\\tree_4.swc\n",
      "D:\\Study\\Nuero Data Design\\brainlit\\benchmarking_datasets\\Manual-GT\\8-01_test_1-5\\8-01_test_3\\tree_5.swc\n",
      "D:\\Study\\Nuero Data Design\\brainlit\\benchmarking_datasets\\Manual-GT\\8-01_test_1-5\\8-01_test_3\\tree_6.swc\n",
      "D:\\Study\\Nuero Data Design\\brainlit\\benchmarking_datasets\\Manual-GT\\8-01_test_1-5\\8-01_test_3\\tree_7.swc\n",
      "D:\\Study\\Nuero Data Design\\brainlit\\benchmarking_datasets\\Manual-GT\\8-01_test_1-5\\8-01_test_3\\tree_8.swc\n",
      "D:\\Study\\Nuero Data Design\\brainlit\\benchmarking_datasets\\Manual-GT\\8-01_test_1-5\\8-01_test_3\\tree_9.swc\n"
     ]
    },
    {
     "name": "stderr",
     "output_type": "stream",
     "text": [
      "D:\\Anaconda3\\envs\\brainlit\\lib\\site-packages\\ipykernel_launcher.py:80: UserWarning: D:\\Study\\Nuero Data Design\\brainlit\\benchmarking_masks\\test_3_mask.tif is a low contrast image\n"
     ]
    },
    {
     "name": "stdout",
     "output_type": "stream",
     "text": [
      "D:\\Study\\Nuero Data Design\\brainlit\\benchmarking_datasets\\Images\\test_4-gfp.tif\n",
      "D:\\Study\\Nuero Data Design\\brainlit\\benchmarking_datasets\\Manual-GT\\8-01_test_1-5\\8-01_test_4\\tree_1.swc\n"
     ]
    },
    {
     "name": "stderr",
     "output_type": "stream",
     "text": [
      "D:\\Anaconda3\\envs\\brainlit\\lib\\site-packages\\ipykernel_launcher.py:80: UserWarning: D:\\Study\\Nuero Data Design\\brainlit\\benchmarking_masks\\test_4_mask.tif is a low contrast image\n"
     ]
    },
    {
     "name": "stdout",
     "output_type": "stream",
     "text": [
      "D:\\Study\\Nuero Data Design\\brainlit\\benchmarking_datasets\\Images\\test_5-gfp.tif\n",
      "D:\\Study\\Nuero Data Design\\brainlit\\benchmarking_datasets\\Manual-GT\\8-01_test_1-5\\8-01_test_5\\tree_1.swc\n",
      "D:\\Study\\Nuero Data Design\\brainlit\\benchmarking_datasets\\Manual-GT\\8-01_test_1-5\\8-01_test_5\\tree_2.swc\n",
      "D:\\Study\\Nuero Data Design\\brainlit\\benchmarking_datasets\\Manual-GT\\8-01_test_1-5\\8-01_test_5\\tree_3.swc\n",
      "D:\\Study\\Nuero Data Design\\brainlit\\benchmarking_datasets\\Manual-GT\\8-01_test_1-5\\8-01_test_5\\tree_4.swc\n",
      "D:\\Study\\Nuero Data Design\\brainlit\\benchmarking_datasets\\Manual-GT\\8-01_test_1-5\\8-01_test_5\\tree_5.swc\n"
     ]
    },
    {
     "name": "stderr",
     "output_type": "stream",
     "text": [
      "D:\\Anaconda3\\envs\\brainlit\\lib\\site-packages\\ipykernel_launcher.py:80: UserWarning: D:\\Study\\Nuero Data Design\\brainlit\\benchmarking_masks\\test_5_mask.tif is a low contrast image\n"
     ]
    },
    {
     "name": "stdout",
     "output_type": "stream",
     "text": [
      "D:\\Study\\Nuero Data Design\\brainlit\\benchmarking_datasets\\Images\\test_6-gfp.tif\n",
      "D:\\Study\\Nuero Data Design\\brainlit\\benchmarking_datasets\\Manual-GT\\8-01_test_6-10\\8-01_test_6\\tree_1.swc\n",
      "D:\\Study\\Nuero Data Design\\brainlit\\benchmarking_datasets\\Manual-GT\\8-01_test_6-10\\8-01_test_6\\tree_10.swc\n",
      "D:\\Study\\Nuero Data Design\\brainlit\\benchmarking_datasets\\Manual-GT\\8-01_test_6-10\\8-01_test_6\\tree_11.swc\n",
      "D:\\Study\\Nuero Data Design\\brainlit\\benchmarking_datasets\\Manual-GT\\8-01_test_6-10\\8-01_test_6\\tree_2.swc\n",
      "D:\\Study\\Nuero Data Design\\brainlit\\benchmarking_datasets\\Manual-GT\\8-01_test_6-10\\8-01_test_6\\tree_3.swc\n",
      "D:\\Study\\Nuero Data Design\\brainlit\\benchmarking_datasets\\Manual-GT\\8-01_test_6-10\\8-01_test_6\\tree_4.swc\n",
      "D:\\Study\\Nuero Data Design\\brainlit\\benchmarking_datasets\\Manual-GT\\8-01_test_6-10\\8-01_test_6\\tree_5.swc\n",
      "D:\\Study\\Nuero Data Design\\brainlit\\benchmarking_datasets\\Manual-GT\\8-01_test_6-10\\8-01_test_6\\tree_6.swc\n",
      "D:\\Study\\Nuero Data Design\\brainlit\\benchmarking_datasets\\Manual-GT\\8-01_test_6-10\\8-01_test_6\\tree_7.swc\n",
      "D:\\Study\\Nuero Data Design\\brainlit\\benchmarking_datasets\\Manual-GT\\8-01_test_6-10\\8-01_test_6\\tree_8.swc\n",
      "D:\\Study\\Nuero Data Design\\brainlit\\benchmarking_datasets\\Manual-GT\\8-01_test_6-10\\8-01_test_6\\tree_9.swc\n"
     ]
    },
    {
     "name": "stderr",
     "output_type": "stream",
     "text": [
      "D:\\Anaconda3\\envs\\brainlit\\lib\\site-packages\\ipykernel_launcher.py:80: UserWarning: D:\\Study\\Nuero Data Design\\brainlit\\benchmarking_masks\\test_6_mask.tif is a low contrast image\n"
     ]
    },
    {
     "name": "stdout",
     "output_type": "stream",
     "text": [
      "D:\\Study\\Nuero Data Design\\brainlit\\benchmarking_datasets\\Images\\test_7-gfp.tif\n",
      "D:\\Study\\Nuero Data Design\\brainlit\\benchmarking_datasets\\Manual-GT\\8-01_test_6-10\\8-01_test_7\\tree_1.swc\n",
      "D:\\Study\\Nuero Data Design\\brainlit\\benchmarking_datasets\\Manual-GT\\8-01_test_6-10\\8-01_test_7\\tree_10.swc\n",
      "D:\\Study\\Nuero Data Design\\brainlit\\benchmarking_datasets\\Manual-GT\\8-01_test_6-10\\8-01_test_7\\tree_11.swc\n",
      "D:\\Study\\Nuero Data Design\\brainlit\\benchmarking_datasets\\Manual-GT\\8-01_test_6-10\\8-01_test_7\\tree_12.swc\n",
      "D:\\Study\\Nuero Data Design\\brainlit\\benchmarking_datasets\\Manual-GT\\8-01_test_6-10\\8-01_test_7\\tree_13.swc\n",
      "D:\\Study\\Nuero Data Design\\brainlit\\benchmarking_datasets\\Manual-GT\\8-01_test_6-10\\8-01_test_7\\tree_14.swc\n",
      "D:\\Study\\Nuero Data Design\\brainlit\\benchmarking_datasets\\Manual-GT\\8-01_test_6-10\\8-01_test_7\\tree_15.swc\n",
      "D:\\Study\\Nuero Data Design\\brainlit\\benchmarking_datasets\\Manual-GT\\8-01_test_6-10\\8-01_test_7\\tree_16.swc\n",
      "D:\\Study\\Nuero Data Design\\brainlit\\benchmarking_datasets\\Manual-GT\\8-01_test_6-10\\8-01_test_7\\tree_17.swc\n",
      "D:\\Study\\Nuero Data Design\\brainlit\\benchmarking_datasets\\Manual-GT\\8-01_test_6-10\\8-01_test_7\\tree_18.swc\n",
      "D:\\Study\\Nuero Data Design\\brainlit\\benchmarking_datasets\\Manual-GT\\8-01_test_6-10\\8-01_test_7\\tree_19.swc\n",
      "D:\\Study\\Nuero Data Design\\brainlit\\benchmarking_datasets\\Manual-GT\\8-01_test_6-10\\8-01_test_7\\tree_2.swc\n",
      "D:\\Study\\Nuero Data Design\\brainlit\\benchmarking_datasets\\Manual-GT\\8-01_test_6-10\\8-01_test_7\\tree_20.swc\n",
      "D:\\Study\\Nuero Data Design\\brainlit\\benchmarking_datasets\\Manual-GT\\8-01_test_6-10\\8-01_test_7\\tree_21.swc\n",
      "D:\\Study\\Nuero Data Design\\brainlit\\benchmarking_datasets\\Manual-GT\\8-01_test_6-10\\8-01_test_7\\tree_22.swc\n",
      "D:\\Study\\Nuero Data Design\\brainlit\\benchmarking_datasets\\Manual-GT\\8-01_test_6-10\\8-01_test_7\\tree_23.swc\n",
      "D:\\Study\\Nuero Data Design\\brainlit\\benchmarking_datasets\\Manual-GT\\8-01_test_6-10\\8-01_test_7\\tree_25.swc\n",
      "D:\\Study\\Nuero Data Design\\brainlit\\benchmarking_datasets\\Manual-GT\\8-01_test_6-10\\8-01_test_7\\tree_26.swc\n",
      "D:\\Study\\Nuero Data Design\\brainlit\\benchmarking_datasets\\Manual-GT\\8-01_test_6-10\\8-01_test_7\\tree_27.swc\n",
      "D:\\Study\\Nuero Data Design\\brainlit\\benchmarking_datasets\\Manual-GT\\8-01_test_6-10\\8-01_test_7\\tree_28.swc\n",
      "D:\\Study\\Nuero Data Design\\brainlit\\benchmarking_datasets\\Manual-GT\\8-01_test_6-10\\8-01_test_7\\tree_3.swc\n",
      "D:\\Study\\Nuero Data Design\\brainlit\\benchmarking_datasets\\Manual-GT\\8-01_test_6-10\\8-01_test_7\\tree_4.swc\n",
      "D:\\Study\\Nuero Data Design\\brainlit\\benchmarking_datasets\\Manual-GT\\8-01_test_6-10\\8-01_test_7\\tree_6.swc\n",
      "D:\\Study\\Nuero Data Design\\brainlit\\benchmarking_datasets\\Manual-GT\\8-01_test_6-10\\8-01_test_7\\tree_7.swc\n",
      "D:\\Study\\Nuero Data Design\\brainlit\\benchmarking_datasets\\Manual-GT\\8-01_test_6-10\\8-01_test_7\\tree_8.swc\n",
      "D:\\Study\\Nuero Data Design\\brainlit\\benchmarking_datasets\\Manual-GT\\8-01_test_6-10\\8-01_test_7\\tree_9.swc\n"
     ]
    },
    {
     "name": "stderr",
     "output_type": "stream",
     "text": [
      "D:\\Anaconda3\\envs\\brainlit\\lib\\site-packages\\ipykernel_launcher.py:80: UserWarning: D:\\Study\\Nuero Data Design\\brainlit\\benchmarking_masks\\test_7_mask.tif is a low contrast image\n"
     ]
    },
    {
     "name": "stdout",
     "output_type": "stream",
     "text": [
      "D:\\Study\\Nuero Data Design\\brainlit\\benchmarking_datasets\\Images\\test_8-gfp.tif\n",
      "D:\\Study\\Nuero Data Design\\brainlit\\benchmarking_datasets\\Manual-GT\\8-01_test_6-10\\8-01_test_8\\tree_1.swc\n",
      "D:\\Study\\Nuero Data Design\\brainlit\\benchmarking_datasets\\Manual-GT\\8-01_test_6-10\\8-01_test_8\\tree_10.swc\n",
      "D:\\Study\\Nuero Data Design\\brainlit\\benchmarking_datasets\\Manual-GT\\8-01_test_6-10\\8-01_test_8\\tree_11.swc\n",
      "D:\\Study\\Nuero Data Design\\brainlit\\benchmarking_datasets\\Manual-GT\\8-01_test_6-10\\8-01_test_8\\tree_12.swc\n",
      "D:\\Study\\Nuero Data Design\\brainlit\\benchmarking_datasets\\Manual-GT\\8-01_test_6-10\\8-01_test_8\\tree_13.swc\n",
      "D:\\Study\\Nuero Data Design\\brainlit\\benchmarking_datasets\\Manual-GT\\8-01_test_6-10\\8-01_test_8\\tree_14.swc\n",
      "D:\\Study\\Nuero Data Design\\brainlit\\benchmarking_datasets\\Manual-GT\\8-01_test_6-10\\8-01_test_8\\tree_15.swc\n",
      "D:\\Study\\Nuero Data Design\\brainlit\\benchmarking_datasets\\Manual-GT\\8-01_test_6-10\\8-01_test_8\\tree_16.swc\n",
      "D:\\Study\\Nuero Data Design\\brainlit\\benchmarking_datasets\\Manual-GT\\8-01_test_6-10\\8-01_test_8\\tree_17.swc\n",
      "D:\\Study\\Nuero Data Design\\brainlit\\benchmarking_datasets\\Manual-GT\\8-01_test_6-10\\8-01_test_8\\tree_18.swc\n",
      "D:\\Study\\Nuero Data Design\\brainlit\\benchmarking_datasets\\Manual-GT\\8-01_test_6-10\\8-01_test_8\\tree_19.swc\n",
      "D:\\Study\\Nuero Data Design\\brainlit\\benchmarking_datasets\\Manual-GT\\8-01_test_6-10\\8-01_test_8\\tree_2.swc\n",
      "D:\\Study\\Nuero Data Design\\brainlit\\benchmarking_datasets\\Manual-GT\\8-01_test_6-10\\8-01_test_8\\tree_20.swc\n",
      "D:\\Study\\Nuero Data Design\\brainlit\\benchmarking_datasets\\Manual-GT\\8-01_test_6-10\\8-01_test_8\\tree_21.swc\n",
      "D:\\Study\\Nuero Data Design\\brainlit\\benchmarking_datasets\\Manual-GT\\8-01_test_6-10\\8-01_test_8\\tree_22.swc\n",
      "D:\\Study\\Nuero Data Design\\brainlit\\benchmarking_datasets\\Manual-GT\\8-01_test_6-10\\8-01_test_8\\tree_23.swc\n",
      "D:\\Study\\Nuero Data Design\\brainlit\\benchmarking_datasets\\Manual-GT\\8-01_test_6-10\\8-01_test_8\\tree_24.swc\n",
      "D:\\Study\\Nuero Data Design\\brainlit\\benchmarking_datasets\\Manual-GT\\8-01_test_6-10\\8-01_test_8\\tree_25.swc\n",
      "D:\\Study\\Nuero Data Design\\brainlit\\benchmarking_datasets\\Manual-GT\\8-01_test_6-10\\8-01_test_8\\tree_26.swc\n",
      "D:\\Study\\Nuero Data Design\\brainlit\\benchmarking_datasets\\Manual-GT\\8-01_test_6-10\\8-01_test_8\\tree_27.swc\n",
      "D:\\Study\\Nuero Data Design\\brainlit\\benchmarking_datasets\\Manual-GT\\8-01_test_6-10\\8-01_test_8\\tree_28.swc\n",
      "D:\\Study\\Nuero Data Design\\brainlit\\benchmarking_datasets\\Manual-GT\\8-01_test_6-10\\8-01_test_8\\tree_29.swc\n",
      "D:\\Study\\Nuero Data Design\\brainlit\\benchmarking_datasets\\Manual-GT\\8-01_test_6-10\\8-01_test_8\\tree_3.swc\n",
      "D:\\Study\\Nuero Data Design\\brainlit\\benchmarking_datasets\\Manual-GT\\8-01_test_6-10\\8-01_test_8\\tree_30.swc\n",
      "D:\\Study\\Nuero Data Design\\brainlit\\benchmarking_datasets\\Manual-GT\\8-01_test_6-10\\8-01_test_8\\tree_31.swc\n",
      "D:\\Study\\Nuero Data Design\\brainlit\\benchmarking_datasets\\Manual-GT\\8-01_test_6-10\\8-01_test_8\\tree_4.swc\n",
      "D:\\Study\\Nuero Data Design\\brainlit\\benchmarking_datasets\\Manual-GT\\8-01_test_6-10\\8-01_test_8\\tree_5.swc\n",
      "D:\\Study\\Nuero Data Design\\brainlit\\benchmarking_datasets\\Manual-GT\\8-01_test_6-10\\8-01_test_8\\tree_6.swc\n",
      "D:\\Study\\Nuero Data Design\\brainlit\\benchmarking_datasets\\Manual-GT\\8-01_test_6-10\\8-01_test_8\\tree_7.swc\n",
      "D:\\Study\\Nuero Data Design\\brainlit\\benchmarking_datasets\\Manual-GT\\8-01_test_6-10\\8-01_test_8\\tree_8.swc\n",
      "D:\\Study\\Nuero Data Design\\brainlit\\benchmarking_datasets\\Manual-GT\\8-01_test_6-10\\8-01_test_8\\tree_9.swc\n",
      "D:\\Study\\Nuero Data Design\\brainlit\\benchmarking_datasets\\Images\\test_9-gfp.tif\n",
      "D:\\Study\\Nuero Data Design\\brainlit\\benchmarking_datasets\\Manual-GT\\8-01_test_6-10\\8-01_test_9\\tree_1.swc\n",
      "D:\\Study\\Nuero Data Design\\brainlit\\benchmarking_datasets\\Manual-GT\\8-01_test_6-10\\8-01_test_9\\tree_10.swc\n",
      "D:\\Study\\Nuero Data Design\\brainlit\\benchmarking_datasets\\Manual-GT\\8-01_test_6-10\\8-01_test_9\\tree_11.swc\n",
      "D:\\Study\\Nuero Data Design\\brainlit\\benchmarking_datasets\\Manual-GT\\8-01_test_6-10\\8-01_test_9\\tree_12.swc\n",
      "D:\\Study\\Nuero Data Design\\brainlit\\benchmarking_datasets\\Manual-GT\\8-01_test_6-10\\8-01_test_9\\tree_13.swc\n",
      "D:\\Study\\Nuero Data Design\\brainlit\\benchmarking_datasets\\Manual-GT\\8-01_test_6-10\\8-01_test_9\\tree_14.swc\n",
      "D:\\Study\\Nuero Data Design\\brainlit\\benchmarking_datasets\\Manual-GT\\8-01_test_6-10\\8-01_test_9\\tree_15.swc\n",
      "D:\\Study\\Nuero Data Design\\brainlit\\benchmarking_datasets\\Manual-GT\\8-01_test_6-10\\8-01_test_9\\tree_16.swc\n",
      "D:\\Study\\Nuero Data Design\\brainlit\\benchmarking_datasets\\Manual-GT\\8-01_test_6-10\\8-01_test_9\\tree_17.swc\n",
      "D:\\Study\\Nuero Data Design\\brainlit\\benchmarking_datasets\\Manual-GT\\8-01_test_6-10\\8-01_test_9\\tree_18.swc\n",
      "D:\\Study\\Nuero Data Design\\brainlit\\benchmarking_datasets\\Manual-GT\\8-01_test_6-10\\8-01_test_9\\tree_19.swc\n",
      "D:\\Study\\Nuero Data Design\\brainlit\\benchmarking_datasets\\Manual-GT\\8-01_test_6-10\\8-01_test_9\\tree_2.swc\n",
      "D:\\Study\\Nuero Data Design\\brainlit\\benchmarking_datasets\\Manual-GT\\8-01_test_6-10\\8-01_test_9\\tree_20.swc\n",
      "D:\\Study\\Nuero Data Design\\brainlit\\benchmarking_datasets\\Manual-GT\\8-01_test_6-10\\8-01_test_9\\tree_21.swc\n",
      "D:\\Study\\Nuero Data Design\\brainlit\\benchmarking_datasets\\Manual-GT\\8-01_test_6-10\\8-01_test_9\\tree_22.swc\n",
      "D:\\Study\\Nuero Data Design\\brainlit\\benchmarking_datasets\\Manual-GT\\8-01_test_6-10\\8-01_test_9\\tree_23.swc\n",
      "D:\\Study\\Nuero Data Design\\brainlit\\benchmarking_datasets\\Manual-GT\\8-01_test_6-10\\8-01_test_9\\tree_24.swc\n",
      "D:\\Study\\Nuero Data Design\\brainlit\\benchmarking_datasets\\Manual-GT\\8-01_test_6-10\\8-01_test_9\\tree_25.swc\n",
      "D:\\Study\\Nuero Data Design\\brainlit\\benchmarking_datasets\\Manual-GT\\8-01_test_6-10\\8-01_test_9\\tree_26.swc\n",
      "D:\\Study\\Nuero Data Design\\brainlit\\benchmarking_datasets\\Manual-GT\\8-01_test_6-10\\8-01_test_9\\tree_27.swc\n",
      "D:\\Study\\Nuero Data Design\\brainlit\\benchmarking_datasets\\Manual-GT\\8-01_test_6-10\\8-01_test_9\\tree_3.swc\n",
      "D:\\Study\\Nuero Data Design\\brainlit\\benchmarking_datasets\\Manual-GT\\8-01_test_6-10\\8-01_test_9\\tree_4.swc\n",
      "D:\\Study\\Nuero Data Design\\brainlit\\benchmarking_datasets\\Manual-GT\\8-01_test_6-10\\8-01_test_9\\tree_5.swc\n",
      "D:\\Study\\Nuero Data Design\\brainlit\\benchmarking_datasets\\Manual-GT\\8-01_test_6-10\\8-01_test_9\\tree_6.swc\n",
      "D:\\Study\\Nuero Data Design\\brainlit\\benchmarking_datasets\\Manual-GT\\8-01_test_6-10\\8-01_test_9\\tree_7.swc\n",
      "D:\\Study\\Nuero Data Design\\brainlit\\benchmarking_datasets\\Manual-GT\\8-01_test_6-10\\8-01_test_9\\tree_8.swc\n",
      "D:\\Study\\Nuero Data Design\\brainlit\\benchmarking_datasets\\Manual-GT\\8-01_test_6-10\\8-01_test_9\\tree_9.swc\n",
      "D:\\Study\\Nuero Data Design\\brainlit\\benchmarking_datasets\\Images\\validation_1-gfp.tif\n",
      "D:\\Study\\Nuero Data Design\\brainlit\\benchmarking_datasets\\Manual-GT\\10-01_validation_1-5\\10-01_validation_1\\tree_1.swc\n",
      "D:\\Study\\Nuero Data Design\\brainlit\\benchmarking_datasets\\Manual-GT\\10-01_validation_1-5\\10-01_validation_1\\tree_2.swc\n",
      "D:\\Study\\Nuero Data Design\\brainlit\\benchmarking_datasets\\Manual-GT\\10-01_validation_1-5\\10-01_validation_1\\tree_3.swc\n"
     ]
    },
    {
     "name": "stderr",
     "output_type": "stream",
     "text": [
      "D:\\Anaconda3\\envs\\brainlit\\lib\\site-packages\\ipykernel_launcher.py:80: UserWarning: D:\\Study\\Nuero Data Design\\brainlit\\benchmarking_masks\\validation_1_mask.tif is a low contrast image\n"
     ]
    },
    {
     "name": "stdout",
     "output_type": "stream",
     "text": [
      "D:\\Study\\Nuero Data Design\\brainlit\\benchmarking_datasets\\Images\\validation_10-gfp.tif\n",
      "D:\\Study\\Nuero Data Design\\brainlit\\benchmarking_datasets\\Manual-GT\\10-01_validation_6-10\\10-01_validation_10\\tree_1.swc\n",
      "D:\\Study\\Nuero Data Design\\brainlit\\benchmarking_datasets\\Manual-GT\\10-01_validation_6-10\\10-01_validation_10\\tree_2.swc\n"
     ]
    },
    {
     "name": "stderr",
     "output_type": "stream",
     "text": [
      "D:\\Anaconda3\\envs\\brainlit\\lib\\site-packages\\ipykernel_launcher.py:80: UserWarning: D:\\Study\\Nuero Data Design\\brainlit\\benchmarking_masks\\validation_10_mask.tif is a low contrast image\n"
     ]
    },
    {
     "name": "stdout",
     "output_type": "stream",
     "text": [
      "D:\\Study\\Nuero Data Design\\brainlit\\benchmarking_datasets\\Images\\validation_11-gfp.tif\n",
      "D:\\Study\\Nuero Data Design\\brainlit\\benchmarking_datasets\\Manual-GT\\10-01_validation_11-15\\10-01_validation_11\\tree_1.swc\n",
      "D:\\Study\\Nuero Data Design\\brainlit\\benchmarking_datasets\\Manual-GT\\10-01_validation_11-15\\10-01_validation_11\\tree_2.swc\n",
      "D:\\Study\\Nuero Data Design\\brainlit\\benchmarking_datasets\\Manual-GT\\10-01_validation_11-15\\10-01_validation_11\\tree_3.swc\n",
      "D:\\Study\\Nuero Data Design\\brainlit\\benchmarking_datasets\\Manual-GT\\10-01_validation_11-15\\10-01_validation_11\\tree_4.swc\n",
      "D:\\Study\\Nuero Data Design\\brainlit\\benchmarking_datasets\\Manual-GT\\10-01_validation_11-15\\10-01_validation_11\\tree_5.swc\n",
      "D:\\Study\\Nuero Data Design\\brainlit\\benchmarking_datasets\\Manual-GT\\10-01_validation_11-15\\10-01_validation_11\\tree_6.swc\n",
      "D:\\Study\\Nuero Data Design\\brainlit\\benchmarking_datasets\\Manual-GT\\10-01_validation_11-15\\10-01_validation_11\\tree_7.swc\n",
      "D:\\Study\\Nuero Data Design\\brainlit\\benchmarking_datasets\\Manual-GT\\10-01_validation_11-15\\10-01_validation_11\\tree_8.swc\n",
      "D:\\Study\\Nuero Data Design\\brainlit\\benchmarking_datasets\\Manual-GT\\10-01_validation_11-15\\10-01_validation_11\\tree_9.swc\n"
     ]
    },
    {
     "name": "stderr",
     "output_type": "stream",
     "text": [
      "D:\\Anaconda3\\envs\\brainlit\\lib\\site-packages\\ipykernel_launcher.py:80: UserWarning: D:\\Study\\Nuero Data Design\\brainlit\\benchmarking_masks\\validation_11_mask.tif is a low contrast image\n"
     ]
    },
    {
     "name": "stdout",
     "output_type": "stream",
     "text": [
      "D:\\Study\\Nuero Data Design\\brainlit\\benchmarking_datasets\\Images\\validation_12-gfp.tif\n",
      "D:\\Study\\Nuero Data Design\\brainlit\\benchmarking_datasets\\Manual-GT\\10-01_validation_11-15\\10-01_validation_12\\tree_1.swc\n",
      "D:\\Study\\Nuero Data Design\\brainlit\\benchmarking_datasets\\Manual-GT\\10-01_validation_11-15\\10-01_validation_12\\tree_2.swc\n"
     ]
    },
    {
     "name": "stderr",
     "output_type": "stream",
     "text": [
      "D:\\Anaconda3\\envs\\brainlit\\lib\\site-packages\\ipykernel_launcher.py:80: UserWarning: D:\\Study\\Nuero Data Design\\brainlit\\benchmarking_masks\\validation_12_mask.tif is a low contrast image\n"
     ]
    },
    {
     "name": "stdout",
     "output_type": "stream",
     "text": [
      "D:\\Study\\Nuero Data Design\\brainlit\\benchmarking_datasets\\Images\\validation_13-gfp.tif\n",
      "D:\\Study\\Nuero Data Design\\brainlit\\benchmarking_datasets\\Manual-GT\\10-01_validation_11-15\\10-01_validation_13\\tree_1.swc\n",
      "D:\\Study\\Nuero Data Design\\brainlit\\benchmarking_datasets\\Manual-GT\\10-01_validation_11-15\\10-01_validation_13\\tree_2.swc\n",
      "D:\\Study\\Nuero Data Design\\brainlit\\benchmarking_datasets\\Manual-GT\\10-01_validation_11-15\\10-01_validation_13\\tree_3.swc\n",
      "D:\\Study\\Nuero Data Design\\brainlit\\benchmarking_datasets\\Manual-GT\\10-01_validation_11-15\\10-01_validation_13\\tree_4.swc\n",
      "D:\\Study\\Nuero Data Design\\brainlit\\benchmarking_datasets\\Manual-GT\\10-01_validation_11-15\\10-01_validation_13\\tree_5.swc\n"
     ]
    },
    {
     "name": "stderr",
     "output_type": "stream",
     "text": [
      "D:\\Anaconda3\\envs\\brainlit\\lib\\site-packages\\ipykernel_launcher.py:80: UserWarning: D:\\Study\\Nuero Data Design\\brainlit\\benchmarking_masks\\validation_13_mask.tif is a low contrast image\n"
     ]
    },
    {
     "name": "stdout",
     "output_type": "stream",
     "text": [
      "D:\\Study\\Nuero Data Design\\brainlit\\benchmarking_datasets\\Images\\validation_14-gfp.tif\n",
      "D:\\Study\\Nuero Data Design\\brainlit\\benchmarking_datasets\\Manual-GT\\10-01_validation_11-15\\10-01_validation_14\\tree_1.swc\n",
      "D:\\Study\\Nuero Data Design\\brainlit\\benchmarking_datasets\\Manual-GT\\10-01_validation_11-15\\10-01_validation_14\\tree_2.swc\n"
     ]
    },
    {
     "name": "stderr",
     "output_type": "stream",
     "text": [
      "D:\\Anaconda3\\envs\\brainlit\\lib\\site-packages\\ipykernel_launcher.py:80: UserWarning: D:\\Study\\Nuero Data Design\\brainlit\\benchmarking_masks\\validation_14_mask.tif is a low contrast image\n"
     ]
    },
    {
     "name": "stdout",
     "output_type": "stream",
     "text": [
      "D:\\Study\\Nuero Data Design\\brainlit\\benchmarking_datasets\\Images\\validation_15-gfp.tif\n",
      "D:\\Study\\Nuero Data Design\\brainlit\\benchmarking_datasets\\Manual-GT\\10-01_validation_11-15\\10-01_validation_15\\tree_1.swc\n",
      "D:\\Study\\Nuero Data Design\\brainlit\\benchmarking_datasets\\Manual-GT\\10-01_validation_11-15\\10-01_validation_15\\tree_2.swc\n",
      "D:\\Study\\Nuero Data Design\\brainlit\\benchmarking_datasets\\Manual-GT\\10-01_validation_11-15\\10-01_validation_15\\tree_3.swc\n"
     ]
    },
    {
     "name": "stderr",
     "output_type": "stream",
     "text": [
      "D:\\Anaconda3\\envs\\brainlit\\lib\\site-packages\\ipykernel_launcher.py:80: UserWarning: D:\\Study\\Nuero Data Design\\brainlit\\benchmarking_masks\\validation_15_mask.tif is a low contrast image\n"
     ]
    },
    {
     "name": "stdout",
     "output_type": "stream",
     "text": [
      "D:\\Study\\Nuero Data Design\\brainlit\\benchmarking_datasets\\Images\\validation_16-gfp.tif\n",
      "D:\\Study\\Nuero Data Design\\brainlit\\benchmarking_datasets\\Manual-GT\\10-01_validation_16-20\\10-01_validation_16\\tree_1.swc\n",
      "D:\\Study\\Nuero Data Design\\brainlit\\benchmarking_datasets\\Manual-GT\\10-01_validation_16-20\\10-01_validation_16\\tree_2.swc\n",
      "D:\\Study\\Nuero Data Design\\brainlit\\benchmarking_datasets\\Manual-GT\\10-01_validation_16-20\\10-01_validation_16\\tree_3.swc\n",
      "D:\\Study\\Nuero Data Design\\brainlit\\benchmarking_datasets\\Manual-GT\\10-01_validation_16-20\\10-01_validation_16\\tree_4.swc\n",
      "D:\\Study\\Nuero Data Design\\brainlit\\benchmarking_datasets\\Manual-GT\\10-01_validation_16-20\\10-01_validation_16\\tree_5.swc\n"
     ]
    },
    {
     "name": "stderr",
     "output_type": "stream",
     "text": [
      "D:\\Anaconda3\\envs\\brainlit\\lib\\site-packages\\ipykernel_launcher.py:80: UserWarning: D:\\Study\\Nuero Data Design\\brainlit\\benchmarking_masks\\validation_16_mask.tif is a low contrast image\n"
     ]
    },
    {
     "name": "stdout",
     "output_type": "stream",
     "text": [
      "D:\\Study\\Nuero Data Design\\brainlit\\benchmarking_datasets\\Images\\validation_17-gfp.tif\n",
      "D:\\Study\\Nuero Data Design\\brainlit\\benchmarking_datasets\\Manual-GT\\10-01_validation_16-20\\10-01_validation_17\\tree_1.swc\n",
      "D:\\Study\\Nuero Data Design\\brainlit\\benchmarking_datasets\\Manual-GT\\10-01_validation_16-20\\10-01_validation_17\\tree_2.swc\n",
      "D:\\Study\\Nuero Data Design\\brainlit\\benchmarking_datasets\\Manual-GT\\10-01_validation_16-20\\10-01_validation_17\\tree_3.swc\n",
      "D:\\Study\\Nuero Data Design\\brainlit\\benchmarking_datasets\\Manual-GT\\10-01_validation_16-20\\10-01_validation_17\\tree_4.swc\n"
     ]
    },
    {
     "name": "stderr",
     "output_type": "stream",
     "text": [
      "D:\\Anaconda3\\envs\\brainlit\\lib\\site-packages\\ipykernel_launcher.py:80: UserWarning: D:\\Study\\Nuero Data Design\\brainlit\\benchmarking_masks\\validation_17_mask.tif is a low contrast image\n"
     ]
    },
    {
     "name": "stdout",
     "output_type": "stream",
     "text": [
      "D:\\Study\\Nuero Data Design\\brainlit\\benchmarking_datasets\\Images\\validation_18-gfp.tif\n",
      "D:\\Study\\Nuero Data Design\\brainlit\\benchmarking_datasets\\Manual-GT\\10-01_validation_16-20\\10-01_validation_18\\tree_1.swc\n",
      "D:\\Study\\Nuero Data Design\\brainlit\\benchmarking_datasets\\Manual-GT\\10-01_validation_16-20\\10-01_validation_18\\tree_2.swc\n",
      "D:\\Study\\Nuero Data Design\\brainlit\\benchmarking_datasets\\Manual-GT\\10-01_validation_16-20\\10-01_validation_18\\tree_3.swc\n",
      "D:\\Study\\Nuero Data Design\\brainlit\\benchmarking_datasets\\Manual-GT\\10-01_validation_16-20\\10-01_validation_18\\tree_4.swc\n",
      "D:\\Study\\Nuero Data Design\\brainlit\\benchmarking_datasets\\Manual-GT\\10-01_validation_16-20\\10-01_validation_18\\tree_5.swc\n",
      "D:\\Study\\Nuero Data Design\\brainlit\\benchmarking_datasets\\Manual-GT\\10-01_validation_16-20\\10-01_validation_18\\tree_6.swc\n"
     ]
    },
    {
     "name": "stderr",
     "output_type": "stream",
     "text": [
      "D:\\Anaconda3\\envs\\brainlit\\lib\\site-packages\\ipykernel_launcher.py:80: UserWarning: D:\\Study\\Nuero Data Design\\brainlit\\benchmarking_masks\\validation_18_mask.tif is a low contrast image\n"
     ]
    },
    {
     "name": "stdout",
     "output_type": "stream",
     "text": [
      "D:\\Study\\Nuero Data Design\\brainlit\\benchmarking_datasets\\Images\\validation_19-gfp.tif\n",
      "D:\\Study\\Nuero Data Design\\brainlit\\benchmarking_datasets\\Manual-GT\\10-01_validation_16-20\\10-01_validation_19\\tree_1.swc\n",
      "D:\\Study\\Nuero Data Design\\brainlit\\benchmarking_datasets\\Manual-GT\\10-01_validation_16-20\\10-01_validation_19\\tree_2.swc\n",
      "D:\\Study\\Nuero Data Design\\brainlit\\benchmarking_datasets\\Manual-GT\\10-01_validation_16-20\\10-01_validation_19\\tree_3.swc\n",
      "D:\\Study\\Nuero Data Design\\brainlit\\benchmarking_datasets\\Manual-GT\\10-01_validation_16-20\\10-01_validation_19\\tree_4.swc\n"
     ]
    },
    {
     "name": "stderr",
     "output_type": "stream",
     "text": [
      "D:\\Anaconda3\\envs\\brainlit\\lib\\site-packages\\ipykernel_launcher.py:80: UserWarning: D:\\Study\\Nuero Data Design\\brainlit\\benchmarking_masks\\validation_19_mask.tif is a low contrast image\n"
     ]
    },
    {
     "name": "stdout",
     "output_type": "stream",
     "text": [
      "D:\\Study\\Nuero Data Design\\brainlit\\benchmarking_datasets\\Images\\validation_2-gfp.tif\n",
      "D:\\Study\\Nuero Data Design\\brainlit\\benchmarking_datasets\\Manual-GT\\10-01_validation_1-5\\10-01_validation_2\\tree_1.swc\n",
      "D:\\Study\\Nuero Data Design\\brainlit\\benchmarking_datasets\\Manual-GT\\10-01_validation_1-5\\10-01_validation_2\\tree_2.swc\n",
      "D:\\Study\\Nuero Data Design\\brainlit\\benchmarking_datasets\\Manual-GT\\10-01_validation_1-5\\10-01_validation_2\\tree_3.swc\n",
      "D:\\Study\\Nuero Data Design\\brainlit\\benchmarking_datasets\\Manual-GT\\10-01_validation_1-5\\10-01_validation_2\\tree_4.swc\n"
     ]
    },
    {
     "name": "stderr",
     "output_type": "stream",
     "text": [
      "D:\\Anaconda3\\envs\\brainlit\\lib\\site-packages\\ipykernel_launcher.py:80: UserWarning: D:\\Study\\Nuero Data Design\\brainlit\\benchmarking_masks\\validation_2_mask.tif is a low contrast image\n"
     ]
    },
    {
     "name": "stdout",
     "output_type": "stream",
     "text": [
      "D:\\Study\\Nuero Data Design\\brainlit\\benchmarking_datasets\\Images\\validation_20-gfp.tif\n",
      "D:\\Study\\Nuero Data Design\\brainlit\\benchmarking_datasets\\Manual-GT\\10-01_validation_16-20\\10-01_validation_20\\tree_1.swc\n",
      "D:\\Study\\Nuero Data Design\\brainlit\\benchmarking_datasets\\Manual-GT\\10-01_validation_16-20\\10-01_validation_20\\tree_2.swc\n",
      "D:\\Study\\Nuero Data Design\\brainlit\\benchmarking_datasets\\Manual-GT\\10-01_validation_16-20\\10-01_validation_20\\tree_3.swc\n",
      "D:\\Study\\Nuero Data Design\\brainlit\\benchmarking_datasets\\Manual-GT\\10-01_validation_16-20\\10-01_validation_20\\tree_4.swc\n",
      "D:\\Study\\Nuero Data Design\\brainlit\\benchmarking_datasets\\Manual-GT\\10-01_validation_16-20\\10-01_validation_20\\tree_5.swc\n",
      "D:\\Study\\Nuero Data Design\\brainlit\\benchmarking_datasets\\Manual-GT\\10-01_validation_16-20\\10-01_validation_20\\tree_6.swc\n",
      "D:\\Study\\Nuero Data Design\\brainlit\\benchmarking_datasets\\Manual-GT\\10-01_validation_16-20\\10-01_validation_20\\tree_7.swc\n",
      "D:\\Study\\Nuero Data Design\\brainlit\\benchmarking_datasets\\Manual-GT\\10-01_validation_16-20\\10-01_validation_20\\tree_8.swc\n",
      "D:\\Study\\Nuero Data Design\\brainlit\\benchmarking_datasets\\Manual-GT\\10-01_validation_16-20\\10-01_validation_20\\tree_9.swc\n"
     ]
    },
    {
     "name": "stderr",
     "output_type": "stream",
     "text": [
      "D:\\Anaconda3\\envs\\brainlit\\lib\\site-packages\\ipykernel_launcher.py:80: UserWarning: D:\\Study\\Nuero Data Design\\brainlit\\benchmarking_masks\\validation_20_mask.tif is a low contrast image\n"
     ]
    },
    {
     "name": "stdout",
     "output_type": "stream",
     "text": [
      "D:\\Study\\Nuero Data Design\\brainlit\\benchmarking_datasets\\Images\\validation_21-gfp.tif\n",
      "D:\\Study\\Nuero Data Design\\brainlit\\benchmarking_datasets\\Manual-GT\\10-01_validation_21-25\\10-01_validation_21\\tree_1.swc\n",
      "D:\\Study\\Nuero Data Design\\brainlit\\benchmarking_datasets\\Manual-GT\\10-01_validation_21-25\\10-01_validation_21\\tree_2.swc\n",
      "D:\\Study\\Nuero Data Design\\brainlit\\benchmarking_datasets\\Manual-GT\\10-01_validation_21-25\\10-01_validation_21\\tree_3.swc\n",
      "D:\\Study\\Nuero Data Design\\brainlit\\benchmarking_datasets\\Manual-GT\\10-01_validation_21-25\\10-01_validation_21\\tree_4.swc\n",
      "D:\\Study\\Nuero Data Design\\brainlit\\benchmarking_datasets\\Manual-GT\\10-01_validation_21-25\\10-01_validation_21\\tree_5.swc\n"
     ]
    },
    {
     "name": "stderr",
     "output_type": "stream",
     "text": [
      "D:\\Anaconda3\\envs\\brainlit\\lib\\site-packages\\ipykernel_launcher.py:80: UserWarning: D:\\Study\\Nuero Data Design\\brainlit\\benchmarking_masks\\validation_21_mask.tif is a low contrast image\n"
     ]
    },
    {
     "name": "stdout",
     "output_type": "stream",
     "text": [
      "D:\\Study\\Nuero Data Design\\brainlit\\benchmarking_datasets\\Images\\validation_22-gfp.tif\n",
      "D:\\Study\\Nuero Data Design\\brainlit\\benchmarking_datasets\\Manual-GT\\10-01_validation_21-25\\10-01_validation_22\\tree_1.swc\n",
      "D:\\Study\\Nuero Data Design\\brainlit\\benchmarking_datasets\\Manual-GT\\10-01_validation_21-25\\10-01_validation_22\\tree_2.swc\n",
      "D:\\Study\\Nuero Data Design\\brainlit\\benchmarking_datasets\\Manual-GT\\10-01_validation_21-25\\10-01_validation_22\\tree_3.swc\n",
      "D:\\Study\\Nuero Data Design\\brainlit\\benchmarking_datasets\\Manual-GT\\10-01_validation_21-25\\10-01_validation_22\\tree_4.swc\n",
      "D:\\Study\\Nuero Data Design\\brainlit\\benchmarking_datasets\\Manual-GT\\10-01_validation_21-25\\10-01_validation_22\\tree_5.swc\n"
     ]
    },
    {
     "name": "stderr",
     "output_type": "stream",
     "text": [
      "D:\\Anaconda3\\envs\\brainlit\\lib\\site-packages\\ipykernel_launcher.py:80: UserWarning: D:\\Study\\Nuero Data Design\\brainlit\\benchmarking_masks\\validation_22_mask.tif is a low contrast image\n"
     ]
    },
    {
     "name": "stdout",
     "output_type": "stream",
     "text": [
      "D:\\Study\\Nuero Data Design\\brainlit\\benchmarking_datasets\\Images\\validation_23-gfp.tif\n",
      "D:\\Study\\Nuero Data Design\\brainlit\\benchmarking_datasets\\Manual-GT\\10-01_validation_21-25\\10-01_validation_23\\tree_1.swc\n",
      "D:\\Study\\Nuero Data Design\\brainlit\\benchmarking_datasets\\Manual-GT\\10-01_validation_21-25\\10-01_validation_23\\tree_10.swc\n",
      "D:\\Study\\Nuero Data Design\\brainlit\\benchmarking_datasets\\Manual-GT\\10-01_validation_21-25\\10-01_validation_23\\tree_11.swc\n",
      "D:\\Study\\Nuero Data Design\\brainlit\\benchmarking_datasets\\Manual-GT\\10-01_validation_21-25\\10-01_validation_23\\tree_12.swc\n",
      "D:\\Study\\Nuero Data Design\\brainlit\\benchmarking_datasets\\Manual-GT\\10-01_validation_21-25\\10-01_validation_23\\tree_13.swc\n",
      "D:\\Study\\Nuero Data Design\\brainlit\\benchmarking_datasets\\Manual-GT\\10-01_validation_21-25\\10-01_validation_23\\tree_14.swc\n",
      "D:\\Study\\Nuero Data Design\\brainlit\\benchmarking_datasets\\Manual-GT\\10-01_validation_21-25\\10-01_validation_23\\tree_2.swc\n",
      "D:\\Study\\Nuero Data Design\\brainlit\\benchmarking_datasets\\Manual-GT\\10-01_validation_21-25\\10-01_validation_23\\tree_3.swc\n",
      "D:\\Study\\Nuero Data Design\\brainlit\\benchmarking_datasets\\Manual-GT\\10-01_validation_21-25\\10-01_validation_23\\tree_4.swc\n",
      "D:\\Study\\Nuero Data Design\\brainlit\\benchmarking_datasets\\Manual-GT\\10-01_validation_21-25\\10-01_validation_23\\tree_5.swc\n",
      "D:\\Study\\Nuero Data Design\\brainlit\\benchmarking_datasets\\Manual-GT\\10-01_validation_21-25\\10-01_validation_23\\tree_6.swc\n",
      "D:\\Study\\Nuero Data Design\\brainlit\\benchmarking_datasets\\Manual-GT\\10-01_validation_21-25\\10-01_validation_23\\tree_7.swc\n",
      "D:\\Study\\Nuero Data Design\\brainlit\\benchmarking_datasets\\Manual-GT\\10-01_validation_21-25\\10-01_validation_23\\tree_8.swc\n",
      "D:\\Study\\Nuero Data Design\\brainlit\\benchmarking_datasets\\Manual-GT\\10-01_validation_21-25\\10-01_validation_23\\tree_9.swc\n"
     ]
    },
    {
     "name": "stderr",
     "output_type": "stream",
     "text": [
      "D:\\Anaconda3\\envs\\brainlit\\lib\\site-packages\\ipykernel_launcher.py:80: UserWarning: D:\\Study\\Nuero Data Design\\brainlit\\benchmarking_masks\\validation_23_mask.tif is a low contrast image\n"
     ]
    },
    {
     "name": "stdout",
     "output_type": "stream",
     "text": [
      "D:\\Study\\Nuero Data Design\\brainlit\\benchmarking_datasets\\Images\\validation_24-gfp.tif\n",
      "D:\\Study\\Nuero Data Design\\brainlit\\benchmarking_datasets\\Manual-GT\\10-01_validation_21-25\\10-01_validation_24\\tree_1.swc\n",
      "D:\\Study\\Nuero Data Design\\brainlit\\benchmarking_datasets\\Manual-GT\\10-01_validation_21-25\\10-01_validation_24\\tree_2.swc\n",
      "D:\\Study\\Nuero Data Design\\brainlit\\benchmarking_datasets\\Manual-GT\\10-01_validation_21-25\\10-01_validation_24\\tree_3.swc\n",
      "D:\\Study\\Nuero Data Design\\brainlit\\benchmarking_datasets\\Manual-GT\\10-01_validation_21-25\\10-01_validation_24\\tree_4.swc\n",
      "D:\\Study\\Nuero Data Design\\brainlit\\benchmarking_datasets\\Manual-GT\\10-01_validation_21-25\\10-01_validation_24\\tree_5.swc\n",
      "D:\\Study\\Nuero Data Design\\brainlit\\benchmarking_datasets\\Manual-GT\\10-01_validation_21-25\\10-01_validation_24\\tree_6.swc\n",
      "D:\\Study\\Nuero Data Design\\brainlit\\benchmarking_datasets\\Manual-GT\\10-01_validation_21-25\\10-01_validation_24\\tree_7.swc\n"
     ]
    },
    {
     "name": "stderr",
     "output_type": "stream",
     "text": [
      "D:\\Anaconda3\\envs\\brainlit\\lib\\site-packages\\ipykernel_launcher.py:80: UserWarning: D:\\Study\\Nuero Data Design\\brainlit\\benchmarking_masks\\validation_24_mask.tif is a low contrast image\n"
     ]
    },
    {
     "name": "stdout",
     "output_type": "stream",
     "text": [
      "D:\\Study\\Nuero Data Design\\brainlit\\benchmarking_datasets\\Images\\validation_25-gfp.tif\n",
      "D:\\Study\\Nuero Data Design\\brainlit\\benchmarking_datasets\\Manual-GT\\10-01_validation_21-25\\10-01_validation_25\\tree_1.swc\n",
      "D:\\Study\\Nuero Data Design\\brainlit\\benchmarking_datasets\\Manual-GT\\10-01_validation_21-25\\10-01_validation_25\\tree_2.swc\n",
      "D:\\Study\\Nuero Data Design\\brainlit\\benchmarking_datasets\\Manual-GT\\10-01_validation_21-25\\10-01_validation_25\\tree_3.swc\n",
      "D:\\Study\\Nuero Data Design\\brainlit\\benchmarking_datasets\\Manual-GT\\10-01_validation_21-25\\10-01_validation_25\\tree_4.swc\n",
      "D:\\Study\\Nuero Data Design\\brainlit\\benchmarking_datasets\\Manual-GT\\10-01_validation_21-25\\10-01_validation_25\\tree_5.swc\n"
     ]
    },
    {
     "name": "stderr",
     "output_type": "stream",
     "text": [
      "D:\\Anaconda3\\envs\\brainlit\\lib\\site-packages\\ipykernel_launcher.py:80: UserWarning: D:\\Study\\Nuero Data Design\\brainlit\\benchmarking_masks\\validation_25_mask.tif is a low contrast image\n"
     ]
    },
    {
     "name": "stdout",
     "output_type": "stream",
     "text": [
      "D:\\Study\\Nuero Data Design\\brainlit\\benchmarking_datasets\\Images\\validation_3-gfp.tif\n",
      "D:\\Study\\Nuero Data Design\\brainlit\\benchmarking_datasets\\Manual-GT\\10-01_validation_1-5\\10-01_validation_3\\tree_1.swc\n",
      "D:\\Study\\Nuero Data Design\\brainlit\\benchmarking_datasets\\Manual-GT\\10-01_validation_1-5\\10-01_validation_3\\tree_2.swc\n",
      "D:\\Study\\Nuero Data Design\\brainlit\\benchmarking_datasets\\Manual-GT\\10-01_validation_1-5\\10-01_validation_3\\tree_3.swc\n",
      "D:\\Study\\Nuero Data Design\\brainlit\\benchmarking_datasets\\Manual-GT\\10-01_validation_1-5\\10-01_validation_3\\tree_4.swc\n",
      "D:\\Study\\Nuero Data Design\\brainlit\\benchmarking_datasets\\Manual-GT\\10-01_validation_1-5\\10-01_validation_3\\tree_5.swc\n",
      "D:\\Study\\Nuero Data Design\\brainlit\\benchmarking_datasets\\Manual-GT\\10-01_validation_1-5\\10-01_validation_3\\tree_6.swc\n",
      "D:\\Study\\Nuero Data Design\\brainlit\\benchmarking_datasets\\Manual-GT\\10-01_validation_1-5\\10-01_validation_3\\tree_7.swc\n",
      "D:\\Study\\Nuero Data Design\\brainlit\\benchmarking_datasets\\Manual-GT\\10-01_validation_1-5\\10-01_validation_3\\tree_8.swc\n"
     ]
    },
    {
     "name": "stderr",
     "output_type": "stream",
     "text": [
      "D:\\Anaconda3\\envs\\brainlit\\lib\\site-packages\\ipykernel_launcher.py:80: UserWarning: D:\\Study\\Nuero Data Design\\brainlit\\benchmarking_masks\\validation_3_mask.tif is a low contrast image\n"
     ]
    },
    {
     "name": "stdout",
     "output_type": "stream",
     "text": [
      "D:\\Study\\Nuero Data Design\\brainlit\\benchmarking_datasets\\Images\\validation_4-gfp.tif\n",
      "D:\\Study\\Nuero Data Design\\brainlit\\benchmarking_datasets\\Manual-GT\\10-01_validation_1-5\\10-01_validation_4\\tree_1.swc\n",
      "D:\\Study\\Nuero Data Design\\brainlit\\benchmarking_datasets\\Manual-GT\\10-01_validation_1-5\\10-01_validation_4\\tree_2.swc\n",
      "D:\\Study\\Nuero Data Design\\brainlit\\benchmarking_datasets\\Manual-GT\\10-01_validation_1-5\\10-01_validation_4\\tree_3.swc\n",
      "D:\\Study\\Nuero Data Design\\brainlit\\benchmarking_datasets\\Manual-GT\\10-01_validation_1-5\\10-01_validation_4\\tree_4.swc\n",
      "D:\\Study\\Nuero Data Design\\brainlit\\benchmarking_datasets\\Manual-GT\\10-01_validation_1-5\\10-01_validation_4\\tree_5.swc\n"
     ]
    },
    {
     "name": "stderr",
     "output_type": "stream",
     "text": [
      "D:\\Anaconda3\\envs\\brainlit\\lib\\site-packages\\ipykernel_launcher.py:80: UserWarning: D:\\Study\\Nuero Data Design\\brainlit\\benchmarking_masks\\validation_4_mask.tif is a low contrast image\n"
     ]
    },
    {
     "name": "stdout",
     "output_type": "stream",
     "text": [
      "D:\\Study\\Nuero Data Design\\brainlit\\benchmarking_datasets\\Images\\validation_5-gfp.tif\n",
      "D:\\Study\\Nuero Data Design\\brainlit\\benchmarking_datasets\\Manual-GT\\10-01_validation_1-5\\10-01_validation_5\\tree_1.swc\n"
     ]
    },
    {
     "name": "stderr",
     "output_type": "stream",
     "text": [
      "D:\\Anaconda3\\envs\\brainlit\\lib\\site-packages\\ipykernel_launcher.py:80: UserWarning: D:\\Study\\Nuero Data Design\\brainlit\\benchmarking_masks\\validation_5_mask.tif is a low contrast image\n"
     ]
    },
    {
     "name": "stdout",
     "output_type": "stream",
     "text": [
      "D:\\Study\\Nuero Data Design\\brainlit\\benchmarking_datasets\\Images\\validation_6-gfp.tif\n",
      "D:\\Study\\Nuero Data Design\\brainlit\\benchmarking_datasets\\Manual-GT\\10-01_validation_6-10\\10-01_validation_6\\tree_1.swc\n",
      "D:\\Study\\Nuero Data Design\\brainlit\\benchmarking_datasets\\Manual-GT\\10-01_validation_6-10\\10-01_validation_6\\tree_2.swc\n",
      "D:\\Study\\Nuero Data Design\\brainlit\\benchmarking_datasets\\Manual-GT\\10-01_validation_6-10\\10-01_validation_6\\tree_3.swc\n",
      "D:\\Study\\Nuero Data Design\\brainlit\\benchmarking_datasets\\Manual-GT\\10-01_validation_6-10\\10-01_validation_6\\tree_4.swc\n",
      "D:\\Study\\Nuero Data Design\\brainlit\\benchmarking_datasets\\Manual-GT\\10-01_validation_6-10\\10-01_validation_6\\tree_5.swc\n",
      "D:\\Study\\Nuero Data Design\\brainlit\\benchmarking_datasets\\Manual-GT\\10-01_validation_6-10\\10-01_validation_6\\tree_6.swc\n",
      "D:\\Study\\Nuero Data Design\\brainlit\\benchmarking_datasets\\Manual-GT\\10-01_validation_6-10\\10-01_validation_6\\tree_7.swc\n",
      "D:\\Study\\Nuero Data Design\\brainlit\\benchmarking_datasets\\Manual-GT\\10-01_validation_6-10\\10-01_validation_6\\tree_8.swc\n",
      "D:\\Study\\Nuero Data Design\\brainlit\\benchmarking_datasets\\Manual-GT\\10-01_validation_6-10\\10-01_validation_6\\tree_9.swc\n"
     ]
    },
    {
     "name": "stderr",
     "output_type": "stream",
     "text": [
      "D:\\Anaconda3\\envs\\brainlit\\lib\\site-packages\\ipykernel_launcher.py:80: UserWarning: D:\\Study\\Nuero Data Design\\brainlit\\benchmarking_masks\\validation_6_mask.tif is a low contrast image\n"
     ]
    },
    {
     "name": "stdout",
     "output_type": "stream",
     "text": [
      "D:\\Study\\Nuero Data Design\\brainlit\\benchmarking_datasets\\Images\\validation_7-gfp.tif\n",
      "D:\\Study\\Nuero Data Design\\brainlit\\benchmarking_datasets\\Manual-GT\\10-01_validation_6-10\\10-01_validation_7\\tree_1.swc\n",
      "D:\\Study\\Nuero Data Design\\brainlit\\benchmarking_datasets\\Manual-GT\\10-01_validation_6-10\\10-01_validation_7\\tree_2.swc\n",
      "D:\\Study\\Nuero Data Design\\brainlit\\benchmarking_datasets\\Manual-GT\\10-01_validation_6-10\\10-01_validation_7\\tree_3.swc\n",
      "D:\\Study\\Nuero Data Design\\brainlit\\benchmarking_datasets\\Manual-GT\\10-01_validation_6-10\\10-01_validation_7\\tree_4.swc\n"
     ]
    },
    {
     "name": "stderr",
     "output_type": "stream",
     "text": [
      "D:\\Anaconda3\\envs\\brainlit\\lib\\site-packages\\ipykernel_launcher.py:80: UserWarning: D:\\Study\\Nuero Data Design\\brainlit\\benchmarking_masks\\validation_7_mask.tif is a low contrast image\n"
     ]
    },
    {
     "name": "stdout",
     "output_type": "stream",
     "text": [
      "D:\\Study\\Nuero Data Design\\brainlit\\benchmarking_datasets\\Images\\validation_8-gfp.tif\n",
      "D:\\Study\\Nuero Data Design\\brainlit\\benchmarking_datasets\\Manual-GT\\10-01_validation_6-10\\10-01_validation_8\\tree_1.swc\n",
      "D:\\Study\\Nuero Data Design\\brainlit\\benchmarking_datasets\\Manual-GT\\10-01_validation_6-10\\10-01_validation_8\\tree_10.swc\n",
      "D:\\Study\\Nuero Data Design\\brainlit\\benchmarking_datasets\\Manual-GT\\10-01_validation_6-10\\10-01_validation_8\\tree_11.swc\n",
      "D:\\Study\\Nuero Data Design\\brainlit\\benchmarking_datasets\\Manual-GT\\10-01_validation_6-10\\10-01_validation_8\\tree_12.swc\n",
      "D:\\Study\\Nuero Data Design\\brainlit\\benchmarking_datasets\\Manual-GT\\10-01_validation_6-10\\10-01_validation_8\\tree_13.swc\n",
      "D:\\Study\\Nuero Data Design\\brainlit\\benchmarking_datasets\\Manual-GT\\10-01_validation_6-10\\10-01_validation_8\\tree_14.swc\n",
      "D:\\Study\\Nuero Data Design\\brainlit\\benchmarking_datasets\\Manual-GT\\10-01_validation_6-10\\10-01_validation_8\\tree_15.swc\n",
      "D:\\Study\\Nuero Data Design\\brainlit\\benchmarking_datasets\\Manual-GT\\10-01_validation_6-10\\10-01_validation_8\\tree_16.swc\n",
      "D:\\Study\\Nuero Data Design\\brainlit\\benchmarking_datasets\\Manual-GT\\10-01_validation_6-10\\10-01_validation_8\\tree_17.swc\n",
      "D:\\Study\\Nuero Data Design\\brainlit\\benchmarking_datasets\\Manual-GT\\10-01_validation_6-10\\10-01_validation_8\\tree_18.swc\n",
      "D:\\Study\\Nuero Data Design\\brainlit\\benchmarking_datasets\\Manual-GT\\10-01_validation_6-10\\10-01_validation_8\\tree_19.swc\n",
      "D:\\Study\\Nuero Data Design\\brainlit\\benchmarking_datasets\\Manual-GT\\10-01_validation_6-10\\10-01_validation_8\\tree_2.swc\n",
      "D:\\Study\\Nuero Data Design\\brainlit\\benchmarking_datasets\\Manual-GT\\10-01_validation_6-10\\10-01_validation_8\\tree_20.swc\n",
      "D:\\Study\\Nuero Data Design\\brainlit\\benchmarking_datasets\\Manual-GT\\10-01_validation_6-10\\10-01_validation_8\\tree_21.swc\n",
      "D:\\Study\\Nuero Data Design\\brainlit\\benchmarking_datasets\\Manual-GT\\10-01_validation_6-10\\10-01_validation_8\\tree_22.swc\n",
      "D:\\Study\\Nuero Data Design\\brainlit\\benchmarking_datasets\\Manual-GT\\10-01_validation_6-10\\10-01_validation_8\\tree_23.swc\n",
      "D:\\Study\\Nuero Data Design\\brainlit\\benchmarking_datasets\\Manual-GT\\10-01_validation_6-10\\10-01_validation_8\\tree_24.swc\n",
      "D:\\Study\\Nuero Data Design\\brainlit\\benchmarking_datasets\\Manual-GT\\10-01_validation_6-10\\10-01_validation_8\\tree_25.swc\n",
      "D:\\Study\\Nuero Data Design\\brainlit\\benchmarking_datasets\\Manual-GT\\10-01_validation_6-10\\10-01_validation_8\\tree_26.swc\n",
      "D:\\Study\\Nuero Data Design\\brainlit\\benchmarking_datasets\\Manual-GT\\10-01_validation_6-10\\10-01_validation_8\\tree_27.swc\n",
      "D:\\Study\\Nuero Data Design\\brainlit\\benchmarking_datasets\\Manual-GT\\10-01_validation_6-10\\10-01_validation_8\\tree_28.swc\n",
      "D:\\Study\\Nuero Data Design\\brainlit\\benchmarking_datasets\\Manual-GT\\10-01_validation_6-10\\10-01_validation_8\\tree_3.swc\n",
      "D:\\Study\\Nuero Data Design\\brainlit\\benchmarking_datasets\\Manual-GT\\10-01_validation_6-10\\10-01_validation_8\\tree_4.swc\n",
      "D:\\Study\\Nuero Data Design\\brainlit\\benchmarking_datasets\\Manual-GT\\10-01_validation_6-10\\10-01_validation_8\\tree_5.swc\n",
      "D:\\Study\\Nuero Data Design\\brainlit\\benchmarking_datasets\\Manual-GT\\10-01_validation_6-10\\10-01_validation_8\\tree_6.swc\n",
      "D:\\Study\\Nuero Data Design\\brainlit\\benchmarking_datasets\\Manual-GT\\10-01_validation_6-10\\10-01_validation_8\\tree_7.swc\n",
      "D:\\Study\\Nuero Data Design\\brainlit\\benchmarking_datasets\\Manual-GT\\10-01_validation_6-10\\10-01_validation_8\\tree_8.swc\n",
      "D:\\Study\\Nuero Data Design\\brainlit\\benchmarking_datasets\\Manual-GT\\10-01_validation_6-10\\10-01_validation_8\\tree_9.swc\n"
     ]
    },
    {
     "name": "stderr",
     "output_type": "stream",
     "text": [
      "D:\\Anaconda3\\envs\\brainlit\\lib\\site-packages\\ipykernel_launcher.py:80: UserWarning: D:\\Study\\Nuero Data Design\\brainlit\\benchmarking_masks\\validation_8_mask.tif is a low contrast image\n"
     ]
    },
    {
     "name": "stdout",
     "output_type": "stream",
     "text": [
      "D:\\Study\\Nuero Data Design\\brainlit\\benchmarking_datasets\\Images\\validation_9-gfp.tif\n",
      "D:\\Study\\Nuero Data Design\\brainlit\\benchmarking_datasets\\Manual-GT\\10-01_validation_6-10\\10-01_validation_9\\tree_1.swc\n",
      "D:\\Study\\Nuero Data Design\\brainlit\\benchmarking_datasets\\Manual-GT\\10-01_validation_6-10\\10-01_validation_9\\tree_10.swc\n",
      "D:\\Study\\Nuero Data Design\\brainlit\\benchmarking_datasets\\Manual-GT\\10-01_validation_6-10\\10-01_validation_9\\tree_11.swc\n",
      "D:\\Study\\Nuero Data Design\\brainlit\\benchmarking_datasets\\Manual-GT\\10-01_validation_6-10\\10-01_validation_9\\tree_12.swc\n",
      "D:\\Study\\Nuero Data Design\\brainlit\\benchmarking_datasets\\Manual-GT\\10-01_validation_6-10\\10-01_validation_9\\tree_13.swc\n",
      "D:\\Study\\Nuero Data Design\\brainlit\\benchmarking_datasets\\Manual-GT\\10-01_validation_6-10\\10-01_validation_9\\tree_14.swc\n",
      "D:\\Study\\Nuero Data Design\\brainlit\\benchmarking_datasets\\Manual-GT\\10-01_validation_6-10\\10-01_validation_9\\tree_15.swc\n",
      "D:\\Study\\Nuero Data Design\\brainlit\\benchmarking_datasets\\Manual-GT\\10-01_validation_6-10\\10-01_validation_9\\tree_16.swc\n",
      "D:\\Study\\Nuero Data Design\\brainlit\\benchmarking_datasets\\Manual-GT\\10-01_validation_6-10\\10-01_validation_9\\tree_17.swc\n",
      "D:\\Study\\Nuero Data Design\\brainlit\\benchmarking_datasets\\Manual-GT\\10-01_validation_6-10\\10-01_validation_9\\tree_2.swc\n",
      "D:\\Study\\Nuero Data Design\\brainlit\\benchmarking_datasets\\Manual-GT\\10-01_validation_6-10\\10-01_validation_9\\tree_3.swc\n",
      "D:\\Study\\Nuero Data Design\\brainlit\\benchmarking_datasets\\Manual-GT\\10-01_validation_6-10\\10-01_validation_9\\tree_4.swc\n",
      "D:\\Study\\Nuero Data Design\\brainlit\\benchmarking_datasets\\Manual-GT\\10-01_validation_6-10\\10-01_validation_9\\tree_5.swc\n",
      "D:\\Study\\Nuero Data Design\\brainlit\\benchmarking_datasets\\Manual-GT\\10-01_validation_6-10\\10-01_validation_9\\tree_6.swc\n",
      "D:\\Study\\Nuero Data Design\\brainlit\\benchmarking_datasets\\Manual-GT\\10-01_validation_6-10\\10-01_validation_9\\tree_7.swc\n",
      "D:\\Study\\Nuero Data Design\\brainlit\\benchmarking_datasets\\Manual-GT\\10-01_validation_6-10\\10-01_validation_9\\tree_8.swc\n",
      "D:\\Study\\Nuero Data Design\\brainlit\\benchmarking_datasets\\Manual-GT\\10-01_validation_6-10\\10-01_validation_9\\tree_9.swc\n"
     ]
    },
    {
     "name": "stderr",
     "output_type": "stream",
     "text": [
      "D:\\Anaconda3\\envs\\brainlit\\lib\\site-packages\\ipykernel_launcher.py:80: UserWarning: D:\\Study\\Nuero Data Design\\brainlit\\benchmarking_masks\\validation_9_mask.tif is a low contrast image\n"
     ]
    }
   ],
   "source": [
    "# loading all the benchmarking images from local paths\n",
    "# all the paths of gfp images are saved in variable gfp_files\n",
    "# the folder of output masks is in the same folder where the folder of benchmarking data is\n",
    "base_dir = Path(\"D:/Study/Nuero Data Design/brainlit\")\n",
    "data_dir = base_dir / \"benchmarking_datasets\"\n",
    "im_dir = data_dir / \"Images\"\n",
    "mask_dir = base_dir / \"benchmarking_masks\"\n",
    "gfp_files = list(im_dir.glob(\"**/*.tif\"))\n",
    "swc_base_path = data_dir / \"Manual-GT\"\n",
    "save = True\n",
    "\n",
    "for im_num, im_path in enumerate(gfp_files):\n",
    "    # loading one gfp image\n",
    "    print(str(im_path))\n",
    "    im = io.imread(im_path, plugin=\"tifffile\")\n",
    "    im = np.swapaxes(im, 0, 2)\n",
    "    \n",
    "    file_name = im_path.parts[-1][:-8]\n",
    "    \n",
    "    f = im_path.parts[-1][:-8].split(\"_\")\n",
    "    image = f[0]\n",
    "    date = type_to_date[image]\n",
    "    num = int(f[1])\n",
    "\n",
    "    scale = scales[date]\n",
    "    brain_offset = brain_offsets[date]\n",
    "    vol_offset = vol_offsets[date][num]\n",
    "    im_offset = np.add(brain_offset, vol_offset)\n",
    "\n",
    "    # loading all the .swc files corresponding to the image\n",
    "    # all the paths of .swc files are saved in variable swc_files\n",
    "    lower = int(np.floor((num - 1) / 5) * 5 + 1)\n",
    "    upper = int(np.floor((num - 1) / 5) * 5 + 5)\n",
    "    dir1 = date + \"_\" + image + \"_\" + str(lower) + \"-\" + str(upper)\n",
    "    dir2 = date + \"_\" + image + \"_\" + str(num)\n",
    "    swc_path = swc_base_path / dir1 / dir2\n",
    "    swc_files = list(swc_path.glob(\"**/*.swc\"))\n",
    "\n",
    "    paths_total = []\n",
    "    labels_total = np.zeros(im.shape)\n",
    "    \n",
    "    # generate paths and save them into paths_total\n",
    "    for swc_num, swc in enumerate(swc_files):\n",
    "        if \"cube\" in swc.parts[-1]:\n",
    "            # skip the bounding box swc\n",
    "            continue\n",
    "        print(swc)\n",
    "        df, swc_offset, _, _, _ = read_swc(swc)\n",
    "\n",
    "        offset_diff = np.subtract(swc_offset, im_offset)\n",
    "        G = df_to_graph(df)\n",
    "\n",
    "        paths = graph_to_paths(G)\n",
    "\n",
    "        # for every path in that swc\n",
    "        for path_num, p in enumerate(paths):\n",
    "            pvox = (p + offset_diff) / (scale) * 1000\n",
    "            paths_total.append(pvox)\n",
    "    \n",
    "    # generate labels by using paths\n",
    "    for path_voxel in paths_total:\n",
    "        for voxel_num, voxel in enumerate(path_voxel):\n",
    "            if voxel_num == 0:\n",
    "                continue\n",
    "            voxel_prev = path_voxel[voxel_num-1,:]\n",
    "            xs,ys,zs = Bresenham3D(int(voxel_prev[0]), int(voxel_prev[1]), int(voxel_prev[2]),int(voxel[0]), int(voxel[1]), int(voxel[2]))\n",
    "            for x,y,z in zip(xs,ys,zs):\n",
    "                vox = np.array((x,y,z))\n",
    "                if (vox >= 0).all() and (vox < im.shape).all():\n",
    "                    labels_total[x,y,z] = 1  \n",
    "    \n",
    "    label_flipped = labels_total*0\n",
    "    label_flipped[labels_total==0] = 1\n",
    "    dists = distance_transform_edt(label_flipped, sampling = scale)\n",
    "    labels_total[dists <= 1000] = 1\n",
    "    \n",
    "    if save:\n",
    "        im_file_name = file_name + \"_mask.tif\"\n",
    "        out_file = mask_dir / im_file_name\n",
    "        io.imsave(out_file, labels_total, plugin=\"tifffile\")"
   ]
  },
  {
   "cell_type": "code",
   "execution_count": 3,
   "metadata": {},
   "outputs": [
    {
     "name": "stdout",
     "output_type": "stream",
     "text": [
      "loading the mask of test_1 ...\n",
      "loading the mask of test_10 ...\n",
      "loading the mask of test_11 ...\n",
      "loading the mask of test_12 ...\n",
      "loading the mask of test_13 ...\n",
      "loading the mask of test_14 ...\n",
      "loading the mask of test_15 ...\n",
      "loading the mask of test_16 ...\n",
      "loading the mask of test_17 ...\n",
      "loading the mask of test_18 ...\n",
      "loading the mask of test_19 ...\n",
      "loading the mask of test_2 ...\n",
      "loading the mask of test_20 ...\n",
      "loading the mask of test_21 ...\n",
      "loading the mask of test_22 ...\n",
      "loading the mask of test_23 ...\n",
      "loading the mask of test_24 ...\n",
      "loading the mask of test_25 ...\n",
      "loading the mask of test_3 ...\n",
      "loading the mask of test_4 ...\n",
      "loading the mask of test_5 ...\n",
      "loading the mask of test_6 ...\n",
      "loading the mask of test_7 ...\n",
      "loading the mask of test_8 ...\n",
      "loading the mask of test_9 ...\n",
      "loading the mask of validation_1 ...\n",
      "loading the mask of validation_10 ...\n",
      "loading the mask of validation_11 ...\n",
      "loading the mask of validation_12 ...\n",
      "loading the mask of validation_13 ...\n",
      "loading the mask of validation_14 ...\n",
      "loading the mask of validation_15 ...\n",
      "loading the mask of validation_16 ...\n",
      "loading the mask of validation_17 ...\n",
      "loading the mask of validation_18 ...\n",
      "loading the mask of validation_19 ...\n",
      "loading the mask of validation_2 ...\n",
      "loading the mask of validation_20 ...\n",
      "loading the mask of validation_21 ...\n",
      "loading the mask of validation_22 ...\n",
      "loading the mask of validation_23 ...\n",
      "loading the mask of validation_24 ...\n",
      "loading the mask of validation_25 ...\n",
      "loading the mask of validation_3 ...\n",
      "loading the mask of validation_4 ...\n",
      "loading the mask of validation_5 ...\n",
      "loading the mask of validation_6 ...\n",
      "loading the mask of validation_7 ...\n",
      "loading the mask of validation_8 ...\n",
      "loading the mask of validation_9 ...\n"
     ]
    }
   ],
   "source": [
    "# checking whether masks can be loaded\n",
    "show_napari = False\n",
    "mask_files = list(mask_dir.glob(\"**/*.tif\"))\n",
    "\n",
    "for im_num, im_path in enumerate(gfp_files):\n",
    "    im = io.imread(im_path, plugin=\"tifffile\")\n",
    "    im = np.swapaxes(im, 0, 2)\n",
    "    \n",
    "    file_name = im_path.parts[-1][:-8]\n",
    "    mask_file = file_name + \"_mask.tif\"\n",
    "    mask_path = mask_dir / mask_file\n",
    "    mask = io.imread(mask_path, plugin=\"tifffile\")\n",
    "    \n",
    "    print(\"loading the mask of\", file_name, \"...\")\n",
    "    if show_napari:\n",
    "        napari_viewer(im, labels=mask, label_name=\"mask\")"
   ]
  },
  {
   "cell_type": "code",
   "execution_count": null,
   "metadata": {},
   "outputs": [],
   "source": []
  }
 ],
 "metadata": {
  "kernelspec": {
   "display_name": "Python 3",
   "language": "python",
   "name": "python3"
  },
  "language_info": {
   "codemirror_mode": {
    "name": "ipython",
    "version": 3
   },
   "file_extension": ".py",
   "mimetype": "text/x-python",
   "name": "python",
   "nbconvert_exporter": "python",
   "pygments_lexer": "ipython3",
   "version": "3.7.9"
  }
 },
 "nbformat": 4,
 "nbformat_minor": 4
}
