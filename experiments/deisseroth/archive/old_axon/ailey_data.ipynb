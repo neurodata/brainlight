{
 "cells": [
  {
   "cell_type": "code",
   "execution_count": 1,
   "metadata": {},
   "outputs": [
    {
     "name": "stderr",
     "output_type": "stream",
     "text": [
      "/Users/thomasathey/Documents/mimlab/mouselight/docs_env/lib/python3.8/site-packages/nilearn/datasets/__init__.py:86: FutureWarning: Fetchers from the nilearn.datasets module will be updated in version 0.9 to return python strings instead of bytes and Pandas dataframes instead of Numpy arrays.\n",
      "  warn(\"Fetchers from the nilearn.datasets module will be \"\n"
     ]
    },
    {
     "name": "stdout",
     "output_type": "stream",
     "text": [
      "embedWindow(verbose=True): could not load ipyvtk_simple try:\n",
      "> pip install -U git+https://github.com/Kitware/ipyvtk-simple.git\n"
     ]
    }
   ],
   "source": [
    "from cloudvolume import CloudVolume\n",
    "from skimage.transform import downscale_local_mean\n",
    "import napari\n",
    "from skimage import io\n",
    "import random\n",
    "import h5py\n",
    "from skimage import measure\n",
    "from brainlit.preprocessing import removeSmallCCs\n",
    "import numpy as np\n",
    "import matplotlib.pyplot as plt\n",
    "import subprocess\n",
    "import tables\n",
    "from napari_animation import AnimationWidget\n",
    "from tqdm import tqdm\n",
    "import pickle\n",
    "from parse_ara import *\n",
    "import networkx as nx\n",
    "import seaborn as sns\n",
    "import pandas as pd\n",
    "import brainrender\n",
    "import scipy.ndimage as ndi\n",
    "from skimage.morphology import skeletonize\n",
    "\n",
    "%gui qt5"
   ]
  },
  {
   "cell_type": "markdown",
   "metadata": {},
   "source": [
    "# Download benchmark data"
   ]
  },
  {
   "cell_type": "code",
   "execution_count": null,
   "metadata": {},
   "outputs": [],
   "source": [
    "dir = \"precomputed://https://dlab-colm.neurodata.io/2021_04_08/gad2cre_tph2flp_con_fon_8291/561\"\n",
    "mip = 0\n",
    "\n",
    "vol_bg = CloudVolume(dir, parallel=1, mip=mip, fill_missing=True)\n",
    "shape = vol_bg.shape\n",
    "print(shape)\n",
    "\n",
    "dir = \"precomputed://https://dlab-colm.neurodata.io/2021_04_08/gad2cre_tph2flp_con_fon_8291/642\"\n",
    "mip = 0\n",
    "\n",
    "vol_fg = CloudVolume(dir)\n",
    "shape = vol_fg.shape\n",
    "print(shape)\n",
    "\n",
    "dir = \"precomputed://https://dlab-colm.neurodata.io/2021_04_08/gad2cre_tph2flp_con_fon_8291/axon_mask\"\n",
    "dir = \"s3://smartspim-precomputed-volumes/2021_04_08/gad2cre_tph2flp_con_fon_8291/axon_mask\"\n",
    "mip = 0\n",
    "\n",
    "vol_mask = CloudVolume(dir, parallel=1, mip=mip, fill_missing=True)\n",
    "shape = vol_mask.shape\n",
    "print(shape)"
   ]
  },
  {
   "cell_type": "code",
   "execution_count": null,
   "metadata": {},
   "outputs": [],
   "source": [
    "centers_train = [\n",
    "    [2477, 3638, 2409],\n",
    "    [3605, 2873, 2405],\n",
    "    [4939, 5186, 2398],\n",
    "    [4538, 5148, 2398],\n",
    "    [4618, 3225, 2388],\n",
    "    [3223, 5206, 3550],\n",
    "    [1953, 2102, 3577],\n",
    "    [2395, 5004, 3584],\n",
    "    [941, 3711, 708],\n",
    "    [2030, 2164, 701],\n",
    "    [3283, 3406, 1255],\n",
    "    [1531, 2220, 1242],\n",
    "    [2569, 6420, 2924],\n",
    "    [2282, 8206, 2924],\n",
    "    [4424, 5689, 2896],\n",
    "    [3269, 3987, 2896],\n",
    "    [2817, 6831, 4565],\n",
    "    [3308, 3276, 4124],\n",
    "    [4560, 6354, 4133],\n",
    "    [4293, 2411, 2297],\n",
    "    [5254, 5429, 2877],\n",
    "    [3851, 2185, 2877],\n",
    "    [2261, 8272, 2877],\n",
    "    [3970, 3496, 2877],\n",
    "    [1277, 2284, 2877],\n",
    "]\n",
    "centers_val = [\n",
    "    [5701, 3357, 4137],\n",
    "    [3610, 2346, 4137],\n",
    "    [2564, 4086, 2829],\n",
    "    [1282, 2182, 2829],\n",
    "    [3960, 2836, 1546],\n",
    "    [2347, 4866, 1545],\n",
    "    [1680, 4284, 806],\n",
    "    [3223, 3294, 2514],\n",
    "    [3564, 3847, 2516],\n",
    "    [2620, 7237, 4610],\n",
    "]"
   ]
  },
  {
   "cell_type": "code",
   "execution_count": null,
   "metadata": {},
   "outputs": [],
   "source": [
    "for i, center in enumerate(centers_train):\n",
    "    if i < 20:\n",
    "        continue\n",
    "    image_fg = vol_fg[\n",
    "        center[0] - 49 : center[0] + 50,\n",
    "        center[1] - 49 : center[1] + 50,\n",
    "        center[2] - 49 : center[2] + 50,\n",
    "    ]\n",
    "    image_fg = image_fg[:, :, :, 0]\n",
    "\n",
    "    image_bg = vol_bg[\n",
    "        center[0] - 49 : center[0] + 50,\n",
    "        center[1] - 49 : center[1] + 50,\n",
    "        center[2] - 49 : center[2] + 50,\n",
    "    ]\n",
    "    image_bg = image_bg[:, :, :, 0]\n",
    "    image_2channel = np.stack([image_bg, image_fg], axis=0)\n",
    "\n",
    "    fname = (\n",
    "        \"/Users/thomasathey/Documents/mimlab/mouselight/ailey/benchmark_formal/train_\"\n",
    "        + str(i)\n",
    "        + \".h5\"\n",
    "    )\n",
    "    with h5py.File(fname, \"w\") as f:\n",
    "        dset = f.create_dataset(\"image_2channel\", data=image_2channel)"
   ]
  },
  {
   "cell_type": "markdown",
   "metadata": {},
   "source": [
    "## View data"
   ]
  },
  {
   "cell_type": "code",
   "execution_count": null,
   "metadata": {},
   "outputs": [],
   "source": [
    "center = centers_train[23]\n",
    "\n",
    "image_fg = vol_fg[\n",
    "    center[0] - 49 : center[0] + 50,\n",
    "    center[1] - 49 : center[1] + 50,\n",
    "    center[2] - 49 : center[2] + 50,\n",
    "]\n",
    "image_fg = image_fg[:, :, :, 0]\n",
    "\n",
    "image_bg = vol_bg[\n",
    "    center[0] - 49 : center[0] + 50,\n",
    "    center[1] - 49 : center[1] + 50,\n",
    "    center[2] - 49 : center[2] + 50,\n",
    "]\n",
    "image_bg = image_bg[:, :, :, 0]\n",
    "\n",
    "viewer = napari.Viewer(ndisplay=3)\n",
    "viewer.add_image(image_fg)\n",
    "viewer.add_image(image_bg)"
   ]
  },
  {
   "cell_type": "markdown",
   "metadata": {},
   "source": [
    "## Check training results"
   ]
  },
  {
   "cell_type": "code",
   "execution_count": null,
   "metadata": {},
   "outputs": [],
   "source": [
    "true_pos_total = 0\n",
    "false_pos_total = 0\n",
    "true_labels_total = 0\n",
    "\n",
    "for i in range(20):\n",
    "    fname = (\n",
    "        \"/Users/thomasathey/Documents/mimlab/mouselight/ailey/benchmark_formal/train_\"\n",
    "        + str(i)\n",
    "        + \".h5\"\n",
    "    )\n",
    "    f = h5py.File(fname, \"r\")\n",
    "    im = f.get(\"image_2channel\")\n",
    "    im_bg = im[0, :, :, :]\n",
    "    im_fg = im[1, :, :, :]\n",
    "\n",
    "    fname = (\n",
    "        \"/Users/thomasathey/Documents/mimlab/mouselight/ailey/benchmark_formal/train_\"\n",
    "        + str(i)\n",
    "        + \"-image_2channel_Labels.h5\"\n",
    "    )\n",
    "    f = h5py.File(fname, \"r\")\n",
    "    gt = f.get(\"exported_data\")\n",
    "    gt = gt[0, :, :, :]\n",
    "    pos_labels = gt == 2\n",
    "    num_pos_labels = np.sum(pos_labels)\n",
    "\n",
    "    fname = (\n",
    "        \"/Users/thomasathey/Documents/mimlab/mouselight/ailey/benchmark_formal/train_\"\n",
    "        + str(i)\n",
    "        + \"-image_2channel_Probabilities.h5\"\n",
    "    )\n",
    "    f = h5py.File(fname, \"r\")\n",
    "    seg = f.get(\"exported_data\")\n",
    "    seg = seg[1, :, :, :]\n",
    "    mask = seg > 0.5\n",
    "\n",
    "    true_pos = np.sum(np.logical_and(mask, pos_labels))\n",
    "    true_pos_total += true_pos\n",
    "    false_pos = np.sum(np.logical_and(mask, gt == 1))\n",
    "    false_pos_total += false_pos\n",
    "    true_labels = np.sum(pos_labels)\n",
    "    true_labels_total += true_labels\n",
    "\n",
    "    if num_pos_labels > 0:\n",
    "        precision = true_pos / (true_pos + false_pos)\n",
    "        recall = true_pos / true_labels\n",
    "        print(f\"Example {i}: precision: {precision}, recall: {recall}\")\n",
    "    else:\n",
    "        print(\n",
    "            f\"Example {i}: 0 positive labels, false positive rate is: {false_pos/np.sum(gt == 1)}\"\n",
    "        )\n",
    "\n",
    "    \"\"\"\n",
    "    viewer = napari.Viewer(ndisplay=3)\n",
    "    viewer.add_image(im_bg)\n",
    "    viewer.add_image(im_fg)\n",
    "    viewer.add_labels(gt)\n",
    "    viewer.add_labels(mask)\n",
    "    \"\"\"\n",
    "print(\n",
    "    f\"Total precision: {true_pos_total/(true_pos_total + false_pos_total)} total recall: {true_pos_total/true_labels_total} with {true_labels_total} total positive voxels\"\n",
    ")"
   ]
  },
  {
   "cell_type": "markdown",
   "metadata": {},
   "source": [
    "## Check Val results"
   ]
  },
  {
   "cell_type": "code",
   "execution_count": null,
   "metadata": {},
   "outputs": [],
   "source": [
    "true_pos_total = 0\n",
    "false_pos_total = 0\n",
    "true_labels_total = 0\n",
    "spacing = 0.02\n",
    "thresholds = np.arange(spacing, 1.0, spacing)\n",
    "precisions = []\n",
    "recalls = []\n",
    "best_fscore = 0\n",
    "\n",
    "for threshold in thresholds:\n",
    "    for i in range(10):\n",
    "        fname = (\n",
    "            \"/Users/thomasathey/Documents/mimlab/mouselight/ailey/benchmark_formal/val_\"\n",
    "            + str(i)\n",
    "            + \".h5\"\n",
    "        )\n",
    "        f = h5py.File(fname, \"r\")\n",
    "        im = f.get(\"image_2channel\")\n",
    "        im_bg = im[0, :, :, :]\n",
    "        im_fg = im[1, :, :, :]\n",
    "\n",
    "        fname = (\n",
    "            \"/Users/thomasathey/Documents/mimlab/mouselight/ailey/benchmark_formal/val_\"\n",
    "            + str(i)\n",
    "            + \"-image_2channel_Labels.h5\"\n",
    "        )\n",
    "        f = h5py.File(fname, \"r\")\n",
    "        gt = f.get(\"exported_data\")\n",
    "        gt = gt[0, :, :, :]\n",
    "        pos_labels = gt == 2\n",
    "        num_pos_labels = np.sum(pos_labels)\n",
    "\n",
    "        fname = (\n",
    "            \"/Users/thomasathey/Documents/mimlab/mouselight/ailey/benchmark_formal/val_\"\n",
    "            + str(i)\n",
    "            + \"_Probabilities.h5\"\n",
    "        )\n",
    "        f = h5py.File(fname, \"r\")\n",
    "        seg = f.get(\"exported_data\")\n",
    "        seg = seg[1, :, :, :]\n",
    "        mask = seg > threshold\n",
    "\n",
    "        true_pos = np.sum(np.logical_and(mask, pos_labels))\n",
    "        true_pos_total += true_pos\n",
    "        false_pos = np.sum(np.logical_and(mask, gt == 1))\n",
    "        false_pos_total += false_pos\n",
    "        true_labels = np.sum(pos_labels)\n",
    "        true_labels_total += true_labels\n",
    "\n",
    "        if num_pos_labels > 0:\n",
    "            precision = true_pos / (true_pos + false_pos)\n",
    "            recall = true_pos / true_labels\n",
    "            # print(f\"Example {i}: precision: {precision}, recall: {recall}\")\n",
    "        else:\n",
    "            # print(f\"Example {i}: 0 positive labels, false positive rate is: {false_pos/np.sum(gt == 1)}\")\n",
    "            pass\n",
    "        \"\"\"\n",
    "        viewer = napari.Viewer(ndisplay=3)\n",
    "        viewer.add_image(im_bg)\n",
    "        viewer.add_image(im_fg)\n",
    "        viewer.add_labels(gt)\n",
    "        viewer.add_labels(mask)\n",
    "        \"\"\"\n",
    "    precision_total = true_pos_total / (true_pos_total + false_pos_total)\n",
    "    recall_total = true_pos_total / true_labels_total\n",
    "    fscore = 2 / (1 / precision_total + 1 / recall_total)\n",
    "    print(\n",
    "        f\"Thresh: {threshold:.2f} --- Total prec.: {precision_total:.3f} total rec.: {recall_total:.3f} w/{true_labels_total} total pos voxels. F-score: {fscore:.4f}\"\n",
    "    )\n",
    "    if fscore > best_fscore:\n",
    "        best_fscore = fscore\n",
    "        best_prec = precision_total\n",
    "        best_recall = recall_total\n",
    "    precisions.append(precision_total)\n",
    "    recalls.append(recall_total)\n",
    "plt.plot(recalls, precisions, label=\"Prec-Rec Curve\")\n",
    "plt.scatter(\n",
    "    [best_recall], [best_prec], c=\"red\", label=f\"Best F-score: {best_fscore:.4f}\"\n",
    ")\n",
    "plt.ylabel(\"Precision\")\n",
    "plt.xlabel(\"Recall\")\n",
    "plt.title(\"Validation Performance Brain1\")\n",
    "plt.legend()"
   ]
  },
  {
   "cell_type": "markdown",
   "metadata": {},
   "source": [
    "## Brain 2 "
   ]
  },
  {
   "cell_type": "code",
   "execution_count": null,
   "metadata": {},
   "outputs": [],
   "source": [
    "dir = \"precomputed://https://dlab-colm.neurodata.io/2021_06_02_Sert_Cre/Ch_647\"\n",
    "mip = 0\n",
    "\n",
    "vol_fg = CloudVolume(dir, parallel=1, mip=mip, fill_missing=True)\n",
    "shape = vol_fg.shape\n",
    "print(shape)\n",
    "\n",
    "centers_val = [\n",
    "    [2626, 3837, 2366],\n",
    "    [799, 3315, 2366],\n",
    "    [3851, 5443, 2346],\n",
    "    [3260, 5490, 2351],\n",
    "    [3198, 7658, 2351],\n",
    "    [2998, 4502, 1215],\n",
    "    [4269, 1657, 1215],\n",
    "    [3071, 1153, 3412],\n",
    "    [3672, 1792, 409],\n",
    "    [2235, 4195, 409],\n",
    "]"
   ]
  },
  {
   "cell_type": "code",
   "execution_count": null,
   "metadata": {},
   "outputs": [],
   "source": [
    "# download data\n",
    "for i, center in enumerate(centers_val):\n",
    "    image_fg = vol_fg[\n",
    "        center[0] - 49 : center[0] + 50,\n",
    "        center[1] - 49 : center[1] + 50,\n",
    "        center[2] - 49 : center[2] + 50,\n",
    "    ]\n",
    "    image_fg = image_fg[:, :, :, 0]\n",
    "\n",
    "    image_bg = 0 * image_fg\n",
    "    image_2channel = np.stack([image_bg, image_fg], axis=0)\n",
    "\n",
    "    fname = (\n",
    "        \"/Users/thomasathey/Documents/mimlab/mouselight/ailey/benchmark_formal/brain2/val_\"\n",
    "        + str(i)\n",
    "        + \".h5\"\n",
    "    )\n",
    "    with h5py.File(fname, \"w\") as f:\n",
    "        dset = f.create_dataset(\"image_2channel\", data=image_2channel)"
   ]
  },
  {
   "cell_type": "code",
   "execution_count": null,
   "metadata": {},
   "outputs": [],
   "source": [
    "true_pos_total = 0\n",
    "false_pos_total = 0\n",
    "true_labels_total = 0\n",
    "thresholds = np.arange(0.1, 1.0, 0.02)\n",
    "precisions = []\n",
    "recalls = []\n",
    "best_fscore = 0\n",
    "\n",
    "for threshold in thresholds:\n",
    "    for i in range(10):\n",
    "        fname = (\n",
    "            \"/Users/thomasathey/Documents/mimlab/mouselight/ailey/benchmark_formal/brain2/val_\"\n",
    "            + str(i)\n",
    "            + \".h5\"\n",
    "        )\n",
    "        f = h5py.File(fname, \"r\")\n",
    "        im = f.get(\"image_2channel\")\n",
    "        im_bg = im[0, :, :, :]\n",
    "        im_fg = im[1, :, :, :]\n",
    "\n",
    "        fname = (\n",
    "            \"/Users/thomasathey/Documents/mimlab/mouselight/ailey/benchmark_formal/brain2/val_\"\n",
    "            + str(i)\n",
    "            + \"-image_2channel_Labels.h5\"\n",
    "        )\n",
    "        f = h5py.File(fname, \"r\")\n",
    "        gt = f.get(\"exported_data\")\n",
    "        gt = gt[0, :, :, :]\n",
    "        pos_labels = gt == 2\n",
    "        num_pos_labels = np.sum(pos_labels)\n",
    "\n",
    "        fname = (\n",
    "            \"/Users/thomasathey/Documents/mimlab/mouselight/ailey/benchmark_formal/brain2/val_\"\n",
    "            + str(i)\n",
    "            + \"_Probabilities.h5\"\n",
    "        )\n",
    "        f = h5py.File(fname, \"r\")\n",
    "        seg = f.get(\"exported_data\")\n",
    "        seg = seg[1, :, :, :]\n",
    "        mask = seg > threshold\n",
    "\n",
    "        true_pos = np.sum(np.logical_and(mask, pos_labels))\n",
    "        true_pos_total += true_pos\n",
    "        false_pos = np.sum(np.logical_and(mask, gt == 1))\n",
    "        false_pos_total += false_pos\n",
    "        true_labels = np.sum(pos_labels)\n",
    "        true_labels_total += true_labels\n",
    "\n",
    "        if num_pos_labels > 0:\n",
    "            precision = true_pos / (true_pos + false_pos)\n",
    "            recall = true_pos / true_labels\n",
    "            # print(f\"Example {i}: precision: {precision}, recall: {recall}\")\n",
    "        else:\n",
    "            # print(f\"Example {i}: 0 positive labels, false positive rate is: {false_pos/np.sum(gt == 1)}\")\n",
    "            pass\n",
    "\n",
    "        \"\"\"\n",
    "        viewer = napari.Viewer(ndisplay=3)\n",
    "        viewer.add_image(im_bg)\n",
    "        viewer.add_image(im_fg)\n",
    "        viewer.add_labels(gt)\n",
    "        viewer.add_labels(mask)\n",
    "        napari.run()\n",
    "        \"\"\"\n",
    "\n",
    "    precision_total = true_pos_total / (true_pos_total + false_pos_total)\n",
    "    recall_total = true_pos_total / true_labels_total\n",
    "    fscore = 2 / (1 / precision_total + 1 / recall_total)\n",
    "    print(\n",
    "        f\"Threshold: {threshold} ----- Total precision: {precision_total} total recall: {recall_total} with {true_labels_total} total positive voxels. F-score: {fscore}\"\n",
    "    )\n",
    "    if fscore > best_fscore:\n",
    "        best_fscore = fscore\n",
    "        best_prec = precision_total\n",
    "        best_recall = recall_total\n",
    "    precisions.append(precision_total)\n",
    "    recalls.append(recall_total)\n",
    "\n",
    "\n",
    "plt.plot(recalls, precisions, label=\"Prec-Rec Curve\")\n",
    "plt.scatter([best_recall], [best_prec], c=\"red\", label=f\"Best F-score: {best_fscore}\")\n",
    "plt.ylabel(\"Precision\")\n",
    "plt.xlabel(\"Recall\")\n",
    "plt.title(\"Validation Performance Brain 2\")\n",
    "plt.legend()"
   ]
  },
  {
   "cell_type": "markdown",
   "metadata": {},
   "source": [
    "## Check whole brain results"
   ]
  },
  {
   "cell_type": "code",
   "execution_count": null,
   "metadata": {},
   "outputs": [],
   "source": [
    "# download from cloud\n",
    "centers = [[2304, 3840, 2100], [2560, 3840, 1800]]\n",
    "\n",
    "for i, center in enumerate(centers):\n",
    "    image_fg = vol_fg[\n",
    "        center[0] : center[0] + 256,\n",
    "        center[1] : center[1] + 256,\n",
    "        center[2] : center[2] + 300,\n",
    "    ]\n",
    "    image_fg = image_fg[:, :, :, 0]\n",
    "\n",
    "    image_bg = vol_bg[\n",
    "        center[0] : center[0] + 256,\n",
    "        center[1] : center[1] + 256,\n",
    "        center[2] : center[2] + 300,\n",
    "    ]\n",
    "    image_bg = image_bg[:, :, :, 0]\n",
    "\n",
    "    mask_s3 = vol_mask[\n",
    "        center[0] : center[0] + 256,\n",
    "        center[1] : center[1] + 256,\n",
    "        center[2] : center[2] + 300,\n",
    "    ]\n",
    "    mask_s3 = mask_s3[:, :, :, 0]\n",
    "\n",
    "    image_2channel = np.stack([image_bg, image_fg], axis=0)\n",
    "    fname = (\n",
    "        \"/Users/thomasathey/Documents/mimlab/mouselight/ailey/benchmark_formal/test_\"\n",
    "        + str(i)\n",
    "        + \".h5\"\n",
    "    )\n",
    "    with h5py.File(fname, \"w\") as f:\n",
    "        dset = f.create_dataset(\"image_2channel\", data=image_2channel)"
   ]
  },
  {
   "cell_type": "code",
   "execution_count": null,
   "metadata": {},
   "outputs": [],
   "source": [
    "# read ilastik output\n",
    "fname = \"/Users/thomasathey/Documents/mimlab/mouselight/ailey/benchmark_formal/test_1_Probabilities.h5\"\n",
    "f = h5py.File(fname, \"r\")\n",
    "im = f.get(\"exported_data\")\n",
    "pred = im[1, :, :, :]\n",
    "mask = pred > 0.32"
   ]
  },
  {
   "cell_type": "code",
   "execution_count": null,
   "metadata": {},
   "outputs": [],
   "source": [
    "# read cis file\n",
    "fname = \"/Users/thomasathey/Documents/mimlab/mouselight/ailey/image_1800.h5\"\n",
    "f = h5py.File(fname, \"r\")\n",
    "im = f.get(\"image_2channel\")\n",
    "image_fg_cis = im[1, :, :, :, 0]\n",
    "image_bg_cis = im[0, :, :, :, 0]\n",
    "\n",
    "# read cis file\n",
    "fname = (\n",
    "    \"/Users/thomasathey/Documents/mimlab/mouselight/ailey/image_1800_Probabilities.h5\"\n",
    ")\n",
    "f = h5py.File(fname, \"r\")\n",
    "ks = list(f.keys())\n",
    "pred = f[ks[0]]\n",
    "pred_cis = pred[1, :, :, :]\n",
    "pred_cis = np.squeeze(pred_cis)\n",
    "mask_cis = pred_cis > 0.32"
   ]
  },
  {
   "cell_type": "code",
   "execution_count": null,
   "metadata": {},
   "outputs": [],
   "source": [
    "viewer = napari.Viewer(ndisplay=3)\n",
    "viewer.add_image(image_fg)\n",
    "viewer.add_image(image_bg)\n",
    "viewer.add_labels(mask_s3)\n",
    "viewer.add_labels(mask)\n",
    "viewer.add_image(image_fg_cis)\n",
    "viewer.add_image(image_bg_cis)\n",
    "viewer.add_labels(mask_cis)\n",
    "napari.run()"
   ]
  },
  {
   "cell_type": "code",
   "execution_count": null,
   "metadata": {},
   "outputs": [],
   "source": [
    "fname = \"/Users/thomasathey/Documents/mimlab/mouselight/ailey/image_0.h5\"\n",
    "\n",
    "subprocess.run(\n",
    "    [\n",
    "        \"/Applications/ilastik-1.3.3post3-OSX.app/Contents/ilastik-release/run_ilastik.sh\",\n",
    "        \"--headless\",\n",
    "        \"--project=/Users/thomasathey/Documents/mimlab/mouselight/ailey/benchmark_formal/matt_benchmark_formal.ilp\",\n",
    "        fname,\n",
    "    ],\n",
    "    stdout=subprocess.PIPE,\n",
    "    stderr=subprocess.PIPE,\n",
    ")"
   ]
  },
  {
   "cell_type": "markdown",
   "metadata": {},
   "source": [
    "# Brain 3"
   ]
  },
  {
   "cell_type": "code",
   "execution_count": null,
   "metadata": {},
   "outputs": [],
   "source": [
    "dir = \"precomputed://https://dlab-colm.neurodata.io/2021_07_01_Sert_Cre_B/Ch_647\"\n",
    "mip = 0\n",
    "vol_fg = CloudVolume(dir, parallel=1, mip=mip, fill_missing=True)\n",
    "\n",
    "dir = \"precomputed://https://dlab-colm.neurodata.io/2021_07_01_Sert_Cre_B/Ch_561\"\n",
    "vol_bg = CloudVolume(dir, parallel=1, mip=mip, fill_missing=True)\n",
    "\n",
    "dir = \"precomputed://https://dlab-colm.neurodata.io/2021_07_01_Sert_Cre_B/Ch_488\"\n",
    "vol_endo = CloudVolume(dir, parallel=1, mip=0, fill_missing=True)\n",
    "print(vol_endo.shape)\n",
    "\n",
    "dir = \"precomputed://https://dlab-colm.neurodata.io/2021_07_01_Sert_Cre_B/axon_mask\"\n",
    "vol_mask = CloudVolume(dir, parallel=1, mip=0, fill_missing=False)\n",
    "\n",
    "dir = (\n",
    "    \"precomputed://https://dlab-colm.neurodata.io/2021_07_01_Sert_Cre_B/atlas_to_target\"\n",
    ")\n",
    "vol_reg = CloudVolume(dir, parallel=1, mip=mip, fill_missing=True)\n",
    "\n",
    "centers_train = [\n",
    "    [3007, 4546, 2697],\n",
    "    [4466, 4467, 2697],\n",
    "    [2670, 606, 2700],\n",
    "    [1135, 751, 2700],\n",
    "    [2354, 793, 1686],\n",
    "    [327, 3241, 1686],\n",
    "    [3961, 5206, 1686],\n",
    "    [2852, 5223, 1686],\n",
    "    [3574, 5145, 3261],\n",
    "    [3566, 1245, 1399],\n",
    "    [836, 2652, 1399],\n",
    "    [2232, 6470, 1399],\n",
    "    [2274, 3788, 2248],\n",
    "    [2286, 1678, 2248],\n",
    "    [4215, 1992, 2248],\n",
    "    [2974, 2556, 2711],\n",
    "    [2133, 2004, 2711],\n",
    "    [3942, 5743, 2711],\n",
    "    [2600, 5259, 485],\n",
    "    [3090, 3676, 485],\n",
    "    [1341, 5648, 2227],\n",
    "    [1013, 4294, 2227],\n",
    "    [3341, 3992, 2227],\n",
    "    [1772, 5628, 3011],\n",
    "    [1039, 5685, 1038],\n",
    "    [2170, 3928, 1861],\n",
    "    [3040, 3047, 1861],\n",
    "]\n",
    "centers_val = [\n",
    "    [2639, 513, 2432],\n",
    "    [4592, 4209, 2432],\n",
    "    [4234, 4105, 3331],\n",
    "    [2067, 4007, 1683],\n",
    "    [4764, 2569, 1683],\n",
    "    [2579, 2759, 583],\n",
    "    [3244, 3921, 575],\n",
    "    [2298, 1555, 575],\n",
    "    [3081, 4587, 2971],\n",
    "    [3402, 6232, 2697],\n",
    "    [4426, 4334, 1038],\n",
    "    [857, 2867, 1038],\n",
    "    [1665, 5523, 2391],\n",
    "    [2027, 4258, 1861],\n",
    "]"
   ]
  },
  {
   "cell_type": "markdown",
   "metadata": {},
   "source": [
    "## Download 3 channel data"
   ]
  },
  {
   "cell_type": "code",
   "execution_count": null,
   "metadata": {},
   "outputs": [],
   "source": [
    "brain = 4\n",
    "\n",
    "# download data\n",
    "for i, center in enumerate(centers_val):\n",
    "    if i < 0:\n",
    "        continue\n",
    "    image_fg = vol_fg[\n",
    "        center[0] - 49 : center[0] + 50,\n",
    "        center[1] - 49 : center[1] + 50,\n",
    "        center[2] - 49 : center[2] + 50,\n",
    "    ]\n",
    "    image_fg = image_fg[:, :, :, 0]\n",
    "\n",
    "    image_bg = vol_bg[\n",
    "        center[0] - 49 : center[0] + 50,\n",
    "        center[1] - 49 : center[1] + 50,\n",
    "        center[2] - 49 : center[2] + 50,\n",
    "    ]\n",
    "    image_bg = image_bg[:, :, :, 0]\n",
    "\n",
    "    image_endo = vol_endo[\n",
    "        center[0] - 49 : center[0] + 50,\n",
    "        center[1] - 49 : center[1] + 50,\n",
    "        center[2] - 49 : center[2] + 50,\n",
    "    ]\n",
    "    image_endo = image_endo[:, :, :, 0]\n",
    "\n",
    "    image_3channel = np.stack([image_bg, image_fg, image_endo], axis=0)\n",
    "\n",
    "    fname = (\n",
    "        \"/Users/thomasathey/Documents/mimlab/mouselight/ailey/benchmark_formal/brain\"\n",
    "        + str(brain)\n",
    "        + \"/val_\"\n",
    "        + str(i)\n",
    "        + \".h5\"\n",
    "    )\n",
    "    with h5py.File(fname, \"w\") as f:\n",
    "        dset = f.create_dataset(\"image_3channel\", data=image_2channel)"
   ]
  },
  {
   "cell_type": "markdown",
   "metadata": {},
   "source": [
    "## View 3 channel data"
   ]
  },
  {
   "cell_type": "code",
   "execution_count": null,
   "metadata": {},
   "outputs": [],
   "source": [
    "# view volumes\n",
    "brain = 4\n",
    "i = 0\n",
    "set = \"val\"\n",
    "\n",
    "fname = (\n",
    "    \"/Users/thomasathey/Documents/mimlab/mouselight/ailey/benchmark_formal/brain\"\n",
    "    + str(brain)\n",
    "    + \"/\"\n",
    "    + set\n",
    "    + \"_\"\n",
    "    + str(i)\n",
    "    + \".h5\"\n",
    ")\n",
    "with h5py.File(fname, \"r\") as f:\n",
    "    ks = list(f.keys())\n",
    "    im = f[ks[0]]\n",
    "    image_bg = im[0, :, :, :]\n",
    "    image_fg = im[1, :, :, :]\n",
    "    image_endo = im[2, :, :, :]\n",
    "    print(im.shape)\n",
    "\n",
    "viewer = napari.Viewer(ndisplay=3)\n",
    "animation_widget = AnimationWidget(viewer)\n",
    "viewer.window.add_dock_widget(animation_widget, area=\"right\")\n",
    "viewer.add_image(image_bg)\n",
    "viewer.add_image(image_endo)\n",
    "viewer.add_image(image_fg)\n",
    "napari.run()"
   ]
  },
  {
   "cell_type": "code",
   "execution_count": null,
   "metadata": {},
   "outputs": [],
   "source": [
    "fname = \"/Users/thomasathey/Documents/mimlab/mouselight/ailey/image_0.h5\"\n",
    "with h5py.File(fname, \"r\") as f:\n",
    "    ks = list(f.keys())\n",
    "    im = f[ks[0]]\n",
    "    image_bg = im[0, :, :, :, 0]\n",
    "    image_fg = im[1, :, :, :, 0]\n",
    "    image_endo = im[2, :, :, :, 0]\n",
    "    print(im.shape)\n",
    "\n",
    "fname = \"/Users/thomasathey/Documents/mimlab/mouselight/ailey/image_0_Probabilities.h5\"\n",
    "with h5py.File(fname, \"r\") as f:\n",
    "    ks = list(f.keys())\n",
    "    im = f[ks[0]]\n",
    "    probs = im[1, :, :, :, 0]\n",
    "    print(im.shape)\n",
    "\n",
    "viewer = napari.Viewer(ndisplay=3)\n",
    "viewer.add_image(image_bg)\n",
    "viewer.add_image(image_endo)\n",
    "viewer.add_image(image_fg)\n",
    "viewer.add_image(probs)\n",
    "napari.run()"
   ]
  },
  {
   "cell_type": "markdown",
   "metadata": {},
   "source": [
    "## Compute precision recall"
   ]
  },
  {
   "cell_type": "code",
   "execution_count": null,
   "metadata": {},
   "outputs": [],
   "source": [
    "brain = 4\n",
    "\n",
    "true_pos_total = 0\n",
    "false_pos_total = 0\n",
    "true_labels_total = 0\n",
    "thresholds = np.arange(0.1, 1.0, 0.02)\n",
    "precisions = []\n",
    "recalls = []\n",
    "best_fscore = 0\n",
    "\n",
    "for threshold in thresholds:\n",
    "    for i in range(7):\n",
    "        fname = (\n",
    "            \"/Users/thomasathey/Documents/mimlab/mouselight/ailey/benchmark_formal/brain\"\n",
    "            + str(brain)\n",
    "            + \"/val_\"\n",
    "            + str(i)\n",
    "            + \".h5\"\n",
    "        )\n",
    "        f = h5py.File(fname, \"r\")\n",
    "        im = f.get(\"image_2channel\")\n",
    "        im_bg = im[0, :, :, :]\n",
    "        im_fg = im[1, :, :, :]\n",
    "\n",
    "        fname = (\n",
    "            \"/Users/thomasathey/Documents/mimlab/mouselight/ailey/benchmark_formal/brain\"\n",
    "            + str(brain)\n",
    "            + \"/val_\"\n",
    "            + str(i)\n",
    "            + \"-image_2channel_Labels.h5\"\n",
    "        )\n",
    "        f = h5py.File(fname, \"r\")\n",
    "        gt = f.get(\"exported_data\")\n",
    "        gt = gt[0, :, :, :]\n",
    "        pos_labels = gt == 2\n",
    "        num_pos_labels = np.sum(pos_labels)\n",
    "\n",
    "        fname = (\n",
    "            \"/Users/thomasathey/Documents/mimlab/mouselight/ailey/benchmark_formal/brain\"\n",
    "            + str(brain)\n",
    "            + \"/val_\"\n",
    "            + str(i)\n",
    "            + \"_Probabilities.h5\"\n",
    "        )\n",
    "        f = h5py.File(fname, \"r\")\n",
    "        seg = f.get(\"exported_data\")\n",
    "        seg = seg[1, :, :, :]\n",
    "        mask = seg > threshold\n",
    "\n",
    "        true_pos = np.sum(np.logical_and(mask, pos_labels))\n",
    "        true_pos_total += true_pos\n",
    "        false_pos = np.sum(np.logical_and(mask, gt == 1))\n",
    "        false_pos_total += false_pos\n",
    "        true_labels = np.sum(pos_labels)\n",
    "        true_labels_total += true_labels\n",
    "\n",
    "        if num_pos_labels > 0:\n",
    "            precision = true_pos / (true_pos + false_pos)\n",
    "            recall = true_pos / true_labels\n",
    "            # print(f\"Example {i}: precision: {precision}, recall: {recall}\")\n",
    "        else:\n",
    "            # print(f\"Example {i}: 0 positive labels, false positive rate is: {false_pos/np.sum(gt == 1)}\")\n",
    "            pass\n",
    "\n",
    "        \"\"\"\n",
    "        viewer = napari.Viewer(ndisplay=3)\n",
    "        viewer.add_image(im_bg)\n",
    "        viewer.add_image(im_fg)\n",
    "        viewer.add_labels(gt)\n",
    "        viewer.add_labels(mask)\n",
    "        napari.run()\n",
    "        \"\"\"\n",
    "\n",
    "    precision_total = true_pos_total / (true_pos_total + false_pos_total)\n",
    "    recall_total = true_pos_total / true_labels_total\n",
    "    fscore = 2 / (1 / precision_total + 1 / recall_total)\n",
    "    print(\n",
    "        f\"Threshold: {threshold} ----- Total precision: {precision_total} total recall: {recall_total} with {true_labels_total} total positive voxels. F-score: {fscore}\"\n",
    "    )\n",
    "    if fscore > best_fscore:\n",
    "        best_fscore = fscore\n",
    "        best_prec = precision_total\n",
    "        best_recall = recall_total\n",
    "    precisions.append(precision_total)\n",
    "    recalls.append(recall_total)\n",
    "\n",
    "\n",
    "plt.plot(recalls, precisions, label=\"Prec-Rec Curve\")\n",
    "plt.scatter([best_recall], [best_prec], c=\"red\", label=f\"Best F-score: {best_fscore}\")\n",
    "plt.ylabel(\"Precision\")\n",
    "plt.xlabel(\"Recall\")\n",
    "plt.title(f\"Validation Performance Brain \" + str(brain))\n",
    "plt.legend()"
   ]
  },
  {
   "cell_type": "markdown",
   "metadata": {},
   "source": [
    "## Downsample"
   ]
  },
  {
   "cell_type": "code",
   "execution_count": null,
   "metadata": {},
   "outputs": [],
   "source": [
    "# downsample axon mask layer with igneous (this is only partial code, see igneous github for other code snippets)\n",
    "\n",
    "layer_path = \"s3://smartspim-precomputed-volumes/2021_07_15_Sert_Cre_R/axon_mask\"\n",
    "\n",
    "tasks = tc.create_downsampling_tasks(\n",
    "    layer_path,  # e.g. 'gs://bucket/dataset/layer'\n",
    "    mip=0,  # Start downsampling from this mip level (writes to next level up)\n",
    "    fill_missing=True,  # Ignore missing chunks and fill them with black\n",
    "    axis=\"z\",\n",
    "    num_mips=5,  # number of downsamples to produce. Downloaded shape is chunk_size * 2^num_mip\n",
    "    chunk_size=None,  # manually set chunk size of next scales, overrides preserve_chunk_size\n",
    "    preserve_chunk_size=True,  # use existing chunk size, don't halve to get more downsamples\n",
    "    sparse=False,  # for sparse segmentation, allow inflation of pixels against background\n",
    "    bounds=None,  # mip 0 bounding box to downsample\n",
    "    encoding=None,  # e.g. 'raw', 'compressed_segmentation', etc\n",
    "    delete_black_uploads=False,  # issue a delete instead of uploading files containing all background\n",
    "    background_color=0,  # Designates the background color\n",
    "    compress=\"gzip\",  # None, 'gzip', and 'br' (brotli) are options\n",
    "    factor=(2, 2, 2),  # common options are (2,2,1) and (2,2,2)\n",
    ")"
   ]
  },
  {
   "cell_type": "code",
   "execution_count": null,
   "metadata": {},
   "outputs": [],
   "source": [
    "# download higher mip\n",
    "\n",
    "dir = \"precomputed://https://dlab-colm.neurodata.io/2021_07_15_Sert_Cre_R/axon_mask\"\n",
    "vol_mask_ds = CloudVolume(dir, parallel=1, mip=1, fill_missing=False)\n",
    "print(vol_mask_ds.shape)\n",
    "\n",
    "data = vol_mask_ds[:, :, 0, 0]\n",
    "data = data.astype(\"int8\")\n",
    "print(data.nbytes)\n",
    "# print(np.unique(data))\n",
    "data = data[:, :, :, 0]\n",
    "data = np.swapaxes(data, 0, 2)  # must do this\n",
    "print(data.shape)\n",
    "\n",
    "io.imsave(\n",
    "    \"/Users/thomasathey/Documents/mimlab/mouselight/ailey/wholebrain_results/brain4/register/axon_mask_.tif\",\n",
    "    data,\n",
    ")"
   ]
  },
  {
   "cell_type": "markdown",
   "metadata": {},
   "source": [
    "## Registration"
   ]
  },
  {
   "cell_type": "code",
   "execution_count": null,
   "metadata": {},
   "outputs": [],
   "source": [
    "# downsample\n",
    "im_path = \"/Users/thomasathey/Documents/mimlab/mouselight/ailey/wholebrain_results/brain4/register/registered_2.img\"\n",
    "im = io.imread(im_path)\n",
    "print(im.shape)\n",
    "print(np.unique(im))\n",
    "\n",
    "im = im.astype(\"float\")\n",
    "\n",
    "im_ds = ndi.zoom(im, (0.4, 0.4, 0.4))\n",
    "print(im_ds.shape)\n",
    "print(np.unique(im_ds))\n",
    "\n",
    "np.save(\n",
    "    \"/Users/thomasathey/Documents/mimlab/mouselight/ailey/wholebrain_results/brain4/register/registered_3_ds.npy\",\n",
    "    im_ds,\n",
    ")"
   ]
  },
  {
   "cell_type": "code",
   "execution_count": null,
   "metadata": {},
   "outputs": [],
   "source": [
    "im_path = \"/Users/thomasathey/Documents/mimlab/mouselight/ailey/wholebrain_results/brain4/register/axon_mask_1_0.tif\"\n",
    "im = io.imread(im_path)\n",
    "print(im.shape)\n",
    "print(np.sum(im))"
   ]
  },
  {
   "cell_type": "code",
   "execution_count": 2,
   "metadata": {},
   "outputs": [
    {
     "name": "stderr",
     "output_type": "stream",
     "text": [
      "WARNING: In /Users/runner/work/1/sitk-build/ITK/Modules/IO/NIFTI/src/itkNiftiImageIO.cxx, line 1009\n",
      "NiftiImageIO (0x7fedc55233a0): /Users/thomasathey/Documents/mimlab/mouselight/ailey/wholebrain_results/brain3/register/registered_1.img is Analyze file and it's deprecated \n",
      "\n",
      "WARNING: In /Users/runner/work/1/sitk-build/ITK/Modules/IO/NIFTI/src/itkNiftiImageIO.cxx, line 1009\n",
      "NiftiImageIO (0x7fedc55233a0): /Users/thomasathey/Documents/mimlab/mouselight/ailey/wholebrain_results/brain3/register/registered_1.img is Analyze file and it's deprecated \n",
      "\n"
     ]
    },
    {
     "name": "stdout",
     "output_type": "stream",
     "text": [
      "(1140, 800, 1320)\n",
      "5395603739\n",
      "(1140, 800, 1320)\n"
     ]
    }
   ],
   "source": [
    "brain = \"brain3\"\n",
    "\n",
    "# im_path = \"/Users/thomasathey/Documents/mimlab/mouselight/ailey/wholebrain_results/brain3/register/registered_3_ds.npy\"\n",
    "# im = np.load(im_path)\n",
    "# print(im.shape)\n",
    "\n",
    "# im_path = \"/Users/thomasathey/Documents/mimlab/mouselight/ailey/wholebrain_results/brain3/register/axon_mask_3.tif\"\n",
    "# im_unreg = io.imread(im_path)\n",
    "# print(im_unreg.shape)\n",
    "\n",
    "\n",
    "im_path = (\n",
    "    \"/Users/thomasathey/Documents/mimlab/mouselight/ailey/wholebrain_results/\"\n",
    "    + brain\n",
    "    + \"/register/registered_1.img\"\n",
    ")\n",
    "im_reg2 = io.imread(im_path)\n",
    "print(im_reg2.shape)\n",
    "\n",
    "# im_path = \"/Users/thomasathey/Documents/mimlab/mouselight/ailey/wholebrain_results/\" + brain + \"/register/registered_3.img\"\n",
    "# im_reg3 = io.imread(im_path)\n",
    "# print(im_reg3.shape)\n",
    "\n",
    "# vol = CloudVolume(\n",
    "#     \"s3://open-neurodata/ara_2016/sagittal_10um/annotation_10um_2017\", mip=0, use_https=True\n",
    "# )\n",
    "# print(vol.shape)\n",
    "# atlas = vol[:,:,:,:]\n",
    "# atlas = np.squeeze(atlas).T\n",
    "# print(atlas.shape)\n",
    "# len(np.unique(atlas))\n",
    "\n",
    "im_path = \"/Users/thomasathey/Documents/mimlab/mouselight/ailey/wholebrain_results/ara_10um.tif\"\n",
    "atlas = io.imread(im_path)\n",
    "print(atlas.shape)"
   ]
  },
  {
   "cell_type": "code",
   "execution_count": 3,
   "metadata": {},
   "outputs": [],
   "source": [
    "smooth = ndi.gaussian_filter(im_reg2.astype(\"float\"), sigma=3)\n",
    "# smooth = ndi.zoom(smooth, (0.4,0.4,0.4))"
   ]
  },
  {
   "cell_type": "code",
   "execution_count": 5,
   "metadata": {},
   "outputs": [],
   "source": [
    "viewer = napari.Viewer(ndisplay=3)\n",
    "animation_widget = AnimationWidget(viewer)\n",
    "viewer.window.add_dock_widget(animation_widget, area=\"right\")\n",
    "# viewer.add_image(im)\n",
    "viewer.add_image(smooth)\n",
    "# viewer.add_image(im_reg2)\n",
    "# viewer.add_image(im_reg3)\n",
    "viewer.add_labels(atlas)\n",
    "napari.run()"
   ]
  },
  {
   "cell_type": "code",
   "execution_count": 4,
   "metadata": {},
   "outputs": [
    {
     "name": "stdout",
     "output_type": "stream",
     "text": [
      "[0.00000000e+00 7.99058169e-13 1.68690058e-12 ... 7.04095064e+01\n",
      " 7.05842715e+01 7.06861963e+01]\n",
      "[0 1]\n"
     ]
    },
    {
     "name": "stderr",
     "output_type": "stream",
     "text": [
      "Clipping input data to the valid range for imshow with RGB data ([0..1] for floats or [0..255] for integers).\n"
     ]
    },
    {
     "name": "stdout",
     "output_type": "stream",
     "text": [
      "[0.00000000e+00 7.99058169e-13 1.68690058e-12 ... 7.13040641e+01\n",
      " 7.13115579e+01 7.13415093e+01]\n",
      "[0 1]\n"
     ]
    },
    {
     "name": "stderr",
     "output_type": "stream",
     "text": [
      "Clipping input data to the valid range for imshow with RGB data ([0..1] for floats or [0..255] for integers).\n"
     ]
    },
    {
     "name": "stdout",
     "output_type": "stream",
     "text": [
      "[0.00000000e+00 7.99058169e-13 1.68690058e-12 ... 1.16927411e+02\n",
      " 1.17153774e+02 1.18257114e+02]\n",
      "[0 1]\n"
     ]
    },
    {
     "name": "stderr",
     "output_type": "stream",
     "text": [
      "Clipping input data to the valid range for imshow with RGB data ([0..1] for floats or [0..255] for integers).\n"
     ]
    },
    {
     "name": "stdout",
     "output_type": "stream",
     "text": [
      "[0.00000000e+00 7.99058169e-13 1.68690058e-12 ... 1.11676010e+02\n",
      " 1.12086011e+02 1.12472072e+02]\n",
      "[0 1]\n"
     ]
    },
    {
     "name": "stderr",
     "output_type": "stream",
     "text": [
      "Clipping input data to the valid range for imshow with RGB data ([0..1] for floats or [0..255] for integers).\n"
     ]
    },
    {
     "name": "stdout",
     "output_type": "stream",
     "text": [
      "[0.00000000e+00 7.99058169e-13 1.68690058e-12 ... 7.44036185e+01\n",
      " 7.45108138e+01 7.46093741e+01]\n",
      "[0 1]\n"
     ]
    },
    {
     "name": "stderr",
     "output_type": "stream",
     "text": [
      "Clipping input data to the valid range for imshow with RGB data ([0..1] for floats or [0..255] for integers).\n"
     ]
    },
    {
     "data": {
      "image/png": "[encoded data removed]"
     },
     "metadata": {
      "needs_background": "light"
     },
     "output_type": "display_data"
    }
   ],
   "source": [
    "for z in [180, 430, 680, 1030, 1280]:\n",
    "\n",
    "    slice = atlas[:, :, z]\n",
    "    slice_data = smooth[:, :, z]  # np.sum(im_reg[:,:,z], axis=2)\n",
    "    mn = np.amin(slice_data)\n",
    "    print(np.unique(slice_data))\n",
    "    slice_data[slice == 0] = mn\n",
    "    labels = measure.label(slice)\n",
    "    # plt.imshow(labels)\n",
    "\n",
    "    borders = 0 * labels\n",
    "    for label in np.unique(labels):\n",
    "        if label != 0:\n",
    "            mask = np.array(labels == label, dtype=\"int\")\n",
    "            erode = np.array(ndi.binary_erosion(mask))\n",
    "            outline = mask - erode\n",
    "            borders += outline\n",
    "\n",
    "    print(np.unique(borders))\n",
    "    borders = borders.astype(\"float\")\n",
    "    borders_layer = np.zeros((borders.shape[0], borders.shape[1], 4))\n",
    "    for rgba in range(borders_layer.shape[2]):\n",
    "        borders_layer[:, :, rgba] = borders\n",
    "\n",
    "    slice_data = ndi.rotate(slice_data, 270)\n",
    "    plt.imshow(slice_data, cmap=\"inferno\")\n",
    "    borders_layer = ndi.rotate(borders_layer, 270)\n",
    "    plt.imshow(borders_layer, cmap=\"gray\")\n",
    "\n",
    "    fig = plt.gcf()\n",
    "    fig.set_size_inches(18.5, 10.5)\n",
    "    fig.savefig(\"/Users/thomasathey/Desktop/\" + str(z) + \".png\", dpi=100)"
   ]
  },
  {
   "cell_type": "markdown",
   "metadata": {},
   "source": [
    "## Atlas readout"
   ]
  },
  {
   "cell_type": "code",
   "execution_count": null,
   "metadata": {},
   "outputs": [],
   "source": [
    "volumes = {}\n",
    "for x in tqdm(np.arange(0, vol_mask.shape[0], 128)):\n",
    "    x2 = np.amin([x + 128, vol_mask.shape[0]])\n",
    "    for y in tqdm(np.arange(0, vol_mask.shape[1], 128), leave=False):\n",
    "        y2 = np.amin([x + 128, vol_mask.shape[1]])\n",
    "        for z in tqdm(np.arange(0, vol_mask.shape[2], 128), leave=False):\n",
    "            z2 = np.amin([x + 128, vol_mask.shape[2]])\n",
    "            labels = vol_reg[x:x2, y:y2, z:z2]\n",
    "            labels_unique = np.unique(labels)\n",
    "            mask = vol_mask[x:x2, y:y2, z:z2]\n",
    "\n",
    "            for unq in labels_unique:\n",
    "                if unq in volumes.keys():\n",
    "                    cur_vol = volumes[unq][1]\n",
    "                    cur_total = volumes[unq][0]\n",
    "                else:\n",
    "                    cur_vol = 0\n",
    "                    cur_total = 0\n",
    "                cur_vol += np.sum(mask[labels == unq])\n",
    "                cur_total += np.sum(labels == unq)\n",
    "                volumes[unq] = [cur_total, cur_vol]"
   ]
  },
  {
   "cell_type": "markdown",
   "metadata": {},
   "source": [
    "## Read quantification dictionary"
   ]
  },
  {
   "cell_type": "code",
   "execution_count": 4,
   "metadata": {},
   "outputs": [],
   "source": [
    "path = \"/Users/thomasathey/Documents/mimlab/mouselight/ailey/benchmark_formal/brain3/quantification.pkl\"\n",
    "with open(path, \"rb\") as f:\n",
    "    quantification_dict = pickle.load(f)"
   ]
  },
  {
   "cell_type": "code",
   "execution_count": null,
   "metadata": {},
   "outputs": [],
   "source": [
    "f = json.load(open(\"ara_structure_ontology.json\", \"r\"))\n",
    "\n",
    "tree = build_tree(f)\n",
    "stack = [tree]\n",
    "dfs_node_list = []  # node ids ordered by dfs\n",
    "reg_to_name = {}  # map from id to name\n",
    "\n",
    "while len(stack) > 0:\n",
    "    node = stack.pop()\n",
    "\n",
    "    if node.id in quantification_dict.keys():\n",
    "        reg_to_name[node.id] = node.name\n",
    "        dfs_node_list.append(node.id)\n",
    "\n",
    "    if len(node.children) > 0:\n",
    "        stack[0:0] = node.children\n",
    "\n",
    "quantification_dict_ordered = {}\n",
    "for id in dfs_node_list:\n",
    "    if id not in quantification_dict.keys():\n",
    "        continue\n",
    "    try:\n",
    "        roi_name = reg_to_name[id]\n",
    "    except:\n",
    "        roi_name = \"Missing Name #\" + str(id)\n",
    "    quantification_dict_ordered[roi_name] = quantification_dict[id]\n",
    "\n",
    "for vol_key in quantification_dict.keys():\n",
    "    if vol_key not in reg_to_name.keys():\n",
    "        roi_name = \"Unknown Name #\" + str(vol_key)\n",
    "        quantification_dict_ordered[roi_name] = quantification_dict[id]"
   ]
  },
  {
   "cell_type": "code",
   "execution_count": null,
   "metadata": {},
   "outputs": [],
   "source": [
    "queue = [tree]\n",
    "cur_level = -1\n",
    "counter = 0\n",
    "G = nx.DiGraph()\n",
    "max_level = 0\n",
    "\n",
    "while len(queue) > 0:\n",
    "    node = queue.pop(0)\n",
    "    if node.level > max_level:\n",
    "        max_level = node.level\n",
    "    G.add_node(\n",
    "        node.id,\n",
    "        level=node.level,\n",
    "        st_level=node.st_level,\n",
    "        name=node.name,\n",
    "        acronym=node.acronym,\n",
    "        axon_vol=0,\n",
    "        total_vol=0,\n",
    "    )\n",
    "    if node.parent_id is not None:\n",
    "        G.add_edge(node.parent_id, node.id)\n",
    "\n",
    "    queue += node.children\n",
    "\n",
    "print(f\"Max level: {max_level}\")\n",
    "print(G.nodes[997][\"total_vol\"])\n",
    "for key in quantification_dict.keys():\n",
    "    if key in G.nodes:\n",
    "        G.nodes[key][\"axon_vol\"] = (\n",
    "            G.nodes[key][\"axon_vol\"] + quantification_dict[key][0]\n",
    "        )\n",
    "        G.nodes[key][\"total_vol\"] = (\n",
    "            G.nodes[key][\"total_vol\"] + quantification_dict[key][1]\n",
    "        )\n",
    "print(G.nodes[997][\"total_vol\"])\n",
    "\n",
    "for i in range(max_level):\n",
    "    for node in G.nodes:\n",
    "        if G.nodes[node][\"level\"] == max_level - i:\n",
    "            parent = list(G.in_edges(node))[0][0]\n",
    "            G.nodes[parent][\"axon_vol\"] = (\n",
    "                G.nodes[parent][\"axon_vol\"] + G.nodes[node][\"axon_vol\"]\n",
    "            )\n",
    "            G.nodes[parent][\"total_vol\"] = (\n",
    "                G.nodes[parent][\"total_vol\"] + G.nodes[node][\"total_vol\"]\n",
    "            )\n",
    "print(G.nodes[997][\"total_vol\"])"
   ]
  },
  {
   "cell_type": "code",
   "execution_count": null,
   "metadata": {},
   "outputs": [],
   "source": [
    "acros = []\n",
    "densities = []\n",
    "volumes = []\n",
    "\n",
    "for node in G.nodes:\n",
    "    if G.nodes[node][\"st_level\"] == 6 and G.nodes[node][\"total_vol\"] > 0:\n",
    "        acros.append(G.nodes[node][\"acronym\"])\n",
    "        volumes.append(G.nodes[node][\"axon_vol\"])\n",
    "        densities.append(G.nodes[node][\"axon_vol\"] / G.nodes[node][\"total_vol\"])\n",
    "\n",
    "volumes = np.multiply(volumes, 6.7 / (1000**3))\n",
    "ax = plt.subplot(211)\n",
    "ax.bar(acros, volumes)\n",
    "ax.set_ylabel(\"Axon Volume $mm^3$\")\n",
    "ax.set_xlabel(\"ARA region\")\n",
    "plt.xticks(rotation=45)\n",
    "ax = plt.subplot(212)\n",
    "ax.bar(acros, densities)\n",
    "ax.set_ylabel(\"Axon Density\")\n",
    "ax.set_xlabel(\"ARA region\")\n",
    "plt.xticks(rotation=45)\n",
    "plt.tight_layout()\n",
    "fig = plt.gcf()\n",
    "fig.set_size_inches(15, 7)\n",
    "plt.show()"
   ]
  },
  {
   "cell_type": "code",
   "execution_count": null,
   "metadata": {},
   "outputs": [],
   "source": [
    "thresh = 8 * 10**6\n",
    "\n",
    "keys = []\n",
    "values = []\n",
    "\n",
    "for node in G.nodes:\n",
    "    total_vol = G.nodes[node][\"total_vol\"]\n",
    "    if not total_vol > 0:\n",
    "        continue\n",
    "\n",
    "    for in_node in G.predecessors(node):\n",
    "        if G.nodes[in_node][\"total_vol\"] < thresh:\n",
    "            big_parent = False\n",
    "        else:\n",
    "            big_parent = True\n",
    "\n",
    "    small_children = True\n",
    "    for out_node in G.successors(node):\n",
    "        if G.nodes[out_node][\"total_vol\"] > thresh:\n",
    "            small_children = False\n",
    "\n",
    "    if small_children and big_parent:\n",
    "        name = G.nodes[node][\"name\"]\n",
    "        axon_vol = G.nodes[node][\"axon_vol\"]\n",
    "        keys.append(name)\n",
    "        values.append(axon_vol / total_vol)\n",
    "\n",
    "\n",
    "fig, ax = plt.subplots(figsize=(2, 10))\n",
    "df = pd.DataFrame({\"Fraction of Voxels Classified as Axon\": values}, index=keys)\n",
    "idxs = np.argsort(values)\n",
    "labels = [\"\" for i in values]\n",
    "for i in range(np.amin([7, len(values)])):\n",
    "    labels[idxs[-i]] = keys[idxs[-i]]\n",
    "plot = sns.heatmap(\n",
    "    ax=ax, data=df, fmt=\"g\", cmap=\"viridis\", annot_kws={\"size\": 50}, yticklabels=labels\n",
    ")\n",
    "# plot.set_xticklabels(plot.get_xmajorticklabels(), fontsize = 18)\n",
    "# plot.set_yticklabels(plot.get_ymajorticklabels(), fontsize = 18, rotation=45)\n",
    "plt.title(f\"{len(keys)} largest ROIs with Volume < {thresh:.2e} um^3\")\n",
    "plt.show()"
   ]
  },
  {
   "cell_type": "markdown",
   "metadata": {},
   "source": [
    "# Brain 4"
   ]
  },
  {
   "cell_type": "code",
   "execution_count": null,
   "metadata": {},
   "outputs": [],
   "source": [
    "dir = \"precomputed://https://dlab-colm.neurodata.io/2021_07_15_Sert_Cre_R/Ch_647\"\n",
    "mip = 0\n",
    "vol_fg = CloudVolume(dir, parallel=1, mip=mip, fill_missing=True)\n",
    "\n",
    "dir = \"precomputed://https://dlab-colm.neurodata.io/2021_07_15_Sert_Cre_R/Ch_561\"\n",
    "vol_bg = CloudVolume(dir, parallel=1, mip=mip, fill_missing=True)\n",
    "\n",
    "dir = \"precomputed://https://dlab-colm.neurodata.io/2021_07_15_Sert_Cre_R/Ch_488\"\n",
    "vol_endo = CloudVolume(dir, parallel=1, mip=mip, fill_missing=True)\n",
    "print(vol_endo.shape)\n",
    "\n",
    "\n",
    "dir_mask = \"s3://smartspim-precomputed-volumes/2021_07_01_Sert_Cre_B/axon_mask\"\n",
    "vol_mask = CloudVolume(dir_mask, parallel=1, mip=mip, fill_missing=True)\n",
    "print(vol_endo.shape)\n",
    "\n",
    "# dir = \"precomputed://https://dlab-colm.neurodata.io/2021_07_01_Sert_Cre_B/axon_mask\"\n",
    "# vol_mask = CloudVolume(dir, parallel=1, mip=mip, fill_missing=True)\n",
    "\n",
    "# dir = \"precomputed://https://dlab-colm.neurodata.io/2021_07_01_Sert_Cre_B/atlas_to_target\"\n",
    "# vol_reg = CloudVolume(dir, parallel=1, mip=mip, fill_missing=True)\n",
    "\n",
    "centers_train = []\n",
    "centers_val = [\n",
    "    [4781, 3581, 1861],\n",
    "    [2982, 482, 1841],\n",
    "    [2258, 6504, 1392],\n",
    "    [2884, 2434, 1392],\n",
    "    [1659, 4108, 1392],\n",
    "    [3457, 5082, 1392],\n",
    "    [2850, 5163, 3116],\n",
    "]"
   ]
  },
  {
   "cell_type": "markdown",
   "metadata": {},
   "source": [
    "# Old"
   ]
  },
  {
   "cell_type": "markdown",
   "metadata": {},
   "source": [
    "### Read swcs"
   ]
  },
  {
   "cell_type": "code",
   "execution_count": null,
   "metadata": {},
   "outputs": [],
   "source": [
    "from brainlit.utils.Neuron_trace import NeuronTrace\n",
    "from pathlib import Path\n",
    "from scipy.ndimage import distance_transform_edt"
   ]
  },
  {
   "cell_type": "code",
   "execution_count": null,
   "metadata": {},
   "outputs": [],
   "source": [
    "swc_path = Path(\n",
    "    \"/Users/thomasathey/Documents/mimlab/mouselight/ailey/\" + part + \"_traces/\"\n",
    ")\n",
    "\n",
    "swc_files = list(swc_path.glob(\"**/*.swc\"))\n",
    "\n",
    "paths_total = []\n",
    "for swc_num, swc in enumerate(swc_files):\n",
    "\n",
    "    swc_trace = NeuronTrace(path=str(swc))\n",
    "    paths = swc_trace.get_paths()\n",
    "    offset_diff, _, _, _ = swc_trace.get_df_arguments()\n",
    "\n",
    "    for path_num, p in enumerate(paths):\n",
    "        paths_total.append(p)"
   ]
  },
  {
   "cell_type": "code",
   "execution_count": null,
   "metadata": {},
   "outputs": [],
   "source": [
    "swc_mask = 0 * mask\n",
    "for path in paths_total:\n",
    "    path = path.astype(int)\n",
    "    swc_mask[path[:, 0], path[:, 1], path[:, 2]] = 1\n",
    "\n",
    "edt = distance_transform_edt(swc_mask == 0)\n",
    "swc_mask[edt < 2] = 1"
   ]
  },
  {
   "cell_type": "code",
   "execution_count": null,
   "metadata": {},
   "outputs": [],
   "source": [
    "viewer = napari.Viewer(ndisplay=3)\n",
    "viewer.add_image(np.swapaxes(image, 0, 2))\n",
    "viewer.add_labels(np.swapaxes(mask, 0, 2))\n",
    "# viewer.add_labels(swc_mask)\n",
    "# viewer.add_shapes(data=paths_total, shape_type='path', edge_width=1.0, edge_color='blue', opacity=0.8)"
   ]
  },
  {
   "cell_type": "code",
   "execution_count": null,
   "metadata": {},
   "outputs": [],
   "source": [
    "tpr = np.sum(np.logical_and(swc_mask, np.swapaxes(mask, 0, 2))) / np.sum(swc_mask)\n",
    "fpr = np.sum(np.logical_and(swc_mask == 0, np.swapaxes(mask == 1, 0, 2))) / np.sum(\n",
    "    swc_mask == 0\n",
    ")\n",
    "print(f\"TPR: {tpr}, FPR: {fpr}\")"
   ]
  },
  {
   "cell_type": "markdown",
   "metadata": {},
   "source": [
    "# Make annotation layer"
   ]
  },
  {
   "cell_type": "markdown",
   "metadata": {},
   "source": [
    "Making new annotation layer\n",
    "-output data and x,y,z bounds"
   ]
  },
  {
   "cell_type": "code",
   "execution_count": null,
   "metadata": {},
   "outputs": [],
   "source": [
    "vol_bg.volume_size"
   ]
  },
  {
   "cell_type": "markdown",
   "metadata": {},
   "source": [
    "cannot write to https link, can write to s3 link"
   ]
  },
  {
   "cell_type": "code",
   "execution_count": null,
   "metadata": {},
   "outputs": [],
   "source": [
    "dir = \"s3://smartspim-precomputed-volumes/2021_07_15_Sert_Cre_R/axon_mask\"\n",
    "\n",
    "info = CloudVolume.create_new_info(\n",
    "    num_channels=1,\n",
    "    layer_type=\"segmentation\",\n",
    "    data_type=\"uint64\",  # Channel images might be 'uint8'\n",
    "    encoding=\"raw\",  # raw, jpeg, compressed_segmentation, fpzip, kempressed\n",
    "    resolution=vol_bg.resolution,  # Voxel scaling, units are in nanometers\n",
    "    voxel_offset=vol_bg.voxel_offset,  # x,y,z offset in voxels from the origin\n",
    "    # mesh            = 'mesh',\n",
    "    # Pick a convenient size for your underlying chunk representation\n",
    "    # Powers of two are recommended, doesn't need to cover image exactly\n",
    "    chunk_size=[128, 128, 2],  # units are voxels\n",
    "    volume_size=vol_bg.volume_size,  # e.g. a cubic millimeter dataset\n",
    ")\n",
    "vol_mask = CloudVolume(dir, info=info)\n",
    "vol_mask.commit_info()"
   ]
  },
  {
   "cell_type": "code",
   "execution_count": null,
   "metadata": {},
   "outputs": [],
   "source": [
    "vol_mask[1280:1408, 1280:1408, 1280:1408] = np.zeros([128, 128, 128], dtype=\"uint64\")"
   ]
  },
  {
   "cell_type": "code",
   "execution_count": null,
   "metadata": {},
   "outputs": [],
   "source": [
    "image_fg = vol_fg[2432:2560, 3584:3712, 2400:2440]\n",
    "image_bg = vol_bg[2432:2560, 3584:3712, 2400:2440]\n",
    "image_2channel = np.stack([image_bg, image_fg], axis=0)\n",
    "fname = (\n",
    "    \"/Users/thomasathey/Documents/mimlab/mouselight/ailey/example_annotation/example.h5\"\n",
    ")\n",
    "with h5py.File(fname, \"w\") as f:\n",
    "    dset = f.create_dataset(\"image_2channel\", data=image_2channel)"
   ]
  },
  {
   "cell_type": "code",
   "execution_count": null,
   "metadata": {},
   "outputs": [],
   "source": [
    "example = \"off_2\"\n",
    "\n",
    "fname = (\n",
    "    \"/Users/thomasathey/Documents/mimlab/mouselight/ailey/example_annotation/example.h5\"\n",
    ")\n",
    "f = h5py.File(fname, \"r\")\n",
    "im = f.get(\"image_2channel\")\n",
    "im_fg = im[1, :, :, :, 0]\n",
    "\n",
    "fname = \"/Users/thomasathey/Documents/mimlab/mouselight/ailey/example_annotation/example_Probabilities_3d_2channel.h5\"\n",
    "f = h5py.File(fname, \"r\")\n",
    "pred = f.get(\"exported_data\")\n",
    "pred = pred[1, :, :, :, 0]\n",
    "mask = pred > 0.5\n",
    "try:\n",
    "    mask = removeSmallCCs(mask, 100)\n",
    "except ValueError:\n",
    "    mask = 0 * im_fg\n",
    "\n",
    "print(im_fg.shape == mask.shape)\n",
    "\n",
    "viewer = napari.Viewer(ndisplay=3)\n",
    "viewer.add_image(im_fg)\n",
    "viewer.add_labels(mask)\n",
    "napari.run()"
   ]
  },
  {
   "cell_type": "code",
   "execution_count": null,
   "metadata": {},
   "outputs": [],
   "source": [
    "vol_mask[2432:2560, 3584:3712, 2400:2440, 0] = mask.astype(\"uint64\")"
   ]
  },
  {
   "cell_type": "code",
   "execution_count": null,
   "metadata": {},
   "outputs": [],
   "source": [
    "mask2 = vol_mask[2432:2560, 3584:3712, 2400:2440, 0]\n",
    "mask2.shape"
   ]
  },
  {
   "cell_type": "code",
   "execution_count": null,
   "metadata": {},
   "outputs": [],
   "source": [
    "mask.shape"
   ]
  },
  {
   "cell_type": "markdown",
   "metadata": {},
   "source": [
    "https://viz.neurodata.io/?json_url=https://json.neurodata.io/v1?NGStateID=E-917tNc_GylnQ"
   ]
  },
  {
   "cell_type": "markdown",
   "metadata": {},
   "source": [
    "## Brainlit example"
   ]
  },
  {
   "cell_type": "code",
   "execution_count": null,
   "metadata": {},
   "outputs": [],
   "source": [
    "dir = \"s3://open-neurodata/brainlit/brain2/axons\"\n",
    "\n",
    "info = CloudVolume.create_new_info(\n",
    "    num_channels=1,\n",
    "    layer_type=\"segmentation\",\n",
    "    data_type=\"uint64\",  # Channel images might be 'uint8'\n",
    "    encoding=\"raw\",  # raw, jpeg, compressed_segmentation, fpzip, kempressed\n",
    "    resolution=vol_brainlit.resolution,  # Voxel scaling, units are in nanometers\n",
    "    voxel_offset=vol_brainlit.voxel_offset,  # x,y,z offset in voxels from the origin\n",
    "    # mesh            = 'mesh',\n",
    "    # Pick a convenient size for your underlying chunk representation\n",
    "    # Powers of two are recommended, doesn't need to cover image exactly\n",
    "    chunk_size=[68, 52, 80],  # units are voxels\n",
    "    volume_size=vol_brainlit.volume_size,  # e.g. a cubic millimeter dataset\n",
    ")\n",
    "vol = CloudVolume(dir, info=info)\n",
    "vol.commit_info()"
   ]
  },
  {
   "cell_type": "code",
   "execution_count": null,
   "metadata": {},
   "outputs": [],
   "source": [
    "import numpy as np"
   ]
  },
  {
   "cell_type": "code",
   "execution_count": null,
   "metadata": {},
   "outputs": [],
   "source": [
    "a = np.zeros((68, 52, 80), dtype=\"uint64\")\n",
    "a[30:35, :, :] = 1\n",
    "vol[:68, :52, :80] = a"
   ]
  },
  {
   "cell_type": "markdown",
   "metadata": {},
   "source": [
    "# Second sample"
   ]
  },
  {
   "cell_type": "code",
   "execution_count": null,
   "metadata": {},
   "outputs": [],
   "source": [
    "dir = \"precomputed://https://dlab-colm.neurodata.io/2021_06_02_Sert_Cre/Ch_647\"\n",
    "\n",
    "vol_fg = CloudVolume(dir)"
   ]
  },
  {
   "cell_type": "markdown",
   "metadata": {},
   "source": [
    "## Download and save samples"
   ]
  },
  {
   "cell_type": "code",
   "execution_count": null,
   "metadata": {},
   "outputs": [],
   "source": [
    "pos_centers = [\n",
    "    [3071, 765, 2342],\n",
    "    [5065, 3455, 2342],\n",
    "    [3262, 7854, 2342],\n",
    "]  # tectum, cortex, olfactory bulb\n",
    "neg_centers = [\n",
    "    [3557, 4797, 2342],\n",
    "    [1564, 1997, 2342],\n",
    "    [1606, 5204, 2342],\n",
    "]  # ?, edge of brain/tectum, white matter\n",
    "radius = 100\n",
    "\n",
    "for i, center in enumerate(pos_centers):\n",
    "    image_fg = vol_fg[\n",
    "        center[0] - radius : center[0] + radius,\n",
    "        center[1] - radius : center[1] + radius,\n",
    "        center[2] - radius : center[2] + radius,\n",
    "    ]\n",
    "    image_bg = 0 * image_fg\n",
    "    image_2channel = np.stack([image_bg, image_fg], axis=0)\n",
    "    fname = (\n",
    "        \"/Users/thomasathey/Documents/mimlab/mouselight/ailey/brain2_data/images/on_\"\n",
    "        + str(i)\n",
    "        + \".h5\"\n",
    "    )\n",
    "    with h5py.File(fname, \"w\") as f:\n",
    "        dset = f.create_dataset(\"image_2channel\", data=image_2channel)\n",
    "\n",
    "\n",
    "for i, center in enumerate(neg_centers):\n",
    "    image_fg = vol_fg[\n",
    "        center[0] - radius : center[0] + radius,\n",
    "        center[1] - radius : center[1] + radius,\n",
    "        center[2] - radius : center[2] + radius,\n",
    "    ]\n",
    "    image_bg = 0 * image_fg\n",
    "    image_2channel = np.stack([image_bg, image_fg], axis=0)\n",
    "    fname = (\n",
    "        \"/Users/thomasathey/Documents/mimlab/mouselight/ailey/brain2_data/images/off_\"\n",
    "        + str(i)\n",
    "        + \".h5\"\n",
    "    )\n",
    "    with h5py.File(fname, \"w\") as f:\n",
    "        dset = f.create_dataset(\"image_2channel\", data=image_2channel)"
   ]
  },
  {
   "cell_type": "markdown",
   "metadata": {},
   "source": [
    "## Read ilastik results"
   ]
  },
  {
   "cell_type": "code",
   "execution_count": null,
   "metadata": {},
   "outputs": [],
   "source": [
    "example = \"off_2\"\n",
    "\n",
    "fname = (\n",
    "    \"/Users/thomasathey/Documents/mimlab/mouselight/ailey/brain2_data/images/\"\n",
    "    + example\n",
    "    + \".h5\"\n",
    ")\n",
    "f = h5py.File(fname, \"r\")\n",
    "im = f.get(\"image_2channel\")\n",
    "im_fg = im[1, :, :, :, 0]\n",
    "\n",
    "fname = (\n",
    "    \"/Users/thomasathey/Documents/mimlab/mouselight/ailey/brain2_data/images/\"\n",
    "    + example\n",
    "    + \"_Probabilities_3d_2channel.h5\"\n",
    ")\n",
    "f = h5py.File(fname, \"r\")\n",
    "pred = f.get(\"exported_data\")\n",
    "pred = pred[1, :, :, :, 0]\n",
    "mask = pred > 0.5\n",
    "\n",
    "try:\n",
    "    mask = removeSmallCCs(mask, 100)\n",
    "except ValueError:\n",
    "    mask = 0 * im_fg\n",
    "\n",
    "print(im_fg.shape == mask.shape)\n",
    "\n",
    "viewer = napari.Viewer(ndisplay=3)\n",
    "viewer.add_image(im_fg)\n",
    "viewer.add_labels(mask)\n",
    "napari.run()"
   ]
  },
  {
   "cell_type": "markdown",
   "metadata": {},
   "source": [
    "brain 1"
   ]
  },
  {
   "cell_type": "code",
   "execution_count": null,
   "metadata": {},
   "outputs": [],
   "source": [
    "from brainlit.utils import NeuroglancerSession"
   ]
  },
  {
   "cell_type": "code",
   "execution_count": null,
   "metadata": {},
   "outputs": [],
   "source": [
    "vol_im1 = CloudVolume(\n",
    "    \"https://open-neurodata.s3.amazonaws.com/brainlit/brain1\",\n",
    "    parallel=1,\n",
    "    mip=0,\n",
    "    fill_missing=True,\n",
    ")\n",
    "vol_skel1 = CloudVolume(\n",
    "    \"precomputed://https://open-neurodata.s3.amazonaws.com/brainlit/brain1_segments\"\n",
    ")\n",
    "skel2 = vol_skel1.skeleton.get(11)\n",
    "skel2.vertices\n",
    "# session = NeuroglancerSession(\"s3://open-neurodata/brainlit/brain1\", 0)"
   ]
  },
  {
   "cell_type": "code",
   "execution_count": null,
   "metadata": {},
   "outputs": [],
   "source": [
    "coord = skel2.vertices[0, :]\n",
    "coord = np.divide(coord, vol_im1.resolution)"
   ]
  },
  {
   "cell_type": "code",
   "execution_count": null,
   "metadata": {},
   "outputs": [],
   "source": [
    "coord = [19796.43356643, 14046.11235955, 5254.32142857]\n",
    "coord = [int(c) for c in coord]\n",
    "image = vol_im1[\n",
    "    coord[0] - 50 : coord[0] + 50,\n",
    "    coord[1] - 50 : coord[1] + 50,\n",
    "    coord[2] - 50 : coord[2] + 50,\n",
    "]\n",
    "image = np.squeeze(image)\n",
    "image.shape"
   ]
  },
  {
   "cell_type": "code",
   "execution_count": null,
   "metadata": {},
   "outputs": [],
   "source": [
    "viewer = napari.Viewer(ndisplay=3)\n",
    "viewer.add_image(image)\n",
    "napari.run()"
   ]
  }
 ],
 "metadata": {
  "interpreter": {
   "hash": "5dc00d68ff54f8375e99934614da4863299fb9e10af4294c095b7f517546ff26"
  },
  "kernelspec": {
   "display_name": "Python 3.8.10 64-bit ('docs_env': venv)",
   "name": "python3"
  },
  "language_info": {
   "codemirror_mode": {
    "name": "ipython",
    "version": 3
   },
   "file_extension": ".py",
   "mimetype": "text/x-python",
   "name": "python",
   "nbconvert_exporter": "python",
   "pygments_lexer": "ipython3",
   "version": "3.8.10"
  },
  "metadata": {
   "interpreter": {
    "hash": "31f2aee4e71d21fbe5cf8b01ff0e069b9275f58929596ceb00d14d90e3e16cd6"
   }
  }
 },
 "nbformat": 4,
 "nbformat_minor": 2
}
