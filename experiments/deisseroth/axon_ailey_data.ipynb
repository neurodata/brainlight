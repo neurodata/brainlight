{
 "cells": [
  {
   "cell_type": "code",
   "execution_count": 1,
   "metadata": {},
   "outputs": [
    {
     "name": "stderr",
     "output_type": "stream",
     "text": [
      "/Users/thomasathey/Documents/mimlab/mouselight/docs_env/lib/python3.8/site-packages/nilearn/datasets/__init__.py:86: FutureWarning: Fetchers from the nilearn.datasets module will be updated in version 0.9 to return python strings instead of bytes and Pandas dataframes instead of Numpy arrays.\n",
      "  warn(\"Fetchers from the nilearn.datasets module will be \"\n"
     ]
    }
   ],
   "source": [
    "from cloudvolume import CloudVolume\n",
    "from skimage.transform import downscale_local_mean\n",
    "import napari\n",
    "from skimage import io\n",
    "import random\n",
    "import h5py\n",
    "from skimage import measure\n",
    "from brainlit.preprocessing import removeSmallCCs\n",
    "import numpy as np\n",
    "import matplotlib.pyplot as plt\n",
    "import subprocess\n",
    "import tables\n",
    "from napari_animation import AnimationWidget\n",
    "from tqdm import tqdm\n",
    "import pickle\n",
    "from parse_ara import *\n",
    "import networkx as nx\n",
    "import seaborn as sns\n",
    "from statannotations.Annotator import Annotator\n",
    "import pandas as pd\n",
    "import brainrender\n",
    "import scipy.ndimage as ndi\n",
    "from skimage.morphology import skeletonize\n",
    "from axon_data import brain2paths, brain2centers\n",
    "import os\n",
    "from util import json_to_points\n",
    "import scipy.ndimage as ndi\n",
    "\n",
    "%gui qt5"
   ]
  },
  {
   "cell_type": "markdown",
   "metadata": {},
   "source": [
    "# Download benchmark data"
   ]
  },
  {
   "cell_type": "code",
   "execution_count": 2,
   "metadata": {},
   "outputs": [],
   "source": [
    "brain = \"887\"\n",
    "\n",
    "base_dir = (\n",
    "    \"/Users/thomasathey/Documents/mimlab/mouselight/ailey/detection_axon/brain\"\n",
    "    + brain\n",
    "    + \"/\"\n",
    ")"
   ]
  },
  {
   "cell_type": "code",
   "execution_count": 3,
   "metadata": {},
   "outputs": [
    {
     "name": "stdout",
     "output_type": "stream",
     "text": [
      "10 points in val layer\n",
      "10 val samples\n",
      "fg shape: (7426, 8806, 3900, 1) at [1830. 1830. 2000.]\n",
      "bg shape: (7426, 8806, 3900, 1) at [1830. 1830. 2000.]\n",
      "endo shape: (7426, 8806, 3900, 1) at [1830. 1830. 2000.]\n"
     ]
    }
   ],
   "source": [
    "if brain in brain2centers.keys():\n",
    "    centers_train = brain2centers[brain][0]\n",
    "    centers_val = brain2centers[brain][1]  # annotate z slice 25, 50 and 75\n",
    "    print(f\"{len(centers_train)} training samples, {len(centers_val)} val samples\")\n",
    "elif \"val_info\" in brain2paths[brain].keys():\n",
    "    centers_val = json_to_points(brain2paths[brain][\"val_info\"][\"url\"])[\n",
    "        brain2paths[brain][\"val_info\"][\"layer\"]\n",
    "    ]\n",
    "    print(f\"{len(centers_val)} val samples\")\n",
    "\n",
    "\n",
    "\n",
    "if \"train_info\" in brain2paths[brain].keys():\n",
    "    centers_train = json_to_points(brain2paths[brain][\"train_info\"][\"url\"])[\n",
    "        brain2paths[brain][\"train_info\"][\"layer\"]\n",
    "    ]\n",
    "    print(f\"{len(centers_train)} train samples\")\n",
    "\n",
    "mip = 0\n",
    "\n",
    "dir = brain2paths[brain][\"ab\"]\n",
    "vol_fg = CloudVolume(dir, parallel=1, mip=mip, fill_missing=False)\n",
    "print(f\"fg shape: {vol_fg.shape} at {vol_fg.resolution}\")\n",
    "dir = brain2paths[brain][\"bg\"]\n",
    "vol_bg = CloudVolume(dir, parallel=1, mip=mip, fill_missing=False)\n",
    "print(f\"bg shape: {vol_bg.shape} at {vol_bg.resolution}\")\n",
    "dir = brain2paths[brain][\"endo\"]\n",
    "vol_endo = CloudVolume(dir, parallel=1, mip=mip, fill_missing=False)\n",
    "print(f\"endo shape: {vol_endo.shape} at {vol_endo.resolution}\")"
   ]
  },
  {
   "cell_type": "code",
   "execution_count": null,
   "metadata": {},
   "outputs": [],
   "source": [
    "if \"mask\" in brain2paths[brain].keys():\n",
    "    dir = brain2paths[brain][\"mask\"]\n",
    "    vol_mask = CloudVolume(dir, parallel=1, mip=mip, fill_missing=True)"
   ]
  },
  {
   "cell_type": "markdown",
   "metadata": {},
   "source": [
    "## View image"
   ]
  },
  {
   "cell_type": "code",
   "execution_count": null,
   "metadata": {},
   "outputs": [],
   "source": [
    "dir = brain2paths[brain][\"ab\"]\n",
    "vol_fg = CloudVolume(dir, parallel=1, mip=3, fill_missing=False)\n",
    "print(f\"fg shape: {vol_fg.shape} at {vol_fg.resolution}\")\n",
    "scale = [i / 1000 for i in vol_fg.resolution]\n",
    "scale[2] = scale[2] * 4"
   ]
  },
  {
   "cell_type": "code",
   "execution_count": null,
   "metadata": {},
   "outputs": [],
   "source": [
    "im = np.squeeze(np.array(vol_fg[:, :, :]))\n",
    "from scipy.ndimage import zoom\n",
    "\n",
    "new_array = zoom(im, (1, 1, 0.25))"
   ]
  },
  {
   "cell_type": "code",
   "execution_count": 9,
   "metadata": {},
   "outputs": [],
   "source": [
    "new_array = np.zeros((10,10,10))\n",
    "scale = [1,1,1]"
   ]
  },
  {
   "cell_type": "code",
   "execution_count": 10,
   "metadata": {},
   "outputs": [],
   "source": [
    "viewer = napari.Viewer(ndisplay=3)\n",
    "viewer.add_image(new_array, scale=scale)\n",
    "viewer.scale_bar.visible = True\n",
    "viewer.scale_bar.unit = \"um\""
   ]
  },
  {
   "cell_type": "markdown",
   "metadata": {},
   "source": [
    "### download training data"
   ]
  },
  {
   "cell_type": "code",
   "execution_count": 4,
   "metadata": {},
   "outputs": [
    {
     "name": "stdout",
     "output_type": "stream",
     "text": [
      "creating directory: /Users/thomasathey/Documents/mimlab/mouselight/ailey/detection_axon/brain887/\n",
      "[3660.6708984375, 3736.30859375, 1762.5001220703125]\n"
     ]
    },
    {
     "name": "stderr",
     "output_type": "stream",
     "text": [
      "Downloading: 100%|██████████| 4/4 [00:01<00:00,  4.00it/s]\n",
      "Downloading: 100%|██████████| 4/4 [00:00<00:00,  4.44it/s]\n",
      "Downloading: 100%|██████████| 4/4 [00:02<00:00,  1.46it/s]\n"
     ]
    },
    {
     "name": "stdout",
     "output_type": "stream",
     "text": [
      "[3786.468505859375, 3059.268798828125, 1767.4998779296875]\n"
     ]
    },
    {
     "name": "stderr",
     "output_type": "stream",
     "text": [
      "Downloading: 100%|██████████| 4/4 [00:00<00:00,  4.21it/s]\n",
      "Downloading: 100%|██████████| 4/4 [00:00<00:00,  4.10it/s]\n",
      "Downloading: 100%|██████████| 4/4 [00:00<00:00,  4.39it/s]\n"
     ]
    },
    {
     "name": "stdout",
     "output_type": "stream",
     "text": [
      "[5648.5869140625, 3930.7861328125, 1801.4998779296875]\n"
     ]
    },
    {
     "name": "stderr",
     "output_type": "stream",
     "text": [
      "Downloading: 100%|██████████| 8/8 [00:00<00:00,  8.05it/s]\n",
      "Downloading: 100%|██████████| 8/8 [00:01<00:00,  7.32it/s]\n",
      "Downloading: 100%|██████████| 8/8 [00:01<00:00,  7.74it/s]\n"
     ]
    },
    {
     "name": "stdout",
     "output_type": "stream",
     "text": [
      "[6436.99365234375, 4989.46142578125, 1802.5]\n"
     ]
    },
    {
     "name": "stderr",
     "output_type": "stream",
     "text": [
      "Downloading: 100%|██████████| 8/8 [00:01<00:00,  7.11it/s]\n",
      "Downloading: 100%|██████████| 8/8 [00:01<00:00,  7.51it/s]\n",
      "Downloading: 100%|██████████| 8/8 [00:01<00:00,  7.53it/s]\n"
     ]
    },
    {
     "name": "stdout",
     "output_type": "stream",
     "text": [
      "[5122.1484375, 5509.90087890625, 1799.5001220703125]\n"
     ]
    },
    {
     "name": "stderr",
     "output_type": "stream",
     "text": [
      "Downloading: 100%|██████████| 8/8 [00:01<00:00,  7.53it/s]\n",
      "Downloading: 100%|██████████| 8/8 [00:01<00:00,  7.24it/s]\n",
      "Downloading: 100%|██████████| 8/8 [00:01<00:00,  7.34it/s]\n"
     ]
    },
    {
     "name": "stdout",
     "output_type": "stream",
     "text": [
      "[1159.53369140625, 2251.189453125, 1799.5001220703125]\n"
     ]
    },
    {
     "name": "stderr",
     "output_type": "stream",
     "text": [
      "Downloading: 100%|██████████| 4/4 [00:00<00:00,  4.19it/s]\n",
      "Downloading: 100%|██████████| 4/4 [00:01<00:00,  3.84it/s]\n",
      "Downloading: 100%|██████████| 4/4 [00:00<00:00,  4.08it/s]\n"
     ]
    },
    {
     "name": "stdout",
     "output_type": "stream",
     "text": [
      "[2273.576416015625, 2174.3671875, 1799.5]\n"
     ]
    },
    {
     "name": "stderr",
     "output_type": "stream",
     "text": [
      "Downloading: 100%|██████████| 8/8 [00:01<00:00,  7.03it/s]\n",
      "Downloading: 100%|██████████| 8/8 [00:01<00:00,  7.23it/s]\n",
      "Downloading: 100%|██████████| 8/8 [00:01<00:00,  7.36it/s]\n"
     ]
    },
    {
     "name": "stdout",
     "output_type": "stream",
     "text": [
      "[2800.532470703125, 5874.958984375, 1376.5]\n"
     ]
    },
    {
     "name": "stderr",
     "output_type": "stream",
     "text": [
      "Downloading: 100%|██████████| 8/8 [00:01<00:00,  7.74it/s]\n",
      "Downloading: 100%|██████████| 8/8 [00:01<00:00,  7.54it/s]\n",
      "Downloading: 100%|██████████| 8/8 [00:01<00:00,  7.45it/s]\n"
     ]
    },
    {
     "name": "stdout",
     "output_type": "stream",
     "text": [
      "[3059.315185546875, 6685.66455078125, 1366.5]\n"
     ]
    },
    {
     "name": "stderr",
     "output_type": "stream",
     "text": [
      "Downloading: 100%|██████████| 8/8 [00:01<00:00,  6.94it/s]\n",
      "Downloading: 100%|██████████| 8/8 [00:01<00:00,  7.34it/s]\n",
      "Downloading: 100%|██████████| 8/8 [00:01<00:00,  7.05it/s]\n"
     ]
    },
    {
     "name": "stdout",
     "output_type": "stream",
     "text": [
      "[2963.281494140625, 3233.4423828125, 1406.5]\n"
     ]
    },
    {
     "name": "stderr",
     "output_type": "stream",
     "text": [
      "Downloading: 100%|██████████| 8/8 [00:01<00:00,  7.46it/s]\n",
      "Downloading: 100%|██████████| 8/8 [00:00<00:00,  8.03it/s]\n",
      "Downloading: 100%|██████████| 8/8 [00:01<00:00,  7.55it/s]\n"
     ]
    }
   ],
   "source": [
    "# for ilastik - blue/1 is axno yellow/0 is bg\n",
    "# prediction model is /Users/thomasathey/Documents/mimlab/mouselight/ailey/detection_axon/brain3/matt_benchmark_formal_brain3.ilp\n",
    "\n",
    "\n",
    "dataset_to_save = \"val\"\n",
    "\n",
    "isExist = os.path.exists(base_dir)\n",
    "if not isExist:\n",
    "    print(f\"creating directory: {base_dir}\")\n",
    "    os.makedirs(base_dir)\n",
    "\n",
    "if dataset_to_save == \"train\":\n",
    "    centers = centers_train\n",
    "elif dataset_to_save == \"val\":\n",
    "    centers = centers_val\n",
    "else:\n",
    "    raise ValueError(\"invalid dataset\")\n",
    "\n",
    "for i, center in enumerate(centers):\n",
    "    print(center)\n",
    "    image_fg = vol_fg[\n",
    "        center[0] - 49 : center[0] + 50,\n",
    "        center[1] - 49 : center[1] + 50,\n",
    "        center[2] - 49 : center[2] + 50,\n",
    "    ]\n",
    "    image_fg = image_fg[:, :, :, 0]\n",
    "\n",
    "    image_bg = vol_bg[\n",
    "        center[0] - 49 : center[0] + 50,\n",
    "        center[1] - 49 : center[1] + 50,\n",
    "        center[2] - 49 : center[2] + 50,\n",
    "    ]\n",
    "    image_bg = image_bg[:, :, :, 0]\n",
    "\n",
    "    image_endo = vol_endo[\n",
    "        center[0] - 49 : center[0] + 50,\n",
    "        center[1] - 49 : center[1] + 50,\n",
    "        center[2] - 49 : center[2] + 50,\n",
    "    ]\n",
    "    image_endo = image_endo[:, :, :, 0]\n",
    "\n",
    "    image_2channel = np.stack([image_bg, image_fg, image_endo], axis=0)\n",
    "\n",
    "    fname = f\"{base_dir}{dataset_to_save}_{int(center[0])}_{int(center[1])}_{int(center[2])}.h5\"\n",
    "    with h5py.File(fname, \"w\") as f:\n",
    "        dset = f.create_dataset(\"image_2channel\", data=image_2channel)"
   ]
  },
  {
   "cell_type": "markdown",
   "metadata": {},
   "source": [
    "## View data"
   ]
  },
  {
   "cell_type": "code",
   "execution_count": null,
   "metadata": {},
   "outputs": [],
   "source": [
    "dset = \"val\"\n",
    "num = \"3\"\n",
    "\n",
    "fname = base_dir + dset + \"_\" + num + \".h5\"\n",
    "\n",
    "with h5py.File(fname, \"r\") as f:\n",
    "    pred = f.get(\"image_2channel\")\n",
    "    image_bg = pred[0, :, :, :]\n",
    "    image_fg = pred[1, :, :, :]\n",
    "    image_endo = pred[2, :, :, :]\n",
    "\n",
    "viewer = napari.Viewer(ndisplay=3)\n",
    "viewer.add_image(image_fg)\n",
    "viewer.add_image(image_bg)\n",
    "viewer.add_image(image_endo)"
   ]
  },
  {
   "cell_type": "code",
   "execution_count": null,
   "metadata": {},
   "outputs": [],
   "source": [
    "files = os.listdir(base_dir)\n",
    "files = [base_dir + f for f in files if \"val\" in f]\n",
    "files = [f for f in files if \"Labels.h5\" in f]\n",
    "\n",
    "num_pos_voxels = 0\n",
    "for fname in files:\n",
    "    f = h5py.File(fname, \"r\")\n",
    "    gt = f.get(\"exported_data\")\n",
    "    gt = gt[0, :, :, :]\n",
    "    pos_labels = gt == 2\n",
    "    num_pos_voxels += np.sum(pos_labels)\n",
    "\n",
    "print(num_pos_voxels)"
   ]
  },
  {
   "cell_type": "markdown",
   "metadata": {},
   "source": [
    "# Check results"
   ]
  },
  {
   "cell_type": "markdown",
   "metadata": {},
   "source": [
    "## Training"
   ]
  },
  {
   "cell_type": "code",
   "execution_count": null,
   "metadata": {},
   "outputs": [],
   "source": [
    "brains = [\"8613\", \"3\", \"4\"]\n",
    "\n",
    "for brain in brains:\n",
    "    base_dir = (\n",
    "        \"/Users/thomasathey/Documents/mimlab/mouselight/ailey/benchmark_formal/brain\"\n",
    "        + brain\n",
    "        + \"/\"\n",
    "    )\n",
    "\n",
    "    files = os.listdir(base_dir)\n",
    "    files = [base_dir + f for f in files if \"train\" in f]\n",
    "    files = [f for f in files if \"Labels\" in f]\n",
    "    # need to filter for labels/probs fiiles\n",
    "\n",
    "    total_pos = 0\n",
    "    total_neg = 0\n",
    "    for fname in files:\n",
    "        f = h5py.File(fname, \"r\")\n",
    "        im = np.array(f.get(\"exported_data\"))\n",
    "        pos = np.sum(im == 2)\n",
    "        neg = np.sum(im == 1)\n",
    "\n",
    "        total_pos += pos\n",
    "        total_neg += neg\n",
    "\n",
    "    print(f\"{brain}: {total_pos}+/{total_neg}- total voxels\")"
   ]
  },
  {
   "cell_type": "markdown",
   "metadata": {},
   "source": [
    "## Validation"
   ]
  },
  {
   "cell_type": "code",
   "execution_count": 6,
   "metadata": {},
   "outputs": [
    {
     "name": "stdout",
     "output_type": "stream",
     "text": [
      "14 total validation subvolumes\n",
      "Thresh: 0.02 --- Total prec.: 0.312 total rec.: 0.999 w/4654/19258 total pos/neg voxels. F-score: 0.4753\n",
      "Thresh: 0.04 --- Total prec.: 0.419 total rec.: 0.994 w/4654/19258 total pos/neg voxels. F-score: 0.5895\n",
      "Thresh: 0.06 --- Total prec.: 0.497 total rec.: 0.986 w/4654/19258 total pos/neg voxels. F-score: 0.6607\n",
      "Thresh: 0.08 --- Total prec.: 0.564 total rec.: 0.982 w/4654/19258 total pos/neg voxels. F-score: 0.7162\n",
      "Thresh: 0.10 --- Total prec.: 0.619 total rec.: 0.978 w/4654/19258 total pos/neg voxels. F-score: 0.7578\n",
      "Thresh: 0.12 --- Total prec.: 0.668 total rec.: 0.974 w/4654/19258 total pos/neg voxels. F-score: 0.7925\n",
      "Thresh: 0.14 --- Total prec.: 0.709 total rec.: 0.970 w/4654/19258 total pos/neg voxels. F-score: 0.8193\n",
      "Thresh: 0.16 --- Total prec.: 0.747 total rec.: 0.965 w/4654/19258 total pos/neg voxels. F-score: 0.8422\n",
      "Thresh: 0.18 --- Total prec.: 0.780 total rec.: 0.960 w/4654/19258 total pos/neg voxels. F-score: 0.8611\n",
      "Thresh: 0.20 --- Total prec.: 0.808 total rec.: 0.955 w/4654/19258 total pos/neg voxels. F-score: 0.8756\n",
      "Thresh: 0.22 --- Total prec.: 0.829 total rec.: 0.951 w/4654/19258 total pos/neg voxels. F-score: 0.8858\n",
      "Thresh: 0.24 --- Total prec.: 0.847 total rec.: 0.945 w/4654/19258 total pos/neg voxels. F-score: 0.8931\n",
      "Thresh: 0.26 --- Total prec.: 0.859 total rec.: 0.939 w/4654/19258 total pos/neg voxels. F-score: 0.8972\n",
      "Thresh: 0.28 --- Total prec.: 0.871 total rec.: 0.932 w/4654/19258 total pos/neg voxels. F-score: 0.9005\n",
      "Thresh: 0.30 --- Total prec.: 0.883 total rec.: 0.924 w/4654/19258 total pos/neg voxels. F-score: 0.9032\n",
      "Thresh: 0.32 --- Total prec.: 0.892 total rec.: 0.911 w/4654/19258 total pos/neg voxels. F-score: 0.9016\n",
      "Thresh: 0.34 --- Total prec.: 0.899 total rec.: 0.897 w/4654/19258 total pos/neg voxels. F-score: 0.8982\n",
      "Thresh: 0.36 --- Total prec.: 0.906 total rec.: 0.883 w/4654/19258 total pos/neg voxels. F-score: 0.8944\n",
      "Thresh: 0.38 --- Total prec.: 0.914 total rec.: 0.862 w/4654/19258 total pos/neg voxels. F-score: 0.8874\n",
      "Thresh: 0.40 --- Total prec.: 0.919 total rec.: 0.843 w/4654/19258 total pos/neg voxels. F-score: 0.8796\n",
      "Thresh: 0.42 --- Total prec.: 0.927 total rec.: 0.828 w/4654/19258 total pos/neg voxels. F-score: 0.8745\n",
      "Thresh: 0.44 --- Total prec.: 0.933 total rec.: 0.814 w/4654/19258 total pos/neg voxels. F-score: 0.8697\n",
      "Thresh: 0.46 --- Total prec.: 0.939 total rec.: 0.802 w/4654/19258 total pos/neg voxels. F-score: 0.8653\n",
      "Thresh: 0.48 --- Total prec.: 0.944 total rec.: 0.790 w/4654/19258 total pos/neg voxels. F-score: 0.8602\n",
      "Thresh: 0.50 --- Total prec.: 0.950 total rec.: 0.776 w/4654/19258 total pos/neg voxels. F-score: 0.8540\n",
      "Thresh: 0.52 --- Total prec.: 0.957 total rec.: 0.762 w/4654/19258 total pos/neg voxels. F-score: 0.8484\n",
      "Thresh: 0.54 --- Total prec.: 0.963 total rec.: 0.744 w/4654/19258 total pos/neg voxels. F-score: 0.8397\n",
      "Thresh: 0.56 --- Total prec.: 0.970 total rec.: 0.728 w/4654/19258 total pos/neg voxels. F-score: 0.8315\n",
      "Thresh: 0.58 --- Total prec.: 0.975 total rec.: 0.710 w/4654/19258 total pos/neg voxels. F-score: 0.8214\n",
      "Thresh: 0.60 --- Total prec.: 0.981 total rec.: 0.693 w/4654/19258 total pos/neg voxels. F-score: 0.8122\n",
      "Thresh: 0.62 --- Total prec.: 0.985 total rec.: 0.663 w/4654/19258 total pos/neg voxels. F-score: 0.7922\n",
      "Thresh: 0.64 --- Total prec.: 0.987 total rec.: 0.628 w/4654/19258 total pos/neg voxels. F-score: 0.7674\n",
      "Thresh: 0.66 --- Total prec.: 0.989 total rec.: 0.580 w/4654/19258 total pos/neg voxels. F-score: 0.7316\n",
      "Thresh: 0.68 --- Total prec.: 0.991 total rec.: 0.526 w/4654/19258 total pos/neg voxels. F-score: 0.6872\n",
      "Thresh: 0.70 --- Total prec.: 0.993 total rec.: 0.462 w/4654/19258 total pos/neg voxels. F-score: 0.6304\n",
      "Thresh: 0.72 --- Total prec.: 0.993 total rec.: 0.379 w/4654/19258 total pos/neg voxels. F-score: 0.5481\n",
      "Thresh: 0.74 --- Total prec.: 0.994 total rec.: 0.295 w/4654/19258 total pos/neg voxels. F-score: 0.4548\n",
      "Thresh: 0.76 --- Total prec.: 0.993 total rec.: 0.225 w/4654/19258 total pos/neg voxels. F-score: 0.3671\n",
      "Thresh: 0.78 --- Total prec.: 0.995 total rec.: 0.158 w/4654/19258 total pos/neg voxels. F-score: 0.2732\n",
      "Thresh: 0.80 --- Total prec.: 1.000 total rec.: 0.121 w/4654/19258 total pos/neg voxels. F-score: 0.2162\n",
      "Thresh: 0.82 --- Total prec.: 1.000 total rec.: 0.091 w/4654/19258 total pos/neg voxels. F-score: 0.1663\n",
      "Thresh: 0.84 --- Total prec.: 1.000 total rec.: 0.064 w/4654/19258 total pos/neg voxels. F-score: 0.1196\n",
      "Thresh: 0.86 --- Total prec.: 1.000 total rec.: 0.045 w/4654/19258 total pos/neg voxels. F-score: 0.0863\n",
      "Thresh: 0.88 --- Total prec.: 1.000 total rec.: 0.033 w/4654/19258 total pos/neg voxels. F-score: 0.0641\n",
      "Thresh: 0.90 --- Total prec.: 1.000 total rec.: 0.023 w/4654/19258 total pos/neg voxels. F-score: 0.0458\n",
      "Thresh: 0.92 --- Total prec.: 1.000 total rec.: 0.017 w/4654/19258 total pos/neg voxels. F-score: 0.0330\n",
      "Thresh: 0.94 --- Total prec.: 1.000 total rec.: 0.011 w/4654/19258 total pos/neg voxels. F-score: 0.0208\n",
      "Thresh: 0.96 --- Total prec.: 1.000 total rec.: 0.004 w/4654/19258 total pos/neg voxels. F-score: 0.0086\n",
      "Thresh: 0.98 --- Total prec.: 1.000 total rec.: 0.000 w/4654/19258 total pos/neg voxels. F-score: 0.0004\n"
     ]
    },
    {
     "data": {
      "text/html": [
       "<pre style=\"white-space:pre;overflow-x:auto;line-height:normal;font-family:Menlo,'DejaVu Sans Mono',consolas,'Courier New',monospace\"><span style=\"font-weight: bold\">&lt;</span><span style=\"color: #ff00ff; text-decoration-color: #ff00ff; font-weight: bold\">matplotlib.legend.Legend</span><span style=\"color: #000000; text-decoration-color: #000000\"> object at </span><span style=\"color: #008080; text-decoration-color: #008080; font-weight: bold\">0x15bc00100</span><span style=\"font-weight: bold\">&gt;</span>\n",
       "</pre>\n"
      ],
      "text/plain": [
       "\u001b[1m<\u001b[0m\u001b[1;95mmatplotlib.legend.Legend\u001b[0m\u001b[39m object at \u001b[0m\u001b[1;36m0x15bc00100\u001b[0m\u001b[1m>\u001b[0m\n"
      ]
     },
     "metadata": {},
     "output_type": "display_data"
    },
    {
     "data": {
      "image/png": "[encoded data removed]"
     },
     "metadata": {},
     "output_type": "display_data"
    }
   ],
   "source": [
    "spacing = 0.02\n",
    "thresholds = np.arange(spacing, 1.0, spacing)\n",
    "precisions = []\n",
    "recalls = []\n",
    "best_fscore = 0\n",
    "\n",
    "files = os.listdir(base_dir)\n",
    "files = [base_dir + f for f in files if \"val\" in f]\n",
    "files = [f for f in files if \"_Probabilities.h5\" in f]\n",
    "print(f\"{len(files)} total validation subvolumes\")\n",
    "\n",
    "for threshold in thresholds:\n",
    "    true_pos_total = 0\n",
    "    false_pos_total = 0\n",
    "    true_labels_total = 0\n",
    "    true_labels_total_neg = 0\n",
    "    for fname_prob in files:\n",
    "\n",
    "        fname_im = fname_prob[:-17] + \".h5\"\n",
    "        f = h5py.File(fname_im, \"r\")\n",
    "        im = f.get(\"image_2channel\")\n",
    "        im_bg = im[0, :, :, :]\n",
    "        im_fg = im[1, :, :, :]\n",
    "\n",
    "        fname_lab = fname_prob[:-17] + \"-image_2channel_Labels.h5\"\n",
    "        f = h5py.File(fname_lab, \"r\")\n",
    "        gt = f.get(\"exported_data\")\n",
    "        gt = gt[0, :, :, :]\n",
    "        pos_labels = gt == 2\n",
    "        neg_labels = gt == 1\n",
    "\n",
    "        f = h5py.File(fname_prob, \"r\")\n",
    "        seg = f.get(\"exported_data\")\n",
    "        seg = seg[1, :, :, :]\n",
    "        mask = seg > threshold\n",
    "\n",
    "        true_pos = np.sum(np.logical_and(mask, pos_labels))\n",
    "        true_pos_total += true_pos\n",
    "        false_pos = np.sum(np.logical_and(mask, gt == 1))\n",
    "        false_pos_total += false_pos\n",
    "        true_labels = np.sum(pos_labels)\n",
    "        true_labels_total += true_labels\n",
    "        true_labels_neg = np.sum(neg_labels)\n",
    "        true_labels_total_neg += true_labels_neg\n",
    "\n",
    "    precision_total = true_pos_total / (true_pos_total + false_pos_total)\n",
    "    recall_total = true_pos_total / true_labels_total\n",
    "    fscore = 2 / (1 / precision_total + 1 / recall_total)\n",
    "    print(\n",
    "        f\"Thresh: {threshold:.2f} --- Total prec.: {precision_total:.3f} total rec.: {recall_total:.3f} w/{true_labels_total}/{true_labels_total_neg} total pos/neg voxels. F-score: {fscore:.4f}\"\n",
    "    )\n",
    "    if fscore > best_fscore:\n",
    "        best_fscore = fscore\n",
    "        best_prec = precision_total\n",
    "        best_recall = recall_total\n",
    "        best_threshold = threshold\n",
    "    precisions.append(precision_total)\n",
    "    recalls.append(recall_total)\n",
    "plt.plot(recalls, precisions, label=\"Prec-Rec Curve\")\n",
    "plt.scatter(\n",
    "    [best_recall],\n",
    "    [best_prec],\n",
    "    c=\"red\",\n",
    "    label=f\"Best F-score: {best_fscore:.3f} (thresh {best_threshold:.2f})\",\n",
    ")\n",
    "plt.ylabel(\"Precision\")\n",
    "plt.xlabel(\"Recall\")\n",
    "plt.title(f\"Validation Brain {brain} w/{true_labels_total} Total Pos. Voxels\")\n",
    "plt.legend()"
   ]
  },
  {
   "cell_type": "markdown",
   "metadata": {},
   "source": [
    "## Examine best threshold"
   ]
  },
  {
   "cell_type": "code",
   "execution_count": 11,
   "metadata": {},
   "outputs": [
    {
     "name": "stdout",
     "output_type": "stream",
     "text": [
      "27 total validation subvolumes\n",
      "0) /Users/thomasathey/Documents/mimlab/mouselight/ailey/detection_axon/brain8649/val_1555_2142_596_Probabilities.h5: prec0.96875 recall: 0.6595744680851063\n",
      "1) /Users/thomasathey/Documents/mimlab/mouselight/ailey/detection_axon/brain8649/val_1896_1731_541_Probabilities.h5: prec0.8 recall: 0.15384615384615385\n",
      "2) /Users/thomasathey/Documents/mimlab/mouselight/ailey/detection_axon/brain8649/val_2919_529_1277_Probabilities.h5: prec0.0 recall: 1\n",
      "3) /Users/thomasathey/Documents/mimlab/mouselight/ailey/detection_axon/brain8649/val_3381_2398_1294_Probabilities.h5: prec0.0 recall: 1\n",
      "6) /Users/thomasathey/Documents/mimlab/mouselight/ailey/detection_axon/brain8649/val_906_3850_2109_Probabilities.h5: prec1.0 recall: 0.2786885245901639\n",
      "8) /Users/thomasathey/Documents/mimlab/mouselight/ailey/detection_axon/brain8649/val_2353_4116_1291_Probabilities.h5: prec0.0 recall: 1\n",
      "9) /Users/thomasathey/Documents/mimlab/mouselight/ailey/detection_axon/brain8649/val_775_4829_2459_Probabilities.h5: prec0.0 recall: 1\n",
      "11) /Users/thomasathey/Documents/mimlab/mouselight/ailey/detection_axon/brain8649/val_2879_1610_817_Probabilities.h5: prec1.0 recall: 0.6956521739130435\n",
      "13) /Users/thomasathey/Documents/mimlab/mouselight/ailey/detection_axon/brain8649/val_2686_2838_386_Probabilities.h5: prec0.0 recall: 1\n",
      "15) /Users/thomasathey/Documents/mimlab/mouselight/ailey/detection_axon/brain8649/val_888_2259_1304_Probabilities.h5: prec0.0 recall: 1\n",
      "16) /Users/thomasathey/Documents/mimlab/mouselight/ailey/detection_axon/brain8649/val_1349_4348_2027_Probabilities.h5: prec0.7586206896551724 recall: 1.0\n",
      "22) /Users/thomasathey/Documents/mimlab/mouselight/ailey/detection_axon/brain8649/val_1341_1785_2028_Probabilities.h5: prec0.0 recall: 1\n",
      "23) /Users/thomasathey/Documents/mimlab/mouselight/ailey/detection_axon/brain8649/val_496_2843_1204_Probabilities.h5: prec0.0 recall: 1\n",
      "24) /Users/thomasathey/Documents/mimlab/mouselight/ailey/detection_axon/brain8649/val_1251_2720_238_Probabilities.h5: prec1 recall: 0.0\n",
      "25) /Users/thomasathey/Documents/mimlab/mouselight/ailey/detection_axon/brain8649/val_2968_2904_541_Probabilities.h5: prec1.0 recall: 0.725\n"
     ]
    }
   ],
   "source": [
    "files = os.listdir(base_dir)\n",
    "files = [base_dir + f for f in files if \"val\" in f]\n",
    "files = [f for f in files if \"_Probabilities.h5\" in f]\n",
    "print(f\"{len(files)} total validation subvolumes\")\n",
    "\n",
    "\n",
    "for i, fname_prob in enumerate(files):\n",
    "    fname_im = fname_prob[:-17] + \".h5\"\n",
    "    f = h5py.File(fname_im, \"r\")\n",
    "    im = f.get(\"image_2channel\")\n",
    "    im_bg = im[0, :, :, :]\n",
    "    im_fg = im[1, :, :, :]\n",
    "    im_endo = im[2, :, :, :]\n",
    "\n",
    "    fname_lab = fname_prob[:-17] + \"-image_2channel_Labels.h5\"\n",
    "    f = h5py.File(fname_lab, \"r\")\n",
    "    gt = f.get(\"exported_data\")\n",
    "    gt = gt[0, :, :, :]\n",
    "    pos_labels = gt == 2\n",
    "    neg_labels = gt == 1\n",
    "\n",
    "    f = h5py.File(fname_prob, \"r\")\n",
    "    seg = f.get(\"exported_data\")\n",
    "    seg = seg[1, :, :, :]\n",
    "    mask = seg > best_threshold\n",
    "\n",
    "    true_pos = np.sum(np.logical_and(mask, pos_labels))\n",
    "    false_pos = np.sum(np.logical_and(mask, gt == 1))\n",
    "    true_labels = np.sum(pos_labels)\n",
    "    true_labels_neg = np.sum(neg_labels)\n",
    "\n",
    "    if true_labels == 0:\n",
    "        recall = 1\n",
    "    else:\n",
    "        recall = true_pos/true_labels\n",
    "\n",
    "    if true_pos + false_pos == 0:\n",
    "        precision = 1\n",
    "    else:\n",
    "        precision = true_pos/(true_pos + false_pos)\n",
    "\n",
    "    if precision < 0.8 or recall < 0.8:\n",
    "        print(f\"{i}) {fname_prob}: prec{precision} recall: {recall}\")\n",
    "        viewer = napari.Viewer(ndisplay=3)\n",
    "        viewer.add_image(im_fg, name=f\"fg {i}\")\n",
    "        viewer.add_image(im_bg, name=\"bg\")\n",
    "        viewer.add_image(im_endo, name=\"endo\")\n",
    "        viewer.add_labels(mask, name=\"mask\")\n",
    "        viewer.add_labels(pos_labels+2*neg_labels, name=\"pos labels\")\n",
    "\n"
   ]
  },
  {
   "cell_type": "markdown",
   "metadata": {},
   "source": [
    "## Paper figure for all validation"
   ]
  },
  {
   "cell_type": "code",
   "execution_count": 17,
   "metadata": {},
   "outputs": [
    {
     "name": "stdout",
     "output_type": "stream",
     "text": [
      "10 total validation subvolumes for brain 8650\n",
      "29 total validation subvolumes for brain 8649\n",
      "10 total validation subvolumes for brain 8613\n",
      "10 total validation subvolumes for brain 8589\n",
      "14 total validation subvolumes for brain 8590\n"
     ]
    },
    {
     "data": {
      "text/html": [
       "<pre style=\"white-space:pre;overflow-x:auto;line-height:normal;font-family:Menlo,'DejaVu Sans Mono',consolas,'Courier New',monospace\"><span style=\"font-weight: bold\">&lt;</span><span style=\"color: #ff00ff; text-decoration-color: #ff00ff; font-weight: bold\">AxesSubplot:</span><span style=\"color: #808000; text-decoration-color: #808000; font-weight: bold\">xlabel</span><span style=\"color: #000000; text-decoration-color: #000000\">=</span><span style=\"color: #008000; text-decoration-color: #008000\">'Recall'</span><span style=\"color: #000000; text-decoration-color: #000000\">, </span><span style=\"color: #808000; text-decoration-color: #808000\">ylabel</span><span style=\"color: #000000; text-decoration-color: #000000\">=</span><span style=\"color: #008000; text-decoration-color: #008000\">'Precision'</span><span style=\"font-weight: bold\">&gt;</span>\n",
       "</pre>\n"
      ],
      "text/plain": [
       "\u001b[1m<\u001b[0m\u001b[1;95mAxesSubplot:\u001b[0m\u001b[1;33mxlabel\u001b[0m\u001b[39m=\u001b[0m\u001b[32m'Recall'\u001b[0m\u001b[39m, \u001b[0m\u001b[33mylabel\u001b[0m\u001b[39m=\u001b[0m\u001b[32m'Precision'\u001b[0m\u001b[1m>\u001b[0m\n"
      ]
     },
     "metadata": {},
     "output_type": "display_data"
    },
    {
     "data": {
      "image/png": "[encoded data removed]"
     },
     "metadata": {},
     "output_type": "display_data"
    }
   ],
   "source": [
    "brains = [\"8650\", \"8649\", \n",
    "    \"8613\", \"8589\", \"8590\"]\n",
    "\n",
    "brain_ids = []\n",
    "precisions = []\n",
    "recalls = []\n",
    "\n",
    "best_precisions = []\n",
    "best_recalls = []\n",
    "best_fscores = {}\n",
    "\n",
    "for brain in brains:\n",
    "\n",
    "    base_dir = (\n",
    "        \"/Users/thomasathey/Documents/mimlab/mouselight/ailey/detection_axon/brain\"\n",
    "        + brain\n",
    "        + \"/\"\n",
    "    )\n",
    "\n",
    "    spacing = 0.02\n",
    "    thresholds = np.arange(spacing, 1.0, spacing)\n",
    "    best_fscore = 0\n",
    "\n",
    "    files = os.listdir(base_dir)\n",
    "    files = [base_dir + f for f in files if \"val\" in f]\n",
    "    files = [f for f in files if \"_Probabilities.h5\" in f]\n",
    "    fiiles = [f for f in files if \"val\" in f]\n",
    "\n",
    "    print(f\"{len(files)} total validation subvolumes for brain {brain}\")\n",
    "\n",
    "    for threshold in thresholds:\n",
    "        true_pos_total = 0\n",
    "        false_pos_total = 0\n",
    "        true_labels_total = 0\n",
    "        true_labels_total_neg = 0\n",
    "        for fname_prob in files:\n",
    "\n",
    "            fname_im = fname_prob[:-17] + \".h5\"\n",
    "            f = h5py.File(fname_im, \"r\")\n",
    "            im = f.get(\"image_2channel\")\n",
    "            im_bg = im[0, :, :, :]\n",
    "            im_fg = im[1, :, :, :]\n",
    "\n",
    "            fname_lab = fname_prob[:-17] + \"-image_2channel_Labels.h5\"\n",
    "            f = h5py.File(fname_lab, \"r\")\n",
    "            gt = f.get(\"exported_data\")\n",
    "            gt = gt[0, :, :, :]\n",
    "            pos_labels = gt == 2\n",
    "            neg_labels = gt == 1\n",
    "\n",
    "            f = h5py.File(fname_prob, \"r\")\n",
    "            seg = f.get(\"exported_data\")\n",
    "            seg = seg[1, :, :, :]\n",
    "            mask = seg > threshold\n",
    "\n",
    "            true_pos = np.sum(np.logical_and(mask, pos_labels))\n",
    "            true_pos_total += true_pos\n",
    "            false_pos = np.sum(np.logical_and(mask, gt == 1))\n",
    "            false_pos_total += false_pos\n",
    "            true_labels = np.sum(pos_labels)\n",
    "            true_labels_total += true_labels\n",
    "            true_labels_neg = np.sum(neg_labels)\n",
    "            true_labels_total_neg += true_labels_neg\n",
    "\n",
    "        precision_total = true_pos_total / (true_pos_total + false_pos_total)\n",
    "        recall_total = true_pos_total / true_labels_total\n",
    "\n",
    "        precisions.append(precision_total)\n",
    "        recalls.append(recall_total)\n",
    "        brain_ids.append(brain)\n",
    "\n",
    "        fscore = 2 / (1 / precision_total + 1 / recall_total)\n",
    "\n",
    "        if fscore > best_fscore:\n",
    "            best_fscore = fscore\n",
    "            best_prec = precision_total\n",
    "            best_recall = recall_total\n",
    "            best_threshold = threshold\n",
    "    best_precisions.append(best_prec)\n",
    "    best_recalls.append(best_recall)\n",
    "    best_fscores[brain] = best_fscore\n",
    "for i, brain_id in enumerate(brain_ids):\n",
    "    brain_ids[i] = brain_id + f\" - Max F-score: {best_fscores[brain_id]:.2f}\"\n",
    "\n",
    "data = {\"Sample\": brain_ids, \"Recall\": recalls, \"Precision\": precisions}\n",
    "df = pd.DataFrame(data=data)\n",
    "\n",
    "\n",
    "sns.set(rc={\"figure.figsize\": (10, 7)})\n",
    "sns.set(font_scale=2)\n",
    "sns.lineplot(data=df, x=\"Recall\", y=\"Precision\", hue=\"Sample\")\n",
    "sns.scatterplot(x=best_recalls, y=best_precisions)"
   ]
  },
  {
   "cell_type": "code",
   "execution_count": null,
   "metadata": {},
   "outputs": [],
   "source": [
    "sns.scatterplot(x=best_recalls, y=best_precisions, hue=\"red\")"
   ]
  },
  {
   "cell_type": "code",
   "execution_count": null,
   "metadata": {},
   "outputs": [],
   "source": [
    "json_to_points(\n",
    "    \"https://viz.neurodata.io/?json_url=https://json.neurodata.io/v1?NGStateID=Tizkn7VMAv6B6Q\",\n",
    "    round=True,\n",
    ")"
   ]
  },
  {
   "cell_type": "markdown",
   "metadata": {},
   "source": [
    "### Examine best threshold"
   ]
  },
  {
   "cell_type": "code",
   "execution_count": null,
   "metadata": {},
   "outputs": [],
   "source": [
    "for fname_prob in files:\n",
    "    fname_im = fname_prob[:-17] + \".h5\"\n",
    "    f = h5py.File(fname_im, \"r\")\n",
    "    im = f.get(\"image_2channel\")\n",
    "    im_bg = im[0, :, :, :]\n",
    "    im_fg = im[1, :, :, :]\n",
    "    im_endo = im[2, :, :, :]\n",
    "\n",
    "    fname_lab = fname_prob[:-17] + \"-image_2channel_Labels.h5\"\n",
    "    f = h5py.File(fname_lab, \"r\")\n",
    "    gt = f.get(\"exported_data\")\n",
    "    gt = gt[0, :, :, :]\n",
    "    pos_labels = gt == 2\n",
    "\n",
    "    f = h5py.File(fname_prob, \"r\")\n",
    "    seg = f.get(\"exported_data\")\n",
    "    seg = seg[1, :, :, :]\n",
    "    mask = seg > best_threshold\n",
    "\n",
    "    true_pos = np.sum(np.logical_and(mask, pos_labels))\n",
    "    true_pos_total += true_pos\n",
    "    false_pos = np.sum(np.logical_and(mask, gt == 1))\n",
    "    false_pos_total += false_pos\n",
    "    true_labels = np.sum(pos_labels)\n",
    "    true_labels_total += true_labels\n",
    "\n",
    "    precision = true_pos / (true_pos + false_pos)\n",
    "    recall = true_pos / true_labels\n",
    "    fscore = 2 / (1 / precision + 1 / recall)\n",
    "    print(f\"prec {precision} rec {recall} f {fscore}\")\n",
    "    if fscore < 0.75:\n",
    "        print(fname_prob)\n",
    "        name = fname_prob.split(\"/\")[-1]\n",
    "        viewer = napari.Viewer(ndisplay=3)\n",
    "        viewer.add_image(im_bg, name=name[:-17])\n",
    "        viewer.add_image(im_fg)\n",
    "        viewer.add_image(im_endo)\n",
    "        viewer.add_labels(gt)\n",
    "        viewer.add_labels(mask, name=f\"p:{precision:.2f} r{recall:.2f}\")"
   ]
  },
  {
   "cell_type": "code",
   "execution_count": null,
   "metadata": {},
   "outputs": [],
   "source": [
    "json_to_points(\n",
    "    \"https://viz.neurodata.io/?json_url=https://json.neurodata.io/v1?NGStateID=V1ZmxgI5NeFOaw\",\n",
    "    round=True,\n",
    ")"
   ]
  },
  {
   "cell_type": "markdown",
   "metadata": {},
   "source": [
    "# Make annotation layer"
   ]
  },
  {
   "cell_type": "code",
   "execution_count": null,
   "metadata": {},
   "outputs": [],
   "source": [
    "dir = brain2paths[brain][\"mask\"]\n",
    "\n",
    "\n",
    "info = CloudVolume.create_new_info(\n",
    "    num_channels=1,\n",
    "    layer_type=\"segmentation\",\n",
    "    data_type=\"uint64\",  # Channel images might be 'uint8'\n",
    "    encoding=\"raw\",  # raw, jpeg, compressed_segmentation, fpzip, kempressed\n",
    "    resolution=vol_bg.resolution,  # Voxel scaling, units are in nanometers\n",
    "    voxel_offset=vol_bg.voxel_offset,  # x,y,z offset in voxels from the origin\n",
    "    # mesh            = 'mesh',\n",
    "    # Pick a convenient size for your underlying chunk representation\n",
    "    # Powers of two are recommended, doesn't need to cover image exactly\n",
    "    chunk_size=[128, 128, 2],  # units are voxels\n",
    "    volume_size=vol_bg.volume_size,  # e.g. a cubic millimeter dataset\n",
    ")\n",
    "vol_mask = CloudVolume(dir, info=info)\n",
    "vol_mask.commit_info()"
   ]
  },
  {
   "cell_type": "markdown",
   "metadata": {},
   "source": [
    "cannot write to https link, can write to s3 link"
   ]
  },
  {
   "cell_type": "markdown",
   "metadata": {},
   "source": [
    "# View coronal heat maps"
   ]
  },
  {
   "cell_type": "markdown",
   "metadata": {},
   "source": [
    "\"good\" samples are 8589 for vglut3 and 8650 for gad2"
   ]
  },
  {
   "cell_type": "markdown",
   "metadata": {},
   "source": [
    "### setup atlas"
   ]
  },
  {
   "cell_type": "code",
   "execution_count": 7,
   "metadata": {},
   "outputs": [],
   "source": [
    "import json\n",
    "from parse_ara import *\n",
    "import networkx as nx\n",
    "import numpy as np\n",
    "import matplotlib as mpl\n",
    "import matplotlib.pyplot as plt\n",
    "from pyvis.network import Network\n",
    "\n",
    "# create vikram object\n",
    "f = json.load(\n",
    "    open(\n",
    "        \"/Users/thomasathey/Documents/mimlab/mouselight/brainlit_parent/brainlit/experiments/deisseroth/ara_structure_ontology.json\",\n",
    "        \"r\",\n",
    "    )\n",
    ")\n",
    "\n",
    "tree = build_tree(f)\n",
    "stack = [tree]\n",
    "\n",
    "# create nx graph\n",
    "queue = [tree]\n",
    "cur_level = -1\n",
    "counter = 0\n",
    "G = nx.DiGraph()\n",
    "max_level = 0\n",
    "\n",
    "\n",
    "while len(queue) > 0:\n",
    "    node = queue.pop(0)\n",
    "    if node.level > max_level:\n",
    "        max_level = node.level\n",
    "    G.add_node(\n",
    "        node.id,\n",
    "        level=node.level,\n",
    "        st_level=node.st_level,\n",
    "        name=node.name,\n",
    "        acronym=node.acronym,\n",
    "        label=str(node.st_level) + \") \" + node.name,\n",
    "    )\n",
    "    if node.parent_id is not None:\n",
    "        G.add_edge(node.parent_id, node.id)\n",
    "\n",
    "    queue += node.children"
   ]
  },
  {
   "cell_type": "code",
   "execution_count": 8,
   "metadata": {},
   "outputs": [
    {
     "name": "stdout",
     "output_type": "stream",
     "text": [
      "313: Midbrain\n",
      "528: Cerebellar cortex\n",
      "519: Cerebellar nuclei\n",
      "703: Cortical subplate\n",
      "477: Striatum\n",
      "803: Pallidum\n",
      "549: Thalamus\n",
      "1097: Hypothalamus\n",
      "771: Pons\n",
      "354: Medulla\n",
      "315: Isocortex\n",
      "698: Olfactory areas\n",
      "1089: Hippocampal formation\n"
     ]
    }
   ],
   "source": [
    "atlas_level = 5\n",
    "\n",
    "atlas_level_nodes = []\n",
    "\n",
    "for node in G.nodes:\n",
    "    if G.nodes[node][\"st_level\"] == atlas_level:\n",
    "        atlas_level_nodes.append(node)\n",
    "        print(f\"{node}: {G.nodes[node]['name']}\")"
   ]
  },
  {
   "cell_type": "code",
   "execution_count": 14,
   "metadata": {},
   "outputs": [
    {
     "name": "stdout",
     "output_type": "stream",
     "text": [
      "(1320, 800, 1140)\n"
     ]
    }
   ],
   "source": [
    "type2id = {\"tph2 gad2\": [\"8650\", \"8649\"],\n",
    "\"tph2 vglut3\": [\"8589\", \"8590\", \"8613\"]}\n",
    "type2id = {\"tph2 gad2\": [\"8650\"],\n",
    "\"tph2 vglut3\": [\"8589\"]}\n",
    "\n",
    "vols_transformed_gad = [CloudVolume(brain2paths[id][\"transformed_mask\"]) for id in type2id[\"tph2 gad2\"]]\n",
    "vols_transformed_vglut = [CloudVolume(brain2paths[id][\"transformed_mask\"]) for id in type2id[\"tph2 vglut3\"]]\n",
    "\n",
    "atlas_path = \"/Users/thomasathey/Documents/mimlab/mouselight/ailey/ara/ara_10um.tif\"\n",
    "atlas = io.imread(atlas_path)\n",
    "print(atlas.shape)"
   ]
  },
  {
   "cell_type": "code",
   "execution_count": 15,
   "metadata": {},
   "outputs": [
    {
     "name": "stderr",
     "output_type": "stream",
     "text": [
      "Relabeling in z=100: 100%|██████████| 4/4 [00:00<00:00, 290.30it/s]\n"
     ]
    },
    {
     "name": "stdout",
     "output_type": "stream",
     "text": [
      "{0: '??', 698: 'Olfactory areas', 967: 'cranial nerves'}\n"
     ]
    },
    {
     "name": "stderr",
     "output_type": "stream",
     "text": [
      "Processing labels in z=100: 100%|██████████| 13/13 [00:00<00:00, 72.70it/s]\n",
      "Downloading: 100%|██████████| 1800/1800 [00:11<00:00, 156.68it/s]\n",
      "Downloading: 100%|██████████| 1800/1800 [00:13<00:00, 137.55it/s]\n",
      "Relabeling in z=200: 100%|██████████| 21/21 [00:00<00:00, 463.65it/s]\n"
     ]
    },
    {
     "name": "stdout",
     "output_type": "stream",
     "text": [
      "{0: '??', 698: 'Olfactory areas', 967: 'cranial nerves', 315: 'Isocortex'}\n"
     ]
    },
    {
     "name": "stderr",
     "output_type": "stream",
     "text": [
      "Processing labels in z=200: 100%|██████████| 15/15 [00:00<00:00, 82.18it/s]\n",
      "Downloading: 100%|██████████| 1800/1800 [00:10<00:00, 172.07it/s]\n",
      "Downloading: 100%|██████████| 1800/1800 [00:13<00:00, 136.65it/s]\n",
      "Relabeling in z=300: 100%|██████████| 46/46 [00:00<00:00, 507.00it/s]\n"
     ]
    },
    {
     "name": "stdout",
     "output_type": "stream",
     "text": [
      "{0: '??', 698: 'Olfactory areas', 967: 'cranial nerves', 315: 'Isocortex', 526157184: '??'}\n"
     ]
    },
    {
     "name": "stderr",
     "output_type": "stream",
     "text": [
      "Processing labels in z=300: 100%|██████████| 9/9 [00:00<00:00, 81.73it/s]\n",
      "Downloading: 100%|██████████| 900/900 [00:05<00:00, 156.59it/s]\n",
      "Downloading: 100%|██████████| 900/900 [00:06<00:00, 143.16it/s]\n",
      "Relabeling in z=400: 100%|██████████| 67/67 [00:00<00:00, 532.87it/s]\n"
     ]
    },
    {
     "name": "stdout",
     "output_type": "stream",
     "text": [
      "{0: '??', 698: 'Olfactory areas', 967: 'cranial nerves', 315: 'Isocortex', 526157184: '??', 477: 'Striatum', 73: 'ventricular systems', 803: 'Pallidum', 983: 'lateral forebrain bundle system', 703: 'Cortical subplate', 991: 'medial forebrain bundle system', 997: 'root', 1089: 'Hippocampal formation'}\n"
     ]
    },
    {
     "name": "stderr",
     "output_type": "stream",
     "text": [
      "Processing labels in z=400: 100%|██████████| 33/33 [00:00<00:00, 87.20it/s]\n",
      "Downloading: 100%|██████████| 900/900 [00:05<00:00, 164.06it/s]\n",
      "Downloading: 100%|██████████| 900/900 [00:06<00:00, 135.91it/s]\n",
      "Relabeling in z=500: 100%|██████████| 104/104 [00:00<00:00, 472.52it/s]\n"
     ]
    },
    {
     "name": "stdout",
     "output_type": "stream",
     "text": [
      "{0: '??', 698: 'Olfactory areas', 967: 'cranial nerves', 315: 'Isocortex', 526157184: '??', 477: 'Striatum', 73: 'ventricular systems', 803: 'Pallidum', 983: 'lateral forebrain bundle system', 703: 'Cortical subplate', 991: 'medial forebrain bundle system', 997: 'root', 1089: 'Hippocampal formation', 1097: 'Hypothalamus', 1009: 'fiber tracts', 182305696: '??', 182305712: '??'}\n"
     ]
    },
    {
     "name": "stderr",
     "output_type": "stream",
     "text": [
      "Processing labels in z=500: 100%|██████████| 61/61 [00:00<00:00, 81.76it/s]\n",
      "Downloading: 100%|██████████| 900/900 [00:05<00:00, 162.37it/s]\n",
      "Downloading: 100%|██████████| 900/900 [00:06<00:00, 134.98it/s]\n",
      "Relabeling in z=600: 100%|██████████| 135/135 [00:00<00:00, 374.53it/s]\n"
     ]
    },
    {
     "name": "stdout",
     "output_type": "stream",
     "text": [
      "{0: '??', 698: 'Olfactory areas', 967: 'cranial nerves', 315: 'Isocortex', 526157184: '??', 477: 'Striatum', 73: 'ventricular systems', 803: 'Pallidum', 983: 'lateral forebrain bundle system', 703: 'Cortical subplate', 991: 'medial forebrain bundle system', 997: 'root', 1089: 'Hippocampal formation', 1097: 'Hypothalamus', 1009: 'fiber tracts', 182305696: '??', 182305712: '??', 549: 'Thalamus', 1000: 'extrapyramidal fiber systems', 560581568: '??'}\n"
     ]
    },
    {
     "name": "stderr",
     "output_type": "stream",
     "text": [
      "Processing labels in z=600: 100%|██████████| 89/89 [00:01<00:00, 70.82it/s]\n",
      "Downloading: 100%|██████████| 1800/1800 [00:10<00:00, 170.73it/s]\n",
      "Downloading: 100%|██████████| 1800/1800 [00:12<00:00, 139.72it/s]\n",
      "Relabeling in z=700: 100%|██████████| 159/159 [00:00<00:00, 353.73it/s]\n"
     ]
    },
    {
     "name": "stdout",
     "output_type": "stream",
     "text": [
      "{0: '??', 698: 'Olfactory areas', 967: 'cranial nerves', 315: 'Isocortex', 526157184: '??', 477: 'Striatum', 73: 'ventricular systems', 803: 'Pallidum', 983: 'lateral forebrain bundle system', 703: 'Cortical subplate', 991: 'medial forebrain bundle system', 997: 'root', 1089: 'Hippocampal formation', 1097: 'Hypothalamus', 1009: 'fiber tracts', 182305696: '??', 182305712: '??', 549: 'Thalamus', 1000: 'extrapyramidal fiber systems', 560581568: '??', 312782560: '??'}\n"
     ]
    },
    {
     "name": "stderr",
     "output_type": "stream",
     "text": [
      "Processing labels in z=700: 100%|██████████| 194/194 [00:02<00:00, 76.89it/s]\n",
      "Downloading: 100%|██████████| 1800/1800 [00:11<00:00, 161.53it/s]\n",
      "Downloading: 100%|██████████| 1800/1800 [00:13<00:00, 137.03it/s]\n",
      "Relabeling in z=800: 100%|██████████| 163/163 [00:00<00:00, 346.01it/s]\n"
     ]
    },
    {
     "name": "stdout",
     "output_type": "stream",
     "text": [
      "{0: '??', 698: 'Olfactory areas', 967: 'cranial nerves', 315: 'Isocortex', 526157184: '??', 477: 'Striatum', 73: 'ventricular systems', 803: 'Pallidum', 983: 'lateral forebrain bundle system', 703: 'Cortical subplate', 991: 'medial forebrain bundle system', 997: 'root', 1089: 'Hippocampal formation', 1097: 'Hypothalamus', 1009: 'fiber tracts', 182305696: '??', 182305712: '??', 549: 'Thalamus', 1000: 'extrapyramidal fiber systems', 560581568: '??', 312782560: '??', 313: 'Midbrain', 312782592: '??', 484682464: '??', 549009216: '??', 563807424: '??', 589508416: '??', 599626944: '??', 606826624: '??', 606826688: '??'}\n"
     ]
    },
    {
     "name": "stderr",
     "output_type": "stream",
     "text": [
      "Processing labels in z=800: 100%|██████████| 141/141 [00:01<00:00, 77.53it/s]\n",
      "Downloading: 100%|██████████| 1800/1800 [00:10<00:00, 164.70it/s]\n",
      "Downloading: 100%|██████████| 1800/1800 [00:13<00:00, 136.48it/s]\n",
      "Relabeling in z=900: 100%|██████████| 124/124 [00:00<00:00, 501.99it/s]\n"
     ]
    },
    {
     "name": "stdout",
     "output_type": "stream",
     "text": [
      "{0: '??', 698: 'Olfactory areas', 967: 'cranial nerves', 315: 'Isocortex', 526157184: '??', 477: 'Striatum', 73: 'ventricular systems', 803: 'Pallidum', 983: 'lateral forebrain bundle system', 703: 'Cortical subplate', 991: 'medial forebrain bundle system', 997: 'root', 1089: 'Hippocampal formation', 1097: 'Hypothalamus', 1009: 'fiber tracts', 182305696: '??', 182305712: '??', 549: 'Thalamus', 1000: 'extrapyramidal fiber systems', 560581568: '??', 312782560: '??', 313: 'Midbrain', 312782592: '??', 484682464: '??', 549009216: '??', 563807424: '??', 589508416: '??', 599626944: '??', 606826624: '??', 606826688: '??', 960: 'cerebellum related fiber tracts', 771: 'Pons', 512: 'Cerebellum', 312782656: '??', 607344832: '??'}\n"
     ]
    },
    {
     "name": "stderr",
     "output_type": "stream",
     "text": [
      "Processing labels in z=900: 100%|██████████| 105/105 [00:01<00:00, 95.34it/s]\n",
      "Downloading: 100%|██████████| 1800/1800 [00:11<00:00, 162.96it/s]\n",
      "Downloading: 100%|██████████| 1800/1800 [00:13<00:00, 133.89it/s]\n",
      "Relabeling in z=1000: 100%|██████████| 80/80 [00:00<00:00, 502.19it/s]\n"
     ]
    },
    {
     "name": "stdout",
     "output_type": "stream",
     "text": [
      "{0: '??', 698: 'Olfactory areas', 967: 'cranial nerves', 315: 'Isocortex', 526157184: '??', 477: 'Striatum', 73: 'ventricular systems', 803: 'Pallidum', 983: 'lateral forebrain bundle system', 703: 'Cortical subplate', 991: 'medial forebrain bundle system', 997: 'root', 1089: 'Hippocampal formation', 1097: 'Hypothalamus', 1009: 'fiber tracts', 182305696: '??', 182305712: '??', 549: 'Thalamus', 1000: 'extrapyramidal fiber systems', 560581568: '??', 312782560: '??', 313: 'Midbrain', 312782592: '??', 484682464: '??', 549009216: '??', 563807424: '??', 589508416: '??', 599626944: '??', 606826624: '??', 606826688: '??', 960: 'cerebellum related fiber tracts', 771: 'Pons', 512: 'Cerebellum', 312782656: '??', 607344832: '??', 354: 'Medulla', 528: 'Cerebellar cortex'}\n"
     ]
    },
    {
     "name": "stderr",
     "output_type": "stream",
     "text": [
      "Processing labels in z=1000: 100%|██████████| 92/92 [00:00<00:00, 95.38it/s]\n",
      "Downloading: 100%|██████████| 1800/1800 [00:11<00:00, 159.19it/s]\n",
      "Downloading: 100%|██████████| 1800/1800 [00:13<00:00, 134.07it/s]\n",
      "Relabeling in z=1100: 100%|██████████| 56/56 [00:00<00:00, 410.82it/s]\n"
     ]
    },
    {
     "name": "stdout",
     "output_type": "stream",
     "text": [
      "{0: '??', 698: 'Olfactory areas', 967: 'cranial nerves', 315: 'Isocortex', 526157184: '??', 477: 'Striatum', 73: 'ventricular systems', 803: 'Pallidum', 983: 'lateral forebrain bundle system', 703: 'Cortical subplate', 991: 'medial forebrain bundle system', 997: 'root', 1089: 'Hippocampal formation', 1097: 'Hypothalamus', 1009: 'fiber tracts', 182305696: '??', 182305712: '??', 549: 'Thalamus', 1000: 'extrapyramidal fiber systems', 560581568: '??', 312782560: '??', 313: 'Midbrain', 312782592: '??', 484682464: '??', 549009216: '??', 563807424: '??', 589508416: '??', 599626944: '??', 606826624: '??', 606826688: '??', 960: 'cerebellum related fiber tracts', 771: 'Pons', 512: 'Cerebellum', 312782656: '??', 607344832: '??', 354: 'Medulla', 528: 'Cerebellar cortex', 519: 'Cerebellar nuclei'}\n"
     ]
    },
    {
     "name": "stderr",
     "output_type": "stream",
     "text": [
      "Processing labels in z=1100: 100%|██████████| 72/72 [00:00<00:00, 85.01it/s]\n",
      "Downloading: 100%|██████████| 900/900 [00:05<00:00, 159.75it/s]\n",
      "Downloading: 100%|██████████| 900/900 [00:07<00:00, 127.40it/s]\n",
      "Relabeling in z=1200: 100%|██████████| 49/49 [00:00<00:00, 435.30it/s]\n"
     ]
    },
    {
     "name": "stdout",
     "output_type": "stream",
     "text": [
      "{0: '??', 698: 'Olfactory areas', 967: 'cranial nerves', 315: 'Isocortex', 526157184: '??', 477: 'Striatum', 73: 'ventricular systems', 803: 'Pallidum', 983: 'lateral forebrain bundle system', 703: 'Cortical subplate', 991: 'medial forebrain bundle system', 997: 'root', 1089: 'Hippocampal formation', 1097: 'Hypothalamus', 1009: 'fiber tracts', 182305696: '??', 182305712: '??', 549: 'Thalamus', 1000: 'extrapyramidal fiber systems', 560581568: '??', 312782560: '??', 313: 'Midbrain', 312782592: '??', 484682464: '??', 549009216: '??', 563807424: '??', 589508416: '??', 599626944: '??', 606826624: '??', 606826688: '??', 960: 'cerebellum related fiber tracts', 771: 'Pons', 512: 'Cerebellum', 312782656: '??', 607344832: '??', 354: 'Medulla', 528: 'Cerebellar cortex', 519: 'Cerebellar nuclei'}\n"
     ]
    },
    {
     "name": "stderr",
     "output_type": "stream",
     "text": [
      "Processing labels in z=1200: 100%|██████████| 50/50 [00:00<00:00, 84.99it/s]\n",
      "Downloading: 100%|██████████| 900/900 [00:05<00:00, 167.39it/s]\n",
      "Downloading: 100%|██████████| 900/900 [00:07<00:00, 125.49it/s]\n"
     ]
    }
   ],
   "source": [
    "def find_atlas_level_label(label, atlas_level_nodes, atlas_level, G):\n",
    "    if label == 0 or label not in G.nodes or G.nodes[label][\"st_level\"] <= atlas_level:\n",
    "        return label\n",
    "    else:\n",
    "        counter = 0\n",
    "        # find which region of atlas_level is parent\n",
    "        for atlas_level_node in atlas_level_nodes:\n",
    "            if label in nx.algorithms.dag.descendants(G, source=atlas_level_node):\n",
    "                counter += 1\n",
    "                atlas_level_label = atlas_level_node\n",
    "        if counter == 0:\n",
    "            preds = list(G.predecessors(label))\n",
    "            if len(preds) != 1:\n",
    "                raise ValueError(f\"{len(preds)} predecessors of node {label}\")\n",
    "            atlas_level_label = find_atlas_level_label(preds[0], atlas_level_nodes, atlas_level, G)\n",
    "            counter += 1\n",
    "        if counter != 1:\n",
    "            raise ValueError(f\"{counter} atlas level predecessors of {label}\")\n",
    "        return atlas_level_label\n",
    "\n",
    "\n",
    "def fold(image):\n",
    "    half_width = np.round(image.shape[1]/2).astype(int)\n",
    "    left = image[:,:half_width]\n",
    "    right = image[:,half_width:]\n",
    "    left = left + np.flip(right, axis=1)\n",
    "    return left\n",
    "\n",
    "\n",
    "new_labels = {}\n",
    "for z in np.arange(100, 1300, 100):\n",
    "    slice = atlas[z, :, :]\n",
    "    newslice = np.copy(slice)\n",
    "    for label in tqdm(np.unique(slice), desc=f\"Relabeling in z={z}\"):\n",
    "        atlas_level_label = find_atlas_level_label(label, atlas_level_nodes, atlas_level, G)\n",
    "        newslice[slice == label] = atlas_level_label\n",
    "        if atlas_level_label not in new_labels.keys():\n",
    "            if atlas_level_label in G.nodes:\n",
    "                name = G.nodes[atlas_level_label][\"name\"]\n",
    "            else:\n",
    "                name = \"??\"\n",
    "            new_labels[atlas_level_label] = name\n",
    "\n",
    "    print(new_labels)\n",
    "\n",
    "    labels = measure.label(newslice)\n",
    "    borders = 0 * labels\n",
    "    for label in tqdm(np.unique(labels), desc=f\"Processing labels in z={z}\"):\n",
    "        if label != 0:\n",
    "            mask = np.array(labels == label, dtype=\"int\")\n",
    "            erode = np.array(ndi.binary_erosion(mask))\n",
    "            outline = mask - erode\n",
    "            borders += outline\n",
    "\n",
    "    v = napari.Viewer()\n",
    "    #v.add_labels(newslice, scale = [10,10])\n",
    "\n",
    "    #get projection data\n",
    "    for volnum, vol_transformed_gad in enumerate(vols_transformed_gad):\n",
    "        slice_gad = np.squeeze(vol_transformed_gad[z-10:z+10,:,:])\n",
    "        slice_gad = ndi.gaussian_filter(slice_gad.astype(float), sigma=(3,3,3))[10,:,:]\n",
    "        slice_gad[newslice == 0] = 0\n",
    "        if volnum == 0:\n",
    "            slice_gad_total = slice_gad\n",
    "        else:\n",
    "            slice_gad_total += slice_gad\n",
    "\n",
    "    for volnum, vol_transformed_vglut in enumerate(vols_transformed_vglut):\n",
    "        slice_vglut = np.squeeze(vol_transformed_vglut[z-10:z+10,:,:])\n",
    "        slice_vglut = ndi.gaussian_filter(slice_vglut.astype(float), sigma=(3,3,3))[10,:,:]\n",
    "        slice_vglut[newslice == 0] = 0\n",
    "        if volnum == 0:\n",
    "            slice_vglut_total = slice_vglut\n",
    "        else:\n",
    "            slice_vglut_total += slice_vglut\n",
    "\n",
    "    #only show hemisphere\n",
    "    slice_vglut_total /= np.amax(slice_vglut_total)\n",
    "    slice_gad_total /= np.amax(slice_gad_total)\n",
    "\n",
    "    slice_gad_total = fold(slice_gad_total)\n",
    "    slice_vglut_total = fold(slice_vglut_total)\n",
    "    borders = borders[:,:int(borders.shape[1]/2)]\n",
    "\n",
    "    projections= np.stack([slice_gad_total,slice_vglut_total,0*slice_vglut_total], axis = -1)\n",
    "    v.add_image(projections, rgb=True, scale = [10,10], name=f\"vglut=green,gad2=red\")\n",
    "    v.add_labels(borders*2, scale = [10,10], name=f\"z={z}\")\n",
    "    v.scale_bar.unit = \"um\"\n",
    "    v.scale_bar.visible = True\n"
   ]
  },
  {
   "cell_type": "markdown",
   "metadata": {},
   "source": [
    "## Registration"
   ]
  },
  {
   "cell_type": "code",
   "execution_count": null,
   "metadata": {},
   "outputs": [],
   "source": [
    "# downsample\n",
    "im_path = \"/Users/thomasathey/Documents/mimlab/mouselight/ailey/wholebrain_results/brain4/register/registered_2.img\"\n",
    "im = io.imread(im_path)\n",
    "print(im.shape)\n",
    "print(np.unique(im))\n",
    "\n",
    "im = im.astype(\"float\")\n",
    "\n",
    "im_ds = ndi.zoom(im, (0.4, 0.4, 0.4))\n",
    "print(im_ds.shape)\n",
    "print(np.unique(im_ds))\n",
    "\n",
    "np.save(\n",
    "    \"/Users/thomasathey/Documents/mimlab/mouselight/ailey/wholebrain_results/brain4/register/registered_3_ds.npy\",\n",
    "    im_ds,\n",
    ")"
   ]
  },
  {
   "cell_type": "code",
   "execution_count": null,
   "metadata": {},
   "outputs": [],
   "source": [
    "im_path = \"/Users/thomasathey/Documents/mimlab/mouselight/ailey/wholebrain_results/brain4/register/axon_mask_1_0.tif\"\n",
    "im = io.imread(im_path)\n",
    "print(im.shape)\n",
    "print(np.sum(im))"
   ]
  },
  {
   "cell_type": "code",
   "execution_count": null,
   "metadata": {},
   "outputs": [],
   "source": [
    "brain = \"brain3\"\n",
    "\n",
    "# im_path = \"/Users/thomasathey/Documents/mimlab/mouselight/ailey/wholebrain_results/brain3/register/registered_3_ds.npy\"\n",
    "# im = np.load(im_path)\n",
    "# print(im.shape)\n",
    "\n",
    "# im_path = \"/Users/thomasathey/Documents/mimlab/mouselight/ailey/wholebrain_results/brain3/register/axon_mask_3.tif\"\n",
    "# im_unreg = io.imread(im_path)\n",
    "# print(im_unreg.shape)\n",
    "\n",
    "\n",
    "im_path = (\n",
    "    \"/Users/thomasathey/Documents/mimlab/mouselight/ailey/wholebrain_results/\"\n",
    "    + brain\n",
    "    + \"/register/registered_1.img\"\n",
    ")\n",
    "im_reg2 = io.imread(im_path)\n",
    "print(im_reg2.shape)\n",
    "\n",
    "# im_path = \"/Users/thomasathey/Documents/mimlab/mouselight/ailey/wholebrain_results/\" + brain + \"/register/registered_3.img\"\n",
    "# im_reg3 = io.imread(im_path)\n",
    "# print(im_reg3.shape)\n",
    "\n",
    "# vol = CloudVolume(\n",
    "#     \"s3://open-neurodata/ara_2016/sagittal_10um/annotation_10um_2017\", mip=0, use_https=True\n",
    "# )\n",
    "# print(vol.shape)\n",
    "# atlas = vol[:,:,:,:]\n",
    "# atlas = np.squeeze(atlas).T\n",
    "# print(atlas.shape)\n",
    "# len(np.unique(atlas))\n",
    "\n",
    "im_path = \"/Users/thomasathey/Documents/mimlab/mouselight/ailey/wholebrain_results/ara_10um.tif\"\n",
    "atlas = io.imread(im_path)\n",
    "print(atlas.shape)"
   ]
  },
  {
   "cell_type": "code",
   "execution_count": null,
   "metadata": {},
   "outputs": [],
   "source": [
    "smooth = ndi.gaussian_filter(im_reg2.astype(\"float\"), sigma=3)\n",
    "# smooth = ndi.zoom(smooth, (0.4,0.4,0.4))"
   ]
  },
  {
   "cell_type": "code",
   "execution_count": null,
   "metadata": {},
   "outputs": [],
   "source": [
    "viewer = napari.Viewer(ndisplay=3)\n",
    "animation_widget = AnimationWidget(viewer)\n",
    "viewer.window.add_dock_widget(animation_widget, area=\"right\")\n",
    "# viewer.add_image(im)\n",
    "viewer.add_image(smooth)\n",
    "# viewer.add_image(im_reg2)\n",
    "# viewer.add_image(im_reg3)\n",
    "viewer.add_labels(atlas)\n",
    "napari.run()"
   ]
  },
  {
   "cell_type": "code",
   "execution_count": null,
   "metadata": {},
   "outputs": [],
   "source": [
    "for z in [180, 430, 680, 1030, 1280]:\n",
    "\n",
    "    slice = atlas[:, :, z]\n",
    "    slice_data = smooth[:, :, z]  # np.sum(im_reg[:,:,z], axis=2)\n",
    "    mn = np.amin(slice_data)\n",
    "    print(np.unique(slice_data))\n",
    "    slice_data[slice == 0] = mn\n",
    "    labels = measure.label(slice)\n",
    "    # plt.imshow(labels)\n",
    "\n",
    "    borders = 0 * labels\n",
    "    for label in np.unique(labels):\n",
    "        if label != 0:\n",
    "            mask = np.array(labels == label, dtype=\"int\")\n",
    "            erode = np.array(ndi.binary_erosion(mask))\n",
    "            outline = mask - erode\n",
    "            borders += outline\n",
    "\n",
    "    print(np.unique(borders))\n",
    "    borders = borders.astype(\"float\")\n",
    "    borders_layer = np.zeros((borders.shape[0], borders.shape[1], 4))\n",
    "    for rgba in range(borders_layer.shape[2]):\n",
    "        borders_layer[:, :, rgba] = borders\n",
    "\n",
    "    slice_data = ndi.rotate(slice_data, 270)\n",
    "    plt.imshow(slice_data, cmap=\"inferno\")\n",
    "    borders_layer = ndi.rotate(borders_layer, 270)\n",
    "    plt.imshow(borders_layer, cmap=\"gray\")\n",
    "\n",
    "    fig = plt.gcf()\n",
    "    fig.set_size_inches(18.5, 10.5)\n",
    "    fig.savefig(\"/Users/thomasathey/Desktop/\" + str(z) + \".png\", dpi=100)"
   ]
  },
  {
   "cell_type": "markdown",
   "metadata": {},
   "source": [
    "# Atlas readout??"
   ]
  },
  {
   "cell_type": "code",
   "execution_count": 2,
   "metadata": {},
   "outputs": [
    {
     "ename": "NameError",
     "evalue": "name 'vol_mask' is not defined",
     "output_type": "error",
     "traceback": [
      "\u001b[0;31m---------------------------------------------------------------------------\u001b[0m",
      "\u001b[0;31mNameError\u001b[0m                                 Traceback (most recent call last)",
      "\u001b[0;32m/var/folders/fq/9t66hqz51y5ddnygddgjtsmc0000gn/T/ipykernel_2486/2290316936.py\u001b[0m in \u001b[0;36m<module>\u001b[0;34m\u001b[0m\n\u001b[1;32m      1\u001b[0m \u001b[0mvolumes\u001b[0m \u001b[0;34m=\u001b[0m \u001b[0;34m{\u001b[0m\u001b[0;34m}\u001b[0m\u001b[0;34m\u001b[0m\u001b[0;34m\u001b[0m\u001b[0m\n\u001b[0;32m----> 2\u001b[0;31m \u001b[0;32mfor\u001b[0m \u001b[0mx\u001b[0m \u001b[0;32min\u001b[0m \u001b[0mtqdm\u001b[0m\u001b[0;34m(\u001b[0m\u001b[0mnp\u001b[0m\u001b[0;34m.\u001b[0m\u001b[0marange\u001b[0m\u001b[0;34m(\u001b[0m\u001b[0;36m0\u001b[0m\u001b[0;34m,\u001b[0m \u001b[0mvol_mask\u001b[0m\u001b[0;34m.\u001b[0m\u001b[0mshape\u001b[0m\u001b[0;34m[\u001b[0m\u001b[0;36m0\u001b[0m\u001b[0;34m]\u001b[0m\u001b[0;34m,\u001b[0m \u001b[0;36m128\u001b[0m\u001b[0;34m)\u001b[0m\u001b[0;34m)\u001b[0m\u001b[0;34m:\u001b[0m\u001b[0;34m\u001b[0m\u001b[0;34m\u001b[0m\u001b[0m\n\u001b[0m\u001b[1;32m      3\u001b[0m     \u001b[0mx2\u001b[0m \u001b[0;34m=\u001b[0m \u001b[0mnp\u001b[0m\u001b[0;34m.\u001b[0m\u001b[0mamin\u001b[0m\u001b[0;34m(\u001b[0m\u001b[0;34m[\u001b[0m\u001b[0mx\u001b[0m \u001b[0;34m+\u001b[0m \u001b[0;36m128\u001b[0m\u001b[0;34m,\u001b[0m \u001b[0mvol_mask\u001b[0m\u001b[0;34m.\u001b[0m\u001b[0mshape\u001b[0m\u001b[0;34m[\u001b[0m\u001b[0;36m0\u001b[0m\u001b[0;34m]\u001b[0m\u001b[0;34m]\u001b[0m\u001b[0;34m)\u001b[0m\u001b[0;34m\u001b[0m\u001b[0;34m\u001b[0m\u001b[0m\n\u001b[1;32m      4\u001b[0m     \u001b[0;32mfor\u001b[0m \u001b[0my\u001b[0m \u001b[0;32min\u001b[0m \u001b[0mtqdm\u001b[0m\u001b[0;34m(\u001b[0m\u001b[0mnp\u001b[0m\u001b[0;34m.\u001b[0m\u001b[0marange\u001b[0m\u001b[0;34m(\u001b[0m\u001b[0;36m0\u001b[0m\u001b[0;34m,\u001b[0m \u001b[0mvol_mask\u001b[0m\u001b[0;34m.\u001b[0m\u001b[0mshape\u001b[0m\u001b[0;34m[\u001b[0m\u001b[0;36m1\u001b[0m\u001b[0;34m]\u001b[0m\u001b[0;34m,\u001b[0m \u001b[0;36m128\u001b[0m\u001b[0;34m)\u001b[0m\u001b[0;34m,\u001b[0m \u001b[0mleave\u001b[0m\u001b[0;34m=\u001b[0m\u001b[0;32mFalse\u001b[0m\u001b[0;34m)\u001b[0m\u001b[0;34m:\u001b[0m\u001b[0;34m\u001b[0m\u001b[0;34m\u001b[0m\u001b[0m\n\u001b[1;32m      5\u001b[0m         \u001b[0my2\u001b[0m \u001b[0;34m=\u001b[0m \u001b[0mnp\u001b[0m\u001b[0;34m.\u001b[0m\u001b[0mamin\u001b[0m\u001b[0;34m(\u001b[0m\u001b[0;34m[\u001b[0m\u001b[0mx\u001b[0m \u001b[0;34m+\u001b[0m \u001b[0;36m128\u001b[0m\u001b[0;34m,\u001b[0m \u001b[0mvol_mask\u001b[0m\u001b[0;34m.\u001b[0m\u001b[0mshape\u001b[0m\u001b[0;34m[\u001b[0m\u001b[0;36m1\u001b[0m\u001b[0;34m]\u001b[0m\u001b[0;34m]\u001b[0m\u001b[0;34m)\u001b[0m\u001b[0;34m\u001b[0m\u001b[0;34m\u001b[0m\u001b[0m\n",
      "\u001b[0;31mNameError\u001b[0m: name 'vol_mask' is not defined"
     ]
    }
   ],
   "source": [
    "volumes = {}\n",
    "for x in tqdm(np.arange(0, vol_mask.shape[0], 128)):\n",
    "    x2 = np.amin([x + 128, vol_mask.shape[0]])\n",
    "    for y in tqdm(np.arange(0, vol_mask.shape[1], 128), leave=False):\n",
    "        y2 = np.amin([x + 128, vol_mask.shape[1]])\n",
    "        for z in tqdm(np.arange(0, vol_mask.shape[2], 128), leave=False):\n",
    "            z2 = np.amin([x + 128, vol_mask.shape[2]])\n",
    "            labels = vol_reg[x:x2, y:y2, z:z2]\n",
    "            labels_unique = np.unique(labels)\n",
    "            mask = vol_mask[x:x2, y:y2, z:z2]\n",
    "\n",
    "            for unq in labels_unique:\n",
    "                if unq in volumes.keys():\n",
    "                    cur_vol = volumes[unq][1]\n",
    "                    cur_total = volumes[unq][0]\n",
    "                else:\n",
    "                    cur_vol = 0\n",
    "                    cur_total = 0\n",
    "                cur_vol += np.sum(mask[labels == unq])\n",
    "                cur_total += np.sum(labels == unq)\n",
    "                volumes[unq] = [cur_total, cur_vol]"
   ]
  },
  {
   "cell_type": "markdown",
   "metadata": {},
   "source": [
    "# Read quantification dictionary"
   ]
  },
  {
   "cell_type": "code",
   "execution_count": 26,
   "metadata": {},
   "outputs": [],
   "source": [
    "brains = {\n",
    "    # \"3\": \"sert cre\",\n",
    "    # \"4\": \"sert cre\",\n",
    "    \"8613\": \"tph2 vglut3\",\n",
    "    # \"8604\": \"tbd\",\n",
    "    \"8650\": \"tph2 gad2\",\n",
    "    \"8589\": \"tph2 vglut3\",\n",
    "    #\"8590\": \"tph2 vglut3\",\n",
    "    #\"8649\": \"tph2 gad2\"\n",
    "}\n",
    "counts = {}\n",
    "for gene in set(brains.values()):\n",
    "    count = 0\n",
    "    for brain in brains.keys():\n",
    "        if brains[brain] == gene:\n",
    "            count += 1\n",
    "    counts[gene] = count\n",
    "\n",
    "\n",
    "quantification_dicts = {}\n",
    "\n",
    "for brain in brains.keys():\n",
    "    path = (\n",
    "        \"/Users/thomasathey/Documents/mimlab/mouselight/ailey/detection_axon/wholebrain_results/wholebrain_\"\n",
    "        + brain\n",
    "        + \".pkl\"\n",
    "    )\n",
    "    with open(path, \"rb\") as f:\n",
    "        quantification_dict = pickle.load(f)\n",
    "\n",
    "    quantification_dicts[brain] = quantification_dict"
   ]
  },
  {
   "cell_type": "code",
   "execution_count": 27,
   "metadata": {},
   "outputs": [],
   "source": [
    "regions = [688, 698, 1089, 583, 477, 803, 703, 1097, 549, 313, 1065]\n",
    "allen_regions = [\n",
    "    315,\n",
    "    698,\n",
    "    1089,\n",
    "    703,\n",
    "    477,\n",
    "    803,\n",
    "    549,\n",
    "    1097,\n",
    "    313,\n",
    "    771,\n",
    "    354,\n",
    "    512,\n",
    "]  # https://connectivity.brain-map.org/projection/experiment/480074702?imageId=480075280&initImage=TWO_PHOTON&x=17028&y=11704&z=3"
   ]
  },
  {
   "cell_type": "code",
   "execution_count": 28,
   "metadata": {},
   "outputs": [],
   "source": [
    "f = json.load(\n",
    "    open(\n",
    "        \"/Users/thomasathey/Documents/mimlab/mouselight/brainlit_parent/brainlit/experiments/deisseroth/ara_structure_ontology.json\",\n",
    "        \"r\",\n",
    "    )\n",
    ")\n",
    "\n",
    "tree = build_tree(f)\n",
    "stack = [tree]"
   ]
  },
  {
   "cell_type": "code",
   "execution_count": 29,
   "metadata": {},
   "outputs": [
    {
     "name": "stdout",
     "output_type": "stream",
     "text": [
      "Max level: 10\n",
      "0\n",
      "0\n",
      "2343053.0\n",
      "196340416.0\n",
      "493480545.0\n",
      "27103979712.0\n"
     ]
    }
   ],
   "source": [
    "queue = [tree]\n",
    "cur_level = -1\n",
    "counter = 0\n",
    "G = nx.DiGraph()\n",
    "max_level = 0\n",
    "\n",
    "\n",
    "while len(queue) > 0:\n",
    "    node = queue.pop(0)\n",
    "    if node.level > max_level:\n",
    "        max_level = node.level\n",
    "    G.add_node(\n",
    "        node.id,\n",
    "        level=node.level,\n",
    "        st_level=node.st_level,\n",
    "        name=node.name,\n",
    "        acronym=node.acronym,\n",
    "        label=str(node.st_level) + \") \" + node.name,\n",
    "    )\n",
    "    for brain in quantification_dicts.keys():\n",
    "        G.nodes[node.id][brain + \" axon\"] = 0\n",
    "        G.nodes[node.id][brain + \" total\"] = 0\n",
    "    if node.parent_id is not None:\n",
    "        G.add_edge(node.parent_id, node.id)\n",
    "\n",
    "    queue += node.children\n",
    "\n",
    "i_test = 0\n",
    "print(f\"Max level: {max_level}\")\n",
    "print(G.nodes[997][list(quantification_dicts.keys())[i_test] + \" axon\"])\n",
    "print(G.nodes[997][list(quantification_dicts.keys())[i_test] + \" total\"])\n",
    "for brain, quantification_dict in quantification_dicts.items():\n",
    "    for key in quantification_dict.keys():\n",
    "        if key in G.nodes:\n",
    "            G.nodes[key][brain + \" axon\"] = G.nodes[key][brain + \" axon\"] + float(\n",
    "                quantification_dict[key][1]\n",
    "            )\n",
    "            G.nodes[key][brain + \" total\"] = G.nodes[key][brain + \" total\"] + float(\n",
    "                quantification_dict[key][0]\n",
    "            )\n",
    "print(G.nodes[997][list(quantification_dicts.keys())[i_test] + \" axon\"])\n",
    "print(G.nodes[997][list(quantification_dicts.keys())[i_test] + \" total\"])\n",
    "\n",
    "for brain in quantification_dicts.keys():\n",
    "    for lvl in range(max_level, 0, -1):\n",
    "        for node in G.nodes:\n",
    "            if G.nodes[node][\"level\"] == lvl:\n",
    "                parent = list(G.in_edges(node))[0][0]\n",
    "                G.nodes[parent][brain + \" axon\"] = (\n",
    "                    G.nodes[parent][brain + \" axon\"] + G.nodes[node][brain + \" axon\"]\n",
    "                )\n",
    "                G.nodes[parent][brain + \" total\"] = (\n",
    "                    G.nodes[parent][brain + \" total\"] + G.nodes[node][brain + \" total\"]\n",
    "                )\n",
    "print(G.nodes[997][list(quantification_dicts.keys())[i_test] + \" axon\"])\n",
    "print(G.nodes[997][list(quantification_dicts.keys())[i_test] + \" total\"])"
   ]
  },
  {
   "cell_type": "markdown",
   "metadata": {},
   "source": [
    "## pandas + seaborn"
   ]
  },
  {
   "cell_type": "code",
   "execution_count": 30,
   "metadata": {},
   "outputs": [],
   "source": [
    "import pandas as pd\n",
    "import seaborn as sns\n",
    "import matplotlib.pyplot as plt\n",
    "import xml.etree.ElementTree as ET"
   ]
  },
  {
   "cell_type": "code",
   "execution_count": 31,
   "metadata": {},
   "outputs": [
    {
     "name": "stdout",
     "output_type": "stream",
     "text": [
      "Populating: Cerebral cortex\n",
      "Populating: Olfactory areas\n",
      "Populating: Hippocampal formation\n",
      "Populating: Claustrum\n",
      "Populating: Striatum\n",
      "Populating: Pallidum\n",
      "Populating: Cortical subplate\n",
      "Populating: Hypothalamus\n",
      "Populating: Thalamus\n",
      "Populating: Midbrain\n",
      "Populating: Hindbrain\n"
     ]
    }
   ],
   "source": [
    "totals = {}\n",
    "\n",
    "for brain in quantification_dicts.keys():\n",
    "    total = 0\n",
    "    for node in G.nodes:\n",
    "        total += G.nodes[node][brain + \" axon\"]\n",
    "    totals[brain] = total\n",
    "\n",
    "axon_vols = []\n",
    "axon_denss = []\n",
    "gene = []\n",
    "subregion_name = []\n",
    "region_name = []\n",
    "for region in regions:\n",
    "    print(f\"Populating: \" + G.nodes[region][\"name\"])\n",
    "    #choose level here\n",
    "    children = list(G.successors(region))\n",
    "    children = [region]\n",
    "    for child in children:\n",
    "        for brain in quantification_dicts.keys():\n",
    "            axon_vols.append(G.nodes[child][brain + \" axon\"] / totals[brain] * 100)\n",
    "            if (\n",
    "                G.nodes[child][brain + \" total\"] == 0\n",
    "                and G.nodes[child][brain + \" axon\"] == 0\n",
    "            ):\n",
    "                axon_denss.append(0)\n",
    "            elif G.nodes[child][brain + \" total\"] == 0:\n",
    "                raise ValueError(\"positive axon volume in zero volume region?\")\n",
    "            else:\n",
    "                axon_denss.append(\n",
    "                    G.nodes[child][brain + \" axon\"]\n",
    "                    / G.nodes[child][brain + \" total\"]\n",
    "                    * 100\n",
    "                )\n",
    "\n",
    "            gene.append(brains[brain] + f\" (n={counts[brains[brain]]})\")\n",
    "            subregion_name.append(G.nodes[child][\"name\"])\n",
    "            region_name.append(G.nodes[region][\"name\"])\n",
    "\n",
    "d = {\n",
    "    \"Percent Total Axon Volume (%)\": axon_vols,\n",
    "    \"Axon Density (%)\": axon_denss,\n",
    "    \"Gene\": gene,\n",
    "    \"Subregion\": subregion_name,\n",
    "    \"Region\": region_name,\n",
    "}\n",
    "df = pd.DataFrame(data=d)"
   ]
  },
  {
   "cell_type": "markdown",
   "metadata": {},
   "source": [
    "## figure for paper"
   ]
  },
  {
   "cell_type": "code",
   "execution_count": 32,
   "metadata": {},
   "outputs": [
    {
     "name": "stdout",
     "output_type": "stream",
     "text": [
      "p-value annotation legend:\n",
      "      ns: p <= 1.00e+00\n",
      "       *: 1.00e-02 < p <= 5.00e-02\n",
      "      **: 1.00e-03 < p <= 1.00e-02\n",
      "     ***: 1.00e-04 < p <= 1.00e-03\n",
      "    ****: p <= 1.00e-04\n",
      "\n",
      "Midbrain_tph2 vglut3 (n=2) vs. Midbrain_tph2 gad2 (n=1): Mann-Whitney-Wilcoxon test two-sided with Benjamini-Yekutieli correction, P_val:1.000e+00 U_stat=1.000e+00\n",
      "Hindbrain_tph2 vglut3 (n=2) vs. Hindbrain_tph2 gad2 (n=1): Mann-Whitney-Wilcoxon test two-sided with Benjamini-Yekutieli correction, P_val:6.667e-01 U_stat=2.000e+00\n",
      "Thalamus_tph2 vglut3 (n=2) vs. Thalamus_tph2 gad2 (n=1): Mann-Whitney-Wilcoxon test two-sided with Benjamini-Yekutieli correction, P_val:6.667e-01 U_stat=2.000e+00\n",
      "Olfactory areas_tph2 vglut3 (n=2) vs. Olfactory areas_tph2 gad2 (n=1): Mann-Whitney-Wilcoxon test two-sided with Benjamini-Yekutieli correction, P_val:6.667e-01 U_stat=2.000e+00\n",
      "Cerebral cortex_tph2 vglut3 (n=2) vs. Cerebral cortex_tph2 gad2 (n=1): Mann-Whitney-Wilcoxon test two-sided with Benjamini-Yekutieli correction, P_val:6.667e-01 U_stat=2.000e+00\n",
      "Hippocampal formation_tph2 vglut3 (n=2) vs. Hippocampal formation_tph2 gad2 (n=1): Mann-Whitney-Wilcoxon test two-sided with Benjamini-Yekutieli correction, P_val:6.667e-01 U_stat=2.000e+00\n",
      "Claustrum_tph2 vglut3 (n=2) vs. Claustrum_tph2 gad2 (n=1): Mann-Whitney-Wilcoxon test two-sided with Benjamini-Yekutieli correction, P_val:6.667e-01 U_stat=2.000e+00\n",
      "Striatum_tph2 vglut3 (n=2) vs. Striatum_tph2 gad2 (n=1): Mann-Whitney-Wilcoxon test two-sided with Benjamini-Yekutieli correction, P_val:6.667e-01 U_stat=2.000e+00\n",
      "Pallidum_tph2 vglut3 (n=2) vs. Pallidum_tph2 gad2 (n=1): Mann-Whitney-Wilcoxon test two-sided with Benjamini-Yekutieli correction, P_val:6.667e-01 U_stat=2.000e+00\n",
      "Cortical subplate_tph2 vglut3 (n=2) vs. Cortical subplate_tph2 gad2 (n=1): Mann-Whitney-Wilcoxon test two-sided with Benjamini-Yekutieli correction, P_val:6.667e-01 U_stat=2.000e+00\n",
      "Hypothalamus_tph2 vglut3 (n=2) vs. Hypothalamus_tph2 gad2 (n=1): Mann-Whitney-Wilcoxon test two-sided with Benjamini-Yekutieli correction, P_val:6.667e-01 U_stat=2.000e+00\n",
      "p-value annotation legend:\n",
      "      ns: p <= 1.00e+00\n",
      "       *: 1.00e-02 < p <= 5.00e-02\n",
      "      **: 1.00e-03 < p <= 1.00e-02\n",
      "     ***: 1.00e-04 < p <= 1.00e-03\n",
      "    ****: p <= 1.00e-04\n",
      "\n",
      "Midbrain_tph2 vglut3 (n=2) vs. Midbrain_tph2 gad2 (n=1): Mann-Whitney-Wilcoxon test two-sided with Benjamini-Yekutieli correction, P_val:6.667e-01 U_stat=0.000e+00\n",
      "Hindbrain_tph2 vglut3 (n=2) vs. Hindbrain_tph2 gad2 (n=1): Mann-Whitney-Wilcoxon test two-sided with Benjamini-Yekutieli correction, P_val:6.667e-01 U_stat=0.000e+00\n",
      "Thalamus_tph2 vglut3 (n=2) vs. Thalamus_tph2 gad2 (n=1): Mann-Whitney-Wilcoxon test two-sided with Benjamini-Yekutieli correction, P_val:6.667e-01 U_stat=0.000e+00\n",
      "Olfactory areas_tph2 vglut3 (n=2) vs. Olfactory areas_tph2 gad2 (n=1): Mann-Whitney-Wilcoxon test two-sided with Benjamini-Yekutieli correction, P_val:6.667e-01 U_stat=2.000e+00\n",
      "Cerebral cortex_tph2 vglut3 (n=2) vs. Cerebral cortex_tph2 gad2 (n=1): Mann-Whitney-Wilcoxon test two-sided with Benjamini-Yekutieli correction, P_val:6.667e-01 U_stat=2.000e+00\n",
      "Hippocampal formation_tph2 vglut3 (n=2) vs. Hippocampal formation_tph2 gad2 (n=1): Mann-Whitney-Wilcoxon test two-sided with Benjamini-Yekutieli correction, P_val:6.667e-01 U_stat=2.000e+00\n",
      "Claustrum_tph2 vglut3 (n=2) vs. Claustrum_tph2 gad2 (n=1): Mann-Whitney-Wilcoxon test two-sided with Benjamini-Yekutieli correction, P_val:6.667e-01 U_stat=2.000e+00\n",
      "Striatum_tph2 vglut3 (n=2) vs. Striatum_tph2 gad2 (n=1): Mann-Whitney-Wilcoxon test two-sided with Benjamini-Yekutieli correction, P_val:6.667e-01 U_stat=0.000e+00\n",
      "Pallidum_tph2 vglut3 (n=2) vs. Pallidum_tph2 gad2 (n=1): Mann-Whitney-Wilcoxon test two-sided with Benjamini-Yekutieli correction, P_val:6.667e-01 U_stat=0.000e+00\n",
      "Cortical subplate_tph2 vglut3 (n=2) vs. Cortical subplate_tph2 gad2 (n=1): Mann-Whitney-Wilcoxon test two-sided with Benjamini-Yekutieli correction, P_val:6.667e-01 U_stat=0.000e+00\n",
      "Hypothalamus_tph2 vglut3 (n=2) vs. Hypothalamus_tph2 gad2 (n=1): Mann-Whitney-Wilcoxon test two-sided with Benjamini-Yekutieli correction, P_val:6.667e-01 U_stat=0.000e+00\n"
     ]
    },
    {
     "data": {
      "image/png": "[encoded data removed]"
     },
     "metadata": {},
     "output_type": "display_data"
    }
   ],
   "source": [
    "fig, axes = plt.subplots(1, 2, figsize=(26, 13))\n",
    "sns.set(font_scale=2)\n",
    "\n",
    "test = \"Mann-Whitney\" \n",
    "#test = \"t-test_ind\"\n",
    "correction = \"fdr_by\"\n",
    "\n",
    "#density\n",
    "fig_args = {\n",
    "    \"y\": \"Axon Density (%)\",\n",
    "    \"x\": \"Subregion\",\n",
    "    \"hue\": \"Gene\",\n",
    "    \"data\": df,\n",
    "}\n",
    "pairs = []\n",
    "unq_subregions = []\n",
    "for subregion in subregion_name:\n",
    "    if subregion not in unq_subregions:\n",
    "        unq_subregions.append(subregion)\n",
    "\n",
    "\n",
    "genes = df[\"Gene\"].unique()\n",
    "gene_pairs = [(a,b) for idx, a in enumerate(genes) for b in genes[idx+1:]]\n",
    "\n",
    "for gene_pair in gene_pairs:\n",
    "    for subregion in unq_subregions:\n",
    "        pairs.append(\n",
    "            (\n",
    "                (subregion, gene_pair[0]),\n",
    "                (subregion, gene_pair[1]),\n",
    "            )\n",
    "        )\n",
    "\n",
    "\n",
    "annotator = Annotator(axes[0], pairs, **fig_args)\n",
    "fig_args = {\n",
    "    \"x\": \"Axon Density (%)\",\n",
    "    \"y\": \"Subregion\",\n",
    "    \"hue\": \"Gene\",\n",
    "    \"data\": df,\n",
    "}\n",
    "\n",
    "\n",
    "sns.set(font_scale = 2)\n",
    "strpplot = sns.barplot(ax=axes[0], orient=\"h\", **fig_args)\n",
    "\n",
    "annotator.configure(test=test, text_format=\"star\", loc=\"outside\", comparisons_correction=correction)\n",
    "annotator.new_plot(strpplot, orient=\"h\", plot=\"barplot\", **fig_args)\n",
    "annotator.apply_and_annotate()\n",
    "\n",
    "# percent total\n",
    "fig_args = {\n",
    "    \"y\": \"Percent Total Axon Volume (%)\",\n",
    "    \"x\": \"Subregion\",\n",
    "    \"hue\": \"Gene\",\n",
    "    \"data\": df,\n",
    "}\n",
    "pairs = []\n",
    "unq_subregions = []\n",
    "for subregion in subregion_name:\n",
    "    if subregion not in unq_subregions:\n",
    "        unq_subregions.append(subregion)\n",
    "\n",
    "\n",
    "for gene_pair in gene_pairs:\n",
    "    for subregion in unq_subregions:\n",
    "        pairs.append(\n",
    "            (\n",
    "                (subregion, gene_pair[0]),\n",
    "                (subregion, gene_pair[1]),\n",
    "            )\n",
    "        )\n",
    "\n",
    "\n",
    "annotator = Annotator(axes[1], pairs, **fig_args)\n",
    "fig_args = {\n",
    "    \"x\": \"Percent Total Axon Volume (%)\",\n",
    "    \"y\": \"Subregion\",\n",
    "    \"hue\": \"Gene\",\n",
    "    \"data\": df,\n",
    "}\n",
    "\n",
    "strpplot = sns.barplot(ax=axes[1], orient=\"h\", **fig_args)\n",
    "strpplot.set_xscale(\"log\")\n",
    "\n",
    "annotator.configure(test=test, text_format=\"star\", loc=\"outside\", comparisons_correction=correction)\n",
    "annotator.new_plot(strpplot, orient=\"h\", plot=\"barplot\", **fig_args)\n",
    "annotator.apply_and_annotate()\n",
    "\n",
    "fig.tight_layout()"
   ]
  },
  {
   "cell_type": "markdown",
   "metadata": {},
   "source": [
    "## Compare to Allen"
   ]
  },
  {
   "cell_type": "markdown",
   "metadata": {},
   "source": [
    "### Subregion"
   ]
  },
  {
   "cell_type": "code",
   "execution_count": null,
   "metadata": {},
   "outputs": [],
   "source": [
    "axon_denss = []\n",
    "gene = []\n",
    "subregion_name = []\n",
    "region_name = []\n",
    "subregions_list = []\n",
    "for region in allen_regions:\n",
    "    print(f\"Populating: \" + G.nodes[region][\"name\"])\n",
    "    children = list(G.successors(region))\n",
    "    for child in children:\n",
    "        if child not in subregions_list:\n",
    "            subregions_list.append(child)\n",
    "\n",
    "        for brain in quantification_dicts.keys():\n",
    "            if (\n",
    "                G.nodes[child][brain + \" total\"] == 0\n",
    "                and G.nodes[child][brain + \" axon\"] == 0\n",
    "            ):\n",
    "                axon_denss.append(0)\n",
    "            elif G.nodes[child][brain + \" total\"] == 0:\n",
    "                raise ValueError(\"positive axon volume in zero volume region?\")\n",
    "            else:\n",
    "                axon_denss.append(\n",
    "                    G.nodes[child][brain + \" axon\"] / G.nodes[child][brain + \" total\"]\n",
    "                )\n",
    "\n",
    "            if brain in [\"B\", \"R\"]:\n",
    "                gene.append(brain)\n",
    "            subregion_name.append(G.nodes[child][\"name\"])\n",
    "\n",
    "    region_name.append(G.nodes[region][\"name\"])\n",
    "\n",
    "tree = ET.parse(\n",
    "    \"/Users/thomasathey/Documents/mimlab/mouselight/brainlit_parent/brainlit/experiments/deisseroth/sert_exp.xml\"\n",
    ")\n",
    "root = tree.getroot()\n",
    "root.tag\n",
    "for child in root:\n",
    "    for i, entry in enumerate(child):\n",
    "        for item in entry:\n",
    "            if item.tag == \"structure-id\":\n",
    "                region = int(item.text)\n",
    "            elif item.tag == \"hemisphere-id\":\n",
    "                hemi = int(item.text)\n",
    "            elif item.tag == \"is-injection\":\n",
    "                inject = item.text\n",
    "            elif item.tag == \"projection-density\":\n",
    "                density = float(item.text)\n",
    "        if region in subregions_list and hemi == 3 and inject == \"false\":\n",
    "            name = G.nodes[region][\"name\"]\n",
    "            print(f\"id: {region} hemi: {hemi}, density: {density}, name: {name}\")\n",
    "            subregion_name.append(name)\n",
    "            gene.append(\"Allen\")\n",
    "            axon_denss.append(density)\n",
    "\n",
    "\n",
    "d = {\"Axon Density\": axon_denss, \"Gene\": gene, \"Subregion\": subregion_name}\n",
    "df = pd.DataFrame(data=d)"
   ]
  },
  {
   "cell_type": "code",
   "execution_count": null,
   "metadata": {},
   "outputs": [],
   "source": [
    "fig, axes = plt.subplots(1, 1, figsize=(20, 10))\n",
    "fig.suptitle(\"Detected Output Axons\")\n",
    "\n",
    "sns.barplot(x=\"Axon Density\", y=\"Subregion\", hue=\"Gene\", data=df)\n",
    "axes.set_title(\"Density\")\n",
    "\n",
    "fig.tight_layout()"
   ]
  },
  {
   "cell_type": "markdown",
   "metadata": {},
   "source": [
    "### Region"
   ]
  },
  {
   "cell_type": "code",
   "execution_count": null,
   "metadata": {},
   "outputs": [],
   "source": [
    "axon_denss = []\n",
    "axon_vols = []\n",
    "gene = []\n",
    "region_name = []\n",
    "for region in allen_regions:\n",
    "    print(f\"Populating: \" + G.nodes[region][\"name\"])\n",
    "    for brain in quantification_dicts.keys():\n",
    "        if (\n",
    "            G.nodes[region][brain + \" total\"] == 0\n",
    "            and G.nodes[region][brain + \" axon\"] == 0\n",
    "        ):\n",
    "            axon_denss.append(0)\n",
    "        elif G.nodes[region][brain + \" total\"] == 0:\n",
    "            raise ValueError(\"positive axon volume in zero volume region?\")\n",
    "        else:\n",
    "            axon_denss.append(\n",
    "                G.nodes[region][brain + \" axon\"] / G.nodes[region][brain + \" total\"]\n",
    "            )\n",
    "            axon_vols.append(\n",
    "                G.nodes[region][brain + \" axon\"]\n",
    "                * np.product([1.82, 1.82, 2])\n",
    "                * 10 ** (-9)\n",
    "            )\n",
    "\n",
    "        if brain in [\"B\", \"R\"]:\n",
    "            gene.append(\"Sample \" + brain)\n",
    "\n",
    "        region_name.append(G.nodes[region][\"name\"])\n",
    "\n",
    "tree = ET.parse(\n",
    "    \"/Users/thomasathey/Documents/mimlab/mouselight/brainlit_parent/brainlit/experiments/deisseroth/sert_exp.xml\"\n",
    ")\n",
    "root = tree.getroot()\n",
    "root.tag\n",
    "for child in root:\n",
    "    for i, entry in enumerate(child):\n",
    "        for item in entry:\n",
    "            if item.tag == \"structure-id\":\n",
    "                region = int(item.text)\n",
    "            elif item.tag == \"hemisphere-id\":\n",
    "                hemi = int(item.text)\n",
    "            elif item.tag == \"is-injection\":\n",
    "                inject = item.text\n",
    "            elif item.tag == \"projection-density\":\n",
    "                density = float(item.text)\n",
    "            elif item.tag == \"projection-volume\":\n",
    "                volume = float(item.text)\n",
    "        if region in allen_regions and hemi == 3 and inject == \"false\":\n",
    "            name = G.nodes[region][\"name\"]\n",
    "            print(\n",
    "                f\"id: {region} hemi: {hemi}, density: {density}, volume: {volume}, name: {name}\"\n",
    "            )\n",
    "            region_name.append(name)\n",
    "            gene.append(\"Allen\")\n",
    "            axon_denss.append(density)\n",
    "            axon_vols.append(volume)\n",
    "\n",
    "\n",
    "d = {\n",
    "    \"Axon Density\": axon_denss,\n",
    "    \"Axon Volume ($mm^3$)\": axon_vols,\n",
    "    \"Gene\": gene,\n",
    "    \"Region\": region_name,\n",
    "}\n",
    "df = pd.DataFrame(data=d)"
   ]
  },
  {
   "cell_type": "code",
   "execution_count": null,
   "metadata": {},
   "outputs": [],
   "source": [
    "fig, axes = plt.subplots(1, 2, figsize=(20, 10))\n",
    "fig.suptitle(\"Comparing Axon Volumes to Allen Experiment\")\n",
    "\n",
    "sns.set(font_scale=2)\n",
    "\n",
    "sns.barplot(\n",
    "    ax=axes[0],\n",
    "    x=\"Axon Density\",\n",
    "    y=\"Region\",\n",
    "    hue=\"Gene\",\n",
    "    order=list(\n",
    "        df[df[\"Gene\"] == \"Allen\"]\n",
    "        .sort_values(\"Axon Density\", ascending=False)\n",
    "        .loc[:, \"Region\"]\n",
    "    ),\n",
    "    data=df,\n",
    ")\n",
    "# axes[0].set_title(\"Density\")\n",
    "\n",
    "sns.barplot(\n",
    "    ax=axes[1],\n",
    "    x=\"Axon Volume ($mm^3$)\",\n",
    "    y=\"Region\",\n",
    "    hue=\"Gene\",\n",
    "    order=list(\n",
    "        df[df[\"Gene\"] == \"Allen\"]\n",
    "        .sort_values(\"Axon Density\", ascending=False)\n",
    "        .loc[:, \"Region\"]\n",
    "    ),\n",
    "    data=df,\n",
    ")\n",
    "# axes[1].set_title(\"Axon Volume\")\n",
    "\n",
    "fig.tight_layout()"
   ]
  },
  {
   "cell_type": "markdown",
   "metadata": {},
   "source": [
    "# Test loop"
   ]
  },
  {
   "cell_type": "markdown",
   "metadata": {},
   "source": []
  },
  {
   "cell_type": "code",
   "execution_count": 25,
   "metadata": {},
   "outputs": [],
   "source": [
    "fname_prob_syn = \"/Users/thomasathey/Documents/mimlab/mouselight/ailey/detection_axon/test/image_0_1792_2700_Probabilities_syn.h5\"\n",
    "f = h5py.File(fname_prob_syn, \"r\")\n",
    "seg = f.get(\"exported_data\")\n",
    "seg_syn = seg[1, :, :, :]"
   ]
  },
  {
   "cell_type": "code",
   "execution_count": 27,
   "metadata": {},
   "outputs": [
    {
     "data": {
      "text/html": [
       "<pre style=\"white-space:pre;overflow-x:auto;line-height:normal;font-family:Menlo,'DejaVu Sans Mono',consolas,'Courier New',monospace\"><span style=\"color: #008080; text-decoration-color: #008080; font-weight: bold\">0.9993064880371094</span>\n",
       "</pre>\n"
      ],
      "text/plain": [
       "\u001b[1;36m0.9993064880371094\u001b[0m\n"
      ]
     },
     "metadata": {},
     "output_type": "display_data"
    }
   ],
   "source": [
    "fname_prob_loc = \"/Users/thomasathey/Documents/mimlab/mouselight/ailey/detection_axon/test/image_0_1792_2700_Probabilities.h5\"\n",
    "f = h5py.File(fname_prob_loc, \"r\")\n",
    "seg = f.get(\"exported_data\")\n",
    "seg_loc = seg[1, :, :, :]\n",
    "\n",
    "np.sum(seg_loc == seg_syn)/np.sum(seg_loc == seg_loc)"
   ]
  },
  {
   "cell_type": "code",
   "execution_count": null,
   "metadata": {},
   "outputs": [],
   "source": []
  }
 ],
 "metadata": {
  "interpreter": {
   "hash": "5dc00d68ff54f8375e99934614da4863299fb9e10af4294c095b7f517546ff26"
  },
  "kernelspec": {
   "display_name": "Python 3.8.10 64-bit ('docs_env': venv)",
   "name": "python3"
  },
  "language_info": {
   "codemirror_mode": {
    "name": "ipython",
    "version": 3
   },
   "file_extension": ".py",
   "mimetype": "text/x-python",
   "name": "python",
   "nbconvert_exporter": "python",
   "pygments_lexer": "ipython3",
   "version": "3.8.10"
  },
  "metadata": {
   "interpreter": {
    "hash": "31f2aee4e71d21fbe5cf8b01ff0e069b9275f58929596ceb00d14d90e3e16cd6"
   }
  }
 },
 "nbformat": 4,
 "nbformat_minor": 2
}
