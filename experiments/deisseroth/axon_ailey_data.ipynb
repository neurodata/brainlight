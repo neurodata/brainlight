{
 "cells": [
  {
   "cell_type": "markdown",
   "metadata": {},
   "source": [
    "# General Inputs + Imports"
   ]
  },
  {
   "cell_type": "code",
   "execution_count": 1,
   "metadata": {},
   "outputs": [],
   "source": [
    "brain = \"8649\" #brain ID\n",
    "axon_data_dir = \"/Users/thomasathey/Documents/mimlab/mouselight/ailey/detection_axon/\" #path to directory where training/validation data should be stored"
   ]
  },
  {
   "cell_type": "markdown",
   "metadata": {},
   "source": [
    "## Input Checks and Imports"
   ]
  },
  {
   "cell_type": "code",
   "execution_count": 2,
   "metadata": {},
   "outputs": [
    {
     "name": "stderr",
     "output_type": "stream",
     "text": [
      "/Users/thomasathey/Documents/mimlab/mouselight/docs_env/lib/python3.8/site-packages/nilearn/datasets/__init__.py:86: FutureWarning: Fetchers from the nilearn.datasets module will be updated in version 0.9 to return python strings instead of bytes and Pandas dataframes instead of Numpy arrays.\n",
      "  warn(\"Fetchers from the nilearn.datasets module will be \"\n"
     ]
    }
   ],
   "source": [
    "from cloudvolume import CloudVolume\n",
    "from skimage.transform import downscale_local_mean\n",
    "from skimage import io, measure\n",
    "import napari\n",
    "import random\n",
    "import h5py\n",
    "from brainlit.preprocessing import removeSmallCCs\n",
    "import numpy as np\n",
    "import matplotlib.pyplot as plt\n",
    "import subprocess\n",
    "import tables\n",
    "from napari_animation import AnimationWidget\n",
    "from tqdm import tqdm\n",
    "import pickle\n",
    "from parse_ara import *\n",
    "import networkx as nx\n",
    "import seaborn as sns\n",
    "from statannotations.Annotator import Annotator\n",
    "import pandas as pd\n",
    "import brainrender\n",
    "from skimage.morphology import skeletonize\n",
    "from axon_data import brain2paths, brain2centers\n",
    "import os\n",
    "from util import json_to_points\n",
    "import scipy.ndimage as ndi\n",
    "from sklearn.decomposition import PCA\n",
    "import matplotlib.pyplot as plt\n",
    "import xml.etree.ElementTree as ET\n",
    "\n",
    "%gui qt5\n",
    "\n",
    "# Useful variables\n",
    "base_dir = (\n",
    "    axon_data_dir + \n",
    "    \"brain\"\n",
    "    + brain\n",
    "    + \"/\"\n",
    ")"
   ]
  },
  {
   "cell_type": "code",
   "execution_count": 3,
   "metadata": {},
   "outputs": [],
   "source": [
    "if brain not in brain2paths.keys():\n",
    "    raise ValueError(f\"brain {brain} not an entry in brain2paths in axon_data.py file\")\n",
    "\n",
    "layers = brain2paths[brain].keys()\n",
    "for layer in [\"ab\", \"bg\", \"endo\", \"mask\"]:\n",
    "    if layer not in layers and \"base\" not in layers:\n",
    "        raise ValueError(f\"{layer} not in brain2paths[{brain}].keys()\")\n",
    "\n",
    "if \"base\" in brain2paths[brain].keys():\n",
    "    if \"http\" in brain2paths[brain][\"base\"]:\n",
    "        raise ValueError(f\"Cannot write to http link, only can write to precomputed://s3 link\")\n",
    "else:\n",
    "    if \"http\" in brain2paths[brain][\"mask\"]:\n",
    "        raise ValueError(f\"Cannot write to http link, only can write to precomputed://s3 link\")"
   ]
  },
  {
   "cell_type": "markdown",
   "metadata": {},
   "source": [
    "# Download benchmark data"
   ]
  },
  {
   "cell_type": "markdown",
   "metadata": {},
   "source": [
    "## Inputs"
   ]
  },
  {
   "cell_type": "code",
   "execution_count": 4,
   "metadata": {},
   "outputs": [],
   "source": [
    "dataset_to_save = \"val\" #train or val"
   ]
  },
  {
   "cell_type": "markdown",
   "metadata": {},
   "source": [
    "## Input checks"
   ]
  },
  {
   "cell_type": "code",
   "execution_count": 5,
   "metadata": {},
   "outputs": [],
   "source": [
    "if f\"{dataset_to_save}_info\" not in layers:\n",
    "    raise ValueError(f\"{dataset_to_save}_info not in brain2paths[{brain}].keys()\")"
   ]
  },
  {
   "cell_type": "markdown",
   "metadata": {},
   "source": [
    "## Setup paths"
   ]
  },
  {
   "cell_type": "code",
   "execution_count": 6,
   "metadata": {},
   "outputs": [
    {
     "name": "stdout",
     "output_type": "stream",
     "text": [
      "30 points in val layer\n",
      "5 points in train layer\n",
      "30 val samples\n",
      "30 points in val layer\n",
      "5 points in train layer\n",
      "5 train samples\n",
      "fg shape: (5606, 5929, 3900, 1) at [1830. 1830. 2000.]\n",
      "bg shape: (5606, 5929, 3900, 1) at [1830. 1830. 2000.]\n",
      "endo shape: (5606, 5929, 3900, 1) at [1830. 1830. 2000.]\n"
     ]
    }
   ],
   "source": [
    "if brain in brain2centers.keys():\n",
    "    centers_train = brain2centers[brain][0]\n",
    "    centers_val = brain2centers[brain][1]  # annotate z slice 25, 50 and 75\n",
    "    print(f\"{len(centers_train)} training samples, {len(centers_val)} val samples\")\n",
    "elif \"val_info\" in brain2paths[brain].keys():\n",
    "    centers_val = json_to_points(brain2paths[brain][\"val_info\"][\"url\"])[\n",
    "        brain2paths[brain][\"val_info\"][\"layer\"]\n",
    "    ]\n",
    "    print(f\"{len(centers_val)} val samples\")\n",
    "\n",
    "\n",
    "if \"train_info\" in brain2paths[brain].keys():\n",
    "    centers_train = json_to_points(brain2paths[brain][\"train_info\"][\"url\"])[\n",
    "        brain2paths[brain][\"train_info\"][\"layer\"]\n",
    "    ]\n",
    "    print(f\"{len(centers_train)} train samples\")\n",
    "\n",
    "if dataset_to_save == \"train\":\n",
    "    centers = centers_train\n",
    "elif dataset_to_save == \"val\":\n",
    "    centers = centers_val\n",
    "else:\n",
    "    raise ValueError(f\"dataset_to_save must be train or val not {dataset_to_save}\")\n",
    "\n",
    "\n",
    "mip = 0\n",
    "\n",
    "if \"base\" in brain2paths[brain].keys():\n",
    "    base_dir_s3 = brain2paths[brain][\"base\"]\n",
    "    dir = base_dir_s3 + \"Ch_647\"\n",
    "    vol_fg = CloudVolume(dir, parallel=1, mip=mip, fill_missing=False)\n",
    "    print(f\"fg shape: {vol_fg.shape} at {vol_fg.resolution}\")\n",
    "    dir = base_dir_s3 + \"Ch_561\"\n",
    "    vol_bg = CloudVolume(dir, parallel=1, mip=mip, fill_missing=False)\n",
    "    print(f\"bg shape: {vol_bg.shape} at {vol_bg.resolution}\")\n",
    "    dir = base_dir_s3 + \"Ch_488\"\n",
    "    vol_endo = CloudVolume(dir, parallel=1, mip=mip, fill_missing=False)\n",
    "    print(f\"endo shape: {vol_endo.shape} at {vol_endo.resolution}\")\n",
    "\n",
    "    dir = base_dir_s3 + \"axon_mask\"\n",
    "    try:\n",
    "        vol_mask = CloudVolume(dir, parallel=1, mip=mip, fill_missing=True)\n",
    "    except:\n",
    "        print(\"vol_mask not found\")\n",
    "else:\n",
    "    dir = brain2paths[brain][\"ab\"]\n",
    "    vol_fg = CloudVolume(dir, parallel=1, mip=mip, fill_missing=False)\n",
    "    print(f\"fg shape: {vol_fg.shape} at {vol_fg.resolution}\")\n",
    "    dir = brain2paths[brain][\"bg\"]\n",
    "    vol_bg = CloudVolume(dir, parallel=1, mip=mip, fill_missing=False)\n",
    "    print(f\"bg shape: {vol_bg.shape} at {vol_bg.resolution}\")\n",
    "    dir = brain2paths[brain][\"endo\"]\n",
    "    vol_endo = CloudVolume(dir, parallel=1, mip=mip, fill_missing=False)\n",
    "    print(f\"endo shape: {vol_endo.shape} at {vol_endo.resolution}\")\n",
    "\n",
    "    if \"mask\" in brain2paths[brain].keys():\n",
    "        dir = brain2paths[brain][\"mask\"]\n",
    "        try:\n",
    "            vol_mask = CloudVolume(dir, parallel=1, mip=mip, fill_missing=True)\n",
    "        except:\n",
    "            print(\"vol_mask not found\")"
   ]
  },
  {
   "cell_type": "markdown",
   "metadata": {},
   "source": [
    "## Download data"
   ]
  },
  {
   "cell_type": "code",
   "execution_count": 8,
   "metadata": {},
   "outputs": [
    {
     "name": "stdout",
     "output_type": "stream",
     "text": [
      "[3300.86474609375, 3732.05078125, 1284.5]\n"
     ]
    },
    {
     "name": "stderr",
     "output_type": "stream",
     "text": [
      "Downloading: 100%|██████████| 8/8 [00:05<00:00,  1.51it/s]\n",
      "Downloading: 100%|██████████| 8/8 [00:03<00:00,  2.20it/s]\n",
      "Downloading: 100%|██████████| 8/8 [00:02<00:00,  3.04it/s]\n"
     ]
    },
    {
     "name": "stdout",
     "output_type": "stream",
     "text": [
      "[3381.758544921875, 2398.30078125, 1294.5]\n"
     ]
    },
    {
     "name": "stderr",
     "output_type": "stream",
     "text": [
      "Downloading: 100%|██████████| 4/4 [00:00<00:00,  5.08it/s]\n",
      "Downloading: 100%|██████████| 4/4 [00:02<00:00,  1.84it/s]\n",
      "Downloading: 100%|██████████| 4/4 [00:00<00:00,  5.84it/s]\n"
     ]
    },
    {
     "name": "stdout",
     "output_type": "stream",
     "text": [
      "[888.3621215820312, 2259.841552734375, 1304.4998779296875]\n"
     ]
    },
    {
     "name": "stderr",
     "output_type": "stream",
     "text": [
      "Downloading: 100%|██████████| 8/8 [00:01<00:00,  4.38it/s]\n",
      "Downloading: 100%|██████████| 8/8 [00:01<00:00,  5.25it/s]\n",
      "Downloading: 100%|██████████| 8/8 [00:01<00:00,  6.61it/s]\n"
     ]
    },
    {
     "name": "stdout",
     "output_type": "stream",
     "text": [
      "[2358.12158203125, 4700.71923828125, 1276.4998779296875]\n"
     ]
    },
    {
     "name": "stderr",
     "output_type": "stream",
     "text": [
      "Downloading: 100%|██████████| 4/4 [00:00<00:00,  6.68it/s]\n",
      "Downloading: 100%|██████████| 4/4 [00:01<00:00,  3.51it/s]\n",
      "Downloading: 100%|██████████| 4/4 [00:00<00:00,  5.73it/s]\n"
     ]
    },
    {
     "name": "stdout",
     "output_type": "stream",
     "text": [
      "[2919.6845703125, 529.3911743164062, 1277.4998779296875]\n"
     ]
    },
    {
     "name": "stderr",
     "output_type": "stream",
     "text": [
      "Downloading: 100%|██████████| 8/8 [00:01<00:00,  6.52it/s]\n",
      "Downloading: 100%|██████████| 8/8 [00:01<00:00,  7.34it/s]\n",
      "Downloading: 100%|██████████| 8/8 [00:01<00:00,  7.76it/s]\n"
     ]
    },
    {
     "name": "stdout",
     "output_type": "stream",
     "text": [
      "[2968.0283203125, 2904.228759765625, 541.5]\n"
     ]
    },
    {
     "name": "stderr",
     "output_type": "stream",
     "text": [
      "Downloading: 100%|██████████| 8/8 [00:01<00:00,  7.04it/s]\n",
      "Downloading: 100%|██████████| 8/8 [00:01<00:00,  7.85it/s]\n",
      "Downloading: 100%|██████████| 8/8 [00:01<00:00,  7.85it/s]\n"
     ]
    },
    {
     "name": "stdout",
     "output_type": "stream",
     "text": [
      "[1896.228759765625, 1731.1473388671875, 541.5]\n"
     ]
    },
    {
     "name": "stderr",
     "output_type": "stream",
     "text": [
      "Downloading: 100%|██████████| 4/4 [00:00<00:00,  5.73it/s]\n",
      "Downloading: 100%|██████████| 4/4 [00:01<00:00,  3.91it/s]\n",
      "Downloading: 100%|██████████| 4/4 [00:00<00:00,  5.07it/s]\n"
     ]
    },
    {
     "name": "stdout",
     "output_type": "stream",
     "text": [
      "[2029.02294921875, 2289.479736328125, 385.5]\n"
     ]
    },
    {
     "name": "stderr",
     "output_type": "stream",
     "text": [
      "Downloading: 100%|██████████| 8/8 [00:00<00:00,  8.17it/s]\n",
      "Downloading: 100%|██████████| 8/8 [00:00<00:00,  8.04it/s]\n",
      "Downloading: 100%|██████████| 8/8 [00:00<00:00,  8.21it/s]\n"
     ]
    },
    {
     "name": "stdout",
     "output_type": "stream",
     "text": [
      "[2686.05029296875, 2838.939208984375, 386.5000305175781]\n"
     ]
    },
    {
     "name": "stderr",
     "output_type": "stream",
     "text": [
      "Downloading: 100%|██████████| 8/8 [00:00<00:00,  8.56it/s]\n",
      "Downloading: 100%|██████████| 8/8 [00:00<00:00,  8.38it/s]\n",
      "Downloading: 100%|██████████| 8/8 [00:00<00:00,  9.00it/s]\n"
     ]
    },
    {
     "name": "stdout",
     "output_type": "stream",
     "text": [
      "[775.7115478515625, 4829.8408203125, 2459.500244140625]\n"
     ]
    },
    {
     "name": "stderr",
     "output_type": "stream",
     "text": [
      "Downloading: 100%|██████████| 8/8 [00:00<00:00,  9.33it/s]\n",
      "Downloading: 100%|██████████| 8/8 [00:00<00:00,  9.88it/s]\n",
      "Downloading: 100%|██████████| 8/8 [00:00<00:00,  9.79it/s]\n"
     ]
    },
    {
     "name": "stdout",
     "output_type": "stream",
     "text": [
      "[2872.016845703125, 2728.28271484375, 1284.5]\n"
     ]
    },
    {
     "name": "stderr",
     "output_type": "stream",
     "text": [
      "Downloading: 100%|██████████| 4/4 [00:00<00:00,  5.82it/s]\n",
      "Downloading: 100%|██████████| 4/4 [00:00<00:00,  5.31it/s]\n",
      "Downloading: 100%|██████████| 4/4 [00:00<00:00,  5.46it/s]\n"
     ]
    },
    {
     "name": "stdout",
     "output_type": "stream",
     "text": [
      "[2185.880126953125, 1315.826416015625, 1286.5]\n"
     ]
    },
    {
     "name": "stderr",
     "output_type": "stream",
     "text": [
      "Downloading: 100%|██████████| 8/8 [00:00<00:00, 10.33it/s]\n",
      "Downloading: 100%|██████████| 8/8 [00:00<00:00, 10.01it/s]\n",
      "Downloading: 100%|██████████| 8/8 [00:00<00:00, 10.39it/s]\n"
     ]
    },
    {
     "name": "stdout",
     "output_type": "stream",
     "text": [
      "[2353.219482421875, 4116.52685546875, 1291.5]\n"
     ]
    },
    {
     "name": "stderr",
     "output_type": "stream",
     "text": [
      "Downloading: 100%|██████████| 4/4 [00:00<00:00,  6.39it/s]\n",
      "Downloading: 100%|██████████| 4/4 [00:00<00:00,  5.10it/s]\n",
      "Downloading: 100%|██████████| 4/4 [00:00<00:00,  6.00it/s]\n"
     ]
    },
    {
     "name": "stdout",
     "output_type": "stream",
     "text": [
      "[1349.5601806640625, 4348.26904296875, 2027.5]\n"
     ]
    },
    {
     "name": "stderr",
     "output_type": "stream",
     "text": [
      "Downloading: 100%|██████████| 4/4 [00:00<00:00,  5.32it/s]\n",
      "Downloading: 100%|██████████| 4/4 [00:00<00:00,  6.77it/s]\n",
      "Downloading: 100%|██████████| 4/4 [00:00<00:00,  5.17it/s]\n"
     ]
    },
    {
     "name": "stdout",
     "output_type": "stream",
     "text": [
      "[1341.2037353515625, 1785.1141357421875, 2028.4998779296875]\n"
     ]
    },
    {
     "name": "stderr",
     "output_type": "stream",
     "text": [
      "Downloading: 100%|██████████| 4/4 [00:00<00:00,  5.74it/s]\n",
      "Downloading: 100%|██████████| 4/4 [00:00<00:00,  4.31it/s]\n",
      "Downloading: 100%|██████████| 4/4 [00:00<00:00,  6.20it/s]\n"
     ]
    },
    {
     "name": "stdout",
     "output_type": "stream",
     "text": [
      "[3524.333251953125, 3585.627197265625, 955.5000610351562]\n"
     ]
    },
    {
     "name": "stderr",
     "output_type": "stream",
     "text": [
      "Downloading: 100%|██████████| 2/2 [00:00<00:00,  3.10it/s]\n",
      "Downloading: 100%|██████████| 2/2 [00:00<00:00,  2.67it/s]\n",
      "Downloading: 100%|██████████| 2/2 [00:00<00:00,  3.64it/s]\n"
     ]
    },
    {
     "name": "stdout",
     "output_type": "stream",
     "text": [
      "[2363.180419921875, 3756.51416015625, 2118.5]\n"
     ]
    },
    {
     "name": "stderr",
     "output_type": "stream",
     "text": [
      "Downloading: 100%|██████████| 2/2 [00:00<00:00,  3.38it/s]\n",
      "Downloading: 100%|██████████| 2/2 [00:00<00:00,  2.99it/s]\n",
      "Downloading: 100%|██████████| 2/2 [00:00<00:00,  2.55it/s]\n"
     ]
    },
    {
     "name": "stdout",
     "output_type": "stream",
     "text": [
      "[1769.4013671875, 4238.56591796875, 607.5000610351562]\n"
     ]
    },
    {
     "name": "stderr",
     "output_type": "stream",
     "text": [
      "Downloading: 100%|██████████| 8/8 [00:00<00:00, 10.37it/s]\n",
      "Downloading: 100%|██████████| 8/8 [00:00<00:00, 10.32it/s]\n",
      "Downloading: 100%|██████████| 8/8 [00:00<00:00, 10.09it/s]\n"
     ]
    },
    {
     "name": "stdout",
     "output_type": "stream",
     "text": [
      "[2437.473876953125, 1272.57666015625, 596.5]\n"
     ]
    },
    {
     "name": "stderr",
     "output_type": "stream",
     "text": [
      "Downloading: 100%|██████████| 8/8 [00:00<00:00,  9.71it/s]\n",
      "Downloading: 100%|██████████| 8/8 [00:00<00:00, 10.91it/s]\n",
      "Downloading: 100%|██████████| 8/8 [00:00<00:00, 10.89it/s]\n"
     ]
    },
    {
     "name": "stdout",
     "output_type": "stream",
     "text": [
      "[1555.7828369140625, 2142.477783203125, 596.4999389648438]\n"
     ]
    },
    {
     "name": "stderr",
     "output_type": "stream",
     "text": [
      "Downloading: 100%|██████████| 8/8 [00:00<00:00, 10.88it/s]\n",
      "Downloading: 100%|██████████| 8/8 [00:00<00:00, 11.33it/s]\n",
      "Downloading: 100%|██████████| 8/8 [00:00<00:00, 10.42it/s]\n"
     ]
    },
    {
     "name": "stdout",
     "output_type": "stream",
     "text": [
      "[906.6395263671875, 3850.671875, 2109.5]\n"
     ]
    },
    {
     "name": "stderr",
     "output_type": "stream",
     "text": [
      "Downloading: 100%|██████████| 4/4 [00:00<00:00,  6.06it/s]\n",
      "Downloading: 100%|██████████| 4/4 [00:00<00:00,  5.60it/s]\n",
      "Downloading: 100%|██████████| 4/4 [00:00<00:00,  6.29it/s]\n"
     ]
    },
    {
     "name": "stdout",
     "output_type": "stream",
     "text": [
      "[610.686279296875, 2344.14013671875, 1170.5]\n"
     ]
    },
    {
     "name": "stderr",
     "output_type": "stream",
     "text": [
      "Downloading: 100%|██████████| 8/8 [00:00<00:00, 11.22it/s]\n",
      "Downloading: 100%|██████████| 8/8 [00:00<00:00, 10.97it/s]\n",
      "Downloading: 100%|██████████| 8/8 [00:00<00:00, 11.01it/s]\n"
     ]
    },
    {
     "name": "stdout",
     "output_type": "stream",
     "text": [
      "[496.1651611328125, 2843.26025390625, 1204.5001220703125]\n"
     ]
    },
    {
     "name": "stderr",
     "output_type": "stream",
     "text": [
      "Downloading: 100%|██████████| 4/4 [00:00<00:00,  5.99it/s]\n",
      "Downloading: 100%|██████████| 4/4 [00:00<00:00,  5.47it/s]\n",
      "Downloading: 100%|██████████| 4/4 [00:00<00:00,  5.49it/s]\n"
     ]
    },
    {
     "name": "stdout",
     "output_type": "stream",
     "text": [
      "[964.952392578125, 2196.471435546875, 782.5000610351562]\n"
     ]
    },
    {
     "name": "stderr",
     "output_type": "stream",
     "text": [
      "Downloading: 100%|██████████| 4/4 [00:00<00:00,  5.80it/s]\n",
      "Downloading: 100%|██████████| 4/4 [00:00<00:00,  4.69it/s]\n",
      "Downloading: 100%|██████████| 4/4 [00:00<00:00,  5.67it/s]\n"
     ]
    },
    {
     "name": "stdout",
     "output_type": "stream",
     "text": [
      "[2879.197998046875, 1610.3914794921875, 817.5001220703125]\n"
     ]
    },
    {
     "name": "stderr",
     "output_type": "stream",
     "text": [
      "Downloading: 100%|██████████| 1/1 [00:00<00:00,  1.56it/s]\n",
      "Downloading: 100%|██████████| 1/1 [00:00<00:00,  1.76it/s]\n",
      "Downloading: 100%|██████████| 1/1 [00:00<00:00,  1.91it/s]\n"
     ]
    },
    {
     "name": "stdout",
     "output_type": "stream",
     "text": [
      "[1159.1865234375, 1432.600830078125, 858.5]\n"
     ]
    },
    {
     "name": "stderr",
     "output_type": "stream",
     "text": [
      "Downloading: 100%|██████████| 8/8 [00:00<00:00,  9.82it/s]\n",
      "Downloading: 100%|██████████| 8/8 [00:00<00:00, 10.26it/s]\n",
      "Downloading: 100%|██████████| 8/8 [00:00<00:00, 10.01it/s]\n"
     ]
    },
    {
     "name": "stdout",
     "output_type": "stream",
     "text": [
      "[2199.487060546875, 1316.16748046875, 873.4999389648438]\n"
     ]
    },
    {
     "name": "stderr",
     "output_type": "stream",
     "text": [
      "Downloading: 100%|██████████| 8/8 [00:00<00:00, 11.21it/s]\n",
      "Downloading: 100%|██████████| 8/8 [00:00<00:00, 10.90it/s]\n",
      "Downloading: 100%|██████████| 8/8 [00:00<00:00,  9.14it/s]\n"
     ]
    },
    {
     "name": "stdout",
     "output_type": "stream",
     "text": [
      "[3845.113525390625, 1957.6746826171875, 955.5000610351562]\n"
     ]
    },
    {
     "name": "stderr",
     "output_type": "stream",
     "text": [
      "Downloading: 100%|██████████| 4/4 [00:00<00:00,  5.92it/s]\n",
      "Downloading: 100%|██████████| 4/4 [00:00<00:00,  5.53it/s]\n",
      "Downloading: 100%|██████████| 4/4 [00:00<00:00,  6.29it/s]\n"
     ]
    },
    {
     "name": "stdout",
     "output_type": "stream",
     "text": [
      "[3908.05224609375, 3033.82763671875, 957.5000610351562]\n"
     ]
    },
    {
     "name": "stderr",
     "output_type": "stream",
     "text": [
      "Downloading: 100%|██████████| 2/2 [00:00<00:00,  2.81it/s]\n",
      "Downloading: 100%|██████████| 2/2 [00:00<00:00,  2.26it/s]\n",
      "Downloading: 100%|██████████| 2/2 [00:00<00:00,  3.68it/s]\n"
     ]
    },
    {
     "name": "stdout",
     "output_type": "stream",
     "text": [
      "[1102.3961181640625, 1359.181884765625, 957.5]\n"
     ]
    },
    {
     "name": "stderr",
     "output_type": "stream",
     "text": [
      "Downloading: 100%|██████████| 2/2 [00:00<00:00,  3.56it/s]\n",
      "Downloading: 100%|██████████| 2/2 [00:00<00:00,  3.23it/s]\n",
      "Downloading: 100%|██████████| 2/2 [00:00<00:00,  2.32it/s]\n"
     ]
    }
   ],
   "source": [
    "# for ilastik - blue/1 is axon yellow/0 is bg\n",
    "# prediction model is /Users/thomasathey/Documents/mimlab/mouselight/ailey/detection_axon/axon_segmentation.ilp\n",
    "\n",
    "\n",
    "isExist = os.path.exists(base_dir)\n",
    "if not isExist:\n",
    "    print(f\"creating directory: {base_dir}\")\n",
    "    os.makedirs(base_dir)\n",
    "\n",
    "if dataset_to_save == \"train\":\n",
    "    centers = centers_train\n",
    "elif dataset_to_save == \"val\":\n",
    "    centers = centers_val\n",
    "else:\n",
    "    raise ValueError(\"invalid dataset\")\n",
    "\n",
    "for i, center in enumerate(centers):\n",
    "    print(center)\n",
    "    image_fg = vol_fg[\n",
    "        center[0] - 49 : center[0] + 50,\n",
    "        center[1] - 49 : center[1] + 50,\n",
    "        center[2] - 49 : center[2] + 50,\n",
    "    ]\n",
    "    image_fg = image_fg[:, :, :, 0]\n",
    "\n",
    "    image_bg = vol_bg[\n",
    "        center[0] - 49 : center[0] + 50,\n",
    "        center[1] - 49 : center[1] + 50,\n",
    "        center[2] - 49 : center[2] + 50,\n",
    "    ]\n",
    "    image_bg = image_bg[:, :, :, 0]\n",
    "\n",
    "    image_endo = vol_endo[\n",
    "        center[0] - 49 : center[0] + 50,\n",
    "        center[1] - 49 : center[1] + 50,\n",
    "        center[2] - 49 : center[2] + 50,\n",
    "    ]\n",
    "    image_endo = image_endo[:, :, :, 0]\n",
    "\n",
    "    image_2channel = np.stack([image_bg, image_fg, image_endo], axis=0)\n",
    "\n",
    "    fname = f\"{base_dir}{dataset_to_save}_{int(center[0])}_{int(center[1])}_{int(center[2])}.h5\"\n",
    "    with h5py.File(fname, \"w\") as f:\n",
    "        dset = f.create_dataset(\"image_2channel\", data=image_2channel)"
   ]
  },
  {
   "cell_type": "markdown",
   "metadata": {},
   "source": [
    "# View downloaded data (optional)"
   ]
  },
  {
   "cell_type": "markdown",
   "metadata": {},
   "source": [
    "## Inputs"
   ]
  },
  {
   "cell_type": "code",
   "execution_count": null,
   "metadata": {},
   "outputs": [],
   "source": [
    "dset = \"val\"\n",
    "num = \"3\"\n",
    "scale = [1.8, 1.8, 2]"
   ]
  },
  {
   "cell_type": "markdown",
   "metadata": {},
   "source": [
    "## View Image"
   ]
  },
  {
   "cell_type": "code",
   "execution_count": null,
   "metadata": {},
   "outputs": [],
   "source": [
    "fname = base_dir + dset + \"_\" + num + \".h5\"\n",
    "\n",
    "with h5py.File(fname, \"r\") as f:\n",
    "    pred = f.get(\"image_2channel\")\n",
    "    image_bg = pred[0, :, :, :]\n",
    "    image_fg = pred[1, :, :, :]\n",
    "    image_endo = pred[2, :, :, :]\n",
    "\n",
    "viewer = napari.Viewer(ndisplay=3)\n",
    "viewer.add_image(image_fg, scale=scale)\n",
    "viewer.add_image(image_bg, scale=scale)\n",
    "viewer.add_image(image_endo, scale=scale)\n",
    "viewer.scale_bar.visible = True\n",
    "viewer.scale_bar.unit = \"um\""
   ]
  },
  {
   "cell_type": "markdown",
   "metadata": {},
   "source": [
    "# Execute Ilastik Training\n",
    "\n",
    "for ilastik - blue/1 is axon yellow/0 is bg\n",
    "\n",
    "Apply the ilastik pixel classification model to the downloaded data, results should be located in the same directory at the subvolumes, with the addition of \"_Probabilities\" appended to the file names"
   ]
  },
  {
   "cell_type": "markdown",
   "metadata": {},
   "source": [
    "# Check results"
   ]
  },
  {
   "cell_type": "markdown",
   "metadata": {},
   "source": [
    "## Validation"
   ]
  },
  {
   "cell_type": "code",
   "execution_count": 9,
   "metadata": {},
   "outputs": [
    {
     "name": "stdout",
     "output_type": "stream",
     "text": [
      "32 total validation subvolumes\n",
      "Thresh: 0.02 --- Total prec.: 0.172 total rec.: 0.997 w/1226/33888 total pos/neg voxels. F-score: 0.2927\n",
      "Thresh: 0.04 --- Total prec.: 0.236 total rec.: 0.990 w/1226/33888 total pos/neg voxels. F-score: 0.3807\n",
      "Thresh: 0.06 --- Total prec.: 0.298 total rec.: 0.986 w/1226/33888 total pos/neg voxels. F-score: 0.4578\n",
      "Thresh: 0.08 --- Total prec.: 0.353 total rec.: 0.982 w/1226/33888 total pos/neg voxels. F-score: 0.5199\n",
      "Thresh: 0.10 --- Total prec.: 0.405 total rec.: 0.970 w/1226/33888 total pos/neg voxels. F-score: 0.5712\n",
      "Thresh: 0.12 --- Total prec.: 0.453 total rec.: 0.956 w/1226/33888 total pos/neg voxels. F-score: 0.6149\n",
      "Thresh: 0.14 --- Total prec.: 0.496 total rec.: 0.942 w/1226/33888 total pos/neg voxels. F-score: 0.6496\n",
      "Thresh: 0.16 --- Total prec.: 0.530 total rec.: 0.928 w/1226/33888 total pos/neg voxels. F-score: 0.6748\n",
      "Thresh: 0.18 --- Total prec.: 0.571 total rec.: 0.918 w/1226/33888 total pos/neg voxels. F-score: 0.7040\n",
      "Thresh: 0.20 --- Total prec.: 0.608 total rec.: 0.904 w/1226/33888 total pos/neg voxels. F-score: 0.7273\n",
      "Thresh: 0.22 --- Total prec.: 0.644 total rec.: 0.895 w/1226/33888 total pos/neg voxels. F-score: 0.7488\n",
      "Thresh: 0.24 --- Total prec.: 0.672 total rec.: 0.886 w/1226/33888 total pos/neg voxels. F-score: 0.7643\n",
      "Thresh: 0.26 --- Total prec.: 0.706 total rec.: 0.874 w/1226/33888 total pos/neg voxels. F-score: 0.7811\n",
      "Thresh: 0.28 --- Total prec.: 0.734 total rec.: 0.863 w/1226/33888 total pos/neg voxels. F-score: 0.7934\n",
      "Thresh: 0.30 --- Total prec.: 0.755 total rec.: 0.846 w/1226/33888 total pos/neg voxels. F-score: 0.7980\n",
      "Thresh: 0.32 --- Total prec.: 0.778 total rec.: 0.824 w/1226/33888 total pos/neg voxels. F-score: 0.8003\n",
      "Thresh: 0.34 --- Total prec.: 0.806 total rec.: 0.814 w/1226/33888 total pos/neg voxels. F-score: 0.8101\n",
      "Thresh: 0.36 --- Total prec.: 0.831 total rec.: 0.800 w/1226/33888 total pos/neg voxels. F-score: 0.8151\n",
      "Thresh: 0.38 --- Total prec.: 0.852 total rec.: 0.779 w/1226/33888 total pos/neg voxels. F-score: 0.8138\n",
      "Thresh: 0.40 --- Total prec.: 0.882 total rec.: 0.762 w/1226/33888 total pos/neg voxels. F-score: 0.8175\n",
      "Thresh: 0.42 --- Total prec.: 0.895 total rec.: 0.733 w/1226/33888 total pos/neg voxels. F-score: 0.8059\n",
      "Thresh: 0.44 --- Total prec.: 0.911 total rec.: 0.711 w/1226/33888 total pos/neg voxels. F-score: 0.7989\n",
      "Thresh: 0.46 --- Total prec.: 0.921 total rec.: 0.690 w/1226/33888 total pos/neg voxels. F-score: 0.7888\n",
      "Thresh: 0.48 --- Total prec.: 0.939 total rec.: 0.673 w/1226/33888 total pos/neg voxels. F-score: 0.7838\n",
      "Thresh: 0.50 --- Total prec.: 0.953 total rec.: 0.648 w/1226/33888 total pos/neg voxels. F-score: 0.7718\n",
      "Thresh: 0.52 --- Total prec.: 0.965 total rec.: 0.636 w/1226/33888 total pos/neg voxels. F-score: 0.7670\n",
      "Thresh: 0.54 --- Total prec.: 0.975 total rec.: 0.602 w/1226/33888 total pos/neg voxels. F-score: 0.7443\n",
      "Thresh: 0.56 --- Total prec.: 0.982 total rec.: 0.579 w/1226/33888 total pos/neg voxels. F-score: 0.7286\n",
      "Thresh: 0.58 --- Total prec.: 0.986 total rec.: 0.560 w/1226/33888 total pos/neg voxels. F-score: 0.7138\n",
      "Thresh: 0.60 --- Total prec.: 0.988 total rec.: 0.531 w/1226/33888 total pos/neg voxels. F-score: 0.6907\n",
      "Thresh: 0.62 --- Total prec.: 0.990 total rec.: 0.504 w/1226/33888 total pos/neg voxels. F-score: 0.6681\n",
      "Thresh: 0.64 --- Total prec.: 0.993 total rec.: 0.475 w/1226/33888 total pos/neg voxels. F-score: 0.6424\n",
      "Thresh: 0.66 --- Total prec.: 0.995 total rec.: 0.454 w/1226/33888 total pos/neg voxels. F-score: 0.6230\n",
      "Thresh: 0.68 --- Total prec.: 0.994 total rec.: 0.418 w/1226/33888 total pos/neg voxels. F-score: 0.5890\n",
      "Thresh: 0.70 --- Total prec.: 0.998 total rec.: 0.378 w/1226/33888 total pos/neg voxels. F-score: 0.5488\n",
      "Thresh: 0.72 --- Total prec.: 0.998 total rec.: 0.348 w/1226/33888 total pos/neg voxels. F-score: 0.5163\n",
      "Thresh: 0.74 --- Total prec.: 0.997 total rec.: 0.322 w/1226/33888 total pos/neg voxels. F-score: 0.4871\n",
      "Thresh: 0.76 --- Total prec.: 0.997 total rec.: 0.295 w/1226/33888 total pos/neg voxels. F-score: 0.4556\n",
      "Thresh: 0.78 --- Total prec.: 1.000 total rec.: 0.272 w/1226/33888 total pos/neg voxels. F-score: 0.4282\n",
      "Thresh: 0.80 --- Total prec.: 1.000 total rec.: 0.257 w/1226/33888 total pos/neg voxels. F-score: 0.4088\n",
      "Thresh: 0.82 --- Total prec.: 1.000 total rec.: 0.228 w/1226/33888 total pos/neg voxels. F-score: 0.3718\n",
      "Thresh: 0.84 --- Total prec.: 1.000 total rec.: 0.200 w/1226/33888 total pos/neg voxels. F-score: 0.3331\n",
      "Thresh: 0.86 --- Total prec.: 1.000 total rec.: 0.168 w/1226/33888 total pos/neg voxels. F-score: 0.2877\n",
      "Thresh: 0.88 --- Total prec.: 1.000 total rec.: 0.136 w/1226/33888 total pos/neg voxels. F-score: 0.2398\n",
      "Thresh: 0.90 --- Total prec.: 1.000 total rec.: 0.109 w/1226/33888 total pos/neg voxels. F-score: 0.1971\n",
      "Thresh: 0.92 --- Total prec.: 1.000 total rec.: 0.089 w/1226/33888 total pos/neg voxels. F-score: 0.1633\n",
      "Thresh: 0.94 --- Total prec.: 1.000 total rec.: 0.060 w/1226/33888 total pos/neg voxels. F-score: 0.1138\n",
      "Thresh: 0.96 --- Total prec.: 1.000 total rec.: 0.038 w/1226/33888 total pos/neg voxels. F-score: 0.0738\n",
      "Thresh: 0.98 --- Total prec.: 1.000 total rec.: 0.007 w/1226/33888 total pos/neg voxels. F-score: 0.0130\n"
     ]
    },
    {
     "data": {
      "text/html": [
       "<pre style=\"white-space:pre;overflow-x:auto;line-height:normal;font-family:Menlo,'DejaVu Sans Mono',consolas,'Courier New',monospace\"><span style=\"font-weight: bold\">&lt;</span><span style=\"color: #ff00ff; text-decoration-color: #ff00ff; font-weight: bold\">matplotlib.legend.Legend</span><span style=\"color: #000000; text-decoration-color: #000000\"> object at </span><span style=\"color: #008080; text-decoration-color: #008080; font-weight: bold\">0x160eddfa0</span><span style=\"font-weight: bold\">&gt;</span>\n",
       "</pre>\n"
      ],
      "text/plain": [
       "\u001b[1m<\u001b[0m\u001b[1;95mmatplotlib.legend.Legend\u001b[0m\u001b[39m object at \u001b[0m\u001b[1;36m0x160eddfa0\u001b[0m\u001b[1m>\u001b[0m\n"
      ]
     },
     "metadata": {},
     "output_type": "display_data"
    },
    {
     "data": {
      "image/png": "[encoded data removed]"
     },
     "metadata": {
      "needs_background": "light"
     },
     "output_type": "display_data"
    }
   ],
   "source": [
    "spacing = 0.02\n",
    "thresholds = np.arange(spacing, 1.0, spacing)\n",
    "precisions = []\n",
    "recalls = []\n",
    "best_fscore = 0\n",
    "\n",
    "files = os.listdir(base_dir)\n",
    "files = [base_dir + f for f in files if \"val\" in f]\n",
    "files = [f for f in files if \"_Probabilities.h5\" in f]\n",
    "print(f\"{len(files)} total validation subvolumes\")\n",
    "\n",
    "for threshold in thresholds:\n",
    "    true_pos_total = 0\n",
    "    false_pos_total = 0\n",
    "    true_labels_total = 0\n",
    "    true_labels_total_neg = 0\n",
    "    for fname_prob in files:\n",
    "\n",
    "        fname_im = fname_prob[:-17] + \".h5\"\n",
    "        f = h5py.File(fname_im, \"r\")\n",
    "        im = f.get(\"image_2channel\")\n",
    "        im_bg = im[0, :, :, :]\n",
    "        im_fg = im[1, :, :, :]\n",
    "\n",
    "        fname_lab = fname_prob[:-17] + \"-image_2channel_Labels.h5\"\n",
    "        f = h5py.File(fname_lab, \"r\")\n",
    "        gt = f.get(\"exported_data\")\n",
    "        gt = gt[0, :, :, :]\n",
    "        pos_labels = gt == 2\n",
    "        neg_labels = gt == 1\n",
    "\n",
    "        f = h5py.File(fname_prob, \"r\")\n",
    "        seg = f.get(\"exported_data\")\n",
    "        seg = seg[1, :, :, :]\n",
    "        mask = seg > threshold\n",
    "\n",
    "        true_pos = np.sum(np.logical_and(mask, pos_labels))\n",
    "        true_pos_total += true_pos\n",
    "        false_pos = np.sum(np.logical_and(mask, gt == 1))\n",
    "        false_pos_total += false_pos\n",
    "        true_labels = np.sum(pos_labels)\n",
    "        true_labels_total += true_labels\n",
    "        true_labels_neg = np.sum(neg_labels)\n",
    "        true_labels_total_neg += true_labels_neg\n",
    "\n",
    "    precision_total = true_pos_total / (true_pos_total + false_pos_total)\n",
    "    recall_total = true_pos_total / true_labels_total\n",
    "    fscore = 2 / (1 / precision_total + 1 / recall_total)\n",
    "    print(\n",
    "        f\"Thresh: {threshold:.2f} --- Total prec.: {precision_total:.3f} total rec.: {recall_total:.3f} w/{true_labels_total}/{true_labels_total_neg} total pos/neg voxels. F-score: {fscore:.4f}\"\n",
    "    )\n",
    "    if fscore > best_fscore:\n",
    "        best_fscore = fscore\n",
    "        best_prec = precision_total\n",
    "        best_recall = recall_total\n",
    "        best_threshold = threshold\n",
    "    precisions.append(precision_total)\n",
    "    recalls.append(recall_total)\n",
    "plt.plot(recalls, precisions, label=\"Prec-Rec Curve\")\n",
    "plt.scatter(\n",
    "    [best_recall],\n",
    "    [best_prec],\n",
    "    c=\"red\",\n",
    "    label=f\"Best F-score: {best_fscore:.3f} (thresh {best_threshold:.2f})\",\n",
    ")\n",
    "plt.ylabel(\"Precision\")\n",
    "plt.xlabel(\"Recall\")\n",
    "plt.title(f\"Validation Brain {brain} w/{true_labels_total} Total Pos. Voxels\")\n",
    "plt.legend()"
   ]
  },
  {
   "cell_type": "markdown",
   "metadata": {},
   "source": [
    "## Examine best threshold"
   ]
  },
  {
   "cell_type": "code",
   "execution_count": null,
   "metadata": {},
   "outputs": [],
   "source": [
    "files = os.listdir(base_dir)\n",
    "files = [base_dir + f for f in files if \"val\" in f]\n",
    "files = [f for f in files if \"_Probabilities.h5\" in f]\n",
    "print(f\"{len(files)} total validation subvolumes\")\n",
    "\n",
    "\n",
    "for i, fname_prob in enumerate(files):\n",
    "    fname_im = fname_prob[:-17] + \".h5\"\n",
    "    f = h5py.File(fname_im, \"r\")\n",
    "    im = f.get(\"image_2channel\")\n",
    "    im_bg = im[0, :, :, :]\n",
    "    im_fg = im[1, :, :, :]\n",
    "    im_endo = im[2, :, :, :]\n",
    "\n",
    "    fname_lab = fname_prob[:-17] + \"-image_2channel_Labels.h5\"\n",
    "    f = h5py.File(fname_lab, \"r\")\n",
    "    gt = f.get(\"exported_data\")\n",
    "    gt = gt[0, :, :, :]\n",
    "    pos_labels = gt == 2\n",
    "    neg_labels = gt == 1\n",
    "\n",
    "    f = h5py.File(fname_prob, \"r\")\n",
    "    seg = f.get(\"exported_data\")\n",
    "    seg = seg[1, :, :, :]\n",
    "    mask = seg > best_threshold\n",
    "\n",
    "    true_pos = np.sum(np.logical_and(mask, pos_labels))\n",
    "    false_pos = np.sum(np.logical_and(mask, gt == 1))\n",
    "    true_labels = np.sum(pos_labels)\n",
    "    true_labels_neg = np.sum(neg_labels)\n",
    "\n",
    "    if true_labels == 0:\n",
    "        recall = 1\n",
    "    else:\n",
    "        recall = true_pos/true_labels\n",
    "\n",
    "    if true_pos + false_pos == 0:\n",
    "        precision = 1\n",
    "    else:\n",
    "        precision = true_pos/(true_pos + false_pos)\n",
    "\n",
    "    if precision < 0.8 or recall < 0.8:\n",
    "        print(f\"{i}) {fname_prob}: prec{precision} recall: {recall}\")\n",
    "        viewer = napari.Viewer(ndisplay=3)\n",
    "        viewer.add_image(im_fg, name=f\"fg {i}\")\n",
    "        viewer.add_image(im_bg, name=\"bg\")\n",
    "        viewer.add_image(im_endo, name=\"endo\")\n",
    "        viewer.add_labels(mask, name=\"mask\")\n",
    "        viewer.add_labels(pos_labels+2*neg_labels, name=\"pos labels\")\n",
    "\n"
   ]
  },
  {
   "cell_type": "markdown",
   "metadata": {},
   "source": [
    "## Paper figure for all validation"
   ]
  },
  {
   "cell_type": "code",
   "execution_count": 11,
   "metadata": {},
   "outputs": [
    {
     "name": "stdout",
     "output_type": "stream",
     "text": [
      "10 total validation subvolumes for brain 8650\n",
      "29 total validation subvolumes for brain 8649\n",
      "10 total validation subvolumes for brain 8613\n",
      "10 total validation subvolumes for brain 8589\n",
      "14 total validation subvolumes for brain 8590\n",
      "15 total validation subvolumes for brain 8788\n"
     ]
    },
    {
     "data": {
      "text/html": [
       "<pre style=\"white-space:pre;overflow-x:auto;line-height:normal;font-family:Menlo,'DejaVu Sans Mono',consolas,'Courier New',monospace\"><span style=\"font-weight: bold\">&lt;</span><span style=\"color: #ff00ff; text-decoration-color: #ff00ff; font-weight: bold\">AxesSubplot:</span><span style=\"color: #808000; text-decoration-color: #808000; font-weight: bold\">xlabel</span><span style=\"color: #000000; text-decoration-color: #000000\">=</span><span style=\"color: #008000; text-decoration-color: #008000\">'Recall'</span><span style=\"color: #000000; text-decoration-color: #000000\">, </span><span style=\"color: #808000; text-decoration-color: #808000\">ylabel</span><span style=\"color: #000000; text-decoration-color: #000000\">=</span><span style=\"color: #008000; text-decoration-color: #008000\">'Precision'</span><span style=\"font-weight: bold\">&gt;</span>\n",
       "</pre>\n"
      ],
      "text/plain": [
       "\u001b[1m<\u001b[0m\u001b[1;95mAxesSubplot:\u001b[0m\u001b[1;33mxlabel\u001b[0m\u001b[39m=\u001b[0m\u001b[32m'Recall'\u001b[0m\u001b[39m, \u001b[0m\u001b[33mylabel\u001b[0m\u001b[39m=\u001b[0m\u001b[32m'Precision'\u001b[0m\u001b[1m>\u001b[0m\n"
      ]
     },
     "metadata": {},
     "output_type": "display_data"
    },
    {
     "data": {
      "image/png": "[encoded data removed]"
     },
     "metadata": {},
     "output_type": "display_data"
    }
   ],
   "source": [
    "brains = [\"8650\", \"8649\", \n",
    "    \"8613\", \"8589\", \"8590\", \"8788\"]\n",
    "\n",
    "brain_ids = []\n",
    "precisions = []\n",
    "recalls = []\n",
    "\n",
    "best_precisions = []\n",
    "best_recalls = []\n",
    "best_fscores = {}\n",
    "\n",
    "for brain in brains:\n",
    "\n",
    "    base_dir = (\n",
    "        \"/Users/thomasathey/Documents/mimlab/mouselight/ailey/detection_axon/brain\"\n",
    "        + brain\n",
    "        + \"/\"\n",
    "    )\n",
    "\n",
    "    spacing = 0.02\n",
    "    thresholds = np.arange(spacing, 1.0, spacing)\n",
    "    best_fscore = 0\n",
    "\n",
    "    files = os.listdir(base_dir)\n",
    "    files = [base_dir + f for f in files if \"val\" in f]\n",
    "    files = [f for f in files if \"_Probabilities.h5\" in f]\n",
    "    fiiles = [f for f in files if \"val\" in f]\n",
    "\n",
    "    print(f\"{len(files)} total validation subvolumes for brain {brain}\")\n",
    "\n",
    "    for threshold in thresholds:\n",
    "        true_pos_total = 0\n",
    "        false_pos_total = 0\n",
    "        true_labels_total = 0\n",
    "        true_labels_total_neg = 0\n",
    "        for fname_prob in files:\n",
    "\n",
    "            fname_im = fname_prob[:-17] + \".h5\"\n",
    "            f = h5py.File(fname_im, \"r\")\n",
    "            im = f.get(\"image_2channel\")\n",
    "            im_bg = im[0, :, :, :]\n",
    "            im_fg = im[1, :, :, :]\n",
    "\n",
    "            fname_lab = fname_prob[:-17] + \"-image_2channel_Labels.h5\"\n",
    "            f = h5py.File(fname_lab, \"r\")\n",
    "            gt = f.get(\"exported_data\")\n",
    "            gt = gt[0, :, :, :]\n",
    "            pos_labels = gt == 2\n",
    "            neg_labels = gt == 1\n",
    "\n",
    "            f = h5py.File(fname_prob, \"r\")\n",
    "            seg = f.get(\"exported_data\")\n",
    "            seg = seg[1, :, :, :]\n",
    "            mask = seg > threshold\n",
    "\n",
    "            true_pos = np.sum(np.logical_and(mask, pos_labels))\n",
    "            true_pos_total += true_pos\n",
    "            false_pos = np.sum(np.logical_and(mask, gt == 1))\n",
    "            false_pos_total += false_pos\n",
    "            true_labels = np.sum(pos_labels)\n",
    "            true_labels_total += true_labels\n",
    "            true_labels_neg = np.sum(neg_labels)\n",
    "            true_labels_total_neg += true_labels_neg\n",
    "\n",
    "        precision_total = true_pos_total / (true_pos_total + false_pos_total)\n",
    "        recall_total = true_pos_total / true_labels_total\n",
    "\n",
    "        precisions.append(precision_total)\n",
    "        recalls.append(recall_total)\n",
    "        brain_ids.append(brain)\n",
    "\n",
    "        fscore = 2 / (1 / precision_total + 1 / recall_total)\n",
    "\n",
    "        if fscore > best_fscore:\n",
    "            best_fscore = fscore\n",
    "            best_prec = precision_total\n",
    "            best_recall = recall_total\n",
    "            best_threshold = threshold\n",
    "    best_precisions.append(best_prec)\n",
    "    best_recalls.append(best_recall)\n",
    "    best_fscores[brain] = best_fscore\n",
    "for i, brain_id in enumerate(brain_ids):\n",
    "    brain_ids[i] = brain_id + f\" - Max F-score: {best_fscores[brain_id]:.2f}\"\n",
    "\n",
    "data = {\"Sample\": brain_ids, \"Recall\": recalls, \"Precision\": precisions}\n",
    "df = pd.DataFrame(data=data)\n",
    "\n",
    "\n",
    "sns.set(rc={\"figure.figsize\": (10, 7)})\n",
    "sns.set(font_scale=2)\n",
    "sns.lineplot(data=df, x=\"Recall\", y=\"Precision\", hue=\"Sample\")\n",
    "sns.scatterplot(x=best_recalls, y=best_precisions)"
   ]
  },
  {
   "cell_type": "markdown",
   "metadata": {},
   "source": [
    "# Make annotation layer"
   ]
  },
  {
   "cell_type": "code",
   "execution_count": 13,
   "metadata": {},
   "outputs": [],
   "source": [
    "if \"base\" in brain2paths[brain].keys():\n",
    "    dir = brain2paths[brain][\"base\"] + \"axon_mask\"\n",
    "else:\n",
    "    dir = brain2paths[brain][\"mask\"]\n",
    "\n",
    "info = CloudVolume.create_new_info(\n",
    "    num_channels=1,\n",
    "    layer_type=\"segmentation\",\n",
    "    data_type=\"uint64\",  # Channel images might be 'uint8'\n",
    "    encoding=\"raw\",  # raw, jpeg, compressed_segmentation, fpzip, kempressed\n",
    "    resolution=vol_bg.resolution,  # Voxel scaling, units are in nanometers\n",
    "    voxel_offset=vol_bg.voxel_offset,  # x,y,z offset in voxels from the origin\n",
    "    # mesh            = 'mesh',\n",
    "    # Pick a convenient size for your underlying chunk representation\n",
    "    # Powers of two are recommended, doesn't need to cover image exactly\n",
    "    chunk_size=[128, 128, 2],  # units are voxels\n",
    "    volume_size=vol_bg.volume_size,  # e.g. a cubic millimeter dataset\n",
    ")\n",
    "vol_mask = CloudVolume(dir, info=info)\n",
    "vol_mask.commit_info()"
   ]
  },
  {
   "cell_type": "markdown",
   "metadata": {},
   "source": [
    "# Good samples:\n",
    "\n",
    "brains = {\n",
    "    \"8613\": \"tph2 vglut3\",\n",
    "    \"8650\": \"tph2 gad2\",\n",
    "    \"8589\": \"tph2 vglut3\",\n",
    "    \"8788\": \"tph2 vglut3\",\n",
    "}"
   ]
  },
  {
   "cell_type": "markdown",
   "metadata": {},
   "source": [
    "# View coronal heat maps"
   ]
  },
  {
   "cell_type": "markdown",
   "metadata": {},
   "source": [
    "## Inputs"
   ]
  },
  {
   "cell_type": "code",
   "execution_count": 28,
   "metadata": {},
   "outputs": [],
   "source": [
    "type2id = {\"tph2 gad2\": [\"8650\", \"8649\"],\n",
    "\"tph2 vglut3\": [\"8589\", \"8590\", \"8613\"]} #dictionary identifying subtype of brain\n",
    "type2id_good = {\"tph2 gad2\": [\"8650\"],\n",
    "\"tph2 vglut3\": [\"8788\", \"8613\", \"8589\", \"8786\"]}\n",
    "type2id_select = {\"tph2 gad2\": [\"8650\"],\n",
    "\"tph2 vglut3\": [\"8788\"]}\n",
    "\n",
    "type2id = type2id_good\n",
    "\n",
    "atlas_level = 5 #level of ARA to partition the figures\n",
    "\n",
    "atlas_path = \"/Users/thomasathey/Documents/mimlab/mouselight/ailey/ara/ara_10um.tif\" # Path to 10um atlas parcellation\n",
    "fold_on = True #Whether to fold results over midline"
   ]
  },
  {
   "cell_type": "markdown",
   "metadata": {},
   "source": [
    "## Setup Atlas"
   ]
  },
  {
   "cell_type": "code",
   "execution_count": 29,
   "metadata": {},
   "outputs": [],
   "source": [
    "import json\n",
    "from parse_ara import *\n",
    "import networkx as nx\n",
    "import numpy as np\n",
    "import matplotlib as mpl\n",
    "import matplotlib.pyplot as plt\n",
    "from pyvis.network import Network\n",
    "\n",
    "# create vikram object\n",
    "f = json.load(\n",
    "    open(\n",
    "        \"/Users/thomasathey/Documents/mimlab/mouselight/brainlit_parent/brainlit/experiments/deisseroth/ara_structure_ontology.json\",\n",
    "        \"r\",\n",
    "    )\n",
    ")\n",
    "\n",
    "tree = build_tree(f)\n",
    "stack = [tree]\n",
    "\n",
    "# create nx graph\n",
    "queue = [tree]\n",
    "cur_level = -1\n",
    "counter = 0\n",
    "G = nx.DiGraph()\n",
    "max_level = 0\n",
    "\n",
    "\n",
    "while len(queue) > 0:\n",
    "    node = queue.pop(0)\n",
    "    if node.level > max_level:\n",
    "        max_level = node.level\n",
    "    G.add_node(\n",
    "        node.id,\n",
    "        level=node.level,\n",
    "        st_level=node.st_level,\n",
    "        name=node.name,\n",
    "        acronym=node.acronym,\n",
    "        label=str(node.st_level) + \") \" + node.name,\n",
    "    )\n",
    "    if node.parent_id is not None:\n",
    "        G.add_edge(node.parent_id, node.id)\n",
    "\n",
    "    queue += node.children"
   ]
  },
  {
   "cell_type": "code",
   "execution_count": 30,
   "metadata": {},
   "outputs": [
    {
     "name": "stdout",
     "output_type": "stream",
     "text": [
      "Regions in selected atlas level (5)\n",
      "313: Midbrain\n",
      "528: Cerebellar cortex\n",
      "519: Cerebellar nuclei\n",
      "703: Cortical subplate\n",
      "477: Striatum\n",
      "803: Pallidum\n",
      "549: Thalamus\n",
      "1097: Hypothalamus\n",
      "771: Pons\n",
      "354: Medulla\n",
      "315: Isocortex\n",
      "698: Olfactory areas\n",
      "1089: Hippocampal formation\n"
     ]
    }
   ],
   "source": [
    "atlas_level_nodes = []\n",
    "\n",
    "print(f\"Regions in selected atlas level ({atlas_level})\")\n",
    "for node in G.nodes:\n",
    "    if G.nodes[node][\"st_level\"] == atlas_level:\n",
    "        atlas_level_nodes.append(node)\n",
    "        print(f\"{node}: {G.nodes[node]['name']}\")"
   ]
  },
  {
   "cell_type": "code",
   "execution_count": 31,
   "metadata": {},
   "outputs": [
    {
     "name": "stdout",
     "output_type": "stream",
     "text": [
      "Shape of atlas image: (1320, 800, 1140)\n"
     ]
    }
   ],
   "source": [
    "vols_transformed_gad = [CloudVolume(brain2paths[id][\"base\"] + \"axon_mask_transformed\") if \"base\" in brain2paths[id].keys() else CloudVolume(brain2paths[id][\"transformed_mask\"]) for id in type2id[\"tph2 gad2\"]]\n",
    "vols_transformed_vglut = [CloudVolume(brain2paths[id][\"base\"] + \"axon_mask_transformed\")  if \"base\" in brain2paths[id].keys() else CloudVolume(brain2paths[id][\"transformed_mask\"]) for id in type2id[\"tph2 vglut3\"]]\n",
    "\n",
    "atlas = io.imread(atlas_path)\n",
    "print(f\"Shape of atlas image: {atlas.shape}\")"
   ]
  },
  {
   "cell_type": "code",
   "execution_count": 32,
   "metadata": {},
   "outputs": [],
   "source": [
    "def find_atlas_level_label(label, atlas_level_nodes, atlas_level, G):\n",
    "    if label == 0 or label not in G.nodes or G.nodes[label][\"st_level\"] <= atlas_level:\n",
    "        return label\n",
    "    else:\n",
    "        counter = 0\n",
    "        # find which region of atlas_level is parent\n",
    "        for atlas_level_node in atlas_level_nodes:\n",
    "            if label in nx.algorithms.dag.descendants(G, source=atlas_level_node):\n",
    "                counter += 1\n",
    "                atlas_level_label = atlas_level_node\n",
    "        if counter == 0:\n",
    "            preds = list(G.predecessors(label))\n",
    "            if len(preds) != 1:\n",
    "                raise ValueError(f\"{len(preds)} predecessors of node {label}\")\n",
    "            atlas_level_label = find_atlas_level_label(preds[0], atlas_level_nodes, atlas_level, G)\n",
    "            counter += 1\n",
    "        if counter != 1:\n",
    "            raise ValueError(f\"{counter} atlas level predecessors of {label}\")\n",
    "        return atlas_level_label\n",
    "\n",
    "\n",
    "def fold(image):\n",
    "    half_width = np.round(image.shape[1]/2).astype(int)\n",
    "    left = image[:,:half_width]\n",
    "    right = image[:,half_width:]\n",
    "    left = left + np.flip(right, axis=1)\n",
    "    return left"
   ]
  },
  {
   "cell_type": "markdown",
   "metadata": {},
   "source": [
    "## Display heatmaps"
   ]
  },
  {
   "cell_type": "code",
   "execution_count": 27,
   "metadata": {},
   "outputs": [
    {
     "name": "stderr",
     "output_type": "stream",
     "text": [
      "Relabeling in z=100: 100%|██████████| 4/4 [00:00<00:00, 160.35it/s]\n"
     ]
    },
    {
     "name": "stdout",
     "output_type": "stream",
     "text": [
      "{0: '??', 698: 'Olfactory areas', 967: 'cranial nerves'}\n"
     ]
    },
    {
     "name": "stderr",
     "output_type": "stream",
     "text": [
      "Processing labels in z=100: 100%|██████████| 13/13 [00:00<00:00, 45.99it/s]\n",
      "Downloading: 100%|██████████| 1800/1800 [00:11<00:00, 155.06it/s]\n",
      "Downloading: 100%|██████████| 1800/1800 [00:11<00:00, 157.56it/s]\n",
      "Relabeling in z=300: 100%|██████████| 46/46 [00:00<00:00, 236.47it/s]\n"
     ]
    },
    {
     "name": "stdout",
     "output_type": "stream",
     "text": [
      "{0: '??', 698: 'Olfactory areas', 967: 'cranial nerves', 315: 'Isocortex', 526157184: '??'}\n"
     ]
    },
    {
     "name": "stderr",
     "output_type": "stream",
     "text": [
      "Processing labels in z=300: 100%|██████████| 9/9 [00:00<00:00, 48.58it/s]\n",
      "Downloading: 100%|██████████| 900/900 [00:05<00:00, 159.77it/s]\n",
      "Downloading: 100%|██████████| 900/900 [00:06<00:00, 142.95it/s]\n",
      "Relabeling in z=500: 100%|██████████| 104/104 [00:00<00:00, 242.28it/s]\n"
     ]
    },
    {
     "name": "stdout",
     "output_type": "stream",
     "text": [
      "{0: '??', 698: 'Olfactory areas', 967: 'cranial nerves', 315: 'Isocortex', 526157184: '??', 1089: 'Hippocampal formation', 991: 'medial forebrain bundle system', 477: 'Striatum', 1097: 'Hypothalamus', 73: 'ventricular systems', 803: 'Pallidum', 983: 'lateral forebrain bundle system', 703: 'Cortical subplate', 997: 'root', 1009: 'fiber tracts', 182305696: '??', 182305712: '??'}\n"
     ]
    },
    {
     "name": "stderr",
     "output_type": "stream",
     "text": [
      "Processing labels in z=500: 100%|██████████| 61/61 [00:01<00:00, 47.65it/s]\n",
      "Downloading: 100%|██████████| 900/900 [00:06<00:00, 148.41it/s]\n",
      "Downloading: 100%|██████████| 900/900 [00:05<00:00, 158.87it/s]\n",
      "Relabeling in z=700: 100%|██████████| 159/159 [00:00<00:00, 231.06it/s]\n"
     ]
    },
    {
     "name": "stdout",
     "output_type": "stream",
     "text": [
      "{0: '??', 698: 'Olfactory areas', 967: 'cranial nerves', 315: 'Isocortex', 526157184: '??', 1089: 'Hippocampal formation', 991: 'medial forebrain bundle system', 477: 'Striatum', 1097: 'Hypothalamus', 73: 'ventricular systems', 803: 'Pallidum', 983: 'lateral forebrain bundle system', 703: 'Cortical subplate', 997: 'root', 1009: 'fiber tracts', 182305696: '??', 182305712: '??', 549: 'Thalamus', 1000: 'extrapyramidal fiber systems', 312782560: '??', 560581568: '??'}\n"
     ]
    },
    {
     "name": "stderr",
     "output_type": "stream",
     "text": [
      "Processing labels in z=700: 100%|██████████| 194/194 [00:03<00:00, 49.14it/s]\n",
      "Downloading: 100%|██████████| 1800/1800 [00:12<00:00, 146.73it/s]\n",
      "Downloading: 100%|██████████| 1800/1800 [00:11<00:00, 160.16it/s]\n",
      "Relabeling in z=900: 100%|██████████| 124/124 [00:00<00:00, 237.97it/s]\n"
     ]
    },
    {
     "name": "stdout",
     "output_type": "stream",
     "text": [
      "{0: '??', 698: 'Olfactory areas', 967: 'cranial nerves', 315: 'Isocortex', 526157184: '??', 1089: 'Hippocampal formation', 991: 'medial forebrain bundle system', 477: 'Striatum', 1097: 'Hypothalamus', 73: 'ventricular systems', 803: 'Pallidum', 983: 'lateral forebrain bundle system', 703: 'Cortical subplate', 997: 'root', 1009: 'fiber tracts', 182305696: '??', 182305712: '??', 549: 'Thalamus', 1000: 'extrapyramidal fiber systems', 312782560: '??', 560581568: '??', 313: 'Midbrain', 960: 'cerebellum related fiber tracts', 771: 'Pons', 512: 'Cerebellum', 312782592: '??', 312782656: '??', 484682464: '??', 589508416: '??', 607344832: '??'}\n"
     ]
    },
    {
     "name": "stderr",
     "output_type": "stream",
     "text": [
      "Processing labels in z=900: 100%|██████████| 105/105 [00:02<00:00, 50.20it/s]\n",
      "Downloading: 100%|██████████| 1800/1800 [00:11<00:00, 162.69it/s]\n",
      "Downloading: 100%|██████████| 1800/1800 [00:10<00:00, 169.99it/s]\n",
      "Relabeling in z=1100: 100%|██████████| 56/56 [00:00<00:00, 405.55it/s]\n"
     ]
    },
    {
     "name": "stdout",
     "output_type": "stream",
     "text": [
      "{0: '??', 698: 'Olfactory areas', 967: 'cranial nerves', 315: 'Isocortex', 526157184: '??', 1089: 'Hippocampal formation', 991: 'medial forebrain bundle system', 477: 'Striatum', 1097: 'Hypothalamus', 73: 'ventricular systems', 803: 'Pallidum', 983: 'lateral forebrain bundle system', 703: 'Cortical subplate', 997: 'root', 1009: 'fiber tracts', 182305696: '??', 182305712: '??', 549: 'Thalamus', 1000: 'extrapyramidal fiber systems', 312782560: '??', 560581568: '??', 313: 'Midbrain', 960: 'cerebellum related fiber tracts', 771: 'Pons', 512: 'Cerebellum', 312782592: '??', 312782656: '??', 484682464: '??', 589508416: '??', 607344832: '??', 519: 'Cerebellar nuclei', 354: 'Medulla', 528: 'Cerebellar cortex'}\n"
     ]
    },
    {
     "name": "stderr",
     "output_type": "stream",
     "text": [
      "Processing labels in z=1100: 100%|██████████| 72/72 [00:01<00:00, 69.00it/s]\n",
      "Downloading: 100%|██████████| 900/900 [00:05<00:00, 150.96it/s]\n",
      "Downloading: 100%|██████████| 900/900 [00:05<00:00, 153.22it/s]\n"
     ]
    }
   ],
   "source": [
    "new_labels = {}\n",
    "for z in np.arange(100, 1300, 200):\n",
    "    slice = atlas[z, :, :]\n",
    "    newslice = np.copy(slice)\n",
    "    for label in tqdm(np.unique(slice), desc=f\"Relabeling in z={z}\"):\n",
    "        atlas_level_label = find_atlas_level_label(label, atlas_level_nodes, atlas_level, G)\n",
    "        newslice[slice == label] = atlas_level_label\n",
    "        if atlas_level_label not in new_labels.keys():\n",
    "            if atlas_level_label in G.nodes:\n",
    "                name = G.nodes[atlas_level_label][\"name\"]\n",
    "            else:\n",
    "                name = \"??\"\n",
    "            new_labels[atlas_level_label] = name\n",
    "\n",
    "    print(new_labels)\n",
    "\n",
    "    labels = measure.label(newslice)\n",
    "    borders = 0 * labels\n",
    "    for label in tqdm(np.unique(labels), desc=f\"Processing labels in z={z}\"):\n",
    "        if label != 0:\n",
    "            mask = np.array(labels == label, dtype=\"int\")\n",
    "            erode = np.array(ndi.binary_erosion(mask))\n",
    "            outline = mask - erode\n",
    "            borders += outline\n",
    "\n",
    "    v = napari.Viewer()\n",
    "    #v.add_labels(newslice, scale = [10,10])\n",
    "\n",
    "    #get projection data\n",
    "    for volnum, vol_transformed_gad in enumerate(vols_transformed_gad):\n",
    "        slice_gad = np.squeeze(vol_transformed_gad[z-10:z+10,:,:])\n",
    "        slice_gad = ndi.gaussian_filter(slice_gad.astype(float), sigma=(3,3,3))[10,:,:]\n",
    "        slice_gad[newslice == 0] = 0\n",
    "        if volnum == 0:\n",
    "            slice_gad_total = slice_gad\n",
    "        else:\n",
    "            slice_gad_total += slice_gad\n",
    "\n",
    "    for volnum, vol_transformed_vglut in enumerate(vols_transformed_vglut):\n",
    "        slice_vglut = np.squeeze(vol_transformed_vglut[z-10:z+10,:,:])\n",
    "        slice_vglut = ndi.gaussian_filter(slice_vglut.astype(float), sigma=(3,3,3))[10,:,:]\n",
    "        slice_vglut[newslice == 0] = 0\n",
    "        if volnum == 0:\n",
    "            slice_vglut_total = slice_vglut\n",
    "        else:\n",
    "            slice_vglut_total += slice_vglut\n",
    "\n",
    "    #only show hemisphere\n",
    "    slice_vglut_total /= np.amax(slice_vglut_total)\n",
    "    slice_gad_total /= np.amax(slice_gad_total)\n",
    "\n",
    "    if fold_on:\n",
    "        slice_gad_total = fold(slice_gad_total)\n",
    "        slice_vglut_total = fold(slice_vglut_total)\n",
    "        borders = borders[:,:int(borders.shape[1]/2)]\n",
    "\n",
    "    projections= np.stack([slice_gad_total,slice_vglut_total,0*slice_vglut_total], axis = -1)\n",
    "    v.add_image(projections, rgb=True, scale = [10,10], name=f\"vglut=green,gad2=red\")\n",
    "    v.add_labels(borders*2, scale = [10,10], name=f\"z={z}\")\n",
    "    v.scale_bar.unit = \"um\"\n",
    "    v.scale_bar.visible = True\n"
   ]
  },
  {
   "cell_type": "markdown",
   "metadata": {},
   "source": [
    "# Display bar charts"
   ]
  },
  {
   "cell_type": "markdown",
   "metadata": {},
   "source": [
    "## Inputs"
   ]
  },
  {
   "cell_type": "code",
   "execution_count": 19,
   "metadata": {},
   "outputs": [],
   "source": [
    "brains = {\n",
    "    # \"3\": \"sert cre\",\n",
    "    # \"4\": \"sert cre\",\n",
    "    \"8613\": \"tph2 vglut3\",\n",
    "    \"8604\": \"tbd\",\n",
    "    \"8650\": \"tph2 gad2\",\n",
    "    \"8589\": \"tph2 vglut3\",\n",
    "    #\"8590\": \"tph2 vglut3\",\n",
    "    #\"8649\": \"tph2 gad2\",\n",
    "    \"8788\": \"tph2 vglut3\",\n",
    "    \"8786\": \"tph2 vglut3\",\n",
    "    \"11537\": \"tph2 gad2\",\n",
    "    \"8790\": \"tph2 vglut3\"\n",
    "}\n",
    "\n",
    "level = \"coarse\" #coarse or fine\n",
    "\n",
    "regions = [688, 698, 1089, 583, 477, 803, 703, 1097, 549, 313, 1065]\n",
    "allen_regions = [\n",
    "    315,\n",
    "    698,\n",
    "    1089,\n",
    "    703,\n",
    "    477,\n",
    "    803,\n",
    "    549,\n",
    "    1097,\n",
    "    313,\n",
    "    771,\n",
    "    354,\n",
    "    512,\n",
    "]  # https://connectivity.brain-map.org/projection/experiment/480074702?imageId=480075280&initImage=TWO_PHOTON&x=17028&y=11704&z=3"
   ]
  },
  {
   "cell_type": "markdown",
   "metadata": {},
   "source": [
    "## Setup data"
   ]
  },
  {
   "cell_type": "code",
   "execution_count": 13,
   "metadata": {},
   "outputs": [],
   "source": [
    "counts = {}\n",
    "for gene in set(brains.values()):\n",
    "    count = 0\n",
    "    for brain in brains.keys():\n",
    "        if brains[brain] == gene:\n",
    "            count += 1\n",
    "    counts[gene] = count\n",
    "\n",
    "\n",
    "quantification_dicts = {}\n",
    "\n",
    "for brain in brains.keys():\n",
    "    path = (\n",
    "        \"/Users/thomasathey/Documents/mimlab/mouselight/ailey/detection_axon/wholebrain_results/wholebrain_\"\n",
    "        + brain\n",
    "        + \".pkl\"\n",
    "    )\n",
    "    with open(path, \"rb\") as f:\n",
    "        quantification_dict = pickle.load(f)\n",
    "\n",
    "    quantification_dicts[brain] = quantification_dict"
   ]
  },
  {
   "cell_type": "code",
   "execution_count": 14,
   "metadata": {},
   "outputs": [],
   "source": [
    "f = json.load(\n",
    "    open(\n",
    "        \"/Users/thomasathey/Documents/mimlab/mouselight/brainlit_parent/brainlit/experiments/deisseroth/ara_structure_ontology.json\",\n",
    "        \"r\",\n",
    "    )\n",
    ")\n",
    "\n",
    "tree = build_tree(f)\n",
    "stack = [tree]"
   ]
  },
  {
   "cell_type": "code",
   "execution_count": 15,
   "metadata": {},
   "outputs": [
    {
     "name": "stdout",
     "output_type": "stream",
     "text": [
      "Max level: 10\n",
      "0\n",
      "0\n",
      "2343053.0\n",
      "196340416.0\n",
      "493480545.0\n",
      "27103979712.0\n"
     ]
    }
   ],
   "source": [
    "queue = [tree]\n",
    "cur_level = -1\n",
    "counter = 0\n",
    "G = nx.DiGraph()\n",
    "max_level = 0\n",
    "\n",
    "# Initialize nodes\n",
    "\n",
    "while len(queue) > 0:\n",
    "    node = queue.pop(0)\n",
    "    if node.level > max_level:\n",
    "        max_level = node.level\n",
    "    G.add_node(\n",
    "        node.id,\n",
    "        level=node.level,\n",
    "        st_level=node.st_level,\n",
    "        name=node.name,\n",
    "        acronym=node.acronym,\n",
    "        label=str(node.st_level) + \") \" + node.name,\n",
    "    )\n",
    "    for brain in quantification_dicts.keys():\n",
    "        G.nodes[node.id][brain + \" axon\"] = 0\n",
    "        G.nodes[node.id][brain + \" total\"] = 0\n",
    "    if node.parent_id is not None:\n",
    "        G.add_edge(node.parent_id, node.id)\n",
    "\n",
    "    queue += node.children\n",
    "\n",
    "# add data\n",
    "i_test = 0\n",
    "print(f\"Max level: {max_level}\")\n",
    "print(G.nodes[997][list(quantification_dicts.keys())[i_test] + \" axon\"])\n",
    "print(G.nodes[997][list(quantification_dicts.keys())[i_test] + \" total\"])\n",
    "for brain, quantification_dict in quantification_dicts.items():\n",
    "    for key in quantification_dict.keys():\n",
    "        if key in G.nodes:\n",
    "            G.nodes[key][brain + \" axon\"] = G.nodes[key][brain + \" axon\"] + float(\n",
    "                quantification_dict[key][1]\n",
    "            )\n",
    "            G.nodes[key][brain + \" total\"] = G.nodes[key][brain + \" total\"] + float(\n",
    "                quantification_dict[key][0]\n",
    "            )\n",
    "print(G.nodes[997][list(quantification_dicts.keys())[i_test] + \" axon\"])\n",
    "print(G.nodes[997][list(quantification_dicts.keys())[i_test] + \" total\"])\n",
    "\n",
    "# add child data to parent data\n",
    "for brain in quantification_dicts.keys():\n",
    "    for lvl in range(max_level, 0, -1):\n",
    "        for node in G.nodes:\n",
    "            if G.nodes[node][\"level\"] == lvl:\n",
    "                parent = list(G.in_edges(node))[0][0]\n",
    "                G.nodes[parent][brain + \" axon\"] = (\n",
    "                    G.nodes[parent][brain + \" axon\"] + G.nodes[node][brain + \" axon\"]\n",
    "                )\n",
    "                G.nodes[parent][brain + \" total\"] = (\n",
    "                    G.nodes[parent][brain + \" total\"] + G.nodes[node][brain + \" total\"]\n",
    "                )\n",
    "print(G.nodes[997][list(quantification_dicts.keys())[i_test] + \" axon\"])\n",
    "print(G.nodes[997][list(quantification_dicts.keys())[i_test] + \" total\"])\n"
   ]
  },
  {
   "cell_type": "code",
   "execution_count": 16,
   "metadata": {},
   "outputs": [
    {
     "data": {
      "text/html": [
       "<pre style=\"white-space:pre;overflow-x:auto;line-height:normal;font-family:Menlo,'DejaVu Sans Mono',consolas,'Courier New',monospace\">\n",
       "<span style=\"font-weight: bold\">{</span>\n",
       "    <span style=\"color: #008000; text-decoration-color: #008000\">'level'</span>: <span style=\"color: #008080; text-decoration-color: #008080; font-weight: bold\">6</span>,\n",
       "    <span style=\"color: #008000; text-decoration-color: #008000\">'st_level'</span>: <span style=\"color: #008080; text-decoration-color: #008080; font-weight: bold\">8</span>,\n",
       "    <span style=\"color: #008000; text-decoration-color: #008000\">'name'</span>: <span style=\"color: #008000; text-decoration-color: #008000\">'Dorsal nucleus raphe'</span>,\n",
       "    <span style=\"color: #008000; text-decoration-color: #008000\">'acronym'</span>: <span style=\"color: #008000; text-decoration-color: #008000\">'DR'</span>,\n",
       "    <span style=\"color: #008000; text-decoration-color: #008000\">'label'</span>: <span style=\"color: #008000; text-decoration-color: #008000\">'8) Dorsal nucleus raphe'</span>,\n",
       "    <span style=\"color: #008000; text-decoration-color: #008000\">'8613 axon'</span>: <span style=\"color: #008080; text-decoration-color: #008080; font-weight: bold\">678906.0</span>,\n",
       "    <span style=\"color: #008000; text-decoration-color: #008000\">'8613 total'</span>: <span style=\"color: #008080; text-decoration-color: #008080; font-weight: bold\">8223808.0</span>,\n",
       "    <span style=\"color: #008000; text-decoration-color: #008000\">'8604 axon'</span>: <span style=\"color: #008080; text-decoration-color: #008080; font-weight: bold\">8406.0</span>,\n",
       "    <span style=\"color: #008000; text-decoration-color: #008000\">'8604 total'</span>: <span style=\"color: #008080; text-decoration-color: #008080; font-weight: bold\">6916288.0</span>,\n",
       "    <span style=\"color: #008000; text-decoration-color: #008000\">'8650 axon'</span>: <span style=\"color: #008080; text-decoration-color: #008080; font-weight: bold\">736585.0</span>,\n",
       "    <span style=\"color: #008000; text-decoration-color: #008000\">'8650 total'</span>: <span style=\"color: #008080; text-decoration-color: #008080; font-weight: bold\">9140032.0</span>,\n",
       "    <span style=\"color: #008000; text-decoration-color: #008000\">'8589 axon'</span>: <span style=\"color: #008080; text-decoration-color: #008080; font-weight: bold\">801477.0</span>,\n",
       "    <span style=\"color: #008000; text-decoration-color: #008000\">'8589 total'</span>: <span style=\"color: #008080; text-decoration-color: #008080; font-weight: bold\">11866176.0</span>,\n",
       "    <span style=\"color: #008000; text-decoration-color: #008000\">'8788 axon'</span>: <span style=\"color: #008080; text-decoration-color: #008080; font-weight: bold\">935647.0</span>,\n",
       "    <span style=\"color: #008000; text-decoration-color: #008000\">'8788 total'</span>: <span style=\"color: #008080; text-decoration-color: #008080; font-weight: bold\">25592960.0</span>,\n",
       "    <span style=\"color: #008000; text-decoration-color: #008000\">'8786 axon'</span>: <span style=\"color: #008080; text-decoration-color: #008080; font-weight: bold\">78676.0</span>,\n",
       "    <span style=\"color: #008000; text-decoration-color: #008000\">'8786 total'</span>: <span style=\"color: #008080; text-decoration-color: #008080; font-weight: bold\">38054016.0</span>,\n",
       "    <span style=\"color: #008000; text-decoration-color: #008000\">'11537 axon'</span>: <span style=\"color: #008080; text-decoration-color: #008080; font-weight: bold\">0.0</span>,\n",
       "    <span style=\"color: #008000; text-decoration-color: #008000\">'11537 total'</span>: <span style=\"color: #008080; text-decoration-color: #008080; font-weight: bold\">36904384.0</span>,\n",
       "    <span style=\"color: #008000; text-decoration-color: #008000\">'8790 axon'</span>: <span style=\"color: #008080; text-decoration-color: #008080; font-weight: bold\">106404.0</span>,\n",
       "    <span style=\"color: #008000; text-decoration-color: #008000\">'8790 total'</span>: <span style=\"color: #008080; text-decoration-color: #008080; font-weight: bold\">36235328.0</span>\n",
       "<span style=\"font-weight: bold\">}</span>\n",
       "</pre>\n"
      ],
      "text/plain": [
       "\n",
       "\u001b[1m{\u001b[0m\n",
       "    \u001b[32m'level'\u001b[0m: \u001b[1;36m6\u001b[0m,\n",
       "    \u001b[32m'st_level'\u001b[0m: \u001b[1;36m8\u001b[0m,\n",
       "    \u001b[32m'name'\u001b[0m: \u001b[32m'Dorsal nucleus raphe'\u001b[0m,\n",
       "    \u001b[32m'acronym'\u001b[0m: \u001b[32m'DR'\u001b[0m,\n",
       "    \u001b[32m'label'\u001b[0m: \u001b[32m'8\u001b[0m\u001b[32m)\u001b[0m\u001b[32m Dorsal nucleus raphe'\u001b[0m,\n",
       "    \u001b[32m'8613 axon'\u001b[0m: \u001b[1;36m678906.0\u001b[0m,\n",
       "    \u001b[32m'8613 total'\u001b[0m: \u001b[1;36m8223808.0\u001b[0m,\n",
       "    \u001b[32m'8604 axon'\u001b[0m: \u001b[1;36m8406.0\u001b[0m,\n",
       "    \u001b[32m'8604 total'\u001b[0m: \u001b[1;36m6916288.0\u001b[0m,\n",
       "    \u001b[32m'8650 axon'\u001b[0m: \u001b[1;36m736585.0\u001b[0m,\n",
       "    \u001b[32m'8650 total'\u001b[0m: \u001b[1;36m9140032.0\u001b[0m,\n",
       "    \u001b[32m'8589 axon'\u001b[0m: \u001b[1;36m801477.0\u001b[0m,\n",
       "    \u001b[32m'8589 total'\u001b[0m: \u001b[1;36m11866176.0\u001b[0m,\n",
       "    \u001b[32m'8788 axon'\u001b[0m: \u001b[1;36m935647.0\u001b[0m,\n",
       "    \u001b[32m'8788 total'\u001b[0m: \u001b[1;36m25592960.0\u001b[0m,\n",
       "    \u001b[32m'8786 axon'\u001b[0m: \u001b[1;36m78676.0\u001b[0m,\n",
       "    \u001b[32m'8786 total'\u001b[0m: \u001b[1;36m38054016.0\u001b[0m,\n",
       "    \u001b[32m'11537 axon'\u001b[0m: \u001b[1;36m0.0\u001b[0m,\n",
       "    \u001b[32m'11537 total'\u001b[0m: \u001b[1;36m36904384.0\u001b[0m,\n",
       "    \u001b[32m'8790 axon'\u001b[0m: \u001b[1;36m106404.0\u001b[0m,\n",
       "    \u001b[32m'8790 total'\u001b[0m: \u001b[1;36m36235328.0\u001b[0m\n",
       "\u001b[1m}\u001b[0m\n"
      ]
     },
     "metadata": {},
     "output_type": "display_data"
    }
   ],
   "source": [
    "G.nodes[872]"
   ]
  },
  {
   "cell_type": "code",
   "execution_count": 17,
   "metadata": {},
   "outputs": [
    {
     "name": "stdout",
     "output_type": "stream",
     "text": [
      "Populating: Cerebral cortex\n",
      "Warning: brain 11537 has no projection in DRN\n",
      "Populating: Olfactory areas\n",
      "Warning: brain 11537 has no projection in DRN\n",
      "Populating: Hippocampal formation\n",
      "Warning: brain 11537 has no projection in DRN\n",
      "Populating: Claustrum\n",
      "Warning: brain 11537 has no projection in DRN\n",
      "Populating: Striatum\n",
      "Warning: brain 11537 has no projection in DRN\n",
      "Populating: Pallidum\n",
      "Warning: brain 11537 has no projection in DRN\n",
      "Populating: Cortical subplate\n",
      "Warning: brain 11537 has no projection in DRN\n",
      "Populating: Hypothalamus\n",
      "Warning: brain 11537 has no projection in DRN\n",
      "Populating: Thalamus\n",
      "Warning: brain 11537 has no projection in DRN\n",
      "Populating: Midbrain\n",
      "Warning: brain 11537 has no projection in DRN\n",
      "Populating: Hindbrain\n",
      "Warning: brain 11537 has no projection in DRN\n"
     ]
    }
   ],
   "source": [
    "totals = {}\n",
    "\n",
    "for brain in quantification_dicts.keys():\n",
    "    total = 0\n",
    "    for node in G.nodes:\n",
    "        total += G.nodes[node][brain + \" axon\"]\n",
    "    totals[brain] = total\n",
    "\n",
    "axon_vols = []\n",
    "axon_denss = []\n",
    "axon_denss_norm = []\n",
    "gene = []\n",
    "subregion_name = []\n",
    "region_name = []\n",
    "brain_ids = []\n",
    "for region in regions:\n",
    "    print(f\"Populating: \" + G.nodes[region][\"name\"])\n",
    "    #choose level here\n",
    "    if level == \"fine\":\n",
    "        children = list(G.successors(region))\n",
    "    elif level == \"coarse\":\n",
    "        children = [region]\n",
    "    else:\n",
    "        raise ValueError(f\"level must be coarse or fine, not {level}\")\n",
    "        \n",
    "    for child in children:\n",
    "        for brain in quantification_dicts.keys():\n",
    "            drn_norm_factor = G.nodes[872][brain + \" axon\"] / G.nodes[872][brain + \" total\"]\n",
    "\n",
    "            if drn_norm_factor == 0:\n",
    "                print(f\"Warning: brain {brain} has no projection in DRN\")\n",
    "                drn_norm_factor = 1\n",
    "                \n",
    "            if (\n",
    "                G.nodes[child][brain + \" total\"] == 0\n",
    "                and G.nodes[child][brain + \" axon\"] == 0\n",
    "            ):\n",
    "                axon_denss.append(0)\n",
    "                axon_denss_norm.append(0)\n",
    "            elif G.nodes[child][brain + \" total\"] == 0:\n",
    "                raise ValueError(\"positive axon volume in zero volume region?\")\n",
    "            else:\n",
    "                dens = G.nodes[child][brain + \" axon\"] / G.nodes[child][brain + \" total\"]\n",
    "                axon_denss.append(\n",
    "                    dens * 100\n",
    "                )\n",
    "                axon_denss_norm.append(dens / drn_norm_factor)\n",
    "\n",
    "            axon_vols.append(G.nodes[child][brain + \" axon\"] / totals[brain] * 100)\n",
    "            gene.append(brains[brain] + f\" (n={counts[brains[brain]]})\")\n",
    "            subregion_name.append(G.nodes[child][\"name\"])\n",
    "            region_name.append(G.nodes[region][\"name\"])\n",
    "            brain_ids.append(brain)\n",
    "\n",
    "d = {\n",
    "    \"Percent Total Axon Volume (%)\": axon_vols,\n",
    "    \"Axon Density (%)\": axon_denss,\n",
    "    \"Normalized Axon Density\": axon_denss_norm,\n",
    "    \"Gene\": gene,\n",
    "    \"Subregion\": subregion_name,\n",
    "    \"Region\": region_name,\n",
    "    \"Brain ID\": brain_ids,\n",
    "}\n",
    "df = pd.DataFrame(data=d)"
   ]
  },
  {
   "cell_type": "markdown",
   "metadata": {},
   "source": [
    "## Make bar chart"
   ]
  },
  {
   "cell_type": "code",
   "execution_count": 18,
   "metadata": {},
   "outputs": [
    {
     "name": "stdout",
     "output_type": "stream",
     "text": [
      "p-value annotation legend:\n",
      "      ns: p <= 1.00e+00\n",
      "       *: 1.00e-02 < p <= 5.00e-02\n",
      "      **: 1.00e-03 < p <= 1.00e-02\n",
      "     ***: 1.00e-04 < p <= 1.00e-03\n",
      "    ****: p <= 1.00e-04\n",
      "\n",
      "Midbrain_tph2 vglut3 (n=6) vs. Midbrain_tph2 gad2 (n=2): Mann-Whitney-Wilcoxon test two-sided with Benjamini-Yekutieli correction, P_val:1.429e-01 U_stat=1.100e+01\n",
      "Hindbrain_tph2 vglut3 (n=6) vs. Hindbrain_tph2 gad2 (n=2): Mann-Whitney-Wilcoxon test two-sided with Benjamini-Yekutieli correction, P_val:7.143e-02 U_stat=1.200e+01\n",
      "Thalamus_tph2 vglut3 (n=6) vs. Thalamus_tph2 gad2 (n=2): Mann-Whitney-Wilcoxon test two-sided with Benjamini-Yekutieli correction, P_val:7.143e-02 U_stat=1.200e+01\n",
      "Olfactory areas_tph2 vglut3 (n=6) vs. Olfactory areas_tph2 gad2 (n=2): Mann-Whitney-Wilcoxon test two-sided with Benjamini-Yekutieli correction, P_val:7.143e-02 U_stat=1.200e+01\n",
      "Cerebral cortex_tph2 vglut3 (n=6) vs. Cerebral cortex_tph2 gad2 (n=2): Mann-Whitney-Wilcoxon test two-sided with Benjamini-Yekutieli correction, P_val:7.143e-02 U_stat=1.200e+01\n",
      "Hippocampal formation_tph2 vglut3 (n=6) vs. Hippocampal formation_tph2 gad2 (n=2): Mann-Whitney-Wilcoxon test two-sided with Benjamini-Yekutieli correction, P_val:7.143e-02 U_stat=1.200e+01\n",
      "Claustrum_tph2 vglut3 (n=6) vs. Claustrum_tph2 gad2 (n=2): Mann-Whitney-Wilcoxon test two-sided with Benjamini-Yekutieli correction, P_val:7.143e-02 U_stat=1.200e+01\n",
      "Striatum_tph2 vglut3 (n=6) vs. Striatum_tph2 gad2 (n=2): Mann-Whitney-Wilcoxon test two-sided with Benjamini-Yekutieli correction, P_val:1.429e-01 U_stat=1.100e+01\n",
      "Pallidum_tph2 vglut3 (n=6) vs. Pallidum_tph2 gad2 (n=2): Mann-Whitney-Wilcoxon test two-sided with Benjamini-Yekutieli correction, P_val:1.429e-01 U_stat=1.100e+01\n",
      "Cortical subplate_tph2 vglut3 (n=6) vs. Cortical subplate_tph2 gad2 (n=2): Mann-Whitney-Wilcoxon test two-sided with Benjamini-Yekutieli correction, P_val:1.429e-01 U_stat=1.100e+01\n",
      "Hypothalamus_tph2 vglut3 (n=6) vs. Hypothalamus_tph2 gad2 (n=2): Mann-Whitney-Wilcoxon test two-sided with Benjamini-Yekutieli correction, P_val:7.143e-02 U_stat=1.200e+01\n",
      "p-value annotation legend:\n",
      "      ns: p <= 1.00e+00\n",
      "       *: 1.00e-02 < p <= 5.00e-02\n",
      "      **: 1.00e-03 < p <= 1.00e-02\n",
      "     ***: 1.00e-04 < p <= 1.00e-03\n",
      "    ****: p <= 1.00e-04\n",
      "\n",
      "Midbrain_tph2 vglut3 (n=6) vs. Midbrain_tph2 gad2 (n=2): Mann-Whitney-Wilcoxon test two-sided with Benjamini-Yekutieli correction, P_val:6.429e-01 U_stat=4.000e+00\n",
      "Hindbrain_tph2 vglut3 (n=6) vs. Hindbrain_tph2 gad2 (n=2): Mann-Whitney-Wilcoxon test two-sided with Benjamini-Yekutieli correction, P_val:2.857e-01 U_stat=2.000e+00\n",
      "Thalamus_tph2 vglut3 (n=6) vs. Thalamus_tph2 gad2 (n=2): Mann-Whitney-Wilcoxon test two-sided with Benjamini-Yekutieli correction, P_val:6.429e-01 U_stat=8.000e+00\n",
      "Olfactory areas_tph2 vglut3 (n=6) vs. Olfactory areas_tph2 gad2 (n=2): Mann-Whitney-Wilcoxon test two-sided with Benjamini-Yekutieli correction, P_val:1.429e-01 U_stat=1.100e+01\n",
      "Cerebral cortex_tph2 vglut3 (n=6) vs. Cerebral cortex_tph2 gad2 (n=2): Mann-Whitney-Wilcoxon test two-sided with Benjamini-Yekutieli correction, P_val:1.429e-01 U_stat=1.100e+01\n",
      "Hippocampal formation_tph2 vglut3 (n=6) vs. Hippocampal formation_tph2 gad2 (n=2): Mann-Whitney-Wilcoxon test two-sided with Benjamini-Yekutieli correction, P_val:1.000e+00 U_stat=6.000e+00\n",
      "Claustrum_tph2 vglut3 (n=6) vs. Claustrum_tph2 gad2 (n=2): Mann-Whitney-Wilcoxon test two-sided with Benjamini-Yekutieli correction, P_val:1.000e+00 U_stat=6.000e+00\n",
      "Striatum_tph2 vglut3 (n=6) vs. Striatum_tph2 gad2 (n=2): Mann-Whitney-Wilcoxon test two-sided with Benjamini-Yekutieli correction, P_val:6.429e-01 U_stat=4.000e+00\n",
      "Pallidum_tph2 vglut3 (n=6) vs. Pallidum_tph2 gad2 (n=2): Mann-Whitney-Wilcoxon test two-sided with Benjamini-Yekutieli correction, P_val:6.429e-01 U_stat=4.000e+00\n",
      "Cortical subplate_tph2 vglut3 (n=6) vs. Cortical subplate_tph2 gad2 (n=2): Mann-Whitney-Wilcoxon test two-sided with Benjamini-Yekutieli correction, P_val:7.143e-02 U_stat=0.000e+00\n",
      "Hypothalamus_tph2 vglut3 (n=6) vs. Hypothalamus_tph2 gad2 (n=2): Mann-Whitney-Wilcoxon test two-sided with Benjamini-Yekutieli correction, P_val:1.429e-01 U_stat=1.000e+00\n"
     ]
    },
    {
     "data": {
      "image/png": "[encoded data removed]"
     },
     "metadata": {},
     "output_type": "display_data"
    }
   ],
   "source": [
    "fig, axes = plt.subplots(1, 2, figsize=(26, 13))\n",
    "sns.set(font_scale=2)\n",
    "\n",
    "test = \"Mann-Whitney\" \n",
    "#test = \"t-test_ind\"\n",
    "correction = \"fdr_by\"\n",
    "\n",
    "#density\n",
    "fig_args = {\n",
    "    \"y\": \"Normalized Axon Density\",\n",
    "    \"x\": \"Subregion\",\n",
    "    \"hue\": \"Gene\",\n",
    "    \"data\": df,\n",
    "}\n",
    "pairs = []\n",
    "unq_subregions = []\n",
    "for subregion in subregion_name:\n",
    "    if subregion not in unq_subregions:\n",
    "        unq_subregions.append(subregion)\n",
    "\n",
    "\n",
    "genes = df[\"Gene\"].unique()\n",
    "gene_pairs = [(a,b) for idx, a in enumerate(genes) for b in genes[idx+1:]]\n",
    "\n",
    "for gene_pair in gene_pairs:\n",
    "    for subregion in unq_subregions:\n",
    "        pairs.append(\n",
    "            (\n",
    "                (subregion, gene_pair[0]),\n",
    "                (subregion, gene_pair[1]),\n",
    "            )\n",
    "        )\n",
    "\n",
    "\n",
    "annotator = Annotator(axes[0], pairs, **fig_args)\n",
    "fig_args = {\n",
    "    \"x\": \"Normalized Axon Density\",\n",
    "    \"y\": \"Subregion\",\n",
    "    \"hue\": \"Gene\",\n",
    "    \"data\": df,\n",
    "}\n",
    "\n",
    "\n",
    "sns.set(font_scale = 2)\n",
    "strpplot = sns.barplot(ax=axes[0], orient=\"h\", **fig_args)\n",
    "strpplot.set_xscale(\"log\")\n",
    "\n",
    "annotator.configure(test=test, text_format=\"star\", loc=\"outside\", comparisons_correction=correction)\n",
    "annotator.new_plot(strpplot, orient=\"h\", plot=\"barplot\", **fig_args)\n",
    "annotator.apply_and_annotate()\n",
    "\n",
    "# percent total\n",
    "fig_args = {\n",
    "    \"y\": \"Percent Total Axon Volume (%)\",\n",
    "    \"x\": \"Subregion\",\n",
    "    \"hue\": \"Gene\",\n",
    "    \"data\": df,\n",
    "}\n",
    "pairs = []\n",
    "unq_subregions = []\n",
    "for subregion in subregion_name:\n",
    "    if subregion not in unq_subregions:\n",
    "        unq_subregions.append(subregion)\n",
    "\n",
    "\n",
    "for gene_pair in gene_pairs:\n",
    "    for subregion in unq_subregions:\n",
    "        pairs.append(\n",
    "            (\n",
    "                (subregion, gene_pair[0]),\n",
    "                (subregion, gene_pair[1]),\n",
    "            )\n",
    "        )\n",
    "\n",
    "\n",
    "annotator = Annotator(axes[1], pairs, **fig_args)\n",
    "fig_args = {\n",
    "    \"x\": \"Percent Total Axon Volume (%)\",\n",
    "    \"y\": \"Subregion\",\n",
    "    \"hue\": \"Gene\",\n",
    "    \"data\": df,\n",
    "}\n",
    "\n",
    "strpplot = sns.barplot(ax=axes[1], orient=\"h\", **fig_args)\n",
    "strpplot.set_xscale(\"log\")\n",
    "\n",
    "annotator.configure(test=test, text_format=\"star\", loc=\"outside\", comparisons_correction=correction)\n",
    "annotator.new_plot(strpplot, orient=\"h\", plot=\"barplot\", **fig_args)\n",
    "annotator.apply_and_annotate()\n",
    "\n",
    "fig.tight_layout()"
   ]
  },
  {
   "attachments": {},
   "cell_type": "markdown",
   "metadata": {},
   "source": [
    "## Compare distributions with PCA"
   ]
  },
  {
   "cell_type": "code",
   "execution_count": 11,
   "metadata": {},
   "outputs": [
    {
     "name": "stdout",
     "output_type": "stream",
     "text": [
      "8613\n",
      "8604\n",
      "8650\n",
      "8589\n",
      "8788\n",
      "8786\n",
      "11537\n",
      "8790\n"
     ]
    },
    {
     "data": {
      "text/html": [
       "<pre style=\"white-space:pre;overflow-x:auto;line-height:normal;font-family:Menlo,'DejaVu Sans Mono',consolas,'Courier New',monospace\"><span style=\"color: #800080; text-decoration-color: #800080; font-weight: bold\">Text</span><span style=\"font-weight: bold\">(</span><span style=\"color: #008080; text-decoration-color: #008080; font-weight: bold\">0.5</span>, <span style=\"color: #008080; text-decoration-color: #008080; font-weight: bold\">1.0</span>, <span style=\"color: #008000; text-decoration-color: #008000\">'Projection Distribution PCA with Explained Variance: [0.74364157 0.20187101]'</span><span style=\"font-weight: bold\">)</span>\n",
       "</pre>\n"
      ],
      "text/plain": [
       "\u001b[1;35mText\u001b[0m\u001b[1m(\u001b[0m\u001b[1;36m0.5\u001b[0m, \u001b[1;36m1.0\u001b[0m, \u001b[32m'Projection Distribution PCA with Explained Variance: \u001b[0m\u001b[32m[\u001b[0m\u001b[32m0.74364157 0.20187101\u001b[0m\u001b[32m]\u001b[0m\u001b[32m'\u001b[0m\u001b[1m)\u001b[0m\n"
      ]
     },
     "metadata": {},
     "output_type": "display_data"
    },
    {
     "data": {
      "image/png": "[encoded data removed]"
     },
     "metadata": {},
     "output_type": "display_data"
    }
   ],
   "source": [
    "X = []\n",
    "brain_ids = []\n",
    "genotypes = []\n",
    "\n",
    "for i, brain in enumerate(brains):\n",
    "    print(brain)\n",
    "    region_order = list(df.loc[df[\"Brain ID\"] == brain][\"Region\"])\n",
    "\n",
    "    if i == 0:\n",
    "        standard_region_order = region_order\n",
    "    elif standard_region_order != region_order:\n",
    "        raise ValueError(f\"Different region order for brain {brain}\")\n",
    "    \n",
    "    distrib = list(df.loc[df[\"Brain ID\"] == brain][\"Percent Total Axon Volume (%)\"])\n",
    "    X.append(distrib)\n",
    "    \n",
    "    brain_ids.append(brain)\n",
    "    genotypes.append(brains[brain])\n",
    "\n",
    "X = np.array(X)\n",
    "\n",
    "pca = PCA(n_components=2)\n",
    "X_2 = pca.fit_transform(X)\n",
    "\n",
    "df_pca = {\"PC 1\": X_2[:,0], \"PC 2\": X_2[:,1], \"Genotype\": genotypes, \"Brain ID\": brain_ids}\n",
    "df_pca = pd.DataFrame(data = df_pca)\n",
    "\n",
    "fig, ax = plt.subplots(1, 1, figsize=(10, 10))\n",
    "sns.scatterplot(data = df_pca, x=\"PC 1\", y=\"PC 2\", hue=\"Genotype\", ax=ax)\n",
    "\n",
    "\n",
    "for i in range(df_pca.shape[0]):\n",
    "    plt.text(x=df_pca[\"PC 1\"][i]+0.03,y=df_pca[\"PC 2\"][i]+0.03,s=df_pca['Brain ID'][i], \n",
    "        fontdict=dict(color='black',size=20))\n",
    "          \n",
    "plt.title(f\"Projection Distribution PCA with Explained Variance: {pca.explained_variance_ratio_}\")"
   ]
  },
  {
   "cell_type": "markdown",
   "metadata": {},
   "source": [
    "# Compare to Allen"
   ]
  },
  {
   "cell_type": "markdown",
   "metadata": {},
   "source": [
    "### Subregion"
   ]
  },
  {
   "cell_type": "code",
   "execution_count": null,
   "metadata": {},
   "outputs": [],
   "source": [
    "axon_denss = []\n",
    "gene = []\n",
    "subregion_name = []\n",
    "region_name = []\n",
    "subregions_list = []\n",
    "for region in allen_regions:\n",
    "    print(f\"Populating: \" + G.nodes[region][\"name\"])\n",
    "    children = list(G.successors(region))\n",
    "    for child in children:\n",
    "        if child not in subregions_list:\n",
    "            subregions_list.append(child)\n",
    "\n",
    "        for brain in quantification_dicts.keys():\n",
    "            if (\n",
    "                G.nodes[child][brain + \" total\"] == 0\n",
    "                and G.nodes[child][brain + \" axon\"] == 0\n",
    "            ):\n",
    "                axon_denss.append(0)\n",
    "            elif G.nodes[child][brain + \" total\"] == 0:\n",
    "                raise ValueError(\"positive axon volume in zero volume region?\")\n",
    "            else:\n",
    "                axon_denss.append(\n",
    "                    G.nodes[child][brain + \" axon\"] / G.nodes[child][brain + \" total\"]\n",
    "                )\n",
    "\n",
    "            if brain in [\"B\", \"R\"]:\n",
    "                gene.append(brain)\n",
    "            subregion_name.append(G.nodes[child][\"name\"])\n",
    "\n",
    "    region_name.append(G.nodes[region][\"name\"])\n",
    "\n",
    "tree = ET.parse(\n",
    "    \"/Users/thomasathey/Documents/mimlab/mouselight/brainlit_parent/brainlit/experiments/deisseroth/sert_exp.xml\"\n",
    ")\n",
    "root = tree.getroot()\n",
    "root.tag\n",
    "for child in root:\n",
    "    for i, entry in enumerate(child):\n",
    "        for item in entry:\n",
    "            if item.tag == \"structure-id\":\n",
    "                region = int(item.text)\n",
    "            elif item.tag == \"hemisphere-id\":\n",
    "                hemi = int(item.text)\n",
    "            elif item.tag == \"is-injection\":\n",
    "                inject = item.text\n",
    "            elif item.tag == \"projection-density\":\n",
    "                density = float(item.text)\n",
    "        if region in subregions_list and hemi == 3 and inject == \"false\":\n",
    "            name = G.nodes[region][\"name\"]\n",
    "            print(f\"id: {region} hemi: {hemi}, density: {density}, name: {name}\")\n",
    "            subregion_name.append(name)\n",
    "            gene.append(\"Allen\")\n",
    "            axon_denss.append(density)\n",
    "\n",
    "\n",
    "d = {\"Axon Density\": axon_denss, \"Gene\": gene, \"Subregion\": subregion_name}\n",
    "df = pd.DataFrame(data=d)"
   ]
  },
  {
   "cell_type": "code",
   "execution_count": null,
   "metadata": {},
   "outputs": [],
   "source": [
    "fig, axes = plt.subplots(1, 1, figsize=(20, 10))\n",
    "fig.suptitle(\"Detected Output Axons\")\n",
    "\n",
    "sns.barplot(x=\"Axon Density\", y=\"Subregion\", hue=\"Gene\", data=df)\n",
    "axes.set_title(\"Density\")\n",
    "\n",
    "fig.tight_layout()"
   ]
  },
  {
   "cell_type": "markdown",
   "metadata": {},
   "source": [
    "### Region"
   ]
  },
  {
   "cell_type": "code",
   "execution_count": null,
   "metadata": {},
   "outputs": [],
   "source": [
    "axon_denss = []\n",
    "axon_vols = []\n",
    "gene = []\n",
    "region_name = []\n",
    "for region in allen_regions:\n",
    "    print(f\"Populating: \" + G.nodes[region][\"name\"])\n",
    "    for brain in quantification_dicts.keys():\n",
    "        if (\n",
    "            G.nodes[region][brain + \" total\"] == 0\n",
    "            and G.nodes[region][brain + \" axon\"] == 0\n",
    "        ):\n",
    "            axon_denss.append(0)\n",
    "        elif G.nodes[region][brain + \" total\"] == 0:\n",
    "            raise ValueError(\"positive axon volume in zero volume region?\")\n",
    "        else:\n",
    "            axon_denss.append(\n",
    "                G.nodes[region][brain + \" axon\"] / G.nodes[region][brain + \" total\"]\n",
    "            )\n",
    "            axon_vols.append(\n",
    "                G.nodes[region][brain + \" axon\"]\n",
    "                * np.product([1.82, 1.82, 2])\n",
    "                * 10 ** (-9)\n",
    "            )\n",
    "\n",
    "        if brain in [\"B\", \"R\"]:\n",
    "            gene.append(\"Sample \" + brain)\n",
    "\n",
    "        region_name.append(G.nodes[region][\"name\"])\n",
    "\n",
    "tree = ET.parse(\n",
    "    \"/Users/thomasathey/Documents/mimlab/mouselight/brainlit_parent/brainlit/experiments/deisseroth/sert_exp.xml\"\n",
    ")\n",
    "root = tree.getroot()\n",
    "root.tag\n",
    "for child in root:\n",
    "    for i, entry in enumerate(child):\n",
    "        for item in entry:\n",
    "            if item.tag == \"structure-id\":\n",
    "                region = int(item.text)\n",
    "            elif item.tag == \"hemisphere-id\":\n",
    "                hemi = int(item.text)\n",
    "            elif item.tag == \"is-injection\":\n",
    "                inject = item.text\n",
    "            elif item.tag == \"projection-density\":\n",
    "                density = float(item.text)\n",
    "            elif item.tag == \"projection-volume\":\n",
    "                volume = float(item.text)\n",
    "        if region in allen_regions and hemi == 3 and inject == \"false\":\n",
    "            name = G.nodes[region][\"name\"]\n",
    "            print(\n",
    "                f\"id: {region} hemi: {hemi}, density: {density}, volume: {volume}, name: {name}\"\n",
    "            )\n",
    "            region_name.append(name)\n",
    "            gene.append(\"Allen\")\n",
    "            axon_denss.append(density)\n",
    "            axon_vols.append(volume)\n",
    "\n",
    "\n",
    "d = {\n",
    "    \"Axon Density\": axon_denss,\n",
    "    \"Axon Volume ($mm^3$)\": axon_vols,\n",
    "    \"Gene\": gene,\n",
    "    \"Region\": region_name,\n",
    "}\n",
    "df = pd.DataFrame(data=d)"
   ]
  },
  {
   "cell_type": "code",
   "execution_count": null,
   "metadata": {},
   "outputs": [],
   "source": [
    "fig, axes = plt.subplots(1, 2, figsize=(20, 10))\n",
    "fig.suptitle(\"Comparing Axon Volumes to Allen Experiment\")\n",
    "\n",
    "sns.set(font_scale=2)\n",
    "\n",
    "sns.barplot(\n",
    "    ax=axes[0],\n",
    "    x=\"Axon Density\",\n",
    "    y=\"Region\",\n",
    "    hue=\"Gene\",\n",
    "    order=list(\n",
    "        df[df[\"Gene\"] == \"Allen\"]\n",
    "        .sort_values(\"Axon Density\", ascending=False)\n",
    "        .loc[:, \"Region\"]\n",
    "    ),\n",
    "    data=df,\n",
    ")\n",
    "# axes[0].set_title(\"Density\")\n",
    "\n",
    "sns.barplot(\n",
    "    ax=axes[1],\n",
    "    x=\"Axon Volume ($mm^3$)\",\n",
    "    y=\"Region\",\n",
    "    hue=\"Gene\",\n",
    "    order=list(\n",
    "        df[df[\"Gene\"] == \"Allen\"]\n",
    "        .sort_values(\"Axon Density\", ascending=False)\n",
    "        .loc[:, \"Region\"]\n",
    "    ),\n",
    "    data=df,\n",
    ")\n",
    "# axes[1].set_title(\"Axon Volume\")\n",
    "\n",
    "fig.tight_layout()"
   ]
  },
  {
   "cell_type": "code",
   "execution_count": null,
   "metadata": {},
   "outputs": [],
   "source": []
  }
 ],
 "metadata": {
  "interpreter": {
   "hash": "5dc00d68ff54f8375e99934614da4863299fb9e10af4294c095b7f517546ff26"
  },
  "kernelspec": {
   "display_name": "Python 3.8.10 64-bit ('docs_env': venv)",
   "name": "python3"
  },
  "language_info": {
   "codemirror_mode": {
    "name": "ipython",
    "version": 3
   },
   "file_extension": ".py",
   "mimetype": "text/x-python",
   "name": "python",
   "nbconvert_exporter": "python",
   "pygments_lexer": "ipython3",
   "version": "3.8.10"
  },
  "metadata": {
   "interpreter": {
    "hash": "31f2aee4e71d21fbe5cf8b01ff0e069b9275f58929596ceb00d14d90e3e16cd6"
   }
  }
 },
 "nbformat": 4,
 "nbformat_minor": 2
}
