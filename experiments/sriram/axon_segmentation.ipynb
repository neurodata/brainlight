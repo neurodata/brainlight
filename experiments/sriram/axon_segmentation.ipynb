{
 "cells": [
  {
   "cell_type": "code",
   "execution_count": 10,
   "metadata": {},
   "outputs": [],
   "source": [
    "import os\n",
    "import h5py\n",
    "import numpy as np\n",
    "import matplotlib.pyplot as plt"
   ]
  },
  {
   "cell_type": "code",
   "execution_count": 11,
   "metadata": {},
   "outputs": [],
   "source": [
    "base_dir = \"/Users/thomasathey/Documents/mimlab/mouselight/kolodkin/sriram/files/ilastik_training/sriram-adipo-brain1-im3/\""
   ]
  },
  {
   "cell_type": "code",
   "execution_count": 21,
   "metadata": {},
   "outputs": [
    {
     "name": "stdout",
     "output_type": "stream",
     "text": [
      "3 total validation subvolumes\n",
      "Thresh: 0.05 --- Total prec.: 0.907 total rec.: 0.996 w/1763/8319 total pos/neg voxels. F-score: 0.9492\n",
      "Thresh: 0.10 --- Total prec.: 0.944 total rec.: 0.990 w/1763/8319 total pos/neg voxels. F-score: 0.9662\n",
      "Thresh: 0.15 --- Total prec.: 0.955 total rec.: 0.984 w/1763/8319 total pos/neg voxels. F-score: 0.9693\n",
      "Thresh: 0.20 --- Total prec.: 0.961 total rec.: 0.977 w/1763/8319 total pos/neg voxels. F-score: 0.9693\n",
      "Thresh: 0.25 --- Total prec.: 0.966 total rec.: 0.971 w/1763/8319 total pos/neg voxels. F-score: 0.9680\n",
      "Thresh: 0.30 --- Total prec.: 0.969 total rec.: 0.948 w/1763/8319 total pos/neg voxels. F-score: 0.9584\n",
      "Thresh: 0.35 --- Total prec.: 0.971 total rec.: 0.917 w/1763/8319 total pos/neg voxels. F-score: 0.9431\n",
      "Thresh: 0.40 --- Total prec.: 0.978 total rec.: 0.875 w/1763/8319 total pos/neg voxels. F-score: 0.9236\n",
      "Thresh: 0.45 --- Total prec.: 0.988 total rec.: 0.819 w/1763/8319 total pos/neg voxels. F-score: 0.8955\n",
      "Thresh: 0.50 --- Total prec.: 0.993 total rec.: 0.765 w/1763/8319 total pos/neg voxels. F-score: 0.8645\n",
      "Thresh: 0.55 --- Total prec.: 0.996 total rec.: 0.740 w/1763/8319 total pos/neg voxels. F-score: 0.8493\n",
      "Thresh: 0.60 --- Total prec.: 0.998 total rec.: 0.728 w/1763/8319 total pos/neg voxels. F-score: 0.8416\n",
      "Thresh: 0.65 --- Total prec.: 0.998 total rec.: 0.715 w/1763/8319 total pos/neg voxels. F-score: 0.8328\n",
      "Thresh: 0.70 --- Total prec.: 0.998 total rec.: 0.705 w/1763/8319 total pos/neg voxels. F-score: 0.8265\n",
      "Thresh: 0.75 --- Total prec.: 0.999 total rec.: 0.693 w/1763/8319 total pos/neg voxels. F-score: 0.8181\n",
      "Thresh: 0.80 --- Total prec.: 1.000 total rec.: 0.676 w/1763/8319 total pos/neg voxels. F-score: 0.8068\n",
      "Thresh: 0.85 --- Total prec.: 1.000 total rec.: 0.656 w/1763/8319 total pos/neg voxels. F-score: 0.7925\n",
      "Thresh: 0.90 --- Total prec.: 1.000 total rec.: 0.619 w/1763/8319 total pos/neg voxels. F-score: 0.7645\n",
      "Thresh: 0.95 --- Total prec.: 1.000 total rec.: 0.528 w/1763/8319 total pos/neg voxels. F-score: 0.6912\n"
     ]
    },
    {
     "data": {
      "text/plain": [
       "<matplotlib.legend.Legend at 0x1165189d0>"
      ]
     },
     "execution_count": 21,
     "metadata": {},
     "output_type": "execute_result"
    },
    {
     "data": {
      "image/png": "[encoded data removed]",
      "text/plain": [
       "<Figure size 432x288 with 1 Axes>"
      ]
     },
     "metadata": {
      "needs_background": "light"
     },
     "output_type": "display_data"
    }
   ],
   "source": [
    "spacing = 0.05\n",
    "thresholds = np.arange(spacing, 1.0, spacing)\n",
    "precisions = []\n",
    "recalls = []\n",
    "best_fscore = 0\n",
    "\n",
    "files = os.listdir(base_dir)\n",
    "files = [base_dir + f for f in files if \"val\" in f]\n",
    "files = [f for f in files if \"_Probabilities.h5\" in f]\n",
    "print(f\"{len(files)} total validation subvolumes\")\n",
    "\n",
    "for threshold in thresholds:\n",
    "    true_pos_total = 0\n",
    "    false_pos_total = 0\n",
    "    true_labels_total = 0\n",
    "    true_labels_total_neg = 0\n",
    "    for fname_prob in files:\n",
    "\n",
    "        fname_im = fname_prob[:-17] + \".h5\"\n",
    "        f = h5py.File(fname_im, \"r\")\n",
    "        im = f.get(\"image_2channel\")\n",
    "        im_fg = im[:, :, :]\n",
    "\n",
    "        fname_lab = fname_prob[:-17] + \"-image_2channel_Labels.h5\"\n",
    "        f = h5py.File(fname_lab, \"r\")\n",
    "        gt = f.get(\"exported_data\")\n",
    "        gt = gt[:, :, :, 0]\n",
    "        pos_labels = gt == 2\n",
    "        neg_labels = gt == 1\n",
    "\n",
    "        f = h5py.File(fname_prob, \"r\")\n",
    "        seg = f.get(\"exported_data\")\n",
    "        seg = seg[:, :, :, 1]\n",
    "        mask = seg > threshold\n",
    "\n",
    "        true_pos = np.sum(np.logical_and(mask, pos_labels))\n",
    "        true_pos_total += true_pos\n",
    "        false_pos = np.sum(np.logical_and(mask, gt == 1))\n",
    "        false_pos_total += false_pos\n",
    "        true_labels = np.sum(pos_labels)\n",
    "        true_labels_total += true_labels\n",
    "        true_labels_neg = np.sum(neg_labels)\n",
    "        true_labels_total_neg += true_labels_neg\n",
    "\n",
    "    precision_total = true_pos_total / (true_pos_total + false_pos_total)\n",
    "    recall_total = true_pos_total / true_labels_total\n",
    "    fscore = 2 / (1 / precision_total + 1 / recall_total)\n",
    "    print(\n",
    "        f\"Thresh: {threshold:.2f} --- Total prec.: {precision_total:.3f} total rec.: {recall_total:.3f} w/{true_labels_total}/{true_labels_total_neg} total pos/neg voxels. F-score: {fscore:.4f}\"\n",
    "    )\n",
    "    if fscore > best_fscore:\n",
    "        best_fscore = fscore\n",
    "        best_prec = precision_total\n",
    "        best_recall = recall_total\n",
    "        best_threshold = threshold\n",
    "    precisions.append(precision_total)\n",
    "    recalls.append(recall_total)\n",
    "plt.plot(recalls, precisions, label=\"Prec-Rec Curve\")\n",
    "plt.scatter(\n",
    "    [best_recall],\n",
    "    [best_prec],\n",
    "    c=\"red\",\n",
    "    label=f\"Best F-score: {best_fscore:.3f} (thresh {best_threshold:.2f})\",\n",
    ")\n",
    "plt.ylabel(\"Precision\")\n",
    "plt.xlabel(\"Recall\")\n",
    "plt.title(f\"Validation w/{true_labels_total} Total Pos. Voxels\")\n",
    "plt.legend()"
   ]
  },
  {
   "cell_type": "code",
   "execution_count": null,
   "metadata": {},
   "outputs": [],
   "source": []
  }
 ],
 "metadata": {
  "kernelspec": {
   "display_name": "Python 3.8.10 ('docs_env': venv)",
   "language": "python",
   "name": "python3"
  },
  "language_info": {
   "codemirror_mode": {
    "name": "ipython",
    "version": 3
   },
   "file_extension": ".py",
   "mimetype": "text/x-python",
   "name": "python",
   "nbconvert_exporter": "python",
   "pygments_lexer": "ipython3",
   "version": "3.8.10"
  },
  "orig_nbformat": 4,
  "vscode": {
   "interpreter": {
    "hash": "5dc00d68ff54f8375e99934614da4863299fb9e10af4294c095b7f517546ff26"
   }
  }
 },
 "nbformat": 4,
 "nbformat_minor": 2
}
