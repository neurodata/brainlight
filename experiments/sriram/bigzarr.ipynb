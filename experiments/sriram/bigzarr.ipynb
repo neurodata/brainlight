{
 "cells": [
  {
   "cell_type": "code",
   "execution_count": 4,
   "metadata": {},
   "outputs": [],
   "source": [
    "import zarr\n",
    "import numpy as np\n",
    "import napari\n",
    "from tqdm import tqdm\n",
    "from skimage import io"
   ]
  },
  {
   "cell_type": "code",
   "execution_count": 9,
   "metadata": {},
   "outputs": [],
   "source": [
    "path = \"/Users/thomasathey/Documents/mimlab/mouselight/kolodkin/sriram/bigzarr/toy.zarr\"\n",
    "\n",
    "zim = zarr.open(\n",
    "    \"/Users/thomasathey/Documents/mimlab/mouselight/kolodkin/sriram/bigzarr/toy.zarr\",\n",
    "    mode=\"w\",\n",
    "    shape=(1000, 1000, 1000),\n",
    "    chunks=(100, 100, 100),\n",
    "    dtype=\"float\",\n",
    ")\n",
    "\n",
    "for slice in tqdm(range(zim.shape[0])):\n",
    "    zim[slice, :, :] = np.eye(1000)"
   ]
  },
  {
   "cell_type": "code",
   "execution_count": 5,
   "metadata": {},
   "outputs": [
    {
     "name": "stderr",
     "output_type": "stream",
     "text": [
      "100%|██████████| 1000/1000 [00:05<00:00, 199.77it/s]\n",
      "/var/folders/fq/9t66hqz51y5ddnygddgjtsmc0000gn/T/ipykernel_15285/4062419495.py:5: UserWarning: /Users/thomasathey/Documents/mimlab/mouselight/kolodkin/sriram/bigzarr/toy.tif is a low contrast image\n",
      "  io.imsave(\"/Users/thomasathey/Documents/mimlab/mouselight/kolodkin/sriram/bigzarr/toy.tif\", im)\n"
     ]
    }
   ],
   "source": [
    "im = np.zeros((1000, 1000, 1000))\n",
    "for slice in tqdm(range(im.shape[0])):\n",
    "    im[slice, :, :] = np.eye(1000)\n",
    "\n",
    "io.imsave(\n",
    "    \"/Users/thomasathey/Documents/mimlab/mouselight/kolodkin/sriram/bigzarr/toy.tif\", im\n",
    ")"
   ]
  },
  {
   "cell_type": "code",
   "execution_count": null,
   "metadata": {},
   "outputs": [],
   "source": [
    "v = napari.Viewer()"
   ]
  },
  {
   "cell_type": "code",
   "execution_count": null,
   "metadata": {},
   "outputs": [],
   "source": []
  }
 ],
 "metadata": {
  "kernelspec": {
   "display_name": "Python 3.8.10 ('docs_env': venv)",
   "language": "python",
   "name": "python3"
  },
  "language_info": {
   "codemirror_mode": {
    "name": "ipython",
    "version": 3
   },
   "file_extension": ".py",
   "mimetype": "text/x-python",
   "name": "python",
   "nbconvert_exporter": "python",
   "pygments_lexer": "ipython3",
   "version": "3.8.10"
  },
  "orig_nbformat": 4,
  "vscode": {
   "interpreter": {
    "hash": "5dc00d68ff54f8375e99934614da4863299fb9e10af4294c095b7f517546ff26"
   }
  }
 },
 "nbformat": 4,
 "nbformat_minor": 2
}
