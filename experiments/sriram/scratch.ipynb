{
 "cells": [
  {
   "cell_type": "markdown",
   "metadata": {},
   "source": [
    "# scratch"
   ]
  },
  {
   "cell_type": "code",
   "execution_count": 1,
   "metadata": {},
   "outputs": [],
   "source": [
    "from brainlit.utils.write import czi_to_zarr, zarr_to_omezarr, _read_czi_slice\n",
    "import zarr\n",
    "from cloudvolume import CloudVolume\n",
    "import json\n",
    "from pathlib import Path\n",
    "import aicspylibczi\n",
    "import numpy as np"
   ]
  },
  {
   "cell_type": "code",
   "execution_count": 2,
   "metadata": {},
   "outputs": [],
   "source": [
    "project_path = \"/Users/thomasathey/Documents/mimlab/mouselight/brainlit_parent/brainlit/experiments/sriram/data/\"  # \"C:\\\\Users\\\\Sriram Sudarsanam\\\\Desktop\\\\NeuroglancerTrial\\\\\"\n",
    "czi_path = f\"{project_path}test.czi\"  # path to czi image\n",
    "out_dir = f\"{project_path}\"  # path to directory where zarr should be made, should end in slash"
   ]
  },
  {
   "cell_type": "code",
   "execution_count": 6,
   "metadata": {},
   "outputs": [
    {
     "name": "stdout",
     "output_type": "stream",
     "text": [
      "Writing 2 zarrs of shape 1998x2009x40 from czi with dims [{'X': (0, 2009), 'Y': (0, 1998), 'Z': (0, 40), 'C': (0, 2), 'T': (0, 1), 'V': (0, 1), 'B': (0, 1)}]\n"
     ]
    }
   ],
   "source": [
    "czi = aicspylibczi.CziFile(czi_path)\n",
    "slice1 = _read_czi_slice(czi, C=0, Z=0)\n",
    "C = czi.get_dims_shape()[0][\"C\"][1]\n",
    "H = slice1.shape[0]\n",
    "W = slice1.shape[1]\n",
    "Z = czi.get_dims_shape()[0][\"Z\"][1]\n",
    "\n",
    "print(\n",
    "    f\"Writing {C} zarrs of shape {H}x{W}x{Z} from czi with dims {czi.get_dims_shape()}\"\n",
    ")\n",
    "sz = np.array([H, W, Z], dtype=\"int\")\n",
    "\n",
    "fg_path = out_dir + \"fg.zarr\"\n",
    "zarr_fg = zarr.open(\n",
    "    fg_path, mode=\"w\", shape=sz, chunks=(200, 200, 10), dtype=\"uint16\"\n",
    ")"
   ]
  },
  {
   "cell_type": "code",
   "execution_count": 7,
   "metadata": {},
   "outputs": [],
   "source": [
    "def _write_zrange_thread(zarr_path, czi_path, channel, zs):\n",
    "    czi = aicspylibczi.CziFile(czi_path)\n",
    "\n",
    "    zarr_fg = zarr.open(\n",
    "        zarr_path\n",
    "    )\n",
    "    for z in zs:\n",
    "        zarr_fg[:, :, z] = _read_czi_slice(czi, C=channel, Z=z)"
   ]
  },
  {
   "cell_type": "code",
   "execution_count": 8,
   "metadata": {},
   "outputs": [
    {
     "data": {
      "text/html": [
       "<pre style=\"white-space:pre;overflow-x:auto;line-height:normal;font-family:Menlo,'DejaVu Sans Mono',consolas,'Courier New',monospace\"><span style=\"font-weight: bold\">[</span><span style=\"color: #800080; text-decoration-color: #800080; font-style: italic\">None</span>, <span style=\"color: #800080; text-decoration-color: #800080; font-style: italic\">None</span>, <span style=\"color: #800080; text-decoration-color: #800080; font-style: italic\">None</span>, <span style=\"color: #800080; text-decoration-color: #800080; font-style: italic\">None</span><span style=\"font-weight: bold\">]</span>\n",
       "</pre>\n"
      ],
      "text/plain": [
       "\u001b[1m[\u001b[0m\u001b[3;35mNone\u001b[0m, \u001b[3;35mNone\u001b[0m, \u001b[3;35mNone\u001b[0m, \u001b[3;35mNone\u001b[0m\u001b[1m]\u001b[0m\n"
      ]
     },
     "metadata": {},
     "output_type": "display_data"
    }
   ],
   "source": [
    "from joblib import Parallel, delayed\n",
    "\n",
    "z_blocks = [np.arange(i,i+10) for i in [0,10,20,30]]\n",
    "\n",
    "Parallel(n_jobs=4)(delayed(_write_zrange_thread)(fg_path, czi_path, 1, zs) for zs in z_blocks)"
   ]
  },
  {
   "cell_type": "code",
   "execution_count": 21,
   "metadata": {},
   "outputs": [
    {
     "name": "stdout",
     "output_type": "stream",
     "text": [
      "[{'id': 'radius', 'data_type': 'float32', 'num_components': 1}, {'id': 'vertex_types', 'data_type': 'uint8', 'num_components': 1}]\n"
     ]
    }
   ],
   "source": [
    "import json\n",
    "\n",
    "fname = \"/Users/thomasathey/Documents/mimlab/mouselight/brainlit_parent/brainlit/experiments/sriram/traces/skeletons/info\"\n",
    "with open(fname) as f:\n",
    "    data = json.load(f)\n",
    "    print(data[\"vertex_attributes\"])\n",
    "    for i, attr in enumerate(data[\"vertex_attributes\"]):\n",
    "        if attr[\"id\"] == \"vertex_types\":\n",
    "            data[\"vertex_attributes\"].pop(i)\n",
    "            break\n",
    "\n",
    "with open(fname, \"w\") as f:\n",
    "    json.dump(data, f)"
   ]
  },
  {
   "cell_type": "code",
   "execution_count": 18,
   "metadata": {},
   "outputs": [],
   "source": [
    "store = parse_url(\n",
    "    \"/Users/thomasathey/Documents/jovolab/neurodata_infrastructure_tips/neuroglancer-zarr/test_ngff.zarr\",\n",
    "    mode=\"w\",\n",
    ").store\n",
    "root = zarr.group(store=store)\n",
    "write_image(image=dra, group=root, axes=\"xyz\")"
   ]
  },
  {
   "cell_type": "markdown",
   "metadata": {},
   "source": [
    "python cors_webserver.py -d \"/Users/thomasathey/Documents/jovolab/neurodata_infrastructure_tips/neuroglancer-zarr/\" -p 9010"
   ]
  },
  {
   "cell_type": "code",
   "execution_count": 35,
   "metadata": {},
   "outputs": [
    {
     "data": {
      "text/plain": [
       "Vec(500,500,300, dtype=int64)"
      ]
     },
     "execution_count": 35,
     "metadata": {},
     "output_type": "execute_result"
    }
   ],
   "source": [
    "ng_path = \"precomputed://file:///Users/thomasathey/Documents/mimlab/mouselight/brainlit_parent/brainlit/experiments/sriram/sample/ng/frags\"\n",
    "\n",
    "vol_im = CloudVolume(ng_path)\n",
    "vol_im.chunk_size\n",
    "vol_im.resolution"
   ]
  },
  {
   "cell_type": "code",
   "execution_count": 36,
   "metadata": {},
   "outputs": [],
   "source": [
    "ng_path = \"precomputed://file:///Users/thomasathey/Documents/mimlab/mouselight/brainlit_parent/brainlit/experiments/sriram/sample/ng/traces\"\n",
    "\n",
    "info = CloudVolume.create_new_info(\n",
    "    num_channels=1,\n",
    "    layer_type=\"segmentation\",\n",
    "    data_type=\"uint16\",  # Channel images might be 'uint8'\n",
    "    # raw, png, jpeg, compressed_segmentation, fpzip, kempressed, zfpc, compresso\n",
    "    encoding=\"raw\",\n",
    "    resolution=vol_im.resolution,  # Voxel scaling, units are in nanometers\n",
    "    voxel_offset=[0, 0, 0],  # x,y,z offset in voxels from the origin\n",
    "    # Pick a convenient size for your underlying chunk representation\n",
    "    # Powers of two are recommended, doesn't need to cover image exactly\n",
    "    chunk_size=vol_im.chunk_size,  # units are voxels\n",
    "    volume_size=vol_im.shape[:3],  # e.g. a cubic millimeter dataset\n",
    "    skeletons=\"skeletons\",\n",
    ")\n",
    "vol = CloudVolume(ng_path, info=info, compress=False)\n",
    "vol.commit_info()"
   ]
  },
  {
   "cell_type": "markdown",
   "metadata": {},
   "source": [
    "## Read ome-zarr"
   ]
  },
  {
   "cell_type": "code",
   "execution_count": 11,
   "metadata": {},
   "outputs": [],
   "source": [
    "import ome_zarr\n",
    "import ome_zarr.reader\n",
    "import numpy as np"
   ]
  },
  {
   "cell_type": "code",
   "execution_count": 29,
   "metadata": {},
   "outputs": [],
   "source": [
    "file_path = \"/Users/thomasathey/Documents/jovolab/neurodata_infrastructure_tips/neuroglancer-zarr/test_ngff.zarr\"\n",
    "loc = ome_zarr.io.parse_url(file_path, mode=\"r\")\n",
    "zarr_reader = ome_zarr.reader.Reader(loc).zarr\n",
    "res0 = zarr_reader.load(\"0\")"
   ]
  },
  {
   "cell_type": "code",
   "execution_count": 30,
   "metadata": {},
   "outputs": [
    {
     "name": "stdout",
     "output_type": "stream",
     "text": [
      "(100, 100, 100)\n"
     ]
    }
   ],
   "source": [
    "full_image_npy = res0.compute()\n",
    "print(full_image_npy.shape)"
   ]
  },
  {
   "cell_type": "code",
   "execution_count": 18,
   "metadata": {},
   "outputs": [
    {
     "name": "stdout",
     "output_type": "stream",
     "text": [
      "dask.array<from-zarr, shape=(100, 100, 100), dtype=int64, chunksize=(50, 50, 100), chunktype=numpy.ndarray>\n",
      "[0 1]\n"
     ]
    }
   ],
   "source": [
    "sub_image = res0[:, :, :]\n",
    "print(sub_image)\n",
    "sub_image_npy = sub_image.compute()\n",
    "print(np.unique(sub_image_npy))"
   ]
  },
  {
   "cell_type": "markdown",
   "metadata": {},
   "source": [
    "## Write zarr"
   ]
  },
  {
   "cell_type": "code",
   "execution_count": 10,
   "metadata": {},
   "outputs": [
    {
     "name": "stdout",
     "output_type": "stream",
     "text": [
      "uint64\n"
     ]
    }
   ],
   "source": [
    "import numpy as np\n",
    "import zarr\n",
    "from ome_zarr.io import parse_url\n",
    "from ome_zarr.writer import write_image\n",
    "\n",
    "# Modify base_dir below\n",
    "base_dir = \"/Users/thomasathey/Documents/jovolab/neurodata_infrastructure_tips/ng-zarr-test/\"  # <path-to-ng-zarr-data>\n",
    "\n",
    "# Image is cube of zeros with cube of 1's in the middle\n",
    "data = np.zeros((100, 100, 100))\n",
    "data[40:60, 40:60, 40:60] = 1\n",
    "data = data.astype(\"uint64\")\n",
    "\n",
    "# Write zarr\n",
    "z = zarr.open(\n",
    "    base_dir + \"test.zarr\",\n",
    "    mode=\"w\",\n",
    "    shape=data.shape,\n",
    "    chunks=data.shape,\n",
    "    dtype=\"uint64\",\n",
    ")\n",
    "z[:, :, :] = data\n",
    "\n",
    "# Write ome-zarr\n",
    "path = base_dir + \"test-ome.zarr\"\n",
    "store = parse_url(path, mode=\"w\").store\n",
    "root = zarr.group(store=store)\n",
    "write_image(image=data, group=root, axes=\"zyx\", storage_options=dict(chunks=data.shape))"
   ]
  },
  {
   "cell_type": "markdown",
   "metadata": {},
   "source": [
    "### In neuroglancer directory:\n",
    "\n",
    "python cors_webserver.py -d \"<base_dir>\" -p 9010\n",
    "\n",
    "### Add zarr data image layer:\n",
    "zarr://http://127.0.0.1:9010/test.zarr/\n",
    "\n",
    "### Add ome-zarr data image layer:\n",
    "zarr://http://127.0.0.1:9010/test-ome.zarr/"
   ]
  },
  {
   "cell_type": "markdown",
   "metadata": {},
   "source": []
  },
  {
   "cell_type": "code",
   "execution_count": null,
   "metadata": {},
   "outputs": [],
   "source": []
  }
 ],
 "metadata": {
  "kernelspec": {
   "display_name": "Python 3.8.10 ('docs_env': venv)",
   "language": "python",
   "name": "python3"
  },
  "language_info": {
   "codemirror_mode": {
    "name": "ipython",
    "version": 3
   },
   "file_extension": ".py",
   "mimetype": "text/x-python",
   "name": "python",
   "nbconvert_exporter": "python",
   "pygments_lexer": "ipython3",
   "version": "3.8.10"
  },
  "orig_nbformat": 4,
  "vscode": {
   "interpreter": {
    "hash": "5dc00d68ff54f8375e99934614da4863299fb9e10af4294c095b7f517546ff26"
   }
  }
 },
 "nbformat": 4,
 "nbformat_minor": 2
}
