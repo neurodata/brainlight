{
 "cells": [
  {
   "attachments": {},
   "cell_type": "markdown",
   "metadata": {},
   "source": [
    "# scratch"
   ]
  },
  {
   "cell_type": "code",
   "execution_count": 1,
   "metadata": {},
   "outputs": [],
   "source": [
    "from brainlit.utils.write import czi_to_zarr, zarr_to_omezarr, _read_czi_slice\n",
    "import zarr\n",
    "from cloudvolume import CloudVolume\n",
    "import json\n",
    "from pathlib import Path\n",
    "import aicspylibczi\n",
    "import numpy as np"
   ]
  },
  {
   "cell_type": "markdown",
   "metadata": {},
   "source": [
    "create zgroup"
   ]
  },
  {
   "cell_type": "code",
   "execution_count": 2,
   "metadata": {},
   "outputs": [],
   "source": [
    "dir = Path(\n",
    "    \"/Users/thomasathey/Documents/mimlab/mouselight/brainlit_parent/brainlit/experiments/sriram/test-write-ome\"\n",
    ")\n",
    "zgr_path = dir / \"group-test\"\n",
    "\n",
    "zgr = zarr.group(zgr_path)"
   ]
  },
  {
   "cell_type": "markdown",
   "metadata": {},
   "source": [
    "create array"
   ]
  },
  {
   "cell_type": "code",
   "execution_count": 12,
   "metadata": {},
   "outputs": [],
   "source": [
    "sz = 64\n",
    "\n",
    "for lvl in range(5):\n",
    "    xysz = sz / 2**lvl\n",
    "    zgr.zeros(\n",
    "        str(lvl),\n",
    "        shape=(sz, xysz, xysz),\n",
    "        chunks=(4, np.amin((4, xysz)), np.amin((4, xysz))),\n",
    "        dtype=\"<u2\",\n",
    "        dimension_separator=\"/\",\n",
    "    )"
   ]
  },
  {
   "cell_type": "markdown",
   "metadata": {},
   "source": [
    "create zzattrs"
   ]
  },
  {
   "cell_type": "code",
   "execution_count": 13,
   "metadata": {},
   "outputs": [],
   "source": [
    "axes = []\n",
    "for dim in [\"z\", \"x\", \"y\"]:\n",
    "    axes.append({\"name\": dim, \"type\": \"space\", \"unit\": \"micrometer\"})\n",
    "\n",
    "datasets = []\n",
    "for lvl in range(5):\n",
    "    datasets.append(\n",
    "        {\n",
    "            \"path\": str(lvl),\n",
    "            \"coordinateTransformations\": [\n",
    "                {\"type\": \"scale\", \"scale\": [1.0, 2.0**lvl, 2.0**lvl]}\n",
    "            ],\n",
    "        }\n",
    "    )\n",
    "\n",
    "json_data = {\n",
    "    \"multiscales\": [{\"axes\": axes, \"datasets\": datasets, \"name\": \"/\", \"version\": \"0.4\"}]\n",
    "}\n",
    "\n",
    "with open(\n",
    "    \"/Users/thomasathey/Documents/mimlab/mouselight/brainlit_parent/brainlit/experiments/sriram/test-write-ome/group-test/.zattrs\",\n",
    "    \"w\",\n",
    ") as f:\n",
    "    json.dump(json_data, f, indent=4)"
   ]
  },
  {
   "attachments": {},
   "cell_type": "markdown",
   "metadata": {},
   "source": [
    "## Read ome-zarr"
   ]
  },
  {
   "cell_type": "code",
   "execution_count": null,
   "metadata": {},
   "outputs": [],
   "source": [
    "import ome_zarr\n",
    "import ome_zarr.reader\n",
    "import numpy as np"
   ]
  },
  {
   "cell_type": "code",
   "execution_count": null,
   "metadata": {},
   "outputs": [],
   "source": [
    "file_path = \"/Users/thomasathey/Documents/jovolab/neurodata_infrastructure_tips/neuroglancer-zarr/test_ngff.zarr\"\n",
    "loc = ome_zarr.io.parse_url(file_path, mode=\"r\")\n",
    "zarr_reader = ome_zarr.reader.Reader(loc).zarr\n",
    "res0 = zarr_reader.load(\"0\")"
   ]
  },
  {
   "cell_type": "code",
   "execution_count": null,
   "metadata": {},
   "outputs": [],
   "source": [
    "full_image_npy = res0.compute()\n",
    "print(full_image_npy.shape)"
   ]
  },
  {
   "cell_type": "code",
   "execution_count": null,
   "metadata": {},
   "outputs": [],
   "source": [
    "sub_image = res0[:, :, :]\n",
    "print(sub_image)\n",
    "sub_image_npy = sub_image.compute()\n",
    "print(np.unique(sub_image_npy))"
   ]
  },
  {
   "attachments": {},
   "cell_type": "markdown",
   "metadata": {},
   "source": [
    "## Explain vb"
   ]
  },
  {
   "cell_type": "code",
   "execution_count": null,
   "metadata": {},
   "outputs": [],
   "source": [
    "from brainlit.algorithms.connect_fragments import explain_viterbrain\n",
    "import pickle\n",
    "import zarr\n",
    "\n",
    "vb_path = \"/Users/thomasathey/Documents/mimlab/mouselight/brainlit_parent/brainlit/experiments/sriram/data/test-czi/viterbrain.pickle\"\n",
    "\n",
    "with open(vb_path, \"rb\") as handle:\n",
    "    vb = pickle.load(handle)\n",
    "\n",
    "explain_viterbrain(vb, [29, 494, 59], [32, 375, 809])"
   ]
  },
  {
   "cell_type": "code",
   "execution_count": null,
   "metadata": {},
   "outputs": [],
   "source": [
    "vb.nxGraph.nodes[194]"
   ]
  },
  {
   "cell_type": "code",
   "execution_count": null,
   "metadata": {},
   "outputs": [],
   "source": []
  }
 ],
 "metadata": {
  "kernelspec": {
   "display_name": "Python 3.8.10 ('docs_env': venv)",
   "language": "python",
   "name": "python3"
  },
  "language_info": {
   "codemirror_mode": {
    "name": "ipython",
    "version": 3
   },
   "file_extension": ".py",
   "mimetype": "text/x-python",
   "name": "python",
   "nbconvert_exporter": "python",
   "pygments_lexer": "ipython3",
   "version": "3.8.18"
  },
  "orig_nbformat": 4,
  "vscode": {
   "interpreter": {
    "hash": "5dc00d68ff54f8375e99934614da4863299fb9e10af4294c095b7f517546ff26"
   }
  }
 },
 "nbformat": 4,
 "nbformat_minor": 2
}
