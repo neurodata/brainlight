{
 "cells": [
  {
   "cell_type": "markdown",
   "metadata": {},
   "source": [
    "# scratch"
   ]
  },
  {
   "cell_type": "code",
   "execution_count": 1,
   "metadata": {},
   "outputs": [],
   "source": [
    "import zarr\n",
    "import numpy as np\n",
    "from cloudvolume import CloudVolume, Skeleton\n",
    "import dask.array as da\n",
    "from ome_zarr.writer import write_image\n",
    "from ome_zarr.io import parse_url"
   ]
  },
  {
   "cell_type": "code",
   "execution_count": 20,
   "metadata": {},
   "outputs": [],
   "source": [
    "outpath = f\"precomputed://file:///Users/thomasathey/Documents/mimlab/mouselight/brainlit_parent/brainlit/experiments/sriram/traces\"\n",
    "info = CloudVolume.create_new_info(\n",
    "    num_channels=1,\n",
    "    layer_type=\"segmentation\",\n",
    "    data_type=\"uint16\",\n",
    "    encoding=\"raw\",\n",
    "    resolution=[1, 1, 1],  # Voxel scaling, units are in nanometers\n",
    "    voxel_offset=[0, 0, 0],  # x,y,z offset in voxels from the origin\n",
    "    # Pick a convenient size for your underlying chunk representation\n",
    "    # Powers of two are recommended, doesn't need to cover image exactly\n",
    "    chunk_size=[10, 10, 10],  # units are voxels\n",
    "    volume_size=[20, 20, 20],  # e.g. a cubic millimeter dataset\n",
    "    skeletons=\"skeletons\",\n",
    ")\n",
    "vol = CloudVolume(outpath, info=info, compress=False)\n",
    "vol.commit_info()\n",
    "vol.skeleton.meta.commit_info()"
   ]
  },
  {
   "cell_type": "code",
   "execution_count": 21,
   "metadata": {},
   "outputs": [
    {
     "name": "stdout",
     "output_type": "stream",
     "text": [
      "[{'id': 'radius', 'data_type': 'float32', 'num_components': 1}, {'id': 'vertex_types', 'data_type': 'uint8', 'num_components': 1}]\n"
     ]
    }
   ],
   "source": [
    "import json\n",
    "\n",
    "fname = \"/Users/thomasathey/Documents/mimlab/mouselight/brainlit_parent/brainlit/experiments/sriram/traces/skeletons/info\"\n",
    "with open(fname) as f:\n",
    "    data = json.load(f)\n",
    "    print(data[\"vertex_attributes\"])\n",
    "    for i, attr in enumerate(data[\"vertex_attributes\"]):\n",
    "        if attr[\"id\"] == \"vertex_types\":\n",
    "            data[\"vertex_attributes\"].pop(i)\n",
    "            break\n",
    "\n",
    "with open(fname, \"w\") as f:\n",
    "    json.dump(data, f)"
   ]
  },
  {
   "cell_type": "code",
   "execution_count": 18,
   "metadata": {},
   "outputs": [],
   "source": [
    "store = parse_url(\n",
    "    \"/Users/thomasathey/Documents/jovolab/neurodata_infrastructure_tips/neuroglancer-zarr/test_ngff.zarr\",\n",
    "    mode=\"w\",\n",
    ").store\n",
    "root = zarr.group(store=store)\n",
    "write_image(image=dra, group=root, axes=\"xyz\")"
   ]
  },
  {
   "cell_type": "markdown",
   "metadata": {},
   "source": [
    "python cors_webserver.py -d \"/Users/thomasathey/Documents/jovolab/neurodata_infrastructure_tips/neuroglancer-zarr/\" -p 9010"
   ]
  },
  {
   "cell_type": "code",
   "execution_count": 35,
   "metadata": {},
   "outputs": [
    {
     "data": {
      "text/plain": [
       "Vec(500,500,300, dtype=int64)"
      ]
     },
     "execution_count": 35,
     "metadata": {},
     "output_type": "execute_result"
    }
   ],
   "source": [
    "ng_path = \"precomputed://file:///Users/thomasathey/Documents/mimlab/mouselight/brainlit_parent/brainlit/experiments/sriram/sample/ng/frags\"\n",
    "\n",
    "vol_im = CloudVolume(ng_path)\n",
    "vol_im.chunk_size\n",
    "vol_im.resolution"
   ]
  },
  {
   "cell_type": "code",
   "execution_count": 36,
   "metadata": {},
   "outputs": [],
   "source": [
    "ng_path = \"precomputed://file:///Users/thomasathey/Documents/mimlab/mouselight/brainlit_parent/brainlit/experiments/sriram/sample/ng/traces\"\n",
    "\n",
    "info = CloudVolume.create_new_info(\n",
    "    num_channels=1,\n",
    "    layer_type=\"segmentation\",\n",
    "    data_type=\"uint16\",  # Channel images might be 'uint8'\n",
    "    # raw, png, jpeg, compressed_segmentation, fpzip, kempressed, zfpc, compresso\n",
    "    encoding=\"raw\",\n",
    "    resolution=vol_im.resolution,  # Voxel scaling, units are in nanometers\n",
    "    voxel_offset=[0, 0, 0],  # x,y,z offset in voxels from the origin\n",
    "    # Pick a convenient size for your underlying chunk representation\n",
    "    # Powers of two are recommended, doesn't need to cover image exactly\n",
    "    chunk_size=vol_im.chunk_size,  # units are voxels\n",
    "    volume_size=vol_im.shape[:3],  # e.g. a cubic millimeter dataset\n",
    "    skeletons=\"skeletons\",\n",
    ")\n",
    "vol = CloudVolume(ng_path, info=info, compress=False)\n",
    "vol.commit_info()"
   ]
  },
  {
   "cell_type": "markdown",
   "metadata": {},
   "source": [
    "## Read ome-zarr"
   ]
  },
  {
   "cell_type": "code",
   "execution_count": 11,
   "metadata": {},
   "outputs": [],
   "source": [
    "import ome_zarr\n",
    "import ome_zarr.reader\n",
    "import numpy as np"
   ]
  },
  {
   "cell_type": "code",
   "execution_count": 29,
   "metadata": {},
   "outputs": [],
   "source": [
    "file_path = \"/Users/thomasathey/Documents/jovolab/neurodata_infrastructure_tips/neuroglancer-zarr/test_ngff.zarr\"\n",
    "loc = ome_zarr.io.parse_url(file_path, mode=\"r\")\n",
    "zarr_reader = ome_zarr.reader.Reader(loc).zarr\n",
    "res0 = zarr_reader.load(\"0\")"
   ]
  },
  {
   "cell_type": "code",
   "execution_count": 30,
   "metadata": {},
   "outputs": [
    {
     "name": "stdout",
     "output_type": "stream",
     "text": [
      "(100, 100, 100)\n"
     ]
    }
   ],
   "source": [
    "full_image_npy = res0.compute()\n",
    "print(full_image_npy.shape)"
   ]
  },
  {
   "cell_type": "code",
   "execution_count": 18,
   "metadata": {},
   "outputs": [
    {
     "name": "stdout",
     "output_type": "stream",
     "text": [
      "dask.array<from-zarr, shape=(100, 100, 100), dtype=int64, chunksize=(50, 50, 100), chunktype=numpy.ndarray>\n",
      "[0 1]\n"
     ]
    }
   ],
   "source": [
    "sub_image = res0[:, :, :]\n",
    "print(sub_image)\n",
    "sub_image_npy = sub_image.compute()\n",
    "print(np.unique(sub_image_npy))"
   ]
  },
  {
   "cell_type": "markdown",
   "metadata": {},
   "source": [
    "## Write zarr"
   ]
  },
  {
   "cell_type": "code",
   "execution_count": 10,
   "metadata": {},
   "outputs": [
    {
     "name": "stdout",
     "output_type": "stream",
     "text": [
      "uint64\n"
     ]
    }
   ],
   "source": [
    "import numpy as np\n",
    "import zarr\n",
    "from ome_zarr.io import parse_url\n",
    "from ome_zarr.writer import write_image\n",
    "\n",
    "# Modify base_dir below\n",
    "base_dir = \"/Users/thomasathey/Documents/jovolab/neurodata_infrastructure_tips/ng-zarr-test/\"  # <path-to-ng-zarr-data>\n",
    "\n",
    "# Image is cube of zeros with cube of 1's in the middle\n",
    "data = np.zeros((100, 100, 100))\n",
    "data[40:60, 40:60, 40:60] = 1\n",
    "data = data.astype(\"uint64\")\n",
    "\n",
    "# Write zarr\n",
    "z = zarr.open(\n",
    "    base_dir + \"test.zarr\",\n",
    "    mode=\"w\",\n",
    "    shape=data.shape,\n",
    "    chunks=data.shape,\n",
    "    dtype=\"uint64\",\n",
    ")\n",
    "z[:, :, :] = data\n",
    "\n",
    "# Write ome-zarr\n",
    "path = base_dir + \"test-ome.zarr\"\n",
    "store = parse_url(path, mode=\"w\").store\n",
    "root = zarr.group(store=store)\n",
    "write_image(image=data, group=root, axes=\"zyx\", storage_options=dict(chunks=data.shape))"
   ]
  },
  {
   "cell_type": "markdown",
   "metadata": {},
   "source": [
    "### In neuroglancer directory:\n",
    "\n",
    "python cors_webserver.py -d \"<base_dir>\" -p 9010\n",
    "\n",
    "### Add zarr data image layer:\n",
    "zarr://http://127.0.0.1:9010/test.zarr/\n",
    "\n",
    "### Add ome-zarr data image layer:\n",
    "zarr://http://127.0.0.1:9010/test-ome.zarr/"
   ]
  },
  {
   "cell_type": "markdown",
   "metadata": {},
   "source": []
  },
  {
   "cell_type": "code",
   "execution_count": null,
   "metadata": {},
   "outputs": [],
   "source": []
  }
 ],
 "metadata": {
  "kernelspec": {
   "display_name": "Python 3.8.10 ('docs_env': venv)",
   "language": "python",
   "name": "python3"
  },
  "language_info": {
   "codemirror_mode": {
    "name": "ipython",
    "version": 3
   },
   "file_extension": ".py",
   "mimetype": "text/x-python",
   "name": "python",
   "nbconvert_exporter": "python",
   "pygments_lexer": "ipython3",
   "version": "3.8.10"
  },
  "orig_nbformat": 4,
  "vscode": {
   "interpreter": {
    "hash": "5dc00d68ff54f8375e99934614da4863299fb9e10af4294c095b7f517546ff26"
   }
  }
 },
 "nbformat": 4,
 "nbformat_minor": 2
}
