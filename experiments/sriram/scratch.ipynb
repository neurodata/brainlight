{
 "cells": [
  {
   "cell_type": "markdown",
   "metadata": {},
   "source": [
    "# scratch"
   ]
  },
  {
   "cell_type": "code",
   "execution_count": 1,
   "metadata": {},
   "outputs": [],
   "source": [
    "import zarr\n",
    "import numpy as np\n",
    "from cloudvolume import CloudVolume, Skeleton"
   ]
  },
  {
   "cell_type": "code",
   "execution_count": 4,
   "metadata": {},
   "outputs": [],
   "source": [
    "z = zarr.open('/Users/thomasathey/Documents/jovolab/neurodata_infrastructure_tips/neuroglancer-zarr/test.zarr', mode='w', shape=(100, 100,100),chunks=(50, 50, 100), dtype='int')\n",
    "z[:,:,:] = 0\n",
    "z[45:55,45:55,45:55] = 1"
   ]
  },
  {
   "cell_type": "markdown",
   "metadata": {},
   "source": [
    "python cors_webserver.py -d \"/Users/thomasathey/Documents/jovolab/neurodata_infrastructure_tips/neuroglancer-zarr/\" -p 9010"
   ]
  },
  {
   "cell_type": "code",
   "execution_count": 35,
   "metadata": {},
   "outputs": [
    {
     "data": {
      "text/plain": [
       "Vec(500,500,300, dtype=int64)"
      ]
     },
     "execution_count": 35,
     "metadata": {},
     "output_type": "execute_result"
    }
   ],
   "source": [
    "\n",
    "ng_path = \"precomputed://file:///Users/thomasathey/Documents/mimlab/mouselight/brainlit_parent/brainlit/experiments/sriram/sample/ng/frags\"\n",
    "\n",
    "vol_im = CloudVolume(ng_path)\n",
    "vol_im.chunk_size\n",
    "vol_im.resolution"
   ]
  },
  {
   "cell_type": "code",
   "execution_count": 36,
   "metadata": {},
   "outputs": [],
   "source": [
    "\n",
    "ng_path = \"precomputed://file:///Users/thomasathey/Documents/mimlab/mouselight/brainlit_parent/brainlit/experiments/sriram/sample/ng/traces\"\n",
    "\n",
    "info = CloudVolume.create_new_info(\n",
    "    num_channels=1,\n",
    "    layer_type=\"segmentation\",\n",
    "    data_type=\"uint16\",  # Channel images might be 'uint8'\n",
    "    # raw, png, jpeg, compressed_segmentation, fpzip, kempressed, zfpc, compresso\n",
    "    encoding=\"raw\",\n",
    "    resolution=vol_im.resolution,  # Voxel scaling, units are in nanometers\n",
    "    voxel_offset=[0, 0, 0],  # x,y,z offset in voxels from the origin\n",
    "    # Pick a convenient size for your underlying chunk representation\n",
    "    # Powers of two are recommended, doesn't need to cover image exactly\n",
    "    chunk_size=vol_im.chunk_size,  # units are voxels\n",
    "    volume_size=vol_im.shape[:3],  # e.g. a cubic millimeter dataset\n",
    "    skeletons='skeletons'\n",
    ")\n",
    "vol = CloudVolume(ng_path, info=info, compress=False)\n",
    "vol.commit_info()"
   ]
  },
  {
   "cell_type": "code",
   "execution_count": 37,
   "metadata": {},
   "outputs": [],
   "source": [
    "vol.skeleton.meta.commit_info() #commit skeleton info file"
   ]
  },
  {
   "cell_type": "code",
   "execution_count": 63,
   "metadata": {},
   "outputs": [
    {
     "name": "stdout",
     "output_type": "stream",
     "text": [
      "[{'id': 'radius', 'data_type': 'float32', 'num_components': 1}, {'id': 'vertex_types', 'data_type': 'uint8', 'num_components': 1}]\n",
      "[{'id': 'radius', 'data_type': 'float32', 'num_components': 1}]\n"
     ]
    }
   ],
   "source": [
    "vertices = np.array([[0,0,0], [30,400,400]])\n",
    "vertices = np.multiply(vertices, vol.resolution)\n",
    "\n",
    "skel = Skeleton(segid = 1, vertices=vertices, edges=[[0,1]], space='voxel')\n",
    "print(skel.extra_attributes)\n",
    "skel.extra_attributes = [ attr for attr in skel.extra_attributes if attr['data_type'] == 'float32' ]\n",
    "print(skel.extra_attributes)\n",
    "vol.skeleton.upload(skel)"
   ]
  },
  {
   "cell_type": "code",
   "execution_count": 61,
   "metadata": {},
   "outputs": [
    {
     "name": "stdout",
     "output_type": "stream",
     "text": [
      "Neuroglancer server listening to http://localhost:1337\n"
     ]
    },
    {
     "name": "stderr",
     "output_type": "stream",
     "text": [
      "127.0.0.1 - - [06/Oct/2022 15:17:14] \"OPTIONS /info HTTP/1.1\" 200 -\n",
      "127.0.0.1 - - [06/Oct/2022 15:17:14] \"GET /info HTTP/1.1\" 200 -\n",
      "127.0.0.1 - - [06/Oct/2022 15:17:14] \"OPTIONS /skeletons/info HTTP/1.1\" 200 -\n",
      "127.0.0.1 - - [06/Oct/2022 15:17:14] \"GET /skeletons/info HTTP/1.1\" 200 -\n",
      "127.0.0.1 - - [06/Oct/2022 15:17:14] \"OPTIONS /skeletons/1 HTTP/1.1\" 200 -\n",
      "127.0.0.1 - - [06/Oct/2022 15:17:14] \"GET /skeletons/1 HTTP/1.1\" 200 -\n",
      "127.0.0.1 - - [06/Oct/2022 15:17:14] \"OPTIONS /skeletons/4 HTTP/1.1\" 200 -\n",
      "127.0.0.1 - - [06/Oct/2022 15:17:14] \"OPTIONS /500_500_300/0-38_0-500_0-500 HTTP/1.1\" 200 -\n",
      "127.0.0.1 - - [06/Oct/2022 15:17:14] \"GET /skeletons/4 HTTP/1.1\" 200 -\n",
      "127.0.0.1 - - [06/Oct/2022 15:17:14] code 404, message /500_500_300/0-38_0-500_0-500: Not Found\n",
      "127.0.0.1 - - [06/Oct/2022 15:17:14] \"GET /500_500_300/0-38_0-500_0-500 HTTP/1.1\" 404 -\n",
      "127.0.0.1 - - [06/Oct/2022 15:17:29] \"OPTIONS /info HTTP/1.1\" 200 -\n",
      "127.0.0.1 - - [06/Oct/2022 15:17:29] \"GET /info HTTP/1.1\" 200 -\n",
      "127.0.0.1 - - [06/Oct/2022 15:17:29] \"OPTIONS /skeletons/info HTTP/1.1\" 200 -\n",
      "127.0.0.1 - - [06/Oct/2022 15:17:29] \"GET /skeletons/info HTTP/1.1\" 200 -\n",
      "127.0.0.1 - - [06/Oct/2022 15:17:29] \"OPTIONS /skeletons/4 HTTP/1.1\" 200 -\n",
      "127.0.0.1 - - [06/Oct/2022 15:17:29] code 404, message /skeletons/4: Not Found\n",
      "127.0.0.1 - - [06/Oct/2022 15:17:29] \"GET /skeletons/4 HTTP/1.1\" 404 -\n",
      "127.0.0.1 - - [06/Oct/2022 15:17:29] \"OPTIONS /500_500_300/0-38_0-500_0-500 HTTP/1.1\" 200 -\n",
      "127.0.0.1 - - [06/Oct/2022 15:17:29] \"OPTIONS /skeletons/1 HTTP/1.1\" 200 -\n",
      "127.0.0.1 - - [06/Oct/2022 15:17:29] code 404, message /500_500_300/0-38_0-500_0-500: Not Found\n",
      "127.0.0.1 - - [06/Oct/2022 15:17:29] \"GET /500_500_300/0-38_0-500_0-500 HTTP/1.1\" 404 -\n",
      "127.0.0.1 - - [06/Oct/2022 15:17:29] \"GET /skeletons/1 HTTP/1.1\" 200 -\n"
     ]
    },
    {
     "name": "stdout",
     "output_type": "stream",
     "text": [
      "\n",
      "Continuing program execution...\n"
     ]
    }
   ],
   "source": [
    "vol.viewer()"
   ]
  },
  {
   "cell_type": "code",
   "execution_count": null,
   "metadata": {},
   "outputs": [],
   "source": []
  }
 ],
 "metadata": {
  "kernelspec": {
   "display_name": "Python 3.8.10 ('docs_env': venv)",
   "language": "python",
   "name": "python3"
  },
  "language_info": {
   "codemirror_mode": {
    "name": "ipython",
    "version": 3
   },
   "file_extension": ".py",
   "mimetype": "text/x-python",
   "name": "python",
   "nbconvert_exporter": "python",
   "pygments_lexer": "ipython3",
   "version": "3.8.10"
  },
  "orig_nbformat": 4,
  "vscode": {
   "interpreter": {
    "hash": "5dc00d68ff54f8375e99934614da4863299fb9e10af4294c095b7f517546ff26"
   }
  }
 },
 "nbformat": 4,
 "nbformat_minor": 2
}
