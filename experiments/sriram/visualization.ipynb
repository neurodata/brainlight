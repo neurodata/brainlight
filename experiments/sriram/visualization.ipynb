{
 "cells": [
  {
   "attachments": {},
   "cell_type": "markdown",
   "metadata": {},
   "source": [
    "1. install python (3.8) and git\n",
    "2. install virtualenv e.g. with `<path to python> -m to pip install virtualenv`\n",
    "3. create a virtual environment that uses python 3.8 using virtualenv e.g. with `<path to python> -m virtualenv \"<path to virtual environment>\"`\n",
    "4. activate the virtual environment e.g. on windows with `.\\<pathto env>\\Scripts\\activate`\n",
    "5. install vscode and python extension\n",
    "6. git clone brainlit (https://github.com/neurodata/brainlit) and neuroglancer (https://github.com/google/neuroglancer)\n",
    "7. install brainlit from source e.g. `pip install -e .` in brainlit folder "
   ]
  },
  {
   "cell_type": "code",
   "execution_count": 1,
   "metadata": {},
   "outputs": [],
   "source": [
    "from brainlit.utils.write import czi_to_zarr, zarr_to_omezarr"
   ]
  },
  {
   "attachments": {},
   "cell_type": "markdown",
   "metadata": {},
   "source": [
    "# Convert czi to zarr"
   ]
  },
  {
   "cell_type": "code",
   "execution_count": null,
   "metadata": {},
   "outputs": [],
   "source": [
    "czi_path = \"/cis/project/sriram/for Tomi/exp227-mouse3-stitched.czi\"\n",
    "out_dir = \"/cis/project/sriram/ng_data/exp227/\"\n",
    "\n",
    "zarr_paths = czi_to_zarr(czi_path=czi_path, out_dir=out_dir)"
   ]
  },
  {
   "attachments": {},
   "cell_type": "markdown",
   "metadata": {},
   "source": [
    "# Convert zarr to ome-zarr"
   ]
  },
  {
   "cell_type": "code",
   "execution_count": null,
   "metadata": {},
   "outputs": [],
   "source": [
    "out_path = \"/cis/project/sriram/ng_data/exp227/fg_ome.zarr\"\n",
    "\n",
    "zarr_to_omezarr(zarr_path=zarr_paths[0], out_path=out_path)"
   ]
  },
  {
   "attachments": {},
   "cell_type": "markdown",
   "metadata": {},
   "source": [
    "# View ome-zarr on neuroglancer\n",
    "\n",
    "1. Use https://github.com/google/neuroglancer/blob/master/cors_webserver.py to serve the data e.g. `python cors_webserver.py -d \"/cis/project/sriram/ng_data/\" -p 9010`\n",
    "2. Launch neuroglancer app e.g. https://neuroglancer-demo.appspot.com\n",
    "3. Add layer to neuroglancer app e.g. zarr://http://127.0.0.1:9010/exp227/fg_ome.zarr"
   ]
  },
  {
   "cell_type": "markdown",
   "metadata": {},
   "source": []
  }
 ],
 "metadata": {
  "kernelspec": {
   "display_name": "docs_env",
   "language": "python",
   "name": "python3"
  },
  "language_info": {
   "codemirror_mode": {
    "name": "ipython",
    "version": 3
   },
   "file_extension": ".py",
   "mimetype": "text/x-python",
   "name": "python",
   "nbconvert_exporter": "python",
   "pygments_lexer": "ipython3",
   "version": "3.8.10"
  },
  "orig_nbformat": 4,
  "vscode": {
   "interpreter": {
    "hash": "5dc00d68ff54f8375e99934614da4863299fb9e10af4294c095b7f517546ff26"
   }
  }
 },
 "nbformat": 4,
 "nbformat_minor": 2
}
