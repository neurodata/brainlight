{
 "cells": [
  {
   "attachments": {},
   "cell_type": "markdown",
   "metadata": {},
   "source": [
    "# Setup\n",
    "1. install python (3.8) and git\n",
    "2. install virtualenv e.g. with `<path to python> -m to pip install virtualenv`\n",
    "3. create a virtual environment that uses python 3.8 using virtualenv e.g. with `<path to python> -m virtualenv \"<path to virtual environment>\"`\n",
    "4. activate the virtual environment e.g. on windows with `.\\<pathto env>\\Scripts\\activate`\n",
    "5. install vscode and python extension\n",
    "6. git clone brainlit (https://github.com/neurodata/brainlit) and neuroglancer (https://github.com/google/neuroglancer)\n",
    "7. install brainlit from source e.g. `pip install -e .` in brainlit folder "
   ]
  },
  {
   "cell_type": "code",
   "execution_count": 1,
   "metadata": {},
   "outputs": [],
   "source": [
    "from brainlit.utils.write import czi_to_zarr, zarr_to_omezarr\n",
    "import zarr\n",
    "from cloudvolume import CloudVolume\n",
    "import json\n",
    "from pathlib import Path"
   ]
  },
  {
   "attachments": {},
   "cell_type": "markdown",
   "metadata": {},
   "source": [
    "# Convert czi to zarr"
   ]
  },
  {
   "cell_type": "code",
   "execution_count": 2,
   "metadata": {},
   "outputs": [],
   "source": [
    "project_path = \"/Users/thomasathey/Documents/mimlab/mouselight/brainlit_parent/brainlit/experiments/sriram/data/\"  # \"C:\\\\Users\\\\Sriram Sudarsanam\\\\Desktop\\\\NeuroglancerTrial\\\\\"\n",
    "czi_path = f\"{project_path}test.czi\"  # path to czi image\n",
    "out_dir = f\"{project_path}\"  # path to directory where zarr should be made, should end in slash"
   ]
  },
  {
   "cell_type": "code",
   "execution_count": 3,
   "metadata": {},
   "outputs": [
    {
     "name": "stdout",
     "output_type": "stream",
     "text": [
      "Writing 2 zarrs of shape 1998x2009x40 from czi with dims [{'X': (0, 2009), 'Y': (0, 1998), 'Z': (0, 40), 'C': (0, 2), 'T': (0, 1), 'V': (0, 1), 'B': (0, 1)}]\n"
     ]
    },
    {
     "name": "stderr",
     "output_type": "stream",
     "text": [
      "Saving slices foreground...: 100%|██████████| 40/40 [00:08<00:00,  4.60it/s]\n",
      "Saving slices background...: 100%|██████████| 40/40 [00:10<00:00,  3.92it/s]\n"
     ]
    }
   ],
   "source": [
    "zarr_paths = czi_to_zarr(czi_path=czi_path, out_dir=out_dir, fg_channel=1)"
   ]
  },
  {
   "attachments": {},
   "cell_type": "markdown",
   "metadata": {},
   "source": [
    "# Convert zarr to ome-zarr"
   ]
  },
  {
   "cell_type": "code",
   "execution_count": 4,
   "metadata": {},
   "outputs": [],
   "source": [
    "out_path = f\"{project_path}fg_ome.zarr\"  # path of ome zarr to be made"
   ]
  },
  {
   "cell_type": "code",
   "execution_count": 5,
   "metadata": {},
   "outputs": [
    {
     "name": "stdout",
     "output_type": "stream",
     "text": [
      "Converting /Users/thomasathey/Documents/mimlab/mouselight/brainlit_parent/brainlit/experiments/sriram/data/fg.zarr to ome-zarr\n"
     ]
    }
   ],
   "source": [
    "zarr_to_omezarr(zarr_path=zarr_paths[0], out_path=out_path)"
   ]
  },
  {
   "attachments": {},
   "cell_type": "markdown",
   "metadata": {},
   "source": [
    "# View ome-zarr on neuroglancer\n",
    "\n",
    "1. Use https://github.com/google/neuroglancer/blob/master/cors_webserver.py to serve the data e.g. `python cors_webserver.py -d \"/cis/project/sriram/ng_data/\" -p 9010`\n",
    "2. Launch neuroglancer app e.g. https://neuroglancer-demo.appspot.com\n",
    "3. Add layer to neuroglancer app e.g. zarr://http://127.0.0.1:9010/sriram-adipo-brain1-im3/fg_ome.zarr"
   ]
  },
  {
   "attachments": {},
   "cell_type": "markdown",
   "metadata": {},
   "source": [
    "# Add trace layer"
   ]
  },
  {
   "cell_type": "code",
   "execution_count": 6,
   "metadata": {},
   "outputs": [],
   "source": [
    "traces_dir = f\"{out_dir}traces/\"\n",
    "z = zarr.open(out_dir + \"fg.zarr\")\n",
    "volume_size = z.shape\n",
    "chunk_size = z.chunks\n",
    "resolution = [1000000000, 1000000000, 1000000000]\n",
    "\n",
    "outpath = f\"precomputed://file://{traces_dir}\"\n",
    "\n",
    "info = CloudVolume.create_new_info(\n",
    "    num_channels=1,\n",
    "    layer_type=\"segmentation\",\n",
    "    data_type=\"uint16\",\n",
    "    encoding=\"raw\",\n",
    "    resolution=resolution,  # Voxel scaling, units are in nanometers\n",
    "    voxel_offset=[0, 0, 0],  # x,y,z offset in voxels from the origin\n",
    "    # Pick a convenient size for your underlying chunk representation\n",
    "    # Powers of two are recommended, doesn't need to cover image exactly\n",
    "    chunk_size=chunk_size,  # units are voxels\n",
    "    volume_size=volume_size,  # e.g. a cubic millimeter dataset\n",
    "    skeletons=\"skeletons\",\n",
    ")\n",
    "vol = CloudVolume(outpath, info=info, compress=False)\n",
    "vol.commit_info()\n",
    "vol.skeleton.meta.commit_info()\n",
    "\n",
    "# remove vertex type attribute because it is a uint8 and incompatible with neuroglancer\n",
    "info_path = f\"{traces_dir}skeletons/info\"\n",
    "with open(info_path) as f:\n",
    "    data = json.load(f)\n",
    "    for i, attr in enumerate(data[\"vertex_attributes\"]):\n",
    "        if attr[\"id\"] == \"vertex_types\":\n",
    "            data[\"vertex_attributes\"].pop(i)\n",
    "            break\n",
    "\n",
    "with open(info_path, \"w\") as f:\n",
    "    json.dump(data, f)"
   ]
  },
  {
   "attachments": {},
   "cell_type": "markdown",
   "metadata": {},
   "source": [
    "# Ready to trace\n",
    "Use `trace.py` to trace neurons"
   ]
  },
  {
   "cell_type": "code",
   "execution_count": 15,
   "metadata": {},
   "outputs": [],
   "source": [
    "\n",
    "im0 = zarr.open(\"/Users/thomasathey/Documents/mimlab/mouselight/brainlit_parent/brainlit/experiments/sriram/data/fg_ome.zarr/0\")\n",
    "labels = zarr.open(\"/Users/thomasathey/Documents/mimlab/mouselight/brainlit_parent/brainlit/experiments/sriram/data/labels.zarr\", \"w\")\n",
    "labels.create_dataset(\"0\",shape = im0.shape, chunks = im0.chunks, dtype=\"int\")\n",
    "labels.attrs[\"multiscales\"] = [\n",
    "        {\n",
    "            \"axes\": [\n",
    "                {\n",
    "                    \"name\": \"x\",\n",
    "                    \"type\": \"space\"\n",
    "                },\n",
    "                {\n",
    "                    \"name\": \"y\",\n",
    "                    \"type\": \"space\"\n",
    "                },\n",
    "                {\n",
    "                    \"name\": \"z\",\n",
    "                    \"type\": \"space\"\n",
    "                }\n",
    "            ],\n",
    "            \"datasets\": [\n",
    "                {\n",
    "                    \"coordinateTransformations\": [\n",
    "                        {\n",
    "                            \"scale\": [\n",
    "                                1.0,\n",
    "                                1.0,\n",
    "                                1.0\n",
    "                            ],\n",
    "                            \"type\": \"scale\"\n",
    "                        }\n",
    "                    ],\n",
    "                    \"path\": \"0\"\n",
    "                }\n",
    "            ],\n",
    "            \"name\": \"/\",\n",
    "            \"version\": \"0.4\"\n",
    "        }\n",
    "    ]"
   ]
  },
  {
   "cell_type": "code",
   "execution_count": 14,
   "metadata": {},
   "outputs": [
    {
     "data": {
      "text/plain": [
       "{}"
      ]
     },
     "execution_count": 14,
     "metadata": {},
     "output_type": "execute_result"
    }
   ],
   "source": [
    "dict(labels.attrs)"
   ]
  },
  {
   "cell_type": "code",
   "execution_count": null,
   "metadata": {},
   "outputs": [],
   "source": []
  }
 ],
 "metadata": {
  "kernelspec": {
   "display_name": "docs_env",
   "language": "python",
   "name": "python3"
  },
  "language_info": {
   "codemirror_mode": {
    "name": "ipython",
    "version": 3
   },
   "file_extension": ".py",
   "mimetype": "text/x-python",
   "name": "python",
   "nbconvert_exporter": "python",
   "pygments_lexer": "ipython3",
   "version": "3.8.10"
  },
  "orig_nbformat": 4,
  "vscode": {
   "interpreter": {
    "hash": "5dc00d68ff54f8375e99934614da4863299fb9e10af4294c095b7f517546ff26"
   }
  }
 },
 "nbformat": 4,
 "nbformat_minor": 2
}
