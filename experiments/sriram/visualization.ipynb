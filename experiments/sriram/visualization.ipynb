{
 "cells": [
  {
   "attachments": {},
   "cell_type": "markdown",
   "metadata": {},
   "source": [
    "# Setup\n",
    "1. install python (3.8) and git\n",
    "2. install virtualenv e.g. with `<path to python> -m to pip install virtualenv`\n",
    "3. create a virtual environment that uses python 3.8 using virtualenv e.g. with `<path to python> -m virtualenv \"<path to virtual environment>\"`\n",
    "4. activate the virtual environment e.g. on windows with `.\\<pathto env>\\Scripts\\activate`\n",
    "5. install vscode and python extension\n",
    "6. git clone brainlit (https://github.com/neurodata/brainlit) and neuroglancer (https://github.com/google/neuroglancer)\n",
    "7. install brainlit from source e.g. `pip install -e .` in brainlit folder \n",
    "8. Place `test-czi.zip` file in `brainlit/experiments/sriramg/data/` and unzip it"
   ]
  },
  {
   "cell_type": "code",
   "execution_count": null,
   "metadata": {},
   "outputs": [],
   "source": [
    "from brainlit.utils.write import czi_to_zarr, zarr_to_omezarr, write_trace_layer\n",
    "import zarr\n",
    "from cloudvolume import CloudVolume\n",
    "import json\n",
    "from pathlib import Path"
   ]
  },
  {
   "attachments": {},
   "cell_type": "markdown",
   "metadata": {},
   "source": [
    "# Convert czi to zarr"
   ]
  },
  {
   "cell_type": "code",
   "execution_count": null,
   "metadata": {},
   "outputs": [],
   "source": [
    "project_path = \"/Users/thomasathey/Documents/mimlab/mouselight/brainlit_parent/brainlit/experiments/sriram/data/test-czi\"  # \"E:\\\\Projects\\\\KolodkinLab\\\\Sriram\\\\brainlit-tracing\\\\brainlit\\\\experiments\\\\sriram\\\\data\\\\\" \"C:\\\\Users\\\\Sriram Sudarsanam\\\\Desktop\\\\NeuroglancerTrial\\\\\"\n",
    "project_path = Path(project_path)\n",
    "\n",
    "czi_path = project_path / \"test.czi\"  # path to czi image"
   ]
  },
  {
   "cell_type": "code",
   "execution_count": null,
   "metadata": {},
   "outputs": [],
   "source": [
    "zarr_paths = czi_to_zarr(\n",
    "    czi_path=czi_path, out_dir=project_path, fg_channel=1, parallel=1\n",
    ")"
   ]
  },
  {
   "attachments": {},
   "cell_type": "markdown",
   "metadata": {},
   "source": [
    "# Convert zarr to ome-zarr and add trace layer"
   ]
  },
  {
   "cell_type": "code",
   "execution_count": null,
   "metadata": {},
   "outputs": [],
   "source": [
    "ome_path = project_path / \"fg_ome.zarr\"  # path of ome zarr to be made\n",
    "resolution = [510, 510, 3000]  # xyz resolution in nm"
   ]
  },
  {
   "cell_type": "code",
   "execution_count": null,
   "metadata": {},
   "outputs": [],
   "source": [
    "zarr_to_omezarr(zarr_path=zarr_paths[0], out_path=ome_path, res=resolution)\n",
    "write_trace_layer(parent_dir=project_path, res=resolution)"
   ]
  },
  {
   "attachments": {},
   "cell_type": "markdown",
   "metadata": {},
   "source": [
    "# View ome-zarr on neuroglancer\n",
    "\n",
    "1. Use https://github.com/google/neuroglancer/blob/master/cors_webserver.py to serve the data e.g. `python cors_webserver.py -d \"/Users/thomasathey/Documents/mimlab/mouselight/brainlit_parent/brainlit/experiments/sriram/data\" -p 9010`\n",
    "2. Launch neuroglancer app e.g. https://neuroglancer-demo.appspot.com\n",
    "3. Add layer to neuroglancer app e.g. zarr://http://127.0.0.1:9010/sriram-adipo-brain1-im3/fg_ome.zarr"
   ]
  },
  {
   "attachments": {},
   "cell_type": "markdown",
   "metadata": {},
   "source": [
    "# Ready to trace\n",
    "Use `trace.py` to trace neurons"
   ]
  },
  {
   "attachments": {},
   "cell_type": "markdown",
   "metadata": {},
   "source": [
    "# Optional: Activate ViterBrain"
   ]
  },
  {
   "attachments": {},
   "cell_type": "markdown",
   "metadata": {},
   "source": [
    "You will need to download ilastik: https://www.ilastik.org/download.html\n",
    "\n",
    "Update `ilastik_program_path` below, e.g. for Mac/Linux use the path to run_ilastik.sh, for Windows, use the path to ilastik.exe"
   ]
  },
  {
   "cell_type": "code",
   "execution_count": null,
   "metadata": {},
   "outputs": [],
   "source": [
    "from brainlit.algorithms.generate_fragments.state_generation import state_generation"
   ]
  },
  {
   "cell_type": "code",
   "execution_count": null,
   "metadata": {},
   "outputs": [],
   "source": [
    "ilastik_program_path = \"/Applications/ilastik-1.4.0b21-OSX.app/Contents/ilastik-release/run_ilastik.sh\"  # path to ilastik executable e.g. for windows something like \"\\Program Files\\ilastik-1.3.2\\ilastik.exe\"\n",
    "\n",
    "\n",
    "image_path = project_path / \"fg_ome.zarr\" / \"0\"\n",
    "z_im = zarr.open_array(image_path)\n",
    "ilastik_project_path = project_path / \"ex_fg.ilp\"\n",
    "chunk_size = [c * 2 for c in z_im.chunks]\n",
    "data_bin = project_path / \"data_bin/\"\n",
    "\n",
    "prob_path = project_path / \"probs.zarr\"\n",
    "fragment_path = project_path / \"labels.zarr\"\n",
    "ome_path_lbl = project_path / \"labels_ome.zarr\"\n",
    "tiered_path = project_path / \"tiered.zarr\"\n",
    "states_path = project_path / \"nx.pickle\"\n",
    "\n",
    "sg = state_generation(\n",
    "    image_path=image_path,\n",
    "    new_layers_dir=project_path,\n",
    "    ilastik_program_path=ilastik_program_path,\n",
    "    ilastik_project_path=ilastik_project_path,\n",
    "    chunk_size=chunk_size,\n",
    "    parallel=6,\n",
    "    resolution=[\n",
    "        resolution[2] / 1000,\n",
    "        resolution[0] / 1000,\n",
    "        resolution[1] / 1000,\n",
    "    ],  # ome zarr is zxy, in microns\n",
    "    # prob_path=prob_path,\n",
    "    # fragment_path=fragment_path,\n",
    "    # tiered_path=tiered_path,\n",
    "    # states_path=states_path,\n",
    ")"
   ]
  },
  {
   "cell_type": "code",
   "execution_count": null,
   "metadata": {},
   "outputs": [],
   "source": [
    "sg.predict(data_bin=data_bin)\n",
    "sg.compute_frags()\n",
    "\n",
    "zarr_to_omezarr(zarr_path=fragment_path, out_path=ome_path_lbl, res=resolution)"
   ]
  },
  {
   "cell_type": "code",
   "execution_count": null,
   "metadata": {},
   "outputs": [],
   "source": [
    "sg.compute_soma_lbls()\n",
    "sg.compute_image_tiered()\n",
    "sg.compute_states()\n",
    "sg.compute_edge_weights(str(ome_path_lbl / \"0\"))"
   ]
  },
  {
   "attachments": {},
   "cell_type": "markdown",
   "metadata": {},
   "source": [
    "# Other"
   ]
  },
  {
   "cell_type": "code",
   "execution_count": null,
   "metadata": {},
   "outputs": [],
   "source": [
    "from skimage import io\n",
    "import numpy as np\n",
    "\n",
    "\n",
    "image_path = project_path / \"fg_ome.zarr\" / \"0\"\n",
    "z_im = zarr.open(image_path)\n",
    "subvol = z_im[:40, :40, :40]\n",
    "io.imsave(project_path / \"train.tif\", subvol)"
   ]
  },
  {
   "cell_type": "code",
   "execution_count": null,
   "metadata": {},
   "outputs": [],
   "source": [
    "import pickle\n",
    "from brainlit.algorithms.connect_fragments.viterbrain import explain_viterbrain\n",
    "\n",
    "with open(\n",
    "    \"/Users/thomasathey/Documents/mimlab/mouselight/brainlit_parent/brainlit/experiments/sriram/data/test-czi/viterbrain.pickle\",\n",
    "    \"rb\",\n",
    ") as handle:\n",
    "    vb = pickle.load(handle)"
   ]
  },
  {
   "cell_type": "code",
   "execution_count": null,
   "metadata": {},
   "outputs": [],
   "source": [
    "fragments = zarr.open(vb.fragment_path, mode=\"r\")"
   ]
  },
  {
   "cell_type": "code",
   "execution_count": null,
   "metadata": {},
   "outputs": [],
   "source": [
    "explain_viterbrain(vb, [558, 549, 4], [480, 517, 2], [])"
   ]
  },
  {
   "attachments": {},
   "cell_type": "markdown",
   "metadata": {},
   "source": [
    "vs fragments [1176, 1173, 1172]"
   ]
  },
  {
   "attachments": {},
   "cell_type": "markdown",
   "metadata": {},
   "source": [
    "# Create Viterbrain object"
   ]
  },
  {
   "cell_type": "code",
   "execution_count": null,
   "metadata": {},
   "outputs": [],
   "source": [
    "from brainlit.algorithms.generate_fragments.state_generation import state_generation\n",
    "import numpy as np\n",
    "import os"
   ]
  },
  {
   "cell_type": "code",
   "execution_count": null,
   "metadata": {},
   "outputs": [],
   "source": [
    "im0 = zarr.open(f\"{out_path}/0/\")\n",
    "probs_ra = np.zeros(im0.shape)\n",
    "probs_ra[np.array(im0) > 20] = 0.95\n",
    "\n",
    "\n",
    "prob_path = f\"{project_path}probs.zarr\"\n",
    "probs = zarr.open(prob_path, mode=\"w\", shape=im0.shape)\n",
    "probs[:,:,:] = probs_ra"
   ]
  },
  {
   "cell_type": "code",
   "execution_count": null,
   "metadata": {},
   "outputs": [],
   "source": [
    "sg = state_generation(\n",
    "    image_path=f\"{out_path}/0/\",\n",
    "    new_layers_dir=project_path,\n",
    "    ilastik_program_path=\"\",\n",
    "    ilastik_project_path=\"\",\n",
    "    fg_channel=0,\n",
    "    chunk_size=[300, 300, 160],\n",
    "    resolution=[0.5, 0.5, 3],\n",
    "    parallel=8,\n",
    "    prob_path = prob_path,\n",
    ")\n",
    "\n",
    "\n",
    "sg.compute_frags()\n",
    "sg.compute_image_tiered()\n",
    "sg.compute_soma_lbls()\n",
    "sg.compute_states()\n",
    "sg.compute_edge_weights()"
   ]
  },
  {
   "cell_type": "code",
   "execution_count": null,
   "metadata": {},
   "outputs": [],
   "source": [
    "labels_path = f\"{project_path}labels.zarr\"\n",
    "labels_ome_path = f\"{project_path}labels_ome_hack.zarr\"\n",
    "\n",
    "labels = zarr.open(labels_ome_path, \"w\")\n",
    "labels.create_dataset(\"0\",shape = im0.shape, chunks = im0.chunks, dtype=\"int\")\n",
    "labels.attrs[\"multiscales\"] = [\n",
    "        {\n",
    "            \"axes\": [\n",
    "                {\n",
    "                    \"name\": \"x\",\n",
    "                    \"type\": \"space\"\n",
    "                },\n",
    "                {\n",
    "                    \"name\": \"y\",\n",
    "                    \"type\": \"space\"\n",
    "                },\n",
    "                {\n",
    "                    \"name\": \"z\",\n",
    "                    \"type\": \"space\"\n",
    "                }\n",
    "            ],\n",
    "            \"datasets\": [\n",
    "                {\n",
    "                    \"coordinateTransformations\": [\n",
    "                        {\n",
    "                            \"scale\": [\n",
    "                                1.0,\n",
    "                                1.0,\n",
    "                                1.0\n",
    "                            ],\n",
    "                            \"type\": \"scale\"\n",
    "                        }\n",
    "                    ],\n",
    "                    \"path\": \"0\"\n",
    "                }\n",
    "            ],\n",
    "            \"name\": \"/\",\n",
    "            \"version\": \"0.4\"\n",
    "        }\n",
    "    ]"
   ]
  },
  {
   "cell_type": "code",
   "execution_count": null,
   "metadata": {},
   "outputs": [],
   "source": [
    "allfiles = os.listdir(labels_path)\n",
    " \n",
    "# iterate on all files to move them to destination folder\n",
    "for f in allfiles:\n",
    "    src_path = os.path.join(labels_path, f)\n",
    "    dst_path = os.path.join(f\"{labels_ome_path}/0/\", f)\n",
    "    os.rename(src_path, dst_path)\n",
    "\n",
    "os.rmdir(labels_path)"
   ]
  },
  {
   "cell_type": "code",
   "execution_count": null,
   "metadata": {},
   "outputs": [],
   "source": []
  }
 ],
 "metadata": {
  "kernelspec": {
   "display_name": "docs_env",
   "language": "python",
   "name": "python3"
  },
  "language_info": {
   "codemirror_mode": {
    "name": "ipython",
    "version": 3
   },
   "file_extension": ".py",
   "mimetype": "text/x-python",
   "name": "python",
   "nbconvert_exporter": "python",
   "pygments_lexer": "ipython3",
   "version": "3.8.10"
  },
  "orig_nbformat": 4,
  "vscode": {
   "interpreter": {
    "hash": "5dc00d68ff54f8375e99934614da4863299fb9e10af4294c095b7f517546ff26"
   }
  }
 },
 "nbformat": 4,
 "nbformat_minor": 2
}
