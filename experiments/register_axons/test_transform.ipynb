{
 "cells": [
  {
   "cell_type": "code",
   "execution_count": 1,
   "metadata": {},
   "outputs": [],
   "source": [
    "from brainlit.map_neurons.map_neurons import (\n",
    "    DiffeomorphismAction,\n",
    "    transform_geometricgraph,\n",
    "    compute_derivs,\n",
    "    CloudReg_Transform,\n",
    ")\n",
    "from brainlit.algorithms.trace_analysis.fit_spline import (\n",
    "    GeometricGraph,\n",
    "    compute_parameterization,\n",
    "    CubicHermiteChain\n",
    ")\n",
    "from brainlit.utils.Neuron_trace import NeuronTrace\n",
    "\n",
    "from pathlib import Path\n",
    "import numpy as np\n",
    "import matplotlib.pyplot as plt\n",
    "from matplotlib.cm import ScalarMappable\n",
    "from mpl_toolkits.mplot3d import Axes3D\n",
    "import pandas as pd\n",
    "from scipy.interpolate import splev, splprep, CubicHermiteSpline\n",
    "from scipy.spatial.distance import cosine\n",
    "from scipy.stats import wilcoxon, pearsonr, linregress, norm\n",
    "from tqdm import tqdm\n",
    "from cloudvolume import CloudVolume\n",
    "from similaritymeasures import frechet_dist\n",
    "import seaborn as sns\n",
    "from statannotations.Annotator import Annotator\n",
    "from statannot import add_stat_annotation\n",
    "from cloudvolume.exceptions import SkeletonDecodeError\n",
    "import pickle\n",
    "from copy import deepcopy\n",
    "import networkx as nx\n",
    "import os"
   ]
  },
  {
   "cell_type": "code",
   "execution_count": 2,
   "metadata": {},
   "outputs": [],
   "source": [
    "root_dir = Path(os.path.abspath(\"\"))\n",
    "data_dir = os.path.join(root_dir, \"data\", \"mapping-files\")"
   ]
  },
  {
   "cell_type": "code",
   "execution_count": 3,
   "metadata": {},
   "outputs": [
    {
     "name": "stderr",
     "output_type": "stream",
     "text": [
      "integrating velocity field: 100%|██████████| 10/10 [00:23<00:00,  2.33s/it]\n"
     ]
    }
   ],
   "source": [
    "velocity_path = os.path.join(data_dir, \"downloop_1_v.mat\")\n",
    "affine_path = os.path.join(data_dir, \"downloop_1_A.mat\")\n",
    "\n",
    "ct = CloudReg_Transform(velocity_path, affine_path)"
   ]
  },
  {
   "cell_type": "code",
   "execution_count": 4,
   "metadata": {},
   "outputs": [],
   "source": [
    "axons_path = \"precomputed://file://\" + os.path.join(data_dir, \"axons\")\n",
    "vol = CloudVolume(axons_path)\n",
    "shp = np.array(vol.shape)\n",
    "res = np.array(vol.resolution) / 1000\n",
    "origin = (shp[:3] - 1) * res / 2\n",
    "\n",
    "skel = vol.skeleton.get(4)\n",
    "coords = skel.vertices / 1000 - origin\n",
    "coords = ct.apply_affine(coords)"
   ]
  },
  {
   "cell_type": "markdown",
   "metadata": {},
   "source": [
    "## original vertices"
   ]
  },
  {
   "cell_type": "code",
   "execution_count": 5,
   "metadata": {},
   "outputs": [
    {
     "name": "stdout",
     "output_type": "stream",
     "text": [
      "[[6680812.5 4213735.5 5570578. ]\n",
      " [6679242.  4213755.  5572043. ]\n",
      " [6660847.5 4216505.  5564594. ]\n",
      " ...\n",
      " [7051972.5 3908219.8 4851556.5]\n",
      " [7074937.5 4341430.5 5281373. ]\n",
      " [7068199.  4344958.  5270404.5]]\n"
     ]
    }
   ],
   "source": [
    "print(skel.vertices)"
   ]
  },
  {
   "cell_type": "markdown",
   "metadata": {},
   "source": [
    "## orient"
   ]
  },
  {
   "cell_type": "code",
   "execution_count": 6,
   "metadata": {},
   "outputs": [
    {
     "name": "stdout",
     "output_type": "stream",
     "text": [
      "[[1468.0125      229.73535156  482.578125  ]\n",
      " [1466.4421875   229.75488281  484.04296875]\n",
      " [1448.04765625  232.50488281  476.59423828]\n",
      " ...\n",
      " [1839.17265625  -75.78027344 -236.44335938]\n",
      " [1862.1375      357.43066406  193.37304688]\n",
      " [1855.39921875  360.95800781  182.40429688]]\n"
     ]
    }
   ],
   "source": [
    "coords = skel.vertices / 1000 - origin\n",
    "print(coords)"
   ]
  },
  {
   "cell_type": "markdown",
   "metadata": {},
   "source": [
    "## affine"
   ]
  },
  {
   "cell_type": "code",
   "execution_count": 7,
   "metadata": {},
   "outputs": [
    {
     "name": "stdout",
     "output_type": "stream",
     "text": [
      "[[ 524.30916956  737.44099749 1371.16397248]\n",
      " [ 525.84386745  737.47461986 1369.48174897]\n",
      " [ 518.37428854  739.81165879 1349.2803704 ]\n",
      " ...\n",
      " [-210.42621759  335.60447696 1773.2164223 ]\n",
      " [ 214.64419038  898.37724199 1790.00024407]\n",
      " [ 203.32006118  901.97601536 1782.37493956]]\n"
     ]
    }
   ],
   "source": [
    "coords = ct.apply_affine(coords)\n",
    "print(coords)"
   ]
  },
  {
   "cell_type": "markdown",
   "metadata": {},
   "source": [
    "## complete transform"
   ]
  },
  {
   "cell_type": "code",
   "execution_count": 8,
   "metadata": {},
   "outputs": [
    {
     "name": "stdout",
     "output_type": "stream",
     "text": [
      "[[ 528.58474024  736.84231508 1368.12984341]\n",
      " [ 530.12180605  736.87501546 1366.44977923]\n",
      " [ 522.66172355  739.19192612 1346.27765454]\n",
      " ...\n",
      " [-206.73472768  336.05556287 1770.35923739]\n",
      " [ 218.37173767  897.91184161 1786.17772276]\n",
      " [ 207.04544281  901.49831338 1778.55821141]]\n"
     ]
    }
   ],
   "source": [
    "coords = ct.evaluate(coords)\n",
    "print(coords)"
   ]
  },
  {
   "cell_type": "code",
   "execution_count": null,
   "metadata": {},
   "outputs": [],
   "source": []
  }
 ],
 "metadata": {
  "kernelspec": {
   "display_name": "Python 3.8.10 ('docs_env': venv)",
   "language": "python",
   "name": "python3"
  },
  "language_info": {
   "codemirror_mode": {
    "name": "ipython",
    "version": 3
   },
   "file_extension": ".py",
   "mimetype": "text/x-python",
   "name": "python",
   "nbconvert_exporter": "python",
   "pygments_lexer": "ipython3",
   "version": "3.8.10"
  },
  "orig_nbformat": 4,
  "vscode": {
   "interpreter": {
    "hash": "5dc00d68ff54f8375e99934614da4863299fb9e10af4294c095b7f517546ff26"
   }
  }
 },
 "nbformat": 4,
 "nbformat_minor": 2
}
