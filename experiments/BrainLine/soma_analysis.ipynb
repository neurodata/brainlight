{
 "cells": [
  {
   "attachments": {},
   "cell_type": "markdown",
   "metadata": {},
   "source": [
    "# Soma Detection Analysis of Whole-Brain Light-Sheet Images"
   ]
  },
  {
   "cell_type": "code",
   "execution_count": 1,
   "metadata": {},
   "outputs": [],
   "source": [
    "from brainlit.preprocessing import removeSmallCCs\n",
    "from brainlit.BrainLine.data.soma_data import brain2paths, brain2centers\n",
    "from brainlit.BrainLine.analyze_results import SomaDistribution\n",
    "from brainlit.BrainLine.util import (\n",
    "    json_to_points,\n",
    "    find_atlas_level_label,\n",
    "    fold,\n",
    "    setup_atlas_graph,\n",
    "    get_atlas_level_nodes,\n",
    "    download_subvolumes,\n",
    ")\n",
    "from brainlit.BrainLine.apply_ilastik import ApplyIlastik, ApplyIlastik_LargeImage, plot_results, examine_threshold\n",
    "from brainlit.BrainLine.parse_ara import *\n",
    "import xml.etree.ElementTree as ET\n",
    "from cloudreg.scripts.transform_points import NGLink\n",
    "from brainlit.BrainLine.imports import *\n",
    "\n",
    "%gui qt5"
   ]
  },
  {
   "attachments": {},
   "cell_type": "markdown",
   "metadata": {},
   "source": [
    "## 1. Before Using this notebook"
   ]
  },
  {
   "attachments": {},
   "cell_type": "markdown",
   "metadata": {},
   "source": [
    "### 1a. Install brainlit, and other packages that this notebook uses\n",
    "### 1b. Write images to s3 using CloudReg\n",
    "    - e.g. python -m cloudreg.scripts.create_precomputed_volumes --s3_input_paths /mnt/NAS/SmartSPIM_Data/2022_03_02/20220302_14_40_04_8529_destriped_DONE/Ex_561_Em_600_stitched --s3_output_paths  s3://smartspim-precomputed-volumes/2022_03_02/8529/Ch_561_v2  --voxel_size 1.83 1.83 2 --num_procs 24 --resample_iso False\n",
    "### 1c. Make point annotations in neuroglancer to identify subvolumes for validation (and possible training)\n",
    "    - instructions: https://neurodata.io/help/neuroglancer-pt-annotations/\n",
    "    ,\n",
    "    {\n",
    "    \"type\":\"pointAnnotation\",\n",
    "    \"name\": \"soma_val\",\n",
    "    \"points\": []\n",
    "    },\n",
    "    {\n",
    "    \"type\":\"pointAnnotation\",\n",
    "    \"name\": \"nonsoma_val\",\n",
    "    \"points\":[]\n",
    "    }\n",
    "### 1d. Update soma_data.py file"
   ]
  },
  {
   "attachments": {},
   "cell_type": "markdown",
   "metadata": {},
   "source": [
    "### \\* Inputs \\*"
   ]
  },
  {
   "cell_type": "code",
   "execution_count": null,
   "metadata": {},
   "outputs": [],
   "source": [
    "brainlit_path = Path(os.path.abspath(\"\"))\n",
    "brainlit_path = brainlit_path.parents[3]\n",
    "print(f\"Path to brainlit: {brainlit_path}\")\n",
    "\n",
    "for id in brain2paths.keys():\n",
    "    if \"base\" in brain2paths[id].keys() and \"val_info\" in brain2paths[id].keys():\n",
    "        base = brain2paths[id][\"base\"]\n",
    "        if \"http\" in base:\n",
    "            print(f\"Sample {id}: http in basepath, which may cause write errors\")\n",
    "\n",
    "        try:\n",
    "            url = brain2paths[id][\"val_info\"][\"url\"]\n",
    "            layer = brain2paths[id][\"val_info\"][\"somas_layer\"]\n",
    "            pts = json_to_points(url)[layer]\n",
    "            layer = brain2paths[id][\"val_info\"][\"nonsomas_layer\"]\n",
    "            pts = json_to_points(url)[layer]\n",
    "        except:\n",
    "            print(f\"Sample {id}: Error finding validation annotations with val_info\")\n",
    "\n",
    "        if \"train_info\" in brain2paths[id].keys():\n",
    "            try:\n",
    "                url = brain2paths[id][\"train_info\"][\"url\"]\n",
    "                layer = brain2paths[id][\"train_info\"][\"somas_layer\"]\n",
    "                pts = json_to_points(url)[layer]\n",
    "                layer = brain2paths[id][\"train_info\"][\"nonsomas_layer\"]\n",
    "                pts = json_to_points(url)[layer]\n",
    "            except:\n",
    "                print(\n",
    "                    f\"Sample {id}: Error finding training annotations with train_info\"\n",
    "                )\n",
    "    else:\n",
    "        print(f\"Sample {id}: Does not conform to desired format\")"
   ]
  },
  {
   "attachments": {},
   "cell_type": "markdown",
   "metadata": {},
   "source": [
    "## 2. Download benchmark data"
   ]
  },
  {
   "attachments": {},
   "cell_type": "markdown",
   "metadata": {},
   "source": [
    "### \\*Inputs\\*"
   ]
  },
  {
   "cell_type": "code",
   "execution_count": null,
   "metadata": {},
   "outputs": [],
   "source": [
    "brain = \"910\"  # brain ID\n",
    "soma_data_dir = \"/Users/thomasathey/Documents/mimlab/mouselight/ailey/detection_soma/\"  # path to directory where training/validation data should be stored\n",
    "dataset_to_save = \"train\"  # train or val\n",
    "\n",
    "antibody_layer = \"Ch_647\"\n",
    "background_layer = \"Ch_561\"\n",
    "endogenous_layer = \"Ch_488\""
   ]
  },
  {
   "attachments": {},
   "cell_type": "markdown",
   "metadata": {},
   "source": [
    "### Setup paths"
   ]
  },
  {
   "cell_type": "code",
   "execution_count": null,
   "metadata": {},
   "outputs": [],
   "source": [
    "cvol_base = brain2paths[brain][\"base\"]\n",
    "layer_names = [antibody_layer, background_layer, endogenous_layer]\n",
    "\n",
    "if brain not in brain2paths.keys():\n",
    "    raise ValueError(f\"brain {brain} not an entry in brain2paths in soma_data.py file\")\n",
    "\n",
    "if f\"{dataset_to_save}_info\" not in brain2paths[\n",
    "    brain\n",
    "].keys() or dataset_to_save not in [\"train\", \"val\"]:\n",
    "    raise ValueError(f\"{dataset_to_save}_info not in brain2paths[{brain}].keys()\")\n",
    "\n",
    "\n",
    "for layer in [antibody_layer, background_layer, endogenous_layer]:\n",
    "    try:\n",
    "        CloudVolume(cvol_base + layer)\n",
    "    except:\n",
    "        print(f\"Sample {id}: Layer {layer} not found in {cvol_base}\")"
   ]
  },
  {
   "attachments": {},
   "cell_type": "markdown",
   "metadata": {},
   "source": [
    "### Download data"
   ]
  },
  {
   "cell_type": "code",
   "execution_count": null,
   "metadata": {},
   "outputs": [],
   "source": [
    "download_subvolumes(\n",
    "    soma_data_dir,\n",
    "    brain_id=brain,\n",
    "    layer_names=layer_names,\n",
    "    dataset_to_save=dataset_to_save,\n",
    "    object_type=\"soma\",\n",
    ")"
   ]
  },
  {
   "attachments": {},
   "cell_type": "markdown",
   "metadata": {},
   "source": [
    "## 3. View downloaded data (optional)"
   ]
  },
  {
   "attachments": {},
   "cell_type": "markdown",
   "metadata": {},
   "source": [
    "### \\*Inputs\\*"
   ]
  },
  {
   "cell_type": "code",
   "execution_count": null,
   "metadata": {},
   "outputs": [],
   "source": [
    "fname = \"/Users/thomasathey/Documents/mimlab/mouselight/ailey/detection_soma/brainr2/val/891_4202_1717_pos.h5\"  # path to file for viewing\n",
    "scale = [1.8, 1.8, 2]  # voxel size in microns"
   ]
  },
  {
   "cell_type": "code",
   "execution_count": null,
   "metadata": {},
   "outputs": [],
   "source": [
    "with h5py.File(fname, \"r\") as f:\n",
    "    pred = f.get(\"image_3channel\")\n",
    "    image_fg = pred[0, :, :, :]\n",
    "    image_bg = pred[1, :, :, :]\n",
    "    image_endo = pred[2, :, :, :]\n",
    "\n",
    "viewer = napari.Viewer(ndisplay=3)\n",
    "viewer.add_image(image_fg, scale=scale)\n",
    "viewer.add_image(image_bg, scale=scale)\n",
    "viewer.add_image(image_endo, scale=scale)\n",
    "viewer.scale_bar.visible = True\n",
    "viewer.scale_bar.unit = \"um\""
   ]
  },
  {
   "attachments": {},
   "cell_type": "markdown",
   "metadata": {},
   "source": [
    "## 4. Apply ilastik to validation data"
   ]
  },
  {
   "attachments": {},
   "cell_type": "markdown",
   "metadata": {},
   "source": [
    "You can do this programmatically (below), or you can use the ilastik GUI (which is sometimes faster)"
   ]
  },
  {
   "attachments": {},
   "cell_type": "markdown",
   "metadata": {},
   "source": [
    "### \\* Inputs \\*"
   ]
  },
  {
   "cell_type": "code",
   "execution_count": null,
   "metadata": {},
   "outputs": [],
   "source": [
    "model = \"_rabies_pix_3ch\"\n",
    "project_path = f\"/Users/thomasathey/Documents/mimlab/mouselight/ailey/detection_soma/matt_soma{model}.ilp\"  # path to ilastik model to be used\n",
    "ilastik_path = (\n",
    "    \"/Applications/ilastik-1.4.0b21-OSX.app/Contents/ilastik-release/run_ilastik.sh\"\n",
    ")\n",
    "brains_path = \"/Users/thomasathey/Documents/mimlab/mouselight/ailey/detection_soma/\"\n",
    "brains = [brain]"
   ]
  },
  {
   "cell_type": "code",
   "execution_count": null,
   "metadata": {},
   "outputs": [],
   "source": [
    "applyilastik = ApplyIlastik(\n",
    "    ilastk_path=ilastik_path,\n",
    "    project_path=project_path,\n",
    "    brains_path=brains_path,\n",
    "    brains=brains,\n",
    ")\n",
    "applyilastik.process_subvols()\n",
    "#applyilastik.move_results()"
   ]
  },
  {
   "attachments": {},
   "cell_type": "markdown",
   "metadata": {},
   "source": [
    "### \\*Inputs (if relevant)\\*\n",
    "- identify files that have two somas in variable below. Since voxel coordinates are likely to be unique across samples, the file names below do not include sample IDs."
   ]
  },
  {
   "cell_type": "code",
   "execution_count": null,
   "metadata": {},
   "outputs": [],
   "source": [
    "doubles = [\n",
    "    \"3972_1636_1575_pos_Probabilities.h5\",\n",
    "    \"2867_4336_1296_pos_Probabilities.h5\",\n",
    "    \"2607_1845_1309_pos_Probabilities.h5\",\n",
    "    \"2101_3397_1747_pos_Probabilities.h5\",\n",
    "    \"2011_3452_1911_pos_Probabilities.h5\",\n",
    "    \"2113_3353_1727_pos_Probabilities.h5\",\n",
    "    \"1968_3472_1784_pos_Probabilities.h5\",\n",
    "]  # 8446"
   ]
  },
  {
   "attachments": {},
   "cell_type": "markdown",
   "metadata": {},
   "source": [
    "## 5. Check Results"
   ]
  },
  {
   "cell_type": "code",
   "execution_count": null,
   "metadata": {},
   "outputs": [],
   "source": [
    "plot_results(\n",
    "    data_dir=soma_data_dir,\n",
    "    brain_ids=[brain],\n",
    "    object_type=\"soma\",\n",
    "    positive_channel=0,\n",
    "    doubles=doubles,\n",
    ")"
   ]
  },
  {
   "cell_type": "code",
   "execution_count": null,
   "metadata": {},
   "outputs": [],
   "source": [
    "examine_threshold(\n",
    "    data_dir=soma_data_dir,\n",
    "    brain_id=brain,\n",
    "    threshold=0.64,\n",
    "    object_type=\"soma\",\n",
    "    positive_channel=0,\n",
    "    doubles=doubles,\n",
    ")"
   ]
  },
  {
   "attachments": {},
   "cell_type": "markdown",
   "metadata": {},
   "source": [
    "### Paper figure for all validation"
   ]
  },
  {
   "cell_type": "code",
   "execution_count": null,
   "metadata": {},
   "outputs": [],
   "source": [
    "brain_ids = [\n",
    "    \"8607\",\n",
    "    \"8606\",\n",
    "    \"8477\",\n",
    "    \"8531\",\n",
    "    \"8608\",\n",
    "    \"8529\",\n",
    "    \"r1\",\n",
    "    \"r2\",\n",
    "    \"8446\",\n",
    "    \"8454\",\n",
    "    \"887\",\n",
    "    \"MPRRabies\",\n",
    "    \"969\",\n",
    "    \"910\"\n",
    "]\n",
    "\n",
    "plot_results(\n",
    "    data_dir=soma_data_dir,\n",
    "    brain_ids=brain_ids,\n",
    "    object_type=\"soma\",\n",
    "    positive_channel=0,\n",
    "    doubles=doubles,\n",
    ")"
   ]
  },
  {
   "attachments": {},
   "cell_type": "markdown",
   "metadata": {},
   "source": [
    "## 6. Make Annotation layers"
   ]
  },
  {
   "attachments": {},
   "cell_type": "markdown",
   "metadata": {},
   "source": [
    "### Transformed layers"
   ]
  },
  {
   "cell_type": "code",
   "execution_count": null,
   "metadata": {},
   "outputs": [],
   "source": [
    "atlas_vol = CloudVolume(\n",
    "    \"precomputed://https://open-neurodata.s3.amazonaws.com/ara_2016/sagittal_10um/annotation_10um_2017\"\n",
    ")\n",
    "for layer in [\n",
    "    antibody_layer,\n",
    "    background_layer,\n",
    "]:  # axon_mask is transformed into an image because nearest interpolation doesnt work well after downsampling\n",
    "    layer_path = brain2paths[brain][\"base\"] + layer + \"_transformed\"\n",
    "    info = CloudVolume.create_new_info(\n",
    "        num_channels=1,\n",
    "        layer_type=\"image\",\n",
    "        data_type=\"uint16\",  # Channel images might be 'uint8'\n",
    "        encoding=\"raw\",  # raw, jpeg, compressed_segmentation, fpzip, kempressed\n",
    "        resolution=atlas_vol.resolution,  # Voxel scaling, units are in nanometers\n",
    "        voxel_offset=atlas_vol.voxel_offset,\n",
    "        chunk_size=[32, 32, 32],  # units are voxels\n",
    "        volume_size=atlas_vol.volume_size,  # e.g. a cubic millimeter dataset\n",
    "    )\n",
    "    vol_mask = CloudVolume(layer_path, info=info)\n",
    "    vol_mask.commit_info()"
   ]
  },
  {
   "attachments": {},
   "cell_type": "markdown",
   "metadata": {},
   "source": [
    "## 7. Apply ilastik to whole image"
   ]
  },
  {
   "attachments": {},
   "cell_type": "markdown",
   "metadata": {},
   "source": [
    "### \\* Inputs \\*\n",
    "You can use the notebook code below or the script using `soma_detect_image.py`"
   ]
  },
  {
   "cell_type": "code",
   "execution_count": null,
   "metadata": {},
   "outputs": [],
   "source": [
    "brain = \"test\"\n",
    "antibody_layer = \"antibody\"\n",
    "background_layer = \"background\"\n",
    "endogenous_layer = \"endogenous\"\n",
    "\n",
    "threshold = 0.28  # threshold to use for ilastik\n",
    "data_dir = \"/Users/thomasathey/Documents/mimlab/mouselight/brainlit_parent/brainr_temp/\"  # \"/data/tathey1/matt_wright/brainr_temp/\"  # directory to store temporary subvolumes for segmentation\n",
    "results_dir = \"/Users/thomasathey/Documents/mimlab/mouselight/brainlit_parent/brainr_results/\"  # directory to store coordinates of soma detections\n",
    "\n",
    "# Ilastik will run in \"headless mode\", and the following paths are needed to do so:\n",
    "ilastik_path = \"/Applications/ilastik-1.4.0b21-OSX.app/Contents/ilastik-release/run_ilastik.sh\"  # \"/data/tathey1/matt_wright/ilastik/ilastik-1.4.0rc5-Linux/run_ilastik.sh\"  # path to ilastik executable\n",
    "ilastik_project = \"/Users/thomasathey/Documents/mimlab/mouselight/ailey/detection_soma/matt_soma_rabies_pix_3ch.ilp\"  # \"/data/tathey1/matt_wright/ilastik/soma_model/matt_soma_rabies_pix_3ch.ilp\"  # path to ilastik project\n",
    "\n",
    "max_coords = [3072, 4352, 1792]  # -1 if you want to process the whole dimension\n",
    "ncpu = 1  # 16  # number of cores to use for detection\n",
    "chunk_size = [256, 256, 256]  # [256, 256, 300]"
   ]
  },
  {
   "cell_type": "code",
   "execution_count": null,
   "metadata": {},
   "outputs": [],
   "source": [
    "layer_names = [antibody_layer, background_layer, endogenous_layer]\n",
    "\n",
    "ilastik_largeimage = ApplyIlastik_LargeImage(\n",
    "    ilastik_path=ilastik_path,\n",
    "    ilastik_project=ilastik_project,\n",
    "    results_dir=results_dir,\n",
    "    ncpu=1,\n",
    ")\n",
    "ilastik_largeimage.apply_ilastik_parallel(\n",
    "    brain_id=brain,\n",
    "    layer_names=layer_names,\n",
    "    threshold=threshold,\n",
    "    data_dir=data_dir,\n",
    "    chunk_size=chunk_size,\n",
    "    max_coords=max_coords,\n",
    ")\n",
    "ilastik_largeimage.collect_results(brain_id=\"test\")"
   ]
  },
  {
   "attachments": {},
   "cell_type": "markdown",
   "metadata": {},
   "source": [
    "## 8. Register volume and transform data to atlas space using CloudReg"
   ]
  },
  {
   "attachments": {},
   "cell_type": "markdown",
   "metadata": {},
   "source": [
    "### 8a. You need to find an initial affine alignment using cloudreg.scripts.registration.get_affine_matrix. For example: "
   ]
  },
  {
   "attachments": {},
   "cell_type": "markdown",
   "metadata": {},
   "source": [
    "A link to the ARA parcellation is:\n",
    "\n",
    "`precomputed://https://open-neurodata.s3.amazonaws.com/ara_2016/sagittal_10um/annotation_10um_2017`\n",
    "\n",
    "And some python commands to help with affine alignment is:\n",
    "\n",
    "```\n",
    "from cloudreg.scripts.registration import get_affine_matrix\n",
    "get_affine_matrix([1,1,1], [0,0,0], \"PIR\", \"RPI\", 1.15, \"precomputed://https://open-neurodata.s3.amazonaws.com/ara_2016/sagittal_10um/annotation_10um_2017\")\n",
    "```"
   ]
  },
  {
   "attachments": {},
   "cell_type": "markdown",
   "metadata": {},
   "source": [
    "### 8b. Run registration using cloudreg.scripts.registration. For example:"
   ]
  },
  {
   "attachments": {},
   "cell_type": "markdown",
   "metadata": {},
   "source": [
    "```\n",
    "python -m cloudreg.scripts.registration -input_s3_path precomputed://s3://smartspim-precomputed-volumes/2023_03_16/910/Ch_561 --output_s3_path precomputed://s3://smartspim-precomputed-volumes/2023_03_16/910/atlas_to_target --atlas_s3_path https://open-neurodata.s3.amazonaws.com/ara_2016/sagittal_50um/average_50um --parcellation_s3_path https://open-neurodata.s3.amazonaws.com/ara_2016/sagittal_10um/annotation_10um_2017 --atlas_orientation PIR -orientation RPI --rotation 0 3 -3 --translation 0 0 0 --fixed_scale 1.05 -log_s3_path precomputed://s3://smartspim-precomputed-volumes/2023_03_16/910/atlas_to_target --missing_data_correction True --grid_correction False --bias_correction True --regularization 5000.0 --iterations 3000 --registration_resolution 100\n",
    "```"
   ]
  },
  {
   "attachments": {},
   "cell_type": "markdown",
   "metadata": {},
   "source": [
    "### 8c. Transform data to atlas space using CloudReg"
   ]
  },
  {
   "attachments": {},
   "cell_type": "markdown",
   "metadata": {},
   "source": [
    "### Soma coordinates\n",
    "\n",
    "```\n",
    "python -m cloudreg.scripts.transform_points --target_viz_link \"https://viz.neurodata.io/?json_url=https://json.neurodata.io/v1?NGStateID=B_Sh9l9n7j6Pgg\" --atlas_viz_link \"https://ara.viz.neurodata.io/?json_url=https://json.neurodata.io/v1?NGStateID=HvyNDGaPsd1wyg\" --affine_path /mnt/NAS/Neuroglancer\\ Data/969_Ch_561_registration/downloop_1_A.mat  --velocity_path /mnt/NAS/Neuroglancer\\ Data/969_Ch_561_registration/downloop_1_v.mat --transformation_direction \"atlas\"\n",
    "```\n",
    "\n",
    "or\n",
    "\n",
    "```\n",
    "python -m cloudreg.scripts.transform_points --target_viz_link https://viz.neurodata.io/?json_url=https://json.neurodata.io/v1?NGStateID=05Fhxt5VBT-_1A --atlas_viz_link https://ara.viz.neurodata.io/?json_url=https://json.neurodata.io/v1?NGStateID=HvyNDGaPsd1wyg --affine_path /cis/home/tathey/MPRRabies_Ch_561_registration/downloop_1_A.mat   --velocity_path /cis/home/tathey/MPRRabies_Ch_561_registration/downloop_1_v.mat  --transformation_direction atlas\n",
    "```\n",
    "\n",
    "This will produce a neuroglancer link with the transformed soma coordinates, which should be added to `soma_data.py` under the `somas_atlas_url` key. Then the code below, or `soma_brainrender.py`, can be used to visualize the data."
   ]
  },
  {
   "attachments": {},
   "cell_type": "markdown",
   "metadata": {},
   "source": [
    "### Image\n",
    "\n",
    "```\n",
    "python -m cloudreg.scripts.transform_data --target_layer_source precomputed://s3://smartspim-precomputed-volumes/2022_09_20/887/Ch_647 --transformed_layer_source precomputed://s3://smartspim-precomputed-volumes/2022_09_20/887/Ch_647_transformed --affine_path /cis/home/tathey/887_Ch_561_registration/downloop_1_A.mat  --velocity_path /cis/home/tathey/887_Ch_561_registration/downloop_1_v.mat\n",
    "```"
   ]
  },
  {
   "attachments": {},
   "cell_type": "markdown",
   "metadata": {},
   "source": [
    "## 9. View results in brain space"
   ]
  },
  {
   "attachments": {},
   "cell_type": "markdown",
   "metadata": {},
   "source": [
    "### \\*Inputs\\*"
   ]
  },
  {
   "cell_type": "code",
   "execution_count": 2,
   "metadata": {},
   "outputs": [],
   "source": [
    "brain_ids = [\n",
    "    \"8557\",\n",
    "    \"8555\",\n",
    "    \"8607\",\n",
    "    \"8606\",\n",
    "    #\"8477\",\n",
    "    #\"8531\",\n",
    "    \"8608\",\n",
    "    #\"8529\",\n",
    "    #\"8454\",\n",
    "    \"MPRRabies\",\n",
    "    \"969\"\n",
    "]\n",
    "colors = {\n",
    "    \"tph2 vglut3\": \"blue\",\n",
    "    \"tph2 gad2\": \"red\",\n",
    "    # \"gad2 vgat\": \"green\",\n",
    "}  # colors for different genotypes\n",
    "symbols = [\"o\", \"+\", \"^\", \"vbar\", \"diamond\"]\n",
    "fold_on = False"
   ]
  },
  {
   "cell_type": "code",
   "execution_count": 3,
   "metadata": {},
   "outputs": [
    {
     "name": "stdout",
     "output_type": "stream",
     "text": [
      "Brain 8557: Collecting atlas space soma points from layer: transformed_points\n",
      "Brain 8555: Collecting atlas space soma points from layer: transformed_points\n",
      "Brain 8608: Collecting atlas space soma points from layer: transformed_points\n",
      "Brain MPRRabies: Collecting atlas space soma points from layer: transformed_points\n",
      "Brain 969: Collecting atlas space soma points from layer: transformed_points_0\n",
      "Brain 969: Collecting atlas space soma points from layer: transformed_points_1\n",
      "Brain 969: Collecting atlas space soma points from layer: transformed_points_2\n",
      "Brain 969: Collecting atlas space soma points from layer: transformed_points_3\n",
      "Brain 969: Collecting atlas space soma points from layer: transformed_points_4\n"
     ]
    },
    {
     "name": "stderr",
     "output_type": "stream",
     "text": [
      "Finding soma regions of brains: 100%|██████████| 7/7 [00:01<00:00,  4.80it/s]\n"
     ]
    }
   ],
   "source": [
    "sd = SomaDistribution(brain_ids=brain_ids)"
   ]
  },
  {
   "cell_type": "code",
   "execution_count": 4,
   "metadata": {},
   "outputs": [
    {
     "name": "stderr",
     "output_type": "stream",
     "text": [
      "Relabeling slice: 100%|██████████| 163/163 [00:00<00:00, 278.34it/s]\n",
      "Processing labels: 100%|██████████| 304/304 [00:04<00:00, 70.79it/s]\n",
      "Processing brains in z=800: 100%|██████████| 7/7 [00:00<00:00, 14.73it/s]\n"
     ]
    },
    {
     "data": {
      "text/html": [
       "<pre style=\"white-space:pre;overflow-x:auto;line-height:normal;font-family:Menlo,'DejaVu Sans Mono',consolas,'Courier New',monospace\"><span style=\"color: #800080; text-decoration-color: #800080; font-weight: bold\">Viewer</span><span style=\"font-weight: bold\">(</span><span style=\"color: #808000; text-decoration-color: #808000\">axes</span>=<span style=\"color: #800080; text-decoration-color: #800080; font-weight: bold\">Axes</span><span style=\"font-weight: bold\">(</span><span style=\"color: #808000; text-decoration-color: #808000\">visible</span>=<span style=\"color: #ff0000; text-decoration-color: #ff0000; font-style: italic\">False</span>, <span style=\"color: #808000; text-decoration-color: #808000\">labels</span>=<span style=\"color: #00ff00; text-decoration-color: #00ff00; font-style: italic\">True</span>, <span style=\"color: #808000; text-decoration-color: #808000\">colored</span>=<span style=\"color: #00ff00; text-decoration-color: #00ff00; font-style: italic\">True</span>, <span style=\"color: #808000; text-decoration-color: #808000\">dashed</span>=<span style=\"color: #ff0000; text-decoration-color: #ff0000; font-style: italic\">False</span>, <span style=\"color: #808000; text-decoration-color: #808000\">arrows</span>=<span style=\"color: #00ff00; text-decoration-color: #00ff00; font-style: italic\">True</span><span style=\"font-weight: bold\">)</span>, <span style=\"color: #808000; text-decoration-color: #808000\">camera</span>=<span style=\"color: #800080; text-decoration-color: #800080; font-weight: bold\">Camera</span><span style=\"font-weight: bold\">(</span><span style=\"color: #808000; text-decoration-color: #808000\">center</span>=<span style=\"font-weight: bold\">(</span><span style=\"color: #008080; text-decoration-color: #008080; font-weight: bold\">0.0</span>, <span style=\"color: #008080; text-decoration-color: #008080; font-weight: bold\">3995.0</span>, <span style=\"color: #008080; text-decoration-color: #008080; font-weight: bold\">5695.0</span><span style=\"font-weight: bold\">)</span>, <span style=\"color: #808000; text-decoration-color: #808000\">zoom</span>=<span style=\"color: #008080; text-decoration-color: #008080; font-weight: bold\">0.10164999999999999</span>, <span style=\"color: #808000; text-decoration-color: #808000\">angles</span>=<span style=\"font-weight: bold\">(</span><span style=\"color: #008080; text-decoration-color: #008080; font-weight: bold\">0.0</span>, <span style=\"color: #008080; text-decoration-color: #008080; font-weight: bold\">0.0</span>, <span style=\"color: #008080; text-decoration-color: #008080; font-weight: bold\">90.0</span><span style=\"font-weight: bold\">)</span>, <span style=\"color: #808000; text-decoration-color: #808000\">perspective</span>=<span style=\"color: #008080; text-decoration-color: #008080; font-weight: bold\">0</span>, <span style=\"color: #808000; text-decoration-color: #808000\">interactive</span>=<span style=\"color: #00ff00; text-decoration-color: #00ff00; font-style: italic\">True</span><span style=\"font-weight: bold\">)</span>, <span style=\"color: #808000; text-decoration-color: #808000\">cursor</span>=<span style=\"color: #800080; text-decoration-color: #800080; font-weight: bold\">Cursor</span><span style=\"font-weight: bold\">(</span><span style=\"color: #808000; text-decoration-color: #808000\">position</span>=<span style=\"font-weight: bold\">(</span><span style=\"color: #008080; text-decoration-color: #008080; font-weight: bold\">1</span>, <span style=\"color: #008080; text-decoration-color: #008080; font-weight: bold\">1</span><span style=\"font-weight: bold\">)</span>, <span style=\"color: #808000; text-decoration-color: #808000\">scaled</span>=<span style=\"color: #00ff00; text-decoration-color: #00ff00; font-style: italic\">True</span>, <span style=\"color: #808000; text-decoration-color: #808000\">size</span>=<span style=\"color: #008080; text-decoration-color: #008080; font-weight: bold\">1</span>, <span style=\"color: #808000; text-decoration-color: #808000\">style</span>=<span style=\"font-weight: bold\">&lt;</span><span style=\"color: #ff00ff; text-decoration-color: #ff00ff; font-weight: bold\">CursorStyle.STANDARD:</span><span style=\"color: #000000; text-decoration-color: #000000\"> </span><span style=\"color: #008000; text-decoration-color: #008000\">'standard'</span><span style=\"font-weight: bold\">&gt;)</span>, <span style=\"color: #808000; text-decoration-color: #808000\">dims</span>=<span style=\"color: #800080; text-decoration-color: #800080; font-weight: bold\">Dims</span><span style=\"font-weight: bold\">(</span><span style=\"color: #808000; text-decoration-color: #808000\">ndim</span>=<span style=\"color: #008080; text-decoration-color: #008080; font-weight: bold\">2</span>, <span style=\"color: #808000; text-decoration-color: #808000\">ndisplay</span>=<span style=\"color: #008080; text-decoration-color: #008080; font-weight: bold\">2</span>, <span style=\"color: #808000; text-decoration-color: #808000\">last_used</span>=<span style=\"color: #008080; text-decoration-color: #008080; font-weight: bold\">0</span>, <span style=\"color: #808000; text-decoration-color: #808000\">range</span>=<span style=\"font-weight: bold\">((</span><span style=\"color: #008080; text-decoration-color: #008080; font-weight: bold\">0.0</span>, <span style=\"color: #008080; text-decoration-color: #008080; font-weight: bold\">8000.0</span>, <span style=\"color: #008080; text-decoration-color: #008080; font-weight: bold\">10.0</span><span style=\"font-weight: bold\">)</span>, <span style=\"font-weight: bold\">(</span><span style=\"color: #008080; text-decoration-color: #008080; font-weight: bold\">0.0</span>, <span style=\"color: #008080; text-decoration-color: #008080; font-weight: bold\">11400.0</span>, <span style=\"color: #008080; text-decoration-color: #008080; font-weight: bold\">10.0</span><span style=\"font-weight: bold\">))</span>, <span style=\"color: #808000; text-decoration-color: #808000\">current_step</span>=<span style=\"font-weight: bold\">(</span><span style=\"color: #008080; text-decoration-color: #008080; font-weight: bold\">400</span>, <span style=\"color: #008080; text-decoration-color: #008080; font-weight: bold\">570</span><span style=\"font-weight: bold\">)</span>, <span style=\"color: #808000; text-decoration-color: #808000\">order</span>=<span style=\"font-weight: bold\">(</span><span style=\"color: #008080; text-decoration-color: #008080; font-weight: bold\">0</span>, <span style=\"color: #008080; text-decoration-color: #008080; font-weight: bold\">1</span><span style=\"font-weight: bold\">)</span>, <span style=\"color: #808000; text-decoration-color: #808000\">axis_labels</span>=<span style=\"font-weight: bold\">(</span><span style=\"color: #008000; text-decoration-color: #008000\">'0'</span>, <span style=\"color: #008000; text-decoration-color: #008000\">'1'</span><span style=\"font-weight: bold\">))</span>, <span style=\"color: #808000; text-decoration-color: #808000\">grid</span>=<span style=\"color: #800080; text-decoration-color: #800080; font-weight: bold\">GridCanvas</span><span style=\"font-weight: bold\">(</span><span style=\"color: #808000; text-decoration-color: #808000\">stride</span>=<span style=\"color: #008080; text-decoration-color: #008080; font-weight: bold\">1</span>, <span style=\"color: #808000; text-decoration-color: #808000\">shape</span>=<span style=\"font-weight: bold\">(</span><span style=\"color: #008080; text-decoration-color: #008080; font-weight: bold\">-1</span>, <span style=\"color: #008080; text-decoration-color: #008080; font-weight: bold\">-1</span><span style=\"font-weight: bold\">)</span>, <span style=\"color: #808000; text-decoration-color: #808000\">enabled</span>=<span style=\"color: #ff0000; text-decoration-color: #ff0000; font-style: italic\">False</span><span style=\"font-weight: bold\">)</span>, <span style=\"color: #808000; text-decoration-color: #808000\">layers</span>=<span style=\"font-weight: bold\">[&lt;</span><span style=\"color: #ff00ff; text-decoration-color: #ff00ff; font-weight: bold\">Labels</span><span style=\"color: #000000; text-decoration-color: #000000\"> layer </span><span style=\"color: #008000; text-decoration-color: #008000\">'newslice'</span><span style=\"color: #000000; text-decoration-color: #000000\"> at </span><span style=\"color: #008080; text-decoration-color: #008080; font-weight: bold\">0x174f87c10</span><span style=\"font-weight: bold\">&gt;</span>, <span style=\"font-weight: bold\">&lt;</span><span style=\"color: #ff00ff; text-decoration-color: #ff00ff; font-weight: bold\">Image</span><span style=\"color: #000000; text-decoration-color: #000000\"> layer </span><span style=\"color: #008000; text-decoration-color: #008000\">'z=800'</span><span style=\"color: #000000; text-decoration-color: #000000\"> at </span><span style=\"color: #008080; text-decoration-color: #008080; font-weight: bold\">0x1747845e0</span><span style=\"font-weight: bold\">&gt;</span>, <span style=\"font-weight: bold\">&lt;</span><span style=\"color: #ff00ff; text-decoration-color: #ff00ff; font-weight: bold\">Points</span><span style=\"color: #000000; text-decoration-color: #000000\"> layer </span><span style=\"color: #008000; text-decoration-color: #008000\">'8557: tph2 vglut3 - o'</span><span style=\"color: #000000; text-decoration-color: #000000\"> at </span><span style=\"color: #008080; text-decoration-color: #008080; font-weight: bold\">0x1750a0940</span><span style=\"font-weight: bold\">&gt;</span>, <span style=\"font-weight: bold\">&lt;</span><span style=\"color: #ff00ff; text-decoration-color: #ff00ff; font-weight: bold\">Points</span><span style=\"color: #000000; text-decoration-color: #000000\"> layer </span><span style=\"color: #008000; text-decoration-color: #008000\">'8555: tph2 vglut3 - +'</span><span style=\"color: #000000; text-decoration-color: #000000\"> at </span><span style=\"color: #008080; text-decoration-color: #008080; font-weight: bold\">0x1775d5190</span><span style=\"font-weight: bold\">&gt;</span>, <span style=\"font-weight: bold\">&lt;</span><span style=\"color: #ff00ff; text-decoration-color: #ff00ff; font-weight: bold\">Points</span><span style=\"color: #000000; text-decoration-color: #000000\"> layer </span><span style=\"color: #008000; text-decoration-color: #008000\">'8607: tph2 gad2 - o'</span><span style=\"color: #000000; text-decoration-color: #000000\"> at </span><span style=\"color: #008080; text-decoration-color: #008080; font-weight: bold\">0x1776d9070</span><span style=\"font-weight: bold\">&gt;</span>, <span style=\"font-weight: bold\">&lt;</span><span style=\"color: #ff00ff; text-decoration-color: #ff00ff; font-weight: bold\">Points</span><span style=\"color: #000000; text-decoration-color: #000000\"> layer </span><span style=\"color: #008000; text-decoration-color: #008000\">'8606: tph2 gad2 - +'</span><span style=\"color: #000000; text-decoration-color: #000000\"> at </span><span style=\"color: #008080; text-decoration-color: #008080; font-weight: bold\">0x17788cb80</span><span style=\"font-weight: bold\">&gt;</span>, <span style=\"font-weight: bold\">&lt;</span><span style=\"color: #ff00ff; text-decoration-color: #ff00ff; font-weight: bold\">Points</span><span style=\"color: #000000; text-decoration-color: #000000\"> layer </span><span style=\"color: #008000; text-decoration-color: #008000\">'8608: tph2 gad2 - ^'</span><span style=\"color: #000000; text-decoration-color: #000000\"> at </span><span style=\"color: #008080; text-decoration-color: #008080; font-weight: bold\">0x1779626d0</span><span style=\"font-weight: bold\">&gt;</span>, <span style=\"font-weight: bold\">&lt;</span><span style=\"color: #ff00ff; text-decoration-color: #ff00ff; font-weight: bold\">Points</span><span style=\"color: #000000; text-decoration-color: #000000\"> layer </span><span style=\"color: #008000; text-decoration-color: #008000\">'MPRRabies: tph2 gad2 - vbar'</span><span style=\"color: #000000; text-decoration-color: #000000\"> at </span><span style=\"color: #008080; text-decoration-color: #008080; font-weight: bold\">0x177a31130</span><span style=\"font-weight: bold\">&gt;</span>, <span style=\"font-weight: bold\">&lt;</span><span style=\"color: #ff00ff; text-decoration-color: #ff00ff; font-weight: bold\">Points</span><span style=\"color: #000000; text-decoration-color: #000000\"> layer </span><span style=\"color: #008000; text-decoration-color: #008000\">'969: tph2 gad2 - diamond'</span><span style=\"color: #000000; text-decoration-color: #000000\"> at </span><span style=\"color: #008080; text-decoration-color: #008080; font-weight: bold\">0x177abf4c0</span><span style=\"font-weight: bold\">&gt;]</span>, <span style=\"color: #808000; text-decoration-color: #808000\">scale_bar</span>=<span style=\"color: #800080; text-decoration-color: #800080; font-weight: bold\">ScaleBar</span><span style=\"font-weight: bold\">(</span><span style=\"color: #808000; text-decoration-color: #808000\">visible</span>=<span style=\"color: #00ff00; text-decoration-color: #00ff00; font-style: italic\">True</span>, <span style=\"color: #808000; text-decoration-color: #808000\">colored</span>=<span style=\"color: #ff0000; text-decoration-color: #ff0000; font-style: italic\">False</span>, <span style=\"color: #808000; text-decoration-color: #808000\">ticks</span>=<span style=\"color: #00ff00; text-decoration-color: #00ff00; font-style: italic\">True</span>, <span style=\"color: #808000; text-decoration-color: #808000\">position</span>=<span style=\"font-weight: bold\">&lt;</span><span style=\"color: #ff00ff; text-decoration-color: #ff00ff; font-weight: bold\">Position.BOTTOM_RIGHT:</span><span style=\"color: #000000; text-decoration-color: #000000\"> </span><span style=\"color: #008000; text-decoration-color: #008000\">'bottom_right'</span><span style=\"font-weight: bold\">&gt;</span>, <span style=\"color: #808000; text-decoration-color: #808000\">font_size</span>=<span style=\"color: #008080; text-decoration-color: #008080; font-weight: bold\">10</span>, <span style=\"color: #808000; text-decoration-color: #808000\">unit</span>=<span style=\"color: #008000; text-decoration-color: #008000\">'um'</span><span style=\"font-weight: bold\">)</span>, <span style=\"color: #808000; text-decoration-color: #808000\">text_overlay</span>=<span style=\"color: #800080; text-decoration-color: #800080; font-weight: bold\">TextOverlay</span><span style=\"font-weight: bold\">(</span><span style=\"color: #808000; text-decoration-color: #808000\">visible</span>=<span style=\"color: #ff0000; text-decoration-color: #ff0000; font-style: italic\">False</span>, <span style=\"color: #808000; text-decoration-color: #808000\">color</span>=<span style=\"font-weight: bold\">(</span><span style=\"color: #008080; text-decoration-color: #008080; font-weight: bold\">0.5</span>, <span style=\"color: #008080; text-decoration-color: #008080; font-weight: bold\">0.5</span>, <span style=\"color: #008080; text-decoration-color: #008080; font-weight: bold\">0.5</span>, <span style=\"color: #008080; text-decoration-color: #008080; font-weight: bold\">1.0</span><span style=\"font-weight: bold\">)</span>, <span style=\"color: #808000; text-decoration-color: #808000\">font_size</span>=<span style=\"color: #008080; text-decoration-color: #008080; font-weight: bold\">10</span>, <span style=\"color: #808000; text-decoration-color: #808000\">position</span>=<span style=\"font-weight: bold\">&lt;</span><span style=\"color: #ff00ff; text-decoration-color: #ff00ff; font-weight: bold\">TextOverlayPosition.TOP_LEFT:</span><span style=\"color: #000000; text-decoration-color: #000000\"> </span><span style=\"color: #008000; text-decoration-color: #008000\">'top_left'</span><span style=\"font-weight: bold\">&gt;</span>, <span style=\"color: #808000; text-decoration-color: #808000\">text</span>=<span style=\"color: #008000; text-decoration-color: #008000\">''</span><span style=\"font-weight: bold\">)</span>, <span style=\"color: #808000; text-decoration-color: #808000\">overlays</span>=<span style=\"color: #800080; text-decoration-color: #800080; font-weight: bold\">Overlays</span><span style=\"font-weight: bold\">(</span><span style=\"color: #808000; text-decoration-color: #808000\">interaction_box</span>=<span style=\"color: #800080; text-decoration-color: #800080; font-weight: bold\">InteractionBox</span><span style=\"font-weight: bold\">(</span><span style=\"color: #808000; text-decoration-color: #808000\">points</span>=<span style=\"color: #800080; text-decoration-color: #800080; font-style: italic\">None</span>, <span style=\"color: #808000; text-decoration-color: #808000\">show</span>=<span style=\"color: #ff0000; text-decoration-color: #ff0000; font-style: italic\">False</span>, <span style=\"color: #808000; text-decoration-color: #808000\">show_handle</span>=<span style=\"color: #ff0000; text-decoration-color: #ff0000; font-style: italic\">False</span>, <span style=\"color: #808000; text-decoration-color: #808000\">show_vertices</span>=<span style=\"color: #ff0000; text-decoration-color: #ff0000; font-style: italic\">False</span>, <span style=\"color: #808000; text-decoration-color: #808000\">selection_box_drag</span>=<span style=\"color: #800080; text-decoration-color: #800080; font-style: italic\">None</span>, <span style=\"color: #808000; text-decoration-color: #808000\">selection_box_final</span>=<span style=\"color: #800080; text-decoration-color: #800080; font-style: italic\">None</span>, <span style=\"color: #808000; text-decoration-color: #808000\">transform_start</span>=<span style=\"font-weight: bold\">&lt;</span><span style=\"color: #ff00ff; text-decoration-color: #ff00ff; font-weight: bold\">napari.utils.transforms.transforms.Affine</span><span style=\"color: #000000; text-decoration-color: #000000\"> object at </span><span style=\"color: #008080; text-decoration-color: #008080; font-weight: bold\">0x16164f2b0</span><span style=\"font-weight: bold\">&gt;</span>, <span style=\"color: #808000; text-decoration-color: #808000\">transform_drag</span>=<span style=\"font-weight: bold\">&lt;</span><span style=\"color: #ff00ff; text-decoration-color: #ff00ff; font-weight: bold\">napari.utils.transforms.transforms.Affine</span><span style=\"color: #000000; text-decoration-color: #000000\"> object at </span><span style=\"color: #008080; text-decoration-color: #008080; font-weight: bold\">0x16164f310</span><span style=\"font-weight: bold\">&gt;</span>, <span style=\"color: #808000; text-decoration-color: #808000\">transform_final</span>=<span style=\"font-weight: bold\">&lt;</span><span style=\"color: #ff00ff; text-decoration-color: #ff00ff; font-weight: bold\">napari.utils.transforms.transforms.Affine</span><span style=\"color: #000000; text-decoration-color: #000000\"> object at </span><span style=\"color: #008080; text-decoration-color: #008080; font-weight: bold\">0x16164f370</span><span style=\"font-weight: bold\">&gt;</span>, <span style=\"color: #808000; text-decoration-color: #808000\">transform</span>=<span style=\"font-weight: bold\">&lt;</span><span style=\"color: #ff00ff; text-decoration-color: #ff00ff; font-weight: bold\">napari.utils.transforms.transforms.Affine</span><span style=\"color: #000000; text-decoration-color: #000000\"> object at </span><span style=\"color: #008080; text-decoration-color: #008080; font-weight: bold\">0x16164f3d0</span><span style=\"font-weight: bold\">&gt;</span>, <span style=\"color: #808000; text-decoration-color: #808000\">allow_new_selection</span>=<span style=\"color: #00ff00; text-decoration-color: #00ff00; font-style: italic\">True</span>, <span style=\"color: #808000; text-decoration-color: #808000\">selected_vertex</span>=<span style=\"color: #800080; text-decoration-color: #800080; font-style: italic\">None</span><span style=\"font-weight: bold\">))</span>, <span style=\"color: #808000; text-decoration-color: #808000\">help</span>=<span style=\"color: #008000; text-decoration-color: #008000\">''</span>, <span style=\"color: #808000; text-decoration-color: #808000\">status</span>=<span style=\"color: #008000; text-decoration-color: #008000\">'Ready'</span>, <span style=\"color: #808000; text-decoration-color: #808000\">tooltip</span>=<span style=\"color: #800080; text-decoration-color: #800080; font-weight: bold\">Tooltip</span><span style=\"font-weight: bold\">(</span><span style=\"color: #808000; text-decoration-color: #808000\">visible</span>=<span style=\"color: #ff0000; text-decoration-color: #ff0000; font-style: italic\">False</span>, <span style=\"color: #808000; text-decoration-color: #808000\">text</span>=<span style=\"color: #008000; text-decoration-color: #008000\">''</span><span style=\"font-weight: bold\">)</span>, <span style=\"color: #808000; text-decoration-color: #808000\">theme</span>=<span style=\"color: #008000; text-decoration-color: #008000\">'dark'</span>, <span style=\"color: #808000; text-decoration-color: #808000\">title</span>=<span style=\"color: #008000; text-decoration-color: #008000\">'napari'</span>, <span style=\"color: #808000; text-decoration-color: #808000\">mouse_move_callbacks</span>=<span style=\"font-weight: bold\">[&lt;</span><span style=\"color: #ff00ff; text-decoration-color: #ff00ff; font-weight: bold\">function</span><span style=\"color: #000000; text-decoration-color: #000000\"> InteractionBoxMouseBindings.initialize_mouse_events.&lt;locals</span><span style=\"font-weight: bold\">&gt;</span>.mouse_move at <span style=\"color: #008080; text-decoration-color: #008080; font-weight: bold\">0x174c35790</span>&gt;<span style=\"font-weight: bold\">]</span>, <span style=\"color: #808000; text-decoration-color: #808000\">mouse_drag_callbacks</span>=<span style=\"font-weight: bold\">[&lt;</span><span style=\"color: #ff00ff; text-decoration-color: #ff00ff; font-weight: bold\">function</span><span style=\"color: #000000; text-decoration-color: #000000\"> InteractionBoxMouseBindings.initialize_mouse_events.&lt;locals</span><span style=\"font-weight: bold\">&gt;</span>.mouse_drag at <span style=\"color: #008080; text-decoration-color: #008080; font-weight: bold\">0x174c35040</span>&gt;<span style=\"font-weight: bold\">]</span>, <span style=\"color: #808000; text-decoration-color: #808000\">mouse_double_click_callbacks</span>=<span style=\"font-weight: bold\">[]</span>, <span style=\"color: #808000; text-decoration-color: #808000\">mouse_wheel_callbacks</span>=<span style=\"font-weight: bold\">[&lt;</span><span style=\"color: #ff00ff; text-decoration-color: #ff00ff; font-weight: bold\">function</span><span style=\"color: #000000; text-decoration-color: #000000\"> dims_scroll at </span><span style=\"color: #008080; text-decoration-color: #008080; font-weight: bold\">0x16159a3a0</span><span style=\"font-weight: bold\">&gt;]</span>, <span style=\"color: #808000; text-decoration-color: #808000\">_persisted_mouse_event</span>=<span style=\"font-weight: bold\">{}</span>, <span style=\"color: #808000; text-decoration-color: #808000\">_mouse_drag_gen</span>=<span style=\"font-weight: bold\">{}</span>, <span style=\"color: #808000; text-decoration-color: #808000\">_mouse_wheel_gen</span>=<span style=\"font-weight: bold\">{}</span>, <span style=\"color: #808000; text-decoration-color: #808000\">keymap</span>=<span style=\"font-weight: bold\">{</span><span style=\"color: #008000; text-decoration-color: #008000\">'Shift'</span>: <span style=\"font-weight: bold\">&lt;</span><span style=\"color: #ff00ff; text-decoration-color: #ff00ff; font-weight: bold\">function</span><span style=\"color: #000000; text-decoration-color: #000000\"> InteractionBoxMouseBindings.initialize_key_events.&lt;locals</span><span style=\"font-weight: bold\">&gt;</span>.hold_to_lock_aspect_ratio at <span style=\"color: #008080; text-decoration-color: #008080; font-weight: bold\">0x174c21820</span>&gt;, <span style=\"color: #008000; text-decoration-color: #008000\">'Control-Shift-R'</span>: <span style=\"font-weight: bold\">&lt;</span><span style=\"color: #ff00ff; text-decoration-color: #ff00ff; font-weight: bold\">function</span><span style=\"color: #000000; text-decoration-color: #000000\"> InteractionBoxMouseBindings._reset_active_layer_affine at </span><span style=\"color: #008080; text-decoration-color: #008080; font-weight: bold\">0x17498a310</span><span style=\"font-weight: bold\">&gt;</span>, <span style=\"color: #008000; text-decoration-color: #008000\">'Control-Shift-A'</span>: <span style=\"font-weight: bold\">&lt;</span><span style=\"color: #ff00ff; text-decoration-color: #ff00ff; font-weight: bold\">function</span><span style=\"color: #000000; text-decoration-color: #000000\"> InteractionBoxMouseBindings._transform_active_layer at </span><span style=\"color: #008080; text-decoration-color: #008080; font-weight: bold\">0x17498ab80</span><span style=\"font-weight: bold\">&gt;})</span>\n",
       "</pre>\n"
      ],
      "text/plain": [
       "\u001b[1;35mViewer\u001b[0m\u001b[1m(\u001b[0m\u001b[33maxes\u001b[0m=\u001b[1;35mAxes\u001b[0m\u001b[1m(\u001b[0m\u001b[33mvisible\u001b[0m=\u001b[3;91mFalse\u001b[0m, \u001b[33mlabels\u001b[0m=\u001b[3;92mTrue\u001b[0m, \u001b[33mcolored\u001b[0m=\u001b[3;92mTrue\u001b[0m, \u001b[33mdashed\u001b[0m=\u001b[3;91mFalse\u001b[0m, \u001b[33marrows\u001b[0m=\u001b[3;92mTrue\u001b[0m\u001b[1m)\u001b[0m, \u001b[33mcamera\u001b[0m=\u001b[1;35mCamera\u001b[0m\u001b[1m(\u001b[0m\u001b[33mcenter\u001b[0m=\u001b[1m(\u001b[0m\u001b[1;36m0.0\u001b[0m, \u001b[1;36m3995.0\u001b[0m, \u001b[1;36m5695.0\u001b[0m\u001b[1m)\u001b[0m, \u001b[33mzoom\u001b[0m=\u001b[1;36m0\u001b[0m\u001b[1;36m.10164999999999999\u001b[0m, \u001b[33mangles\u001b[0m=\u001b[1m(\u001b[0m\u001b[1;36m0.0\u001b[0m, \u001b[1;36m0.0\u001b[0m, \u001b[1;36m90.0\u001b[0m\u001b[1m)\u001b[0m, \u001b[33mperspective\u001b[0m=\u001b[1;36m0\u001b[0m, \u001b[33minteractive\u001b[0m=\u001b[3;92mTrue\u001b[0m\u001b[1m)\u001b[0m, \u001b[33mcursor\u001b[0m=\u001b[1;35mCursor\u001b[0m\u001b[1m(\u001b[0m\u001b[33mposition\u001b[0m=\u001b[1m(\u001b[0m\u001b[1;36m1\u001b[0m, \u001b[1;36m1\u001b[0m\u001b[1m)\u001b[0m, \u001b[33mscaled\u001b[0m=\u001b[3;92mTrue\u001b[0m, \u001b[33msize\u001b[0m=\u001b[1;36m1\u001b[0m, \u001b[33mstyle\u001b[0m=\u001b[1m<\u001b[0m\u001b[1;95mCursorStyle.STANDARD:\u001b[0m\u001b[39m \u001b[0m\u001b[32m'standard'\u001b[0m\u001b[1m>\u001b[0m\u001b[1m)\u001b[0m, \u001b[33mdims\u001b[0m=\u001b[1;35mDims\u001b[0m\u001b[1m(\u001b[0m\u001b[33mndim\u001b[0m=\u001b[1;36m2\u001b[0m, \u001b[33mndisplay\u001b[0m=\u001b[1;36m2\u001b[0m, \u001b[33mlast_used\u001b[0m=\u001b[1;36m0\u001b[0m, \u001b[33mrange\u001b[0m=\u001b[1m(\u001b[0m\u001b[1m(\u001b[0m\u001b[1;36m0.0\u001b[0m, \u001b[1;36m8000.0\u001b[0m, \u001b[1;36m10.0\u001b[0m\u001b[1m)\u001b[0m, \u001b[1m(\u001b[0m\u001b[1;36m0.0\u001b[0m, \u001b[1;36m11400.0\u001b[0m, \u001b[1;36m10.0\u001b[0m\u001b[1m)\u001b[0m\u001b[1m)\u001b[0m, \u001b[33mcurrent_step\u001b[0m=\u001b[1m(\u001b[0m\u001b[1;36m400\u001b[0m, \u001b[1;36m570\u001b[0m\u001b[1m)\u001b[0m, \u001b[33morder\u001b[0m=\u001b[1m(\u001b[0m\u001b[1;36m0\u001b[0m, \u001b[1;36m1\u001b[0m\u001b[1m)\u001b[0m, \u001b[33maxis_labels\u001b[0m=\u001b[1m(\u001b[0m\u001b[32m'0'\u001b[0m, \u001b[32m'1'\u001b[0m\u001b[1m)\u001b[0m\u001b[1m)\u001b[0m, \u001b[33mgrid\u001b[0m=\u001b[1;35mGridCanvas\u001b[0m\u001b[1m(\u001b[0m\u001b[33mstride\u001b[0m=\u001b[1;36m1\u001b[0m, \u001b[33mshape\u001b[0m=\u001b[1m(\u001b[0m\u001b[1;36m-1\u001b[0m, \u001b[1;36m-1\u001b[0m\u001b[1m)\u001b[0m, \u001b[33menabled\u001b[0m=\u001b[3;91mFalse\u001b[0m\u001b[1m)\u001b[0m, \u001b[33mlayers\u001b[0m=\u001b[1m[\u001b[0m\u001b[1m<\u001b[0m\u001b[1;95mLabels\u001b[0m\u001b[39m layer \u001b[0m\u001b[32m'newslice'\u001b[0m\u001b[39m at \u001b[0m\u001b[1;36m0x174f87c10\u001b[0m\u001b[1m>\u001b[0m, \u001b[1m<\u001b[0m\u001b[1;95mImage\u001b[0m\u001b[39m layer \u001b[0m\u001b[32m'\u001b[0m\u001b[32mz\u001b[0m\u001b[32m=\u001b[0m\u001b[32m800\u001b[0m\u001b[32m'\u001b[0m\u001b[39m at \u001b[0m\u001b[1;36m0x1747845e0\u001b[0m\u001b[1m>\u001b[0m, \u001b[1m<\u001b[0m\u001b[1;95mPoints\u001b[0m\u001b[39m layer \u001b[0m\u001b[32m'8557: tph2 vglut3 - o'\u001b[0m\u001b[39m at \u001b[0m\u001b[1;36m0x1750a0940\u001b[0m\u001b[1m>\u001b[0m, \u001b[1m<\u001b[0m\u001b[1;95mPoints\u001b[0m\u001b[39m layer \u001b[0m\u001b[32m'8555: tph2 vglut3 - +'\u001b[0m\u001b[39m at \u001b[0m\u001b[1;36m0x1775d5190\u001b[0m\u001b[1m>\u001b[0m, \u001b[1m<\u001b[0m\u001b[1;95mPoints\u001b[0m\u001b[39m layer \u001b[0m\u001b[32m'8607: tph2 gad2 - o'\u001b[0m\u001b[39m at \u001b[0m\u001b[1;36m0x1776d9070\u001b[0m\u001b[1m>\u001b[0m, \u001b[1m<\u001b[0m\u001b[1;95mPoints\u001b[0m\u001b[39m layer \u001b[0m\u001b[32m'8606: tph2 gad2 - +'\u001b[0m\u001b[39m at \u001b[0m\u001b[1;36m0x17788cb80\u001b[0m\u001b[1m>\u001b[0m, \u001b[1m<\u001b[0m\u001b[1;95mPoints\u001b[0m\u001b[39m layer \u001b[0m\u001b[32m'8608: tph2 gad2 - ^'\u001b[0m\u001b[39m at \u001b[0m\u001b[1;36m0x1779626d0\u001b[0m\u001b[1m>\u001b[0m, \u001b[1m<\u001b[0m\u001b[1;95mPoints\u001b[0m\u001b[39m layer \u001b[0m\u001b[32m'MPRRabies: tph2 gad2 - vbar'\u001b[0m\u001b[39m at \u001b[0m\u001b[1;36m0x177a31130\u001b[0m\u001b[1m>\u001b[0m, \u001b[1m<\u001b[0m\u001b[1;95mPoints\u001b[0m\u001b[39m layer \u001b[0m\u001b[32m'969: tph2 gad2 - diamond'\u001b[0m\u001b[39m at \u001b[0m\u001b[1;36m0x177abf4c0\u001b[0m\u001b[1m>\u001b[0m\u001b[1m]\u001b[0m, \u001b[33mscale_bar\u001b[0m=\u001b[1;35mScaleBar\u001b[0m\u001b[1m(\u001b[0m\u001b[33mvisible\u001b[0m=\u001b[3;92mTrue\u001b[0m, \u001b[33mcolored\u001b[0m=\u001b[3;91mFalse\u001b[0m, \u001b[33mticks\u001b[0m=\u001b[3;92mTrue\u001b[0m, \u001b[33mposition\u001b[0m=\u001b[1m<\u001b[0m\u001b[1;95mPosition.BOTTOM_RIGHT:\u001b[0m\u001b[39m \u001b[0m\u001b[32m'bottom_right'\u001b[0m\u001b[1m>\u001b[0m, \u001b[33mfont_size\u001b[0m=\u001b[1;36m10\u001b[0m, \u001b[33munit\u001b[0m=\u001b[32m'um'\u001b[0m\u001b[1m)\u001b[0m, \u001b[33mtext_overlay\u001b[0m=\u001b[1;35mTextOverlay\u001b[0m\u001b[1m(\u001b[0m\u001b[33mvisible\u001b[0m=\u001b[3;91mFalse\u001b[0m, \u001b[33mcolor\u001b[0m=\u001b[1m(\u001b[0m\u001b[1;36m0.5\u001b[0m, \u001b[1;36m0.5\u001b[0m, \u001b[1;36m0.5\u001b[0m, \u001b[1;36m1.0\u001b[0m\u001b[1m)\u001b[0m, \u001b[33mfont_size\u001b[0m=\u001b[1;36m10\u001b[0m, \u001b[33mposition\u001b[0m=\u001b[1m<\u001b[0m\u001b[1;95mTextOverlayPosition.TOP_LEFT:\u001b[0m\u001b[39m \u001b[0m\u001b[32m'top_left'\u001b[0m\u001b[1m>\u001b[0m, \u001b[33mtext\u001b[0m=\u001b[32m''\u001b[0m\u001b[1m)\u001b[0m, \u001b[33moverlays\u001b[0m=\u001b[1;35mOverlays\u001b[0m\u001b[1m(\u001b[0m\u001b[33minteraction_box\u001b[0m=\u001b[1;35mInteractionBox\u001b[0m\u001b[1m(\u001b[0m\u001b[33mpoints\u001b[0m=\u001b[3;35mNone\u001b[0m, \u001b[33mshow\u001b[0m=\u001b[3;91mFalse\u001b[0m, \u001b[33mshow_handle\u001b[0m=\u001b[3;91mFalse\u001b[0m, \u001b[33mshow_vertices\u001b[0m=\u001b[3;91mFalse\u001b[0m, \u001b[33mselection_box_drag\u001b[0m=\u001b[3;35mNone\u001b[0m, \u001b[33mselection_box_final\u001b[0m=\u001b[3;35mNone\u001b[0m, \u001b[33mtransform_start\u001b[0m=\u001b[1m<\u001b[0m\u001b[1;95mnapari.utils.transforms.transforms.Affine\u001b[0m\u001b[39m object at \u001b[0m\u001b[1;36m0x16164f2b0\u001b[0m\u001b[1m>\u001b[0m, \u001b[33mtransform_drag\u001b[0m=\u001b[1m<\u001b[0m\u001b[1;95mnapari.utils.transforms.transforms.Affine\u001b[0m\u001b[39m object at \u001b[0m\u001b[1;36m0x16164f310\u001b[0m\u001b[1m>\u001b[0m, \u001b[33mtransform_final\u001b[0m=\u001b[1m<\u001b[0m\u001b[1;95mnapari.utils.transforms.transforms.Affine\u001b[0m\u001b[39m object at \u001b[0m\u001b[1;36m0x16164f370\u001b[0m\u001b[1m>\u001b[0m, \u001b[33mtransform\u001b[0m=\u001b[1m<\u001b[0m\u001b[1;95mnapari.utils.transforms.transforms.Affine\u001b[0m\u001b[39m object at \u001b[0m\u001b[1;36m0x16164f3d0\u001b[0m\u001b[1m>\u001b[0m, \u001b[33mallow_new_selection\u001b[0m=\u001b[3;92mTrue\u001b[0m, \u001b[33mselected_vertex\u001b[0m=\u001b[3;35mNone\u001b[0m\u001b[1m)\u001b[0m\u001b[1m)\u001b[0m, \u001b[33mhelp\u001b[0m=\u001b[32m''\u001b[0m, \u001b[33mstatus\u001b[0m=\u001b[32m'Ready'\u001b[0m, \u001b[33mtooltip\u001b[0m=\u001b[1;35mTooltip\u001b[0m\u001b[1m(\u001b[0m\u001b[33mvisible\u001b[0m=\u001b[3;91mFalse\u001b[0m, \u001b[33mtext\u001b[0m=\u001b[32m''\u001b[0m\u001b[1m)\u001b[0m, \u001b[33mtheme\u001b[0m=\u001b[32m'dark'\u001b[0m, \u001b[33mtitle\u001b[0m=\u001b[32m'napari'\u001b[0m, \u001b[33mmouse_move_callbacks\u001b[0m=\u001b[1m[\u001b[0m\u001b[1m<\u001b[0m\u001b[1;95mfunction\u001b[0m\u001b[39m InteractionBoxMouseBindings.initialize_mouse_events.<locals\u001b[0m\u001b[1m>\u001b[0m.mouse_move at \u001b[1;36m0x174c35790\u001b[0m>\u001b[1m]\u001b[0m, \u001b[33mmouse_drag_callbacks\u001b[0m=\u001b[1m[\u001b[0m\u001b[1m<\u001b[0m\u001b[1;95mfunction\u001b[0m\u001b[39m InteractionBoxMouseBindings.initialize_mouse_events.<locals\u001b[0m\u001b[1m>\u001b[0m.mouse_drag at \u001b[1;36m0x174c35040\u001b[0m>\u001b[1m]\u001b[0m, \u001b[33mmouse_double_click_callbacks\u001b[0m=\u001b[1m[\u001b[0m\u001b[1m]\u001b[0m, \u001b[33mmouse_wheel_callbacks\u001b[0m=\u001b[1m[\u001b[0m\u001b[1m<\u001b[0m\u001b[1;95mfunction\u001b[0m\u001b[39m dims_scroll at \u001b[0m\u001b[1;36m0x16159a3a0\u001b[0m\u001b[1m>\u001b[0m\u001b[1m]\u001b[0m, \u001b[33m_persisted_mouse_event\u001b[0m=\u001b[1m{\u001b[0m\u001b[1m}\u001b[0m, \u001b[33m_mouse_drag_gen\u001b[0m=\u001b[1m{\u001b[0m\u001b[1m}\u001b[0m, \u001b[33m_mouse_wheel_gen\u001b[0m=\u001b[1m{\u001b[0m\u001b[1m}\u001b[0m, \u001b[33mkeymap\u001b[0m=\u001b[1m{\u001b[0m\u001b[32m'Shift'\u001b[0m: \u001b[1m<\u001b[0m\u001b[1;95mfunction\u001b[0m\u001b[39m InteractionBoxMouseBindings.initialize_key_events.<locals\u001b[0m\u001b[1m>\u001b[0m.hold_to_lock_aspect_ratio at \u001b[1;36m0x174c21820\u001b[0m>, \u001b[32m'Control-Shift-R'\u001b[0m: \u001b[1m<\u001b[0m\u001b[1;95mfunction\u001b[0m\u001b[39m InteractionBoxMouseBindings._reset_active_layer_affine at \u001b[0m\u001b[1;36m0x17498a310\u001b[0m\u001b[1m>\u001b[0m, \u001b[32m'Control-Shift-A'\u001b[0m: \u001b[1m<\u001b[0m\u001b[1;95mfunction\u001b[0m\u001b[39m InteractionBoxMouseBindings._transform_active_layer at \u001b[0m\u001b[1;36m0x17498ab80\u001b[0m\u001b[1m>\u001b[0m\u001b[1m}\u001b[0m\u001b[1m)\u001b[0m\n"
      ]
     },
     "metadata": {},
     "output_type": "display_data"
    }
   ],
   "source": [
    "sd.napari_coronal_section(z=800, subtype_colors=colors, symbols=symbols, fold_on=fold_on)"
   ]
  },
  {
   "cell_type": "code",
   "execution_count": null,
   "metadata": {},
   "outputs": [],
   "source": [
    "dir = \"/Users/thomasathey/Documents/mimlab/mouselight/ailey/wholebrain_results/somas_formatt/\"\n",
    "\n",
    "brain = \"MPRRabies\"\n",
    "sd = SomaDistribution(brain_ids=[brain])\n",
    "\n",
    "for z in tqdm(np.arange(25,1320, 25)):\n",
    "    fname = dir + f\"{brain}_{z}.tif\"\n",
    "    v = sd.napari_coronal_section(\n",
    "        z=z, subtype_colors=colors, symbols=symbols, fold_on=fold_on\n",
    "    )\n",
    "    im = v.screenshot(canvas_only=False)\n",
    "    io.imsave(fname, im)"
   ]
  },
  {
   "cell_type": "code",
   "execution_count": null,
   "metadata": {},
   "outputs": [],
   "source": [
    "sd.brainrender_somas(subtype_colors=colors)"
   ]
  },
  {
   "attachments": {},
   "cell_type": "markdown",
   "metadata": {},
   "source": [
    "## 10. Display bar charts"
   ]
  },
  {
   "cell_type": "code",
   "execution_count": 7,
   "metadata": {},
   "outputs": [
    {
     "name": "stdout",
     "output_type": "stream",
     "text": [
      "Brain 8557: Collecting atlas space soma points from layer: transformed_points\n",
      "Brain 8555: Collecting atlas space soma points from layer: transformed_points\n",
      "Brain 8477: Collecting atlas space soma points from layer: transformed_points\n",
      "Brain 8531: Collecting atlas space soma points from layer: transformed_points\n",
      "Brain 8608: Collecting atlas space soma points from layer: transformed_points\n",
      "Brain 8529: Collecting atlas space soma points from layer: transformed_points\n",
      "Brain 8454: Collecting atlas space soma points from layer: transformed_points\n",
      "Brain 8446: Collecting atlas space soma points from layer: transformed_points\n",
      "Brain MPRRabies: Collecting atlas space soma points from layer: transformed_points\n",
      "Brain 969: Collecting atlas space soma points from layer: transformed_points_0\n",
      "Brain 969: Collecting atlas space soma points from layer: transformed_points_1\n",
      "Brain 969: Collecting atlas space soma points from layer: transformed_points_2\n",
      "Brain 969: Collecting atlas space soma points from layer: transformed_points_3\n",
      "Brain 969: Collecting atlas space soma points from layer: transformed_points_4\n"
     ]
    },
    {
     "name": "stderr",
     "output_type": "stream",
     "text": [
      "Finding soma regions of brains: 100%|██████████| 12/12 [00:01<00:00,  7.89it/s]\n"
     ]
    }
   ],
   "source": [
    "regions = [\n",
    "    688,  # cerebral cortex\n",
    "    95, # agranular insular area\n",
    "    714, # orbital area\n",
    "    698,  # olfactory areas\n",
    "    1089,  # hippocampal formation\n",
    "    # 583, # claustrum\n",
    "    477,  # striatum\n",
    "    # 803, # pallidum\n",
    "    351,  # bed nuclei of stria terminalis\n",
    "    # 703, #cortical subplate\n",
    "    1097,  # hypothalamus\n",
    "    157, #periventricular zone\n",
    "    515, # medial preoptic nucleus\n",
    "    290, # hypothalamic lateral zone\n",
    "    331, #mammillary body\n",
    "    797, # zona incerta\n",
    "    549,  # thalamus\n",
    "    186,  # lateral habenula\n",
    "    519,  # cerebellar nuclei\n",
    "    846, #dentate nucleus\n",
    "    726, # dentate gyrus\n",
    "    313,  # midbrain\n",
    "    157, #inferior colliculus\n",
    "    1052, #pedunculopontine\n",
    "    128, #midbrain reticular nucleus\n",
    "    214, # red nucleus\n",
    "    1065,  # hindbrain\n",
    "    867, #parabrachial nucleus\n",
    "    701, #vestibular nuclei\n",
    "    972, # prelimbic\n",
    "    44, # infralimbic\n",
    "]  # allen atlas region IDs to be shown\n",
    "# see: https://connectivity.brain-map.org/projection/experiment/480074702?imageId=480075280&initImage=TWO_PHOTON&x=17028&y=11704&z=3\n",
    "\n",
    "composite_regions = {\n",
    "    \"Amygdalar Nuclei\": [131, 295, 319, 780], \"Substantia Nigra\": [615, 374, 374], \"Superior Colliculus\": [294, 302]\n",
    "}  # Custom composite allen regions where key is region name and value is list of allen regions\n",
    "\n",
    "brain_ids = [\"8557\",\"8555\",\"8607\",\"8606\",\"8477\", \"8531\", \"8608\", \"8529\", \"8454\", \"8446\", \"MPRRabies\", \"969\"]\n",
    "sd = SomaDistribution(brain_ids=brain_ids)\n"
   ]
  },
  {
   "cell_type": "code",
   "execution_count": 10,
   "metadata": {},
   "outputs": [
    {
     "ename": "KeyError",
     "evalue": "'8557'",
     "output_type": "error",
     "traceback": [
      "\u001b[0;31m---------------------------------------------------------------------------\u001b[0m",
      "\u001b[0;31mKeyError\u001b[0m                                  Traceback (most recent call last)",
      "\u001b[0;32m/var/folders/fq/9t66hqz51y5ddnygddgjtsmc0000gn/T/ipykernel_49513/2981215673.py\u001b[0m in \u001b[0;36m<module>\u001b[0;34m\u001b[0m\n\u001b[1;32m     16\u001b[0m \u001b[0msd\u001b[0m\u001b[0;34m.\u001b[0m\u001b[0matlas_points\u001b[0m \u001b[0;34m=\u001b[0m \u001b[0matlas_points\u001b[0m\u001b[0;34m\u001b[0m\u001b[0;34m\u001b[0m\u001b[0m\n\u001b[1;32m     17\u001b[0m \u001b[0msd\u001b[0m\u001b[0;34m.\u001b[0m\u001b[0mid_to_regioncounts\u001b[0m \u001b[0;34m=\u001b[0m \u001b[0mid_to_regioncounts\u001b[0m\u001b[0;34m\u001b[0m\u001b[0;34m\u001b[0m\u001b[0m\n\u001b[0;32m---> 18\u001b[0;31m \u001b[0msd\u001b[0m\u001b[0;34m.\u001b[0m\u001b[0mregion_graph\u001b[0m \u001b[0;34m=\u001b[0m \u001b[0msd\u001b[0m\u001b[0;34m.\u001b[0m\u001b[0m_setup_regiongraph\u001b[0m\u001b[0;34m(\u001b[0m\u001b[0;34m)\u001b[0m\u001b[0;34m\u001b[0m\u001b[0;34m\u001b[0m\u001b[0m\n\u001b[0m",
      "\u001b[0;32m~/Documents/mimlab/mouselight/brainlit_parent/brainlit/brainlit/BrainLine/analyze_results.py\u001b[0m in \u001b[0;36m_setup_regiongraph\u001b[0;34m(self)\u001b[0m\n\u001b[1;32m    348\u001b[0m         \u001b[0;31m# add counts\u001b[0m\u001b[0;34m\u001b[0m\u001b[0;34m\u001b[0m\u001b[0;34m\u001b[0m\u001b[0m\n\u001b[1;32m    349\u001b[0m         \u001b[0;32mfor\u001b[0m \u001b[0mbrain_id\u001b[0m \u001b[0;32min\u001b[0m \u001b[0mbrain_ids\u001b[0m\u001b[0;34m:\u001b[0m\u001b[0;34m\u001b[0m\u001b[0;34m\u001b[0m\u001b[0m\n\u001b[0;32m--> 350\u001b[0;31m             \u001b[0mregioncounts\u001b[0m \u001b[0;34m=\u001b[0m \u001b[0mid_to_regioncounts\u001b[0m\u001b[0;34m[\u001b[0m\u001b[0mbrain_id\u001b[0m\u001b[0;34m]\u001b[0m\u001b[0;34m\u001b[0m\u001b[0;34m\u001b[0m\u001b[0m\n\u001b[0m\u001b[1;32m    351\u001b[0m             \u001b[0;32mfor\u001b[0m \u001b[0mregion\u001b[0m \u001b[0;32min\u001b[0m \u001b[0mregioncounts\u001b[0m\u001b[0;34m.\u001b[0m\u001b[0mkeys\u001b[0m\u001b[0;34m(\u001b[0m\u001b[0;34m)\u001b[0m\u001b[0;34m:\u001b[0m\u001b[0;34m\u001b[0m\u001b[0;34m\u001b[0m\u001b[0m\n\u001b[1;32m    352\u001b[0m                 \u001b[0;32mif\u001b[0m \u001b[0mregion\u001b[0m \u001b[0;32min\u001b[0m \u001b[0mregion_graph\u001b[0m\u001b[0;34m.\u001b[0m\u001b[0mnodes\u001b[0m\u001b[0;34m:\u001b[0m\u001b[0;34m\u001b[0m\u001b[0;34m\u001b[0m\u001b[0m\n",
      "\u001b[0;31mKeyError\u001b[0m: '8557'"
     ]
    }
   ],
   "source": [
    "id_to_regioncounts = sd.id_to_regioncounts\n",
    "atlas_points = sd.atlas_points\n",
    "\n",
    "for brain_id in brain_ids:\n",
    "    if brain_id in [\"8607\", \"887\"]:\n",
    "        pkl_file = f\"/Users/thomasathey/Documents/mimlab/mouselight/ailey/detection_soma/wholebrain_results/quantification_dict_{brain_id}.pickle\"\n",
    "        with open(pkl_file, \"rb\") as handle:\n",
    "            q_dict = pickle.load(handle)\n",
    "        id_to_regioncounts[brain_id] = q_dict\n",
    "\n",
    "        total_somas = 0\n",
    "        for region in q_dict.keys():\n",
    "            total_somas += q_dict[region]\n",
    "        atlas_points[brain_id] = np.zeros((total_somas,0))\n",
    "\n",
    "sd.atlas_points = atlas_points\n",
    "sd.id_to_regioncounts = id_to_regioncounts\n",
    "sd.region_graph = sd._setup_regiongraph()"
   ]
  },
  {
   "cell_type": "code",
   "execution_count": null,
   "metadata": {},
   "outputs": [],
   "source": [
    "sd.region_barchart(regions, composite_regions=composite_regions, normalize_region=872)"
   ]
  },
  {
   "attachments": {},
   "cell_type": "markdown",
   "metadata": {},
   "source": [
    "### Compare distributions with PCA"
   ]
  },
  {
   "cell_type": "code",
   "execution_count": null,
   "metadata": {},
   "outputs": [],
   "source": [
    "X = []\n",
    "brain_ids = []\n",
    "genotypes = []\n",
    "\n",
    "for i, brain in enumerate(brains):\n",
    "    print(brain)\n",
    "    region_order = list(df.loc[df[\"Brain ID\"] == brain][\"Region\"])\n",
    "\n",
    "    if i == 0:\n",
    "        standard_region_order = region_order\n",
    "    elif standard_region_order != region_order:\n",
    "        raise ValueError(f\"Different region order for brain {brain}\")\n",
    "\n",
    "    distrib = list(df.loc[df[\"Brain ID\"] == brain][\"Percent of Total Somas (%)\"])\n",
    "    X.append(distrib)\n",
    "\n",
    "    brain_ids.append(brain)\n",
    "    genotypes.append(brains[brain])\n",
    "\n",
    "X = np.array(X)\n",
    "\n",
    "pca = PCA(n_components=2)\n",
    "X_2 = pca.fit_transform(X)\n",
    "\n",
    "df_pca = {\n",
    "    \"PC 1\": X_2[:, 0],\n",
    "    \"PC 2\": X_2[:, 1],\n",
    "    \"Genotype\": genotypes,\n",
    "    \"Brain ID\": brain_ids,\n",
    "}\n",
    "df_pca = pd.DataFrame(data=df_pca)\n",
    "\n",
    "fig, ax = plt.subplots(1, 1, figsize=(10, 10))\n",
    "sns.scatterplot(data=df_pca, x=\"PC 1\", y=\"PC 2\", hue=\"Genotype\", ax=ax)\n",
    "\n",
    "\n",
    "for i in range(df_pca.shape[0]):\n",
    "    plt.text(\n",
    "        x=df_pca[\"PC 1\"][i] + 0.03,\n",
    "        y=df_pca[\"PC 2\"][i] + 0.03,\n",
    "        s=df_pca[\"Brain ID\"][i],\n",
    "        fontdict=dict(color=\"black\", size=20),\n",
    "    )\n",
    "\n",
    "plt.title(\n",
    "    f\"Input Distribution PCA with Explained Variance: {pca.explained_variance_ratio_}\"\n",
    ")"
   ]
  },
  {
   "cell_type": "code",
   "execution_count": null,
   "metadata": {},
   "outputs": [],
   "source": []
  },
  {
   "attachments": {},
   "cell_type": "markdown",
   "metadata": {},
   "source": [
    "## Create local volume"
   ]
  },
  {
   "cell_type": "code",
   "execution_count": null,
   "metadata": {},
   "outputs": [],
   "source": [
    "vol = CloudVolume(\n",
    "    \"precomputed://s3://smartspim-precomputed-volumes/2022_03_10/8531/Ch_647_iso\"\n",
    ")"
   ]
  },
  {
   "cell_type": "code",
   "execution_count": null,
   "metadata": {},
   "outputs": [],
   "source": [
    "subvol = vol[256 * 11 : 256 * 12, 256 * 16 : 256 * 17, 256 * 6 : 256 * 7]"
   ]
  },
  {
   "cell_type": "code",
   "execution_count": null,
   "metadata": {},
   "outputs": [],
   "source": [
    "info = CloudVolume.create_new_info(\n",
    "    num_channels=1,\n",
    "    layer_type=\"image\",\n",
    "    data_type=\"uint16\",  # Channel images might be 'uint8'\n",
    "    encoding=\"raw\",  # raw, jpeg, compressed_segmentation, fpzip, kempressed\n",
    "    resolution=vol.resolution,  # Voxel scaling, units are in nanometers\n",
    "    voxel_offset=vol.voxel_offset,\n",
    "    chunk_size=vol.chunk_size,  # units are voxels\n",
    "    volume_size=vol.volume_size,  # e.g. a cubic millimeter dataset\n",
    ")\n",
    "\n",
    "vol_ex = CloudVolume(\n",
    "    \"precomputed://file:///Users/thomasathey/Documents/mimlab/mouselight/brainlit_parent/brainlit/brainlit/BrainLine/data/example\",\n",
    "    info=info,\n",
    "    compress=False,\n",
    ")\n",
    "vol_ex.commit_info()"
   ]
  },
  {
   "cell_type": "code",
   "execution_count": null,
   "metadata": {},
   "outputs": [],
   "source": [
    "vol_ex[256 * 11 : 256 * 12, 256 * 16 : 256 * 17, 256 * 6 : 256 * 7] = subvol"
   ]
  },
  {
   "cell_type": "code",
   "execution_count": null,
   "metadata": {},
   "outputs": [],
   "source": [
    "256 * 7"
   ]
  },
  {
   "cell_type": "code",
   "execution_count": null,
   "metadata": {},
   "outputs": [],
   "source": [
    "vol = CloudVolume(\n",
    "    \"precomputed://file:///Users/thomasathey/Documents/mimlab/mouselight/brainlit_parent/brainlit/brainlit/BrainLine/data/example/endogenous\",\n",
    "    fill_missing=True,\n",
    ")"
   ]
  },
  {
   "attachments": {},
   "cell_type": "markdown",
   "metadata": {},
   "source": [
    "### Post detections to ng"
   ]
  },
  {
   "cell_type": "code",
   "execution_count": null,
   "metadata": {},
   "outputs": [],
   "source": [
    "\n",
    "brain_id = \"8606\"\n",
    "all_somas_pth = f\"/Users/thomasathey/Documents/mimlab/mouselight/ailey/detection_soma/wholebrain_results/all_somas_{brain_id}.txt\"\n",
    "\n",
    "from brainlit.BrainLine.data.soma_data import brain2paths\n",
    "from cloudreg.scripts.transform_points import NGLink\n",
    "from cloudreg.scripts.visualization import create_viz_link_from_json\n",
    "\n",
    "coords = []\n",
    "coords_target_space = []\n",
    "file1 = open(all_somas_pth, \"r\")\n",
    "lines = file1.readlines()\n",
    "for line in tqdm(lines, desc=\"parsing coordinates\", leave=False):\n",
    "    if line != \"\\n\":\n",
    "        line = \" \".join(line.split())\n",
    "        elements = line.split(\",\")\n",
    "        coord = [elements[0][1:], elements[1], elements[2][:-1]]\n",
    "\n",
    "        coords.append([float(e.strip()) for e in coord])\n",
    "\n",
    "coords = coords[15000:]\n",
    "print(f\"{len(coords)} detections\")\n",
    "\n",
    "ng_link = brain2paths[brain_id][\"val_info\"][\"url\"]\n",
    "viz_link = NGLink(ng_link.split(\"json_url=\")[-1])\n",
    "ngl_json = viz_link._json\n",
    "\n",
    "ngl_json[\"layers\"] = [\n",
    "    layer for layer in ngl_json[\"layers\"] if layer[\"type\"] != \"annotation\"\n",
    "]\n",
    "\n",
    "ngl_json[\"layers\"].append(\n",
    "    {\"type\": \"annotation\", \"points\": coords, \"name\": \"detected_somas\"}\n",
    ")\n",
    "viz_link = create_viz_link_from_json(\n",
    "    ngl_json, neuroglancer_link=\"https://viz.neurodata.io/?json_url=\"\n",
    ")\n",
    "print(f\"Viz link with detections: {viz_link}\")"
   ]
  }
 ],
 "metadata": {
  "kernelspec": {
   "display_name": "Python 3.8.10 ('docs_env': venv)",
   "language": "python",
   "name": "python3"
  },
  "language_info": {
   "codemirror_mode": {
    "name": "ipython",
    "version": 3
   },
   "file_extension": ".py",
   "mimetype": "text/x-python",
   "name": "python",
   "nbconvert_exporter": "python",
   "pygments_lexer": "ipython3",
   "version": "3.8.10"
  },
  "orig_nbformat": 4,
  "vscode": {
   "interpreter": {
    "hash": "5dc00d68ff54f8375e99934614da4863299fb9e10af4294c095b7f517546ff26"
   }
  }
 },
 "nbformat": 4,
 "nbformat_minor": 2
}
