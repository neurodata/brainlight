{
 "cells": [
  {
   "attachments": {},
   "cell_type": "markdown",
   "metadata": {},
   "source": [
    "# Soma Detection Analysis of Whole-Brain Light-Sheet Images"
   ]
  },
  {
   "cell_type": "code",
   "execution_count": 1,
   "metadata": {},
   "outputs": [],
   "source": [
    "from brainlit.preprocessing import removeSmallCCs\n",
    "from brainlit.BrainLine.analyze_results import SomaDistribution\n",
    "from brainlit.BrainLine.util import (\n",
    "    json_to_points,\n",
    "    download_subvolumes,\n",
    ")\n",
    "from brainlit.BrainLine.apply_ilastik import (\n",
    "    ApplyIlastik,\n",
    "    ApplyIlastik_LargeImage,\n",
    "    plot_results,\n",
    "    examine_threshold,\n",
    ")\n",
    "from brainlit.BrainLine.parse_ara import *\n",
    "import xml.etree.ElementTree as ET\n",
    "from cloudreg.scripts.transform_points import NGLink\n",
    "from brainlit.BrainLine.imports import *\n",
    "from scipy.stats import chi2_contingency\n",
    "from scipy.special import rel_entr\n",
    "from itertools import combinations\n",
    "import networkx as nx\n",
    "import random\n",
    "from statannotations.Annotator import Annotator\n",
    "from statannotations.stats.StatTest import StatTest\n",
    "from scipy.stats import ttest_ind\n",
    "\n",
    "%gui qt5"
   ]
  },
  {
   "attachments": {},
   "cell_type": "markdown",
   "metadata": {},
   "source": [
    "## 1. Before Using this notebook"
   ]
  },
  {
   "attachments": {},
   "cell_type": "markdown",
   "metadata": {},
   "source": [
    "### 1a. Install brainlit, and other packages that this notebook uses\n",
    "### 1b. Write images to s3 using CloudReg\n",
    "    - e.g. python -m cloudreg.scripts.create_precomputed_volumes --s3_input_paths /mnt/NAS/SmartSPIM_Data/2022_03_02/20220302_14_40_04_8529_destriped_DONE/Ex_561_Em_600_stitched --s3_output_paths  s3://smartspim-precomputed-volumes/2022_03_02/8529/Ch_561_v2  --voxel_size 1.83 1.83 2 --num_procs 24 --resample_iso False\n",
    "### 1c. Make point annotations in neuroglancer to identify subvolumes for validation (and possible training)\n",
    "    - instructions: https://neurodata.io/help/neuroglancer-pt-annotations/\n",
    "    ,\n",
    "    {\n",
    "    \"type\":\"pointAnnotation\",\n",
    "    \"name\": \"soma_val\",\n",
    "    \"points\": []\n",
    "    },\n",
    "    {\n",
    "    \"type\":\"pointAnnotation\",\n",
    "    \"name\": \"nonsoma_val\",\n",
    "    \"points\":[]\n",
    "    }\n",
    "### 1d. Update soma_data.py file"
   ]
  },
  {
   "attachments": {},
   "cell_type": "markdown",
   "metadata": {},
   "source": [
    "### \\* Inputs \\*"
   ]
  },
  {
   "cell_type": "code",
   "execution_count": 2,
   "metadata": {},
   "outputs": [
    {
     "name": "stdout",
     "output_type": "stream",
     "text": [
      "Path to brainlit: /Users/thomasathey/Documents/mimlab/mouselight/brainlit_parent/brainlit\n"
     ]
    }
   ],
   "source": [
    "brainlit_path = Path(os.path.abspath(\"\"))\n",
    "brainlit_path = brainlit_path.parents[1]\n",
    "print(f\"Path to brainlit: {brainlit_path}\")\n",
    "data_file = brainlit_path / \"experiments\" / \"BrainLine\" / \"data\" / \"soma_data.json\"\n",
    "\n",
    "with open(data_file) as f:\n",
    "    data = json.load(f)\n",
    "brain2paths = data[\"brain2paths\"]\n",
    "\n",
    "brain = \"8608\"  # brain ID\n",
    "soma_data_dir = \"/Users/thomasathey/Documents/mimlab/mouselight/ailey/detection_soma/\"  # path to directory where training/validation data should be stored"
   ]
  },
  {
   "attachments": {},
   "cell_type": "markdown",
   "metadata": {},
   "source": [
    "## 2. Download benchmark data"
   ]
  },
  {
   "attachments": {},
   "cell_type": "markdown",
   "metadata": {},
   "source": [
    "### \\*Inputs\\*"
   ]
  },
  {
   "cell_type": "code",
   "execution_count": null,
   "metadata": {},
   "outputs": [],
   "source": [
    "dataset_to_save = \"val\"  # train or val\n",
    "\n",
    "antibody_layer = \"Ch_647\"\n",
    "background_layer = \"Ch_561\"\n",
    "endogenous_layer = \"Ch_488\""
   ]
  },
  {
   "attachments": {},
   "cell_type": "markdown",
   "metadata": {},
   "source": [
    "### Setup paths"
   ]
  },
  {
   "cell_type": "code",
   "execution_count": null,
   "metadata": {},
   "outputs": [],
   "source": [
    "cvol_base = brain2paths[brain][\"base\"]\n",
    "layer_names = [antibody_layer, background_layer, endogenous_layer]"
   ]
  },
  {
   "attachments": {},
   "cell_type": "markdown",
   "metadata": {},
   "source": [
    "### Download data"
   ]
  },
  {
   "cell_type": "code",
   "execution_count": null,
   "metadata": {},
   "outputs": [],
   "source": [
    "download_subvolumes(\n",
    "    soma_data_dir,\n",
    "    brain_id=brain,\n",
    "    layer_names=layer_names,\n",
    "    dataset_to_save=dataset_to_save,\n",
    "    data_file=data_file,\n",
    ")"
   ]
  },
  {
   "attachments": {},
   "cell_type": "markdown",
   "metadata": {},
   "source": [
    "## 3. View downloaded data (optional)"
   ]
  },
  {
   "attachments": {},
   "cell_type": "markdown",
   "metadata": {},
   "source": [
    "### \\*Inputs\\*"
   ]
  },
  {
   "cell_type": "code",
   "execution_count": null,
   "metadata": {},
   "outputs": [],
   "source": [
    "fname = \"/Users/thomasathey/Documents/mimlab/mouselight/ailey/detection_soma/brainr2/val/891_4202_1717_pos.h5\"  # path to file for viewing\n",
    "scale = [1.8, 1.8, 2]  # voxel size in microns"
   ]
  },
  {
   "cell_type": "code",
   "execution_count": null,
   "metadata": {},
   "outputs": [],
   "source": [
    "with h5py.File(fname, \"r\") as f:\n",
    "    pred = f.get(\"image_3channel\")\n",
    "    image_fg = pred[0, :, :, :]\n",
    "    image_bg = pred[1, :, :, :]\n",
    "    image_endo = pred[2, :, :, :]\n",
    "\n",
    "viewer = napari.Viewer(ndisplay=3)\n",
    "viewer.add_image(image_fg, scale=scale)\n",
    "viewer.add_image(image_bg, scale=scale)\n",
    "viewer.add_image(image_endo, scale=scale)\n",
    "viewer.scale_bar.visible = True\n",
    "viewer.scale_bar.unit = \"um\""
   ]
  },
  {
   "attachments": {},
   "cell_type": "markdown",
   "metadata": {},
   "source": [
    "## 4. Apply ilastik to validation data"
   ]
  },
  {
   "attachments": {},
   "cell_type": "markdown",
   "metadata": {},
   "source": [
    "You can do this programmatically (below), or you can use the ilastik GUI (which is sometimes faster)"
   ]
  },
  {
   "attachments": {},
   "cell_type": "markdown",
   "metadata": {},
   "source": [
    "### \\* Inputs \\*"
   ]
  },
  {
   "cell_type": "code",
   "execution_count": 8,
   "metadata": {},
   "outputs": [],
   "source": [
    "model = \"_rabies_pix_3ch\"\n",
    "project_path = f\"/Users/thomasathey/Documents/mimlab/mouselight/ailey/detection_soma/matt_soma{model}.ilp\"  # path to ilastik model to be used\n",
    "dset = \"val\"\n",
    "ilastik_path = (\n",
    "    \"/Applications/ilastik-1.4.0b21-OSX.app/Contents/ilastik-release/run_ilastik.sh\"\n",
    ")\n",
    "brains_path = \"/Users/thomasathey/Documents/mimlab/mouselight/ailey/detection_soma/\"\n",
    "brains = [brain]"
   ]
  },
  {
   "cell_type": "code",
   "execution_count": null,
   "metadata": {},
   "outputs": [],
   "source": [
    "applyilastik = ApplyIlastik(\n",
    "    ilastik_path=ilastik_path,\n",
    "    project_path=project_path,\n",
    "    brains_path=brains_path,\n",
    "    brains=brains,\n",
    ")\n",
    "applyilastik.process_subvols(dset = dset, ncpu=6)\n",
    "# applyilastik.move_results()"
   ]
  },
  {
   "attachments": {},
   "cell_type": "markdown",
   "metadata": {},
   "source": [
    "### \\*Inputs (if relevant)\\*\n",
    "- identify files that have two somas in variable below. Since voxel coordinates are likely to be unique across samples, the file names below do not include sample IDs."
   ]
  },
  {
   "cell_type": "code",
   "execution_count": 9,
   "metadata": {},
   "outputs": [],
   "source": [
    "doubles = [\n",
    "    \"3972_1636_1575_pos_Probabilities.h5\",\n",
    "    \"2867_4336_1296_pos_Probabilities.h5\",\n",
    "    \"2607_1845_1309_pos_Probabilities.h5\",\n",
    "    \"2101_3397_1747_pos_Probabilities.h5\",\n",
    "    \"2011_3452_1911_pos_Probabilities.h5\",\n",
    "    \"2113_3353_1727_pos_Probabilities.h5\",\n",
    "    \"1968_3472_1784_pos_Probabilities.h5\",\n",
    "    \"2589_5825_1626_pos_Probabilities.h5\",\n",
    "    \"2138_4233_2329_pos_Probabilities.h5\",\n",
    "    \"2545_6206_1551_pos_Probabilities.h5\",\n",
    "    \"2568_6047_1553_pos_Probabilities.h5\",\n",
    "    \"2547_6082_1541_pos_Probabilities.h5\",\n",
    "]  # move 2545?"
   ]
  },
  {
   "attachments": {},
   "cell_type": "markdown",
   "metadata": {},
   "source": [
    "## 5. Check Results"
   ]
  },
  {
   "cell_type": "code",
   "execution_count": 10,
   "metadata": {},
   "outputs": [
    {
     "name": "stderr",
     "output_type": "stream",
     "text": [
      "Processing Brains: 100%|██████████| 1/1 [00:04<00:00,  4.25s/it]\n"
     ]
    },
    {
     "name": "stdout",
     "output_type": "stream",
     "text": [
      "If this performance is not adequate, improve model and try again\n",
      "Brain 8608 Validation: 12+ 15-\n"
     ]
    },
    {
     "data": {
      "text/html": [
       "<pre style=\"white-space:pre;overflow-x:auto;line-height:normal;font-family:Menlo,'DejaVu Sans Mono',consolas,'Courier New',monospace\"><span style=\"font-weight: bold\">(&lt;</span><span style=\"color: #ff00ff; text-decoration-color: #ff00ff; font-weight: bold\">Figure</span><span style=\"color: #000000; text-decoration-color: #000000\"> size 576x576 with </span><span style=\"color: #008080; text-decoration-color: #008080; font-weight: bold\">1</span><span style=\"color: #000000; text-decoration-color: #000000\"> Axes</span><span style=\"font-weight: bold\">&gt;</span>, <span style=\"color: #008080; text-decoration-color: #008080; font-weight: bold\">0.8695652173913043</span>, <span style=\"color: #008080; text-decoration-color: #008080; font-weight: bold\">0.18</span><span style=\"font-weight: bold\">)</span>\n",
       "</pre>\n"
      ],
      "text/plain": [
       "\u001b[1m(\u001b[0m\u001b[1m<\u001b[0m\u001b[1;95mFigure\u001b[0m\u001b[39m size 576x576 with \u001b[0m\u001b[1;36m1\u001b[0m\u001b[39m Axes\u001b[0m\u001b[1m>\u001b[0m, \u001b[1;36m0.8695652173913043\u001b[0m, \u001b[1;36m0.18\u001b[0m\u001b[1m)\u001b[0m\n"
      ]
     },
     "metadata": {},
     "output_type": "display_data"
    },
    {
     "data": {
      "image/png": "[encoded data removed]"
     },
     "metadata": {
      "needs_background": "light"
     },
     "output_type": "display_data"
    }
   ],
   "source": [
    "plot_results(\n",
    "    data_dir=soma_data_dir,\n",
    "    brain_ids=brains,\n",
    "    object_type=\"soma\",\n",
    "    positive_channel=0,\n",
    "    dset = dset,\n",
    "    doubles=doubles,\n",
    ")"
   ]
  },
  {
   "cell_type": "code",
   "execution_count": 11,
   "metadata": {},
   "outputs": [
    {
     "name": "stdout",
     "output_type": "stream",
     "text": [
      "*************File: /Users/thomasathey/Documents/mimlab/mouselight/ailey/detection_soma/brain8608/val/2732_1544_1746_neg.h5*********\n",
      "*************File: /Users/thomasathey/Documents/mimlab/mouselight/ailey/detection_soma/brain8608/val/4126_2404_2872_neg.h5*********\n",
      "*************File: /Users/thomasathey/Documents/mimlab/mouselight/ailey/detection_soma/brain8608/val/2395_4300_1170_pos.h5*********\n",
      "area of detected object: 1119\n",
      "*************File: /Users/thomasathey/Documents/mimlab/mouselight/ailey/detection_soma/brain8608/val/4054_3613_2690_neg.h5*********\n",
      "*************File: /Users/thomasathey/Documents/mimlab/mouselight/ailey/detection_soma/brain8608/val/1812_3848_2770_pos.h5*********\n",
      "Soma false negative\n",
      "*************File: /Users/thomasathey/Documents/mimlab/mouselight/ailey/detection_soma/brain8608/val/4746_3584_1754_neg.h5*********\n",
      "*************File: /Users/thomasathey/Documents/mimlab/mouselight/ailey/detection_soma/brain8608/val/3381_965_1447_neg.h5*********\n",
      "*************File: /Users/thomasathey/Documents/mimlab/mouselight/ailey/detection_soma/brain8608/val/4165_3075_1547_neg.h5*********\n",
      "*************File: /Users/thomasathey/Documents/mimlab/mouselight/ailey/detection_soma/brain8608/val/4554_2914_2692_neg.h5*********\n",
      "*************File: /Users/thomasathey/Documents/mimlab/mouselight/ailey/detection_soma/brain8608/val/3189_1891_1278_pos.h5*********\n",
      "area of detected object: 1841\n",
      "*************File: /Users/thomasathey/Documents/mimlab/mouselight/ailey/detection_soma/brain8608/val/3779_1885_1244_pos.h5*********\n",
      "area of detected object: 2193\n",
      "*************File: /Users/thomasathey/Documents/mimlab/mouselight/ailey/detection_soma/brain8608/val/4700_1112_2872_neg.h5*********\n",
      "*************File: /Users/thomasathey/Documents/mimlab/mouselight/ailey/detection_soma/brain8608/val/1712_5225_2870_neg.h5*********\n",
      "*************File: /Users/thomasathey/Documents/mimlab/mouselight/ailey/detection_soma/brain8608/val/2508_4137_2780_pos.h5*********\n",
      "area of detected object: 2578\n",
      "*************File: /Users/thomasathey/Documents/mimlab/mouselight/ailey/detection_soma/brain8608/val/2217_3967_2774_pos.h5*********\n",
      "area of detected object: 2349\n",
      "*************File: /Users/thomasathey/Documents/mimlab/mouselight/ailey/detection_soma/brain8608/val/4834_3643_1750_pos.h5*********\n",
      "area of detected object: 2834\n",
      "*************File: /Users/thomasathey/Documents/mimlab/mouselight/ailey/detection_soma/brain8608/val/1525_4543_1447_neg.h5*********\n",
      "*************File: /Users/thomasathey/Documents/mimlab/mouselight/ailey/detection_soma/brain8608/val/1464_5082_2156_pos.h5*********\n",
      "area of detected object: 2918\n",
      "*************File: /Users/thomasathey/Documents/mimlab/mouselight/ailey/detection_soma/brain8608/val/3273_3323_2164_pos.h5*********\n",
      "area of detected object: 2243\n",
      "*************File: /Users/thomasathey/Documents/mimlab/mouselight/ailey/detection_soma/brain8608/val/3607_1835_2740_neg.h5*********\n",
      "*************File: /Users/thomasathey/Documents/mimlab/mouselight/ailey/detection_soma/brain8608/val/1004_4485_2164_pos.h5*********\n",
      "area of detected object: 1845\n",
      "*************File: /Users/thomasathey/Documents/mimlab/mouselight/ailey/detection_soma/brain8608/val/3954_2236_1250_pos.h5*********\n",
      "area of detected object: 2957\n",
      "*************File: /Users/thomasathey/Documents/mimlab/mouselight/ailey/detection_soma/brain8608/val/3303_1118_2689_neg.h5*********\n",
      "*************File: /Users/thomasathey/Documents/mimlab/mouselight/ailey/detection_soma/brain8608/val/4532_2989_2870_neg.h5*********\n",
      "*************File: /Users/thomasathey/Documents/mimlab/mouselight/ailey/detection_soma/brain8608/val/4123_3128_1755_neg.h5*********\n",
      "*************File: /Users/thomasathey/Documents/mimlab/mouselight/ailey/detection_soma/brain8608/val/2438_3430_2766_neg.h5*********\n",
      "*************File: /Users/thomasathey/Documents/mimlab/mouselight/ailey/detection_soma/brain8608/val/2514_4520_2777_pos.h5*********\n",
      "area of detected object: 1119\n",
      "Soma false positive Area: 1119\n",
      "Soma false negative\n"
     ]
    }
   ],
   "source": [
    "examine_threshold(\n",
    "    data_dir=soma_data_dir,\n",
    "    brain_id=brain,\n",
    "    threshold=0.18,\n",
    "    object_type=\"soma\",\n",
    "    positive_channel=0,\n",
    "    dset = dset,\n",
    "    doubles=doubles,\n",
    ")"
   ]
  },
  {
   "attachments": {},
   "cell_type": "markdown",
   "metadata": {},
   "source": [
    "### Paper figure for all validation"
   ]
  },
  {
   "cell_type": "code",
   "execution_count": null,
   "metadata": {},
   "outputs": [],
   "source": [
    "brain_ids = [\n",
    "    \"8607\",\n",
    "    \"8606\",\n",
    "    \"8477\",\n",
    "    \"8531\",\n",
    "    \"8608\",\n",
    "    \"8529\",\n",
    "    \"r1\",\n",
    "    \"r2\",\n",
    "    \"8446\",\n",
    "    \"8454\",\n",
    "    \"887\",\n",
    "    \"MPRRabies\",\n",
    "    \"969\",\n",
    "    \"910\",\n",
    "]\n",
    "\n",
    "plot_results(\n",
    "    data_dir=soma_data_dir,\n",
    "    brain_ids=brain_ids,\n",
    "    object_type=\"soma\",\n",
    "    positive_channel=0,\n",
    "    doubles=doubles,\n",
    ")"
   ]
  },
  {
   "attachments": {},
   "cell_type": "markdown",
   "metadata": {},
   "source": [
    "## 6. Make Annotation layers"
   ]
  },
  {
   "attachments": {},
   "cell_type": "markdown",
   "metadata": {},
   "source": [
    "### Transformed layers"
   ]
  },
  {
   "cell_type": "code",
   "execution_count": null,
   "metadata": {},
   "outputs": [],
   "source": [
    "atlas_vol = CloudVolume(\n",
    "    \"precomputed://https://open-neurodata.s3.amazonaws.com/ara_2016/sagittal_10um/annotation_10um_2017\"\n",
    ")\n",
    "for layer in [\n",
    "    antibody_layer,\n",
    "    background_layer,\n",
    "]:  # axon_mask is transformed into an image because nearest interpolation doesnt work well after downsampling\n",
    "    layer_path = brain2paths[brain][\"base\"] + layer + \"_transformed\"\n",
    "    info = CloudVolume.create_new_info(\n",
    "        num_channels=1,\n",
    "        layer_type=\"image\",\n",
    "        data_type=\"uint16\",  # Channel images might be 'uint8'\n",
    "        encoding=\"raw\",  # raw, jpeg, compressed_segmentation, fpzip, kempressed\n",
    "        resolution=atlas_vol.resolution,  # Voxel scaling, units are in nanometers\n",
    "        voxel_offset=atlas_vol.voxel_offset,\n",
    "        chunk_size=[32, 32, 32],  # units are voxels\n",
    "        volume_size=atlas_vol.volume_size,  # e.g. a cubic millimeter dataset\n",
    "    )\n",
    "    vol_mask = CloudVolume(layer_path, info=info)\n",
    "    vol_mask.commit_info()"
   ]
  },
  {
   "attachments": {},
   "cell_type": "markdown",
   "metadata": {},
   "source": [
    "## 7. Apply ilastik to whole image"
   ]
  },
  {
   "attachments": {},
   "cell_type": "markdown",
   "metadata": {},
   "source": [
    "### \\* Inputs \\*\n",
    "You can use the notebook code below or the script using `soma_detect_image.py`"
   ]
  },
  {
   "cell_type": "code",
   "execution_count": null,
   "metadata": {},
   "outputs": [],
   "source": [
    "brain = \"test\"\n",
    "antibody_layer = \"antibody\"\n",
    "background_layer = \"background\"\n",
    "endogenous_layer = \"endogenous\"\n",
    "\n",
    "threshold = 0.28  # threshold to use for ilastik\n",
    "data_dir = \"/Users/thomasathey/Documents/mimlab/mouselight/brainlit_parent/brainr_temp/\"  # \"/data/tathey1/matt_wright/brainr_temp/\"  # directory to store temporary subvolumes for segmentation\n",
    "results_dir = \"/Users/thomasathey/Documents/mimlab/mouselight/brainlit_parent/brainr_results/\"  # directory to store coordinates of soma detections\n",
    "\n",
    "# Ilastik will run in \"headless mode\", and the following paths are needed to do so:\n",
    "ilastik_path = \"/Applications/ilastik-1.4.0b21-OSX.app/Contents/ilastik-release/run_ilastik.sh\"  # \"/data/tathey1/matt_wright/ilastik/ilastik-1.4.0rc5-Linux/run_ilastik.sh\"  # path to ilastik executable\n",
    "ilastik_project = \"/Users/thomasathey/Documents/mimlab/mouselight/ailey/detection_soma/matt_soma_rabies_pix_3ch.ilp\"  # \"/data/tathey1/matt_wright/ilastik/soma_model/matt_soma_rabies_pix_3ch.ilp\"  # path to ilastik project\n",
    "\n",
    "max_coords = [3072, 4352, 1792]  # -1 if you want to process the whole dimension\n",
    "ncpu = 1  # 16  # number of cores to use for detection\n",
    "chunk_size = [256, 256, 256]  # [256, 256, 300]"
   ]
  },
  {
   "cell_type": "code",
   "execution_count": null,
   "metadata": {},
   "outputs": [],
   "source": [
    "layer_names = [antibody_layer, background_layer, endogenous_layer]\n",
    "\n",
    "ilastik_largeimage = ApplyIlastik_LargeImage(\n",
    "    ilastik_path=ilastik_path,\n",
    "    ilastik_project=ilastik_project,\n",
    "    results_dir=results_dir,\n",
    "    ncpu=1,\n",
    ")\n",
    "ilastik_largeimage.apply_ilastik_parallel(\n",
    "    brain_id=brain,\n",
    "    layer_names=layer_names,\n",
    "    threshold=threshold,\n",
    "    data_dir=data_dir,\n",
    "    chunk_size=chunk_size,\n",
    "    max_coords=max_coords,\n",
    ")\n",
    "ilastik_largeimage.collect_results(brain_id=\"test\")"
   ]
  },
  {
   "attachments": {},
   "cell_type": "markdown",
   "metadata": {},
   "source": [
    "## 8. Register volume and transform data to atlas space using CloudReg"
   ]
  },
  {
   "attachments": {},
   "cell_type": "markdown",
   "metadata": {},
   "source": [
    "### 8a. You need to find an initial affine alignment using cloudreg.scripts.registration.get_affine_matrix. For example: "
   ]
  },
  {
   "attachments": {},
   "cell_type": "markdown",
   "metadata": {},
   "source": [
    "A link to the ARA parcellation is:\n",
    "\n",
    "`precomputed://https://open-neurodata.s3.amazonaws.com/ara_2016/sagittal_10um/annotation_10um_2017`\n",
    "\n",
    "And some python commands to help with affine alignment is:\n",
    "\n",
    "```\n",
    "from cloudreg.scripts.registration import get_affine_matrix\n",
    "get_affine_matrix([1,1,1], [0,0,0], \"PIR\", \"RPI\", 1.15, \"precomputed://https://open-neurodata.s3.amazonaws.com/ara_2016/sagittal_10um/annotation_10um_2017\")\n",
    "```"
   ]
  },
  {
   "attachments": {},
   "cell_type": "markdown",
   "metadata": {},
   "source": [
    "### 8b. Run registration using cloudreg.scripts.registration. For example:"
   ]
  },
  {
   "attachments": {},
   "cell_type": "markdown",
   "metadata": {},
   "source": [
    "```\n",
    "python -m cloudreg.scripts.registration -input_s3_path precomputed://s3://smartspim-precomputed-volumes/2023_04_25/MS22/Ch_561 --output_s3_path precomputed://s3://smartspim-precomputed-volumes/2023_04_25/MS22/atlas_to_target --atlas_s3_path https://open-neurodata.s3.amazonaws.com/ara_2016/sagittal_50um/average_50um --parcellation_s3_path https://open-neurodata.s3.amazonaws.com/ara_2016/sagittal_10um/annotation_10um_2017 --atlas_orientation PIR -orientation RAI --rotation 0 0 5 --translation 0 0 0 --fixed_scale 1.05 -log_s3_path precomputed://s3://smartspim-precomputed-volumes/2023_04_25/MS22/atlas_to_target --missing_data_correction True --grid_correction False --bias_correction True --regularization 5000.0 --iterations 3000 --registration_resolution 100\n",
    "```"
   ]
  },
  {
   "attachments": {},
   "cell_type": "markdown",
   "metadata": {},
   "source": [
    "### 8c. Transform data to atlas space using CloudReg"
   ]
  },
  {
   "attachments": {},
   "cell_type": "markdown",
   "metadata": {},
   "source": [
    "### Soma coordinates\n",
    "\n",
    "```\n",
    "python -m cloudreg.scripts.transform_points --target_viz_link \"https://viz.neurodata.io/?json_url=https://json.neurodata.io/v1?NGStateID=Fy1xF8FlJM7BcQ\" --atlas_viz_link \"https://ara.viz.neurodata.io/?json_url=https://json.neurodata.io/v1?NGStateID=HvyNDGaPsd1wyg\" --affine_path /mnt/NAS/Neuroglancer\\ Data/2023_04_25/MS22/MS22_Ch_561_registration/downloop_1_A.mat  --velocity_path /mnt/NAS/Neuroglancer\\ Data/2023_04_25/MS22/MS22_Ch_561_registration/downloop_1_v.mat --transformation_direction \"atlas\"\n",
    "```\n",
    "\n",
    "or\n",
    "\n",
    "```\n",
    "python -m cloudreg.scripts.transform_points --target_viz_link https://viz.neurodata.io/?json_url=https://json.neurodata.io/v1?NGStateID=05Fhxt5VBT-_1A --atlas_viz_link https://ara.viz.neurodata.io/?json_url=https://json.neurodata.io/v1?NGStateID=HvyNDGaPsd1wyg --affine_path /cis/home/tathey/MPRRabies_Ch_561_registration/downloop_1_A.mat   --velocity_path /cis/home/tathey/MPRRabies_Ch_561_registration/downloop_1_v.mat  --transformation_direction atlas\n",
    "```\n",
    "\n",
    "This will produce a neuroglancer link with the transformed soma coordinates, which should be added to `soma_data.py` under the `somas_atlas_url` key. Then the code below, or `soma_brainrender.py`, can be used to visualize the data."
   ]
  },
  {
   "attachments": {},
   "cell_type": "markdown",
   "metadata": {},
   "source": [
    "### Image\n",
    "\n",
    "```\n",
    "python -m cloudreg.scripts.transform_data --target_layer_source precomputed://s3://smartspim-precomputed-volumes/2023_03_15/969/Ch_561 --transformed_layer_source precomputed://s3://smartspim-precomputed-volumes/2023_03_15/969/Ch_561_transformed --affine_path /cis/home/tathey/887_Ch_561_registration/downloop_1_A.mat  --velocity_path /cis/home/tathey/887_Ch_561_registration/downloop_1_v.mat\n",
    "```\n",
    "\n",
    "or\n",
    "\n",
    "```\n",
    "python -m cloudreg.scripts.transform_data --target_layer_source precomputed://s3://smartspim-precomputed-volumes/2023_03_15/969/Ch_561 --transformed_layer_source precomputed://s3://smartspim-precomputed-volumes/2023_03_15/969/Ch_561_transformed --affine_path /mnt/NAS/Neuroglancer\\ Data/969_Ch_561_registration/downloop_1_A.mat  --velocity_path /mnt/NAS/Neuroglancer\\ Data/969_Ch_561_registration/downloop_1_v.mat\n",
    "```"
   ]
  },
  {
   "attachments": {},
   "cell_type": "markdown",
   "metadata": {},
   "source": [
    "## 9. View results in brain space"
   ]
  },
  {
   "attachments": {},
   "cell_type": "markdown",
   "metadata": {},
   "source": [
    "### \\*Inputs\\*"
   ]
  },
  {
   "cell_type": "code",
   "execution_count": 7,
   "metadata": {},
   "outputs": [
    {
     "ename": "KeyError",
     "evalue": "'dimensions'",
     "output_type": "error",
     "traceback": [
      "\u001b[0;31m---------------------------------------------------------------------------\u001b[0m",
      "\u001b[0;31mKeyError\u001b[0m                                  Traceback (most recent call last)",
      "\u001b[0;32m/var/folders/fq/9t66hqz51y5ddnygddgjtsmc0000gn/T/ipykernel_58650/946745915.py\u001b[0m in \u001b[0;36m<module>\u001b[0;34m\u001b[0m\n\u001b[1;32m     29\u001b[0m \u001b[0montology_file\u001b[0m \u001b[0;34m=\u001b[0m \u001b[0mbrainlit_path\u001b[0m \u001b[0;34m/\u001b[0m \u001b[0;34m\"BrainLine\"\u001b[0m \u001b[0;34m\"data\"\u001b[0m \u001b[0;34m/\u001b[0m \u001b[0;34m\"ara_structure_ontology.json\"\u001b[0m\u001b[0;34m\u001b[0m\u001b[0;34m\u001b[0m\u001b[0m\n\u001b[1;32m     30\u001b[0m \u001b[0;34m\u001b[0m\u001b[0m\n\u001b[0;32m---> 31\u001b[0;31m sd = SomaDistribution(\n\u001b[0m\u001b[1;32m     32\u001b[0m     \u001b[0mbrain_ids\u001b[0m\u001b[0;34m=\u001b[0m\u001b[0mbrain_ids\u001b[0m\u001b[0;34m,\u001b[0m \u001b[0mdata_file\u001b[0m\u001b[0;34m=\u001b[0m\u001b[0mdata_file\u001b[0m\u001b[0;34m,\u001b[0m \u001b[0montology_file\u001b[0m\u001b[0;34m=\u001b[0m\u001b[0montology_file\u001b[0m\u001b[0;34m,\u001b[0m\u001b[0;34m\u001b[0m\u001b[0;34m\u001b[0m\u001b[0m\n\u001b[1;32m     33\u001b[0m     \u001b[0mbootstrap\u001b[0m\u001b[0;34m=\u001b[0m\u001b[0;36m0\u001b[0m\u001b[0;34m,\u001b[0m \u001b[0mshuffle\u001b[0m\u001b[0;34m=\u001b[0m\u001b[0;32mFalse\u001b[0m\u001b[0;34m\u001b[0m\u001b[0;34m\u001b[0m\u001b[0m\n",
      "\u001b[0;32m~/Documents/mimlab/mouselight/brainlit_parent/brainlit/brainlit/BrainLine/analyze_results.py\u001b[0m in \u001b[0;36m__init__\u001b[0;34m(self, brain_ids, data_file, ontology_file, show_plots, bootstrap, shuffle)\u001b[0m\n\u001b[1;32m    129\u001b[0m         \u001b[0mself\u001b[0m\u001b[0;34m.\u001b[0m\u001b[0mshow_plots\u001b[0m \u001b[0;34m=\u001b[0m \u001b[0mshow_plots\u001b[0m\u001b[0;34m\u001b[0m\u001b[0;34m\u001b[0m\u001b[0m\n\u001b[1;32m    130\u001b[0m \u001b[0;34m\u001b[0m\u001b[0m\n\u001b[0;32m--> 131\u001b[0;31m         \u001b[0matlas_points\u001b[0m \u001b[0;34m=\u001b[0m \u001b[0mself\u001b[0m\u001b[0;34m.\u001b[0m\u001b[0m_retrieve_soma_coords\u001b[0m\u001b[0;34m(\u001b[0m\u001b[0mbrain_ids\u001b[0m\u001b[0;34m)\u001b[0m\u001b[0;34m\u001b[0m\u001b[0;34m\u001b[0m\u001b[0m\n\u001b[0m\u001b[1;32m    132\u001b[0m         \u001b[0mself\u001b[0m\u001b[0;34m.\u001b[0m\u001b[0matlas_points\u001b[0m \u001b[0;34m=\u001b[0m \u001b[0matlas_points\u001b[0m\u001b[0;34m\u001b[0m\u001b[0;34m\u001b[0m\u001b[0m\n\u001b[1;32m    133\u001b[0m \u001b[0;34m\u001b[0m\u001b[0m\n",
      "\u001b[0;32m~/Documents/mimlab/mouselight/brainlit_parent/brainlit/brainlit/BrainLine/analyze_results.py\u001b[0m in \u001b[0;36m_retrieve_soma_coords\u001b[0;34m(self, brain_ids)\u001b[0m\n\u001b[1;32m    192\u001b[0m             \u001b[0;32melif\u001b[0m \u001b[0;34m\"somas_atlas_url\"\u001b[0m \u001b[0;32min\u001b[0m \u001b[0mbrain2paths\u001b[0m\u001b[0;34m[\u001b[0m\u001b[0mbrain_id\u001b[0m\u001b[0;34m]\u001b[0m\u001b[0;34m.\u001b[0m\u001b[0mkeys\u001b[0m\u001b[0;34m(\u001b[0m\u001b[0;34m)\u001b[0m\u001b[0;34m:\u001b[0m\u001b[0;34m\u001b[0m\u001b[0;34m\u001b[0m\u001b[0m\n\u001b[1;32m    193\u001b[0m                 \u001b[0mviz_link\u001b[0m \u001b[0;34m=\u001b[0m \u001b[0mbrain2paths\u001b[0m\u001b[0;34m[\u001b[0m\u001b[0mbrain_id\u001b[0m\u001b[0;34m]\u001b[0m\u001b[0;34m[\u001b[0m\u001b[0;34m\"somas_atlas_url\"\u001b[0m\u001b[0;34m]\u001b[0m\u001b[0;34m\u001b[0m\u001b[0;34m\u001b[0m\u001b[0m\n\u001b[0;32m--> 194\u001b[0;31m                 \u001b[0mviz_link\u001b[0m \u001b[0;34m=\u001b[0m \u001b[0mNGLink\u001b[0m\u001b[0;34m(\u001b[0m\u001b[0mviz_link\u001b[0m\u001b[0;34m.\u001b[0m\u001b[0msplit\u001b[0m\u001b[0;34m(\u001b[0m\u001b[0;34m\"json_url=\"\u001b[0m\u001b[0;34m)\u001b[0m\u001b[0;34m[\u001b[0m\u001b[0;34m-\u001b[0m\u001b[0;36m1\u001b[0m\u001b[0;34m]\u001b[0m\u001b[0;34m)\u001b[0m\u001b[0;34m\u001b[0m\u001b[0;34m\u001b[0m\u001b[0m\n\u001b[0m\u001b[1;32m    195\u001b[0m                 \u001b[0mngl_json\u001b[0m \u001b[0;34m=\u001b[0m \u001b[0mviz_link\u001b[0m\u001b[0;34m.\u001b[0m\u001b[0m_json\u001b[0m\u001b[0;34m\u001b[0m\u001b[0;34m\u001b[0m\u001b[0m\n\u001b[1;32m    196\u001b[0m                 \u001b[0;32mfor\u001b[0m \u001b[0mlayer\u001b[0m \u001b[0;32min\u001b[0m \u001b[0mngl_json\u001b[0m\u001b[0;34m[\u001b[0m\u001b[0;34m\"layers\"\u001b[0m\u001b[0;34m]\u001b[0m\u001b[0;34m:\u001b[0m\u001b[0;34m\u001b[0m\u001b[0;34m\u001b[0m\u001b[0m\n",
      "\u001b[0;32m~/Documents/mimlab/mouselight/cloud_reg_parent/CloudReg/cloudreg/scripts/transform_points.py\u001b[0m in \u001b[0;36m__init__\u001b[0;34m(self, json_link)\u001b[0m\n\u001b[1;32m     30\u001b[0m         \u001b[0mself\u001b[0m\u001b[0;34m.\u001b[0m\u001b[0mpoints\u001b[0m \u001b[0;34m=\u001b[0m \u001b[0mdefaultdict\u001b[0m\u001b[0;34m(\u001b[0m\u001b[0;32mlambda\u001b[0m\u001b[0;34m:\u001b[0m \u001b[0;34m\"\"\u001b[0m\u001b[0;34m)\u001b[0m\u001b[0;34m\u001b[0m\u001b[0;34m\u001b[0m\u001b[0m\n\u001b[1;32m     31\u001b[0m         \u001b[0mself\u001b[0m\u001b[0;34m.\u001b[0m\u001b[0mjson_link\u001b[0m \u001b[0;34m=\u001b[0m \u001b[0mjson_link\u001b[0m\u001b[0;34m\u001b[0m\u001b[0;34m\u001b[0m\u001b[0m\n\u001b[0;32m---> 32\u001b[0;31m         \u001b[0mself\u001b[0m\u001b[0;34m.\u001b[0m\u001b[0m_set_json_from_link\u001b[0m\u001b[0;34m(\u001b[0m\u001b[0;34m)\u001b[0m\u001b[0;34m\u001b[0m\u001b[0;34m\u001b[0m\u001b[0m\n\u001b[0m\u001b[1;32m     33\u001b[0m \u001b[0;34m\u001b[0m\u001b[0m\n\u001b[1;32m     34\u001b[0m     \u001b[0;32mdef\u001b[0m \u001b[0mget_annotations\u001b[0m\u001b[0;34m(\u001b[0m\u001b[0mself\u001b[0m\u001b[0;34m,\u001b[0m \u001b[0mpoints\u001b[0m\u001b[0;34m,\u001b[0m \u001b[0mdesc\u001b[0m\u001b[0;34m=\u001b[0m\u001b[0;32mTrue\u001b[0m\u001b[0;34m)\u001b[0m\u001b[0;34m:\u001b[0m\u001b[0;34m\u001b[0m\u001b[0;34m\u001b[0m\u001b[0m\n",
      "\u001b[0;32m~/Documents/mimlab/mouselight/cloud_reg_parent/CloudReg/cloudreg/scripts/transform_points.py\u001b[0m in \u001b[0;36m_set_json_from_link\u001b[0;34m(self)\u001b[0m\n\u001b[1;32m     53\u001b[0m     \u001b[0;32mdef\u001b[0m \u001b[0m_set_json_from_link\u001b[0m\u001b[0;34m(\u001b[0m\u001b[0mself\u001b[0m\u001b[0;34m)\u001b[0m\u001b[0;34m:\u001b[0m\u001b[0;34m\u001b[0m\u001b[0;34m\u001b[0m\u001b[0m\n\u001b[1;32m     54\u001b[0m         \u001b[0mself\u001b[0m\u001b[0;34m.\u001b[0m\u001b[0m_json\u001b[0m \u001b[0;34m=\u001b[0m \u001b[0mr\u001b[0m\u001b[0;34m.\u001b[0m\u001b[0mget\u001b[0m\u001b[0;34m(\u001b[0m\u001b[0mself\u001b[0m\u001b[0;34m.\u001b[0m\u001b[0mjson_link\u001b[0m\u001b[0;34m)\u001b[0m\u001b[0;34m.\u001b[0m\u001b[0mjson\u001b[0m\u001b[0;34m(\u001b[0m\u001b[0;34m)\u001b[0m\u001b[0;34m\u001b[0m\u001b[0;34m\u001b[0m\u001b[0m\n\u001b[0;32m---> 55\u001b[0;31m         \u001b[0mself\u001b[0m\u001b[0;34m.\u001b[0m\u001b[0m_parse_voxel_size\u001b[0m\u001b[0;34m(\u001b[0m\u001b[0;34m)\u001b[0m\u001b[0;34m\u001b[0m\u001b[0;34m\u001b[0m\u001b[0m\n\u001b[0m\u001b[1;32m     56\u001b[0m         \u001b[0mself\u001b[0m\u001b[0;34m.\u001b[0m\u001b[0moutput_dim\u001b[0m \u001b[0;34m=\u001b[0m \u001b[0;34m[\u001b[0m\u001b[0mself\u001b[0m\u001b[0;34m.\u001b[0m\u001b[0m_json\u001b[0m\u001b[0;34m[\u001b[0m\u001b[0;34m\"dimensions\"\u001b[0m\u001b[0;34m]\u001b[0m\u001b[0;34m[\u001b[0m\u001b[0mi\u001b[0m\u001b[0;34m]\u001b[0m \u001b[0;32mfor\u001b[0m \u001b[0mi\u001b[0m \u001b[0;32min\u001b[0m \u001b[0mself\u001b[0m\u001b[0;34m.\u001b[0m\u001b[0m_json\u001b[0m\u001b[0;34m[\u001b[0m\u001b[0;34m\"dimensions\"\u001b[0m\u001b[0;34m]\u001b[0m\u001b[0;34m.\u001b[0m\u001b[0mkeys\u001b[0m\u001b[0;34m(\u001b[0m\u001b[0;34m)\u001b[0m\u001b[0;34m]\u001b[0m\u001b[0;34m\u001b[0m\u001b[0;34m\u001b[0m\u001b[0m\n\u001b[1;32m     57\u001b[0m         \u001b[0mself\u001b[0m\u001b[0;34m.\u001b[0m\u001b[0mlayers\u001b[0m \u001b[0;34m=\u001b[0m \u001b[0;34m[\u001b[0m\u001b[0mself\u001b[0m\u001b[0;34m.\u001b[0m\u001b[0m_parse_layer\u001b[0m\u001b[0;34m(\u001b[0m\u001b[0mi\u001b[0m\u001b[0;34m)\u001b[0m \u001b[0;32mfor\u001b[0m \u001b[0mi\u001b[0m \u001b[0;32min\u001b[0m \u001b[0mself\u001b[0m\u001b[0;34m.\u001b[0m\u001b[0m_json\u001b[0m\u001b[0;34m[\u001b[0m\u001b[0;34m\"layers\"\u001b[0m\u001b[0;34m]\u001b[0m\u001b[0;34m]\u001b[0m\u001b[0;34m\u001b[0m\u001b[0;34m\u001b[0m\u001b[0m\n",
      "\u001b[0;32m~/Documents/mimlab/mouselight/cloud_reg_parent/CloudReg/cloudreg/scripts/transform_points.py\u001b[0m in \u001b[0;36m_parse_voxel_size\u001b[0;34m(self)\u001b[0m\n\u001b[1;32m     92\u001b[0m \u001b[0;34m\u001b[0m\u001b[0m\n\u001b[1;32m     93\u001b[0m     \u001b[0;32mdef\u001b[0m \u001b[0m_parse_voxel_size\u001b[0m\u001b[0;34m(\u001b[0m\u001b[0mself\u001b[0m\u001b[0;34m)\u001b[0m\u001b[0;34m:\u001b[0m\u001b[0;34m\u001b[0m\u001b[0;34m\u001b[0m\u001b[0m\n\u001b[0;32m---> 94\u001b[0;31m         \u001b[0mdims\u001b[0m \u001b[0;34m=\u001b[0m \u001b[0mself\u001b[0m\u001b[0;34m.\u001b[0m\u001b[0m_json\u001b[0m\u001b[0;34m[\u001b[0m\u001b[0;34m\"dimensions\"\u001b[0m\u001b[0;34m]\u001b[0m\u001b[0;34m\u001b[0m\u001b[0;34m\u001b[0m\u001b[0m\n\u001b[0m\u001b[1;32m     95\u001b[0m         \u001b[0mx_size_m\u001b[0m\u001b[0;34m,\u001b[0m \u001b[0my_size_m\u001b[0m\u001b[0;34m,\u001b[0m \u001b[0mz_size_m\u001b[0m \u001b[0;34m=\u001b[0m \u001b[0mdims\u001b[0m\u001b[0;34m[\u001b[0m\u001b[0;34m\"x\"\u001b[0m\u001b[0;34m]\u001b[0m\u001b[0;34m[\u001b[0m\u001b[0;36m0\u001b[0m\u001b[0;34m]\u001b[0m\u001b[0;34m,\u001b[0m \u001b[0mdims\u001b[0m\u001b[0;34m[\u001b[0m\u001b[0;34m\"y\"\u001b[0m\u001b[0;34m]\u001b[0m\u001b[0;34m[\u001b[0m\u001b[0;36m0\u001b[0m\u001b[0;34m]\u001b[0m\u001b[0;34m,\u001b[0m \u001b[0mdims\u001b[0m\u001b[0;34m[\u001b[0m\u001b[0;34m\"z\"\u001b[0m\u001b[0;34m]\u001b[0m\u001b[0;34m[\u001b[0m\u001b[0;36m0\u001b[0m\u001b[0;34m]\u001b[0m\u001b[0;34m\u001b[0m\u001b[0;34m\u001b[0m\u001b[0m\n\u001b[1;32m     96\u001b[0m         \u001b[0;31m# converting from m to um\u001b[0m\u001b[0;34m\u001b[0m\u001b[0;34m\u001b[0m\u001b[0;34m\u001b[0m\u001b[0m\n",
      "\u001b[0;31mKeyError\u001b[0m: 'dimensions'"
     ]
    }
   ],
   "source": [
    "brain_ids = [\n",
    "    \"8557\", # before aug 2022, - gone\n",
    "    \"8555\", # before aug 2022 - unmapped\n",
    "    \"8607\", # before aug 2022 - json\n",
    "    \"8606\", # before aug 2022 - json\n",
    "    # \"8477\",\n",
    "    # \"8531\",\n",
    "    \"8608\", # before aug 2022 - unmapped\n",
    "    # \"8529\",\n",
    "    # \"8454\",\n",
    "    \"MPRRabies\", # unmapped, got registration\n",
    "    \"969\", # unmapped\n",
    "    \"892\", # json\n",
    "    \"MS37\", # unmapped\n",
    "    \"MS36\", # unmapped\n",
    "    \"MS25\", # json\n",
    "    \"MS23\", # unmapped\n",
    "    \"MS22\", # gone\n",
    "]\n",
    "\n",
    "colors = {\n",
    "    \"tph2 vglut3\": \"blue\",\n",
    "    \"tph2 gad2\": \"red\",\n",
    "    \"gad2 vgat\": \"green\",\n",
    "}  # colors for different genotypes\n",
    "symbols = [\"arrow\", \"clobber\", \"cross\", \"diamond\", \"disc\", \"hbar\", \"ring\",\n",
    "        \"square\", \"star\", \"tailed_arrow\", \"triangle_down\", \"triangle_up\", \"vbar\", \"x\"]\n",
    "fold_on = False\n",
    "ontology_file = brainlit_path / \"BrainLine\" \"data\" / \"ara_structure_ontology.json\"\n",
    "\n",
    "sd = SomaDistribution(\n",
    "    brain_ids=brain_ids, data_file=data_file, ontology_file=ontology_file,\n",
    "    bootstrap=0, shuffle=False\n",
    ")"
   ]
  },
  {
   "cell_type": "code",
   "execution_count": 7,
   "metadata": {},
   "outputs": [
    {
     "data": {
      "text/html": [
       "<pre style=\"white-space:pre;overflow-x:auto;line-height:normal;font-family:Menlo,'DejaVu Sans Mono',consolas,'Courier New',monospace\"><span style=\"color: #800080; text-decoration-color: #800080; font-weight: bold\">array</span><span style=\"font-weight: bold\">([</span><span style=\"color: #008080; text-decoration-color: #008080; font-weight: bold\">1276.19226074</span>,  <span style=\"color: #008080; text-decoration-color: #008080; font-weight: bold\">712.27258301</span>, <span style=\"color: #008080; text-decoration-color: #008080; font-weight: bold\">1026.43969727</span><span style=\"font-weight: bold\">])</span>\n",
       "</pre>\n"
      ],
      "text/plain": [
       "\u001b[1;35marray\u001b[0m\u001b[1m(\u001b[0m\u001b[1m[\u001b[0m\u001b[1;36m1276.19226074\u001b[0m,  \u001b[1;36m712.27258301\u001b[0m, \u001b[1;36m1026.43969727\u001b[0m\u001b[1m]\u001b[0m\u001b[1m)\u001b[0m\n"
      ]
     },
     "metadata": {},
     "output_type": "display_data"
    }
   ],
   "source": [
    "np.amax(sd.atlas_points['8555'], axis=0)"
   ]
  },
  {
   "cell_type": "code",
   "execution_count": null,
   "metadata": {},
   "outputs": [],
   "source": [
    "sd.napari_coronal_section(\n",
    "        z=800, subtype_colors=colors, symbols=symbols, fold_on=True\n",
    "    )"
   ]
  },
  {
   "cell_type": "code",
   "execution_count": null,
   "metadata": {},
   "outputs": [],
   "source": [
    "z_size = 1320\n",
    "for z in tqdm(np.arange(200, z_size, 200)):\n",
    "    sd.napari_coronal_section(\n",
    "        z=z, subtype_colors=colors, symbols=symbols, fold_on=True\n",
    "    )"
   ]
  },
  {
   "cell_type": "code",
   "execution_count": null,
   "metadata": {},
   "outputs": [],
   "source": [
    "dir = \"/Users/thomasathey/Documents/mimlab/mouselight/ailey/matt-coronals/\"\n",
    "z_size = 1320\n",
    "\n",
    "for z in tqdm(np.arange(50, z_size, 50)):\n",
    "    fname = dir + f\"{brain}_{z}.tif\"\n",
    "    v = sd.napari_coronal_section(\n",
    "        z=z, subtype_colors=colors, symbols=symbols, fold_on=False\n",
    "    )\n",
    "    im = v.screenshot(canvas_only=False)\n",
    "    io.imsave(fname, im)"
   ]
  },
  {
   "cell_type": "code",
   "execution_count": null,
   "metadata": {},
   "outputs": [],
   "source": [
    "sd.brainrender_somas(subtype_colors=colors)"
   ]
  },
  {
   "cell_type": "markdown",
   "metadata": {},
   "source": [
    "### DCorr test"
   ]
  },
  {
   "cell_type": "code",
   "execution_count": null,
   "metadata": {},
   "outputs": [],
   "source": [
    "sd.dcorr_test(subtype1 = \"tph2 gad2\", subtype2 = \"tph2 vglut3\", bin_size = [250,250,250])\n",
    "sd.dcorr_test(subtype1 = \"tph2 gad2\", subtype2 = \"gad2 vgat\", bin_size = [250,250,250])\n",
    "sd.dcorr_test(subtype1 = \"gad2 vgat\", subtype2 = \"tph2 vglut3\", bin_size = [250,250,250])"
   ]
  },
  {
   "cell_type": "markdown",
   "metadata": {},
   "source": [
    "### Cluster Perm Test"
   ]
  },
  {
   "cell_type": "code",
   "execution_count": null,
   "metadata": {},
   "outputs": [],
   "source": [
    "brain2paths = sd.brain2paths\n",
    "\n",
    "if \"filepath\" in brain2paths[\"atlas\"].keys():\n",
    "    vol_atlas = io.imread(brain2paths[\"atlas\"][\"filepath\"])"
   ]
  },
  {
   "cell_type": "code",
   "execution_count": null,
   "metadata": {},
   "outputs": [
    {
     "name": "stdout",
     "output_type": "stream",
     "text": [
      "(4, 7, 14): 2.07e-05 vs 4.35e-04 stat: -2.30e+00\n",
      "(5, 7, 9): 8.44e-05 vs 1.57e-03 stat: -3.56e+00\n",
      "(5, 7, 10): 2.12e-04 vs 1.25e-03 stat: -2.70e+00\n",
      "(5, 8, 8): 2.32e-04 vs 1.65e-03 stat: -2.56e+00\n",
      "(5, 8, 9): 0.00e+00 vs 4.35e-04 stat: -2.46e+00\n",
      "(6, 4, 10): 4.98e-05 vs 8.42e-04 stat: -1.06e+01\n",
      "(6, 5, 10): 1.28e-04 vs 1.04e-03 stat: -7.09e+00\n",
      "(6, 5, 11): 1.71e-04 vs 1.03e-03 stat: -2.28e+00\n",
      "(6, 5, 14): 1.59e-04 vs 8.96e-04 stat: -2.67e+00\n",
      "(6, 9, 14): 1.04e-05 vs 4.35e-04 stat: -2.39e+00\n",
      "(7, 5, 9): 1.70e-05 vs 2.29e-04 stat: -2.60e+00\n",
      "(7, 6, 11): 3.19e-05 vs 1.11e-03 stat: -3.08e+00\n",
      "(7, 6, 12): 3.09e-05 vs 3.60e-04 stat: -2.62e+00\n",
      "(7, 7, 11): 1.83e-05 vs 6.99e-04 stat: -3.75e+00\n",
      "(8, 8, 16): 0.00e+00 vs 1.15e-04 stat: -2.89e+00\n",
      "(9, 12, 11): 3.20e-05 vs 7.48e-04 stat: -2.95e+00\n",
      "(10, 12, 15): 1.74e-04 vs 8.62e-04 stat: -3.41e+00\n",
      "(12, 1, 10): 6.62e-06 vs 4.35e-04 stat: -2.42e+00\n",
      "(12, 13, 10): 2.44e-04 vs 9.86e-04 stat: -3.31e+00\n",
      "(14, 6, 10): 1.60e-04 vs 1.03e-03 stat: -2.60e+00\n",
      "(18, 8, 14): 3.17e-03 vs 1.39e-03 stat:  3.01e+00\n",
      "(19, 7, 10): 2.70e-03 vs 2.42e-04 stat:  2.40e+00\n",
      "(19, 8, 11): 2.67e-03 vs 4.56e-04 stat:  2.61e+00\n",
      "(19, 9, 13): 1.24e-03 vs 2.85e-03 stat: -2.73e+00\n",
      "(20, 4, 8): 3.92e-04 vs 1.53e-03 stat: -2.27e+00\n",
      "(20, 4, 9): 1.24e-03 vs 7.30e-03 stat: -3.28e+00\n",
      "(20, 6, 16): 6.36e-05 vs 4.09e-04 stat: -2.59e+00\n",
      "(21, 4, 14): 1.81e-04 vs 1.92e-03 stat: -2.49e+00\n",
      "(21, 5, 14): 4.14e-04 vs 3.19e-03 stat: -2.59e+00\n",
      "(21, 6, 8): 4.36e-04 vs 1.36e-03 stat: -2.53e+00\n",
      "(21, 6, 13): 2.39e-03 vs 7.01e-03 stat: -2.79e+00\n",
      "(21, 6, 14): 1.51e-03 vs 3.55e-03 stat: -2.39e+00\n",
      "(21, 7, 15): 2.49e-04 vs 1.45e-03 stat: -3.46e+00\n",
      "(22, 4, 10): 5.27e-05 vs 4.82e-04 stat: -2.41e+00\n",
      "(22, 5, 12): 2.60e-05 vs 9.53e-04 stat: -2.68e+00\n",
      "(22, 6, 14): 2.57e-04 vs 1.83e-03 stat: -2.64e+00\n",
      "(22, 7, 10): 5.83e-04 vs 3.26e-03 stat: -3.09e+00\n",
      "(22, 7, 12): 3.80e-04 vs 1.39e-03 stat: -2.31e+00\n",
      "(22, 7, 14): 5.50e-04 vs 4.56e-03 stat: -3.22e+00\n",
      "(23, 8, 13): 1.26e-04 vs 5.64e-04 stat: -2.47e+00\n",
      "(23, 9, 17): 5.72e-05 vs 1.20e-03 stat: -3.20e+00\n"
     ]
    },
    {
     "data": {
      "image/png": "[encoded data removed]"
     },
     "metadata": {
      "needs_background": "light"
     },
     "output_type": "display_data"
    }
   ],
   "source": [
    "from itertools import combinations\n",
    "from scipy.stats import ttest_ind\n",
    "from skimage import measure\n",
    "\n",
    "group0 = \"tph2 gad2\"\n",
    "group1 = \"tph2 vglut3\"\n",
    "\n",
    "block_sz = 500 # microns\n",
    "props_shp = np.multiply(vol_atlas.shape, 10/block_sz).astype('int')\n",
    "\n",
    "def partition_somas(id):\n",
    "    props_mm = np.zeros(props_shp)\n",
    "    points = sd.atlas_points[id]\n",
    "    points = np.round(points*10 / block_sz).astype('int')\n",
    "    for pt in points:\n",
    "        if np.all(pt < props_shp):\n",
    "            props_mm[pt[0], pt[1], pt[2]] += 1\n",
    "\n",
    "    props_mm /= points.shape[0]\n",
    "    return props_mm\n",
    "\n",
    "ids = []\n",
    "groups = []\n",
    "props_mms = {}\n",
    "\n",
    "for brain_id in sd.brain_ids:\n",
    "    if sd.brain2paths[brain_id][\"subtype\"] == group0:\n",
    "        ids.append(brain_id)\n",
    "        groups.append(0)\n",
    "        props_mms[brain_id] = partition_somas(brain_id)\n",
    "    if sd.brain2paths[brain_id][\"subtype\"] == group1:\n",
    "        ids.append(brain_id)\n",
    "        groups.append(1)\n",
    "        props_mms[brain_id] = partition_somas(brain_id)\n",
    "\n",
    "combos = list(combinations(ids, np.sum(groups)))\n",
    "\n",
    "def compute_stat(combo, return_stats=False, verbose=False):\n",
    "    t_stats = np.zeros(props_shp)\n",
    "    for ix, iy, iz in np.ndindex(t_stats.shape):\n",
    "        sample0 = []\n",
    "        sample1 = []\n",
    "        for id in ids:\n",
    "            if id in combo:\n",
    "                sample1.append(props_mms[id][ix, iy, iz])\n",
    "            else:\n",
    "                sample0.append(props_mms[id][ix, iy, iz])\n",
    "        result = ttest_ind(sample0, sample1)\n",
    "        if result.pvalue < 0.05:\n",
    "            if verbose:\n",
    "                print(f\"{(ix, iy, iz)}: {np.mean(sample0):.2e} vs {np.mean(sample1):.2e} stat: {result.statistic : .2e}\")\n",
    "            t_stats[ix,iy,iz] = result.statistic\n",
    "    \n",
    "    t_stats_pos = np.copy(t_stats)\n",
    "    t_stats_pos[t_stats_pos <= 0] = 0\n",
    "    t_stats_neg = np.copy(t_stats)\n",
    "    t_stats_neg[t_stats_neg >= 0] = 0\n",
    "    t_stats_neg *= -1\n",
    "\n",
    "    sums = []\n",
    "    for t_stats_side in [t_stats_pos, t_stats_neg]:\n",
    "        labels, num = measure.label(t_stats_side > 0, return_num=True)\n",
    "        for label in range(num):\n",
    "            sums.append(np.sum(t_stats_side[labels == label]))\n",
    "\n",
    "    if return_stats:\n",
    "        return np.amax(sums), t_stats\n",
    "    else:\n",
    "        return np.amax(sums)\n",
    "\n",
    "\n",
    "# stats = []\n",
    "# for combo in tqdm(combos):\n",
    "#     stats.append(compute_stat(combo))\n",
    "\n",
    "combo_obs = [id for id, group in zip(ids, groups) if group == 1]\n",
    "stat_obs, t_stats = compute_stat(combo_obs, return_stats=True, verbose=True)\n",
    "\n",
    "pval = np.sum(stats > stat_obs)/len(stats)\n",
    "\n",
    "fig, ax = plt.subplots(1, 1)\n",
    "ax.hist(stats)\n",
    "ax.plot([stat_obs, stat_obs], [0, 80], c=\"r\", label=f\"pval={pval:.2f}\")\n",
    "ax.set_title(f\"{group0} vs {group1} w/{len(combos)} permutations\")\n",
    "ax.legend()\n",
    "\n",
    "fig.set_figheight(5)\n",
    "fig.set_figwidth(8)"
   ]
  },
  {
   "cell_type": "code",
   "execution_count": 4,
   "metadata": {},
   "outputs": [
    {
     "ename": "NameError",
     "evalue": "name 'sd' is not defined",
     "output_type": "error",
     "traceback": [
      "\u001b[0;31m---------------------------------------------------------------------------\u001b[0m",
      "\u001b[0;31mNameError\u001b[0m                                 Traceback (most recent call last)",
      "\u001b[0;32m/var/folders/fq/9t66hqz51y5ddnygddgjtsmc0000gn/T/ipykernel_58650/1559927158.py\u001b[0m in \u001b[0;36m<module>\u001b[0;34m\u001b[0m\n\u001b[0;32m----> 1\u001b[0;31m \u001b[0msd\u001b[0m\u001b[0;34m.\u001b[0m\u001b[0matlas_points\u001b[0m\u001b[0;34m\u001b[0m\u001b[0;34m\u001b[0m\u001b[0m\n\u001b[0m",
      "\u001b[0;31mNameError\u001b[0m: name 'sd' is not defined"
     ]
    }
   ],
   "source": [
    "sd.atlas_points"
   ]
  },
  {
   "cell_type": "code",
   "execution_count": null,
   "metadata": {},
   "outputs": [
    {
     "name": "stderr",
     "output_type": "stream",
     "text": [
      "Relabeling slice: 100%|██████████| 80/80 [00:00<00:00, 344.72it/s]\n",
      "Processing labels: 100%|██████████| 92/92 [00:01<00:00, 86.33it/s]\n"
     ]
    },
    {
     "name": "stderr",
     "output_type": "stream",
     "text": [
      "2023-09-26 17:35:41.144 Python[44423:6673626] +[CATransaction synchronize] called within transaction\n",
      "2023-09-26 17:35:41.301 Python[44423:6673626] +[CATransaction synchronize] called within transaction\n"
     ]
    }
   ],
   "source": [
    "z = 1000\n",
    "\n",
    "slice = np.squeeze(vol_atlas[z, :, :])  \n",
    "newslice, borders, half_width = sd._slicetolabels(slice, fold_on=False)\n",
    "\n",
    "v = napari.Viewer()\n",
    "v.add_image(t_stats[int(z*10/block_sz),:,:], scale=[block_sz, block_sz], name=f\"t-stat\")\n",
    "\n",
    "props_mms_0 = np.zeros(props_shp[1:])\n",
    "props_mms_1 = np.zeros(props_shp[1:])\n",
    "\n",
    "for id, group in zip(ids, groups):\n",
    "    if group == 0:\n",
    "        props_mms_0 += props_mms[id][int(z*10/block_sz),:,:]\n",
    "    else:\n",
    "        props_mms_1 += props_mms[id][int(z*10/block_sz),:,:]\n",
    "\n",
    "props_mms_0 /= (len(ids) - np.sum(groups))\n",
    "props_mms_1 /= np.sum(groups)\n",
    "\n",
    "v.add_image(props_mms_0-props_mms_1, scale=[block_sz, block_sz], name=f\"group 0 - group1 av\")\n",
    "v.add_labels(borders * 2, scale=[10, 10], name=f\"atlas z={z}\")\n",
    "\n",
    "napari.run()"
   ]
  },
  {
   "attachments": {},
   "cell_type": "markdown",
   "metadata": {},
   "source": [
    "## 10. Display bar charts"
   ]
  },
  {
   "cell_type": "code",
   "execution_count": null,
   "metadata": {},
   "outputs": [],
   "source": [
    "regions_coarse_part = [ # 8 regions from Weissbound et al., 2014\n",
    "    688, # cerebral cortex\n",
    "    1097,\n",
    "    549,\n",
    "    354,\n",
    "    512,\n",
    "    477\n",
    "]\n",
    "\n",
    "regions_coarse = [\n",
    "    688,\n",
    "    1097,\n",
    "    549,\n",
    "    354,\n",
    "    512,\n",
    "    477,\n",
    "    1089,\n",
    "    313 # midbrain\n",
    "]\n",
    "\n",
    "regions_fine = [\n",
    "    95,  # agranular insular area\n",
    "    500, # somatomotor\n",
    "    714,  # orbital area\n",
    "    972,  # prelimbic\n",
    "    453, # somatosensory\n",
    "    44,  # infralimbic\n",
    "    186,  # lateral habenula\n",
    "    149, #paraventricular nucleus of thalamus (part of polymodal assoc cortex)\n",
    "    864, # sensorimotor thalamus\n",
    "    519, #cerebellar nuclei\n",
    "    528, #cerebellar cortex\n",
    "    290,  # hypothalamic lateral zone\n",
    "    141, #periventricular region (preoptic nuclei)\n",
    "    946, #posterior hypothalamic nucleus\n",
    "    797,  # zona incerta\n",
    "    331,  # mammillary body\n",
    "    364, #parasubthalamic nucleus\n",
    "    38, #paraventricular hypothalamic nucleus\n",
    "    223, #arcuate hypothalamic nucleus\n",
    "    80, #anterior hypothal nucleus\n",
    "    830, #dorsomedial hypothal nuc.\n",
    "    693, #ventromedial hypothal nuc.\n",
    "    470, #subthalamic n\n",
    "    286, #suprachiasmatic n\n",
    "    351,  # bed nuclei of stria terminalis\n",
    "    536, #central amygdala\n",
    "    323, #midbrain - motor\n",
    "    339, #midbrain - sensory\n",
    "    348, #midbrain - behavioral state\n",
    "]\n",
    "\n",
    "regions = [\n",
    "    500, # somatomotor\n",
    "    453, # somatosensory\n",
    "    972,  # prelimbic\n",
    "    44,  # infralimbic\n",
    "    477,\n",
    "    1089,\n",
    "    1097, # hypothalamus\n",
    "    549, # thalamus\n",
    "    186,  # lateral habenula\n",
    "    351,  # bed nuclei of stria terminalis\n",
    "    313, # midbrain\n",
    "    512, # cerebellum\n",
    "    771, #pons\n",
    "    354, # medulla\n",
    "]  # allen atlas region IDs to be shown\n",
    "# see: https://connectivity.brain-map.org/projection/experiment/480074702?imageId=480075280&initImage=TWO_PHOTON&x=17028&y=11704&z=3\n",
    "\n",
    "composite_regions = {\n",
    "    \"Amygdala\": [131, 295, 319, 536, 780], #lateral, basolateral, basomedial, posterior\n",
    "    # \"Cortex (other)\": [184, 1057, 677, 31, 254, 22, 541, 922, 895], # frontal pole, gustatory, visceral, auditory, visual, anterior cingulate, retrosplenial, posterior parietal, temporal association, perirhinal, ectorhinal\n",
    "    #\"Substantia Nigra\": [615, 374, 374],\n",
    "    #\"Superior Colliculus\": [294, 302],\n",
    "}  # Custom composite allen regions where key is region name and value is list of allen regions"
   ]
  },
  {
   "cell_type": "markdown",
   "metadata": {},
   "source": [
    "#### Are regions mutually exclusive?"
   ]
  },
  {
   "cell_type": "code",
   "execution_count": null,
   "metadata": {},
   "outputs": [],
   "source": [
    "regions = regions_coarse_part\n",
    "for r_src in regions:\n",
    "    print(sd.region_graph.nodes[r_src]['name'])\n",
    "    for r_targ in regions:\n",
    "        if r_targ == r_src:\n",
    "            continue\n",
    "        elif nx.has_path(sd.region_graph, r_src, r_targ):\n",
    "            print(f\"{r_src} is parent of {r_targ}\")"
   ]
  },
  {
   "cell_type": "code",
   "execution_count": null,
   "metadata": {},
   "outputs": [],
   "source": [
    "df[(df[\"Region\"] == region_name) & (df[\"Subtype\"] == f\"tph2 gad2 (n={subtype_counts['tph2 gad2']})\")][\"Percent of Total Inputs (%)\"].mean()"
   ]
  },
  {
   "cell_type": "markdown",
   "metadata": {},
   "source": [
    "#### Simple boxplot"
   ]
  },
  {
   "cell_type": "code",
   "execution_count": null,
   "metadata": {},
   "outputs": [],
   "source": [
    "def _log_ttest_ind(group_data1, group_data2, verbose=1, **stats_params):\n",
    "    group_data1_log = np.log(group_data1)\n",
    "    group_data2_log = np.log(group_data2)\n",
    "\n",
    "    return ttest_ind(group_data1_log, group_data2_log, **stats_params)"
   ]
  },
  {
   "cell_type": "code",
   "execution_count": null,
   "metadata": {},
   "outputs": [],
   "source": [
    "test = StatTest(_log_ttest_ind, test_long_name='Log t-test_ind', test_short_name='log-t')\n",
    "test = \"Mann-Whitney\"\n",
    "#test = \"t-test_ind\"\n",
    "\n",
    "region_names = []\n",
    "pcts = []\n",
    "ids = []\n",
    "subtypes = []\n",
    "subtype_counts = {}\n",
    "\n",
    "for brain_id in sd.brain_ids:\n",
    "    subtype = sd.brain2paths[brain_id][\"subtype\"]\n",
    "    if subtype in subtype_counts.keys():\n",
    "        subtype_counts[subtype] = subtype_counts[subtype] + 1\n",
    "    else:\n",
    "        subtype_counts[subtype] = 1\n",
    "\n",
    "    for region in regions:\n",
    "        pct = sd.region_graph.nodes[region][brain_id]/sd.region_graph.nodes[997][brain_id]*100\n",
    "        \n",
    "        pcts.append(pct)\n",
    "        subtypes.append(subtype)\n",
    "        ids.append(brain_id)\n",
    "        region_names.append(sd.region_graph.nodes[region][\"name\"])\n",
    "    for composite_region in composite_regions.keys():\n",
    "        composite_region_regions = composite_regions[composite_region]\n",
    "        total = 0\n",
    "        for region in composite_region_regions:\n",
    "            total += sd.region_graph.nodes[region][brain_id]\n",
    "        pcts.append(total/sd.region_graph.nodes[997][brain_id]*100)\n",
    "        subtypes.append(subtype)\n",
    "        ids.append(brain_id)\n",
    "        region_names.append(composite_region)\n",
    "\n",
    "# append n to subtypes\n",
    "for i, subtype in enumerate(subtypes):\n",
    "    subtypes[i] = subtype + f\" (n={subtype_counts[subtype]})\"\n",
    "\n",
    "\n",
    "data = {\"Region\": region_names, \"Brain ID\": ids, \"Subtype\": subtypes, \"Percent of Total Inputs (%)\": pcts}\n",
    "df = pd.DataFrame(data=data)\n",
    "\n",
    "diffs = []\n",
    "for region_name in df[\"Region\"].unique():\n",
    "    diff = df[(df[\"Region\"] == region_name) & (df[\"Subtype\"] == f\"tph2 gad2 (n={subtype_counts['tph2 gad2']})\")][\"Percent of Total Inputs (%)\"].mean() - df[(df[\"Region\"] == region_name) & (df[\"Subtype\"] == f\"tph2 vglut3 (n={subtype_counts['tph2 vglut3']})\")][\"Percent of Total Inputs (%)\"].mean()\n",
    "    diffs.append((region_name, diff))\n",
    "def second(e):\n",
    "    return e[1]\n",
    "diffs.sort(key=second, reverse=False)\n",
    "order = [e[0] for e in diffs]\n",
    "\n",
    "sns.set(font_scale=1.2)\n",
    "fig, ax = plt.subplots(1, 1, figsize=(8,8.6), dpi=300)\n",
    "fig_args = {\n",
    "            \"x\": \"Percent of Total Inputs (%)\",\n",
    "            \"y\": \"Region\",\n",
    "            \"hue\": \"Subtype\",\n",
    "            \"data\": df,\n",
    "            \"dodge\": True,\n",
    "            \"order\": order\n",
    "        }\n",
    "bplot = sns.stripplot(ax=ax, legend=False, **fig_args)\n",
    "fig_args[\"boxprops\"] = {'facecolor':'none'}\n",
    "bplot = sns.boxplot(ax=ax, **fig_args)\n",
    "\n",
    "bplot.set_xscale(\"log\")\n",
    "xtick_labels = bplot.get_yticklabels()\n",
    "bplot.set_yticklabels(labels=xtick_labels, rotation=30)\n",
    "\n",
    "#annotator\n",
    "fig_args[\"x\"] = \"Region\"\n",
    "fig_args[\"y\"] = \"Percent of Total Inputs (%)\"\n",
    "pairs = []\n",
    "unq_subtypes = np.unique(subtypes)\n",
    "for region in regions + [\"Amygdala\"]:\n",
    "    if region == \"Amygdala\":\n",
    "        region_name = region\n",
    "    else:\n",
    "        region_name = sd.region_graph.nodes[region][\"name\"]\n",
    "\n",
    "    for i, subtype1 in enumerate(unq_subtypes):\n",
    "        for subtype2 in unq_subtypes[i+1:]:\n",
    "            pairs.append(((region_name, subtype1), (region_name, subtype2)))\n",
    "annot = Annotator(ax, pairs, **fig_args)\n",
    "annot.configure(test=test, text_format=\"star\", loc=\"outside\", comparisons_correction=\"BH\")\n",
    "fig_args[\"y\"] = \"Region\"\n",
    "fig_args[\"x\"] = \"Percent of Total Inputs (%)\"\n",
    "annot.new_plot(bplot, orient=\"h\", plot=\"boxplot\", **fig_args)\n",
    "annot.apply_and_annotate()\n",
    "\n",
    "\n",
    "# markers = [\"o\", \"v\", \"^\", \"<\", \">\", \"s\", \"p\", \"*\", \"+\", \"x\", \"D\", \"h\", \"H\"]\n",
    "# jitters = {\"tph2 vglut3\": -0.26, \"tph2 gad2\": 0, \"gad2 vgat\": 0.26}\n",
    "# id2marker = {id: markers[idx] for idx, id in enumerate(brain_ids)}\n",
    "# for idx, line in df.iterrows():\n",
    "#     st = line[\"Subtype\"].split(\"(\")[0][:-1]\n",
    "\n",
    "#     x = line[\"Percent of Total Inputs (%)\"]\n",
    "#     y = order.index(line[\"Region\"]) + jitters[st]\n",
    "#     c = colors[st]\n",
    "#     marker = id2marker[line[\"Brain ID\"]]\n",
    "#     ax.scatter([x], [y], c=c, marker=marker)\n",
    "\n",
    "\n",
    "\n",
    "fig.tight_layout()"
   ]
  },
  {
   "cell_type": "markdown",
   "metadata": {},
   "source": [
    "### How many more samples"
   ]
  },
  {
   "cell_type": "code",
   "execution_count": null,
   "metadata": {},
   "outputs": [],
   "source": [
    "from scipy.stats import mannwhitneyu, ttest_ind\n",
    "\n",
    "for region in df.Region.unique():\n",
    "    for i, subtype1 in enumerate(df.Subtype.unique()):\n",
    "        for j, subtype2 in enumerate(df.Subtype.unique()[i+1:]):\n",
    "            l1 = df[(df[\"Region\"] == region) & (df[\"Subtype\"] == subtype1)][\"Percent of Total Inputs (%)\"].tolist()\n",
    "            l2 = df[(df[\"Region\"] == region) & (df[\"Subtype\"] == subtype2)][\"Percent of Total Inputs (%)\"].tolist()\n",
    "\n",
    "            _, p = ttest_ind(l1, l2)\n",
    "            for i in range(10):\n",
    "                if p > 0.0047:\n",
    "                    if len(l1) > len(l2):\n",
    "                        l2.append(np.median(l2))\n",
    "                    else:\n",
    "                        l1.append(np.median(l1))\n",
    "                else:\n",
    "                    break\n",
    "                \n",
    "                _, p = ttest_ind(l1, l2)\n",
    "            print(f\"{region}: {subtype1} vs {subtype2}: need {i} more added\")"
   ]
  },
  {
   "cell_type": "code",
   "execution_count": null,
   "metadata": {},
   "outputs": [],
   "source": [
    "sd.region_barchart(regions, composite_regions=composite_regions, normalize_region=872)"
   ]
  },
  {
   "cell_type": "markdown",
   "metadata": {},
   "source": [
    "### Within group Chi-sq"
   ]
  },
  {
   "cell_type": "code",
   "execution_count": null,
   "metadata": {},
   "outputs": [],
   "source": [
    "subtype = \"gad2 vgat\"\n",
    "regions = regions_coarse_part\n",
    "\n",
    "subtype_brains = []\n",
    "for brain_id in sd.brain_ids:\n",
    "    if sd.brain2paths[brain_id][\"subtype\"] == subtype:\n",
    "        subtype_brains.append(brain_id)\n",
    "\n",
    "sd.region_graph\n",
    "\n",
    "cont_table = np.zeros((len(subtype_brains),len(regions)))\n",
    "\n",
    "for bi, brain_id in enumerate(subtype_brains):\n",
    "    for ri, region in enumerate(regions):\n",
    "        cont_table[bi, ri] = sd.region_graph.nodes[region][brain_id]\n",
    "\n",
    "print(f\"{np.sum(cont_table > 5)/cont_table.size} are > 5\")\n",
    "chi2_contingency(cont_table)[1]"
   ]
  },
  {
   "cell_type": "code",
   "execution_count": null,
   "metadata": {},
   "outputs": [],
   "source": [
    "fig, ax = plt.subplots(1,1, dpi=300)\n",
    "ax.pie(cont_table[0,:], labels=[sd.region_graph.nodes[r][\"name\"] for r in regions], textprops={'color':\"w\"})"
   ]
  },
  {
   "cell_type": "markdown",
   "metadata": {},
   "source": [
    "### Chi-sq test and PCA"
   ]
  },
  {
   "cell_type": "code",
   "execution_count": null,
   "metadata": {},
   "outputs": [],
   "source": [
    "region_graph.nodes[region]"
   ]
  },
  {
   "cell_type": "code",
   "execution_count": null,
   "metadata": {},
   "outputs": [],
   "source": [
    "brain2paths = sd.brain2paths\n",
    "region_graph = sd.region_graph\n",
    "\n",
    "data_mat = np.zeros((len(brain_ids), len(regions_coarse)))\n",
    "\n",
    "\n",
    "subtype2idx = { \"tph2 vglut3\": 0,  \"tph2 gad2\": 1, \"gad2 vgat\": -1}\n",
    "\n",
    "for bn, brain_id in enumerate(brain_ids):\n",
    "    for rn, region in enumerate(regions_coarse):\n",
    "        data_mat[bn, rn] = region_graph.nodes[region][brain_id]\n",
    "        \n",
    "random.shuffle(subtypes)\n",
    "\n",
    "cont_table = np.zeros((len(regions_coarse), 2))\n",
    "for bn, (brain_id, subtype) in enumerate(zip(brain_ids, subtypes)):\n",
    "    subtype = brain2paths[brain_id][\"subtype\"]\n",
    "    if subtype2idx[subtype] >= 0:\n",
    "        cont_table[:, subtype2idx[subtype]] += data_mat[bn,:].T \n",
    "\n",
    "\n",
    "\n",
    "print(np.sum(cont_table > 5)/cont_table.size)\n",
    "chi2_contingency(cont_table)"
   ]
  },
  {
   "cell_type": "code",
   "execution_count": null,
   "metadata": {},
   "outputs": [],
   "source": [
    "brain2paths = sd.brain2paths\n",
    "region_graph = sd.region_graph\n",
    "\n",
    "data_mat = np.zeros((len(brain_ids), len(regions_coarse)))\n",
    "\n",
    "\n",
    "for bn, brain_id in enumerate(brain_ids):\n",
    "    for rn, region in enumerate(regions_coarse):\n",
    "        data_mat[bn, rn] = region_graph.nodes[region][brain_id]/region_graph.nodes[997][brain_id]\n",
    "\n",
    "pca = PCA(n_components=2)\n",
    "X_2 = pca.fit_transform(data_mat)\n",
    "\n",
    "df_pca = {\n",
    "    \"PC 1\": X_2[:, 0],\n",
    "    \"PC 2\": X_2[:, 1],\n",
    "    \"Genotype\": [brain2paths[brain_id][\"subtype\"] for brain_id in brain_ids],\n",
    "    \"Brain ID\": brain_ids,\n",
    "}\n",
    "df_pca = pd.DataFrame(data=df_pca)\n",
    "\n",
    "fig, ax = plt.subplots(1,1)\n",
    "sns.scatterplot(data=df_pca, x=\"PC 1\", y=\"PC 2\", hue=\"Genotype\", ax=ax)\n",
    "\n",
    "\n",
    "for i in range(df_pca.shape[0]):\n",
    "    sign = 2*(df_pca[\"PC 2\"][i] > 0) - 1\n",
    "    plt.text(\n",
    "        x=df_pca[\"PC 1\"][i] + 0.01,\n",
    "        y=df_pca[\"PC 2\"][i] + sign*0.001,\n",
    "        s=df_pca[\"Brain ID\"][i],\n",
    "        fontdict=dict(color=\"black\", size=7),\n",
    "    )\n",
    "\n",
    "plt.title(\n",
    "    f\"Input Distribution PCA with Explained Variance: {pca.explained_variance_ratio_}\"\n",
    ")"
   ]
  },
  {
   "attachments": {},
   "cell_type": "markdown",
   "metadata": {},
   "source": [
    "### Partition regions"
   ]
  },
  {
   "cell_type": "code",
   "execution_count": null,
   "metadata": {},
   "outputs": [],
   "source": [
    "# regions = [\n",
    "#     688,  # cerebral cortex\n",
    "#     477,  # striatum\n",
    "#     351,  # bed nuclei of stria terminalis\n",
    "#     1097,  # hypothalamus\n",
    "#     549,  # thalamus\n",
    "#     519,  # cerebellar nuclei\n",
    "#     313,  # midbrain\n",
    "#     1065,  # hindbrain\n",
    "# ]  # allen atlas region IDs to be shown\n",
    "\n",
    "# regions = [\n",
    "#     688,  # cerebral cortex\n",
    "#     # 95,  # agranular insular area\n",
    "#     # 714,  # orbital area\n",
    "#     # 698,  # olfactory areas\n",
    "#     # 1089,  # hippocampal formation\n",
    "#     # 583, # claustrum\n",
    "#     477,  # striatum\n",
    "#     # 803, # pallidum\n",
    "#     351,  # bed nuclei of stria terminalis\n",
    "#     # 703, #cortical subplate\n",
    "#     157,  # periventricular zone\n",
    "#     515,  # medial preoptic nucleus\n",
    "#     290,  # hypothalamic lateral zone\n",
    "#     331,  # mammillary body\n",
    "#     549,  # thalamus\n",
    "#     519,  # cerebellar nuclei\n",
    "#     # 726,  # dentate gyrus\n",
    "#     157,  # inferior colliculus\n",
    "#     1052,  # pedunculopontine\n",
    "#     128,  # midbrain reticular nucleus\n",
    "#     214,  # red nucleus\n",
    "#     1065,  # hindbrain\n",
    "# ]  # allen atlas region IDs to be shown"
   ]
  },
  {
   "attachments": {},
   "cell_type": "markdown",
   "metadata": {},
   "source": [
    "### KL Div permutation test"
   ]
  },
  {
   "cell_type": "code",
   "execution_count": null,
   "metadata": {},
   "outputs": [],
   "source": [
    "def get_dist(brain_id, regions, sd):\n",
    "    total = sd.region_graph.nodes[997][brain_id]\n",
    "    dist = []\n",
    "    for region in regions:\n",
    "        dist.append(sd.region_graph.nodes[region][brain_id])\n",
    "    dist.append(total - np.sum(dist))\n",
    "\n",
    "    return np.divide(dist, total)"
   ]
  },
  {
   "cell_type": "code",
   "execution_count": null,
   "metadata": {},
   "outputs": [],
   "source": [
    "fig, axs = plt.subplots(1, 3)\n",
    "\n",
    "for i, (stype1, stype2) in enumerate(\n",
    "    zip(\n",
    "        [\"tph2 gad2\", \"tph2 gad2\", \"tph2 vglut3\"],\n",
    "        [\"tph2 vglut3\", \"gad2 vgat\", \"gad2 vgat\"],\n",
    "    )\n",
    "):\n",
    "    ax = axs[i]\n",
    "    brain_ids_stypes = []\n",
    "    sz = 0\n",
    "    dists = []\n",
    "\n",
    "    for brain in brain_ids:\n",
    "        if sd.brain2paths[brain][\"subtype\"] == stype1:\n",
    "            dist = get_dist(brain, regions, sd)\n",
    "            dists.append(dist)\n",
    "            brain_ids_stypes.append(brain)\n",
    "            sz += 1\n",
    "    av_dist1 = np.mean(np.array(dists), axis=0)\n",
    "\n",
    "    dists = []\n",
    "    for brain in brain_ids:\n",
    "        if sd.brain2paths[brain][\"subtype\"] == stype2:\n",
    "            dist = get_dist(brain, regions, sd)\n",
    "            dists.append(dist)\n",
    "            brain_ids_stypes.append(brain)\n",
    "    av_dist2 = np.mean(np.array(dists), axis=0)\n",
    "\n",
    "    kl_div_true = np.sum(rel_entr(av_dist1, av_dist2)) + np.sum(\n",
    "        rel_entr(av_dist2, av_dist1)\n",
    "    )\n",
    "    if not np.isfinite(kl_div_true) or kl_div_true < 0:\n",
    "        print(av_dist1)\n",
    "        print(av_dist2)\n",
    "    kl_divs = []\n",
    "\n",
    "    for combo in tqdm(combinations(brain_ids_stypes, sz)):\n",
    "        dists = []\n",
    "        for brain in combo:\n",
    "            dist = get_dist(brain, regions, sd)\n",
    "            dists.append(dist)\n",
    "        av_dist1 = np.mean(np.array(dists), axis=0)\n",
    "\n",
    "        dists = []\n",
    "        for brain in brain_ids:\n",
    "            if brain not in combo:\n",
    "                if (\n",
    "                    sd.brain2paths[brain][\"subtype\"] == stype1\n",
    "                    or sd.brain2paths[brain][\"subtype\"] == stype2\n",
    "                ):\n",
    "                    dist = get_dist(brain, regions, sd)\n",
    "                    dists.append(dist)\n",
    "        av_dist2 = np.mean(np.array(dists), axis=0)\n",
    "\n",
    "        kl_div_c = np.sum(rel_entr(av_dist1, av_dist2)) + np.sum(\n",
    "            rel_entr(av_dist2, av_dist1)\n",
    "        )\n",
    "\n",
    "        if not np.isfinite(kl_div_c) or kl_div_c < 0:\n",
    "            print(av_dist1)\n",
    "            print(av_dist2)\n",
    "        kl_divs.append(kl_div_c)\n",
    "\n",
    "    p = np.sum(kl_divs > kl_div_true) / len(kl_divs)\n",
    "    ax.hist(kl_divs)\n",
    "    ax.plot([kl_div_true, kl_div_true], [0, 15], c=\"r\", label=f\"pval={p:.2f}\")\n",
    "    ax.set_title(f\"{stype1} vs {stype2} w/{len(kl_divs)} permutations\")\n",
    "    ax.legend()\n",
    "fig.set_figheight(5)\n",
    "fig.set_figwidth(25)"
   ]
  },
  {
   "attachments": {},
   "cell_type": "markdown",
   "metadata": {},
   "source": [
    "### Hemisphere plots"
   ]
  },
  {
   "cell_type": "code",
   "execution_count": null,
   "metadata": {},
   "outputs": [],
   "source": [
    "sample_data = []\n",
    "region_data = []\n",
    "left_count_data = []\n",
    "right_count_data = []\n",
    "gtypes = []\n",
    "\n",
    "for region in regions:\n",
    "    for brain in brain_ids:\n",
    "        sample_data.append(brain)\n",
    "        region_data.append(region)\n",
    "        left_count_data.append(sd.region_graph_l.nodes[region][brain])\n",
    "        right_count_data.append(sd.region_graph_r.nodes[region][brain])\n",
    "        gtypes.append(sd.brain2paths[brain][\"subtype\"])\n",
    "data = {\n",
    "    \"Sample\": sample_data,\n",
    "    \"Region\": region_data,\n",
    "    \"Somas Left\": left_count_data,\n",
    "    \"Somas Right\": right_count_data,\n",
    "    \"Subtype\": gtypes,\n",
    "}\n",
    "\n",
    "df = pd.DataFrame(data=data)"
   ]
  },
  {
   "cell_type": "code",
   "execution_count": null,
   "metadata": {},
   "outputs": [],
   "source": [
    "from scipy.stats import pearsonr\n",
    "\n",
    "fig, axs = plt.subplots(3, 9)\n",
    "\n",
    "for region, ax in zip(regions, axs.flatten()):\n",
    "    for gtype in df[\"Subtype\"].unique():\n",
    "        df_r = df[df[\"Region\"] == region]\n",
    "        df_r = df_r[df_r[\"Subtype\"] == gtype]\n",
    "        graph = sns.regplot(data=df_r, x=\"Somas Left\", y=\"Somas Right\", ax=ax)\n",
    "        r, p = pearsonr(df_r[\"Somas Left\"], df_r[\"Somas Right\"])\n",
    "        txt = f'{sd.region_graph.nodes[region][\"name\"]}*: '  # f'{sd.region_graph.nodes[region][\"name\"]}: r={r:.2f}, p={p:.2f}'\n",
    "        if p < 0.05:\n",
    "            txt = txt + gtype\n",
    "    ax.title.set_text(txt)\n",
    "\n",
    "\n",
    "fig.set_figheight(15)\n",
    "fig.set_figwidth(35)\n",
    "plt.tight_layout()"
   ]
  },
  {
   "attachments": {},
   "cell_type": "markdown",
   "metadata": {},
   "source": [
    "## Create local volume"
   ]
  },
  {
   "cell_type": "code",
   "execution_count": null,
   "metadata": {},
   "outputs": [],
   "source": [
    "vol = CloudVolume(\n",
    "    \"precomputed://s3://smartspim-precomputed-volumes/2022_03_10/8531/Ch_647_iso\"\n",
    ")"
   ]
  },
  {
   "cell_type": "code",
   "execution_count": null,
   "metadata": {},
   "outputs": [],
   "source": [
    "subvol = vol[256 * 11 : 256 * 12, 256 * 16 : 256 * 17, 256 * 6 : 256 * 7]"
   ]
  },
  {
   "cell_type": "code",
   "execution_count": null,
   "metadata": {},
   "outputs": [],
   "source": [
    "info = CloudVolume.create_new_info(\n",
    "    num_channels=1,\n",
    "    layer_type=\"image\",\n",
    "    data_type=\"uint16\",  # Channel images might be 'uint8'\n",
    "    encoding=\"raw\",  # raw, jpeg, compressed_segmentation, fpzip, kempressed\n",
    "    resolution=vol.resolution,  # Voxel scaling, units are in nanometers\n",
    "    voxel_offset=vol.voxel_offset,\n",
    "    chunk_size=vol.chunk_size,  # units are voxels\n",
    "    volume_size=vol.volume_size,  # e.g. a cubic millimeter dataset\n",
    ")\n",
    "\n",
    "vol_ex = CloudVolume(\n",
    "    \"precomputed://file:///Users/thomasathey/Documents/mimlab/mouselight/brainlit_parent/brainlit/brainlit/BrainLine/data/example\",\n",
    "    info=info,\n",
    "    compress=False,\n",
    ")\n",
    "vol_ex.commit_info()"
   ]
  },
  {
   "cell_type": "code",
   "execution_count": null,
   "metadata": {},
   "outputs": [],
   "source": [
    "vol_ex[256 * 11 : 256 * 12, 256 * 16 : 256 * 17, 256 * 6 : 256 * 7] = subvol"
   ]
  },
  {
   "cell_type": "code",
   "execution_count": null,
   "metadata": {},
   "outputs": [],
   "source": [
    "256 * 7"
   ]
  },
  {
   "cell_type": "code",
   "execution_count": null,
   "metadata": {},
   "outputs": [],
   "source": [
    "vol = CloudVolume(\n",
    "    \"precomputed://file:///Users/thomasathey/Documents/mimlab/mouselight/brainlit_parent/brainlit/brainlit/BrainLine/data/example/endogenous\",\n",
    "    fill_missing=True,\n",
    ")"
   ]
  },
  {
   "attachments": {},
   "cell_type": "markdown",
   "metadata": {},
   "source": [
    "### Post detections to ng"
   ]
  },
  {
   "cell_type": "code",
   "execution_count": null,
   "metadata": {},
   "outputs": [],
   "source": [
    "brain_id = \"8606\"\n",
    "all_somas_pth = f\"/Users/thomasathey/Documents/mimlab/mouselight/ailey/detection_soma/wholebrain_results/all_somas_{brain_id}.txt\"\n",
    "\n",
    "from brainlit.BrainLine.data.soma_data import brain2paths\n",
    "from cloudreg.scripts.transform_points import NGLink\n",
    "from cloudreg.scripts.visualization import create_viz_link_from_json\n",
    "\n",
    "coords = []\n",
    "coords_target_space = []\n",
    "file1 = open(all_somas_pth, \"r\")\n",
    "lines = file1.readlines()\n",
    "for line in tqdm(lines, desc=\"parsing coordinates\", leave=False):\n",
    "    if line != \"\\n\":\n",
    "        line = \" \".join(line.split())\n",
    "        elements = line.split(\",\")\n",
    "        coord = [elements[0][1:], elements[1], elements[2][:-1]]\n",
    "\n",
    "        coords.append([float(e.strip()) for e in coord])\n",
    "\n",
    "coords = coords[15000:]\n",
    "print(f\"{len(coords)} detections\")\n",
    "\n",
    "ng_link = brain2paths[brain_id][\"val_info\"][\"url\"]\n",
    "viz_link = NGLink(ng_link.split(\"json_url=\")[-1])\n",
    "ngl_json = viz_link._json\n",
    "\n",
    "ngl_json[\"layers\"] = [\n",
    "    layer for layer in ngl_json[\"layers\"] if layer[\"type\"] != \"annotation\"\n",
    "]\n",
    "\n",
    "ngl_json[\"layers\"].append(\n",
    "    {\"type\": \"annotation\", \"points\": coords, \"name\": \"detected_somas\"}\n",
    ")\n",
    "viz_link = create_viz_link_from_json(\n",
    "    ngl_json, neuroglancer_link=\"https://viz.neurodata.io/?json_url=\"\n",
    ")\n",
    "print(f\"Viz link with detections: {viz_link}\")"
   ]
  }
 ],
 "metadata": {
  "kernelspec": {
   "display_name": "Python 3.8.10 ('docs_env': venv)",
   "language": "python",
   "name": "python3"
  },
  "language_info": {
   "codemirror_mode": {
    "name": "ipython",
    "version": 3
   },
   "file_extension": ".py",
   "mimetype": "text/x-python",
   "name": "python",
   "nbconvert_exporter": "python",
   "pygments_lexer": "ipython3",
   "version": "3.8.10"
  },
  "orig_nbformat": 4,
  "vscode": {
   "interpreter": {
    "hash": "5dc00d68ff54f8375e99934614da4863299fb9e10af4294c095b7f517546ff26"
   }
  }
 },
 "nbformat": 4,
 "nbformat_minor": 2
}
