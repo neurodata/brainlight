{
 "cells": [
  {
   "cell_type": "markdown",
   "metadata": {},
   "source": [
    "# Other"
   ]
  },
  {
   "cell_type": "markdown",
   "metadata": {},
   "source": [
    "## Interpolation"
   ]
  },
  {
   "cell_type": "markdown",
   "metadata": {},
   "source": [
    "### Generate underlying curve"
   ]
  },
  {
   "cell_type": "code",
   "execution_count": null,
   "metadata": {},
   "outputs": [],
   "source": [
    "from bezier.curve import Curve\n",
    "import numpy as np\n",
    "import matplotlib.pyplot as plt\n",
    "import pandas as pd\n",
    "import seaborn as sns\n",
    "\n",
    "\n",
    "def curve(x):\n",
    "    return 1 / (1 + np.exp(-10 * x))\n",
    "\n",
    "\n",
    "spacing = 0.01\n",
    "x = np.arange(-1, 1 + spacing, spacing, dtype=float)\n",
    "y = curve(x)\n",
    "\n",
    "plt.plot(x, y)\n",
    "plt.show()\n",
    "\n",
    "sp = np.fft.fft(y)\n",
    "freq = np.fft.fftfreq(n=x.shape[-1], d=spacing)\n",
    "sp = np.array([x for _, x in sorted(zip(freq, sp))])\n",
    "freq = [y for y, _ in sorted(zip(freq, sp))]\n",
    "plt.plot(freq, np.abs(sp))\n",
    "plt.ylabel(\"FT magnitude\")\n",
    "plt.xlabel(\"Frequency (rev/time)\")\n",
    "plt.xlim(-10, 10)"
   ]
  },
  {
   "cell_type": "markdown",
   "metadata": {},
   "source": [
    "## Sinc interpolation"
   ]
  },
  {
   "cell_type": "code",
   "execution_count": null,
   "metadata": {},
   "outputs": [],
   "source": [
    "def sinc(x):\n",
    "    x_pi = np.multiply(x, np.pi)\n",
    "    y = np.divide(np.sin(x_pi), x_pi)\n",
    "    y[np.isnan(y)] = 1\n",
    "    return y\n",
    "\n",
    "\n",
    "def interpolation(interp_x, sample_n, sample_y):\n",
    "    interp_y = interp_x * 0\n",
    "    for n, y in zip(sample_n, sample_y):\n",
    "        interp_y += y * sinc(2 * W * interp_x - n)\n",
    "    return interp_y\n",
    "\n",
    "\n",
    "# vary badnwidth/rate of sampling\n",
    "plt.plot(x, y, label=\"true\")\n",
    "max = 1\n",
    "for W in range(1, 10, 2):\n",
    "    samples_n = np.arange(-max * 2 * W, max * 2 * W + 1)\n",
    "    samples_x = samples_n / (2 * W)\n",
    "    samples_y = curve(samples_x)\n",
    "\n",
    "    plt.plot(\n",
    "        x, interpolation(x, samples_n, samples_y), label=f\"W={W}, range=[{-max, max}]\"\n",
    "    )\n",
    "\n",
    "plt.legend()\n",
    "plt.title(\"Change Sampling Frequency\")\n",
    "plt.show()\n",
    "\n",
    "# vary range of sampling\n",
    "plt.plot(x, y, label=\"true\")\n",
    "W = 5\n",
    "for max in range(1, 10, 2):\n",
    "    samples_n = np.arange(-max * 2 * W, max * 2 * W + 1)\n",
    "    samples_x = samples_n / (2 * W)\n",
    "    samples_y = curve(samples_x)\n",
    "\n",
    "    plt.plot(\n",
    "        x, interpolation(x, samples_n, samples_y), label=f\"W={W}, range=[{-max, max}]\"\n",
    "    )\n",
    "\n",
    "plt.legend()\n",
    "plt.title(\"Change Sampling Range\")\n",
    "plt.show()\n",
    "\n",
    "# Examin errors\n",
    "maxes = []\n",
    "Ws = []\n",
    "sqe = []\n",
    "for max in range(1, 10, 2):\n",
    "    for W in range(1, 10, 2):\n",
    "        samples_n = np.arange(-max * 2 * W, max * 2 * W + 1)\n",
    "        samples_x = samples_n / (2 * W)\n",
    "        samples_y = curve(samples_x)\n",
    "        sq_error = np.linalg.norm(y - interpolation(x, samples_n, samples_y)) ** 2\n",
    "        sqe.append(sq_error)\n",
    "        Ws.append(W)\n",
    "        maxes.append(f\"[{-max},{max}]\")\n",
    "\n",
    "dict = {\"Sampling Range\": maxes, \"Bandwidth\": Ws, \"Squared Error\": sqe}\n",
    "df = pd.DataFrame(data=dict)\n",
    "\n",
    "result = df.pivot(index=\"Bandwidth\", columns=\"Sampling Range\", values=\"Squared Error\")\n",
    "\n",
    "sns.heatmap(result, annot=True, cmap=\"viridis\")\n",
    "plt.title(\"Sinc Squared errors\")\n",
    "plt.show()"
   ]
  },
  {
   "cell_type": "markdown",
   "metadata": {},
   "source": [
    "## B-spline interpolation"
   ]
  },
  {
   "cell_type": "code",
   "execution_count": null,
   "metadata": {},
   "outputs": [],
   "source": [
    "from scipy.interpolate import splrep, splev\n",
    "\n",
    "\n",
    "# vary badnwidth/rate of sampling\n",
    "plt.plot(x, y, label=\"true\")\n",
    "max = 1\n",
    "for W in range(1, 10, 2):\n",
    "    samples_n = np.arange(-max * 2 * W, max * 2 * W + 1)\n",
    "    samples_x = samples_n / (2 * W)\n",
    "    samples_y = curve(samples_x)\n",
    "\n",
    "    tck = splrep(samples_x, samples_y)\n",
    "    plt.plot(x, splev(x, tck), label=f\"W={W}, range=[{-max, max}]\")\n",
    "\n",
    "plt.legend()\n",
    "plt.title(\"Change Sampling Frequency\")\n",
    "plt.show()\n",
    "\n",
    "# vary range of sampling\n",
    "plt.plot(x, y, label=\"true\")\n",
    "W = 5\n",
    "for max in range(1, 10, 2):\n",
    "    samples_n = np.arange(-max * 2 * W, max * 2 * W + 1)\n",
    "    samples_x = samples_n / (2 * W)\n",
    "    samples_y = curve(samples_x)\n",
    "\n",
    "    tck = splrep(samples_x, samples_y)\n",
    "    plt.plot(x, splev(x, tck), label=f\"W={W}, range=[{-max, max}]\")\n",
    "\n",
    "plt.legend()\n",
    "plt.title(\"Change Sampling Range\")\n",
    "plt.show()\n",
    "\n",
    "# Examin errors\n",
    "maxes = []\n",
    "Ws = []\n",
    "sqe = []\n",
    "for max in range(1, 10, 2):\n",
    "    for W in range(1, 10, 2):\n",
    "        samples_n = np.arange(-max * 2 * W, max * 2 * W + 1)\n",
    "        samples_x = samples_n / (2 * W)\n",
    "        samples_y = curve(samples_x)\n",
    "        tck = splrep(samples_x, samples_y)\n",
    "        sq_error = np.linalg.norm(y - splev(x, tck)) ** 2\n",
    "        sqe.append(sq_error)\n",
    "        Ws.append(W)\n",
    "        maxes.append(f\"[{-max},{max}]\")\n",
    "\n",
    "dict = {\"Sampling Range\": maxes, \"Bandwidth\": Ws, \"Squared Error\": sqe}\n",
    "df = pd.DataFrame(data=dict)\n",
    "\n",
    "result = df.pivot(index=\"Bandwidth\", columns=\"Sampling Range\", values=\"Squared Error\")\n",
    "\n",
    "sns.heatmap(result, annot=True, cmap=\"viridis\")\n",
    "plt.title(\"B-spline Squared errors\")\n",
    "plt.show()"
   ]
  },
  {
   "cell_type": "markdown",
   "metadata": {},
   "source": [
    "## Read cloudvolume skeletons"
   ]
  },
  {
   "cell_type": "code",
   "execution_count": null,
   "metadata": {},
   "outputs": [],
   "source": [
    "from cloudvolume import CloudVolume\n",
    "import numpy as np\n",
    "import networkx as nx\n",
    "\n",
    "\n",
    "vol_skel = CloudVolume(\n",
    "    \"precomputed://https://open-neurodata.s3.amazonaws.com/brainlit/brain2_segments\",\n",
    "    mip=0,\n",
    ")\n",
    "vol_im = CloudVolume(\n",
    "    \"precomputed://https://open-neurodata.s3.amazonaws.com/brainlit/brain2\", mip=6\n",
    ")"
   ]
  },
  {
   "cell_type": "markdown",
   "metadata": {},
   "source": [
    "### Resolution is in microns, image coordinates/shape is in voxels"
   ]
  },
  {
   "cell_type": "code",
   "execution_count": null,
   "metadata": {},
   "outputs": [],
   "source": [
    "print(\"Dimensions of mouse brain (mm):\")\n",
    "np.multiply(vol_im.resolution, vol_im.shape[:3]) / 1000000"
   ]
  },
  {
   "cell_type": "markdown",
   "metadata": {},
   "source": [
    "### Create nx object from skeleton"
   ]
  },
  {
   "cell_type": "code",
   "execution_count": null,
   "metadata": {},
   "outputs": [],
   "source": [
    "nx_nodes = []\n",
    "for idx, coord in enumerate(vol_skel.skeleton.get(1).vertices):\n",
    "    nx_nodes.append((idx, {\"coord (nm)\": coord}))\n",
    "\n",
    "G = nx.DiGraph()\n",
    "G.add_nodes_from(nx_nodes)\n",
    "\n",
    "nx_edges = []\n",
    "for idx, edge in enumerate(vol_skel.skeleton.get(1).edges):\n",
    "    dist = np.linalg.norm(\n",
    "        G.nodes[edge[0]][\"coord (nm)\"] - G.nodes[edge[1]][\"coord (nm)\"]\n",
    "    )\n",
    "    nx_edges.append((edge[1], edge[0], {\"dist\": dist}))\n",
    "G.add_edges_from(nx_edges)\n",
    "\n",
    "path = nx.dag_longest_path(G, weight=\"dist\")"
   ]
  },
  {
   "cell_type": "code",
   "execution_count": null,
   "metadata": {},
   "outputs": [],
   "source": [
    "import seaborn as sns\n",
    "import pandas as pd\n",
    "\n",
    "dists = []\n",
    "for e in nx_edges:\n",
    "    dists.append(e[2][\"dist\"] / 1000)\n",
    "dict = {\"Sample Spacing (microns)\": dists}\n",
    "df = pd.DataFrame(dict)\n",
    "sns.histplot(df, x=\"Sample Spacing (microns)\")"
   ]
  },
  {
   "cell_type": "code",
   "execution_count": null,
   "metadata": {},
   "outputs": [],
   "source": [
    "coords = []\n",
    "for node in path:\n",
    "    coords.append(list(G.nodes[node][\"coord (nm)\"]))\n",
    "\n",
    "with open(\"/Users/thomasathey/Desktop/coords.txt\", \"w\") as f:\n",
    "    for c in coords:\n",
    "        coord = np.divide(c, vol_im.resolution)\n",
    "        f.write(f\"[{coord[0]},{coord[1]},{coord[2]}]\")\n",
    "        f.write(f\"\\n\")\n",
    "print(len(coords))\n",
    "\n",
    "\n",
    "def resample(pt1, pt2):\n",
    "    diff = pt2 - pt1\n",
    "    dist = np.linalg.norm(diff)\n",
    "    if dist <= 5000:\n",
    "        return [pt1]\n",
    "    else:\n",
    "        ss = np.arange(0, dist, 5000)\n",
    "        return [pt1 + s * diff / dist for s in ss]\n",
    "\n",
    "\n",
    "path = nx.dag_longest_path(G, weight=\"dist\")\n",
    "coords_resampled = []\n",
    "for node1, node2 in zip(path[:-1], path[1:]):\n",
    "    pts = resample(G.nodes[node1][\"coord (nm)\"], G.nodes[node2][\"coord (nm)\"])\n",
    "    for pt in pts:\n",
    "        coords_resampled.append(list(pt))\n",
    "coords_resampled.append(list(G.nodes[node2][\"coord (nm)\"]))\n",
    "\n",
    "with open(\"/Users/thomasathey/Desktop/coords_resampled.txt\", \"w\") as f:\n",
    "    for c in coords_resampled:\n",
    "        coord = np.divide(c, vol_im.resolution)\n",
    "        f.write(f\"[{coord[0]},{coord[1]},{coord[2]}]\")\n",
    "        f.write(f\"\\n\")\n",
    "\n",
    "print(len(coords_resampled))"
   ]
  },
  {
   "cell_type": "code",
   "execution_count": null,
   "metadata": {},
   "outputs": [],
   "source": [
    "from cloudreg.scripts.transform_points import NGLiink\n",
    "from .visualization import create_viz_link_from_json\n",
    "\n",
    "viz_link_init = \n",
    "\n",
    "atlas_viz = NGLink(viz_link_init.split(\"json_url=\")[-1])\n",
    "ngl_json = atlas_viz._json\n",
    "ngl_json['layers'].append(\n",
    "    {\n",
    "        \"type\": \"annotation\",\n",
    "        \"annotations\": [[1000,1000,1000]],\n",
    "        \"name\": \"transformed_points\"\n",
    "    }   \n",
    ")\n",
    "viz_link = create_viz_link_from_json(ngl_json)"
   ]
  },
  {
   "cell_type": "markdown",
   "metadata": {},
   "source": [
    "python -m cloudreg.scripts.transform_points --target_viz_link --atlas_viz_link --affine_path --velocity_path --velocity_voxel_size --transformation_direction"
   ]
  },
  {
   "cell_type": "code",
   "execution_count": null,
   "metadata": {},
   "outputs": [],
   "source": [
    "import json\n",
    "\n",
    "with open(\n",
    "    \"/Users/thomasathey/Documents/mimlab/mouselight/axon_mapping/diff_sampling/transformed_points.json\"\n",
    ") as f:\n",
    "    data = json.load(f)\n",
    "with open(\n",
    "    \"/Users/thomasathey/Documents/mimlab/mouselight/axon_mapping/diff_sampling/transformed_points_resample.json\"\n",
    ") as f:\n",
    "    data_resample = json.load(f)"
   ]
  },
  {
   "cell_type": "code",
   "execution_count": null,
   "metadata": {},
   "outputs": [],
   "source": [
    "transformed_path = []\n",
    "for pt in data:\n",
    "    transformed_path.append(np.multiply(pt[\"point\"], 10))\n",
    "\n",
    "transformed_path_resample = []\n",
    "for pt in data_resample:\n",
    "    transformed_path_resample.append(np.multiply(pt[\"point\"], 10))\n",
    "\n",
    "print(\n",
    "    f\"Transformed paths have length {len(transformed_path)} and {len(transformed_path_resample)}\"\n",
    ")"
   ]
  },
  {
   "cell_type": "code",
   "execution_count": null,
   "metadata": {},
   "outputs": [],
   "source": [
    "%matplotlib inline\n",
    "import numpy as np\n",
    "import matplotlib.pyplot as plt\n",
    "\n",
    "plt.figure(figsize=(10, 10))\n",
    "ax = plt.axes(projection=\"3d\")\n",
    "\n",
    "transformed_path_np = np.array(transformed_path)\n",
    "# Data for a three-dimensional line\n",
    "zline = transformed_path_np[:, 0]\n",
    "xline = transformed_path_np[:, 1]\n",
    "yline = transformed_path_np[:, 2]\n",
    "ax.plot3D(xline, yline, zline, \"red\")\n",
    "print(f\"{xline.shape}\")\n",
    "\n",
    "transformed_path_resample_np = np.array(transformed_path_resample)\n",
    "# Data for a three-dimensional line\n",
    "zline = transformed_path_resample_np[:, 0]\n",
    "xline = transformed_path_resample_np[:, 1]\n",
    "yline = transformed_path_resample_np[:, 2]\n",
    "ax.plot3D(xline, yline, zline, \"green\")\n",
    "print(f\"{xline.shape}\")\n",
    "plt.show()"
   ]
  },
  {
   "cell_type": "code",
   "execution_count": null,
   "metadata": {},
   "outputs": [],
   "source": [
    "import similaritymeasures\n",
    "\n",
    "\n",
    "def resample(pt1, pt2, spacing=5):\n",
    "    diff = pt2 - pt1\n",
    "    dist = np.linalg.norm(diff)\n",
    "    if dist <= spacing:\n",
    "        return [pt1]\n",
    "    else:\n",
    "        ss = np.arange(0, dist, spacing)\n",
    "        return [pt1 + s * diff / dist for s in ss]\n",
    "\n",
    "\n",
    "transformed_path_resampled = []\n",
    "for node1, node2 in zip(transformed_path[:-1], transformed_path[1:]):\n",
    "    pts = resample(node1, node2)\n",
    "    for pt in pts:\n",
    "        transformed_path_resampled.append(pt)\n",
    "transformed_path_resampled.append(node2)\n",
    "\n",
    "transformed_path_resample_resampled = []\n",
    "for node1, node2 in zip(transformed_path_resample[:-1], transformed_path_resample[1:]):\n",
    "    pts = resample(node1, node2)\n",
    "    for pt in pts:\n",
    "        transformed_path_resample_resampled.append(pt)\n",
    "transformed_path_resample_resampled.append(node2)\n",
    "\n",
    "print(\n",
    "    f\"Discrete frechet distance between lists of length {len(transformed_path_resampled)} and {len(transformed_path_resample_resampled)}\"\n",
    ")\n",
    "\n",
    "df = similaritymeasures.frechet_dist(\n",
    "    transformed_path_resampled, transformed_path_resample_resampled\n",
    ")"
   ]
  },
  {
   "cell_type": "code",
   "execution_count": null,
   "metadata": {},
   "outputs": [],
   "source": [
    "df"
   ]
  },
  {
   "cell_type": "code",
   "execution_count": null,
   "metadata": {},
   "outputs": [],
   "source": []
  }
 ],
 "metadata": {
  "interpreter": {
   "hash": "5dc00d68ff54f8375e99934614da4863299fb9e10af4294c095b7f517546ff26"
  },
  "kernelspec": {
   "display_name": "Python 3.8.10 ('docs_env': venv)",
   "language": "python",
   "name": "python3"
  },
  "language_info": {
   "codemirror_mode": {
    "name": "ipython",
    "version": 3
   },
   "file_extension": ".py",
   "mimetype": "text/x-python",
   "name": "python",
   "nbconvert_exporter": "python",
   "pygments_lexer": "ipython3",
   "version": "3.8.10"
  },
  "orig_nbformat": 4
 },
 "nbformat": 4,
 "nbformat_minor": 2
}
