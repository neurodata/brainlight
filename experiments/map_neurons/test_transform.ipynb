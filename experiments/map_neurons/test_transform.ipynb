{
 "cells": [
  {
   "attachments": {},
   "cell_type": "markdown",
   "metadata": {},
   "source": [
    "## Notebook run brainlit code alongside matlab code from CloudReg package to test that they match\n",
    "\n",
    "https://github.com/neurodata/CloudReg/blob/master/cloudreg/registration/transform_points.m\n",
    "\n",
    "After some experiments, I observed that the main difference between the results comes from the interpolation. The affine transform, and euler method step are close to identical between cloudreg and me method (~10^-13 error). Also, the only difference in the code is the extrapolation method for the interpolator. CloudReg uses nearest extrapolation which is not an option in scipy. Indeed, when I use linear extrapolation in Cloudreg, results seem to match"
   ]
  },
  {
   "attachments": {},
   "cell_type": "markdown",
   "metadata": {},
   "source": [
    "`python -m cloudreg.scripts.transform_points --target_viz_link \"https://viz.neurodata.io/?json_url=https://json.neurodata.io/v1?NGStateID=mDkeGmNCWVNCFg\" --atlas_viz_link \"https://ara.viz.neurodata.io/?json_url=https://json.neurodata.io/v1?NGStateID=HvyNDGaPsd1wyg\" --affine_path \"/Users/thomasathey/Documents/mimlab/mouselight/brainlit_parent/brainlit/experiments/map_neurons/data/mapping-files/downloop_1_A.mat\"  --velocity_path \"/Users/thomasathey/Documents/mimlab/mouselight/brainlit_parent/brainlit/experiments/map_neurons/data/mapping-files/downloop_1_v.mat\"  --transformation_direction \"atlas\"`\n",
    "\n",
    "Might need to run the matlab command manually"
   ]
  },
  {
   "attachments": {},
   "cell_type": "markdown",
   "metadata": {},
   "source": [
    "CloudReg:\n",
    "\n",
    "Input: Ant->Post(263), Dors->Vent(159), R->L(227)\n",
    "registration og_coords: 100 (D->V)x152(A->P)x134(R->L) registration size -> 100microns w/1000 microns pad on each side\n",
    "diffeomorphism objects - y,x,z for inputs, \n"
   ]
  },
  {
   "cell_type": "code",
   "execution_count": 2,
   "metadata": {},
   "outputs": [],
   "source": [
    "from brainlit.map_neurons.map_neurons import (\n",
    "    DiffeomorphismAction,\n",
    "    transform_geometricgraph,\n",
    "    compute_derivs,\n",
    "    CloudReg_Transform,\n",
    ")\n",
    "from brainlit.algorithms.trace_analysis.fit_spline import (\n",
    "    GeometricGraph,\n",
    "    compute_parameterization,\n",
    "    CubicHermiteChain,\n",
    ")\n",
    "from brainlit.utils.Neuron_trace import NeuronTrace\n",
    "\n",
    "from pathlib import Path\n",
    "import numpy as np\n",
    "import matplotlib.pyplot as plt\n",
    "from matplotlib.cm import ScalarMappable\n",
    "from mpl_toolkits.mplot3d import Axes3D\n",
    "import pandas as pd\n",
    "from scipy.interpolate import splev, splprep, CubicHermiteSpline\n",
    "from scipy.spatial.distance import cosine\n",
    "from scipy.stats import wilcoxon, pearsonr, linregress, norm\n",
    "from tqdm import tqdm\n",
    "from cloudvolume import CloudVolume\n",
    "import seaborn as sns\n",
    "from cloudvolume.exceptions import SkeletonDecodeError\n",
    "import pickle\n",
    "from copy import deepcopy\n",
    "import networkx as nx\n",
    "import os"
   ]
  },
  {
   "cell_type": "code",
   "execution_count": 3,
   "metadata": {},
   "outputs": [],
   "source": [
    "root_dir = Path(os.path.abspath(\"\"))\n",
    "data_dir = os.path.join(root_dir, \"data\", \"mapping-files\")"
   ]
  },
  {
   "cell_type": "code",
   "execution_count": 5,
   "metadata": {},
   "outputs": [
    {
     "name": "stderr",
     "output_type": "stream",
     "text": [
      "integrating velocity field: 100%|██████████| 10/10 [00:23<00:00,  2.34s/it]\n"
     ]
    }
   ],
   "source": [
    "velocity_path = os.path.join(data_dir, \"downloop_1_v.mat\")\n",
    "affine_path = os.path.join(data_dir, \"downloop_1_A.mat\")\n",
    "\n",
    "ct = CloudReg_Transform(velocity_path, affine_path)"
   ]
  },
  {
   "cell_type": "code",
   "execution_count": 6,
   "metadata": {},
   "outputs": [],
   "source": [
    "axons_path = \"precomputed://file://\" + os.path.join(data_dir, \"axons\")\n",
    "vol = CloudVolume(axons_path)\n",
    "shp = np.array(vol.shape)\n",
    "res = np.array(vol.resolution) / 1000\n",
    "origin = (shp[:3] - 1) * res / 2\n",
    "\n",
    "skel = vol.skeleton.get(4)\n",
    "coords = skel.vertices / 1000 - origin\n",
    "coords = ct.apply_affine(coords)"
   ]
  },
  {
   "cell_type": "markdown",
   "metadata": {},
   "source": [
    "## original vertices\n",
    "The following are the vertex coordinates stored in the skeleton file"
   ]
  },
  {
   "cell_type": "code",
   "execution_count": 7,
   "metadata": {},
   "outputs": [
    {
     "name": "stdout",
     "output_type": "stream",
     "text": [
      "[[6680812.5 4213735.5 5570578. ]\n",
      " [6679242.  4213755.  5572043. ]\n",
      " [6660847.5 4216505.  5564594. ]\n",
      " ...\n",
      " [7051972.5 3908219.8 4851556.5]\n",
      " [7074937.5 4341430.5 5281373. ]\n",
      " [7068199.  4344958.  5270404.5]]\n"
     ]
    }
   ],
   "source": [
    "coords_skel = skel.vertices\n",
    "print(coords_skel)"
   ]
  },
  {
   "cell_type": "markdown",
   "metadata": {},
   "source": [
    "## neuroglancer\n",
    "these are the voxel coordinates (of the highest res image) that you would use in neuroglancer"
   ]
  },
  {
   "cell_type": "code",
   "execution_count": 8,
   "metadata": {},
   "outputs": [
    {
     "name": "stdout",
     "output_type": "stream",
     "text": [
      "[[347.95898438 219.46539062  87.04028125]\n",
      " [347.8771875  219.46640625  87.06317187]\n",
      " [346.91914063 219.60963542  86.94678125]\n",
      " ...\n",
      " [367.29023438 203.55311198  75.80557031]\n",
      " [368.48632812 226.11617187  82.52145312]\n",
      " [368.13536458 226.29989583  82.35007031]]\n"
     ]
    }
   ],
   "source": [
    "coords_ng = np.divide(coords_skel, 1000 * np.array([19.2, 19.2, 64]))\n",
    "print(coords_ng)"
   ]
  },
  {
   "cell_type": "markdown",
   "metadata": {},
   "source": [
    "## centered\n",
    "now, we changed units to microns and centered the image"
   ]
  },
  {
   "cell_type": "code",
   "execution_count": 9,
   "metadata": {},
   "outputs": [
    {
     "name": "stdout",
     "output_type": "stream",
     "text": [
      "[[1468.0125      229.73535156  482.578125  ]\n",
      " [1466.4421875   229.75488281  484.04296875]\n",
      " [1448.04765625  232.50488281  476.59423828]\n",
      " ...\n",
      " [1839.17265625  -75.78027344 -236.44335938]\n",
      " [1862.1375      357.43066406  193.37304688]\n",
      " [1855.39921875  360.95800781  182.40429688]]\n"
     ]
    }
   ],
   "source": [
    "coords_centered = coords_skel / 1000 - origin\n",
    "print(coords_centered)"
   ]
  },
  {
   "cell_type": "markdown",
   "metadata": {},
   "source": [
    "## affine\n",
    "applied affine transform to coordinates"
   ]
  },
  {
   "cell_type": "code",
   "execution_count": 10,
   "metadata": {},
   "outputs": [
    {
     "name": "stdout",
     "output_type": "stream",
     "text": [
      "[[ 524.30916956  737.44099749 1371.16397248]\n",
      " [ 525.84386745  737.47461986 1369.48174897]\n",
      " [ 518.37428854  739.81165879 1349.2803704 ]\n",
      " ...\n",
      " [-210.42621759  335.60447696 1773.2164223 ]\n",
      " [ 214.64419038  898.37724199 1790.00024407]\n",
      " [ 203.32006118  901.97601536 1782.37493956]]\n"
     ]
    }
   ],
   "source": [
    "coords_affine = ct.apply_affine(coords_centered)\n",
    "print(coords_affine)"
   ]
  },
  {
   "cell_type": "markdown",
   "metadata": {},
   "source": [
    "## complete transform"
   ]
  },
  {
   "cell_type": "code",
   "execution_count": 11,
   "metadata": {},
   "outputs": [
    {
     "name": "stdout",
     "output_type": "stream",
     "text": [
      "[[ 528.77887889  737.17408455 1368.58931551]\n",
      " [ 530.31465855  737.20482804 1366.90567841]\n",
      " [ 522.86942046  739.54004881 1346.75897028]\n",
      " ...\n",
      " [-205.95088358  336.61983272 1772.45870123]\n",
      " [ 218.73289536  898.69899859 1787.58085665]\n",
      " [ 207.42380189  902.30522157 1779.99932288]]\n"
     ]
    }
   ],
   "source": [
    "coords_transform = ct.evaluate(coords_affine)\n",
    "print(coords_transform)"
   ]
  },
  {
   "cell_type": "markdown",
   "metadata": {},
   "source": [
    "## ng atlas voxel space"
   ]
  },
  {
   "cell_type": "code",
   "execution_count": 12,
   "metadata": {},
   "outputs": [
    {
     "data": {
      "text/plain": [
       "array([[712.87788789, 473.71740846, 706.85893155],\n",
       "       [713.03146586, 473.7204828 , 706.69056784],\n",
       "       [712.28694205, 473.95400488, 704.67589703],\n",
       "       ...,\n",
       "       [639.40491164, 433.66198327, 747.24587012],\n",
       "       [681.87328954, 489.86989986, 748.75808567],\n",
       "       [680.74238019, 490.23052216, 747.99993229]])"
      ]
     },
     "execution_count": 12,
     "metadata": {},
     "output_type": "execute_result"
    }
   ],
   "source": [
    "coords_ng_atlas = np.divide(coords_transform, 10) + np.array([1320, 800, 1140]) / 2\n",
    "coords_ng_atlas"
   ]
  },
  {
   "cell_type": "markdown",
   "metadata": {},
   "source": [
    "## cloudreg transform point process summary:\n",
    "- voxel coordinates\n",
    "- convert to microns\n",
    "- center (target) image"
   ]
  },
  {
   "attachments": {},
   "cell_type": "markdown",
   "metadata": {},
   "source": [
    "## result: \n",
    "[712.87788789, 473.71740846, 706.85893155] vs cloudreg [712.8782348632812, 473.7189025878906, 706.8578491210938]"
   ]
  },
  {
   "cell_type": "markdown",
   "metadata": {},
   "source": []
  },
  {
   "cell_type": "code",
   "execution_count": null,
   "metadata": {},
   "outputs": [],
   "source": []
  }
 ],
 "metadata": {
  "kernelspec": {
   "display_name": "Python 3.8.10 ('docs_env': venv)",
   "language": "python",
   "name": "python3"
  },
  "language_info": {
   "codemirror_mode": {
    "name": "ipython",
    "version": 3
   },
   "file_extension": ".py",
   "mimetype": "text/x-python",
   "name": "python",
   "nbconvert_exporter": "python",
   "pygments_lexer": "ipython3",
   "version": "3.8.10"
  },
  "orig_nbformat": 4,
  "vscode": {
   "interpreter": {
    "hash": "5dc00d68ff54f8375e99934614da4863299fb9e10af4294c095b7f517546ff26"
   }
  }
 },
 "nbformat": 4,
 "nbformat_minor": 2
}
