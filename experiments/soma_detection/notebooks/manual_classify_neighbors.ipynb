{
 "cells": [
  {
   "cell_type": "code",
   "execution_count": 1,
   "metadata": {},
   "outputs": [
    {
     "name": "stdout",
     "output_type": "stream",
     "text": [
      "Classification saved!\n"
     ]
    }
   ],
   "source": [
    "from pathlib import Path\n",
    "import os\n",
    "import numpy as np\n",
    "import matplotlib.pyplot as plt\n",
    "from IPython.display import clear_output\n",
    "import pandas as pd\n",
    "\n",
    "radius = 150 \n",
    "\n",
    "root_dir = Path(os.path.abspath('')).parents[1]\n",
    "exp_dir = os.path.join(root_dir, \"soma_detection\")\n",
    "data_dir = os.path.join(exp_dir, \"data\")\n",
    "volumes_dir = os.path.join(data_dir, \"volumes\", str(radius))\n",
    "fig_dir = os.path.join(data_dir, \"figures\")\n",
    "\n",
    "brains = [1]\n",
    "\n",
    "cap = 180\n",
    "\n",
    "d = []\n",
    "for brain in brains:\n",
    "    positive_count = 0\n",
    "    negative_count = 0\n",
    "    brain_name = f\"brain{brain}\"\n",
    "    neigh_dir = os.path.join(fig_dir, brain_name, \"neighbors\")\n",
    "    brain_volumes_dir = os.path.join(volumes_dir, brain_name)\n",
    "    \n",
    "    negative_filenames = os.listdir(os.path.join(neigh_dir, \"0\"))\n",
    "    positive_filenames = os.listdir(os.path.join(neigh_dir, \"1\"))\n",
    "    \n",
    "    filenames = np.concatenate((negative_filenames, positive_filenames))\n",
    "    \n",
    "    r = np.random.default_rng(1234)\n",
    "    r.shuffle(filenames)\n",
    "    \n",
    "    for filename in filenames:\n",
    "        if negative_count == cap:\n",
    "            break\n",
    "\n",
    "        neigh_id = filename.split(\".\")[0]\n",
    "            \n",
    "        neighimg = np.load(os.path.join(brain_volumes_dir, f\"{neigh_id}.npy\"))\n",
    "        proj = np.max(neighimg, 2)\n",
    "            \n",
    "        plt.imshow(proj)\n",
    "        plt.show()\n",
    "        print(f\"{negative_count}/{cap} negatives\")\n",
    "        i = input(\"Is there a soma in this image? [y]es, [n]o, [m]aybe:\\n\")\n",
    "        if i==\"y\":\n",
    "            label = 1\n",
    "            positive_count += 1\n",
    "        elif i==\"m\":\n",
    "            label = -1\n",
    "        elif i==\"n\":\n",
    "            label = 0\n",
    "            negative_count += 1\n",
    "        \n",
    "        clear_output(wait=True)\n",
    "        d.append({\"id\": neigh_id, \"label\":label})\n",
    "\n",
    "    df = pd.DataFrame(d)\n",
    "    df.to_csv(os.path.join(brain_volumes_dir, \"neigh_manual_labels.csv\"))\n",
    "    print(\"Classification saved!\")"
   ]
  },
  {
   "cell_type": "code",
   "execution_count": 10,
   "metadata": {},
   "outputs": [
    {
     "data": {
      "text/plain": [
       "0.9111111111111111"
      ]
     },
     "execution_count": 10,
     "metadata": {},
     "output_type": "execute_result"
    }
   ],
   "source": [
    "negatives = df[df[\"label\"] == 0].to_numpy()[:,0]\n",
    "\n",
    "_negatives = np.array([filename.split(\".\")[0] for filename in negative_filenames])\n",
    "\n",
    "TN = 0\n",
    "for negative in negatives:\n",
    "    if negative in _negatives:\n",
    "        TN += 1\n",
    "TN/len(negatives)"
   ]
  },
  {
   "cell_type": "code",
   "execution_count": null,
   "metadata": {},
   "outputs": [],
   "source": []
  }
 ],
 "metadata": {
  "kernelspec": {
   "display_name": "Python 3",
   "language": "python",
   "name": "python3"
  },
  "language_info": {
   "codemirror_mode": {
    "name": "ipython",
    "version": 3
   },
   "file_extension": ".py",
   "mimetype": "text/x-python",
   "name": "python",
   "nbconvert_exporter": "python",
   "pygments_lexer": "ipython3",
   "version": "3.8.5"
  }
 },
 "nbformat": 4,
 "nbformat_minor": 4
}
