{
 "cells": [
  {
   "cell_type": "markdown",
   "metadata": {},
   "source": [
    "# Plot histograms\n",
    "\n",
    "N.B. Data should be placed in `/brainlit/data/axon_geometry/`"
   ]
  },
  {
   "cell_type": "code",
   "execution_count": 1,
   "metadata": {},
   "outputs": [
    {
     "name": "stderr",
     "output_type": "stream",
     "text": [
      "/Users/thomasathey/Documents/mimlab/mouselight/env/lib/python3.8/site-packages/python_jsonschema_objects/__init__.py:50: UserWarning: Schema version http://json-schema.org/draft-04/schema not recognized. Some keywords and features may not be supported.\n",
      "  warnings.warn(\n"
     ]
    }
   ],
   "source": [
    "import numpy as np\n",
    "import brainlit\n",
    "import scipy\n",
    "from brainlit.utils import swc\n",
    "from cloudvolume.exceptions import SkeletonDecodeError\n",
    "from brainlit.algorithms.trace_analysis.fit_spline import GeometricGraph\n",
    "from brainlit.algorithms.trace_analysis.spline_fxns import curvature, torsion\n",
    "import os\n",
    "from pathlib import Path\n",
    "import pandas as pd\n",
    "from networkx.readwrite import json_graph\n",
    "import json\n",
    "import matplotlib.pyplot as plt\n",
    "from sklearn.neighbors import KernelDensity"
   ]
  },
  {
   "cell_type": "markdown",
   "metadata": {},
   "source": [
    "## Define brain, find trace data folder"
   ]
  },
  {
   "cell_type": "code",
   "execution_count": 2,
   "metadata": {},
   "outputs": [
    {
     "name": "stdout",
     "output_type": "stream",
     "text": [
      "Directory where swcs reside: /Users/thomasathey/Documents/mimlab/mouselight/brainlit_parent/brainlit/data/axon_geometry/brain1/segments_swc\n"
     ]
    }
   ],
   "source": [
    "#specify brain1 or brain2 below\n",
    "brain = \"brain1\"\n",
    "root_dir = data_dir = Path(os.path.abspath('')).parents[1]\n",
    "data_dir = os.path.join(root_dir, \"data/axon_geometry/{}\".format(brain))\n",
    "experiment_dir = os.path.join(root_dir, \"experiments/axon_geometry\")\n",
    "segments_dir = os.path.join(data_dir, \"segments\")\n",
    "segments_swc_dir = os.path.join(data_dir, \"segments_swc\")\n",
    "trace_data_dir = os.path.join(data_dir, \"trace_data\")\n",
    "print(f\"Directory where swcs reside: {segments_swc_dir}\")"
   ]
  },
  {
   "cell_type": "markdown",
   "metadata": {},
   "source": [
    "## Read trace data"
   ]
  },
  {
   "cell_type": "code",
   "execution_count": 3,
   "metadata": {},
   "outputs": [
    {
     "name": "stdout",
     "output_type": "stream",
     "text": [
      "Loaded segment 2\n",
      "Loaded segment 7\n",
      "Loaded segment 11\n",
      "Loaded segment 12\n",
      "Loaded segment 13\n",
      "Loaded segment 14\n",
      "Loaded segment 20\n",
      "Loaded segment 24\n",
      "Loaded segment 28\n",
      "Loaded segment 35\n",
      "Loaded segment 40\n",
      "Loaded segment 45\n",
      "Loaded segment 48\n",
      "Loaded segment 49\n",
      "Loaded segment 51\n",
      "Loaded segment 53\n",
      "Loaded segment 59\n",
      "Loaded segment 60\n",
      "Loaded segment 65\n",
      "Loaded segment 67\n",
      "Loaded segment 69\n",
      "Loaded segment 71\n",
      "Loaded segment 72\n",
      "Loaded segment 73\n",
      "Loaded segment 74\n",
      "Loaded segment 75\n",
      "Loaded segment 76\n",
      "Loaded segment 77\n",
      "Loaded segment 78\n",
      "Loaded segment 79\n",
      "Loaded segment 81\n",
      "Loaded segment 82\n",
      "Loaded segment 83\n",
      "Loaded segment 85\n",
      "Loaded segment 86\n",
      "Loaded segment 91\n",
      "Loaded segment 97\n",
      "Loaded segment 98\n",
      "Loaded segment 99\n",
      "Loaded segment 101\n",
      "Loaded segment 103\n",
      "Loaded segment 106\n",
      "Loaded segment 107\n",
      "Loaded segment 109\n",
      "Loaded segment 111\n",
      "Loaded segment 112\n",
      "Loaded segment 115\n",
      "Loaded segment 118\n",
      "Loaded segment 120\n",
      "Loaded segment 124\n",
      "Loaded segment 126\n",
      "Loaded segment 127\n",
      "Loaded segment 129\n",
      "Loaded segment 132\n",
      "Loaded segment 133\n",
      "Loaded segment 136\n",
      "Loaded segment 137\n",
      "Loaded segment 140\n",
      "Loaded segment 141\n",
      "Loaded segment 142\n",
      "Loaded segment 143\n",
      "Loaded segment 144\n",
      "Loaded segment 145\n",
      "Loaded segment 146\n",
      "Loaded segment 147\n",
      "Loaded segment 149\n",
      "Loaded segment 150\n",
      "Loaded segment 151\n",
      "Loaded segment 152\n",
      "Loaded segment 153\n",
      "Loaded segment 154\n",
      "Loaded segment 155\n",
      "Loaded segment 156\n",
      "Loaded segment 157\n",
      "Loaded segment 158\n",
      "Loaded segment 159\n",
      "Loaded segment 160\n",
      "Loaded segment 161\n",
      "Loaded segment 162\n",
      "Loaded segment 163\n",
      "Loaded segment 164\n",
      "Loaded segment 165\n",
      "Loaded segment 166\n",
      "Loaded segment 167\n",
      "Loaded segment 169\n",
      "Loaded segment 170\n",
      "Loaded segment 171\n",
      "Loaded segment 172\n",
      "Loaded segment 173\n",
      "Loaded segment 174\n",
      "Loaded segment 175\n",
      "Loaded segment 176\n",
      "Loaded segment 177\n",
      "Loaded segment 178\n",
      "Loaded segment 179\n",
      "Loaded segment 180\n",
      "Loaded segment 181\n",
      "Loaded segment 182\n",
      "Loaded segment 183\n",
      "Loaded segment 184\n",
      "Loaded segment 185\n",
      "Loaded segment 186\n",
      "Loaded segment 187\n",
      "Loaded segment 188\n",
      "Loaded segment 189\n",
      "Loaded segment 190\n",
      "Loaded segment 192\n",
      "Loaded segment 193\n",
      "Loaded segment 194\n",
      "Loaded segment 195\n",
      "Loaded segment 196\n",
      "Loaded segment 197\n",
      "Loaded segment 198\n",
      "Loaded segment 199\n",
      "Loaded segment 200\n",
      "Loaded segment 201\n",
      "Loaded segment 202\n",
      "Loaded segment 205\n",
      "Loaded segment 207\n",
      "Loaded segment 208\n",
      "Loaded segment 214\n",
      "Loaded segment 223\n",
      "Loaded segment 224\n",
      "Loaded segment 225\n",
      "Loaded segment 227\n",
      "Loaded segment 228\n",
      "Loaded segment 229\n",
      "Loaded segment 230\n",
      "Loaded segment 231\n",
      "Loaded segment 232\n",
      "Loaded segment 234\n",
      "Loaded segment 235\n",
      "Loaded segment 236\n",
      "Loaded segment 237\n",
      "Loaded segment 240\n",
      "Loaded segment 243\n",
      "Loaded segment 246\n",
      "Loaded segment 247\n",
      "Loaded segment 248\n",
      "Loaded segment 249\n",
      "Loaded segment 250\n",
      "Loaded segment 252\n",
      "Loaded segment 253\n",
      "Loaded segment 254\n",
      "Loaded segment 255\n",
      "Loaded segment 256\n",
      "Loaded segment 257\n",
      "Loaded segment 258\n",
      "Loaded segment 259\n",
      "Loaded segment 261\n",
      "Loaded segment 262\n",
      "Loaded segment 265\n",
      "Loaded segment 266\n",
      "Loaded segment 267\n",
      "Loaded segment 269\n",
      "Loaded segment 270\n",
      "Loaded segment 271\n",
      "Loaded segment 272\n",
      "Loaded segment 274\n",
      "Loaded segment 275\n",
      "Loaded segment 276\n",
      "Loaded segment 277\n",
      "Loaded segment 278\n",
      "Loaded segment 279\n",
      "Loaded segment 280\n",
      "Loaded segment 281\n",
      "Loaded segment 282\n",
      "Loaded segment 283\n",
      "Loaded segment 284\n",
      "Loaded segment 285\n",
      "Loaded segment 286\n",
      "Loaded segment 287\n",
      "Loaded segment 288\n",
      "Loaded segment 289\n",
      "Loaded segment 291\n",
      "Loaded segment 293\n",
      "Loaded segment 294\n",
      "Loaded segment 295\n",
      "Loaded segment 296\n",
      "Loaded segment 298\n"
     ]
    }
   ],
   "source": [
    "max_id = 300\n",
    "seg_lengths = []\n",
    "mean_torsions = []\n",
    "mean_curvatures = []\n",
    "d_from_root = []\n",
    "torsions = []\n",
    "curvatures = []\n",
    "for i in np.arange(0, max_id):\n",
    "    i = int(i)\n",
    "    trace_data_path = os.path.join(trace_data_dir, \"{}.npy\".format(i))\n",
    "    if os.path.exists(trace_data_path) is True:\n",
    "        trace_data = np.load(trace_data_path, allow_pickle=True)\n",
    "        print(\"Loaded segment {}\".format(i))\n",
    "\n",
    "        for node in trace_data:\n",
    "            # print(node)\n",
    "            seg_lengths.append(node[\"seg_length\"])\n",
    "            mean_curvatures.append(node[\"mean_curvature\"])\n",
    "            mean_torsions.append(node[\"mean_torsion\"])\n",
    "            \n",
    "# ARRAY MANIPULATION TO CONVERT EVERYTHING TO NUMPY, REMOVE POINTS THAT WOULD YIELD -INF IN LOG\n",
    "seg_lengths = np.array(seg_lengths)\n",
    "mean_curvatures = np.array(mean_curvatures)\n",
    "mean_torsions = np.abs(np.array(mean_torsions))"
   ]
  },
  {
   "cell_type": "markdown",
   "metadata": {},
   "source": [
    "# Define helper variables"
   ]
  },
  {
   "cell_type": "code",
   "execution_count": 4,
   "metadata": {},
   "outputs": [],
   "source": [
    "log_seg_lengths = np.log10(seg_lengths)\n",
    "min_log_seg_length = min(log_seg_lengths)\n",
    "max_log_seg_length = max(log_seg_lengths)\n",
    "xx = np.linspace(min_log_seg_length, max_log_seg_length, 1000)[:, np.newaxis]"
   ]
  },
  {
   "cell_type": "markdown",
   "metadata": {},
   "source": [
    "## Compute KDE of the curvatures"
   ]
  },
  {
   "cell_type": "code",
   "execution_count": 5,
   "metadata": {},
   "outputs": [
    {
     "name": "stdout",
     "output_type": "stream",
     "text": [
      "0.24138821273143027 0.7586117872685697\n"
     ]
    }
   ],
   "source": [
    "zero_curvatures_log_seg_lengths = log_seg_lengths[np.where(mean_curvatures < 1e-16)[0]]\n",
    "nonzero_curvatures_log_seg_lengths = log_seg_lengths[\n",
    "    np.where(mean_curvatures > 1e-16)[0]\n",
    "]\n",
    "zero_kde = KernelDensity(kernel=\"gaussian\", bandwidth=0.1).fit(\n",
    "    zero_curvatures_log_seg_lengths[:, np.newaxis]\n",
    ")\n",
    "nonzero_kde = KernelDensity(kernel=\"gaussian\", bandwidth=0.25).fit(\n",
    "    nonzero_curvatures_log_seg_lengths[:, np.newaxis]\n",
    ")\n",
    "zero_log_dens = zero_kde.score_samples(xx)\n",
    "nonzero_log_dens = nonzero_kde.score_samples(xx)\n",
    "# ax.hist(zero_curvatures_log_seg_lengths, density=True)\n",
    "# ax.hist(nonzero_curvatures_log_seg_lengths, density=True)\n",
    "alpha_zero_curvatures = len(zero_curvatures_log_seg_lengths) / len(seg_lengths)\n",
    "alpha_nonzero_curvatures = len(nonzero_curvatures_log_seg_lengths) / len(seg_lengths)\n",
    "print(alpha_zero_curvatures, alpha_nonzero_curvatures)\n",
    "zero_curvatures_norm_pdf = alpha_zero_curvatures * np.exp(zero_log_dens)\n",
    "nonzero_curvatures_norm_pdf = alpha_nonzero_curvatures * np.exp(nonzero_log_dens)"
   ]
  },
  {
   "cell_type": "markdown",
   "metadata": {},
   "source": [
    "## Compute KDE of the torsions"
   ]
  },
  {
   "cell_type": "code",
   "execution_count": 6,
   "metadata": {},
   "outputs": [
    {
     "name": "stdout",
     "output_type": "stream",
     "text": [
      "0.38658995352954195 0.613410046470458\n"
     ]
    }
   ],
   "source": [
    "zero_torsions_log_seg_lengths = log_seg_lengths[np.where(mean_torsions < 1e-16)[0]]\n",
    "nonzero_torsions_log_seg_lengths = log_seg_lengths[np.where(mean_torsions > 1e-16)[0]]\n",
    "zero_kde = KernelDensity(kernel=\"gaussian\", bandwidth=0.1).fit(\n",
    "    zero_torsions_log_seg_lengths[:, np.newaxis]\n",
    ")\n",
    "nonzero_kde = KernelDensity(kernel=\"gaussian\", bandwidth=0.25).fit(\n",
    "    nonzero_torsions_log_seg_lengths[:, np.newaxis]\n",
    ")\n",
    "zero_log_dens = zero_kde.score_samples(xx)\n",
    "nonzero_log_dens = nonzero_kde.score_samples(xx)\n",
    "# ax.hist(zero_torsions_log_seg_lengths, density=True)\n",
    "# ax.hist(nonzero_torsions_log_seg_lengths, density=True)\n",
    "alpha_zero_torsions = len(zero_torsions_log_seg_lengths) / len(seg_lengths)\n",
    "alpha_nonzero_torsions = len(nonzero_torsions_log_seg_lengths) / len(seg_lengths)\n",
    "print(alpha_zero_torsions, alpha_nonzero_torsions)\n",
    "zero_torsions_norm_pdf = alpha_zero_torsions * np.exp(zero_log_dens)\n",
    "nonzero_torsions_norm_pdf = alpha_nonzero_torsions * np.exp(nonzero_log_dens)"
   ]
  },
  {
   "cell_type": "markdown",
   "metadata": {},
   "source": [
    "## Plot figure"
   ]
  },
  {
   "cell_type": "code",
   "execution_count": 7,
   "metadata": {},
   "outputs": [
    {
     "data": {
      "text/plain": [
       "Text(0.5, 0.98, 'Brain 1')"
      ]
     },
     "execution_count": 7,
     "metadata": {},
     "output_type": "execute_result"
    },
    {
     "data": {
      "image/png": "[encoded data removed]",
      "text/plain": [
       "<Figure size 1512x504 with 2 Axes>"
      ]
     },
     "metadata": {
      "needs_background": "dark"
     },
     "output_type": "display_data"
    }
   ],
   "source": [
    "fig = plt.figure(figsize=(21, 7))\n",
    "axes = fig.subplots(1, 2)\n",
    "GRAY = \"#999999\"\n",
    "TITLE_TYPE_SETTINGS = {\"fontname\": \"Arial\", \"size\": 20}\n",
    "SUP_TITLE_TYPE_SETTINGS = {\"fontname\": \"Arial\", \"size\": 24}\n",
    "plt.rc(\"font\", family=\"Arial\", size=20)\n",
    "\n",
    "log_seg_lengths = np.log10(seg_lengths)\n",
    "min_log_seg_length = min(log_seg_lengths)\n",
    "max_log_seg_length = max(log_seg_lengths)\n",
    "xx = np.linspace(min_log_seg_length, max_log_seg_length, 1000)[:, np.newaxis]\n",
    "\n",
    "ax = axes[0]\n",
    "ax.spines[\"bottom\"].set_color(GRAY)\n",
    "ax.spines[\"top\"].set_color(GRAY)\n",
    "ax.spines[\"right\"].set_color(GRAY)\n",
    "ax.spines[\"left\"].set_color(GRAY)\n",
    "ax.tick_params(axis=\"both\", colors=GRAY, labelsize=\"large\")\n",
    "\n",
    "ax.fill_between(xx.squeeze(), 0, zero_curvatures_norm_pdf, alpha=0.7, label=r\"$\\mathcal{k} = 0$\")\n",
    "ax.fill_between(\n",
    "    xx.squeeze(), 0, nonzero_curvatures_norm_pdf, alpha=0.7, label=r\"$\\mathcal{k} > 0$\"\n",
    ")\n",
    "\n",
    "mask = np.array(\n",
    "    [\n",
    "        False if zero_ > nonzero_ else True\n",
    "        for zero_, nonzero_ in zip(zero_curvatures_norm_pdf, nonzero_curvatures_norm_pdf)\n",
    "    ]\n",
    ")\n",
    "ids = np.where(mask == True)[0]\n",
    "xx_dashed = xx.squeeze()[ids]\n",
    "zero_curvatures_norm_pdf_dashed = zero_curvatures_norm_pdf[ids]\n",
    "ax.plot(xx_dashed.squeeze(), zero_curvatures_norm_pdf_dashed, \"--\")\n",
    "\n",
    "\n",
    "ax.set_title(r\"Curvature ($\\alpha = %.2f$)\" % alpha_zero_curvatures)\n",
    "ax.set_xlabel(r\"$\\log$ segment length ($\\mu m$)\", fontsize=24)\n",
    "ax.set_ylabel(r\"pdf\", fontsize=24)\n",
    "leg = ax.legend(loc=1)\n",
    "leg.get_frame().set_edgecolor(GRAY)\n",
    "ax.set_xticks([1, 2, 3, 4])\n",
    "\n",
    "ax = axes[1]\n",
    "ax.spines[\"bottom\"].set_color(GRAY)\n",
    "ax.spines[\"top\"].set_color(GRAY)\n",
    "ax.spines[\"right\"].set_color(GRAY)\n",
    "ax.spines[\"left\"].set_color(GRAY)\n",
    "ax.tick_params(axis=\"both\", colors=GRAY, labelsize=\"large\")\n",
    "\n",
    "ax.fill_between(xx.squeeze(), 0, zero_torsions_norm_pdf, alpha=0.7, label=r\"$\\tau = 0$\")\n",
    "ax.fill_between(xx.squeeze(), 0, nonzero_torsions_norm_pdf, alpha=0.7, label=r\"$\\tau > 0$\")\n",
    "\n",
    "mask = np.array(\n",
    "    [\n",
    "        False if zero_ > nonzero_ else True\n",
    "        for zero_, nonzero_ in zip(zero_torsions_norm_pdf, nonzero_torsions_norm_pdf)\n",
    "    ]\n",
    ")\n",
    "ids = np.where(mask == True)[0]\n",
    "xx_dashed = xx.squeeze()[ids]\n",
    "zero_torsions_norm_pdf_dashed = zero_torsions_norm_pdf[ids]\n",
    "ax.plot(xx_dashed.squeeze(), zero_torsions_norm_pdf_dashed, \"--\")\n",
    "\n",
    "ax.set_title(r\"Torsion ($\\alpha = %.2f$)\" % alpha_zero_torsions)\n",
    "ax.set_xlabel(r\"$\\log$ segment length ($\\mu m$)\", fontsize=24)\n",
    "ax.set_ylabel(r\"pdf\", fontsize=24)\n",
    "leg = ax.legend(loc=1)\n",
    "leg.get_frame().set_edgecolor(GRAY)\n",
    "ax.set_xticks([1, 2, 3, 4])\n",
    "\n",
    "\n",
    "title = \"Brain 1\" if brain == \"brain1\" else \"Brain 2\"\n",
    "fig.suptitle(title)"
   ]
  },
  {
   "cell_type": "markdown",
   "metadata": {},
   "source": [
    "## Save figure"
   ]
  },
  {
   "cell_type": "code",
   "execution_count": 8,
   "metadata": {},
   "outputs": [
    {
     "data": {
      "text/plain": [
       "<Figure size 432x288 with 0 Axes>"
      ]
     },
     "metadata": {},
     "output_type": "display_data"
    }
   ],
   "source": [
    "plt.savefig(os.path.join(experiment_dir, \"figures/{}_histograms.jpg\".format(brain)))\n",
    "plt.savefig(os.path.join(experiment_dir, \"figures/{}_histograms.eps\".format(brain)))"
   ]
  },
  {
   "cell_type": "code",
   "execution_count": null,
   "metadata": {},
   "outputs": [],
   "source": []
  }
 ],
 "metadata": {
  "kernelspec": {
   "display_name": "Python 3",
   "language": "python",
   "name": "python3"
  },
  "language_info": {
   "codemirror_mode": {
    "name": "ipython",
    "version": 3
   },
   "file_extension": ".py",
   "mimetype": "text/x-python",
   "name": "python",
   "nbconvert_exporter": "python",
   "pygments_lexer": "ipython3",
   "version": "3.8.6"
  }
 },
 "nbformat": 4,
 "nbformat_minor": 4
}
