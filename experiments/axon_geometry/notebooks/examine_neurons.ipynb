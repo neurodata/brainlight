{
 "cells": [
  {
   "cell_type": "code",
   "execution_count": 1,
   "metadata": {},
   "outputs": [
    {
     "name": "stderr",
     "output_type": "stream",
     "text": [
      "/cis/home/jteneggi/anaconda3/envs/cuda10/lib/python3.8/site-packages/python_jsonschema_objects/__init__.py:50: UserWarning: Schema version http://json-schema.org/draft-04/schema not recognized. Some keywords and features may not be supported.\n",
      "  warnings.warn(\n"
     ]
    }
   ],
   "source": [
    "from pathlib import Path\n",
    "import os\n",
    "import pandas as pd\n",
    "import seaborn as sns\n",
    "import matplotlib.pyplot as plt\n",
    "import numpy as np\n",
    "import scipy\n",
    "from tqdm import tqdm\n",
    "from brainlit.utils.Neuron_trace import NeuronTrace\n",
    "from mpl_toolkits.mplot3d import Axes3D\n",
    "from brainlit.algorithms.trace_analysis.fit_spline import GeometricGraph\n",
    "from scipy.interpolate import splev\n",
    "import seaborn as sns"
   ]
  },
  {
   "cell_type": "markdown",
   "metadata": {},
   "source": [
    "## Define brain, find trace data folder"
   ]
  },
  {
   "cell_type": "code",
   "execution_count": 2,
   "metadata": {},
   "outputs": [
    {
     "name": "stdout",
     "output_type": "stream",
     "text": [
      "Directory where swcs reside: /cis/home/jteneggi/repo/brainlit/experiments/axon_geometry/data/brain1/segments_swc\n"
     ]
    }
   ],
   "source": [
    "#specify brain1 or brain2 below\n",
    "brain = \"brain1\"\n",
    "\n",
    "root_dir = Path(os.path.abspath('')).parents[1]\n",
    "experiment_dir = os.path.join(root_dir, \"axon_geometry\")\n",
    "data_dir = os.path.join(experiment_dir, \"data\", brain)\n",
    "segments_swc_dir = os.path.join(data_dir, \"segments_swc\")\n",
    "trace_data_dir = os.path.join(data_dir, \"trace_data\")\n",
    "trace_data_dir = os.path.join(trace_data_dir, \"14\")\n",
    "print(f\"Directory where swcs reside: {segments_swc_dir}\")"
   ]
  },
  {
   "cell_type": "markdown",
   "metadata": {},
   "source": [
    "## Read trace data"
   ]
  },
  {
   "cell_type": "code",
   "execution_count": 3,
   "metadata": {},
   "outputs": [],
   "source": [
    "max_id = 300\n",
    "\n",
    "\n",
    "def classify_height(row):\n",
    "    height = row[\"height\"]\n",
    "    if height <= 2:\n",
    "        return height\n",
    "    else:\n",
    "        return 3\n",
    "\n",
    "def numerical_class(row):\n",
    "    _class = row[\"class\"]\n",
    "    if _class == \"primary\":\n",
    "        return 0\n",
    "    if _class == \"collateral\":\n",
    "        return 1\n",
    "    if _class == \"terminal\":\n",
    "        return 2\n",
    "\n",
    "df_path = os.path.join(trace_data_dir, \"df.csv\")\n",
    "if os.path.exists(df_path):\n",
    "    df = pd.read_csv(df_path)\n",
    "else:\n",
    "    df = pd.DataFrame(columns=[\"seg_id\", \"class\", \"height\", \"log_seg_length\", \"measure\", \"value\", \"log_value\"])\n",
    "    for i in tqdm(np.arange(0, max_id)):\n",
    "        i = int(i)\n",
    "        trace_data_path = os.path.join(trace_data_dir, \"{}.npy\".format(i))\n",
    "        if os.path.exists(trace_data_path) is True:\n",
    "            trace_data = np.load(trace_data_path, allow_pickle=True)\n",
    "\n",
    "            for node in trace_data:\n",
    "                seg_length = node[\"seg_length\"]\n",
    "                height = node[\"height\"]\n",
    "                _class = node[\"class\"]\n",
    "                mean_curvature = node[\"mean_curvature\"]\n",
    "                mean_torsion = node[\"mean_torsion\"]\n",
    "                \n",
    "                log_seg_length = np.log10(seg_length)\n",
    "\n",
    "                log_mean_curvature = np.log10(mean_curvature)\n",
    "                df = df.append({\"seg_id\": i, \"height\": height, \"class\": _class, \"log_seg_length\": log_seg_length, \"measure\": \"curvature\", \"value\": mean_curvature, \"log_value\": log_mean_curvature}, ignore_index=True)\n",
    "\n",
    "                log_mean_torsion = np.log10(mean_torsion)\n",
    "                df = df.append({\"seg_id\": i, \"height\": height, \"class\": _class, \"log_seg_length\": log_seg_length, \"measure\": \"torsion\", \"value\": mean_torsion, \"log_value\": log_mean_torsion}, ignore_index=True)\n",
    "    df.to_csv(df_path)\n",
    "df[\"class\"] = df.apply(numerical_class, axis=1)\n",
    "df[\"height_class\"] = df.apply(classify_height, axis=1)"
   ]
  },
  {
   "cell_type": "markdown",
   "metadata": {},
   "source": [
    "## Count number of neurons that fall into different orderings"
   ]
  },
  {
   "cell_type": "code",
   "execution_count": 4,
   "metadata": {
    "tags": []
   },
   "outputs": [
    {
     "name": "stderr",
     "output_type": "stream",
     "text": [
      "100%|██████████| 300/300 [00:07<00:00, 41.94it/s]\n"
     ]
    }
   ],
   "source": [
    "measures = [\"curvature\", \"torsion\"]\n",
    "\n",
    "classes = {0: \"primary\", 1: \"collateral\", 2: \"terminal\"}\n",
    "n = len(classes)\n",
    "data = np.zeros((2,3))\n",
    "df_order = pd.DataFrame(columns=[\"Curvature Order\", \"Torsion Order\", \"Neuron Index\"])\n",
    "\n",
    "\n",
    "matrix_pairs = np.triu(np.ones((n, n)), k=1)\n",
    "(coord_pairs_x, coord_pairs_y) = np.where(matrix_pairs == 1)\n",
    "\n",
    "for i in tqdm(np.arange(0, max_id)):\n",
    "    sample_query = df.loc[(df['seg_id'] == i)]\n",
    "    num_segments = len(sample_query.index)\n",
    "    if num_segments == 0:\n",
    "        continue\n",
    "\n",
    "    for row, measure in enumerate(measures):\n",
    "        for col, clas in enumerate(classes.keys()):\n",
    "            sample_query = df.loc[(df['seg_id'] == i) & (df['class'] == clas) & (df['measure'] == measure)]\n",
    "            value = np.mean(sample_query[\"value\"].to_numpy())\n",
    "            data[row, col] = value\n",
    "\n",
    "    if data[0,0] > data[0,1] and data[0,1] > data[0,2]:\n",
    "        curv_order = \"P > C > T\"\n",
    "    elif data[0,0] > data[0,2] and data[0,2] > data[0,1]:\n",
    "        curv_order = \"P > T > C\"\n",
    "    elif data[0,1] > data[0,0] and data[0,0] > data[0,2]: \n",
    "        curv_order = \"C > P > T\"\n",
    "    elif data[0,1] > data[0,2] and data[0,2] > data[0,0]: # collateral > terminal > primary\n",
    "        curv_order = \"C > T > P\"\n",
    "    elif data[0,2] > data[0,0] and data[0,0] > data[0,1]:\n",
    "        curv_order = \"T > P > C\"\n",
    "    elif data[0,2] > data[0,1] and data[0,1] > data[0,0]:\n",
    "        curv_order = \"T > C > P\"\n",
    "\n",
    "    if data[1,0] > data[1,1] and data[1,1] > data[1,2]:\n",
    "        tor_order = \"P > C > T\"\n",
    "    elif data[1,0] > data[1,2] and data[1,2] > data[1,1]:\n",
    "        tor_order = \"P > T > C\"\n",
    "    elif data[1,1] > data[1,0] and data[1,0] > data[1,2]: # collateral > primary > terminal\n",
    "        tor_order = \"C > P > T\"\n",
    "    elif data[1,1] > data[1,0] and data[1,2] > data[1,0]:\n",
    "        tor_order = \"C > T > P\"\n",
    "    elif data[1,2] > data[1,0] and data[1,0] > data[1,1]:\n",
    "        tor_order = \"T > P > C\"\n",
    "    elif data[1,2] > data[1,1] and data[1,1] > data[1,0]:\n",
    "        tor_order = \"T > C > P\"\n",
    "\n",
    "    df_order = df_order.append({\"Curvature Order\": curv_order, \"Torsion Order\": tor_order, \"Neuron Index\": i},ignore_index=True)\n",
    "\n"
   ]
  },
  {
   "cell_type": "code",
   "execution_count": 5,
   "metadata": {},
   "outputs": [],
   "source": [
    "df_counts = pd.DataFrame(columns = [\"Curvature Order\", \"Torsion Order\", \"Count\"])\n",
    "\n",
    "for curv_order in [\"P > C > T\", \"P > T > C\", \"C > P > T\", \"C > T > P\", \"T > P > C\", \"T > C > P\"]:\n",
    "    for tor_order in [\"P > C > T\", \"P > T > C\", \"C > P > T\", \"C > T > P\", \"T > P > C\", \"T > C > P\"]:\n",
    "        count = df_order.loc[(df_order['Curvature Order'] == curv_order) & (df_order['Torsion Order'] == tor_order)].shape[0]\n",
    "        df_counts = df_counts.append({\"Curvature Order\": curv_order, \"Torsion Order\": tor_order, \"Count\": count}, ignore_index=True)\n",
    "\n",
    "df_counts = df_counts.astype({\"Count\": 'int32'})\n",
    "df_counts = df_counts.pivot(\"Curvature Order\", \"Torsion Order\", \"Count\")"
   ]
  },
  {
   "cell_type": "markdown",
   "metadata": {},
   "source": [
    "## Display heatmap of ordering frequencies and save image"
   ]
  },
  {
   "cell_type": "code",
   "execution_count": 6,
   "metadata": {},
   "outputs": [
    {
     "data": {
      "image/png": "[encoded data removed]",
      "text/plain": [
       "<Figure size 432x288 with 2 Axes>"
      ]
     },
     "metadata": {},
     "output_type": "display_data"
    }
   ],
   "source": [
    "sns.set(font_scale=1.3)\n",
    "ax = sns.heatmap(df_counts, annot=True)\n",
    "title = \"Brain \" + brain[-1]\n",
    "ax.set_title(title)\n",
    "filename = brain + \"_heatmap.png\"\n",
    "out_path = os.path.join(experiment_dir, \"figures\",  filename)\n",
    "plt.savefig(out_path, dpi=400, bbox_inches='tight')"
   ]
  },
  {
   "cell_type": "markdown",
   "metadata": {},
   "source": [
    "### Define helper function"
   ]
  },
  {
   "cell_type": "code",
   "execution_count": 7,
   "metadata": {},
   "outputs": [],
   "source": [
    "def node_height(G, node):\n",
    "    predecessors = list(G.predecessors(node))\n",
    "    L = len(predecessors)\n",
    "    assert L == 1 or L == 0\n",
    "    if L == 0:\n",
    "        return 0\n",
    "    else:\n",
    "        return 1 + node_height(G, predecessors[0])"
   ]
  },
  {
   "cell_type": "markdown",
   "metadata": {},
   "source": [
    "## Plot and save neuron image\n",
    "User should specify `plot_common_ordering`, `idx`"
   ]
  },
  {
   "cell_type": "code",
   "execution_count": 15,
   "metadata": {
    "tags": []
   },
   "outputs": [
    {
     "name": "stdout",
     "output_type": "stream",
     "text": [
      "Loaded segment 7\n"
     ]
    },
    {
     "data": {
      "image/png": "[encoded data removed]",
      "text/plain": [
       "<Figure size 432x288 with 1 Axes>"
      ]
     },
     "metadata": {},
     "output_type": "display_data"
    }
   ],
   "source": [
    "# if true, will plot a neuron whose curvature/torsion ordering is the most common (collaterl>terminal>primary for curvature collaterl>primary>terminal for torsion)\n",
    "# if false, will plot a neuron that has a different ordering\n",
    "plot_common_ordering = True \n",
    "# index of the neuron within the class specified by plot_common_ordering above\n",
    "idx = 0\n",
    "\n",
    "if plot_common_ordering:\n",
    "    i = df_order.loc[(df_order['Curvature Order'] == \"C > T > P\") & (df_order['Torsion Order'] == \"C > P > T\")][\"Neuron Index\"].iloc[idx]\n",
    "else:\n",
    "    i = df_order.loc[(df_order['Curvature Order'] == \"C > T > P\") & (df_order['Torsion Order'] == \"C > P > T\")][\"Neuron Index\"].iloc[idx]\n",
    "\n",
    "\n",
    "string_id = str(i).zfill(3)\n",
    "seg_swc_path = os.path.join(\n",
    "    segments_swc_dir,\n",
    "    \"{}_g-{}_consensus.swc\".format(\n",
    "        \"2018-08-01\" if brain == \"brain1\" else \"2018-12-01\", string_id\n",
    "    ),\n",
    ")\n",
    "swc_trace = NeuronTrace(path=seg_swc_path)\n",
    "df_swc_offset_neuron = swc_trace.get_df()\n",
    "\n",
    "print(\"Loaded segment {}\".format(i))\n",
    "G = GeometricGraph(df=df_swc_offset_neuron)\n",
    "spline_tree = G.fit_spline_tree_invariant()\n",
    "\n",
    "fig = plt.figure()\n",
    "ax = Axes3D(fig)\n",
    "\n",
    "for j, node in enumerate(spline_tree.nodes):\n",
    "    spline = spline_tree.nodes[node]\n",
    "    spline_height = node_height(spline_tree, node)\n",
    "    tck, u_um = spline[\"spline\"]\n",
    "    y = splev(np.arange(u_um[0],u_um[-1], 0.1), tck)\n",
    "\n",
    "    if spline_height == 0:\n",
    "        c = \"b\"\n",
    "        ax.scatter(y[0][0],y[1][0],y[2][0],'b')\n",
    "    else:\n",
    "        successors = spline_tree.successors(node)\n",
    "        if len(list(successors)) == 0:\n",
    "            c = \"g\"\n",
    "        else:\n",
    "            c = \"r\"\n",
    "\n",
    "    ax.plot(y[0], y[1], y[2], c, linewidth=0.5)\n",
    "\n",
    "ax.set_axis_off()\n",
    "\n",
    "if plot_common_ordering:\n",
    "    filename = brain + \"_common_order.eps\"\n",
    "else:\n",
    "    filename = brain + \"_not_common_order.eps\"\n",
    "\n",
    "out_path = os.path.join(experiment_dir, \"figures\",  filename)\n",
    "plt.savefig(out_path, dpi=400)"
   ]
  },
  {
   "cell_type": "markdown",
   "metadata": {},
   "source": [
    "## Look at all neurons in the different groups"
   ]
  },
  {
   "cell_type": "code",
   "execution_count": 9,
   "metadata": {},
   "outputs": [],
   "source": [
    "for i in example1_idxs:\n",
    "    string_id = str(i).zfill(3)\n",
    "    seg_swc_path = os.path.join(\n",
    "        segments_swc_dir,\n",
    "        \"{}_G-{}_consensus.swc\".format(\n",
    "            \"2018-08-01\" if brain == \"brain1\" else \"2018-12-01\", string_id\n",
    "        ),\n",
    "    )\n",
    "    swc_trace = NeuronTrace(path=seg_swc_path)\n",
    "    df_swc_offset_neuron = swc_trace.get_df()\n",
    "\n",
    "    print(\"Loaded segment {}\".format(i))\n",
    "    G = GeometricGraph(df=df_swc_offset_neuron)\n",
    "    spline_tree = G.fit_spline_tree_invariant()\n",
    "\n",
    "    fig = plt.figure()\n",
    "    ax = Axes3D(fig)\n",
    "\n",
    "    for j, node in enumerate(spline_tree.nodes):\n",
    "        spline = spline_tree.nodes[node]\n",
    "        spline_height = node_height(spline_tree, node)\n",
    "        tck, u_um = spline[\"spline\"]\n",
    "        y = splev(np.arange(u_um[0],u_um[-1], 0.1), tck)\n",
    "\n",
    "        if spline_height == 0:\n",
    "            c = \"b\"\n",
    "            ax.scatter(y[0][0],y[1][0],y[2][0],'b')\n",
    "        else:\n",
    "            successors = spline_tree.successors(node)\n",
    "            if len(list(successors)) == 0:\n",
    "                c = \"g\"\n",
    "            else:\n",
    "                c = \"r\"\n",
    "\n",
    "        ax.plot(y[0], y[1], y[2], c, linewidth=0.5)\n",
    "\n",
    "    ax.set_axis_off()\n",
    "    ax.set_title(i)\n",
    "    plt.show()"
   ]
  },
  {
   "cell_type": "code",
   "execution_count": null,
   "metadata": {},
   "outputs": [],
   "source": []
  }
 ],
 "metadata": {
  "kernelspec": {
   "display_name": "Python 3",
   "language": "python",
   "name": "python3"
  },
  "language_info": {
   "codemirror_mode": {
    "name": "ipython",
    "version": 3
   },
   "file_extension": ".py",
   "mimetype": "text/x-python",
   "name": "python",
   "nbconvert_exporter": "python",
   "pygments_lexer": "ipython3",
   "version": "3.8.5"
  }
 },
 "nbformat": 4,
 "nbformat_minor": 4
}
