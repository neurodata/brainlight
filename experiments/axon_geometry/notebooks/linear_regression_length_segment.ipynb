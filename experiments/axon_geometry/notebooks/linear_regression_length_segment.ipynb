{
 "cells": [
  {
   "cell_type": "markdown",
   "metadata": {},
   "source": [
    "# Plot linear regression fits\n",
    "\n",
    "N.B. Data should be placed in `/brainlit/data/poster/reproduction`"
   ]
  },
  {
   "cell_type": "code",
   "execution_count": null,
   "metadata": {},
   "outputs": [],
   "source": [
    "import numpy as np\n",
    "import brainlit\n",
    "import scipy\n",
    "from brainlit.utils import swc\n",
    "from cloudvolume.exceptions import SkeletonDecodeError\n",
    "from brainlit.algorithms.trace_analysis.fit_spline import GeometricGraph\n",
    "from brainlit.algorithms.trace_analysis.spline_fxns import curvature, torsion\n",
    "import os\n",
    "from pathlib import Path\n",
    "import pandas as pd\n",
    "from networkx.readwrite import json_graph\n",
    "import json\n",
    "import matplotlib.pyplot as plt"
   ]
  },
  {
   "cell_type": "markdown",
   "metadata": {},
   "source": [
    "## Define brain, find trace data folder"
   ]
  },
  {
   "cell_type": "code",
   "execution_count": null,
   "metadata": {},
   "outputs": [],
   "source": [
    "#specify brain1 or brain2 below\n",
    "brain = \"brain1\"\n",
    "\n",
    "root_dir = Path(os.path.abspath('')).parents[1]\n",
    "experiment_dir = os.path.join(root_dir, \"axon_geometry\")\n",
    "data_dir = os.path.join(experiment_dir, \"data\", brain)\n",
    "segments_swc_dir = os.path.join(data_dir, \"segments_swc\")\n",
    "trace_data_dir = os.path.join(data_dir, \"trace_data\")\n",
    "print(f\"Directory where swcs reside: {segments_swc_dir}\")"
   ]
  },
  {
   "cell_type": "markdown",
   "metadata": {},
   "source": [
    "## Read trace data"
   ]
  },
  {
   "cell_type": "code",
   "execution_count": null,
   "metadata": {},
   "outputs": [],
   "source": [
    "max_id = 300\n",
    "seg_lengths = []\n",
    "mean_torsions = []\n",
    "mean_curvatures = []\n",
    "d_from_root = []\n",
    "torsions = []\n",
    "curvatures = []\n",
    "for i in np.arange(0, max_id):\n",
    "    i = int(i)\n",
    "    trace_data_path = os.path.join(trace_data_dir, \"{}.npy\".format(i))\n",
    "    if os.path.exists(trace_data_path) is True:\n",
    "        trace_data = np.load(trace_data_path, allow_pickle=True)\n",
    "        print(\"Loaded segment {}\".format(i))\n",
    "\n",
    "        for node in trace_data:\n",
    "            # print(node)\n",
    "            seg_lengths.append(node[\"seg_length\"])\n",
    "            mean_curvatures.append(node[\"mean_curvature\"])\n",
    "            mean_torsions.append(node[\"mean_torsion\"])\n",
    "            \n",
    "seg_lengths = np.array(seg_lengths)\n",
    "mean_curvatures = np.array(mean_curvatures)\n",
    "mean_torsions = np.abs(np.array(mean_torsions))"
   ]
  },
  {
   "cell_type": "markdown",
   "metadata": {},
   "source": [
    "## Fit curvatures"
   ]
  },
  {
   "cell_type": "code",
   "execution_count": null,
   "metadata": {},
   "outputs": [],
   "source": [
    "nonzero_mean_curvatures_masked = np.ma.masked_less(mean_curvatures, 1e-16)\n",
    "nonzero_mean_curvatures = nonzero_mean_curvatures_masked.compressed()\n",
    "nonzero_mean_curvatures_seg_lengths = seg_lengths[nonzero_mean_curvatures_masked.mask == 0]\n",
    "\n",
    "log_mean_curvatures = np.log10(nonzero_mean_curvatures)\n",
    "log_curvatures_seg_lengths = np.log10(nonzero_mean_curvatures_seg_lengths)\n",
    "\n",
    "log_slope_curvatures, log_intercept_curvatures, _, _, _ = scipy.stats.linregress(\n",
    "    log_curvatures_seg_lengths, log_mean_curvatures\n",
    ")\n",
    "log_slope_curvatures = np.around(log_slope_curvatures, decimals=2)\n",
    "log_intercept_curvatures = np.around(log_intercept_curvatures, decimals=2)\n",
    "log_curvatures_fit = (\n",
    "    log_slope_curvatures * log_curvatures_seg_lengths + log_intercept_curvatures\n",
    ")\n",
    "curvatures_pearson_r, curvatures_p_value = scipy.stats.pearsonr(\n",
    "    log_mean_curvatures, log_curvatures_fit\n",
    ")\n",
    "print(\n",
    "    log_slope_curvatures,\n",
    "    log_intercept_curvatures,\n",
    "    curvatures_pearson_r ** 2,\n",
    "    curvatures_p_value,\n",
    ")"
   ]
  },
  {
   "cell_type": "markdown",
   "metadata": {},
   "source": [
    "## Fit torsions"
   ]
  },
  {
   "cell_type": "code",
   "execution_count": null,
   "metadata": {},
   "outputs": [],
   "source": [
    "nonzero_mean_torsions_masked = np.ma.masked_less(mean_torsions, 1e-16)\n",
    "nonzero_mean_torsions = nonzero_mean_torsions_masked.compressed()\n",
    "nonzero_mean_torsions_seg_lengths = seg_lengths[nonzero_mean_torsions_masked.mask == 0]\n",
    "\n",
    "log_mean_torsions = np.log10(nonzero_mean_torsions)\n",
    "log_torsions_seg_lengths = np.log10(nonzero_mean_torsions_seg_lengths)\n",
    "\n",
    "log_slope_torsions, log_intercept_torsions, _, _, _ = scipy.stats.linregress(\n",
    "    log_torsions_seg_lengths, log_mean_torsions\n",
    ")\n",
    "log_slope_torsions = np.around(log_slope_torsions, decimals=2)\n",
    "log_intercept_torsions = np.around(log_intercept_torsions, decimals=2)\n",
    "log_torsions_fit = (\n",
    "    log_slope_torsions * log_torsions_seg_lengths + log_intercept_torsions\n",
    ")\n",
    "torsions_pearson_r, torsions_p_value = scipy.stats.pearsonr(\n",
    "    log_mean_torsions, log_torsions_fit\n",
    ")\n",
    "print(\n",
    "    log_slope_torsions,\n",
    "    log_intercept_torsions,\n",
    "    torsions_pearson_r ** 2,\n",
    "    torsions_p_value,\n",
    ")"
   ]
  },
  {
   "cell_type": "markdown",
   "metadata": {},
   "source": [
    "## Plot figure"
   ]
  },
  {
   "cell_type": "code",
   "execution_count": null,
   "metadata": {},
   "outputs": [],
   "source": [
    "fig = plt.figure(figsize=(20, 8))\n",
    "axes = fig.subplots(1, 2)\n",
    "GRAY = \"#999999\"\n",
    "TITLE_TYPE_SETTINGS = {\"fontname\": \"Arial\", \"size\": 20}\n",
    "SUP_TITLE_TYPE_SETTINGS = {\"fontname\": \"Arial\", \"size\": 24}\n",
    "plt.rc(\"font\", family=\"Arial\", size=20)\n",
    "\n",
    "ax = axes[0]\n",
    "ax.spines[\"bottom\"].set_color(GRAY)\n",
    "ax.spines[\"top\"].set_color(GRAY)\n",
    "ax.spines[\"right\"].set_color(GRAY)\n",
    "ax.spines[\"left\"].set_color(GRAY)\n",
    "ax.tick_params(axis=\"both\", colors=GRAY, labelsize=\"large\")\n",
    "\n",
    "ax.scatter(\n",
    "    log_curvatures_seg_lengths,\n",
    "    log_mean_curvatures,\n",
    "    marker=\".\",\n",
    "    label=\"Segment\",\n",
    "    color=\"#377eb8\",\n",
    ")\n",
    "ax.plot(\n",
    "    log_curvatures_seg_lengths,\n",
    "    log_curvatures_fit,\n",
    "    color=\"#e41a1c\",\n",
    "    lw=2,\n",
    "    label=r\"$y={}x {}{}$\".format(\n",
    "        log_slope_curvatures,\n",
    "        \"+\" if np.sign(log_intercept_curvatures) >= 0 else \"-\",\n",
    "        np.abs(log_intercept_curvatures),\n",
    "    ),\n",
    ")\n",
    "ax.set_title(\"Curvature\")\n",
    "ax.set_xlabel(r\"$\\log$ segment length ($\\mu m$)\", fontsize=22)\n",
    "ax.set_ylabel(r\"$\\log$ mean curvature\", fontsize=22)\n",
    "ax.set_ylim([-13.5, 1])\n",
    "leg = ax.legend(loc=4)\n",
    "leg.get_frame().set_edgecolor(GRAY)\n",
    "\n",
    "ax = axes[1]\n",
    "ax.spines[\"bottom\"].set_color(GRAY)\n",
    "ax.spines[\"top\"].set_color(GRAY)\n",
    "ax.spines[\"right\"].set_color(GRAY)\n",
    "ax.spines[\"left\"].set_color(GRAY)\n",
    "ax.tick_params(axis=\"both\", colors=GRAY, labelsize=\"large\")\n",
    "\n",
    "ax.scatter(\n",
    "    log_torsions_seg_lengths,\n",
    "    log_mean_torsions,\n",
    "    marker=\".\",\n",
    "    label=\"Segment\",\n",
    "    color=\"#377eb8\",\n",
    ")\n",
    "ax.plot(\n",
    "    log_torsions_seg_lengths,\n",
    "    log_torsions_fit,\n",
    "    color=\"#e41a1c\",\n",
    "    lw=2,\n",
    "    label=r\"$y={}x {}{}$\".format(\n",
    "        log_slope_torsions,\n",
    "        \"+\" if np.sign(log_intercept_torsions) >= 0 else \"-\",\n",
    "        np.abs(log_intercept_torsions),\n",
    "    ),\n",
    ")\n",
    "ax.set_title(\"Torsion\")\n",
    "ax.set_xlabel(r\"$\\log$ segment length ($\\mu m$)\", fontsize=22)\n",
    "ax.set_ylabel(r\"$\\log$ mean absolute torsion\", fontsize=22)\n",
    "ax.set_ylim([-13.5, 1])\n",
    "leg = ax.legend(loc=4)\n",
    "leg.get_frame().set_edgecolor(GRAY)\n",
    "\n",
    "title = \"Brain 1\" if brain == \"brain1\" else \"Brain 2\"\n",
    "fig.suptitle(title)\n",
    "\n",
    "plt.savefig(os.path.join(experiment_dir, \"figures/{}_linear_regression.eps\".format(brain)))\n",
    "plt.savefig(os.path.join(experiment_dir, \"figures/{}_linear_regression.jpg\".format(brain)))"
   ]
  }
 ],
 "metadata": {
  "kernelspec": {
   "display_name": "Python 3",
   "language": "python",
   "name": "python3"
  },
  "language_info": {
   "codemirror_mode": {
    "name": "ipython",
    "version": 3
   },
   "file_extension": ".py",
   "mimetype": "text/x-python",
   "name": "python",
   "nbconvert_exporter": "python",
   "pygments_lexer": "ipython3",
   "version": "3.8.5-final"
  }
 },
 "nbformat": 4,
 "nbformat_minor": 4
}