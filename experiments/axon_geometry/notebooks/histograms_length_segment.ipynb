{
 "cells": [
  {
   "cell_type": "markdown",
   "metadata": {},
   "source": [
    "# Plot histograms"
   ]
  },
  {
   "cell_type": "code",
   "execution_count": null,
   "metadata": {},
   "outputs": [],
   "source": [
    "import numpy as np\n",
    "import brainlit\n",
    "import scipy\n",
    "from brainlit.utils import swc\n",
    "from cloudvolume.exceptions import SkeletonDecodeError\n",
    "from brainlit.algorithms.trace_analysis.fit_spline import GeometricGraph\n",
    "from brainlit.algorithms.trace_analysis.spline_fxns import curvature, torsion\n",
    "import os\n",
    "from pathlib import Path\n",
    "import pandas as pd\n",
    "from networkx.readwrite import json_graph\n",
    "import json\n",
    "import matplotlib.pyplot as plt\n",
    "from sklearn.neighbors import KernelDensity\n",
    "import torch"
   ]
  },
  {
   "source": [
    "## Define brain, find trace data folder"
   ],
   "cell_type": "markdown",
   "metadata": {}
  },
  {
   "cell_type": "code",
   "execution_count": null,
   "metadata": {},
   "outputs": [],
   "source": [
    "# specify 1 or 2 below\n",
    "brain_id = 1\n",
    "brain = \"brain{}\".format(brain_id)\n",
    "root_dir = Path(os.path.abspath('')).parents[1]\n",
    "experiment_dir = os.path.join(root_dir, \"axon_geometry\")\n",
    "data_dir = os.path.join(experiment_dir, \"data\", brain)\n",
    "segments_swc_dir = os.path.join(data_dir, \"segments_swc\")\n",
    "trace_data_dir = os.path.join(data_dir, \"trace_data\")\n",
    "print(f\"Directory where swcs reside: {segments_swc_dir}\")"
   ]
  },
  {
   "cell_type": "markdown",
   "metadata": {},
   "source": [
    "## Read trace data"
   ]
  },
  {
   "cell_type": "code",
   "execution_count": null,
   "metadata": {},
   "outputs": [],
   "source": [
    "max_id = 300\n",
    "seg_lengths = []\n",
    "mean_torsions = []\n",
    "mean_curvatures = []\n",
    "d_from_root = []\n",
    "torsions = []\n",
    "curvatures = []\n",
    "for i in np.arange(0, max_id):\n",
    "    i = int(i)\n",
    "    trace_data_path = os.path.join(trace_data_dir, \"{}.npy\".format(i))\n",
    "    if os.path.exists(trace_data_path) is True:\n",
    "        trace_data = np.load(trace_data_path, allow_pickle=True)\n",
    "        print(\"Loaded segment {}\".format(i))\n",
    "\n",
    "        for node in trace_data:\n",
    "            seg_lengths.append(node[\"seg_length\"])\n",
    "            mean_curvatures.append(node[\"mean_curvature\"])\n",
    "            mean_torsions.append(node[\"mean_torsion\"])\n",
    "            \n",
    "seg_lengths = np.array(seg_lengths)\n",
    "mean_curvatures = np.array(mean_curvatures)\n",
    "mean_torsions = np.abs(np.array(mean_torsions))"
   ]
  },
  {
   "cell_type": "markdown",
   "metadata": {},
   "source": [
    "# Define helper variables"
   ]
  },
  {
   "cell_type": "code",
   "execution_count": null,
   "metadata": {},
   "outputs": [],
   "source": [
    "log_seg_lengths = np.log10(seg_lengths)\n",
    "min_log_seg_length = min(log_seg_lengths)\n",
    "max_log_seg_length = max(log_seg_lengths)\n",
    "xx = np.linspace(min_log_seg_length, max_log_seg_length, 1000)[:, np.newaxis]"
   ]
  },
  {
   "cell_type": "markdown",
   "metadata": {},
   "source": [
    "## Compute KDE of the curvatures"
   ]
  },
  {
   "cell_type": "code",
   "execution_count": null,
   "metadata": {},
   "outputs": [],
   "source": [
    "zero_curvatures_log_seg_lengths = log_seg_lengths[np.where(mean_curvatures < 1e-16)[0]]\n",
    "nonzero_curvatures_log_seg_lengths = log_seg_lengths[\n",
    "    np.where(mean_curvatures > 1e-16)[0]\n",
    "]\n",
    "zero_kde = KernelDensity(kernel=\"gaussian\", bandwidth=0.1).fit(\n",
    "    zero_curvatures_log_seg_lengths[:, np.newaxis]\n",
    ")\n",
    "nonzero_kde = KernelDensity(kernel=\"gaussian\", bandwidth=0.25).fit(\n",
    "    nonzero_curvatures_log_seg_lengths[:, np.newaxis]\n",
    ")\n",
    "zero_log_dens = zero_kde.score_samples(xx)\n",
    "nonzero_log_dens = nonzero_kde.score_samples(xx)\n",
    "alpha_zero_curvatures = len(zero_curvatures_log_seg_lengths) / len(seg_lengths)\n",
    "alpha_nonzero_curvatures = len(nonzero_curvatures_log_seg_lengths) / len(seg_lengths)\n",
    "print(alpha_zero_curvatures, alpha_nonzero_curvatures)\n",
    "zero_curvatures_norm_pdf = alpha_zero_curvatures * np.exp(zero_log_dens)\n",
    "nonzero_curvatures_norm_pdf = alpha_nonzero_curvatures * np.exp(nonzero_log_dens)"
   ]
  },
  {
   "cell_type": "markdown",
   "metadata": {},
   "source": [
    "## Compute KDE of the torsions"
   ]
  },
  {
   "cell_type": "code",
   "execution_count": null,
   "metadata": {},
   "outputs": [],
   "source": [
    "zero_torsions_log_seg_lengths = log_seg_lengths[np.where(mean_torsions < 1e-16)[0]]\n",
    "nonzero_torsions_log_seg_lengths = log_seg_lengths[np.where(mean_torsions > 1e-16)[0]]\n",
    "zero_kde = KernelDensity(kernel=\"gaussian\", bandwidth=0.1).fit(\n",
    "    zero_torsions_log_seg_lengths[:, np.newaxis]\n",
    ")\n",
    "nonzero_kde = KernelDensity(kernel=\"gaussian\", bandwidth=0.25).fit(\n",
    "    nonzero_torsions_log_seg_lengths[:, np.newaxis]\n",
    ")\n",
    "zero_log_dens = zero_kde.score_samples(xx)\n",
    "nonzero_log_dens = nonzero_kde.score_samples(xx)\n",
    "alpha_zero_torsions = len(zero_torsions_log_seg_lengths) / len(seg_lengths)\n",
    "alpha_nonzero_torsions = len(nonzero_torsions_log_seg_lengths) / len(seg_lengths)\n",
    "print(alpha_zero_torsions, alpha_nonzero_torsions)\n",
    "zero_torsions_norm_pdf = alpha_zero_torsions * np.exp(zero_log_dens)\n",
    "nonzero_torsions_norm_pdf = alpha_nonzero_torsions * np.exp(nonzero_log_dens)"
   ]
  },
  {
   "source": [
    "## Plot figure"
   ],
   "cell_type": "markdown",
   "metadata": {}
  },
  {
   "cell_type": "code",
   "execution_count": null,
   "metadata": {},
   "outputs": [],
   "source": [
    "fig = plt.figure(figsize=(21, 7))\n",
    "axes = fig.subplots(1, 2)\n",
    "GRAY = \"#999999\"\n",
    "TITLE_TYPE_SETTINGS = {\"fontname\": \"Arial\", \"size\": 20}\n",
    "SUP_TITLE_TYPE_SETTINGS = {\"fontname\": \"Arial\", \"size\": 24}\n",
    "plt.rc(\"font\", family=\"Arial\", size=20)\n",
    "\n",
    "log_seg_lengths = np.log10(seg_lengths)\n",
    "min_log_seg_length = min(log_seg_lengths)\n",
    "max_log_seg_length = max(log_seg_lengths)\n",
    "xx = np.linspace(min_log_seg_length, max_log_seg_length, 1000)[:, np.newaxis]\n",
    "\n",
    "ax = axes[0]\n",
    "ax.spines[\"bottom\"].set_color(GRAY)\n",
    "ax.spines[\"top\"].set_color(GRAY)\n",
    "ax.spines[\"right\"].set_color(GRAY)\n",
    "ax.spines[\"left\"].set_color(GRAY)\n",
    "ax.tick_params(axis=\"both\", colors=GRAY, labelsize=\"large\")\n",
    "\n",
    "ax.fill_between(xx.squeeze(), 0, zero_curvatures_norm_pdf, alpha=0.7, label=r\"$\\mathcal{k} = 0$\")\n",
    "ax.fill_between(\n",
    "    xx.squeeze(), 0, nonzero_curvatures_norm_pdf, alpha=0.7, label=r\"$\\mathcal{k} > 0$\"\n",
    ")\n",
    "\n",
    "mask = np.array(\n",
    "    [\n",
    "        False if zero_ > nonzero_ else True\n",
    "        for zero_, nonzero_ in zip(zero_curvatures_norm_pdf, nonzero_curvatures_norm_pdf)\n",
    "    ]\n",
    ")\n",
    "ids = np.where(mask == True)[0]\n",
    "xx_dashed = xx.squeeze()[ids]\n",
    "zero_curvatures_norm_pdf_dashed = zero_curvatures_norm_pdf[ids]\n",
    "ax.plot(xx_dashed.squeeze(), zero_curvatures_norm_pdf_dashed, \"--\")\n",
    "\n",
    "\n",
    "ax.set_title(r\"Curvature ($\\alpha = %.2f$)\" % alpha_zero_curvatures)\n",
    "ax.set_xlabel(r\"$\\log$ segment length ($\\mu m$)\", fontsize=24)\n",
    "ax.set_ylabel(r\"pdf\", fontsize=24)\n",
    "leg = ax.legend(loc=1)\n",
    "leg.get_frame().set_edgecolor(GRAY)\n",
    "ax.set_xticks([1, 2, 3, 4])\n",
    "\n",
    "ax = axes[1]\n",
    "ax.spines[\"bottom\"].set_color(GRAY)\n",
    "ax.spines[\"top\"].set_color(GRAY)\n",
    "ax.spines[\"right\"].set_color(GRAY)\n",
    "ax.spines[\"left\"].set_color(GRAY)\n",
    "ax.tick_params(axis=\"both\", colors=GRAY, labelsize=\"large\")\n",
    "\n",
    "ax.fill_between(xx.squeeze(), 0, zero_torsions_norm_pdf, alpha=0.7, label=r\"$\\tau = 0$\")\n",
    "ax.fill_between(xx.squeeze(), 0, nonzero_torsions_norm_pdf, alpha=0.7, label=r\"$\\tau > 0$\")\n",
    "\n",
    "mask = np.array(\n",
    "    [\n",
    "        False if zero_ > nonzero_ else True\n",
    "        for zero_, nonzero_ in zip(zero_torsions_norm_pdf, nonzero_torsions_norm_pdf)\n",
    "    ]\n",
    ")\n",
    "ids = np.where(mask == True)[0]\n",
    "xx_dashed = xx.squeeze()[ids]\n",
    "zero_torsions_norm_pdf_dashed = zero_torsions_norm_pdf[ids]\n",
    "ax.plot(xx_dashed.squeeze(), zero_torsions_norm_pdf_dashed, \"--\")\n",
    "\n",
    "ax.set_title(r\"Torsion ($\\alpha = %.2f$)\" % alpha_zero_torsions)\n",
    "ax.set_xlabel(r\"$\\log$ segment length ($\\mu m$)\", fontsize=24)\n",
    "ax.set_ylabel(r\"pdf\", fontsize=24)\n",
    "leg = ax.legend(loc=1)\n",
    "leg.get_frame().set_edgecolor(GRAY)\n",
    "ax.set_xticks([1, 2, 3, 4])\n",
    "\n",
    "fig.suptitle(\"Brain {}\".format(brain_id))\n",
    "\n",
    "plt.savefig(os.path.join(experiment_dir, \"figures/{}_histograms.jpg\".format(brain)))\n",
    "plt.savefig(os.path.join(experiment_dir, \"figures/{}_histograms.eps\".format(brain)))"
   ]
  }
 ],
 "metadata": {
  "kernelspec": {
   "display_name": "Python 3",
   "language": "python",
   "name": "python3"
  },
  "language_info": {
   "codemirror_mode": {
    "name": "ipython",
    "version": 3
   },
   "file_extension": ".py",
   "mimetype": "text/x-python",
   "name": "python",
   "nbconvert_exporter": "python",
   "pygments_lexer": "ipython3",
   "version": "3.8.5-final"
  }
 },
 "nbformat": 4,
 "nbformat_minor": 4
}