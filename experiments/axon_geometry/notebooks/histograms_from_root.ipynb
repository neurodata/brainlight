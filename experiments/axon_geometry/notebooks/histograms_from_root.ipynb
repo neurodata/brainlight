{
 "cells": [
  {
   "cell_type": "markdown",
   "metadata": {},
   "source": [
    "# Plot histograms"
   ]
  },
  {
   "cell_type": "code",
   "execution_count": null,
   "metadata": {},
   "outputs": [],
   "source": [
    "import numpy as np\n",
    "import brainlit\n",
    "import scipy\n",
    "from brainlit.utils import swc\n",
    "from cloudvolume.exceptions import SkeletonDecodeError\n",
    "from brainlit.algorithms.trace_analysis.fit_spline import GeometricGraph\n",
    "from brainlit.algorithms.trace_analysis.spline_fxns import curvature, torsion\n",
    "import os\n",
    "from pathlib import Path\n",
    "import pandas as pd\n",
    "from networkx.readwrite import json_graph\n",
    "import json\n",
    "import matplotlib.pyplot as plt\n",
    "import torch"
   ]
  },
  {
   "cell_type": "markdown",
   "metadata": {},
   "source": [
    "## Define brain, find trace data folder"
   ]
  },
  {
   "cell_type": "code",
   "execution_count": null,
   "metadata": {},
   "outputs": [],
   "source": [
    "#specify brain1 or brain2 below\n",
    "brain = \"brain1\"\n",
    "#specify length definition below (0-length from root, 1-relative length from root, 2-relative length along segment)\n",
    "length_def = 1\n",
    "\n",
    "bins = 2048\n",
    "root_dir = Path(os.path.abspath('')).parents[1]\n",
    "experiment_dir = os.path.join(root_dir, \"axon_geometry\")\n",
    "data_dir = os.path.join(experiment_dir, \"data\", brain)\n",
    "segments_swc_dir = os.path.join(data_dir, \"segments_swc\")\n",
    "trace_data_dir = os.path.join(data_dir, \"trace_data\")\n",
    "print(f\"Directory where swcs reside: {segments_swc_dir}\")"
   ]
  },
  {
   "cell_type": "markdown",
   "metadata": {},
   "source": [
    "## Read trace data"
   ]
  },
  {
   "cell_type": "code",
   "execution_count": null,
   "metadata": {},
   "outputs": [],
   "source": [
    "max_id = 300\n",
    "seg_lengths = []\n",
    "mean_torsions = []\n",
    "mean_curvatures = []\n",
    "d_from_root = []\n",
    "torsions = []\n",
    "curvatures = []\n",
    "for i in np.arange(0, max_id):\n",
    "    i = int(i)\n",
    "    trace_data_path = os.path.join(trace_data_dir, \"{}.npy\".format(i))\n",
    "    if os.path.exists(trace_data_path) is True:\n",
    "        trace_data = np.load(trace_data_path, allow_pickle=True)\n",
    "        print(\"Loaded segment {}\".format(i))\n",
    "\n",
    "        for node in trace_data:\n",
    "            seg_lengths.append(node[\"seg_length\"])\n",
    "            mean_curvatures.append(node[\"mean_curvature\"])\n",
    "            mean_torsions.append(node[\"mean_torsion\"])\n",
    "            _curvatures = node[\"curvature\"]\n",
    "            _torsions = node[\"torsion\"]\n",
    "            assert len(_curvatures) == len(_torsions)\n",
    "            m = len(_curvatures)\n",
    "            if length_def == 0: # length from root\n",
    "                d = (node[\"starting_length\"] + np.arange(0, m))\n",
    "            elif length_def == 1: # relative length from root\n",
    "                d = (node[\"starting_length\"] + np.arange(0, m))/(node[\"seg_length\"]+node[\"starting_length\"])\n",
    "            elif length_def == 2: # relative length along segment\n",
    "                d = np.arange(0, m)/node[\"seg_length\"]\n",
    "            d_from_root.append(d)\n",
    "            torsions.append(_torsions)\n",
    "            curvatures.append(_curvatures)\n",
    "            \n",
    "seg_lengths = np.array(seg_lengths)\n",
    "mean_curvatures = np.array(mean_curvatures)\n",
    "mean_torsions = np.array(mean_torsions)\n",
    "d_from_root = np.concatenate(d_from_root)\n",
    "curvatures = np.concatenate(curvatures)\n",
    "torsions = np.concatenate(torsions)\n",
    "# remove all root points\n",
    "masked_d_from_root = np.ma.masked_less(d_from_root, 1e-16)\n",
    "d_from_root = masked_d_from_root.compressed()\n",
    "assert len(np.where(d_from_root < 1e-16)[0]) == 0\n",
    "curvatures = curvatures[~masked_d_from_root.mask]\n",
    "torsions = torsions[~masked_d_from_root.mask]\n",
    "\n",
    "log_d_from_root = np.log10(d_from_root)\n",
    "L = len(log_d_from_root)"
   ]
  },
  {
   "cell_type": "markdown",
   "metadata": {},
   "source": [
    "## Compute histogram of the curvatures"
   ]
  },
  {
   "cell_type": "code",
   "execution_count": null,
   "metadata": {},
   "outputs": [],
   "source": [
    "zero_curvatures_log_d_from_root = log_d_from_root[np.where(curvatures < 1e-16)[0]]\n",
    "nonzero_curvatures_log_d_from_root = log_d_from_root[np.where(curvatures > 1e-16)[0]]\n",
    "# compute histogram of zero-curvatures\n",
    "torch_zero_curvatures_log_d_from_root = torch.from_numpy(zero_curvatures_log_d_from_root)\n",
    "zero_curvatures_hist_min = torch.min(torch_zero_curvatures_log_d_from_root)\n",
    "zero_curvatures_hist_max = torch.max(torch_zero_curvatures_log_d_from_root)\n",
    "zero_curvatures_hist_bin_edges = torch.arange(\n",
    "    zero_curvatures_hist_min,\n",
    "    zero_curvatures_hist_max,\n",
    "    (zero_curvatures_hist_max - zero_curvatures_hist_min)/bins)\n",
    "\n",
    "zero_curvatures_hist = torch.histc(\n",
    "    torch_zero_curvatures_log_d_from_root,\n",
    "    bins=bins,\n",
    "    min=zero_curvatures_hist_min,\n",
    "    max=zero_curvatures_hist_max,\n",
    ")\n",
    "# compute histogram of non-zero-curvatures (uses GPU)\n",
    "torch_nonzero_curvatures_log_d_from_root = torch.from_numpy(nonzero_curvatures_log_d_from_root)\n",
    "nonzero_curvatures_hist_min = torch.min(torch_nonzero_curvatures_log_d_from_root)\n",
    "nonzero_curvatures_hist_max = torch.max(torch_nonzero_curvatures_log_d_from_root)\n",
    "nonzero_curvatures_hist_bin_edges = torch.arange(\n",
    "    nonzero_curvatures_hist_min,\n",
    "    nonzero_curvatures_hist_max,\n",
    "    (nonzero_curvatures_hist_max - nonzero_curvatures_hist_min) / bins,\n",
    ")\n",
    "nonzero_curvatures_hist = torch.histc(\n",
    "    torch_nonzero_curvatures_log_d_from_root,\n",
    "    bins=bins,\n",
    "    min=nonzero_curvatures_hist_min,\n",
    "    max=nonzero_curvatures_hist_max\n",
    ")\n",
    "\n",
    "alpha_zero_curvatures = len(zero_curvatures_log_d_from_root) / L\n",
    "alpha_nonzero_curvatures = len(nonzero_curvatures_log_d_from_root) / L\n",
    "print(alpha_zero_curvatures, alpha_nonzero_curvatures)"
   ]
  },
  {
   "cell_type": "markdown",
   "metadata": {},
   "source": [
    "## Compute histogram of the torsions (uses GPU)"
   ]
  },
  {
   "cell_type": "code",
   "execution_count": null,
   "metadata": {},
   "outputs": [],
   "source": [
    "zero_torsions_log_d_from_root = log_d_from_root[np.where(torsions < 1e-16)[0]]\n",
    "nonzero_torsions_log_d_from_root = log_d_from_root[np.where(torsions > 1e-16)[0]]\n",
    "# compute histogram of zero-torsions\n",
    "torch_zero_torsions_log_d_from_root = torch.from_numpy(zero_torsions_log_d_from_root).to(device)\n",
    "zero_torsions_hist_min = torch.min(torch_zero_torsions_log_d_from_root)\n",
    "zero_torsions_hist_max = torch.max(torch_zero_torsions_log_d_from_root)\n",
    "zero_torsions_hist_bin_edges = torch.arange(\n",
    "    zero_torsions_hist_min,\n",
    "    zero_torsions_hist_max,\n",
    "    (zero_torsions_hist_max - zero_torsions_hist_min)/bins)\n",
    "\n",
    "zero_torsions_hist = torch.histc(\n",
    "    torch_zero_torsions_log_d_from_root,\n",
    "    bins=bins,\n",
    "    min=zero_torsions_hist_min,\n",
    "    max=zero_torsions_hist_max,\n",
    ")\n",
    "# compute histogram of non-zero-torsions (uses GPU)\n",
    "torch_nonzero_torsions_log_d_from_root = torch.from_numpy(nonzero_torsions_log_d_from_root).to(device)\n",
    "nonzero_torsions_hist_min = torch.min(torch_nonzero_torsions_log_d_from_root)\n",
    "nonzero_torsions_hist_max = torch.max(torch_nonzero_torsions_log_d_from_root)\n",
    "nonzero_torsions_hist_bin_edges = torch.arange(\n",
    "    nonzero_torsions_hist_min,\n",
    "    nonzero_torsions_hist_max,\n",
    "    (nonzero_torsions_hist_max - nonzero_torsions_hist_min) / bins,\n",
    ")\n",
    "nonzero_torsions_hist = torch.histc(\n",
    "    torch_nonzero_torsions_log_d_from_root,\n",
    "    bins=bins,\n",
    "    min=nonzero_torsions_hist_min,\n",
    "    max=nonzero_torsions_hist_max\n",
    ")\n",
    "\n",
    "alpha_zero_torsions = len(zero_torsions_log_d_from_root) / L\n",
    "alpha_nonzero_torsions = len(nonzero_torsions_log_d_from_root) / L\n",
    "print(alpha_zero_torsions, alpha_nonzero_torsions)"
   ]
  },
  {
   "cell_type": "markdown",
   "metadata": {},
   "source": [
    "## Plot figure"
   ]
  },
  {
   "cell_type": "code",
   "execution_count": null,
   "metadata": {},
   "outputs": [],
   "source": [
    "fig = plt.figure(figsize=(21, 7))\n",
    "axes = fig.subplots(1, 2)\n",
    "GRAY = \"#999999\"\n",
    "TITLE_TYPE_SETTINGS = {\"fontname\": \"Arial\", \"size\": 20}\n",
    "SUP_TITLE_TYPE_SETTINGS = {\"fontname\": \"Arial\", \"size\": 24}\n",
    "plt.rc(\"font\", family=\"Arial\", size=20)\n",
    "\n",
    "ax = axes[0]\n",
    "ax.spines[\"bottom\"].set_color(GRAY)\n",
    "ax.spines[\"top\"].set_color(GRAY)\n",
    "ax.spines[\"right\"].set_color(GRAY)\n",
    "ax.spines[\"left\"].set_color(GRAY)\n",
    "ax.tick_params(axis=\"both\", colors=GRAY, labelsize=\"large\")\n",
    "\n",
    "if length_def == 0: # length from root\n",
    "    xlabel = r\"$\\log$ distance from cell body ($\\mu m$)\"\n",
    "elif length_def == 1: # relative length from root\n",
    "    xlabel = r\"$\\log$ relative distance from cell body\"\n",
    "elif length_def == 2: # relative length along segment\n",
    "    xlabel = r\"$\\log$ relative distance along segment\"\n",
    "\n",
    "ax.bar(zero_curvatures_hist_bin_edges.cpu().numpy(), zero_curvatures_hist.numpy() / L, label=r\"$\\mathcal{k} = 0$\", alpha=0.5)\n",
    "ax.bar(nonzero_curvatures_hist_bin_edges.cpu().numpy(), nonzero_curvatures_hist.numpy() / L, label=r\"$\\mathcal{k} > 0$\", alpha=0.5)\n",
    "\n",
    "ax.set_title(r\"Curvature ($\\alpha = %.4f$)\" % alpha_zero_curvatures)\n",
    "ax.set_xlabel(xlabel, fontsize=24)\n",
    "ax.set_ylabel(r\"pdf\", fontsize=24)\n",
    "leg = ax.legend(loc=2)\n",
    "leg.get_frame().set_edgecolor(GRAY)\n",
    "\n",
    "ax = axes[1]\n",
    "ax.spines[\"bottom\"].set_color(GRAY)\n",
    "ax.spines[\"top\"].set_color(GRAY)\n",
    "ax.spines[\"right\"].set_color(GRAY)\n",
    "ax.spines[\"left\"].set_color(GRAY)\n",
    "ax.tick_params(axis=\"both\", colors=GRAY, labelsize=\"large\")\n",
    "\n",
    "ax.bar(zero_torsions_hist_bin_edges.cpu().numpy(), zero_torsions_hist.cpu().numpy() / L, label=r\"$\\tau = 0$\", alpha=0.5)\n",
    "ax.bar(nonzero_torsions_hist_bin_edges.cpu().numpy(), nonzero_torsions_hist.cpu().numpy() / L, label=r\"$\\tau > 0$\", alpha=0.5)\n",
    "\n",
    "ax.set_title(r\"Torsion ($\\alpha = %.4f$)\" % alpha_zero_torsions)\n",
    "ax.set_xlabel(xlabel, fontsize=24)\n",
    "ax.set_ylabel(r\"pdf\", fontsize=24)\n",
    "leg = ax.legend(loc=2)\n",
    "leg.get_frame().set_edgecolor(GRAY)\n",
    "\n",
    "title = \"Brain 1\" if brain == \"brain1\" else \"Brain 2\"\n",
    "fig.suptitle(title)\n",
    "\n",
    "plt.savefig(os.path.join(experiment_dir, \"figures\", \"{}_histograms_from_root_{}.jpg\".format(brain, length_def)))\n",
    "plt.savefig(os.path.join(experiment_dir, \"figures\", \"{}_histograms_from_root_{}.eps\".format(brain, length_def)))"
   ]
  }
 ],
 "metadata": {
  "kernelspec": {
   "name": "python3",
   "display_name": "Python 3.8.5 64-bit ('brainlit': conda)",
   "metadata": {
    "interpreter": {
     "hash": "23a6901d04df5a24b139bf940691d9158a219126a6bc30bd2116c3bca95057cb"
    }
   }
  },
  "language_info": {
   "codemirror_mode": {
    "name": "ipython",
    "version": 3
   },
   "file_extension": ".py",
   "mimetype": "text/x-python",
   "name": "python",
   "nbconvert_exporter": "python",
   "pygments_lexer": "ipython3",
   "version": "3.8.5-final"
  }
 },
 "nbformat": 4,
 "nbformat_minor": 4
}