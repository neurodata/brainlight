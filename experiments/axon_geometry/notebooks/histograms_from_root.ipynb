{
 "cells": [
  {
   "cell_type": "markdown",
   "metadata": {},
   "source": [
    "# Plot histograms\n",
    "\n",
    "N.B. Data should be placed in `/brainlit/data/poster/reproduction`"
   ]
  },
  {
   "cell_type": "code",
   "execution_count": 2,
   "metadata": {},
   "outputs": [],
   "source": [
    "import numpy as np\n",
    "import brainlit\n",
    "import scipy\n",
    "from brainlit.utils import swc\n",
    "from cloudvolume.exceptions import SkeletonDecodeError\n",
    "from brainlit.algorithms.trace_analysis.fit_spline import GeometricGraph\n",
    "from brainlit.algorithms.trace_analysis.spline_fxns import curvature, torsion\n",
    "import os\n",
    "from pathlib import Path\n",
    "import pandas as pd\n",
    "from networkx.readwrite import json_graph\n",
    "import json\n",
    "import matplotlib.pyplot as plt\n",
    "import torch\n",
    "\n",
    "os.environ[\"CUDA_VISIBLE_DEVICES\"] = \"9\"\n",
    "\n",
    "device = torch.device(\"cuda:0\" if torch.cuda.is_available() == True else \"cpu\")\n",
    "torch.backends.cudnn.deterministic = True\n",
    "torch.backends.cudnn.benchmark = False"
   ]
  },
  {
   "cell_type": "markdown",
   "metadata": {},
   "source": [
    "## Define brain, find trace data folder"
   ]
  },
  {
   "cell_type": "code",
   "execution_count": 5,
   "metadata": {},
   "outputs": [
    {
     "output_type": "stream",
     "name": "stdout",
     "text": [
      "/Users/jacopo/JHU/NDD/repo/fork-brainlit/experiments/axon_geometry/data/brain2\n"
     ]
    }
   ],
   "source": [
    "brain = \"brain2\"\n",
    "bins = 2048\n",
    "root_dir = data_dir = Path(os.path.abspath('')).parents[1]\n",
    "data_dir = os.path.join(root_dir, \"axon_geometry/data/{}\".format(brain))\n",
    "experiment_dir = os.path.join(root_dir, \"experiments/poster_reproduction\")\n",
    "segments_swc_dir = os.path.join(data_dir, \"segments_swc\")\n",
    "trace_data_dir = os.path.join(data_dir, \"trace_data\")\n",
    "print(data_dir)"
   ]
  },
  {
   "cell_type": "markdown",
   "metadata": {},
   "source": [
    "## Read trace data"
   ]
  },
  {
   "cell_type": "code",
   "execution_count": 4,
   "metadata": {},
   "outputs": [
    {
     "output_type": "error",
     "ename": "ValueError",
     "evalue": "need at least one array to concatenate",
     "traceback": [
      "\u001b[0;31m---------------------------------------------------------------------------\u001b[0m",
      "\u001b[0;31mValueError\u001b[0m                                Traceback (most recent call last)",
      "\u001b[0;32m<ipython-input-4-a6529add68af>\u001b[0m in \u001b[0;36m<module>\u001b[0;34m\u001b[0m\n\u001b[1;32m     32\u001b[0m \u001b[0mmean_curvatures\u001b[0m \u001b[0;34m=\u001b[0m \u001b[0mnp\u001b[0m\u001b[0;34m.\u001b[0m\u001b[0marray\u001b[0m\u001b[0;34m(\u001b[0m\u001b[0mmean_curvatures\u001b[0m\u001b[0;34m)\u001b[0m\u001b[0;34m\u001b[0m\u001b[0;34m\u001b[0m\u001b[0m\n\u001b[1;32m     33\u001b[0m \u001b[0mmean_torsions\u001b[0m \u001b[0;34m=\u001b[0m \u001b[0mnp\u001b[0m\u001b[0;34m.\u001b[0m\u001b[0marray\u001b[0m\u001b[0;34m(\u001b[0m\u001b[0mmean_torsions\u001b[0m\u001b[0;34m)\u001b[0m\u001b[0;34m\u001b[0m\u001b[0;34m\u001b[0m\u001b[0m\n\u001b[0;32m---> 34\u001b[0;31m \u001b[0md_from_root\u001b[0m \u001b[0;34m=\u001b[0m \u001b[0mnp\u001b[0m\u001b[0;34m.\u001b[0m\u001b[0mconcatenate\u001b[0m\u001b[0;34m(\u001b[0m\u001b[0md_from_root\u001b[0m\u001b[0;34m)\u001b[0m\u001b[0;34m\u001b[0m\u001b[0;34m\u001b[0m\u001b[0m\n\u001b[0m\u001b[1;32m     35\u001b[0m \u001b[0mcurvatures\u001b[0m \u001b[0;34m=\u001b[0m \u001b[0mnp\u001b[0m\u001b[0;34m.\u001b[0m\u001b[0mconcatenate\u001b[0m\u001b[0;34m(\u001b[0m\u001b[0mcurvatures\u001b[0m\u001b[0;34m)\u001b[0m\u001b[0;34m\u001b[0m\u001b[0;34m\u001b[0m\u001b[0m\n\u001b[1;32m     36\u001b[0m \u001b[0mtorsions\u001b[0m \u001b[0;34m=\u001b[0m \u001b[0mnp\u001b[0m\u001b[0;34m.\u001b[0m\u001b[0mconcatenate\u001b[0m\u001b[0;34m(\u001b[0m\u001b[0mtorsions\u001b[0m\u001b[0;34m)\u001b[0m\u001b[0;34m\u001b[0m\u001b[0;34m\u001b[0m\u001b[0m\n",
      "\u001b[0;32m<__array_function__ internals>\u001b[0m in \u001b[0;36mconcatenate\u001b[0;34m(*args, **kwargs)\u001b[0m\n",
      "\u001b[0;31mValueError\u001b[0m: need at least one array to concatenate"
     ]
    }
   ],
   "source": [
    "max_id = 300\n",
    "seg_lengths = []\n",
    "mean_torsions = []\n",
    "mean_curvatures = []\n",
    "d_from_root = []\n",
    "torsions = []\n",
    "curvatures = []\n",
    "for i in np.arange(0, max_id):\n",
    "    i = int(i)\n",
    "    trace_data_path = os.path.join(trace_data_dir, \"{}.npy\".format(i))\n",
    "    if os.path.exists(trace_data_path) is True:\n",
    "        trace_data = np.load(trace_data_path, allow_pickle=True)\n",
    "        print(\"Loaded segment {}\".format(i))\n",
    "\n",
    "        for node in trace_data:\n",
    "            # print(node)\n",
    "            seg_lengths.append(node[\"seg_length\"])\n",
    "            mean_curvatures.append(node[\"mean_curvature\"])\n",
    "            mean_torsions.append(node[\"mean_torsion\"])\n",
    "            _curvatures = node[\"curvature\"]\n",
    "            _torsions = node[\"torsion\"]\n",
    "            assert len(_curvatures) == len(_torsions)\n",
    "            m = len(_curvatures)\n",
    "            # print(node[\"starting_length\"])\n",
    "            d_from_root.append(node[\"starting_length\"] + np.arange(0, m))\n",
    "            # d_from_root.append(np.arange(0, m)/node[\"seg_length\"])\n",
    "            torsions.append(_torsions)\n",
    "            curvatures.append(_curvatures)\n",
    "            \n",
    "# ARRAY MANIPULATION TO CONVERT EVERYTHING TO NUMPY, REMOVE POINTS THAT WOULD YIELD -INF IN LOG\n",
    "seg_lengths = np.array(seg_lengths)\n",
    "mean_curvatures = np.array(mean_curvatures)\n",
    "mean_torsions = np.array(mean_torsions)\n",
    "d_from_root = np.concatenate(d_from_root)\n",
    "curvatures = np.concatenate(curvatures)\n",
    "torsions = np.concatenate(torsions)\n",
    "# remove all root points\n",
    "masked_d_from_root = np.ma.masked_less(d_from_root, 1e-16)\n",
    "d_from_root = masked_d_from_root.compressed()\n",
    "assert len(np.where(d_from_root < 1e-16)[0]) == 0\n",
    "curvatures = curvatures[~masked_d_from_root.mask]\n",
    "torsions = torsions[~masked_d_from_root.mask]\n",
    "\n",
    "log_d_from_root = np.log10(d_from_root)\n",
    "L = len(log_d_from_root)"
   ]
  },
  {
   "cell_type": "markdown",
   "metadata": {},
   "source": [
    "## Compute histogram of the curvatures (uses GPU)"
   ]
  },
  {
   "cell_type": "code",
   "execution_count": 4,
   "metadata": {},
   "outputs": [
    {
     "name": "stdout",
     "output_type": "stream",
     "text": [
      "0.016041101307415852 0.9839588986925841\n"
     ]
    }
   ],
   "source": [
    "zero_curvatures_log_d_from_root = log_d_from_root[np.where(curvatures < 1e-16)[0]]\n",
    "nonzero_curvatures_log_d_from_root = log_d_from_root[np.where(curvatures > 1e-16)[0]]\n",
    "# compute histogram of zero-curvatures\n",
    "torch_zero_curvatures_log_d_from_root = torch.from_numpy(zero_curvatures_log_d_from_root).to(device)\n",
    "zero_curvatures_hist_min = torch.min(torch_zero_curvatures_log_d_from_root)\n",
    "zero_curvatures_hist_max = torch.max(torch_zero_curvatures_log_d_from_root)\n",
    "zero_curvatures_hist_bin_edges = torch.arange(\n",
    "    zero_curvatures_hist_min,\n",
    "    zero_curvatures_hist_max,\n",
    "    (zero_curvatures_hist_max - zero_curvatures_hist_min)/bins)\n",
    "\n",
    "zero_curvatures_hist = torch.histc(\n",
    "    torch_zero_curvatures_log_d_from_root,\n",
    "    bins=bins,\n",
    "    min=zero_curvatures_hist_min,\n",
    "    max=zero_curvatures_hist_max,\n",
    ")\n",
    "# compute histogram of non-zero-curvatures (uses GPU)\n",
    "torch_nonzero_curvatures_log_d_from_root = torch.from_numpy(nonzero_curvatures_log_d_from_root).to(device)\n",
    "nonzero_curvatures_hist_min = torch.min(torch_nonzero_curvatures_log_d_from_root)\n",
    "nonzero_curvatures_hist_max = torch.max(torch_nonzero_curvatures_log_d_from_root)\n",
    "nonzero_curvatures_hist_bin_edges = torch.arange(\n",
    "    nonzero_curvatures_hist_min,\n",
    "    nonzero_curvatures_hist_max,\n",
    "    (nonzero_curvatures_hist_max - nonzero_curvatures_hist_min) / bins,\n",
    ")\n",
    "nonzero_curvatures_hist = torch.histc(\n",
    "    torch_nonzero_curvatures_log_d_from_root,\n",
    "    bins=bins,\n",
    "    min=nonzero_curvatures_hist_min,\n",
    "    max=nonzero_curvatures_hist_max\n",
    ")\n",
    "\n",
    "alpha_zero_curvatures = len(zero_curvatures_log_d_from_root) / L\n",
    "alpha_nonzero_curvatures = len(nonzero_curvatures_log_d_from_root) / L\n",
    "print(alpha_zero_curvatures, alpha_nonzero_curvatures)"
   ]
  },
  {
   "cell_type": "markdown",
   "metadata": {},
   "source": [
    "## Compute histogram of the torsions (uses GPU)"
   ]
  },
  {
   "cell_type": "code",
   "execution_count": 5,
   "metadata": {},
   "outputs": [
    {
     "name": "stdout",
     "output_type": "stream",
     "text": [
      "0.5266748171164624 0.47332518288353764\n"
     ]
    }
   ],
   "source": [
    "zero_torsions_log_d_from_root = log_d_from_root[np.where(torsions < 1e-16)[0]]\n",
    "nonzero_torsions_log_d_from_root = log_d_from_root[np.where(torsions > 1e-16)[0]]\n",
    "# compute histogram of zero-torsions\n",
    "torch_zero_torsions_log_d_from_root = torch.from_numpy(zero_torsions_log_d_from_root).to(device)\n",
    "zero_torsions_hist_min = torch.min(torch_zero_torsions_log_d_from_root)\n",
    "zero_torsions_hist_max = torch.max(torch_zero_torsions_log_d_from_root)\n",
    "zero_torsions_hist_bin_edges = torch.arange(\n",
    "    zero_torsions_hist_min,\n",
    "    zero_torsions_hist_max,\n",
    "    (zero_torsions_hist_max - zero_torsions_hist_min)/bins)\n",
    "\n",
    "zero_torsions_hist = torch.histc(\n",
    "    torch_zero_torsions_log_d_from_root,\n",
    "    bins=bins,\n",
    "    min=zero_torsions_hist_min,\n",
    "    max=zero_torsions_hist_max,\n",
    ")\n",
    "# compute histogram of non-zero-torsions (uses GPU)\n",
    "torch_nonzero_torsions_log_d_from_root = torch.from_numpy(nonzero_torsions_log_d_from_root).to(device)\n",
    "nonzero_torsions_hist_min = torch.min(torch_nonzero_torsions_log_d_from_root)\n",
    "nonzero_torsions_hist_max = torch.max(torch_nonzero_torsions_log_d_from_root)\n",
    "nonzero_torsions_hist_bin_edges = torch.arange(\n",
    "    nonzero_torsions_hist_min,\n",
    "    nonzero_torsions_hist_max,\n",
    "    (nonzero_torsions_hist_max - nonzero_torsions_hist_min) / bins,\n",
    ")\n",
    "nonzero_torsions_hist = torch.histc(\n",
    "    torch_nonzero_torsions_log_d_from_root,\n",
    "    bins=bins,\n",
    "    min=nonzero_torsions_hist_min,\n",
    "    max=nonzero_torsions_hist_max\n",
    ")\n",
    "\n",
    "alpha_zero_torsions = len(zero_torsions_log_d_from_root) / L\n",
    "alpha_nonzero_torsions = len(nonzero_torsions_log_d_from_root) / L\n",
    "print(alpha_zero_torsions, alpha_nonzero_torsions)"
   ]
  },
  {
   "cell_type": "markdown",
   "metadata": {},
   "source": [
    "## Plot figure"
   ]
  },
  {
   "cell_type": "code",
   "execution_count": 6,
   "metadata": {},
   "outputs": [
    {
     "data": {
      "text/plain": [
       "Text(0.5, 0.98, 'Brain 1')"
      ]
     },
     "execution_count": 6,
     "metadata": {},
     "output_type": "execute_result"
    },
    {
     "name": "stderr",
     "output_type": "stream",
     "text": [
      "findfont: Font family ['Arial'] not found. Falling back to DejaVu Sans.\n",
      "findfont: Font family ['Arial'] not found. Falling back to DejaVu Sans.\n"
     ]
    },
    {
     "data": {
      "image/png": "[encoded data removed]",
      "text/plain": [
       "<Figure size 1512x504 with 2 Axes>"
      ]
     },
     "metadata": {
      "needs_background": "dark"
     },
     "output_type": "display_data"
    }
   ],
   "source": [
    "fig = plt.figure(figsize=(21, 7))\n",
    "axes = fig.subplots(1, 2)\n",
    "GRAY = \"#999999\"\n",
    "TITLE_TYPE_SETTINGS = {\"fontname\": \"Arial\", \"size\": 20}\n",
    "SUP_TITLE_TYPE_SETTINGS = {\"fontname\": \"Arial\", \"size\": 24}\n",
    "plt.rc(\"font\", family=\"Arial\", size=20)\n",
    "\n",
    "ax = axes[0]\n",
    "ax.spines[\"bottom\"].set_color(GRAY)\n",
    "ax.spines[\"top\"].set_color(GRAY)\n",
    "ax.spines[\"right\"].set_color(GRAY)\n",
    "ax.spines[\"left\"].set_color(GRAY)\n",
    "ax.tick_params(axis=\"both\", colors=GRAY, labelsize=\"large\")\n",
    "\n",
    "ax.bar(zero_curvatures_hist_bin_edges.cpu().numpy(), zero_curvatures_hist.cpu().numpy() / L, label=r\"$\\mathcal{k} = 0$\", alpha=0.5)\n",
    "ax.bar(nonzero_curvatures_hist_bin_edges.cpu().numpy(), nonzero_curvatures_hist.cpu().numpy() / L, label=r\"$\\mathcal{k} > 0$\", alpha=0.5)\n",
    "\n",
    "ax.set_title(r\"Curvature ($\\alpha = %.4f$)\" % alpha_zero_curvatures)\n",
    "ax.set_xlabel(r\"$\\log$ distance from root ($\\mu m$)\", fontsize=24)\n",
    "ax.set_ylabel(r\"pdf\", fontsize=24)\n",
    "leg = ax.legend(loc=2)\n",
    "leg.get_frame().set_edgecolor(GRAY)\n",
    "\n",
    "ax = axes[1]\n",
    "ax.spines[\"bottom\"].set_color(GRAY)\n",
    "ax.spines[\"top\"].set_color(GRAY)\n",
    "ax.spines[\"right\"].set_color(GRAY)\n",
    "ax.spines[\"left\"].set_color(GRAY)\n",
    "ax.tick_params(axis=\"both\", colors=GRAY, labelsize=\"large\")\n",
    "\n",
    "ax.bar(zero_torsions_hist_bin_edges.cpu().numpy(), zero_torsions_hist.cpu().numpy() / L, label=r\"$\\tau = 0$\", alpha=0.5)\n",
    "ax.bar(nonzero_torsions_hist_bin_edges.cpu().numpy(), nonzero_torsions_hist.cpu().numpy() / L, label=r\"$\\tau > 0$\", alpha=0.5)\n",
    "\n",
    "ax.set_title(r\"Torsion ($\\alpha = %.4f$)\" % alpha_zero_torsions)\n",
    "ax.set_xlabel(r\"$\\log$ distance from root ($\\mu m$)\", fontsize=24)\n",
    "ax.set_ylabel(r\"pdf\", fontsize=24)\n",
    "leg = ax.legend(loc=2)\n",
    "leg.get_frame().set_edgecolor(GRAY)\n",
    "\n",
    "fig.suptitle(\"Brain 2\")"
   ]
  },
  {
   "cell_type": "markdown",
   "metadata": {},
   "source": [
    "## Save figure"
   ]
  },
  {
   "cell_type": "code",
   "execution_count": 7,
   "metadata": {},
   "outputs": [
    {
     "data": {
      "text/plain": [
       "<Figure size 432x288 with 0 Axes>"
      ]
     },
     "metadata": {},
     "output_type": "display_data"
    }
   ],
   "source": [
    "plt.savefig(os.path.join(experiment_dir, \"figures/{}_histograms_from_root.jpg\".format(brain)))\n",
    "plt.savefig(os.path.join(experiment_dir, \"figures/{}_histograms_from_root.eps\".format(brain)))"
   ]
  }
 ],
 "metadata": {
  "kernelspec": {
   "name": "python3",
   "display_name": "Python 3.8.5 64-bit ('brainlit': conda)",
   "metadata": {
    "interpreter": {
     "hash": "23a6901d04df5a24b139bf940691d9158a219126a6bc30bd2116c3bca95057cb"
    }
   }
  },
  "language_info": {
   "codemirror_mode": {
    "name": "ipython",
    "version": 3
   },
   "file_extension": ".py",
   "mimetype": "text/x-python",
   "name": "python",
   "nbconvert_exporter": "python",
   "pygments_lexer": "ipython3",
   "version": "3.8.5-final"
  }
 },
 "nbformat": 4,
 "nbformat_minor": 4
}