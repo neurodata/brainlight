{
 "cells": [
  {
   "cell_type": "markdown",
   "metadata": {},
   "source": [
    "# Plot histograms\n",
    "\n",
    "N.B. Data should be placed in `/brainlit/data/axon_geometry/`"
   ]
  },
  {
   "cell_type": "code",
   "execution_count": 1,
   "metadata": {},
   "outputs": [
    {
     "name": "stderr",
     "output_type": "stream",
     "text": [
      "/Users/thomasathey/Documents/mimlab/mouselight/env/lib/python3.8/site-packages/python_jsonschema_objects/__init__.py:50: UserWarning: Schema version http://json-schema.org/draft-04/schema not recognized. Some keywords and features may not be supported.\n",
      "  warnings.warn(\n"
     ]
    }
   ],
   "source": [
    "import numpy as np\n",
    "import brainlit\n",
    "import scipy\n",
    "from brainlit.utils import swc\n",
    "from cloudvolume.exceptions import SkeletonDecodeError\n",
    "from brainlit.algorithms.trace_analysis.fit_spline import GeometricGraph\n",
    "from brainlit.algorithms.trace_analysis.spline_fxns import curvature, torsion\n",
    "import os\n",
    "from pathlib import Path\n",
    "import pandas as pd\n",
    "from networkx.readwrite import json_graph\n",
    "import json\n",
    "import matplotlib.pyplot as plt\n",
    "import torch\n",
    "\n",
    "os.environ[\"CUDA_VISIBLE_DEVICES\"] = \"9\"\n",
    "\n",
    "device = torch.device(\"cuda:0\" if torch.cuda.is_available() == True else \"cpu\")\n",
    "torch.backends.cudnn.deterministic = True\n",
    "torch.backends.cudnn.benchmark = False"
   ]
  },
  {
   "cell_type": "markdown",
   "metadata": {},
   "source": [
    "## Define brain, find trace data folder"
   ]
  },
  {
   "cell_type": "code",
   "execution_count": 2,
   "metadata": {},
   "outputs": [
    {
     "name": "stdout",
     "output_type": "stream",
     "text": [
      "Directory where swcs reside: /Users/thomasathey/Documents/mimlab/mouselight/brainlit_parent/brainlit/data/axon_geometry/brain1/segments_swc\n"
     ]
    }
   ],
   "source": [
    "#specify brain1 or brain2 below\n",
    "brain = \"brain1\"\n",
    "bins = 2048\n",
    "root_dir = data_dir = Path(os.path.abspath('')).parents[1]\n",
    "data_dir = os.path.join(root_dir, \"data/axon_geometry/{}\".format(brain))\n",
    "experiment_dir = os.path.join(root_dir, \"experiments/axon_geometry\")\n",
    "segments_dir = os.path.join(data_dir, \"segments\")\n",
    "segments_swc_dir = os.path.join(data_dir, \"segments_swc\")\n",
    "trace_data_dir = os.path.join(data_dir, \"trace_data\")\n",
    "print(f\"Directory where swcs reside: {segments_swc_dir}\")"
   ]
  },
  {
   "cell_type": "markdown",
   "metadata": {},
   "source": [
    "## Read trace data"
   ]
  },
  {
   "cell_type": "code",
   "execution_count": 3,
   "metadata": {},
   "outputs": [
    {
     "name": "stdout",
     "output_type": "stream",
     "text": [
      "Loaded segment 2\n",
      "Loaded segment 7\n",
      "Loaded segment 11\n",
      "Loaded segment 12\n",
      "Loaded segment 13\n",
      "Loaded segment 14\n",
      "Loaded segment 20\n",
      "Loaded segment 24\n",
      "Loaded segment 28\n",
      "Loaded segment 35\n",
      "Loaded segment 40\n",
      "Loaded segment 45\n",
      "Loaded segment 48\n",
      "Loaded segment 49\n",
      "Loaded segment 51\n",
      "Loaded segment 53\n",
      "Loaded segment 59\n",
      "Loaded segment 60\n",
      "Loaded segment 65\n",
      "Loaded segment 67\n",
      "Loaded segment 69\n",
      "Loaded segment 71\n",
      "Loaded segment 72\n",
      "Loaded segment 73\n",
      "Loaded segment 74\n",
      "Loaded segment 75\n",
      "Loaded segment 76\n",
      "Loaded segment 77\n",
      "Loaded segment 78\n",
      "Loaded segment 79\n",
      "Loaded segment 81\n",
      "Loaded segment 82\n",
      "Loaded segment 83\n",
      "Loaded segment 85\n",
      "Loaded segment 86\n",
      "Loaded segment 91\n",
      "Loaded segment 97\n",
      "Loaded segment 98\n",
      "Loaded segment 99\n",
      "Loaded segment 101\n",
      "Loaded segment 103\n",
      "Loaded segment 106\n",
      "Loaded segment 107\n",
      "Loaded segment 109\n",
      "Loaded segment 111\n",
      "Loaded segment 112\n",
      "Loaded segment 115\n",
      "Loaded segment 118\n",
      "Loaded segment 120\n",
      "Loaded segment 124\n",
      "Loaded segment 126\n",
      "Loaded segment 127\n",
      "Loaded segment 129\n",
      "Loaded segment 132\n",
      "Loaded segment 133\n",
      "Loaded segment 136\n",
      "Loaded segment 137\n",
      "Loaded segment 140\n",
      "Loaded segment 141\n",
      "Loaded segment 142\n",
      "Loaded segment 143\n",
      "Loaded segment 144\n",
      "Loaded segment 145\n",
      "Loaded segment 146\n",
      "Loaded segment 147\n",
      "Loaded segment 149\n",
      "Loaded segment 150\n",
      "Loaded segment 151\n",
      "Loaded segment 152\n",
      "Loaded segment 153\n",
      "Loaded segment 154\n",
      "Loaded segment 155\n",
      "Loaded segment 156\n",
      "Loaded segment 157\n",
      "Loaded segment 158\n",
      "Loaded segment 159\n",
      "Loaded segment 160\n",
      "Loaded segment 161\n",
      "Loaded segment 162\n",
      "Loaded segment 163\n",
      "Loaded segment 164\n",
      "Loaded segment 165\n",
      "Loaded segment 166\n",
      "Loaded segment 167\n",
      "Loaded segment 169\n",
      "Loaded segment 170\n",
      "Loaded segment 171\n",
      "Loaded segment 172\n",
      "Loaded segment 173\n",
      "Loaded segment 174\n",
      "Loaded segment 175\n",
      "Loaded segment 176\n",
      "Loaded segment 177\n",
      "Loaded segment 178\n",
      "Loaded segment 179\n",
      "Loaded segment 180\n",
      "Loaded segment 181\n",
      "Loaded segment 182\n",
      "Loaded segment 183\n",
      "Loaded segment 184\n",
      "Loaded segment 185\n",
      "Loaded segment 186\n",
      "Loaded segment 187\n",
      "Loaded segment 188\n",
      "Loaded segment 189\n",
      "Loaded segment 190\n",
      "Loaded segment 192\n",
      "Loaded segment 193\n",
      "Loaded segment 194\n",
      "Loaded segment 195\n",
      "Loaded segment 196\n",
      "Loaded segment 197\n",
      "Loaded segment 198\n",
      "Loaded segment 199\n",
      "Loaded segment 200\n",
      "Loaded segment 201\n",
      "Loaded segment 202\n",
      "Loaded segment 205\n",
      "Loaded segment 207\n",
      "Loaded segment 208\n",
      "Loaded segment 214\n",
      "Loaded segment 223\n",
      "Loaded segment 224\n",
      "Loaded segment 225\n",
      "Loaded segment 227\n",
      "Loaded segment 228\n",
      "Loaded segment 229\n",
      "Loaded segment 230\n",
      "Loaded segment 231\n",
      "Loaded segment 232\n",
      "Loaded segment 234\n",
      "Loaded segment 235\n",
      "Loaded segment 236\n",
      "Loaded segment 237\n",
      "Loaded segment 240\n",
      "Loaded segment 243\n",
      "Loaded segment 246\n",
      "Loaded segment 247\n",
      "Loaded segment 248\n",
      "Loaded segment 249\n",
      "Loaded segment 250\n",
      "Loaded segment 252\n",
      "Loaded segment 253\n",
      "Loaded segment 254\n",
      "Loaded segment 255\n",
      "Loaded segment 256\n",
      "Loaded segment 257\n",
      "Loaded segment 258\n",
      "Loaded segment 259\n",
      "Loaded segment 261\n",
      "Loaded segment 262\n",
      "Loaded segment 265\n",
      "Loaded segment 266\n",
      "Loaded segment 267\n",
      "Loaded segment 269\n",
      "Loaded segment 270\n",
      "Loaded segment 271\n",
      "Loaded segment 272\n",
      "Loaded segment 274\n",
      "Loaded segment 275\n",
      "Loaded segment 276\n",
      "Loaded segment 277\n",
      "Loaded segment 278\n",
      "Loaded segment 279\n",
      "Loaded segment 280\n",
      "Loaded segment 281\n",
      "Loaded segment 282\n",
      "Loaded segment 283\n",
      "Loaded segment 284\n",
      "Loaded segment 285\n",
      "Loaded segment 286\n",
      "Loaded segment 287\n",
      "Loaded segment 288\n",
      "Loaded segment 289\n",
      "Loaded segment 291\n",
      "Loaded segment 293\n",
      "Loaded segment 294\n",
      "Loaded segment 295\n",
      "Loaded segment 296\n",
      "Loaded segment 298\n"
     ]
    }
   ],
   "source": [
    "max_id = 300\n",
    "seg_lengths = []\n",
    "mean_torsions = []\n",
    "mean_curvatures = []\n",
    "d_from_root = []\n",
    "torsions = []\n",
    "curvatures = []\n",
    "for i in np.arange(0, max_id):\n",
    "    i = int(i)\n",
    "    trace_data_path = os.path.join(trace_data_dir, \"{}.npy\".format(i))\n",
    "    if os.path.exists(trace_data_path) is True:\n",
    "        trace_data = np.load(trace_data_path, allow_pickle=True)\n",
    "        print(\"Loaded segment {}\".format(i))\n",
    "\n",
    "        for node in trace_data:\n",
    "            # print(node)\n",
    "            seg_lengths.append(node[\"seg_length\"])\n",
    "            mean_curvatures.append(node[\"mean_curvature\"])\n",
    "            mean_torsions.append(node[\"mean_torsion\"])\n",
    "            _curvatures = node[\"curvature\"]\n",
    "            _torsions = node[\"torsion\"]\n",
    "            assert len(_curvatures) == len(_torsions)\n",
    "            m = len(_curvatures)\n",
    "            # print(node[\"starting_length\"])\n",
    "            d_from_root.append(node[\"starting_length\"] + np.arange(0, m))\n",
    "            # d_from_root.append(np.arange(0, m)/node[\"seg_length\"])\n",
    "            torsions.append(_torsions)\n",
    "            curvatures.append(_curvatures)\n",
    "            \n",
    "# ARRAY MANIPULATION TO CONVERT EVERYTHING TO NUMPY, REMOVE POINTS THAT WOULD YIELD -INF IN LOG\n",
    "seg_lengths = np.array(seg_lengths)\n",
    "mean_curvatures = np.array(mean_curvatures)\n",
    "mean_torsions = np.array(mean_torsions)\n",
    "d_from_root = np.concatenate(d_from_root)\n",
    "curvatures = np.concatenate(curvatures)\n",
    "torsions = np.concatenate(torsions)\n",
    "# remove all root points\n",
    "masked_d_from_root = np.ma.masked_less(d_from_root, 1e-16)\n",
    "d_from_root = masked_d_from_root.compressed()\n",
    "assert len(np.where(d_from_root < 1e-16)[0]) == 0\n",
    "curvatures = curvatures[~masked_d_from_root.mask]\n",
    "torsions = torsions[~masked_d_from_root.mask]\n",
    "\n",
    "log_d_from_root = np.log10(d_from_root)\n",
    "L = len(log_d_from_root)"
   ]
  },
  {
   "cell_type": "markdown",
   "metadata": {},
   "source": [
    "## Compute histogram of the curvatures (uses GPU)"
   ]
  },
  {
   "cell_type": "code",
   "execution_count": 4,
   "metadata": {},
   "outputs": [
    {
     "name": "stdout",
     "output_type": "stream",
     "text": [
      "0.016040546451364344 0.9839594535486357\n"
     ]
    }
   ],
   "source": [
    "zero_curvatures_log_d_from_root = log_d_from_root[np.where(curvatures < 1e-16)[0]]\n",
    "nonzero_curvatures_log_d_from_root = log_d_from_root[np.where(curvatures > 1e-16)[0]]\n",
    "# compute histogram of zero-curvatures\n",
    "torch_zero_curvatures_log_d_from_root = torch.from_numpy(zero_curvatures_log_d_from_root).to(device)\n",
    "zero_curvatures_hist_min = torch.min(torch_zero_curvatures_log_d_from_root)\n",
    "zero_curvatures_hist_max = torch.max(torch_zero_curvatures_log_d_from_root)\n",
    "zero_curvatures_hist_bin_edges = torch.arange(\n",
    "    zero_curvatures_hist_min,\n",
    "    zero_curvatures_hist_max,\n",
    "    (zero_curvatures_hist_max - zero_curvatures_hist_min)/bins)\n",
    "\n",
    "zero_curvatures_hist = torch.histc(\n",
    "    torch_zero_curvatures_log_d_from_root,\n",
    "    bins=bins,\n",
    "    min=zero_curvatures_hist_min,\n",
    "    max=zero_curvatures_hist_max,\n",
    ")\n",
    "# compute histogram of non-zero-curvatures (uses GPU)\n",
    "torch_nonzero_curvatures_log_d_from_root = torch.from_numpy(nonzero_curvatures_log_d_from_root).to(device)\n",
    "nonzero_curvatures_hist_min = torch.min(torch_nonzero_curvatures_log_d_from_root)\n",
    "nonzero_curvatures_hist_max = torch.max(torch_nonzero_curvatures_log_d_from_root)\n",
    "nonzero_curvatures_hist_bin_edges = torch.arange(\n",
    "    nonzero_curvatures_hist_min,\n",
    "    nonzero_curvatures_hist_max,\n",
    "    (nonzero_curvatures_hist_max - nonzero_curvatures_hist_min) / bins,\n",
    ")\n",
    "nonzero_curvatures_hist = torch.histc(\n",
    "    torch_nonzero_curvatures_log_d_from_root,\n",
    "    bins=bins,\n",
    "    min=nonzero_curvatures_hist_min,\n",
    "    max=nonzero_curvatures_hist_max\n",
    ")\n",
    "\n",
    "alpha_zero_curvatures = len(zero_curvatures_log_d_from_root) / L\n",
    "alpha_nonzero_curvatures = len(nonzero_curvatures_log_d_from_root) / L\n",
    "print(alpha_zero_curvatures, alpha_nonzero_curvatures)"
   ]
  },
  {
   "cell_type": "markdown",
   "metadata": {},
   "source": [
    "## Compute histogram of the torsions (uses GPU)"
   ]
  },
  {
   "cell_type": "code",
   "execution_count": 5,
   "metadata": {},
   "outputs": [
    {
     "name": "stdout",
     "output_type": "stream",
     "text": [
      "0.5134358033856311 0.4865641966143689\n"
     ]
    }
   ],
   "source": [
    "zero_torsions_log_d_from_root = log_d_from_root[np.where(torsions < 1e-16)[0]]\n",
    "nonzero_torsions_log_d_from_root = log_d_from_root[np.where(torsions > 1e-16)[0]]\n",
    "# compute histogram of zero-torsions\n",
    "torch_zero_torsions_log_d_from_root = torch.from_numpy(zero_torsions_log_d_from_root).to(device)\n",
    "zero_torsions_hist_min = torch.min(torch_zero_torsions_log_d_from_root)\n",
    "zero_torsions_hist_max = torch.max(torch_zero_torsions_log_d_from_root)\n",
    "zero_torsions_hist_bin_edges = torch.arange(\n",
    "    zero_torsions_hist_min,\n",
    "    zero_torsions_hist_max,\n",
    "    (zero_torsions_hist_max - zero_torsions_hist_min)/bins)\n",
    "\n",
    "zero_torsions_hist = torch.histc(\n",
    "    torch_zero_torsions_log_d_from_root,\n",
    "    bins=bins,\n",
    "    min=zero_torsions_hist_min,\n",
    "    max=zero_torsions_hist_max,\n",
    ")\n",
    "# compute histogram of non-zero-torsions (uses GPU)\n",
    "torch_nonzero_torsions_log_d_from_root = torch.from_numpy(nonzero_torsions_log_d_from_root).to(device)\n",
    "nonzero_torsions_hist_min = torch.min(torch_nonzero_torsions_log_d_from_root)\n",
    "nonzero_torsions_hist_max = torch.max(torch_nonzero_torsions_log_d_from_root)\n",
    "nonzero_torsions_hist_bin_edges = torch.arange(\n",
    "    nonzero_torsions_hist_min,\n",
    "    nonzero_torsions_hist_max,\n",
    "    (nonzero_torsions_hist_max - nonzero_torsions_hist_min) / bins,\n",
    ")\n",
    "nonzero_torsions_hist = torch.histc(\n",
    "    torch_nonzero_torsions_log_d_from_root,\n",
    "    bins=bins,\n",
    "    min=nonzero_torsions_hist_min,\n",
    "    max=nonzero_torsions_hist_max\n",
    ")\n",
    "\n",
    "alpha_zero_torsions = len(zero_torsions_log_d_from_root) / L\n",
    "alpha_nonzero_torsions = len(nonzero_torsions_log_d_from_root) / L\n",
    "print(alpha_zero_torsions, alpha_nonzero_torsions)"
   ]
  },
  {
   "cell_type": "markdown",
   "metadata": {},
   "source": [
    "## Plot figure"
   ]
  },
  {
   "cell_type": "code",
   "execution_count": 6,
   "metadata": {},
   "outputs": [
    {
     "data": {
      "text/plain": [
       "Text(0.5, 0.98, 'Brain 1')"
      ]
     },
     "execution_count": 6,
     "metadata": {},
     "output_type": "execute_result"
    },
    {
     "data": {
      "image/png": "[encoded data removed]",
      "text/plain": [
       "<Figure size 1512x504 with 2 Axes>"
      ]
     },
     "metadata": {
      "needs_background": "dark"
     },
     "output_type": "display_data"
    }
   ],
   "source": [
    "fig = plt.figure(figsize=(21, 7))\n",
    "axes = fig.subplots(1, 2)\n",
    "GRAY = \"#999999\"\n",
    "TITLE_TYPE_SETTINGS = {\"fontname\": \"Arial\", \"size\": 20}\n",
    "SUP_TITLE_TYPE_SETTINGS = {\"fontname\": \"Arial\", \"size\": 24}\n",
    "plt.rc(\"font\", family=\"Arial\", size=20)\n",
    "\n",
    "ax = axes[0]\n",
    "ax.spines[\"bottom\"].set_color(GRAY)\n",
    "ax.spines[\"top\"].set_color(GRAY)\n",
    "ax.spines[\"right\"].set_color(GRAY)\n",
    "ax.spines[\"left\"].set_color(GRAY)\n",
    "ax.tick_params(axis=\"both\", colors=GRAY, labelsize=\"large\")\n",
    "\n",
    "ax.bar(zero_curvatures_hist_bin_edges.cpu().numpy(), zero_curvatures_hist.cpu().numpy() / L, label=r\"$\\mathcal{k} = 0$\", alpha=0.5)\n",
    "ax.bar(nonzero_curvatures_hist_bin_edges.cpu().numpy(), nonzero_curvatures_hist.cpu().numpy() / L, label=r\"$\\mathcal{k} > 0$\", alpha=0.5)\n",
    "\n",
    "ax.set_title(r\"Curvature ($\\alpha = %.4f$)\" % alpha_zero_curvatures)\n",
    "ax.set_xlabel(r\"$\\log$ distance from root ($\\mu m$)\", fontsize=24)\n",
    "ax.set_ylabel(r\"pdf\", fontsize=24)\n",
    "leg = ax.legend(loc=2)\n",
    "leg.get_frame().set_edgecolor(GRAY)\n",
    "\n",
    "ax = axes[1]\n",
    "ax.spines[\"bottom\"].set_color(GRAY)\n",
    "ax.spines[\"top\"].set_color(GRAY)\n",
    "ax.spines[\"right\"].set_color(GRAY)\n",
    "ax.spines[\"left\"].set_color(GRAY)\n",
    "ax.tick_params(axis=\"both\", colors=GRAY, labelsize=\"large\")\n",
    "\n",
    "ax.bar(zero_torsions_hist_bin_edges.cpu().numpy(), zero_torsions_hist.cpu().numpy() / L, label=r\"$\\tau = 0$\", alpha=0.5)\n",
    "ax.bar(nonzero_torsions_hist_bin_edges.cpu().numpy(), nonzero_torsions_hist.cpu().numpy() / L, label=r\"$\\tau > 0$\", alpha=0.5)\n",
    "\n",
    "ax.set_title(r\"Torsion ($\\alpha = %.4f$)\" % alpha_zero_torsions)\n",
    "ax.set_xlabel(r\"$\\log$ distance from root ($\\mu m$)\", fontsize=24)\n",
    "ax.set_ylabel(r\"pdf\", fontsize=24)\n",
    "leg = ax.legend(loc=2)\n",
    "leg.get_frame().set_edgecolor(GRAY)\n",
    "\n",
    "title = \"Brain 1\" if brain == \"brain1\" else \"Brain 2\"\n",
    "fig.suptitle(title)"
   ]
  },
  {
   "cell_type": "markdown",
   "metadata": {},
   "source": [
    "## Save figure"
   ]
  },
  {
   "cell_type": "code",
   "execution_count": 7,
   "metadata": {},
   "outputs": [
    {
     "data": {
      "text/plain": [
       "<Figure size 432x288 with 0 Axes>"
      ]
     },
     "metadata": {},
     "output_type": "display_data"
    }
   ],
   "source": [
    "plt.savefig(os.path.join(experiment_dir, \"figures/{}_histograms_from_root.jpg\".format(brain)))\n",
    "plt.savefig(os.path.join(experiment_dir, \"figures/{}_histograms_from_root.eps\".format(brain)))"
   ]
  },
  {
   "cell_type": "code",
   "execution_count": null,
   "metadata": {},
   "outputs": [],
   "source": []
  }
 ],
 "metadata": {
  "kernelspec": {
   "display_name": "Python 3",
   "language": "python",
   "name": "python3"
  },
  "language_info": {
   "codemirror_mode": {
    "name": "ipython",
    "version": 3
   },
   "file_extension": ".py",
   "mimetype": "text/x-python",
   "name": "python",
   "nbconvert_exporter": "python",
   "pygments_lexer": "ipython3",
   "version": "3.8.6"
  }
 },
 "nbformat": 4,
 "nbformat_minor": 4
}
