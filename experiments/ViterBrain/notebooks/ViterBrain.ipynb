{
 "cells": [
  {
   "cell_type": "code",
   "execution_count": null,
   "metadata": {},
   "outputs": [],
   "source": [
    "import zarr\n",
    "from brainlit.algorithms.generate_fragments.state_generation import state_generation\n",
    "from pathlib import Path\n",
    "import numpy as np\n",
    "import napari"
   ]
  },
  {
   "cell_type": "markdown",
   "metadata": {},
   "source": [
    "## Read Coordinates"
   ]
  },
  {
   "cell_type": "code",
   "execution_count": null,
   "metadata": {},
   "outputs": [],
   "source": [
    "root_dir = Path(os.path.abspath(\"\")).parents[0]\n",
    "data_dir = os.path.join(root_dir, \"data\", \"example\")\n",
    "im_path = os.path.join(data_dir, \"image.zarr\")\n",
    "probs_path = os.path.join(data_dir, \"probabilities.zarr\")\n",
    "coords_path = os.path.join(data_dir, \"manual_coords.csv\")\n",
    "\n",
    "im = zarr.open(im_path)\n",
    "\n",
    "coords = np.genfromtxt(coords_path, delimiter=\",\")\n",
    "coords = coords.astype(int)\n",
    "coords_list = list(coords)\n",
    "coords_list = [list(c) for c in coords_list]\n",
    "coords_list.reverse()\n",
    "print(f\"coords shape: {coords.shape}\")\n",
    "soma_coords = [list(coords[0, :])]\n",
    "axon_coords = [list(coords[-1, :])]"
   ]
  },
  {
   "cell_type": "markdown",
   "metadata": {},
   "source": [
    "## Process states"
   ]
  },
  {
   "cell_type": "code",
   "execution_count": null,
   "metadata": {},
   "outputs": [],
   "source": [
    "sg = state_generation(\n",
    "    image_path=im_path,\n",
    "    ilastik_program_path=None,\n",
    "    ilastik_project_path=None,\n",
    "    chunk_size=[259, 443, 112],\n",
    "    soma_coords=soma_coords,\n",
    "    prob_path=probs_path,\n",
    ")\n",
    "\n",
    "sg.compute_frags()\n",
    "sg.compute_soma_lbls()\n",
    "sg.compute_image_tiered()\n",
    "sg.compute_states()\n",
    "sg.compute_edge_weights()\n",
    "viterbrain = sg.viterbrain"
   ]
  },
  {
   "cell_type": "markdown",
   "metadata": {},
   "source": [
    "## Compute shortest path"
   ]
  },
  {
   "cell_type": "code",
   "execution_count": null,
   "metadata": {},
   "outputs": [],
   "source": [
    "vb_path = viterbrain.shortest_path(axon_coords[0], soma_coords[0])\n",
    "vb_path = [list(coord) for coord in vb_path]"
   ]
  },
  {
   "cell_type": "markdown",
   "metadata": {},
   "source": [
    "## Visualize"
   ]
  },
  {
   "cell_type": "code",
   "execution_count": null,
   "metadata": {},
   "outputs": [],
   "source": [
    "viewer = napari.Viewer(ndisplay=3)\n",
    "viewer.add_image(im)\n",
    "viewer.add_shapes(\n",
    "    vb_path, shape_type=\"path\", edge_width=2, edge_color=\"red\", name=\"viterbrain\"\n",
    ")\n",
    "viewer.add_shapes(\n",
    "    coords_list, shape_type=\"path\", edge_width=2, edge_color=\"green\", name=\"truth\"\n",
    ")"
   ]
  },
  {
   "cell_type": "code",
   "execution_count": null,
   "metadata": {},
   "outputs": [],
   "source": []
  }
 ],
 "metadata": {
  "kernelspec": {
   "display_name": "Python 3.8.10 ('docs_env': venv)",
   "language": "python",
   "name": "python3"
  },
  "language_info": {
   "codemirror_mode": {
    "name": "ipython",
    "version": 3
   },
   "file_extension": ".py",
   "mimetype": "text/x-python",
   "name": "python",
   "nbconvert_exporter": "python",
   "pygments_lexer": "ipython3",
   "version": "3.8.10"
  },
  "orig_nbformat": 4,
  "vscode": {
   "interpreter": {
    "hash": "5dc00d68ff54f8375e99934614da4863299fb9e10af4294c095b7f517546ff26"
   }
  }
 },
 "nbformat": 4,
 "nbformat_minor": 2
}
