{
 "cells": [
  {
   "cell_type": "code",
   "execution_count": 1,
   "metadata": {},
   "outputs": [],
   "source": [
    "import numpy as np\n",
    "import zarr\n",
    "import tifffile\n",
    "import matplotlib.pyplot as plt\n",
    "import h5py\n",
    "from sys import stdout"
   ]
  },
  {
   "cell_type": "markdown",
   "metadata": {},
   "source": [
    "780-mouse3-1.lsm is an example file and is not included in ViterBrain/data/sample.zip. It is included in this file as an example of how to convert .lsm files to zarr."
   ]
  },
  {
   "cell_type": "markdown",
   "metadata": {},
   "source": [
    "## Convert lsm to zarr and save "
   ]
  },
  {
   "cell_type": "code",
   "execution_count": null,
   "metadata": {},
   "outputs": [],
   "source": [
    "image = tifffile.imread(\"780-mouse3-1.lsm\")\n",
    "print(image.shape)\n",
    "image = np.swapaxes(image, 0, 1)\n",
    "image = image[:, :, 1500:2000, 500:1000]\n",
    "plt.imshow(image[1, 10, :, :])\n",
    "print(image.shape)\n",
    "zarr.save(\"3-1-soma.zarr\", image[1, :, :, :])"
   ]
  },
  {
   "cell_type": "markdown",
   "metadata": {},
   "source": [
    "## Create h5 image dataset"
   ]
  },
  {
   "cell_type": "code",
   "execution_count": null,
   "metadata": {},
   "outputs": [],
   "source": [
    "with h5py.File(\"/Users/sejalsrivastava/Desktop/780_Mouse_3/3-1-soma.h5\", \"w\") as f:\n",
    "    dset = f.create_dataset(\"image\", data=image[:, :, :, :])"
   ]
  },
  {
   "cell_type": "markdown",
   "metadata": {},
   "source": [
    "### Create masks using Ilastik"
   ]
  },
  {
   "cell_type": "markdown",
   "metadata": {},
   "source": [
    "## Create probabilities zarr file"
   ]
  },
  {
   "cell_type": "code",
   "execution_count": 2,
   "metadata": {},
   "outputs": [
    {
     "name": "stdout",
     "output_type": "stream",
     "text": [
      "copy /\n",
      "copy /exported_data (38, 500, 500) float32\n",
      "all done: 2 copied, 0 skipped, 38,000,000 bytes copied\n"
     ]
    },
    {
     "data": {
      "text/plain": [
       "(2, 0, 38000000)"
      ]
     },
     "execution_count": 2,
     "metadata": {},
     "output_type": "execute_result"
    }
   ],
   "source": [
    "with h5py.File(\n",
    "    \"/Users/sejalsrivastava/Desktop/780_Mouse_3/3-1-soma-image_Probabilities.h5\", \"r\"\n",
    ") as prob:\n",
    "    probs = prob.get(\"exported_data\")[1, :, :, :]\n",
    "    h5 = h5py.File(\n",
    "        \"/Users/sejalsrivastava/Desktop/780_Mouse_3/3-1-soma_Probabilities.h5\", \"w\"\n",
    "    )\n",
    "    h5.create_dataset(\"exported_data\", data=probs)\n",
    "    h5.close()\n",
    "source = h5py.File(\n",
    "    \"/Users/sejalsrivastava/Desktop/780_Mouse_3/3-1-soma_Probabilities.h5\", \"r\"\n",
    ")\n",
    "dest = zarr.open(\n",
    "    \"/Users/sejalsrivastava/Desktop/780_Mouse_3/3-1-soma-image_Probabilities.zarr\", \"w\"\n",
    ")\n",
    "\n",
    "\n",
    "zarr.copy(source, dest, log=stdout, name=\"zarr\", if_exists=\"replace\")\n",
    "\n",
    "# contents of zarr file should be accessed using filename.zarr/zarr/exported_data"
   ]
  },
  {
   "cell_type": "markdown",
   "metadata": {},
   "source": [
    "## Go to ViterBrain.ipynb to compute labels, states, etc"
   ]
  }
 ],
 "metadata": {
  "kernelspec": {
   "display_name": "Python 3.9.13 ('napari-env')",
   "language": "python",
   "name": "python3"
  },
  "language_info": {
   "codemirror_mode": {
    "name": "ipython",
    "version": 3
   },
   "file_extension": ".py",
   "mimetype": "text/x-python",
   "name": "python",
   "nbconvert_exporter": "python",
   "pygments_lexer": "ipython3",
   "version": "3.9.13"
  },
  "orig_nbformat": 4,
  "vscode": {
   "interpreter": {
    "hash": "3f74a12401833d4cfc374021880e35ab38816a2c577e2a31e9eed92e32cb9160"
   }
  }
 },
 "nbformat": 4,
 "nbformat_minor": 2
}
