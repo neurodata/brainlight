{
 "cells": [
  {
   "cell_type": "markdown",
   "metadata": {},
   "source": [
    "# Feature Extraction"
   ]
  },
  {
   "cell_type": "code",
   "execution_count": 1,
   "metadata": {},
   "outputs": [
    {
     "output_type": "stream",
     "name": "stderr",
     "text": "Using TensorFlow backend.\n"
    }
   ],
   "source": [
    "from brainlit.utils.ngl_pipeline import NeuroglancerSession\n",
    "from brainlit.preprocessing.features import *\n",
    "import pandas as pd\n",
    "import numpy as np\n",
    "import glob"
   ]
  },
  {
   "cell_type": "markdown",
   "metadata": {},
   "source": [
    "## Feature extraction using brainlit\n",
    "The classes `LinearFeatures` and `NeighborhoodFeatures` convert swc files to a list of axon/background examples in a dataframe, with relevant features. \n",
    "\n",
    "First, instantiate the classes. You pass a `url` to pull data from, a `size` of the bounding box around each point, where the actual box is `2i+1` for each index `i`, and an `offset` to shift the bounding box to get a background point."
   ]
  },
  {
   "cell_type": "code",
   "execution_count": 2,
   "metadata": {},
   "outputs": [],
   "source": [
    "lin = LinearFeatures(url=\"s3://open-neurodata/brainlit/brain1\", size=[1,1,1], offset=[15,15,15])\n",
    "nbr = NeighborhoodFeatures(url=\"s3://open-neurodata/brainlit/brain1\", size=[1,1,1], offset=[15,15,15])"
   ]
  },
  {
   "cell_type": "markdown",
   "metadata": {},
   "source": [
    "For the `LinearFeatures` class, you need to define the filters you want to convolve with the neighborhoods. To do so, you use the `add_filters` method. Currently, `brainlit` supports adding Gaussian, Gaussian Gradient Magnitude, Gaussian Laplace, and Gabor filters."
   ]
  },
  {
   "cell_type": "code",
   "execution_count": 3,
   "metadata": {},
   "outputs": [],
   "source": [
    "lin.add_filter('gaussian', sigma=[1, 1, 0.3])\n",
    "lin.add_filter('gaussian gradient', sigma=[1, 1, 0.3])\n",
    "lin.add_filter('gaussian laplace', sigma=[1, 1, 0.3])\n",
    "lin.add_filter('gabor', sigma=[1, 1, 0.3], phi=[0, 0], frequency=2)\n",
    "# lin.add_filter('gabor', sigma=[1, 1, 0.3], phi=[0, np.pi/2], frequency=2)"
   ]
  },
  {
   "cell_type": "markdown",
   "metadata": {},
   "source": [
    "Calling the `fit` method for each class with a list of ids and a number of vertices to fit onto for each swc. If the second argument isn't given (or passed as `None`), features will be collected for every vertex."
   ]
  },
  {
   "cell_type": "code",
   "execution_count": 11,
   "metadata": {
    "scrolled": true
   },
   "outputs": [
    {
     "output_type": "stream",
     "name": "stderr",
     "text": "Downloading: 100%|██████████| 1/1 [00:00<00:00, 18.62it/s]\nDownloading: 100%|██████████| 1/1 [00:00<00:00, 18.75it/s]\nDownloading:   0%|          | 0/1 [00:00<?, ?it/s]\nDownloading:   0%|          | 0/1 [00:00<?, ?it/s]\nDownloading: 100%|██████████| 1/1 [00:00<00:00, 32.31it/s]\nDownloading:   0%|          | 0/1 [00:00<?, ?it/s]\nDownloading:   0%|          | 0/1 [00:00<?, ?it/s]\nDownloading: 100%|██████████| 1/1 [00:00<00:00, 30.78it/s]\nDownloading:   0%|          | 0/1 [00:00<?, ?it/s]\nDownloading:   0%|          | 0/1 [00:00<?, ?it/s]\nDownloading: 100%|██████████| 1/1 [00:00<00:00,  4.96it/s]\nDownloading:   0%|          | 0/1 [00:00<?, ?it/s]\nDownloading:   0%|          | 0/1 [00:00<?, ?it/s]\nDownloading: 100%|██████████| 1/1 [00:00<00:00, 11.73it/s]\nDownloading:   0%|          | 0/1 [00:00<?, ?it/s]\nDownloading:   0%|          | 0/1 [00:00<?, ?it/s]\nDownloading: 100%|██████████| 1/1 [00:00<00:00, 17.25it/s]\nDownloading: 100%|██████████| 1/1 [00:00<00:00, 12.51it/s]\nDownloading:   0%|          | 0/1 [00:00<?, ?it/s]\nDownloading:   0%|          | 0/1 [00:00<?, ?it/s]\nDownloading: 100%|██████████| 1/1 [00:00<00:00, 19.52it/s]\nDownloading:   0%|          | 0/1 [00:00<?, ?it/s]\nDownloading:   0%|          | 0/1 [00:00<?, ?it/s]\nDownloading: 100%|██████████| 1/1 [00:00<00:00, 26.03it/s]\nDownloading:   0%|          | 0/1 [00:00<?, ?it/s]\nDownloading:   0%|          | 0/1 [00:00<?, ?it/s]\nDownloading:   0%|          | 0/1 [00:00<?, ?it/s]\nDownloading: 100%|██████████| 1/1 [00:00<00:00, 30.05it/s]\nDownloading:   0%|          | 0/1 [00:00<?, ?it/s]\nDownloading:   0%|          | 0/1 [00:00<?, ?it/s]\nDownloading: 100%|██████████| 1/1 [00:00<00:00, 14.32it/s]\nDownloading:   0%|          | 0/1 [00:00<?, ?it/s]\nDownloading:   0%|          | 0/1 [00:00<?, ?it/s]\nDownloading:   0%|          | 0/1 [00:00<?, ?it/s]\nDownloading: 100%|██████████| 1/1 [00:00<00:00, 31.47it/s]\nDownloading: 100%|██████████| 1/1 [00:00<00:00, 33.04it/s]\nDownloading:   0%|          | 0/1 [00:00<?, ?it/s]\nDownloading:   0%|          | 0/1 [00:00<?, ?it/s]\nDownloading: 100%|██████████| 1/1 [00:00<00:00, 31.81it/s]\nDownloading:   0%|          | 0/1 [00:00<?, ?it/s]\nDownloading:   0%|          | 0/1 [00:00<?, ?it/s]\nDownloading: 100%|██████████| 1/1 [00:00<00:00, 34.45it/s]\nDownloading:   0%|          | 0/1 [00:00<?, ?it/s]\nDownloading:   0%|          | 0/1 [00:00<?, ?it/s]\nDownloading: 100%|██████████| 1/1 [00:00<00:00, 32.16it/s]\nDownloading:   0%|          | 0/1 [00:00<?, ?it/s]\nDownloading:   0%|          | 0/1 [00:00<?, ?it/s]\nDownloading: 100%|██████████| 1/1 [00:00<00:00, 30.13it/s]\nDownloading:   0%|          | 0/1 [00:00<?, ?it/s]\nDownloading:   0%|          | 0/1 [00:00<?, ?it/s]\nDownloading: 100%|██████████| 1/1 [00:00<00:00, 30.64it/s]\nDownloading: 100%|██████████| 1/1 [00:00<00:00, 30.39it/s]\nDownloading:   0%|          | 0/1 [00:00<?, ?it/s]\nDownloading:   0%|          | 0/1 [00:00<?, ?it/s]\nDownloading: 100%|██████████| 1/1 [00:00<00:00, 30.03it/s]\nDownloading:   0%|          | 0/1 [00:00<?, ?it/s]\nDownloading:   0%|          | 0/1 [00:00<?, ?it/s]\nDownloading: 100%|██████████| 1/1 [00:00<00:00, 21.95it/s]\nDownloading:   0%|          | 0/1 [00:00<?, ?it/s]\nDownloading:   0%|          | 0/1 [00:00<?, ?it/s]\nDownloading:   0%|          | 0/1 [00:00<?, ?it/s]\nDownloading: 100%|██████████| 1/1 [00:00<00:00, 29.27it/s]\nDownloading:   0%|          | 0/1 [00:00<?, ?it/s]\nDownloading:   0%|          | 0/1 [00:00<?, ?it/s]\nDownloading: 100%|██████████| 1/1 [00:00<00:00, 31.29it/s]\nDownloading:   0%|          | 0/1 [00:00<?, ?it/s]\nDownloading:   0%|          | 0/1 [00:00<?, ?it/s]\nDownloading:   0%|          | 0/1 [00:00<?, ?it/s]\n"
    }
   ],
   "source": [
    "df_lin = lin.fit(seg_ids=[2, 7], num_verts=5)\n",
    "df_nbr = nbr.fit(seg_ids=[2, 7], num_verts=5)"
   ]
  },
  {
   "cell_type": "markdown",
   "metadata": {},
   "source": [
    "The outputted dataframes themselves have a `Segment` column, `Vertex` column, `Label` column (1=axon 0=background), and feature columns that are indexed starting at 0."
   ]
  },
  {
   "cell_type": "code",
   "execution_count": 12,
   "metadata": {},
   "outputs": [
    {
     "output_type": "execute_result",
     "data": {
      "text/plain": "    Segment  Vertex  Label        0      1        2        3\n0         2       0      0  65468.0  248.0  49148.0  22196.0\n1         2       0      0  12289.0  179.0  26056.0  16470.0\n2         2       1      0  26707.0  126.0  32086.0  35791.0\n3         2       1      0  12393.0   99.0   5644.0  16609.0\n4         2       2      0  14954.0  249.0  45051.0  20041.0\n5         2       2      0  12254.0  105.0  45890.0  16422.0\n6         2       3      0  21364.0  146.0  24849.0  28631.0\n7         2       3      0  12318.0   89.0   6261.0  16508.0\n8         2       4      0  18898.0   68.0  49350.0  25327.0\n9         2       4      0  12455.0  248.0  50720.0  16693.0\n10        7       0      0  48906.0  117.0  26172.0      4.0\n11        7       0      0  12101.0  246.0  53575.0  16218.0\n12        7       1      0  22396.0  117.0  33267.0  30014.0\n13        7       1      0  12059.0  223.0  28628.0  16161.0\n14        7       2      0  12402.0  251.0  24911.0  16621.0\n15        7       2      0  12061.0  120.0  47086.0  16164.0\n16        7       3      0  12401.0  179.0  24534.0  16620.0\n17        7       3      0  11874.0  198.0  57061.0  15914.0\n18        7       4      0  13216.0   19.0  61590.0  17713.0\n19        7       4      0  11994.0  139.0  36500.0  16074.0",
      "text/html": "<div>\n<style scoped>\n    .dataframe tbody tr th:only-of-type {\n        vertical-align: middle;\n    }\n\n    .dataframe tbody tr th {\n        vertical-align: top;\n    }\n\n    .dataframe thead th {\n        text-align: right;\n    }\n</style>\n<table border=\"1\" class=\"dataframe\">\n  <thead>\n    <tr style=\"text-align: right;\">\n      <th></th>\n      <th>Segment</th>\n      <th>Vertex</th>\n      <th>Label</th>\n      <th>0</th>\n      <th>1</th>\n      <th>2</th>\n      <th>3</th>\n    </tr>\n  </thead>\n  <tbody>\n    <tr>\n      <th>0</th>\n      <td>2</td>\n      <td>0</td>\n      <td>0</td>\n      <td>65468.0</td>\n      <td>248.0</td>\n      <td>49148.0</td>\n      <td>22196.0</td>\n    </tr>\n    <tr>\n      <th>1</th>\n      <td>2</td>\n      <td>0</td>\n      <td>0</td>\n      <td>12289.0</td>\n      <td>179.0</td>\n      <td>26056.0</td>\n      <td>16470.0</td>\n    </tr>\n    <tr>\n      <th>2</th>\n      <td>2</td>\n      <td>1</td>\n      <td>0</td>\n      <td>26707.0</td>\n      <td>126.0</td>\n      <td>32086.0</td>\n      <td>35791.0</td>\n    </tr>\n    <tr>\n      <th>3</th>\n      <td>2</td>\n      <td>1</td>\n      <td>0</td>\n      <td>12393.0</td>\n      <td>99.0</td>\n      <td>5644.0</td>\n      <td>16609.0</td>\n    </tr>\n    <tr>\n      <th>4</th>\n      <td>2</td>\n      <td>2</td>\n      <td>0</td>\n      <td>14954.0</td>\n      <td>249.0</td>\n      <td>45051.0</td>\n      <td>20041.0</td>\n    </tr>\n    <tr>\n      <th>5</th>\n      <td>2</td>\n      <td>2</td>\n      <td>0</td>\n      <td>12254.0</td>\n      <td>105.0</td>\n      <td>45890.0</td>\n      <td>16422.0</td>\n    </tr>\n    <tr>\n      <th>6</th>\n      <td>2</td>\n      <td>3</td>\n      <td>0</td>\n      <td>21364.0</td>\n      <td>146.0</td>\n      <td>24849.0</td>\n      <td>28631.0</td>\n    </tr>\n    <tr>\n      <th>7</th>\n      <td>2</td>\n      <td>3</td>\n      <td>0</td>\n      <td>12318.0</td>\n      <td>89.0</td>\n      <td>6261.0</td>\n      <td>16508.0</td>\n    </tr>\n    <tr>\n      <th>8</th>\n      <td>2</td>\n      <td>4</td>\n      <td>0</td>\n      <td>18898.0</td>\n      <td>68.0</td>\n      <td>49350.0</td>\n      <td>25327.0</td>\n    </tr>\n    <tr>\n      <th>9</th>\n      <td>2</td>\n      <td>4</td>\n      <td>0</td>\n      <td>12455.0</td>\n      <td>248.0</td>\n      <td>50720.0</td>\n      <td>16693.0</td>\n    </tr>\n    <tr>\n      <th>10</th>\n      <td>7</td>\n      <td>0</td>\n      <td>0</td>\n      <td>48906.0</td>\n      <td>117.0</td>\n      <td>26172.0</td>\n      <td>4.0</td>\n    </tr>\n    <tr>\n      <th>11</th>\n      <td>7</td>\n      <td>0</td>\n      <td>0</td>\n      <td>12101.0</td>\n      <td>246.0</td>\n      <td>53575.0</td>\n      <td>16218.0</td>\n    </tr>\n    <tr>\n      <th>12</th>\n      <td>7</td>\n      <td>1</td>\n      <td>0</td>\n      <td>22396.0</td>\n      <td>117.0</td>\n      <td>33267.0</td>\n      <td>30014.0</td>\n    </tr>\n    <tr>\n      <th>13</th>\n      <td>7</td>\n      <td>1</td>\n      <td>0</td>\n      <td>12059.0</td>\n      <td>223.0</td>\n      <td>28628.0</td>\n      <td>16161.0</td>\n    </tr>\n    <tr>\n      <th>14</th>\n      <td>7</td>\n      <td>2</td>\n      <td>0</td>\n      <td>12402.0</td>\n      <td>251.0</td>\n      <td>24911.0</td>\n      <td>16621.0</td>\n    </tr>\n    <tr>\n      <th>15</th>\n      <td>7</td>\n      <td>2</td>\n      <td>0</td>\n      <td>12061.0</td>\n      <td>120.0</td>\n      <td>47086.0</td>\n      <td>16164.0</td>\n    </tr>\n    <tr>\n      <th>16</th>\n      <td>7</td>\n      <td>3</td>\n      <td>0</td>\n      <td>12401.0</td>\n      <td>179.0</td>\n      <td>24534.0</td>\n      <td>16620.0</td>\n    </tr>\n    <tr>\n      <th>17</th>\n      <td>7</td>\n      <td>3</td>\n      <td>0</td>\n      <td>11874.0</td>\n      <td>198.0</td>\n      <td>57061.0</td>\n      <td>15914.0</td>\n    </tr>\n    <tr>\n      <th>18</th>\n      <td>7</td>\n      <td>4</td>\n      <td>0</td>\n      <td>13216.0</td>\n      <td>19.0</td>\n      <td>61590.0</td>\n      <td>17713.0</td>\n    </tr>\n    <tr>\n      <th>19</th>\n      <td>7</td>\n      <td>4</td>\n      <td>0</td>\n      <td>11994.0</td>\n      <td>139.0</td>\n      <td>36500.0</td>\n      <td>16074.0</td>\n    </tr>\n  </tbody>\n</table>\n</div>"
     },
     "metadata": {},
     "execution_count": 12
    }
   ],
   "source": [
    "df_lin"
   ]
  },
  {
   "cell_type": "code",
   "execution_count": 6,
   "metadata": {},
   "outputs": [
    {
     "output_type": "execute_result",
     "data": {
      "text/plain": "    Segment  Vertex  Label      0      1      2      3      4      5      6  \\\n0         2       0      0  52070  65520  65520  50811  65520  65520  48358   \n1         2       0      0  12199  12130  12317  12242  12237  12304  12174   \n2         2       1      0  23385  25448  18951  16656  18795  19440  15958   \n3         2       1      0  12405  12582  12389  12245  12152  12296  12322   \n4         2       2      0  17392  16834  13865  17211  16742  14421  17905   \n5         2       2      0  12074  12255  12256  12222  12192  12271  12233   \n6         2       3      0  41719  37753  22465  25085  23521  20091  14124   \n7         2       3      0  12250  12262  12320  12399  12338  12391  12397   \n8         2       4      0  26145  26223  19846  20104  21345  15194  14866   \n9         2       4      0  12444  12473  12564  12380  12414  12301  12551   \n10        7       0      0  50247  51174  46085  50196  49140  45510  48656   \n11        7       0      0  12023  12028  12187  11950  11963  11924  12003   \n12        7       1      0  18617  17786  16675  17353  16901  16440  17187   \n13        7       1      0  12262  12060  12064  12179  12049  12107  12018   \n14        7       2      0  13291  13039  12221  12900  12699  12240  12700   \n15        7       2      0  11926  11998  11947  12008  12023  11962  12087   \n16        7       3      0  13660  13664  12411  12996  12414  12216  12203   \n17        7       3      0  11911  11941  11815  11943  11843  11757  11975   \n18        7       4      0  12966  12745  12702  13447  13120  12877  13396   \n19        7       4      0  12033  12009  12201  12186  11910  12118  11980   \n\n    ...     17     18     19     20     21     22     23     24     25     26  \n0   ...  65520  54167  65520  65520  53639  65520  65520  50633  65520  65520  \n1   ...  12242  12266  12528  12349  12409  12321  12181  12315  12263  12212  \n2   ...  24960  22352  20712  18062  31562  34366  26039  34962  41279  30076  \n3   ...  12364  12296  12591  12441  12287  12541  12598  12358  12508  12338  \n4   ...  13361  13452  13083  13023  14224  13248  12739  14989  13557  12861  \n5   ...  12415  12338  12147  12320  12377  12301  12370  12101  12325  12302  \n6   ...  20030  14861  16001  16468  14788  19751  23278  13164  16269  19436  \n7   ...  12269  12337  12427  12332  12275  12512  12411  12417  12264  12232  \n8   ...  13363  20166  23709  23565  14187  14691  14389  12479  12459  12788  \n9   ...  12516  12435  12432  12370  12610  12407  12411  12342  12490  12421  \n10  ...  45242  49994  50034  46663  49604  49606  47803  44809  46138  45272  \n11  ...  12137  12032  12148  12147  12024  12228  12015  11966  12149  12095  \n12  ...  17445  34947  31541  24216  28781  27490  21577  21337  20960  18116  \n13  ...  12065  12008  12069  12009  12029  11957  11995  11959  12023  12048  \n14  ...  12223  12431  12298  12231  12084  12009  12249  12144  12056  12128  \n15  ...  11988  12037  12073  12042  12071  12188  11930  12052  12020  11945  \n16  ...  11923  13020  12600  12282  12138  12155  12053  12066  11971  11904  \n17  ...  11962  11853  11780  11928  12010  11749  11984  11923  11880  11964  \n18  ...  12562  13828  13328  12633  12818  12688  12392  12129  12270  12318  \n19  ...  11956  12060  11991  11928  11968  11970  11998  12058  12016  12055  \n\n[20 rows x 30 columns]",
      "text/html": "<div>\n<style scoped>\n    .dataframe tbody tr th:only-of-type {\n        vertical-align: middle;\n    }\n\n    .dataframe tbody tr th {\n        vertical-align: top;\n    }\n\n    .dataframe thead th {\n        text-align: right;\n    }\n</style>\n<table border=\"1\" class=\"dataframe\">\n  <thead>\n    <tr style=\"text-align: right;\">\n      <th></th>\n      <th>Segment</th>\n      <th>Vertex</th>\n      <th>Label</th>\n      <th>0</th>\n      <th>1</th>\n      <th>2</th>\n      <th>3</th>\n      <th>4</th>\n      <th>5</th>\n      <th>6</th>\n      <th>...</th>\n      <th>17</th>\n      <th>18</th>\n      <th>19</th>\n      <th>20</th>\n      <th>21</th>\n      <th>22</th>\n      <th>23</th>\n      <th>24</th>\n      <th>25</th>\n      <th>26</th>\n    </tr>\n  </thead>\n  <tbody>\n    <tr>\n      <th>0</th>\n      <td>2</td>\n      <td>0</td>\n      <td>0</td>\n      <td>52070</td>\n      <td>65520</td>\n      <td>65520</td>\n      <td>50811</td>\n      <td>65520</td>\n      <td>65520</td>\n      <td>48358</td>\n      <td>...</td>\n      <td>65520</td>\n      <td>54167</td>\n      <td>65520</td>\n      <td>65520</td>\n      <td>53639</td>\n      <td>65520</td>\n      <td>65520</td>\n      <td>50633</td>\n      <td>65520</td>\n      <td>65520</td>\n    </tr>\n    <tr>\n      <th>1</th>\n      <td>2</td>\n      <td>0</td>\n      <td>0</td>\n      <td>12199</td>\n      <td>12130</td>\n      <td>12317</td>\n      <td>12242</td>\n      <td>12237</td>\n      <td>12304</td>\n      <td>12174</td>\n      <td>...</td>\n      <td>12242</td>\n      <td>12266</td>\n      <td>12528</td>\n      <td>12349</td>\n      <td>12409</td>\n      <td>12321</td>\n      <td>12181</td>\n      <td>12315</td>\n      <td>12263</td>\n      <td>12212</td>\n    </tr>\n    <tr>\n      <th>2</th>\n      <td>2</td>\n      <td>1</td>\n      <td>0</td>\n      <td>23385</td>\n      <td>25448</td>\n      <td>18951</td>\n      <td>16656</td>\n      <td>18795</td>\n      <td>19440</td>\n      <td>15958</td>\n      <td>...</td>\n      <td>24960</td>\n      <td>22352</td>\n      <td>20712</td>\n      <td>18062</td>\n      <td>31562</td>\n      <td>34366</td>\n      <td>26039</td>\n      <td>34962</td>\n      <td>41279</td>\n      <td>30076</td>\n    </tr>\n    <tr>\n      <th>3</th>\n      <td>2</td>\n      <td>1</td>\n      <td>0</td>\n      <td>12405</td>\n      <td>12582</td>\n      <td>12389</td>\n      <td>12245</td>\n      <td>12152</td>\n      <td>12296</td>\n      <td>12322</td>\n      <td>...</td>\n      <td>12364</td>\n      <td>12296</td>\n      <td>12591</td>\n      <td>12441</td>\n      <td>12287</td>\n      <td>12541</td>\n      <td>12598</td>\n      <td>12358</td>\n      <td>12508</td>\n      <td>12338</td>\n    </tr>\n    <tr>\n      <th>4</th>\n      <td>2</td>\n      <td>2</td>\n      <td>0</td>\n      <td>17392</td>\n      <td>16834</td>\n      <td>13865</td>\n      <td>17211</td>\n      <td>16742</td>\n      <td>14421</td>\n      <td>17905</td>\n      <td>...</td>\n      <td>13361</td>\n      <td>13452</td>\n      <td>13083</td>\n      <td>13023</td>\n      <td>14224</td>\n      <td>13248</td>\n      <td>12739</td>\n      <td>14989</td>\n      <td>13557</td>\n      <td>12861</td>\n    </tr>\n    <tr>\n      <th>5</th>\n      <td>2</td>\n      <td>2</td>\n      <td>0</td>\n      <td>12074</td>\n      <td>12255</td>\n      <td>12256</td>\n      <td>12222</td>\n      <td>12192</td>\n      <td>12271</td>\n      <td>12233</td>\n      <td>...</td>\n      <td>12415</td>\n      <td>12338</td>\n      <td>12147</td>\n      <td>12320</td>\n      <td>12377</td>\n      <td>12301</td>\n      <td>12370</td>\n      <td>12101</td>\n      <td>12325</td>\n      <td>12302</td>\n    </tr>\n    <tr>\n      <th>6</th>\n      <td>2</td>\n      <td>3</td>\n      <td>0</td>\n      <td>41719</td>\n      <td>37753</td>\n      <td>22465</td>\n      <td>25085</td>\n      <td>23521</td>\n      <td>20091</td>\n      <td>14124</td>\n      <td>...</td>\n      <td>20030</td>\n      <td>14861</td>\n      <td>16001</td>\n      <td>16468</td>\n      <td>14788</td>\n      <td>19751</td>\n      <td>23278</td>\n      <td>13164</td>\n      <td>16269</td>\n      <td>19436</td>\n    </tr>\n    <tr>\n      <th>7</th>\n      <td>2</td>\n      <td>3</td>\n      <td>0</td>\n      <td>12250</td>\n      <td>12262</td>\n      <td>12320</td>\n      <td>12399</td>\n      <td>12338</td>\n      <td>12391</td>\n      <td>12397</td>\n      <td>...</td>\n      <td>12269</td>\n      <td>12337</td>\n      <td>12427</td>\n      <td>12332</td>\n      <td>12275</td>\n      <td>12512</td>\n      <td>12411</td>\n      <td>12417</td>\n      <td>12264</td>\n      <td>12232</td>\n    </tr>\n    <tr>\n      <th>8</th>\n      <td>2</td>\n      <td>4</td>\n      <td>0</td>\n      <td>26145</td>\n      <td>26223</td>\n      <td>19846</td>\n      <td>20104</td>\n      <td>21345</td>\n      <td>15194</td>\n      <td>14866</td>\n      <td>...</td>\n      <td>13363</td>\n      <td>20166</td>\n      <td>23709</td>\n      <td>23565</td>\n      <td>14187</td>\n      <td>14691</td>\n      <td>14389</td>\n      <td>12479</td>\n      <td>12459</td>\n      <td>12788</td>\n    </tr>\n    <tr>\n      <th>9</th>\n      <td>2</td>\n      <td>4</td>\n      <td>0</td>\n      <td>12444</td>\n      <td>12473</td>\n      <td>12564</td>\n      <td>12380</td>\n      <td>12414</td>\n      <td>12301</td>\n      <td>12551</td>\n      <td>...</td>\n      <td>12516</td>\n      <td>12435</td>\n      <td>12432</td>\n      <td>12370</td>\n      <td>12610</td>\n      <td>12407</td>\n      <td>12411</td>\n      <td>12342</td>\n      <td>12490</td>\n      <td>12421</td>\n    </tr>\n    <tr>\n      <th>10</th>\n      <td>7</td>\n      <td>0</td>\n      <td>0</td>\n      <td>50247</td>\n      <td>51174</td>\n      <td>46085</td>\n      <td>50196</td>\n      <td>49140</td>\n      <td>45510</td>\n      <td>48656</td>\n      <td>...</td>\n      <td>45242</td>\n      <td>49994</td>\n      <td>50034</td>\n      <td>46663</td>\n      <td>49604</td>\n      <td>49606</td>\n      <td>47803</td>\n      <td>44809</td>\n      <td>46138</td>\n      <td>45272</td>\n    </tr>\n    <tr>\n      <th>11</th>\n      <td>7</td>\n      <td>0</td>\n      <td>0</td>\n      <td>12023</td>\n      <td>12028</td>\n      <td>12187</td>\n      <td>11950</td>\n      <td>11963</td>\n      <td>11924</td>\n      <td>12003</td>\n      <td>...</td>\n      <td>12137</td>\n      <td>12032</td>\n      <td>12148</td>\n      <td>12147</td>\n      <td>12024</td>\n      <td>12228</td>\n      <td>12015</td>\n      <td>11966</td>\n      <td>12149</td>\n      <td>12095</td>\n    </tr>\n    <tr>\n      <th>12</th>\n      <td>7</td>\n      <td>1</td>\n      <td>0</td>\n      <td>18617</td>\n      <td>17786</td>\n      <td>16675</td>\n      <td>17353</td>\n      <td>16901</td>\n      <td>16440</td>\n      <td>17187</td>\n      <td>...</td>\n      <td>17445</td>\n      <td>34947</td>\n      <td>31541</td>\n      <td>24216</td>\n      <td>28781</td>\n      <td>27490</td>\n      <td>21577</td>\n      <td>21337</td>\n      <td>20960</td>\n      <td>18116</td>\n    </tr>\n    <tr>\n      <th>13</th>\n      <td>7</td>\n      <td>1</td>\n      <td>0</td>\n      <td>12262</td>\n      <td>12060</td>\n      <td>12064</td>\n      <td>12179</td>\n      <td>12049</td>\n      <td>12107</td>\n      <td>12018</td>\n      <td>...</td>\n      <td>12065</td>\n      <td>12008</td>\n      <td>12069</td>\n      <td>12009</td>\n      <td>12029</td>\n      <td>11957</td>\n      <td>11995</td>\n      <td>11959</td>\n      <td>12023</td>\n      <td>12048</td>\n    </tr>\n    <tr>\n      <th>14</th>\n      <td>7</td>\n      <td>2</td>\n      <td>0</td>\n      <td>13291</td>\n      <td>13039</td>\n      <td>12221</td>\n      <td>12900</td>\n      <td>12699</td>\n      <td>12240</td>\n      <td>12700</td>\n      <td>...</td>\n      <td>12223</td>\n      <td>12431</td>\n      <td>12298</td>\n      <td>12231</td>\n      <td>12084</td>\n      <td>12009</td>\n      <td>12249</td>\n      <td>12144</td>\n      <td>12056</td>\n      <td>12128</td>\n    </tr>\n    <tr>\n      <th>15</th>\n      <td>7</td>\n      <td>2</td>\n      <td>0</td>\n      <td>11926</td>\n      <td>11998</td>\n      <td>11947</td>\n      <td>12008</td>\n      <td>12023</td>\n      <td>11962</td>\n      <td>12087</td>\n      <td>...</td>\n      <td>11988</td>\n      <td>12037</td>\n      <td>12073</td>\n      <td>12042</td>\n      <td>12071</td>\n      <td>12188</td>\n      <td>11930</td>\n      <td>12052</td>\n      <td>12020</td>\n      <td>11945</td>\n    </tr>\n    <tr>\n      <th>16</th>\n      <td>7</td>\n      <td>3</td>\n      <td>0</td>\n      <td>13660</td>\n      <td>13664</td>\n      <td>12411</td>\n      <td>12996</td>\n      <td>12414</td>\n      <td>12216</td>\n      <td>12203</td>\n      <td>...</td>\n      <td>11923</td>\n      <td>13020</td>\n      <td>12600</td>\n      <td>12282</td>\n      <td>12138</td>\n      <td>12155</td>\n      <td>12053</td>\n      <td>12066</td>\n      <td>11971</td>\n      <td>11904</td>\n    </tr>\n    <tr>\n      <th>17</th>\n      <td>7</td>\n      <td>3</td>\n      <td>0</td>\n      <td>11911</td>\n      <td>11941</td>\n      <td>11815</td>\n      <td>11943</td>\n      <td>11843</td>\n      <td>11757</td>\n      <td>11975</td>\n      <td>...</td>\n      <td>11962</td>\n      <td>11853</td>\n      <td>11780</td>\n      <td>11928</td>\n      <td>12010</td>\n      <td>11749</td>\n      <td>11984</td>\n      <td>11923</td>\n      <td>11880</td>\n      <td>11964</td>\n    </tr>\n    <tr>\n      <th>18</th>\n      <td>7</td>\n      <td>4</td>\n      <td>0</td>\n      <td>12966</td>\n      <td>12745</td>\n      <td>12702</td>\n      <td>13447</td>\n      <td>13120</td>\n      <td>12877</td>\n      <td>13396</td>\n      <td>...</td>\n      <td>12562</td>\n      <td>13828</td>\n      <td>13328</td>\n      <td>12633</td>\n      <td>12818</td>\n      <td>12688</td>\n      <td>12392</td>\n      <td>12129</td>\n      <td>12270</td>\n      <td>12318</td>\n    </tr>\n    <tr>\n      <th>19</th>\n      <td>7</td>\n      <td>4</td>\n      <td>0</td>\n      <td>12033</td>\n      <td>12009</td>\n      <td>12201</td>\n      <td>12186</td>\n      <td>11910</td>\n      <td>12118</td>\n      <td>11980</td>\n      <td>...</td>\n      <td>11956</td>\n      <td>12060</td>\n      <td>11991</td>\n      <td>11928</td>\n      <td>11968</td>\n      <td>11970</td>\n      <td>11998</td>\n      <td>12058</td>\n      <td>12016</td>\n      <td>12055</td>\n    </tr>\n  </tbody>\n</table>\n<p>20 rows × 30 columns</p>\n</div>"
     },
     "metadata": {},
     "execution_count": 6
    }
   ],
   "source": [
    "df_nbr"
   ]
  },
  {
   "cell_type": "markdown",
   "metadata": {},
   "source": [
    "Both neighborhood and linear features can be extracted using the `include_neighborhood` parameter in the `LinearFeatures` `fit` function."
   ]
  },
  {
   "cell_type": "code",
   "execution_count": 13,
   "metadata": {},
   "outputs": [
    {
     "output_type": "stream",
     "name": "stderr",
     "text": "Downloading: 100%|██████████| 1/1 [00:00<00:00, 34.57it/s]\nDownloading: 100%|██████████| 1/1 [00:00<00:00, 32.29it/s]\nDownloading:   0%|          | 0/1 [00:00<?, ?it/s]\nDownloading:   0%|          | 0/1 [00:00<?, ?it/s]\nDownloading: 100%|██████████| 1/1 [00:00<00:00, 31.73it/s]\nDownloading:   0%|          | 0/1 [00:00<?, ?it/s]\nDownloading:   0%|          | 0/1 [00:00<?, ?it/s]\nDownloading: 100%|██████████| 1/1 [00:00<00:00, 31.99it/s]\nDownloading:   0%|          | 0/1 [00:00<?, ?it/s]\nDownloading:   0%|          | 0/1 [00:00<?, ?it/s]\nDownloading: 100%|██████████| 1/1 [00:00<00:00, 30.09it/s]\nDownloading:   0%|          | 0/1 [00:00<?, ?it/s]\nDownloading:   0%|          | 0/1 [00:00<?, ?it/s]\nDownloading: 100%|██████████| 1/1 [00:00<00:00, 33.15it/s]\nDownloading:   0%|          | 0/1 [00:00<?, ?it/s]\nDownloading:   0%|          | 0/1 [00:00<?, ?it/s]\nDownloading: 100%|██████████| 1/1 [00:00<00:00, 21.98it/s]\nDownloading: 100%|██████████| 1/1 [00:00<00:00, 32.60it/s]\nDownloading:   0%|          | 0/1 [00:00<?, ?it/s]\nDownloading:   0%|          | 0/1 [00:00<?, ?it/s]\nDownloading: 100%|██████████| 1/1 [00:00<00:00, 32.07it/s]\nDownloading:   0%|          | 0/1 [00:00<?, ?it/s]\nDownloading:   0%|          | 0/1 [00:00<?, ?it/s]\nDownloading: 100%|██████████| 1/1 [00:00<00:00, 34.04it/s]\nDownloading:   0%|          | 0/1 [00:00<?, ?it/s]\nDownloading:   0%|          | 0/1 [00:00<?, ?it/s]\nDownloading:   0%|          | 0/1 [00:00<?, ?it/s]\nDownloading: 100%|██████████| 1/1 [00:00<00:00, 34.51it/s]\nDownloading:   0%|          | 0/1 [00:00<?, ?it/s]\nDownloading:   0%|          | 0/1 [00:00<?, ?it/s]\nDownloading: 100%|██████████| 1/1 [00:00<00:00,  1.82it/s]\nDownloading:   0%|          | 0/1 [00:00<?, ?it/s]\nDownloading:   0%|          | 0/1 [00:00<?, ?it/s]\nDownloading:   0%|          | 0/1 [00:00<?, ?it/s]\n"
    },
    {
     "output_type": "execute_result",
     "data": {
      "text/plain": "    Segment  Vertex  Label      0      1      2      3      4      5      6  \\\n0         2       0      0  52070  65520  65520  50811  65520  65520  48358   \n1         2       0      0  12199  12130  12317  12242  12237  12304  12174   \n2         2       1      0  23385  25448  18951  16656  18795  19440  15958   \n3         2       1      0  12405  12582  12389  12245  12152  12296  12322   \n4         2       2      0  17392  16834  13865  17211  16742  14421  17905   \n5         2       2      0  12074  12255  12256  12222  12192  12271  12233   \n6         2       3      0  41719  37753  22465  25085  23521  20091  14124   \n7         2       3      0  12250  12262  12320  12399  12338  12391  12397   \n8         2       4      0  26145  26223  19846  20104  21345  15194  14866   \n9         2       4      0  12444  12473  12564  12380  12414  12301  12551   \n10        7       0      0  50247  51174  46085  50196  49140  45510  48656   \n11        7       0      0  12023  12028  12187  11950  11963  11924  12003   \n12        7       1      0  18617  17786  16675  17353  16901  16440  17187   \n13        7       1      0  12262  12060  12064  12179  12049  12107  12018   \n14        7       2      0  13291  13039  12221  12900  12699  12240  12700   \n15        7       2      0  11926  11998  11947  12008  12023  11962  12087   \n16        7       3      0  13660  13664  12411  12996  12414  12216  12203   \n17        7       3      0  11911  11941  11815  11943  11843  11757  11975   \n18        7       4      0  12966  12745  12702  13447  13120  12877  13396   \n19        7       4      0  12033  12009  12201  12186  11910  12118  11980   \n\n    ...     21     22     23     24     25     26       27     28       29  \\\n0   ...  53639  65520  65520  50633  65520  65520  65468.0  248.0  49148.0   \n1   ...  12409  12321  12181  12315  12263  12212  12289.0  179.0  26056.0   \n2   ...  31562  34366  26039  34962  41279  30076  26707.0  126.0  32086.0   \n3   ...  12287  12541  12598  12358  12508  12338  12393.0   99.0   5644.0   \n4   ...  14224  13248  12739  14989  13557  12861  14954.0  249.0  45051.0   \n5   ...  12377  12301  12370  12101  12325  12302  12254.0  105.0  45890.0   \n6   ...  14788  19751  23278  13164  16269  19436  21364.0  146.0  24849.0   \n7   ...  12275  12512  12411  12417  12264  12232  12318.0   89.0   6261.0   \n8   ...  14187  14691  14389  12479  12459  12788  18898.0   68.0  49350.0   \n9   ...  12610  12407  12411  12342  12490  12421  12455.0  248.0  50720.0   \n10  ...  49604  49606  47803  44809  46138  45272  48906.0  117.0  26172.0   \n11  ...  12024  12228  12015  11966  12149  12095  12101.0  246.0  53575.0   \n12  ...  28781  27490  21577  21337  20960  18116  22396.0  117.0  33267.0   \n13  ...  12029  11957  11995  11959  12023  12048  12059.0  223.0  28628.0   \n14  ...  12084  12009  12249  12144  12056  12128  12402.0  251.0  24911.0   \n15  ...  12071  12188  11930  12052  12020  11945  12061.0  120.0  47086.0   \n16  ...  12138  12155  12053  12066  11971  11904  12401.0  179.0  24534.0   \n17  ...  12010  11749  11984  11923  11880  11964  11874.0  198.0  57061.0   \n18  ...  12818  12688  12392  12129  12270  12318  13216.0   19.0  61590.0   \n19  ...  11968  11970  11998  12058  12016  12055  11994.0  139.0  36500.0   \n\n         30  \n0   22196.0  \n1   16470.0  \n2   35791.0  \n3   16609.0  \n4   20041.0  \n5   16422.0  \n6   28631.0  \n7   16508.0  \n8   25327.0  \n9   16693.0  \n10      4.0  \n11  16218.0  \n12  30014.0  \n13  16161.0  \n14  16621.0  \n15  16164.0  \n16  16620.0  \n17  15914.0  \n18  17713.0  \n19  16074.0  \n\n[20 rows x 34 columns]",
      "text/html": "<div>\n<style scoped>\n    .dataframe tbody tr th:only-of-type {\n        vertical-align: middle;\n    }\n\n    .dataframe tbody tr th {\n        vertical-align: top;\n    }\n\n    .dataframe thead th {\n        text-align: right;\n    }\n</style>\n<table border=\"1\" class=\"dataframe\">\n  <thead>\n    <tr style=\"text-align: right;\">\n      <th></th>\n      <th>Segment</th>\n      <th>Vertex</th>\n      <th>Label</th>\n      <th>0</th>\n      <th>1</th>\n      <th>2</th>\n      <th>3</th>\n      <th>4</th>\n      <th>5</th>\n      <th>6</th>\n      <th>...</th>\n      <th>21</th>\n      <th>22</th>\n      <th>23</th>\n      <th>24</th>\n      <th>25</th>\n      <th>26</th>\n      <th>27</th>\n      <th>28</th>\n      <th>29</th>\n      <th>30</th>\n    </tr>\n  </thead>\n  <tbody>\n    <tr>\n      <th>0</th>\n      <td>2</td>\n      <td>0</td>\n      <td>0</td>\n      <td>52070</td>\n      <td>65520</td>\n      <td>65520</td>\n      <td>50811</td>\n      <td>65520</td>\n      <td>65520</td>\n      <td>48358</td>\n      <td>...</td>\n      <td>53639</td>\n      <td>65520</td>\n      <td>65520</td>\n      <td>50633</td>\n      <td>65520</td>\n      <td>65520</td>\n      <td>65468.0</td>\n      <td>248.0</td>\n      <td>49148.0</td>\n      <td>22196.0</td>\n    </tr>\n    <tr>\n      <th>1</th>\n      <td>2</td>\n      <td>0</td>\n      <td>0</td>\n      <td>12199</td>\n      <td>12130</td>\n      <td>12317</td>\n      <td>12242</td>\n      <td>12237</td>\n      <td>12304</td>\n      <td>12174</td>\n      <td>...</td>\n      <td>12409</td>\n      <td>12321</td>\n      <td>12181</td>\n      <td>12315</td>\n      <td>12263</td>\n      <td>12212</td>\n      <td>12289.0</td>\n      <td>179.0</td>\n      <td>26056.0</td>\n      <td>16470.0</td>\n    </tr>\n    <tr>\n      <th>2</th>\n      <td>2</td>\n      <td>1</td>\n      <td>0</td>\n      <td>23385</td>\n      <td>25448</td>\n      <td>18951</td>\n      <td>16656</td>\n      <td>18795</td>\n      <td>19440</td>\n      <td>15958</td>\n      <td>...</td>\n      <td>31562</td>\n      <td>34366</td>\n      <td>26039</td>\n      <td>34962</td>\n      <td>41279</td>\n      <td>30076</td>\n      <td>26707.0</td>\n      <td>126.0</td>\n      <td>32086.0</td>\n      <td>35791.0</td>\n    </tr>\n    <tr>\n      <th>3</th>\n      <td>2</td>\n      <td>1</td>\n      <td>0</td>\n      <td>12405</td>\n      <td>12582</td>\n      <td>12389</td>\n      <td>12245</td>\n      <td>12152</td>\n      <td>12296</td>\n      <td>12322</td>\n      <td>...</td>\n      <td>12287</td>\n      <td>12541</td>\n      <td>12598</td>\n      <td>12358</td>\n      <td>12508</td>\n      <td>12338</td>\n      <td>12393.0</td>\n      <td>99.0</td>\n      <td>5644.0</td>\n      <td>16609.0</td>\n    </tr>\n    <tr>\n      <th>4</th>\n      <td>2</td>\n      <td>2</td>\n      <td>0</td>\n      <td>17392</td>\n      <td>16834</td>\n      <td>13865</td>\n      <td>17211</td>\n      <td>16742</td>\n      <td>14421</td>\n      <td>17905</td>\n      <td>...</td>\n      <td>14224</td>\n      <td>13248</td>\n      <td>12739</td>\n      <td>14989</td>\n      <td>13557</td>\n      <td>12861</td>\n      <td>14954.0</td>\n      <td>249.0</td>\n      <td>45051.0</td>\n      <td>20041.0</td>\n    </tr>\n    <tr>\n      <th>5</th>\n      <td>2</td>\n      <td>2</td>\n      <td>0</td>\n      <td>12074</td>\n      <td>12255</td>\n      <td>12256</td>\n      <td>12222</td>\n      <td>12192</td>\n      <td>12271</td>\n      <td>12233</td>\n      <td>...</td>\n      <td>12377</td>\n      <td>12301</td>\n      <td>12370</td>\n      <td>12101</td>\n      <td>12325</td>\n      <td>12302</td>\n      <td>12254.0</td>\n      <td>105.0</td>\n      <td>45890.0</td>\n      <td>16422.0</td>\n    </tr>\n    <tr>\n      <th>6</th>\n      <td>2</td>\n      <td>3</td>\n      <td>0</td>\n      <td>41719</td>\n      <td>37753</td>\n      <td>22465</td>\n      <td>25085</td>\n      <td>23521</td>\n      <td>20091</td>\n      <td>14124</td>\n      <td>...</td>\n      <td>14788</td>\n      <td>19751</td>\n      <td>23278</td>\n      <td>13164</td>\n      <td>16269</td>\n      <td>19436</td>\n      <td>21364.0</td>\n      <td>146.0</td>\n      <td>24849.0</td>\n      <td>28631.0</td>\n    </tr>\n    <tr>\n      <th>7</th>\n      <td>2</td>\n      <td>3</td>\n      <td>0</td>\n      <td>12250</td>\n      <td>12262</td>\n      <td>12320</td>\n      <td>12399</td>\n      <td>12338</td>\n      <td>12391</td>\n      <td>12397</td>\n      <td>...</td>\n      <td>12275</td>\n      <td>12512</td>\n      <td>12411</td>\n      <td>12417</td>\n      <td>12264</td>\n      <td>12232</td>\n      <td>12318.0</td>\n      <td>89.0</td>\n      <td>6261.0</td>\n      <td>16508.0</td>\n    </tr>\n    <tr>\n      <th>8</th>\n      <td>2</td>\n      <td>4</td>\n      <td>0</td>\n      <td>26145</td>\n      <td>26223</td>\n      <td>19846</td>\n      <td>20104</td>\n      <td>21345</td>\n      <td>15194</td>\n      <td>14866</td>\n      <td>...</td>\n      <td>14187</td>\n      <td>14691</td>\n      <td>14389</td>\n      <td>12479</td>\n      <td>12459</td>\n      <td>12788</td>\n      <td>18898.0</td>\n      <td>68.0</td>\n      <td>49350.0</td>\n      <td>25327.0</td>\n    </tr>\n    <tr>\n      <th>9</th>\n      <td>2</td>\n      <td>4</td>\n      <td>0</td>\n      <td>12444</td>\n      <td>12473</td>\n      <td>12564</td>\n      <td>12380</td>\n      <td>12414</td>\n      <td>12301</td>\n      <td>12551</td>\n      <td>...</td>\n      <td>12610</td>\n      <td>12407</td>\n      <td>12411</td>\n      <td>12342</td>\n      <td>12490</td>\n      <td>12421</td>\n      <td>12455.0</td>\n      <td>248.0</td>\n      <td>50720.0</td>\n      <td>16693.0</td>\n    </tr>\n    <tr>\n      <th>10</th>\n      <td>7</td>\n      <td>0</td>\n      <td>0</td>\n      <td>50247</td>\n      <td>51174</td>\n      <td>46085</td>\n      <td>50196</td>\n      <td>49140</td>\n      <td>45510</td>\n      <td>48656</td>\n      <td>...</td>\n      <td>49604</td>\n      <td>49606</td>\n      <td>47803</td>\n      <td>44809</td>\n      <td>46138</td>\n      <td>45272</td>\n      <td>48906.0</td>\n      <td>117.0</td>\n      <td>26172.0</td>\n      <td>4.0</td>\n    </tr>\n    <tr>\n      <th>11</th>\n      <td>7</td>\n      <td>0</td>\n      <td>0</td>\n      <td>12023</td>\n      <td>12028</td>\n      <td>12187</td>\n      <td>11950</td>\n      <td>11963</td>\n      <td>11924</td>\n      <td>12003</td>\n      <td>...</td>\n      <td>12024</td>\n      <td>12228</td>\n      <td>12015</td>\n      <td>11966</td>\n      <td>12149</td>\n      <td>12095</td>\n      <td>12101.0</td>\n      <td>246.0</td>\n      <td>53575.0</td>\n      <td>16218.0</td>\n    </tr>\n    <tr>\n      <th>12</th>\n      <td>7</td>\n      <td>1</td>\n      <td>0</td>\n      <td>18617</td>\n      <td>17786</td>\n      <td>16675</td>\n      <td>17353</td>\n      <td>16901</td>\n      <td>16440</td>\n      <td>17187</td>\n      <td>...</td>\n      <td>28781</td>\n      <td>27490</td>\n      <td>21577</td>\n      <td>21337</td>\n      <td>20960</td>\n      <td>18116</td>\n      <td>22396.0</td>\n      <td>117.0</td>\n      <td>33267.0</td>\n      <td>30014.0</td>\n    </tr>\n    <tr>\n      <th>13</th>\n      <td>7</td>\n      <td>1</td>\n      <td>0</td>\n      <td>12262</td>\n      <td>12060</td>\n      <td>12064</td>\n      <td>12179</td>\n      <td>12049</td>\n      <td>12107</td>\n      <td>12018</td>\n      <td>...</td>\n      <td>12029</td>\n      <td>11957</td>\n      <td>11995</td>\n      <td>11959</td>\n      <td>12023</td>\n      <td>12048</td>\n      <td>12059.0</td>\n      <td>223.0</td>\n      <td>28628.0</td>\n      <td>16161.0</td>\n    </tr>\n    <tr>\n      <th>14</th>\n      <td>7</td>\n      <td>2</td>\n      <td>0</td>\n      <td>13291</td>\n      <td>13039</td>\n      <td>12221</td>\n      <td>12900</td>\n      <td>12699</td>\n      <td>12240</td>\n      <td>12700</td>\n      <td>...</td>\n      <td>12084</td>\n      <td>12009</td>\n      <td>12249</td>\n      <td>12144</td>\n      <td>12056</td>\n      <td>12128</td>\n      <td>12402.0</td>\n      <td>251.0</td>\n      <td>24911.0</td>\n      <td>16621.0</td>\n    </tr>\n    <tr>\n      <th>15</th>\n      <td>7</td>\n      <td>2</td>\n      <td>0</td>\n      <td>11926</td>\n      <td>11998</td>\n      <td>11947</td>\n      <td>12008</td>\n      <td>12023</td>\n      <td>11962</td>\n      <td>12087</td>\n      <td>...</td>\n      <td>12071</td>\n      <td>12188</td>\n      <td>11930</td>\n      <td>12052</td>\n      <td>12020</td>\n      <td>11945</td>\n      <td>12061.0</td>\n      <td>120.0</td>\n      <td>47086.0</td>\n      <td>16164.0</td>\n    </tr>\n    <tr>\n      <th>16</th>\n      <td>7</td>\n      <td>3</td>\n      <td>0</td>\n      <td>13660</td>\n      <td>13664</td>\n      <td>12411</td>\n      <td>12996</td>\n      <td>12414</td>\n      <td>12216</td>\n      <td>12203</td>\n      <td>...</td>\n      <td>12138</td>\n      <td>12155</td>\n      <td>12053</td>\n      <td>12066</td>\n      <td>11971</td>\n      <td>11904</td>\n      <td>12401.0</td>\n      <td>179.0</td>\n      <td>24534.0</td>\n      <td>16620.0</td>\n    </tr>\n    <tr>\n      <th>17</th>\n      <td>7</td>\n      <td>3</td>\n      <td>0</td>\n      <td>11911</td>\n      <td>11941</td>\n      <td>11815</td>\n      <td>11943</td>\n      <td>11843</td>\n      <td>11757</td>\n      <td>11975</td>\n      <td>...</td>\n      <td>12010</td>\n      <td>11749</td>\n      <td>11984</td>\n      <td>11923</td>\n      <td>11880</td>\n      <td>11964</td>\n      <td>11874.0</td>\n      <td>198.0</td>\n      <td>57061.0</td>\n      <td>15914.0</td>\n    </tr>\n    <tr>\n      <th>18</th>\n      <td>7</td>\n      <td>4</td>\n      <td>0</td>\n      <td>12966</td>\n      <td>12745</td>\n      <td>12702</td>\n      <td>13447</td>\n      <td>13120</td>\n      <td>12877</td>\n      <td>13396</td>\n      <td>...</td>\n      <td>12818</td>\n      <td>12688</td>\n      <td>12392</td>\n      <td>12129</td>\n      <td>12270</td>\n      <td>12318</td>\n      <td>13216.0</td>\n      <td>19.0</td>\n      <td>61590.0</td>\n      <td>17713.0</td>\n    </tr>\n    <tr>\n      <th>19</th>\n      <td>7</td>\n      <td>4</td>\n      <td>0</td>\n      <td>12033</td>\n      <td>12009</td>\n      <td>12201</td>\n      <td>12186</td>\n      <td>11910</td>\n      <td>12118</td>\n      <td>11980</td>\n      <td>...</td>\n      <td>11968</td>\n      <td>11970</td>\n      <td>11998</td>\n      <td>12058</td>\n      <td>12016</td>\n      <td>12055</td>\n      <td>11994.0</td>\n      <td>139.0</td>\n      <td>36500.0</td>\n      <td>16074.0</td>\n    </tr>\n  </tbody>\n</table>\n<p>20 rows × 34 columns</p>\n</div>"
     },
     "metadata": {},
     "execution_count": 13
    }
   ],
   "source": [
    "df_lin = lin.fit(seg_ids=[2, 7], num_verts=5, include_neighborhood=True)\n",
    "df_lin"
   ]
  },
  {
   "cell_type": "markdown",
   "metadata": {},
   "source": [
    "## Saving Extracted Features\n",
    "\n",
    "In cases where one wishes to extract features from many vertices, `Brainlit` allows batch loading and writing of the data. The data is written into the binary `feather` format."
   ]
  },
  {
   "cell_type": "code",
   "execution_count": 14,
   "metadata": {},
   "outputs": [
    {
     "output_type": "stream",
     "name": "stderr",
     "text": "Downloading: 100%|██████████| 1/1 [00:00<00:00, 31.09it/s]\nDownloading: 100%|██████████| 1/1 [00:00<00:00, 22.58it/s]\nDownloading:   0%|          | 0/1 [00:00<?, ?it/s]\nDownloading:   0%|          | 0/1 [00:00<?, ?it/s]\nDownloading: 100%|██████████| 1/1 [00:00<00:00, 29.04it/s]\nDownloading:   0%|          | 0/1 [00:00<?, ?it/s]\nDownloading:   0%|          | 0/1 [00:00<?, ?it/s]\nDownloading: 100%|██████████| 1/1 [00:00<00:00, 30.95it/s]\nDownloading:   0%|          | 0/1 [00:00<?, ?it/s]\nDownloading:   0%|          | 0/1 [00:00<?, ?it/s]\nDownloading: 100%|██████████| 1/1 [00:00<00:00, 34.12it/s]\nDownloading:   0%|          | 0/1 [00:00<?, ?it/s]\nDownloading:   0%|          | 0/1 [00:00<?, ?it/s]\nDownloading: 100%|██████████| 1/1 [00:00<00:00, 28.77it/s]\nDownloading:   0%|          | 0/1 [00:00<?, ?it/s]\nDownloading:   0%|          | 0/1 [00:00<?, ?it/s]\nDownloading: 100%|██████████| 1/1 [00:00<00:00, 32.05it/s]\nDownloading:   0%|          | 0/1 [00:00<?, ?it/s]\nDownloading:   0%|          | 0/1 [00:00<?, ?it/s]\nDownloading:   0%|          | 0/1 [00:00<?, ?it/s]\nDownloading: 100%|██████████| 1/1 [00:00<00:00, 23.67it/s]\nDownloading:   0%|          | 0/1 [00:00<?, ?it/s]\nDownloading:   0%|          | 0/1 [00:00<?, ?it/s]\nDownloading: 100%|██████████| 1/1 [00:00<00:00, 32.24it/s]\nDownloading:   0%|          | 0/1 [00:00<?, ?it/s]\nDownloading:   0%|          | 0/1 [00:00<?, ?it/s]\nDownloading: 100%|██████████| 1/1 [00:00<00:00, 30.05it/s]\nDownloading:   0%|          | 0/1 [00:00<?, ?it/s]\nDownloading:   0%|          | 0/1 [00:00<?, ?it/s]\nDownloading: 100%|██████████| 1/1 [00:00<00:00, 32.24it/s]\nDownloading:   0%|          | 0/1 [00:00<?, ?it/s]\nDownloading:   0%|          | 0/1 [00:00<?, ?it/s]\nDownloading: 100%|██████████| 1/1 [00:00<00:00, 17.13it/s]\nDownloading: 100%|██████████| 1/1 [00:00<00:00, 36.59it/s]\nDownloading:   0%|          | 0/1 [00:00<?, ?it/s]\nDownloading:   0%|          | 0/1 [00:00<?, ?it/s]\nDownloading: 100%|██████████| 1/1 [00:00<00:00, 29.47it/s]\nDownloading:   0%|          | 0/1 [00:00<?, ?it/s]\nDownloading:   0%|          | 0/1 [00:00<?, ?it/s]\nDownloading: 100%|██████████| 1/1 [00:00<00:00, 30.75it/s]\nDownloading:   0%|          | 0/1 [00:00<?, ?it/s]\nDownloading:   0%|          | 0/1 [00:00<?, ?it/s]\nDownloading:   0%|          | 0/1 [00:00<?, ?it/s]\nDownloading: 100%|██████████| 1/1 [00:00<00:00, 28.39it/s]\nDownloading:   0%|          | 0/1 [00:00<?, ?it/s]\nDownloading:   0%|          | 0/1 [00:00<?, ?it/s]\nDownloading: 100%|██████████| 1/1 [00:00<00:00, 33.33it/s]\nDownloading:   0%|          | 0/1 [00:00<?, ?it/s]\nDownloading:   0%|          | 0/1 [00:00<?, ?it/s]\nDownloading:   0%|          | 0/1 [00:00<?, ?it/s]\nDownloading: 100%|██████████| 1/1 [00:00<00:00, 27.32it/s]\nDownloading:   0%|          | 0/1 [00:00<?, ?it/s]\nDownloading:   0%|          | 0/1 [00:00<?, ?it/s]\nDownloading:   0%|          | 0/1 [00:00<?, ?it/s]\nDownloading: 100%|██████████| 1/1 [00:00<00:00, 27.45it/s]\nDownloading:   0%|          | 0/1 [00:00<?, ?it/s]\nDownloading:   0%|          | 0/1 [00:00<?, ?it/s]\nDownloading: 100%|██████████| 1/1 [00:00<00:00, 31.30it/s]\nDownloading:   0%|          | 0/1 [00:00<?, ?it/s]\nDownloading:   0%|          | 0/1 [00:00<?, ?it/s]\nDownloading: 100%|██████████| 1/1 [00:00<00:00, 16.82it/s]\nDownloading:   0%|          | 0/1 [00:00<?, ?it/s]\nDownloading:   0%|          | 0/1 [00:00<?, ?it/s]\nDownloading:   0%|          | 0/1 [00:00<?, ?it/s]\nDownloading: 100%|██████████| 1/1 [00:00<00:00, 29.18it/s]\nDownloading:   0%|          | 0/1 [00:00<?, ?it/s]\nDownloading:   0%|          | 0/1 [00:00<?, ?it/s]\nDownloading:   0%|          | 0/1 [00:00<?, ?it/s]\n"
    }
   ],
   "source": [
    "df_lin = lin.fit(seg_ids=[2, 7], num_verts=10, file_path='demo', batch_size=10)"
   ]
  },
  {
   "cell_type": "markdown",
   "metadata": {},
   "source": [
    "Each `batch_size` samples is output as a `feather` file. The `file_path` argument determines the prefix of the filenames. Afterwards, it is followed by the starting sample number, the last sample number, the segment ID for the last sample in the batch, and the vertex ID for the last sample in the batch."
   ]
  },
  {
   "cell_type": "code",
   "execution_count": 20,
   "metadata": {},
   "outputs": [
    {
     "output_type": "execute_result",
     "data": {
      "text/plain": "['demo0_10_2_4.feather',\n 'demo10_20_2_9.feather',\n 'demo20_30_7_4.feather',\n 'demo30_40_7_9.feather']"
     },
     "metadata": {},
     "execution_count": 20
    }
   ],
   "source": [
    "sorted(glob.glob('*.feather'))"
   ]
  },
  {
   "cell_type": "markdown",
   "metadata": {},
   "source": [
    "Using the `start_seg` and `start_vert` arguments, you can choose where in the data to start extracting information from."
   ]
  },
  {
   "cell_type": "code",
   "execution_count": 6,
   "metadata": {},
   "outputs": [
    {
     "output_type": "stream",
     "name": "stderr",
     "text": "Downloading: 100%|██████████| 1/1 [00:00<00:00, 22.22it/s]\nDownloading: 100%|██████████| 1/1 [00:00<00:00, 31.32it/s]\nDownloading:   0%|          | 0/1 [00:00<?, ?it/s]\nDownloading:   0%|          | 0/1 [00:00<?, ?it/s]\nDownloading: 100%|██████████| 1/1 [00:00<00:00, 28.40it/s]\nDownloading:   0%|          | 0/1 [00:00<?, ?it/s]\nDownloading:   0%|          | 0/1 [00:00<?, ?it/s]\nDownloading: 100%|██████████| 1/1 [00:00<00:00, 29.01it/s]\nDownloading:   0%|          | 0/1 [00:00<?, ?it/s]\nDownloading:   0%|          | 0/1 [00:00<?, ?it/s]\nDownloading:   0%|          | 0/1 [00:00<?, ?it/s]\nDownloading: 100%|██████████| 1/1 [00:00<00:00, 33.72it/s]\nDownloading:   0%|          | 0/1 [00:00<?, ?it/s]\nDownloading:   0%|          | 0/1 [00:00<?, ?it/s]\nDownloading: 100%|██████████| 1/1 [00:00<00:00, 27.61it/s]\nDownloading:   0%|          | 0/1 [00:00<?, ?it/s]\nDownloading:   0%|          | 0/1 [00:00<?, ?it/s]\nDownloading:   0%|          | 0/1 [00:00<?, ?it/s]\nDownloading: 100%|██████████| 1/1 [00:00<00:00, 30.36it/s]\nDownloading:   0%|          | 0/1 [00:00<?, ?it/s]\nDownloading:   0%|          | 0/1 [00:00<?, ?it/s]\nDownloading:   0%|          | 0/1 [00:00<?, ?it/s]\n"
    },
    {
     "output_type": "execute_result",
     "data": {
      "text/plain": "['demo_2_0_10_7_4.feather']"
     },
     "metadata": {},
     "execution_count": 6
    }
   ],
   "source": [
    "df_lin = lin.fit(seg_ids=[2, 7], num_verts=10, file_path='demo_2_', batch_size=10, start_seg=7, start_vert=4)"
   ]
  },
  {
   "cell_type": "code",
   "execution_count": 7,
   "metadata": {},
   "outputs": [
    {
     "output_type": "execute_result",
     "data": {
      "text/plain": "['demo_2_0_10_7_4.feather']"
     },
     "metadata": {},
     "execution_count": 7
    }
   ],
   "source": [
    "sorted(glob.glob('demo_2*.feather'))"
   ]
  },
  {
   "cell_type": "code",
   "execution_count": null,
   "metadata": {},
   "outputs": [],
   "source": []
  }
 ],
 "metadata": {
  "kernelspec": {
   "display_name": "Python 3.7.6 64-bit ('scipydev': conda)",
   "language": "python",
   "name": "python37664bitscipydevcondaa561a5f26f384a3d8eec296dbbf704a7"
  },
  "language_info": {
   "codemirror_mode": {
    "name": "ipython",
    "version": 3
   },
   "file_extension": ".py",
   "mimetype": "text/x-python",
   "name": "python",
   "nbconvert_exporter": "python",
   "pygments_lexer": "ipython3",
   "version": "3.7.3-final"
  }
 },
 "nbformat": 4,
 "nbformat_minor": 2
}