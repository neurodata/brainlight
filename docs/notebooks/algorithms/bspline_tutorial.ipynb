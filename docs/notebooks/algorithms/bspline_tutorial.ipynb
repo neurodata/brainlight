{
 "cells": [
  {
   "cell_type": "markdown",
   "metadata": {},
   "source": [
    "# B-spline interpolation tutorial\n",
    "\n",
    "This tutorial contains a synthetic interpolation example to compare results between [`spline_fxns.py`](https://github.com/NeuroDataDesign/brainlit/blob/jaco-sprint1/brainlit/algorithms/generate_fragments/spline_fxns.py) and the scipy class [`scipy.interpolate.BSpline`](https://docs.scipy.org/doc/scipy/reference/generated/scipy.interpolate.BSpline.html).\n",
    "\n",
    "We are going to interpolate the 3D curve\n",
    "\n",
    "$f(u) = \\left[u^3, \\sin u, u^2\\right], u \\in [-\\pi, \\pi]$\n",
    "\n",
    "And compute its first and second derivatives component-wise."
   ]
  },
  {
   "cell_type": "markdown",
   "metadata": {},
   "source": [
    "## 1. Define and show the curve"
   ]
  },
  {
   "cell_type": "code",
   "execution_count": null,
   "metadata": {},
   "outputs": [],
   "source": [
    "import numpy as np\n",
    "import matplotlib.pyplot as plt\n",
    "from scipy.interpolate import splder, splprep, splrep, BSpline\n",
    "from brainlit.algorithms.generate_fragments import spline_fxns\n",
    "\n",
    "# define the paremeter space\n",
    "theta = np.linspace(-np.pi, np.pi)\n",
    "# define f(u)\n",
    "X = theta**3\n",
    "Y = np.sin(theta)\n",
    "Z = theta**2\n",
    "# define df(u)\n",
    "dX = 3 * theta**2\n",
    "dY = np.cos(theta)\n",
    "dZ = 2 * theta\n",
    "# define ddf(u)\n",
    "ddX = 6 * theta\n",
    "ddY = -np.sin(theta)\n",
    "ddZ = 2 * np.ones(len(theta))\n",
    "\n",
    "C = [X, Y, Z]\n",
    "dC = [dX, dY, dZ]\n",
    "ddC = [ddX, ddY, ddZ]\n",
    "\n",
    "fig = plt.figure()\n",
    "ax = fig.add_subplot(1, 1, 1, projection=\"3d\")\n",
    "ax.plot(X, Y, Z)\n",
    "ax.set_xlabel(\"X\")\n",
    "ax.set_ylabel(\"Y\")\n",
    "ax.set_zlabel(\"Z\")\n",
    "ax.set_title(r\"$f(u) = [u^3, sin(u), u^2], u \\in [-\\pi, \\pi]$\")\n",
    "plt.show()"
   ]
  },
  {
   "cell_type": "markdown",
   "metadata": {},
   "source": [
    "## 2. Compare the results"
   ]
  },
  {
   "cell_type": "code",
   "execution_count": null,
   "metadata": {},
   "outputs": [],
   "source": [
    "# find the B-spline that interpolates the curve\n",
    "tck, u = splprep(C, u=theta, k=5)\n",
    "t = tck[0]\n",
    "cs = tck[1]\n",
    "k = tck[2]\n",
    "# define the components of f\n",
    "dim = len(cs)\n",
    "dims = [\"x\", \"y\", \"z\"]\n",
    "fs = [r\"$u^3$\", r\"$\\sin(u)$\", r\"$x^2$\"]\n",
    "\n",
    "# show the target functions\n",
    "fig = plt.figure(figsize=(12, 5))\n",
    "axes = fig.subplots(1, 3)\n",
    "for i, coord in enumerate(cs):\n",
    "    ax = axes[i]\n",
    "    ax.plot(theta, C[i], label=r\"$f_%s$\" % dims[i])\n",
    "    ax.plot(theta, dC[i], label=r\"$\\partial f_%s/\\partial %s$\" % (dims[i], dims[i]))\n",
    "    ax.plot(\n",
    "        theta, ddC[i], label=r\"$\\partial^2 f_%s/\\partial %s^2$\" % (dims[i], dims[i])\n",
    "    )\n",
    "    ax.set_xlabel(r\"$\\theta$\")\n",
    "    ax.set_title(r\"$f_%s$ = %s\" % (dims[i], fs[i]))\n",
    "    ax.legend(loc=\"lower left\")\n",
    "fig.suptitle(\"Target functions\")\n",
    "\n",
    "# show the results for the built-in scipy class\n",
    "fig = plt.figure(figsize=(12, 5))\n",
    "axes = fig.subplots(1, 3)\n",
    "for i, coord in enumerate(cs):\n",
    "    ax = axes[i]\n",
    "    spl = BSpline(t, coord, k)\n",
    "    dspl = spl.derivative()\n",
    "    ddspl = dspl.derivative()\n",
    "    ax.plot(u, spl(u), \"--\", label=r\"$f_%s$\" % dims[i])\n",
    "    ax.plot(u, dspl(u), \"--\", label=r\"$\\partial f_%s/\\partial %s$\" % (dims[i], dims[i]))\n",
    "    ax.plot(\n",
    "        u, ddspl(u), \"--\", label=r\"$\\partial^2 f_%s/\\partial %s^2$\" % (dims[i], dims[i])\n",
    "    )\n",
    "    ax.set_xlabel(r\"$\\theta$\")\n",
    "    ax.set_title(r\"$f_%s$\" % dims[i])\n",
    "    ax.legend(loc=\"lower left\")\n",
    "fig.suptitle(\"scipy.interpolate.BSpline\")"
   ]
  },
  {
   "cell_type": "code",
   "execution_count": null,
   "metadata": {},
   "outputs": [],
   "source": []
  }
 ],
 "metadata": {
  "kernelspec": {
   "display_name": "Python 3.8.5 64-bit ('brainlit': conda)",
   "metadata": {
    "interpreter": {
     "hash": "23a6901d04df5a24b139bf940691d9158a219126a6bc30bd2116c3bca95057cb"
    }
   },
   "name": "Python 3.8.5 64-bit ('brainlit': conda)"
  },
  "language_info": {
   "codemirror_mode": {
    "name": "ipython",
    "version": 3
   },
   "file_extension": ".py",
   "mimetype": "text/x-python",
   "name": "python",
   "nbconvert_exporter": "python",
   "pygments_lexer": "ipython3",
   "version": "3.8.5-final"
  }
 },
 "nbformat": 4,
 "nbformat_minor": 2
}
