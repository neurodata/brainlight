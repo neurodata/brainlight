{
 "cells": [
  {
   "cell_type": "markdown",
   "metadata": {},
   "source": [
    "# Log Regression Classification"
   ]
  },
  {
   "cell_type": "code",
   "execution_count": null,
   "metadata": {},
   "outputs": [],
   "source": [
    "import brainlit\n",
    "from sklearn.preprocessing import StandardScaler\n",
    "from sklearn.model_selection import train_test_split\n",
    "from sklearn.neural_network import MLPClassifier\n",
    "from sklearn.linear_model import LogisticRegression\n",
    "import pandas as pd"
   ]
  },
  {
   "cell_type": "markdown",
   "metadata": {},
   "source": [
    "# Tutorial for running the log-regression classifiers on extracted features"
   ]
  },
  {
   "cell_type": "markdown",
   "metadata": {},
   "source": [
    "Loading extracted neighborhood features from csv file(This file will be changed to include the whole data).<br />\n",
    "The neighborhood here is a 4x4x4 with 64 features."
   ]
  },
  {
   "cell_type": "code",
   "execution_count": null,
   "metadata": {},
   "outputs": [],
   "source": [
    "output_feats = \"flat_neighbourhoods_3.csv\" ##File will be changed to include larger dataset\n",
    "df_iter = pd.read_csv(output_feats, header=None, index_col=0)\n",
    "n_features = df_iter.shape[1] - 1\n",
    "X_all = df_iter.iloc[:, :n_features]\n",
    "y_all = df_iter.iloc[:, n_features:]"
   ]
  },
  {
   "cell_type": "markdown",
   "metadata": {},
   "source": [
    "Normalizing and splitting the dataset"
   ]
  },
  {
   "cell_type": "code",
   "execution_count": null,
   "metadata": {},
   "outputs": [],
   "source": [
    "X_all = StandardScaler().fit_transform(X_all)\n",
    "X_sel, X_test, y_sel, y_test = train_test_split(\n",
    "    X_all, y_all, test_size=40, random_state=42)"
   ]
  },
  {
   "cell_type": "markdown",
   "metadata": {},
   "source": [
    "Setting up classifiers to train:<br />\n",
    "1) Multilayer Perceptron with 4 hiddenlayer, all layers having sigmoid activation.<br />\n",
    "2) Simple Logistic Regression classifier<br />\n",
    "3) Two layer Neural Network with output Logistic Regression layer with sigmoid activation and input layer is a fullyconnected layer with ReLU activation.<br />"
   ]
  },
  {
   "cell_type": "code",
   "execution_count": null,
   "metadata": {},
   "outputs": [],
   "source": [
    "classifiers = [\n",
    "    MLPClassifier(hidden_layer_sizes=4, activation=\"logistic\", alpha=1, max_iter=1000),\n",
    "    LogisticRegression(max_iter=2000),\n",
    "    MLP_LR_NN(X_sel, y_sel, n_features),\n",
    "]"
   ]
  },
  {
   "cell_type": "markdown",
   "metadata": {},
   "source": [
    "Running the classifiers on the train and test data to get accuracy of each classifier.<br />\n",
    "The accuracy, train time, test time, classifier name and number of iteration is stored in a csv file : \"test.csv\""
   ]
  },
  {
   "cell_type": "code",
   "execution_count": null,
   "metadata": {},
   "outputs": [],
   "source": [
    "names = {\"MLP-LR\": \"black\", \"LR\": \"blue\", \"MLP-relu-LR\": \"red\"}\n",
    "run_classifiers(\n",
    "        X_sel, y_sel, X_test, y_test, classifiers, names, filename=\"test.csv\")"
   ]
  },
  {
   "cell_type": "markdown",
   "metadata": {},
   "source": [
    "The data from \"test.csv\" can be plotted using the plot_data function as follows"
   ]
  },
  {
   "cell_type": "code",
   "execution_count": null,
   "metadata": {},
   "outputs": [],
   "source": [
    "fig,ax = plot_data(\"test.csv\", names, \"Accuracy\", \"Accuracy\", \"MLP-LR vs LR classification\")"
   ]
  }
 ],
 "metadata": {
  "kernelspec": {
   "display_name": "Python 3",
   "language": "python",
   "name": "python3"
  },
  "language_info": {
   "codemirror_mode": {
    "name": "ipython",
    "version": 3
   },
   "file_extension": ".py",
   "mimetype": "text/x-python",
   "name": "python",
   "nbconvert_exporter": "python",
   "pygments_lexer": "ipython3",
   "version": "3.7.4"
  }
 },
 "nbformat": 4,
 "nbformat_minor": 4
}