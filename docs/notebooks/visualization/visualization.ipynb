{
 "cells": [
  {
   "cell_type": "markdown",
   "metadata": {},
   "source": [
    "# Visualization Demo"
   ]
  },
  {
   "cell_type": "code",
   "execution_count": null,
   "metadata": {},
   "outputs": [],
   "source": [
    "import napari\n",
    "%gui qt5"
   ]
  },
  {
   "cell_type": "code",
   "execution_count": null,
   "metadata": {},
   "outputs": [],
   "source": [
    "from brainlit.utils.session import NeuroglancerSession\n",
    "from brainlit.utils.swc import *\n",
    "from brainlit.viz.visualize import *\n",
    "import numpy as np\n",
    "from skimage import io\n",
    "from pathlib import Path"
   ]
  },
  {
   "cell_type": "markdown",
   "metadata": {},
   "source": [
    "## Loading Data"
   ]
  },
  {
   "cell_type": "code",
   "execution_count": null,
   "metadata": {
    "tags": []
   },
   "outputs": [],
   "source": [
    "data_dir = str(Path().resolve().parents[2] / \"tests\" / \"upload\" / \"test_precomputed_serial\")\n",
    "swc_dir = str(Path().resolve().parents[2] / \"tests\" / \"upload_segments\")\n",
    "dest_dir = str(Path().resolve().parents[0] / \"utils\" / \"upload\")\n",
    "dest_dir_segments = str(Path().resolve().parents[0] / \"utils\" / \"upload_segments\")\n",
    "themip = 0\n",
    "sid = 2\n",
    "vid = 300"
   ]
  },
  {
   "cell_type": "code",
   "execution_count": null,
   "metadata": {},
   "outputs": [],
   "source": [
    "# Create a neuroglancersession\n",
    "ngl_sess = NeuroglancerSession(\n",
    "    url=\"file://\"+dest_dir, \n",
    "    url_segments=\"file://\"+dest_dir_segments,\n",
    "    mip=themip\n",
    ")"
   ]
  },
  {
   "cell_type": "code",
   "execution_count": null,
   "metadata": {
    "tags": []
   },
   "outputs": [],
   "source": [
    "img, bbbox, vox = ngl_sess.pull_voxel(sid, vid, 1, 1, 1)"
   ]
  },
  {
   "cell_type": "code",
   "execution_count": null,
   "metadata": {
    "tags": []
   },
   "outputs": [],
   "source": [
    "skel = ngl_sess.cv_segments.skeleton.get(sid)\n",
    "vertex = skel.vertices[vid]/ngl_sess.cv_segments.scales[themip][\"resolution\"]\n",
    "print(vertex)"
   ]
  },
  {
   "cell_type": "code",
   "execution_count": null,
   "metadata": {},
   "outputs": [],
   "source": [
    "viewer = napari.Viewer(ndisplay=3)\n",
    "viewer.add_image(np.squeeze(np.array(img)))\n",
    "viewer.add_points(data=np.array(vertex), edge_width=5, edge_color='green', name='vertex')"
   ]
  },
  {
   "cell_type": "markdown",
   "metadata": {},
   "source": [
    "## 2D Visualization"
   ]
  },
  {
   "cell_type": "code",
   "execution_count": null,
   "metadata": {},
   "outputs": [],
   "source": [
    "plot_image_2d(img[:,100,:])"
   ]
  },
  {
   "cell_type": "code",
   "execution_count": null,
   "metadata": {},
   "outputs": [],
   "source": [
    "fig1, axes = plot_image_2d(img[50,:,:])\n",
    "axes.set_title('First Dimension')\n",
    "\n",
    "fig2, axes = plot_image_2d(img[:,50,:])\n",
    "axes.set_title('Second Dimension')\n",
    "    \n",
    "fig3, axes = plot_image_2d(img[:,:,50])\n",
    "axes.set_title('Third Dimension')"
   ]
  },
  {
   "cell_type": "markdown",
   "metadata": {},
   "source": [
    "## Max intensity projection"
   ]
  },
  {
   "cell_type": "code",
   "execution_count": null,
   "metadata": {
    "tags": []
   },
   "outputs": [],
   "source": [
    "fig, axis = plot_image_mip(img)\n",
    "print(type(fig))"
   ]
  },
  {
   "cell_type": "markdown",
   "metadata": {},
   "source": [
    "## Histogram Plot of Image Intensities"
   ]
  },
  {
   "cell_type": "code",
   "execution_count": null,
   "metadata": {},
   "outputs": [],
   "source": [
    "fig = plot_image_hist(img)"
   ]
  },
  {
   "cell_type": "markdown",
   "metadata": {},
   "source": [
    "## Visualizing all successors or predecessors of a given vertex up to a given depth"
   ]
  },
  {
   "cell_type": "code",
   "execution_count": null,
   "metadata": {},
   "outputs": [],
   "source": [
    "s3_path = \"file://\"+dest_dir_segments\n",
    "seg_id = 2\n",
    "df = read_s3(s3_path, seg_id, mip=themip)\n",
    "df.head()"
   ]
  },
  {
   "cell_type": "code",
   "execution_count": null,
   "metadata": {
    "tags": []
   },
   "outputs": [],
   "source": [
    "G = df_to_graph(df)\n",
    "print('Number of nodes:', len(G.nodes))\n",
    "print('Number of edges:', len(G.edges))\n",
    "print('\\n')\n",
    "print('Sample 1 coordinates (x,y,z)')\n",
    "print(G.nodes[1]['x'],G.nodes[1]['y'],G.nodes[1]['z'])\n",
    "\n",
    "paths = graph_to_paths(G=G)\n",
    "print(f\"The graph was decomposed into {len(paths)} paths\")"
   ]
  },
  {
   "cell_type": "code",
   "execution_count": null,
   "metadata": {},
   "outputs": [],
   "source": [
    "viewer = napari.Viewer(ndisplay=3)\n",
    "viewer.add_image(np.squeeze(np.array(img)))\n",
    "# viewer.add_points(data=np.concatenate(paths, axis=0)[1024:], edge_width=2, edge_color='white', name='all_points')\n",
    "viewer.add_shapes(data=paths, shape_type='path', edge_color='white', edge_width=3, name='skeleton')\n",
    "viewer.add_points(data=np.array(vertex), edge_width=5, edge_color='green', name='vertex')"
   ]
  },
  {
   "cell_type": "code",
   "execution_count": null,
   "metadata": {},
   "outputs": [],
   "source": [
    "v_id = 44  # the row index/number of the data frame\n",
    "depth = 30  # the depth up to which the graph must be constructed\n",
    "\n",
    "G_bfs=get_bfs_subgraph(G, v_id, depth, df=df)  # perform Breadth first search to obtain a graph of interest\n",
    "paths_bfs = graph_to_paths(G=G_bfs[0])  # obtain all the paths for visualization purposes"
   ]
  },
  {
   "cell_type": "code",
   "execution_count": null,
   "metadata": {},
   "outputs": [],
   "source": [
    "x = df.iloc[v_id]['x']\n",
    "y = df.iloc[v_id]['y']\n",
    "z = df.iloc[v_id]['z']\n",
    "v_pos = np.array([x,y,z])\n",
    "\n",
    "# display vertex\n",
    "viewer = napari.Viewer(ndisplay=3)\n",
    "viewer.add_points(data=v_pos, edge_width=20, edge_color='orange', name='vertex')\n",
    "\n",
    "# display all interest nodes around vertex\n",
    "viewer.add_points(data=np.concatenate(paths_bfs), edge_color='red', edge_width=2, name='subpoints')\n",
    "viewer.add_shapes(data=paths_bfs, shape_type='path', edge_color='red', edge_width=3, name='sub-skeleton')"
   ]
  },
  {
   "cell_type": "code",
   "execution_count": null,
   "metadata": {},
   "outputs": [],
   "source": []
  }
 ],
 "metadata": {
  "kernelspec": {
   "display_name": "Python 3",
   "language": "python",
   "name": "python3"
  },
  "language_info": {
   "codemirror_mode": {
    "name": "ipython",
    "version": 3
   },
   "file_extension": ".py",
   "mimetype": "text/x-python",
   "name": "python",
   "nbconvert_exporter": "python",
   "pygments_lexer": "ipython3",
   "version": "3.8.5"
  }
 },
 "nbformat": 4,
 "nbformat_minor": 2
}