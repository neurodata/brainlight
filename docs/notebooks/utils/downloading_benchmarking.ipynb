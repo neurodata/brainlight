{
 "cells": [
  {
   "cell_type": "markdown",
   "metadata": {},
   "source": [
    "#### This notebook explains how to:\n",
    "(1) Read benchmarking data from S3 via Neuroglancer \n",
    "\n",
    "(2) download raw benchmarking data to your local computer \n",
    "\n",
    "#### Quick notes on the benchmarking data:\n",
    "\n",
    "In octree format, data is labled in folders, labeled test_1 through test_25 and validation_1 through validation_25. \n",
    "\n",
    "If when downloading, you get a reshape error, try first uploading segments and then re-uploading the volumes. \n",
    "\n",
    "Known issues with a few of the files: \n",
    "\n",
    "- test_9,test_10 - didnt seem to have good swc alignment\n",
    "\n",
    "- test_24 - issues with the image\n",
    "\n",
    "- validation_11 - seems to be a shift between swcs and the image\n"
   ]
  },
  {
   "cell_type": "markdown",
   "metadata": {},
   "source": [
    "# Read benchmarking data from S3 with Neuroglancer\n"
   ]
  },
  {
   "cell_type": "markdown",
   "metadata": {},
   "source": [
    "##### Define locations"
   ]
  },
  {
   "cell_type": "code",
   "execution_count": 7,
   "metadata": {},
   "outputs": [],
   "source": [
    "from brainlit.utils import session\n",
    "from brainlit.utils.swc import graph_to_paths\n",
    "\n",
    "#Can change to test_\"1-25\", validation_\"1-25\"\n",
    "dest = \"s3://open-neurodata/brainlit/benchmarking_data/validation_7\" \n",
    "dest_segments = \"s3://open-neurodata/brainlit/benchmarking_data/validation_7\""
   ]
  },
  {
   "cell_type": "markdown",
   "metadata": {},
   "source": [
    "##### Create Neuroglancer session & download benchmarking volume"
   ]
  },
  {
   "cell_type": "code",
   "execution_count": 8,
   "metadata": {},
   "outputs": [],
   "source": [
    "%%capture\n",
    "sess = session.NeuroglancerSession(url=dest, url_segments=dest_segments, mip=0)  # create session object \n",
    "img, bounds, vertices = sess.pull_vertex_list(1, [1], 0, expand=True)  # get full benchmarking image"
   ]
  },
  {
   "cell_type": "markdown",
   "metadata": {},
   "source": [
    "##### Download a specific .swc"
   ]
  },
  {
   "cell_type": "code",
   "execution_count": 9,
   "metadata": {},
   "outputs": [
    {
     "name": "stderr",
     "output_type": "stream",
     "text": [
      "Downloading: 100%|████████████████████████████████████| 1/1 [00:00<00:00, 29.49it/s]\n"
     ]
    }
   ],
   "source": [
    "seg_id = 1 # Can change\n",
    "\n",
    "G = sess.get_segments(seg_id, bounds, rounding = False)\n",
    "paths = graph_to_paths(G)"
   ]
  },
  {
   "cell_type": "markdown",
   "metadata": {},
   "source": [
    "##### Download ALL associated .swc's "
   ]
  },
  {
   "cell_type": "code",
   "execution_count": 10,
   "metadata": {
    "scrolled": true
   },
   "outputs": [],
   "source": [
    "#paths = []\n",
    "\n",
    "#for id in range(1,30):\n",
    "#    try:\n",
    "#        G = sess.get_segments(id, bounds, rounding = False)\n",
    "#        p = graph_to_paths(G)\n",
    "#        paths.extend(p)\n",
    "#    except:\n",
    "#        print('End of seg_id list')\n",
    "#        break"
   ]
  },
  {
   "cell_type": "markdown",
   "metadata": {},
   "source": [
    "##### Visualize with napari"
   ]
  },
  {
   "cell_type": "code",
   "execution_count": 11,
   "metadata": {},
   "outputs": [],
   "source": [
    "import napari\n",
    "with napari.gui_qt():\n",
    "    viewer = napari.Viewer(ndisplay=3)\n",
    "    viewer.add_image(img)\n",
    "    viewer.add_shapes(data=paths, shape_type='path', edge_width=1.0, edge_color='blue', opacity=0.8)"
   ]
  },
  {
   "cell_type": "markdown",
   "metadata": {},
   "source": [
    "# Download RAW benchmarking data with AWS CLI\n",
    "\n",
    "###### This will download the benchmarking data in .tif and .swc format to a local destination"
   ]
  },
  {
   "cell_type": "markdown",
   "metadata": {},
   "source": [
    "### 1) Installing AWS CLI"
   ]
  },
  {
   "cell_type": "markdown",
   "metadata": {},
   "source": [
    "You can install AWS CLI for any major operating system:\n",
    "\n",
    "#### macOS \n",
    "(the full documentation uses pip, but Homebrew works more seamlessly):\n",
    "Documentation: https://docs.aws.amazon.com/cli/latest/userguide/cli-install-macos.html \n",
    "\n",
    "```brew install awscli```\n",
    "#### Linux \n",
    "Documentation: https://docs.aws.amazon.com/cli/latest/userguide/awscli-install-linux.html \n",
    "\n",
    "```$ pip install awscli```\n",
    "\n",
    "#### Windows\n",
    "Documentation: https://docs.aws.amazon.com/cli/latest/userguide/awscli-install-windows.html\n",
    "Installer: http://docs.aws.amazon.com/cli/latest/userguide/awscli-install-windows.html"
   ]
  },
  {
   "cell_type": "markdown",
   "metadata": {},
   "source": [
    "### 2) Configuring AWS CLI"
   ]
  },
  {
   "cell_type": "markdown",
   "metadata": {},
   "source": [
    "Run ```aws configure``` in any command line and follow the prompts.\n",
    "\n",
    "You will be asked for \n",
    "- AWS Access Key ID\n",
    "- AWS Secrety Access Key\n",
    "- Default Region Name: us-east-1, us-east-2, us-west-1, us-west-2, ...\n",
    "- Default output format: json, table, text"
   ]
  },
  {
   "cell_type": "markdown",
   "metadata": {},
   "source": [
    "### 3.1) Downloading .tif files"
   ]
  },
  {
   "cell_type": "markdown",
   "metadata": {},
   "source": [
    "Run the command ```aws s3 sync s3://open-neurodata/brainlit/benchmarking_data/tif-files/ sample-tif-location```\n",
    "\n",
    "Replace \"sample-tif-location\" with your respective download destination."
   ]
  },
  {
   "cell_type": "markdown",
   "metadata": {},
   "source": [
    "### 3.2) Accessing .tif files"
   ]
  },
  {
   "cell_type": "code",
   "execution_count": null,
   "metadata": {},
   "outputs": [],
   "source": [
    "from pathlib import Path\n",
    "import numpy as np\n",
    "from skimage import io"
   ]
  },
  {
   "cell_type": "markdown",
   "metadata": {},
   "source": [
    "This loops through and reads the .tif files in the download directory. Alter data_dir to point to your download location."
   ]
  },
  {
   "cell_type": "code",
   "execution_count": null,
   "metadata": {
    "scrolled": true
   },
   "outputs": [],
   "source": [
    "%%capture\n",
    "data_dir = Path().resolve().parents[5] / \"Downloads\" / \"sample-tif-location\"\n",
    "im_files = list(data_dir.glob(\"**/*.tif\"))\n",
    "\n",
    "for im_num, im_file in enumerate(im_files):\n",
    "    print(f\"Image {im_num}/{len(im_files)}\")\n",
    "    print(im_file)\n",
    "    f = im_file.parts[-1][:-8] + \"-gfp.tif\" \n",
    "    im = io.imread(im_file, plugin=\"tifffile\") "
   ]
  },
  {
   "cell_type": "markdown",
   "metadata": {},
   "source": [
    "The below code can visualize a specified .tif file. To visualize tif files with .swc overlaid, run the data through the image mask generation notebook."
   ]
  },
  {
   "cell_type": "code",
   "execution_count": null,
   "metadata": {},
   "outputs": [],
   "source": [
    "import napari\n",
    "\n",
    "file_name = \"test_10-gfp.tif\" # Can change to any image (test 1-25, validation 1-25)\n",
    "\n",
    "im_file = data_dir / file_name\n",
    "im = io.imread(im_file, plugin=\"tifffile\") \n",
    "    \n",
    "with napari.gui_qt():\n",
    "    viewer = napari.Viewer(ndisplay=3)\n",
    "    viewer.add_image(im)"
   ]
  },
  {
   "cell_type": "markdown",
   "metadata": {},
   "source": [
    "### 4.1) Downloading .swc files"
   ]
  },
  {
   "cell_type": "markdown",
   "metadata": {},
   "source": [
    "Run the command ```aws s3 sync s3://open-neurodata/brainlit/benchmarking_data/Manual-GT/ sample-tif-location/sample-swc-location```\n",
    "\n",
    "Replace \"sample-swc-location\" with your respective download destination. Download it inside the .tif folder to maintain octree format"
   ]
  },
  {
   "cell_type": "markdown",
   "metadata": {},
   "source": [
    "### 4.2) Accessing .swc files"
   ]
  },
  {
   "cell_type": "markdown",
   "metadata": {},
   "source": [
    "This loops through the .swc files in the download directory. Alter data_dir to point to your file download location.\n"
   ]
  },
  {
   "cell_type": "code",
   "execution_count": null,
   "metadata": {},
   "outputs": [],
   "source": [
    "%%capture\n",
    "data_dir = Path().resolve().parents[5] / \"Downloads\" / \"sample-swc-location\" \n",
    "swc_files = list(data_dir.glob(\"**/*.swc\"))\n",
    "\n",
    "for swc_num, swc_file in enumerate(swc_files):\n",
    "    print(f\"SWC {swc_num}/{len(swc_files)}\")\n",
    "    print(swc_file)\n",
    "    image_name = swc_file.parts[6]\n",
    "    swc_num = swc_file.parts[7]"
   ]
  },
  {
   "cell_type": "markdown",
   "metadata": {},
   "source": [
    "### 5) Aligning and visualizing images & swcs"
   ]
  },
  {
   "cell_type": "code",
   "execution_count": null,
   "metadata": {},
   "outputs": [],
   "source": [
    "from brainlit.utils.benchmarking_params import brain_offsets, vol_offsets, scales, type_to_date\n",
    "from brainlit.utils.swc import read_swc, df_to_graph, graph_to_paths\n",
    "from pathlib import Path\n",
    "import numpy as np\n",
    "from skimage import io\n",
    "import napari"
   ]
  },
  {
   "cell_type": "code",
   "execution_count": null,
   "metadata": {},
   "outputs": [],
   "source": [
    "im_dir = Path(\"C:/Users/shrey/Downloads/sample-tif-location\")\n",
    "\n",
    "gfp_files = list(im_dir.glob(\"**/*-gfp.tif\"))\n",
    "\n",
    "swc_base_path = im_dir / \"sample-swc-location\""
   ]
  },
  {
   "cell_type": "code",
   "execution_count": null,
   "metadata": {
    "scrolled": true
   },
   "outputs": [],
   "source": [
    "%%capture\n",
    "for im_num, im_path in enumerate(gfp_files):\n",
    "    \n",
    "    print(f\"Image {im_num+1}/{len(gfp_files)}\")\n",
    "    print(im_path)\n",
    "    \n",
    "    f = im_path.parts[-1][:-8].split(\"_\")\n",
    "    image = f[0]\n",
    "    date = type_to_date[image]\n",
    "    num = int(f[1])\n",
    "\n",
    "    scale = scales[date]\n",
    "    brain_offset = brain_offsets[date]\n",
    "    vol_offset = vol_offsets[date][num]\n",
    "    im_offset = np.add(brain_offset, vol_offset)\n",
    "\n",
    "    lower = int(np.floor((num - 1) / 5) * 5 + 1)\n",
    "    upper = int(np.floor((num - 1) / 5) * 5 + 5)\n",
    "    dir1 = date + \"_\" + image + \"_\" + str(lower) + \"-\" + str(upper)\n",
    "    dir2 = date + \"_\" + image + \"_\" + str(num)\n",
    "    swc_path = swc_base_path / dir1 / dir2\n",
    "\n",
    "    swc_files = list(swc_path.glob(\"**/*.swc\"))\n",
    "    im = io.imread(im_path, plugin=\"tifffile\")\n",
    "    print(f\"Image shape: {im.shape}\")\n",
    "\n",
    "    paths_total = []\n",
    "    for swc_num, swc in enumerate(swc_files):\n",
    "        if \"0\" in swc.parts[-1]:\n",
    "            # skip the bounding box swc\n",
    "            continue\n",
    "\n",
    "        df, swc_offset, _, _, _ = read_swc(swc)\n",
    "\n",
    "        offset_diff = np.subtract(swc_offset, im_offset)\n",
    "        G = df_to_graph(df)\n",
    "\n",
    "        paths = graph_to_paths(G)\n",
    "       \n",
    "        for path_num, p in enumerate(paths):\n",
    "            pvox = (p + offset_diff) / (scale) * 1000\n",
    "            paths_total.append(pvox)\n",
    "            \n",
    "    with napari.gui_qt():\n",
    "        viewer = napari.Viewer(ndisplay=3)\n",
    "        viewer.add_image(np.swapaxes(im,0,2))\n",
    "        viewer.add_shapes(data=paths_total, shape_type='path', edge_width=1.0, edge_color='blue', opacity=0.8)"
   ]
  }
 ],
 "metadata": {
  "kernelspec": {
   "display_name": "Python 3",
   "language": "python",
   "name": "python3"
  },
  "language_info": {
   "codemirror_mode": {
    "name": "ipython",
    "version": 3
   },
   "file_extension": ".py",
   "mimetype": "text/x-python",
   "name": "python",
   "nbconvert_exporter": "python",
   "pygments_lexer": "ipython3",
   "version": "3.7.9"
  }
 },
 "nbformat": 4,
 "nbformat_minor": 4
}
