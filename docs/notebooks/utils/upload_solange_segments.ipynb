{
 "metadata": {
  "language_info": {
   "codemirror_mode": {
    "name": "ipython",
    "version": 3
   },
   "file_extension": ".py",
   "mimetype": "text/x-python",
   "name": "python",
   "nbconvert_exporter": "python",
   "pygments_lexer": "ipython3",
   "version": "3.8.6"
  },
  "orig_nbformat": 2,
  "kernelspec": {
   "name": "env",
   "display_name": "Python 3.8.6  ('env': venv)"
  }
 },
 "nbformat": 4,
 "nbformat_minor": 2,
 "cells": [
  {
   "cell_type": "code",
   "execution_count": 1,
   "metadata": {},
   "outputs": [
    {
     "output_type": "stream",
     "name": "stderr",
     "text": [
      "/Users/thomasathey/Documents/mimlab/mouselight/env/lib/python3.8/site-packages/python_jsonschema_objects/__init__.py:50: UserWarning: Schema version http://json-schema.org/draft-04/schema not recognized. Some keywords and features may not be supported.\n  warnings.warn(\n"
     ]
    }
   ],
   "source": [
    "from cloudvolume import CloudVolume, Skeleton"
   ]
  },
  {
   "cell_type": "code",
   "execution_count": 2,
   "metadata": {},
   "outputs": [],
   "source": [
    "dest_segments = \"s3://open-neurodata/brainlit/brain2_segments_solange\"\n",
    "vol = CloudVolume(dest_segments)"
   ]
  },
  {
   "cell_type": "code",
   "execution_count": 3,
   "metadata": {},
   "outputs": [],
   "source": [
    "with open(\"/Users/thomasathey/Documents/mimlab/mouselight/solange/Neuron_1_axon_consensus_final.swc\") as f:\n",
    "    text = f.read()\n",
    "skel = Skeleton.from_swc(text)"
   ]
  },
  {
   "cell_type": "code",
   "execution_count": 8,
   "metadata": {},
   "outputs": [
    {
     "output_type": "execute_result",
     "data": {
      "text/plain": [
       "float"
      ]
     },
     "metadata": {},
     "execution_count": 8
    }
   ],
   "source": [
    "type(skel.vertices.tolist()[0][0])"
   ]
  },
  {
   "cell_type": "code",
   "execution_count": 22,
   "metadata": {},
   "outputs": [],
   "source": [
    "import struct\n",
    "from io import BytesIO\n",
    "# assume you have a skeleton object already\n",
    "# called `skel`\n",
    "skel_bio = BytesIO()\n",
    "# write the number of vertices and edges\n",
    "skel_bio.write(struct.pack('<I',skel.vertices.shape[0]))\n",
    "skel_bio.write(struct.pack('<I',skel.edges.shape[0]))\n",
    "# write the actual vertices and edges\n",
    "skel_bio.write(skel.vertices.astype('float32').tostring())\n",
    "skel_bio.write(skel.edges.astype('uint32').tostring())\n",
    "# write the file\n",
    "with open('/Users/thomasathey/Documents/mimlab/mouselight/solange/101', 'wb') as fp:\n",
    "    fp.write(skel_bio.getbuffer())"
   ]
  },
  {
   "cell_type": "code",
   "execution_count": 19,
   "metadata": {},
   "outputs": [
    {
     "output_type": "execute_result",
     "data": {
      "text/plain": [
       "array([[   1,    0],\n",
       "       [   2,    1],\n",
       "       [   3,    2],\n",
       "       ...,\n",
       "       [2623, 2622],\n",
       "       [2624, 2623],\n",
       "       [2625, 2619]], dtype=uint32)"
      ]
     },
     "metadata": {},
     "execution_count": 19
    }
   ],
   "source": [
    "skel.edges"
   ]
  },
  {
   "cell_type": "code",
   "execution_count": 131,
   "metadata": {},
   "outputs": [
    {
     "output_type": "stream",
     "name": "stdout",
     "text": [
      "Skeleton(segid=101, vertices=(shape=3783, float64), edges=(shape=3782, uint32), radius=(3783, float32), vertex_types=(3783, uint8), space='physical' transform=[[1.0, 0.0, 0.0, 0.0], [0.0, 1.0, 0.0, 0.0], [0.0, 0.0, 1.0, 0.0]])\nSkeleton(segid=2, vertices=(shape=7872, float32), edges=(shape=7871, uint32), radius=(7872, float32), vertex_types=(7872, uint8), space='physical' transform=[[1.0, 0.0, 0.0, 0.0], [0.0, 1.0, 0.0, 0.0], [0.0, 0.0, 1.0, 0.0]])\n"
     ]
    }
   ],
   "source": [
    "print(skel)\n",
    "print(skel2)"
   ]
  },
  {
   "cell_type": "code",
   "execution_count": 130,
   "metadata": {},
   "outputs": [],
   "source": [
    "skel.id = 101\n",
    "skel.space= 'physical'"
   ]
  },
  {
   "cell_type": "code",
   "execution_count": 100,
   "metadata": {},
   "outputs": [],
   "source": [
    "import numpy as np\n",
    "skel.vertices = (skel.vertices + np.array([[62538.535211, 52094.467848, 24439.070841]]))"
   ]
  },
  {
   "cell_type": "code",
   "execution_count": 128,
   "metadata": {},
   "outputs": [],
   "source": [
    "skel.vertices = ((skel.vertices - np.amin(skel.vertices,axis=0))*100 + np.array([[ 785976.4,  1485262.6,   468177.62]]))"
   ]
  },
  {
   "cell_type": "code",
   "execution_count": 137,
   "metadata": {},
   "outputs": [
    {
     "output_type": "stream",
     "name": "stdout",
     "text": [
      "[ 785976.4  1485262.6   468177.62]\n[9928148.  5241548.  5606111.5]\n[ 785976.4  1485262.6   468177.62]\n[1005099.196875 1951454.19375  1319034.87    ]\n"
     ]
    }
   ],
   "source": [
    "print(np.amin(skel2.vertices,axis=0))\n",
    "print(np.amax(skel2.vertices,axis=0))\n",
    "print(np.amin(skel.vertices,axis=0))\n",
    "print(np.amax(skel.vertices,axis=0))"
   ]
  },
  {
   "cell_type": "code",
   "execution_count": 147,
   "metadata": {},
   "outputs": [
    {
     "output_type": "stream",
     "name": "stderr",
     "text": [
      "Uploading: 100%|██████████| 1/1 [00:00<00:00,  2.52it/s]\n"
     ]
    }
   ],
   "source": [
    "vol.skeleton.upload(skel2)"
   ]
  },
  {
   "cell_type": "code",
   "execution_count": 149,
   "metadata": {},
   "outputs": [
    {
     "output_type": "stream",
     "name": "stderr",
     "text": [
      "Uploading: 100%|██████████| 1/1 [00:00<00:00,  3.05it/s]\n"
     ]
    }
   ],
   "source": [
    "vol.skeleton.upload_raw(2, skel2.vertices, skel2.edges, skel2.radii, skel2.vertex_types)"
   ]
  },
  {
   "cell_type": "code",
   "execution_count": 132,
   "metadata": {},
   "outputs": [
    {
     "output_type": "stream",
     "name": "stderr",
     "text": [
      "Uploading: 100%|██████████| 1/1 [00:00<00:00,  3.94it/s]\n"
     ]
    }
   ],
   "source": []
  },
  {
   "cell_type": "code",
   "execution_count": 86,
   "metadata": {},
   "outputs": [
    {
     "output_type": "execute_result",
     "data": {
      "text/plain": [
       "array([[8576797. , 2549391.5, 2890955. ],\n",
       "       [8575797. , 2550399.5, 2890955. ],\n",
       "       [8547766. , 2563266.5, 2905509.8],\n",
       "       ...,\n",
       "       [8537523. , 2426778.2, 2885632.8],\n",
       "       [8541164. , 2414137.8, 2878021.5],\n",
       "       [8530156. , 2411641.5, 2879613.2]], dtype=float32)"
      ]
     },
     "metadata": {},
     "execution_count": 86
    }
   ],
   "source": [
    "skel2.vertices"
   ]
  },
  {
   "source": [
    "# Download then Upload"
   ],
   "cell_type": "markdown",
   "metadata": {}
  },
  {
   "cell_type": "code",
   "execution_count": 16,
   "metadata": {},
   "outputs": [
    {
     "output_type": "stream",
     "name": "stderr",
     "text": [
      "Downloading: 100%|██████████| 1/1 [00:00<00:00, 12.07it/s]\n"
     ]
    }
   ],
   "source": [
    "og_path = \"s3://open-neurodata/brainlit/brain2_segments\"\n",
    "vol = CloudVolume(og_path)\n",
    "skel = vol.skeleton.get(1)"
   ]
  },
  {
   "cell_type": "code",
   "execution_count": 7,
   "metadata": {},
   "outputs": [],
   "source": [
    "skel101 = skel\n",
    "skel101.id = 101"
   ]
  },
  {
   "cell_type": "code",
   "execution_count": 8,
   "metadata": {},
   "outputs": [
    {
     "output_type": "stream",
     "name": "stderr",
     "text": [
      "Uploading: 100%|██████████| 1/1 [00:00<00:00,  3.64it/s]\n"
     ]
    }
   ],
   "source": [
    "vol.skeleton.upload(skel101)"
   ]
  },
  {
   "cell_type": "code",
   "execution_count": 9,
   "metadata": {},
   "outputs": [
    {
     "output_type": "execute_result",
     "data": {
      "text/plain": [
       "True"
      ]
     },
     "metadata": {},
     "execution_count": 9
    }
   ],
   "source": [
    "Skeleton.equivalent(skel, skel101)"
   ]
  },
  {
   "cell_type": "code",
   "execution_count": 144,
   "metadata": {},
   "outputs": [
    {
     "output_type": "execute_result",
     "data": {
      "text/plain": [
       "True"
      ]
     },
     "metadata": {},
     "execution_count": 144
    }
   ],
   "source": [
    "skel2 == skel101"
   ]
  },
  {
   "cell_type": "code",
   "execution_count": 143,
   "metadata": {},
   "outputs": [],
   "source": [
    "skel101.id = 2"
   ]
  },
  {
   "cell_type": "code",
   "execution_count": null,
   "metadata": {},
   "outputs": [],
   "source": []
  }
 ]
}